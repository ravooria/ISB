{
 "metadata": {
  "language_info": {
   "codemirror_mode": {
    "name": "ipython",
    "version": 3
   },
   "file_extension": ".py",
   "mimetype": "text/x-python",
   "name": "python",
   "nbconvert_exporter": "python",
   "pygments_lexer": "ipython3",
   "version": "3.8.9"
  },
  "orig_nbformat": 2,
  "kernelspec": {
   "name": "python389jvsc74a57bd0e6160e7fcfc2d302f7fa9c129797e33c786afb51ec1e4a07bed8ee4a4c20492c",
   "display_name": "Python 3.8.9 64-bit (windows store)"
  },
  "metadata": {
   "interpreter": {
    "hash": "e6160e7fcfc2d302f7fa9c129797e33c786afb51ec1e4a07bed8ee4a4c20492c"
   }
  }
 },
 "nbformat": 4,
 "nbformat_minor": 2,
 "cells": [
  {
   "cell_type": "code",
   "execution_count": 70,
   "metadata": {},
   "outputs": [],
   "source": [
    "import pandas as pd\n",
    "import os\n",
    "os.chdir('C:\\\\Users\\\\akhil\\\\Downloads')\n",
    "mfi=pd.read_stata('KCC_cnt (1).dta')"
   ]
  },
  {
   "cell_type": "code",
   "execution_count": 71,
   "metadata": {},
   "outputs": [
    {
     "output_type": "stream",
     "name": "stdout",
     "text": [
      "['' 'Semi-Urban' 'Rural' 'Urban'] ['PSU Banks' 'Private Banks' 'Others' 'NBFCs']\n"
     ]
    }
   ],
   "source": [
    "mfi.columns\n",
    "ru_type=mfi['ru_classification'].unique()\n",
    "len_type=mfi['lendertype'].unique()\n",
    "print(ru_type,len_type)"
   ]
  },
  {
   "cell_type": "code",
   "execution_count": 72,
   "metadata": {},
   "outputs": [],
   "source": [
    "rural=[]\n",
    "semi_urban=[]\n",
    "urban=[]\n",
    "others_len=[]\n",
    "psu=[]\n",
    "priv_banks=[]\n",
    "nbfc=[]\n",
    "for i in range(mfi.shape[0]):\n",
    "    if(mfi.ru_classification.iat[i]=='Rural'):\n",
    "        rural.append(1)\n",
    "        semi_urban.append(0)\n",
    "        urban.append(0)\n",
    "    elif(mfi.ru_classification.iat[i]=='Urban'):\n",
    "        rural.append(0)\n",
    "        semi_urban.append(0)\n",
    "        urban.append(1)\n",
    "    elif(mfi.ru_classification.iat[i]=='Semi-Urban'):\n",
    "        rural.append(0)\n",
    "        semi_urban.append(1)\n",
    "        urban.append(0)\n",
    "    else:\n",
    "        rural.append(0)\n",
    "        semi_urban.append(0)\n",
    "        urban.append(0)\n",
    "len_type=['Others', 'PSU Banks', 'Private Banks', 'NBFCs']\n",
    "for i in range(mfi.shape[0]):\n",
    "    if(mfi.lendertype.iat[i]==len_type[0]):\n",
    "        others_len.append(1)\n",
    "        psu.append(0)\n",
    "        nbfc.append(0)\n",
    "        priv_banks.append(0)\n",
    "    elif(mfi.lendertype.iat[i]==len_type[1]):\n",
    "        others_len.append(0)\n",
    "        psu.append(1)\n",
    "        nbfc.append(0)\n",
    "        priv_banks.append(0)\n",
    "    elif(mfi.lendertype.iat[i]==len_type[2]):\n",
    "        others_len.append(0)\n",
    "        psu.append(0)\n",
    "        nbfc.append(0)\n",
    "        priv_banks.append(1)\n",
    "    elif(mfi.lendertype.iat[i]==len_type[3]):\n",
    "        others_len.append(0)\n",
    "        psu.append(0)\n",
    "        nbfc.append(1)\n",
    "        priv_banks.append(0)\n",
    "    else:\n",
    "        others_len.append(0)\n",
    "        psu.append(0)\n",
    "        nbfc.append(0)\n",
    "        priv_banks.append(0)\n"
   ]
  },
  {
   "cell_type": "code",
   "execution_count": 73,
   "metadata": {},
   "outputs": [],
   "source": [
    "mfi['dummy_rural']=rural\n",
    "mfi['urban']=urban\n",
    "mfi['dummy_semi_urban']=semi_urban\n",
    "mfi['dummy_psu']=psu\n",
    "mfi['dummy_others_len']=others_len\n",
    "mfi['dummy_priv']=priv_banks\n",
    "mfi['dummy_nbfcs']=nbfc"
   ]
  },
  {
   "cell_type": "code",
   "execution_count": 74,
   "metadata": {},
   "outputs": [],
   "source": [
    "border_markings=pd.read_csv('districts_correct.csv')"
   ]
  },
  {
   "cell_type": "code",
   "execution_count": 75,
   "metadata": {},
   "outputs": [],
   "source": [
    "cols2=['night_lights', 'qrt_yr', 'district', 'rainfall', 'disbursal_period_actual', 'quarterofbookclosingperoid', 'state','ru_classification', 'lendertype', 'avgticketsizelakhs','val_def','volume_def','volume_default_90_plus', 'value_default_90_plus','int_ay', 'int_pmk', 'pre_lend','dummy_rural', 'urban', 'dummy_semi_urban', 'dummy_psu','dummy_others_len', 'dummy_priv', 'dummy_nbfcs']"
   ]
  },
  {
   "cell_type": "code",
   "execution_count": 76,
   "metadata": {},
   "outputs": [],
   "source": [
    "mfi1=mfi[cols2]"
   ]
  },
  {
   "cell_type": "code",
   "execution_count": 77,
   "metadata": {},
   "outputs": [],
   "source": [
    "mfi1=mfi1.merge(border_markings,on='district')"
   ]
  },
  {
   "cell_type": "code",
   "execution_count": 78,
   "metadata": {},
   "outputs": [],
   "source": [
    "mfi_bord=mfi1[mfi1['border']==1]"
   ]
  },
  {
   "cell_type": "code",
   "execution_count": 79,
   "metadata": {},
   "outputs": [],
   "source": [
    "df_new=mfi_bord[(mfi_bord['PB']==1)|(mfi_bord['HR']==1)]"
   ]
  },
  {
   "cell_type": "code",
   "execution_count": 80,
   "metadata": {},
   "outputs": [
    {
     "output_type": "execute_result",
     "data": {
      "text/plain": [
       "array(['UP', 'RJ', 'HR', 'PB', 'HP', 'UK', 'JK', 'DL', 'CH'], dtype=object)"
      ]
     },
     "metadata": {},
     "execution_count": 80
    }
   ],
   "source": [
    "df_new.state.unique()"
   ]
  },
  {
   "cell_type": "code",
   "execution_count": 11,
   "metadata": {},
   "outputs": [
    {
     "output_type": "execute_result",
     "data": {
      "text/plain": [
       "array(['FY 2017-2018 Q1', 'FY 2017-2018 Q3', 'FY 2017-2018 Q2',\n",
       "       'BEFORE FY 2017-18', 'FY 2018-2019 Q2', 'FY 2018-2019 Q3',\n",
       "       'OTHERS', 'FY 2017-2018 Q4', 'FY 2018-2019 Q1', 'FY 2018-2019 Q4',\n",
       "       'FY 2019-2020 Q1', 'FY 2019-2020 Q2', 'FY 2019-2020 Q3',\n",
       "       'FY 2019-2020 Q4'], dtype=object)"
      ]
     },
     "metadata": {},
     "execution_count": 11
    }
   ],
   "source": [
    "df_new.disbursal_period_actual.unique()"
   ]
  },
  {
   "cell_type": "code",
   "execution_count": 12,
   "metadata": {},
   "outputs": [],
   "source": [
    "def get_dates(df):\n",
    "    l=[]\n",
    "    for i in range(df.shape[0]):\n",
    "        \n",
    "        year=df['qrt_yr'].iat[i][0:4]\n",
    "        if(df['qrt_yr'].iat[i][4:]=='Q1'):\n",
    "            l.append(year+'-01-01')\n",
    "        elif(df['qrt_yr'].iat[i][4:]=='Q2'):\n",
    "            l.append(year+'-04-01')\n",
    "        elif(df['qrt_yr'].iat[i][4:]=='Q3'):\n",
    "            l.append(year+'-07-01')\n",
    "        elif(df['qrt_yr'].iat[i][4:]=='Q4'):\n",
    "            l.append(year+'-10-01')\n",
    "        else:\n",
    "            l.append(None)\n",
    "    df['date']=pd.to_datetime(l)    \n",
    "    return df"
   ]
  },
  {
   "cell_type": "code",
   "execution_count": 83,
   "metadata": {},
   "outputs": [
    {
     "output_type": "stream",
     "name": "stderr",
     "text": [
      "<ipython-input-12-c5952187962d>:16: SettingWithCopyWarning: \nA value is trying to be set on a copy of a slice from a DataFrame.\nTry using .loc[row_indexer,col_indexer] = value instead\n\nSee the caveats in the documentation: https://pandas.pydata.org/pandas-docs/stable/user_guide/indexing.html#returning-a-view-versus-a-copy\n  df['date']=pd.to_datetime(l)\n"
     ]
    }
   ],
   "source": [
    "df_new=get_dates(df_new)"
   ]
  },
  {
   "cell_type": "code",
   "execution_count": 84,
   "metadata": {},
   "outputs": [
    {
     "output_type": "stream",
     "name": "stderr",
     "text": [
      "<ipython-input-84-fa405cc1549d>:11: SettingWithCopyWarning: \nA value is trying to be set on a copy of a slice from a DataFrame.\nTry using .loc[row_indexer,col_indexer] = value instead\n\nSee the caveats in the documentation: https://pandas.pydata.org/pandas-docs/stable/user_guide/indexing.html#returning-a-view-versus-a-copy\n  df_new['post_new']=post_new\n"
     ]
    }
   ],
   "source": [
    "post_new=[0]*df_new.shape[0]\n",
    "pre=['2018Q2','2018Q3']\n",
    "post=['2018Q4','2019Q1','2019Q2']\n",
    "for i in range(df_new.shape[0]):\n",
    "    if(df_new.qrt_yr.iat[i] in pre):\n",
    "        post_new[i]=0\n",
    "    if(df_new.qrt_yr.iat[i] in post):\n",
    "        post_new[i]=1\n",
    "    if(df_new.qrt_yr.iat[i] not in pre and df_new.qrt_yr.iat[i] not in post):\n",
    "        post_new[i]=''\n",
    "df_new['post_new']=post_new\n",
    "df_new=df_new[df_new['post_new']!='']"
   ]
  },
  {
   "cell_type": "code",
   "execution_count": 81,
   "metadata": {},
   "outputs": [
    {
     "output_type": "stream",
     "name": "stderr",
     "text": [
      "<ipython-input-81-09d4a7dd255b>:8: SettingWithCopyWarning: \nA value is trying to be set on a copy of a slice from a DataFrame.\nTry using .loc[row_indexer,col_indexer] = value instead\n\nSee the caveats in the documentation: https://pandas.pydata.org/pandas-docs/stable/user_guide/indexing.html#returning-a-view-versus-a-copy\n  df_new['msp']=msp\n"
     ]
    }
   ],
   "source": [
    "msp=[]\n",
    "imp=['RJ', 'HP', 'UK', 'JK', 'DL', 'CH','UP']\n",
    "for i in range(df_new.shape[0]):\n",
    "    if(df_new.state.iat[i] in imp):\n",
    "        msp.append(1)\n",
    "    else:\n",
    "        msp.append(0)\n",
    "df_new['msp']=msp"
   ]
  },
  {
   "cell_type": "code",
   "execution_count": 85,
   "metadata": {},
   "outputs": [
    {
     "output_type": "stream",
     "name": "stderr",
     "text": [
      "<ipython-input-85-2ab9014076e7>:1: SettingWithCopyWarning: \nA value is trying to be set on a copy of a slice from a DataFrame.\nTry using .loc[row_indexer,col_indexer] = value instead\n\nSee the caveats in the documentation: https://pandas.pydata.org/pandas-docs/stable/user_guide/indexing.html#returning-a-view-versus-a-copy\n  df_new['int_msp']=df_new['msp']*df_new['post_new']\n"
     ]
    }
   ],
   "source": [
    "df_new['int_msp']=df_new['msp']*df_new['post_new']"
   ]
  },
  {
   "cell_type": "code",
   "execution_count": 86,
   "metadata": {},
   "outputs": [],
   "source": [
    "for i in range(df_new.shape[0]):\n",
    "    if(df_new.state.iat[i]=='CH'):\n",
    "        df_new.int_msp.iat[i]==1\n",
    "    "
   ]
  },
  {
   "cell_type": "code",
   "execution_count": 90,
   "metadata": {},
   "outputs": [
    {
     "output_type": "execute_result",
     "data": {
      "text/plain": [
       "         night_lights  qrt_yr   district  rainfall disbursal_period_actual  \\\n",
       "23442        1.330174  2018Q2    ALIGARH  0.029699         FY 2017-2018 Q2   \n",
       "23443        1.347421  2018Q3    ALIGARH  0.352317       BEFORE FY 2017-18   \n",
       "23444        2.257817  2018Q4    ALIGARH  0.009392         FY 2017-2018 Q3   \n",
       "23445        1.983886  2019Q1    ALIGARH  0.032161         FY 2018-2019 Q2   \n",
       "23446        1.439637  2019Q2    ALIGARH  0.015904         FY 2017-2018 Q2   \n",
       "...               ...     ...        ...       ...                     ...   \n",
       "1335878           NaN  2019Q2  PATHANKOT       NaN         FY 2018-2019 Q1   \n",
       "1335879           NaN  2019Q2  PATHANKOT       NaN         FY 2017-2018 Q3   \n",
       "1335880           NaN  2019Q2  PATHANKOT       NaN         FY 2017-2018 Q2   \n",
       "1335881           NaN  2019Q2  PATHANKOT       NaN         FY 2019-2020 Q1   \n",
       "1335882           NaN  2019Q2  PATHANKOT       NaN         FY 2017-2018 Q2   \n",
       "\n",
       "        quarterofbookclosingperoid state ru_classification     lendertype  \\\n",
       "23442                           Q2    UP                        PSU Banks   \n",
       "23443                           Q3    UP             Urban      PSU Banks   \n",
       "23444                           Q4    UP             Urban      PSU Banks   \n",
       "23445                           Q1    UP             Urban  Private Banks   \n",
       "23446                           Q2    UP        Semi-Urban  Private Banks   \n",
       "...                            ...   ...               ...            ...   \n",
       "1335878                         Q2    PB             Urban  Private Banks   \n",
       "1335879                         Q2    PB             Urban         Others   \n",
       "1335880                         Q2    PB             Rural         Others   \n",
       "1335881                         Q2    PB        Semi-Urban      PSU Banks   \n",
       "1335882                         Q2    PB             Rural  Private Banks   \n",
       "\n",
       "        avgticketsizelakhs  ...  TN  TR  TS  UK  UP  WB  msp       date  \\\n",
       "23442                 0.97  ...   0   0   0   0   1   0    1 2018-04-01   \n",
       "23443                  0.8  ...   0   0   0   0   1   0    1 2018-07-01   \n",
       "23444                  0.5  ...   0   0   0   0   1   0    1 2018-10-01   \n",
       "23445                 0.31  ...   0   0   0   0   1   0    1 2019-01-01   \n",
       "23446                 0.16  ...   0   0   0   0   1   0    1 2019-04-01   \n",
       "...                    ...  ...  ..  ..  ..  ..  ..  ..  ...        ...   \n",
       "1335878                0.3  ...   0   0   0   0   0   0    0 2019-04-01   \n",
       "1335879                8.5  ...   0   0   0   0   0   0    0 2019-04-01   \n",
       "1335880                1.1  ...   0   0   0   0   0   0    0 2019-04-01   \n",
       "1335881                3.7  ...   0   0   0   0   0   0    0 2019-04-01   \n",
       "1335882               1.32  ...   0   0   0   0   0   0    0 2019-04-01   \n",
       "\n",
       "         post_new  int_msp  \n",
       "23442           0        0  \n",
       "23443           0        0  \n",
       "23444           1        1  \n",
       "23445           1        1  \n",
       "23446           1        1  \n",
       "...           ...      ...  \n",
       "1335878         1        0  \n",
       "1335879         1        0  \n",
       "1335880         1        0  \n",
       "1335881         1        0  \n",
       "1335882         1        0  \n",
       "\n",
       "[57953 rows x 67 columns]"
      ],
      "text/html": "<div>\n<style scoped>\n    .dataframe tbody tr th:only-of-type {\n        vertical-align: middle;\n    }\n\n    .dataframe tbody tr th {\n        vertical-align: top;\n    }\n\n    .dataframe thead th {\n        text-align: right;\n    }\n</style>\n<table border=\"1\" class=\"dataframe\">\n  <thead>\n    <tr style=\"text-align: right;\">\n      <th></th>\n      <th>night_lights</th>\n      <th>qrt_yr</th>\n      <th>district</th>\n      <th>rainfall</th>\n      <th>disbursal_period_actual</th>\n      <th>quarterofbookclosingperoid</th>\n      <th>state</th>\n      <th>ru_classification</th>\n      <th>lendertype</th>\n      <th>avgticketsizelakhs</th>\n      <th>...</th>\n      <th>TN</th>\n      <th>TR</th>\n      <th>TS</th>\n      <th>UK</th>\n      <th>UP</th>\n      <th>WB</th>\n      <th>msp</th>\n      <th>date</th>\n      <th>post_new</th>\n      <th>int_msp</th>\n    </tr>\n  </thead>\n  <tbody>\n    <tr>\n      <th>23442</th>\n      <td>1.330174</td>\n      <td>2018Q2</td>\n      <td>ALIGARH</td>\n      <td>0.029699</td>\n      <td>FY 2017-2018 Q2</td>\n      <td>Q2</td>\n      <td>UP</td>\n      <td></td>\n      <td>PSU Banks</td>\n      <td>0.97</td>\n      <td>...</td>\n      <td>0</td>\n      <td>0</td>\n      <td>0</td>\n      <td>0</td>\n      <td>1</td>\n      <td>0</td>\n      <td>1</td>\n      <td>2018-04-01</td>\n      <td>0</td>\n      <td>0</td>\n    </tr>\n    <tr>\n      <th>23443</th>\n      <td>1.347421</td>\n      <td>2018Q3</td>\n      <td>ALIGARH</td>\n      <td>0.352317</td>\n      <td>BEFORE FY 2017-18</td>\n      <td>Q3</td>\n      <td>UP</td>\n      <td>Urban</td>\n      <td>PSU Banks</td>\n      <td>0.8</td>\n      <td>...</td>\n      <td>0</td>\n      <td>0</td>\n      <td>0</td>\n      <td>0</td>\n      <td>1</td>\n      <td>0</td>\n      <td>1</td>\n      <td>2018-07-01</td>\n      <td>0</td>\n      <td>0</td>\n    </tr>\n    <tr>\n      <th>23444</th>\n      <td>2.257817</td>\n      <td>2018Q4</td>\n      <td>ALIGARH</td>\n      <td>0.009392</td>\n      <td>FY 2017-2018 Q3</td>\n      <td>Q4</td>\n      <td>UP</td>\n      <td>Urban</td>\n      <td>PSU Banks</td>\n      <td>0.5</td>\n      <td>...</td>\n      <td>0</td>\n      <td>0</td>\n      <td>0</td>\n      <td>0</td>\n      <td>1</td>\n      <td>0</td>\n      <td>1</td>\n      <td>2018-10-01</td>\n      <td>1</td>\n      <td>1</td>\n    </tr>\n    <tr>\n      <th>23445</th>\n      <td>1.983886</td>\n      <td>2019Q1</td>\n      <td>ALIGARH</td>\n      <td>0.032161</td>\n      <td>FY 2018-2019 Q2</td>\n      <td>Q1</td>\n      <td>UP</td>\n      <td>Urban</td>\n      <td>Private Banks</td>\n      <td>0.31</td>\n      <td>...</td>\n      <td>0</td>\n      <td>0</td>\n      <td>0</td>\n      <td>0</td>\n      <td>1</td>\n      <td>0</td>\n      <td>1</td>\n      <td>2019-01-01</td>\n      <td>1</td>\n      <td>1</td>\n    </tr>\n    <tr>\n      <th>23446</th>\n      <td>1.439637</td>\n      <td>2019Q2</td>\n      <td>ALIGARH</td>\n      <td>0.015904</td>\n      <td>FY 2017-2018 Q2</td>\n      <td>Q2</td>\n      <td>UP</td>\n      <td>Semi-Urban</td>\n      <td>Private Banks</td>\n      <td>0.16</td>\n      <td>...</td>\n      <td>0</td>\n      <td>0</td>\n      <td>0</td>\n      <td>0</td>\n      <td>1</td>\n      <td>0</td>\n      <td>1</td>\n      <td>2019-04-01</td>\n      <td>1</td>\n      <td>1</td>\n    </tr>\n    <tr>\n      <th>...</th>\n      <td>...</td>\n      <td>...</td>\n      <td>...</td>\n      <td>...</td>\n      <td>...</td>\n      <td>...</td>\n      <td>...</td>\n      <td>...</td>\n      <td>...</td>\n      <td>...</td>\n      <td>...</td>\n      <td>...</td>\n      <td>...</td>\n      <td>...</td>\n      <td>...</td>\n      <td>...</td>\n      <td>...</td>\n      <td>...</td>\n      <td>...</td>\n      <td>...</td>\n      <td>...</td>\n    </tr>\n    <tr>\n      <th>1335878</th>\n      <td>NaN</td>\n      <td>2019Q2</td>\n      <td>PATHANKOT</td>\n      <td>NaN</td>\n      <td>FY 2018-2019 Q1</td>\n      <td>Q2</td>\n      <td>PB</td>\n      <td>Urban</td>\n      <td>Private Banks</td>\n      <td>0.3</td>\n      <td>...</td>\n      <td>0</td>\n      <td>0</td>\n      <td>0</td>\n      <td>0</td>\n      <td>0</td>\n      <td>0</td>\n      <td>0</td>\n      <td>2019-04-01</td>\n      <td>1</td>\n      <td>0</td>\n    </tr>\n    <tr>\n      <th>1335879</th>\n      <td>NaN</td>\n      <td>2019Q2</td>\n      <td>PATHANKOT</td>\n      <td>NaN</td>\n      <td>FY 2017-2018 Q3</td>\n      <td>Q2</td>\n      <td>PB</td>\n      <td>Urban</td>\n      <td>Others</td>\n      <td>8.5</td>\n      <td>...</td>\n      <td>0</td>\n      <td>0</td>\n      <td>0</td>\n      <td>0</td>\n      <td>0</td>\n      <td>0</td>\n      <td>0</td>\n      <td>2019-04-01</td>\n      <td>1</td>\n      <td>0</td>\n    </tr>\n    <tr>\n      <th>1335880</th>\n      <td>NaN</td>\n      <td>2019Q2</td>\n      <td>PATHANKOT</td>\n      <td>NaN</td>\n      <td>FY 2017-2018 Q2</td>\n      <td>Q2</td>\n      <td>PB</td>\n      <td>Rural</td>\n      <td>Others</td>\n      <td>1.1</td>\n      <td>...</td>\n      <td>0</td>\n      <td>0</td>\n      <td>0</td>\n      <td>0</td>\n      <td>0</td>\n      <td>0</td>\n      <td>0</td>\n      <td>2019-04-01</td>\n      <td>1</td>\n      <td>0</td>\n    </tr>\n    <tr>\n      <th>1335881</th>\n      <td>NaN</td>\n      <td>2019Q2</td>\n      <td>PATHANKOT</td>\n      <td>NaN</td>\n      <td>FY 2019-2020 Q1</td>\n      <td>Q2</td>\n      <td>PB</td>\n      <td>Semi-Urban</td>\n      <td>PSU Banks</td>\n      <td>3.7</td>\n      <td>...</td>\n      <td>0</td>\n      <td>0</td>\n      <td>0</td>\n      <td>0</td>\n      <td>0</td>\n      <td>0</td>\n      <td>0</td>\n      <td>2019-04-01</td>\n      <td>1</td>\n      <td>0</td>\n    </tr>\n    <tr>\n      <th>1335882</th>\n      <td>NaN</td>\n      <td>2019Q2</td>\n      <td>PATHANKOT</td>\n      <td>NaN</td>\n      <td>FY 2017-2018 Q2</td>\n      <td>Q2</td>\n      <td>PB</td>\n      <td>Rural</td>\n      <td>Private Banks</td>\n      <td>1.32</td>\n      <td>...</td>\n      <td>0</td>\n      <td>0</td>\n      <td>0</td>\n      <td>0</td>\n      <td>0</td>\n      <td>0</td>\n      <td>0</td>\n      <td>2019-04-01</td>\n      <td>1</td>\n      <td>0</td>\n    </tr>\n  </tbody>\n</table>\n<p>57953 rows × 67 columns</p>\n</div>"
     },
     "metadata": {},
     "execution_count": 90
    }
   ],
   "source": [
    "df_new"
   ]
  },
  {
   "cell_type": "code",
   "execution_count": 19,
   "metadata": {},
   "outputs": [],
   "source": [
    "def rem_common_control_dists(df):\n",
    "    df1=df[(df['state']=='PB')&(df['HR']!=1)]\n",
    "    df2=df[(df['state']=='HR')&(df['PB']!=1)]\n",
    "    df3=df[(df['state']!='HR')&(df['state']!='PB')]\n",
    "    df1=df1.append([df2,df3])\n",
    "    return df1"
   ]
  },
  {
   "cell_type": "code",
   "execution_count": 27,
   "metadata": {},
   "outputs": [],
   "source": [
    "def rest_disb(df,l,size):\n",
    "    s='disbursal_period_actual'\n",
    "    df=df[(df[s]==l[0])|(df[s]==l[1])|(df[s]==l[2])|(df[s]==l[3])|(df[s]==l[4])|(df[s]==l[5])|(df[s]==l[6])]\n",
    "    \n",
    "    if(size!=0):\n",
    "        df=df[df['avgticketsizelakhs']!='']\n",
    "        df['avgticketsizelakhs']=df['avgticketsizelakhs'].apply(float)\n",
    "        df=df[df['avgticketsizelakhs']<size]\n",
    "    \n",
    "    return df"
   ]
  },
  {
   "cell_type": "code",
   "execution_count": 93,
   "metadata": {},
   "outputs": [],
   "source": [
    "from linearmodels import PanelOLS\n",
    "\n",
    "def vol_reg(df):\n",
    "    df=df.set_index(['district','date'])\n",
    "    df=df[df['ru_classification']!='']\n",
    "    df=df[df['lendertype']!='']\n",
    "    df['const']=1\n",
    "    mod = PanelOLS(df['volume_default_90_plus'],df[['int_msp','dummy_rural', 'dummy_semi_urban', 'dummy_psu', 'dummy_priv','dummy_nbfcs','const']],entity_effects=True,time_effects=True)\n",
    "    #mod = PanelOLS(df['volume_def'],df[['int_msp','rainfall','night_lights','dummy_rural', 'dummy_semi_urban', 'dummy_psu', 'dummy_priv','dummy_nbfcs','const']],entity_effects=True,time_effects=True)\n",
    "    res = mod.fit(cluster_entity=True,cov_type='clustered')\n",
    "    return res.summary\n",
    "def val_reg(df):\n",
    "    df=df.set_index(['district','date'])\n",
    "    df=df[df['ru_classification']!='']\n",
    "    df=df[df['lendertype']!='']\n",
    "    df['const']=1\n",
    "    mod = PanelOLS(df['value_default_90_plus'],df[['int_msp','rainfall','night_lights','dummy_rural', 'dummy_semi_urban', 'dummy_psu', 'dummy_priv','dummy_nbfcs','const']],entity_effects=True,time_effects=True)\n",
    "    #mod = PanelOLS(df['val_def'],df[['int_msp','rainfall','night_lights','dummy_rural', 'dummy_semi_urban', 'dummy_psu', 'dummy_priv','dummy_nbfcs','const']],entity_effects=True,time_effects=True)\n",
    "    res = mod.fit(cluster_entity=True,cov_type='clustered')\n",
    "    return res.summary"
   ]
  },
  {
   "cell_type": "code",
   "execution_count": 104,
   "metadata": {},
   "outputs": [
    {
     "output_type": "stream",
     "name": "stderr",
     "text": [
      "C:\\Users\\akhil\\AppData\\Local\\Packages\\PythonSoftwareFoundation.Python.3.8_qbz5n2kfra8p0\\LocalCache\\local-packages\\Python38\\site-packages\\linearmodels\\shared\\exceptions.py:35: MissingValueWarning: \nInputs contain missing values. Dropping rows with missing observations.\n  warnings.warn(missing_value_warning_msg, MissingValueWarning)\n"
     ]
    },
    {
     "output_type": "execute_result",
     "data": {
      "text/plain": [
       "<class 'linearmodels.compat.statsmodels.Summary'>\n",
       "\"\"\"\n",
       "                            PanelOLS Estimation Summary                             \n",
       "====================================================================================\n",
       "Dep. Variable:     volume_default_90_plus   R-squared:                        0.0605\n",
       "Estimator:                       PanelOLS   R-squared (Between):             -0.4404\n",
       "No. Observations:                    3420   R-squared (Within):               0.0600\n",
       "Date:                    Thu, Apr 29 2021   R-squared (Overall):              0.0178\n",
       "Time:                            22:55:44   Log-likelihood                    275.16\n",
       "Cov. Estimator:                 Clustered                                           \n",
       "                                            F-statistic:                      36.111\n",
       "Entities:                              44   P-value                           0.0000\n",
       "Avg Obs:                           77.727   Distribution:                  F(6,3366)\n",
       "Min Obs:                           9.0000                                           \n",
       "Max Obs:                           337.00   F-statistic (robust):             1.3731\n",
       "                                            P-value                           0.2215\n",
       "Time periods:                           5   Distribution:                  F(6,3366)\n",
       "Avg Obs:                           684.00                                           \n",
       "Min Obs:                           632.00                                           \n",
       "Max Obs:                           721.00                                           \n",
       "                                                                                    \n",
       "                                Parameter Estimates                                 \n",
       "====================================================================================\n",
       "                  Parameter  Std. Err.     T-stat    P-value    Lower CI    Upper CI\n",
       "------------------------------------------------------------------------------------\n",
       "int_msp             -0.0126     0.0236    -0.5324     0.5945     -0.0588      0.0337\n",
       "dummy_rural         -0.0292     0.0332    -0.8787     0.3796     -0.0943      0.0359\n",
       "dummy_semi_urban    -0.0442     0.0398    -1.1100     0.2671     -0.1222      0.0339\n",
       "dummy_psu           -0.0531     0.0352    -1.5111     0.1309     -0.1221      0.0158\n",
       "dummy_priv          -0.0559     0.0621    -0.9000     0.3682     -0.1778      0.0659\n",
       "dummy_nbfcs          0.3132     0.1368     2.2889     0.0221      0.0449      0.5815\n",
       "const                0.1501     0.0499     3.0103     0.0026      0.0524      0.2479\n",
       "====================================================================================\n",
       "\n",
       "F-test for Poolability: 11.722\n",
       "P-value: 0.0000\n",
       "Distribution: F(47,3366)\n",
       "\n",
       "Included effects: Entity, Time\n",
       "\"\"\""
      ],
      "text/html": "<table class=\"simpletable\">\n<caption>PanelOLS Estimation Summary</caption>\n<tr>\n  <th>Dep. Variable:</th>    <td>volume_default_90_plus</td> <th>  R-squared:         </th>    <td>0.0605</td>  \n</tr>\n<tr>\n  <th>Estimator:</th>               <td>PanelOLS</td>        <th>  R-squared (Between):</th>   <td>-0.4404</td> \n</tr>\n<tr>\n  <th>No. Observations:</th>          <td>3420</td>          <th>  R-squared (Within):</th>    <td>0.0600</td>  \n</tr>\n<tr>\n  <th>Date:</th>                <td>Thu, Apr 29 2021</td>    <th>  R-squared (Overall):</th>   <td>0.0178</td>  \n</tr>\n<tr>\n  <th>Time:</th>                    <td>22:55:44</td>        <th>  Log-likelihood     </th>    <td>275.16</td>  \n</tr>\n<tr>\n  <th>Cov. Estimator:</th>          <td>Clustered</td>       <th>                     </th>       <td></td>     \n</tr>\n<tr>\n  <th></th>                             <td></td>            <th>  F-statistic:       </th>    <td>36.111</td>  \n</tr>\n<tr>\n  <th>Entities:</th>                   <td>44</td>           <th>  P-value            </th>    <td>0.0000</td>  \n</tr>\n<tr>\n  <th>Avg Obs:</th>                  <td>77.727</td>         <th>  Distribution:      </th>   <td>F(6,3366)</td>\n</tr>\n<tr>\n  <th>Min Obs:</th>                  <td>9.0000</td>         <th>                     </th>       <td></td>     \n</tr>\n<tr>\n  <th>Max Obs:</th>                  <td>337.00</td>         <th>  F-statistic (robust):</th>  <td>1.3731</td>  \n</tr>\n<tr>\n  <th></th>                             <td></td>            <th>  P-value            </th>    <td>0.2215</td>  \n</tr>\n<tr>\n  <th>Time periods:</th>                <td>5</td>           <th>  Distribution:      </th>   <td>F(6,3366)</td>\n</tr>\n<tr>\n  <th>Avg Obs:</th>                  <td>684.00</td>         <th>                     </th>       <td></td>     \n</tr>\n<tr>\n  <th>Min Obs:</th>                  <td>632.00</td>         <th>                     </th>       <td></td>     \n</tr>\n<tr>\n  <th>Max Obs:</th>                  <td>721.00</td>         <th>                     </th>       <td></td>     \n</tr>\n<tr>\n  <th></th>                             <td></td>            <th>                     </th>       <td></td>     \n</tr>\n</table>\n<table class=\"simpletable\">\n<caption>Parameter Estimates</caption>\n<tr>\n          <td></td>         <th>Parameter</th> <th>Std. Err.</th> <th>T-stat</th>  <th>P-value</th> <th>Lower CI</th> <th>Upper CI</th>\n</tr>\n<tr>\n  <th>int_msp</th>           <td>-0.0126</td>   <td>0.0236</td>   <td>-0.5324</td> <td>0.5945</td>   <td>-0.0588</td>  <td>0.0337</td> \n</tr>\n<tr>\n  <th>dummy_rural</th>       <td>-0.0292</td>   <td>0.0332</td>   <td>-0.8787</td> <td>0.3796</td>   <td>-0.0943</td>  <td>0.0359</td> \n</tr>\n<tr>\n  <th>dummy_semi_urban</th>  <td>-0.0442</td>   <td>0.0398</td>   <td>-1.1100</td> <td>0.2671</td>   <td>-0.1222</td>  <td>0.0339</td> \n</tr>\n<tr>\n  <th>dummy_psu</th>         <td>-0.0531</td>   <td>0.0352</td>   <td>-1.5111</td> <td>0.1309</td>   <td>-0.1221</td>  <td>0.0158</td> \n</tr>\n<tr>\n  <th>dummy_priv</th>        <td>-0.0559</td>   <td>0.0621</td>   <td>-0.9000</td> <td>0.3682</td>   <td>-0.1778</td>  <td>0.0659</td> \n</tr>\n<tr>\n  <th>dummy_nbfcs</th>       <td>0.3132</td>    <td>0.1368</td>   <td>2.2889</td>  <td>0.0221</td>   <td>0.0449</td>   <td>0.5815</td> \n</tr>\n<tr>\n  <th>const</th>             <td>0.1501</td>    <td>0.0499</td>   <td>3.0103</td>  <td>0.0026</td>   <td>0.0524</td>   <td>0.2479</td> \n</tr>\n</table><br/><br/>F-test for Poolability: 11.722<br/>P-value: 0.0000<br/>Distribution: F(47,3366)<br/><br/>Included effects: Entity, Time"
     },
     "metadata": {},
     "execution_count": 104
    }
   ],
   "source": [
    "l=['FY 2018-2019 Q1', 'BEFORE FY 2017-18', 'FY 2017-2018 Q3','FY 2017-2018 Q4', 'FY 2017-2018 Q2', 'FY 2017-2018 Q1','FY 2018-2019 Q2']\n",
    "df1=rem_common_control_dists(df_new)\n",
    "df2=rest_disb(df1,l,1.25)\n",
    "vol_reg(df2)"
   ]
  },
  {
   "cell_type": "code",
   "execution_count": 105,
   "metadata": {},
   "outputs": [
    {
     "output_type": "stream",
     "name": "stderr",
     "text": [
      "C:\\Users\\akhil\\AppData\\Local\\Packages\\PythonSoftwareFoundation.Python.3.8_qbz5n2kfra8p0\\LocalCache\\local-packages\\Python38\\site-packages\\linearmodels\\shared\\exceptions.py:35: MissingValueWarning: \nInputs contain missing values. Dropping rows with missing observations.\n  warnings.warn(missing_value_warning_msg, MissingValueWarning)\n"
     ]
    },
    {
     "output_type": "execute_result",
     "data": {
      "text/plain": [
       "<class 'linearmodels.compat.statsmodels.Summary'>\n",
       "\"\"\"\n",
       "                            PanelOLS Estimation Summary                            \n",
       "===================================================================================\n",
       "Dep. Variable:     value_default_90_plus   R-squared:                        0.0650\n",
       "Estimator:                      PanelOLS   R-squared (Between):             -0.5708\n",
       "No. Observations:                   3234   R-squared (Within):               0.0604\n",
       "Date:                   Thu, Apr 29 2021   R-squared (Overall):              0.0027\n",
       "Time:                           22:55:54   Log-likelihood                    225.18\n",
       "Cov. Estimator:                Clustered                                           \n",
       "                                           F-statistic:                      27.636\n",
       "Entities:                             41   P-value                           0.0000\n",
       "Avg Obs:                          78.878   Distribution:                  F(8,3181)\n",
       "Min Obs:                          7.0000                                           \n",
       "Max Obs:                          348.00   F-statistic (robust):             1.2589\n",
       "                                           P-value                           0.2605\n",
       "Time periods:                          5   Distribution:                  F(8,3181)\n",
       "Avg Obs:                          646.80                                           \n",
       "Min Obs:                          601.00                                           \n",
       "Max Obs:                          684.00                                           \n",
       "                                                                                   \n",
       "                                Parameter Estimates                                 \n",
       "====================================================================================\n",
       "                  Parameter  Std. Err.     T-stat    P-value    Lower CI    Upper CI\n",
       "------------------------------------------------------------------------------------\n",
       "int_msp             -0.0261     0.0230    -1.1372     0.2555     -0.0711      0.0189\n",
       "rainfall             0.0330     0.0736     0.4483     0.6540     -0.1113      0.1772\n",
       "night_lights         0.0015     0.0019     0.7877     0.4309     -0.0022      0.0052\n",
       "dummy_rural         -0.0269     0.0327    -0.8219     0.4112     -0.0910      0.0372\n",
       "dummy_semi_urban    -0.0503     0.0410    -1.2276     0.2197     -0.1306      0.0300\n",
       "dummy_psu           -0.0622     0.0446    -1.3936     0.1635     -0.1497      0.0253\n",
       "dummy_priv          -0.0671     0.0670    -1.0012     0.3168     -0.1984      0.0643\n",
       "dummy_nbfcs          0.3064     0.1360     2.2533     0.0243      0.0398      0.5729\n",
       "const                0.1615     0.0532     3.0358     0.0024      0.0572      0.2657\n",
       "====================================================================================\n",
       "\n",
       "F-test for Poolability: 11.699\n",
       "P-value: 0.0000\n",
       "Distribution: F(44,3181)\n",
       "\n",
       "Included effects: Entity, Time\n",
       "\"\"\""
      ],
      "text/html": "<table class=\"simpletable\">\n<caption>PanelOLS Estimation Summary</caption>\n<tr>\n  <th>Dep. Variable:</th>    <td>value_default_90_plus</td> <th>  R-squared:         </th>    <td>0.0650</td>  \n</tr>\n<tr>\n  <th>Estimator:</th>              <td>PanelOLS</td>        <th>  R-squared (Between):</th>   <td>-0.5708</td> \n</tr>\n<tr>\n  <th>No. Observations:</th>         <td>3234</td>          <th>  R-squared (Within):</th>    <td>0.0604</td>  \n</tr>\n<tr>\n  <th>Date:</th>               <td>Thu, Apr 29 2021</td>    <th>  R-squared (Overall):</th>   <td>0.0027</td>  \n</tr>\n<tr>\n  <th>Time:</th>                   <td>22:55:54</td>        <th>  Log-likelihood     </th>    <td>225.18</td>  \n</tr>\n<tr>\n  <th>Cov. Estimator:</th>         <td>Clustered</td>       <th>                     </th>       <td></td>     \n</tr>\n<tr>\n  <th></th>                            <td></td>            <th>  F-statistic:       </th>    <td>27.636</td>  \n</tr>\n<tr>\n  <th>Entities:</th>                  <td>41</td>           <th>  P-value            </th>    <td>0.0000</td>  \n</tr>\n<tr>\n  <th>Avg Obs:</th>                 <td>78.878</td>         <th>  Distribution:      </th>   <td>F(8,3181)</td>\n</tr>\n<tr>\n  <th>Min Obs:</th>                 <td>7.0000</td>         <th>                     </th>       <td></td>     \n</tr>\n<tr>\n  <th>Max Obs:</th>                 <td>348.00</td>         <th>  F-statistic (robust):</th>  <td>1.2589</td>  \n</tr>\n<tr>\n  <th></th>                            <td></td>            <th>  P-value            </th>    <td>0.2605</td>  \n</tr>\n<tr>\n  <th>Time periods:</th>               <td>5</td>           <th>  Distribution:      </th>   <td>F(8,3181)</td>\n</tr>\n<tr>\n  <th>Avg Obs:</th>                 <td>646.80</td>         <th>                     </th>       <td></td>     \n</tr>\n<tr>\n  <th>Min Obs:</th>                 <td>601.00</td>         <th>                     </th>       <td></td>     \n</tr>\n<tr>\n  <th>Max Obs:</th>                 <td>684.00</td>         <th>                     </th>       <td></td>     \n</tr>\n<tr>\n  <th></th>                            <td></td>            <th>                     </th>       <td></td>     \n</tr>\n</table>\n<table class=\"simpletable\">\n<caption>Parameter Estimates</caption>\n<tr>\n          <td></td>         <th>Parameter</th> <th>Std. Err.</th> <th>T-stat</th>  <th>P-value</th> <th>Lower CI</th> <th>Upper CI</th>\n</tr>\n<tr>\n  <th>int_msp</th>           <td>-0.0261</td>   <td>0.0230</td>   <td>-1.1372</td> <td>0.2555</td>   <td>-0.0711</td>  <td>0.0189</td> \n</tr>\n<tr>\n  <th>rainfall</th>          <td>0.0330</td>    <td>0.0736</td>   <td>0.4483</td>  <td>0.6540</td>   <td>-0.1113</td>  <td>0.1772</td> \n</tr>\n<tr>\n  <th>night_lights</th>      <td>0.0015</td>    <td>0.0019</td>   <td>0.7877</td>  <td>0.4309</td>   <td>-0.0022</td>  <td>0.0052</td> \n</tr>\n<tr>\n  <th>dummy_rural</th>       <td>-0.0269</td>   <td>0.0327</td>   <td>-0.8219</td> <td>0.4112</td>   <td>-0.0910</td>  <td>0.0372</td> \n</tr>\n<tr>\n  <th>dummy_semi_urban</th>  <td>-0.0503</td>   <td>0.0410</td>   <td>-1.2276</td> <td>0.2197</td>   <td>-0.1306</td>  <td>0.0300</td> \n</tr>\n<tr>\n  <th>dummy_psu</th>         <td>-0.0622</td>   <td>0.0446</td>   <td>-1.3936</td> <td>0.1635</td>   <td>-0.1497</td>  <td>0.0253</td> \n</tr>\n<tr>\n  <th>dummy_priv</th>        <td>-0.0671</td>   <td>0.0670</td>   <td>-1.0012</td> <td>0.3168</td>   <td>-0.1984</td>  <td>0.0643</td> \n</tr>\n<tr>\n  <th>dummy_nbfcs</th>       <td>0.3064</td>    <td>0.1360</td>   <td>2.2533</td>  <td>0.0243</td>   <td>0.0398</td>   <td>0.5729</td> \n</tr>\n<tr>\n  <th>const</th>             <td>0.1615</td>    <td>0.0532</td>   <td>3.0358</td>  <td>0.0024</td>   <td>0.0572</td>   <td>0.2657</td> \n</tr>\n</table><br/><br/>F-test for Poolability: 11.699<br/>P-value: 0.0000<br/>Distribution: F(44,3181)<br/><br/>Included effects: Entity, Time"
     },
     "metadata": {},
     "execution_count": 105
    }
   ],
   "source": [
    "l=['FY 2018-2019 Q1', 'BEFORE FY 2017-18', 'FY 2017-2018 Q3','FY 2017-2018 Q4', 'FY 2017-2018 Q2', 'FY 2017-2018 Q1','FY 2018-2019 Q2']\n",
    "df1=rem_common_control_dists(df_new)\n",
    "df2=rest_disb(df1,l,1.25)\n",
    "val_reg(df2)"
   ]
  },
  {
   "cell_type": "code",
   "execution_count": 92,
   "metadata": {},
   "outputs": [
    {
     "output_type": "execute_result",
     "data": {
      "text/plain": [
       "0    22675\n",
       "1    12827\n",
       "Name: int_msp, dtype: int64"
      ]
     },
     "metadata": {},
     "execution_count": 92
    }
   ],
   "source": [
    "df2.int_msp.value_counts()"
   ]
  },
  {
   "cell_type": "code",
   "execution_count": null,
   "metadata": {},
   "outputs": [],
   "source": []
  }
 ]
}