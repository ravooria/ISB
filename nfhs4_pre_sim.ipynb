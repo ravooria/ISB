{
 "metadata": {
  "language_info": {
   "codemirror_mode": {
    "name": "ipython",
    "version": 3
   },
   "file_extension": ".py",
   "mimetype": "text/x-python",
   "name": "python",
   "nbconvert_exporter": "python",
   "pygments_lexer": "ipython3",
   "version": "3.8.10"
  },
  "orig_nbformat": 2,
  "kernelspec": {
   "name": "python3810jvsc74a57bd0e6160e7fcfc2d302f7fa9c129797e33c786afb51ec1e4a07bed8ee4a4c20492c",
   "display_name": "Python 3.8.10 64-bit (windows store)"
  },
  "metadata": {
   "interpreter": {
    "hash": "e6160e7fcfc2d302f7fa9c129797e33c786afb51ec1e4a07bed8ee4a4c20492c"
   }
  }
 },
 "nbformat": 4,
 "nbformat_minor": 2,
 "cells": [
  {
   "cell_type": "code",
   "execution_count": 1,
   "metadata": {},
   "outputs": [],
   "source": [
    "import pandas as pd\n",
    "import os\n",
    "os.chdir('C:\\\\Users\\\\akhil\\\\Downloads')\n",
    "#df=pd.read_csv('nfhs4_data_pre_border.csv')"
   ]
  },
  {
   "cell_type": "code",
   "execution_count": 1,
   "metadata": {},
   "outputs": [
    {
     "output_type": "execute_result",
     "data": {
      "text/plain": [
       "10"
      ]
     },
     "metadata": {},
     "execution_count": 1
    }
   ],
   "source": []
  },
  {
   "cell_type": "code",
   "execution_count": 21,
   "metadata": {},
   "outputs": [
    {
     "output_type": "execute_result",
     "data": {
      "text/plain": [
       "    Unnamed: 0 states        district        District Rural/Urban/Total  \\\n",
       "0            5     AP   East Godavari   East Godavari             Total   \n",
       "1            6     AP          Guntur          Guntur             Total   \n",
       "2            7     AP         Krishna         Krishna             Total   \n",
       "3            8     AP         Kurnool         Kurnool             Total   \n",
       "4            9     AP        Prakasam        Prakasam             Total   \n",
       "..         ...    ...             ...             ...               ...   \n",
       "76         648     WB      Koch Bihar      Koch Bihar             Total   \n",
       "77         650     WB          Maldah          Maldah             Total   \n",
       "78         651     WB     Murshidabad     Murshidabad             Total   \n",
       "79         656     WB        Puruliya        Puruliya             Total   \n",
       "80         658     WB  Uttar Dinajpur  Uttar Dinajpur             Total   \n",
       "\n",
       "    1. Population (female) age 6 years and above who ever attended school (%)(PHP)  \\\n",
       "0                                                69.0                                \n",
       "1                                                51.4                                \n",
       "2                                                64.3                                \n",
       "3                                                56.6                                \n",
       "4                                                53.5                                \n",
       "..                                                ...                                \n",
       "76                                               73.7                                \n",
       "77                                               68.4                                \n",
       "78                                               70.8                                \n",
       "79                                               53.6                                \n",
       "80                                               60.1                                \n",
       "\n",
       "    2. Population below age 15 years (%)(PHP)  \\\n",
       "0                                        21.8   \n",
       "1                                        21.7   \n",
       "2                                        22.7   \n",
       "3                                        29.4   \n",
       "4                                        25.0   \n",
       "..                                        ...   \n",
       "76                                       26.3   \n",
       "77                                       32.9   \n",
       "78                                       31.8   \n",
       "79                                       28.8   \n",
       "80                                       36.8   \n",
       "\n",
       "   3. Sex ratio of the total population (females per 1,000 males)(PHP)  \\\n",
       "0                                                 927                    \n",
       "1                                                 985                    \n",
       "2                                               1,032                    \n",
       "3                                               1,021                    \n",
       "4                                               1,016                    \n",
       "..                                                ...                    \n",
       "76                                              1,008                    \n",
       "77                                              1,019                    \n",
       "78                                              1,083                    \n",
       "79                                                983                    \n",
       "80                                              1,023                    \n",
       "\n",
       "   4. Sex ratio at birth for children born in the last five years (females per 1,000 males)(PHP)  \\\n",
       "0                                               1,008                                              \n",
       "1                                                 552                                              \n",
       "2                                                 993                                              \n",
       "3                                                 816                                              \n",
       "4                                                 799                                              \n",
       "..                                                ...                                              \n",
       "76                                              1,073                                              \n",
       "77                                                881                                              \n",
       "78                                              1,075                                              \n",
       "79                                                998                                              \n",
       "80                                                937                                              \n",
       "\n",
       "    5. Children under age 5 years whose birth was registered (%)(PHP)  ...  \\\n",
       "0                                                84.3                  ...   \n",
       "1                                                87.2                  ...   \n",
       "2                                                78.4                  ...   \n",
       "3                                                73.3                  ...   \n",
       "4                                                68.9                  ...   \n",
       "..                                                ...                  ...   \n",
       "76                                               94.6                  ...   \n",
       "77                                               93.0                  ...   \n",
       "78                                               98.9                  ...   \n",
       "79                                               95.9                  ...   \n",
       "80                                               88.5                  ...   \n",
       "\n",
       "    PB  PY  RJ  SK  TN  TR  TS  UK  UP  WB  \n",
       "0    0   0   0   0   0   0   1   0   0   0  \n",
       "1    0   0   0   0   0   0   1   0   0   0  \n",
       "2    0   0   0   0   0   0   1   0   0   0  \n",
       "3    0   0   0   0   0   0   1   0   0   0  \n",
       "4    0   0   0   0   0   0   1   0   0   0  \n",
       "..  ..  ..  ..  ..  ..  ..  ..  ..  ..  ..  \n",
       "76   0   0   0   0   0   0   0   0   0   1  \n",
       "77   0   0   0   0   0   0   0   0   0   1  \n",
       "78   0   0   0   0   0   0   0   0   0   1  \n",
       "79   0   0   0   0   0   0   0   0   0   1  \n",
       "80   0   0   0   0   0   0   0   0   0   1  \n",
       "\n",
       "[81 rows x 136 columns]"
      ],
      "text/html": "<div>\n<style scoped>\n    .dataframe tbody tr th:only-of-type {\n        vertical-align: middle;\n    }\n\n    .dataframe tbody tr th {\n        vertical-align: top;\n    }\n\n    .dataframe thead th {\n        text-align: right;\n    }\n</style>\n<table border=\"1\" class=\"dataframe\">\n  <thead>\n    <tr style=\"text-align: right;\">\n      <th></th>\n      <th>Unnamed: 0</th>\n      <th>states</th>\n      <th>district</th>\n      <th>District</th>\n      <th>Rural/Urban/Total</th>\n      <th>1. Population (female) age 6 years and above who ever attended school (%)(PHP)</th>\n      <th>2. Population below age 15 years (%)(PHP)</th>\n      <th>3. Sex ratio of the total population (females per 1,000 males)(PHP)</th>\n      <th>4. Sex ratio at birth for children born in the last five years (females per 1,000 males)(PHP)</th>\n      <th>5. Children under age 5 years whose birth was registered (%)(PHP)</th>\n      <th>...</th>\n      <th>PB</th>\n      <th>PY</th>\n      <th>RJ</th>\n      <th>SK</th>\n      <th>TN</th>\n      <th>TR</th>\n      <th>TS</th>\n      <th>UK</th>\n      <th>UP</th>\n      <th>WB</th>\n    </tr>\n  </thead>\n  <tbody>\n    <tr>\n      <th>0</th>\n      <td>5</td>\n      <td>AP</td>\n      <td>East Godavari</td>\n      <td>East Godavari</td>\n      <td>Total</td>\n      <td>69.0</td>\n      <td>21.8</td>\n      <td>927</td>\n      <td>1,008</td>\n      <td>84.3</td>\n      <td>...</td>\n      <td>0</td>\n      <td>0</td>\n      <td>0</td>\n      <td>0</td>\n      <td>0</td>\n      <td>0</td>\n      <td>1</td>\n      <td>0</td>\n      <td>0</td>\n      <td>0</td>\n    </tr>\n    <tr>\n      <th>1</th>\n      <td>6</td>\n      <td>AP</td>\n      <td>Guntur</td>\n      <td>Guntur</td>\n      <td>Total</td>\n      <td>51.4</td>\n      <td>21.7</td>\n      <td>985</td>\n      <td>552</td>\n      <td>87.2</td>\n      <td>...</td>\n      <td>0</td>\n      <td>0</td>\n      <td>0</td>\n      <td>0</td>\n      <td>0</td>\n      <td>0</td>\n      <td>1</td>\n      <td>0</td>\n      <td>0</td>\n      <td>0</td>\n    </tr>\n    <tr>\n      <th>2</th>\n      <td>7</td>\n      <td>AP</td>\n      <td>Krishna</td>\n      <td>Krishna</td>\n      <td>Total</td>\n      <td>64.3</td>\n      <td>22.7</td>\n      <td>1,032</td>\n      <td>993</td>\n      <td>78.4</td>\n      <td>...</td>\n      <td>0</td>\n      <td>0</td>\n      <td>0</td>\n      <td>0</td>\n      <td>0</td>\n      <td>0</td>\n      <td>1</td>\n      <td>0</td>\n      <td>0</td>\n      <td>0</td>\n    </tr>\n    <tr>\n      <th>3</th>\n      <td>8</td>\n      <td>AP</td>\n      <td>Kurnool</td>\n      <td>Kurnool</td>\n      <td>Total</td>\n      <td>56.6</td>\n      <td>29.4</td>\n      <td>1,021</td>\n      <td>816</td>\n      <td>73.3</td>\n      <td>...</td>\n      <td>0</td>\n      <td>0</td>\n      <td>0</td>\n      <td>0</td>\n      <td>0</td>\n      <td>0</td>\n      <td>1</td>\n      <td>0</td>\n      <td>0</td>\n      <td>0</td>\n    </tr>\n    <tr>\n      <th>4</th>\n      <td>9</td>\n      <td>AP</td>\n      <td>Prakasam</td>\n      <td>Prakasam</td>\n      <td>Total</td>\n      <td>53.5</td>\n      <td>25.0</td>\n      <td>1,016</td>\n      <td>799</td>\n      <td>68.9</td>\n      <td>...</td>\n      <td>0</td>\n      <td>0</td>\n      <td>0</td>\n      <td>0</td>\n      <td>0</td>\n      <td>0</td>\n      <td>1</td>\n      <td>0</td>\n      <td>0</td>\n      <td>0</td>\n    </tr>\n    <tr>\n      <th>...</th>\n      <td>...</td>\n      <td>...</td>\n      <td>...</td>\n      <td>...</td>\n      <td>...</td>\n      <td>...</td>\n      <td>...</td>\n      <td>...</td>\n      <td>...</td>\n      <td>...</td>\n      <td>...</td>\n      <td>...</td>\n      <td>...</td>\n      <td>...</td>\n      <td>...</td>\n      <td>...</td>\n      <td>...</td>\n      <td>...</td>\n      <td>...</td>\n      <td>...</td>\n      <td>...</td>\n    </tr>\n    <tr>\n      <th>76</th>\n      <td>648</td>\n      <td>WB</td>\n      <td>Koch Bihar</td>\n      <td>Koch Bihar</td>\n      <td>Total</td>\n      <td>73.7</td>\n      <td>26.3</td>\n      <td>1,008</td>\n      <td>1,073</td>\n      <td>94.6</td>\n      <td>...</td>\n      <td>0</td>\n      <td>0</td>\n      <td>0</td>\n      <td>0</td>\n      <td>0</td>\n      <td>0</td>\n      <td>0</td>\n      <td>0</td>\n      <td>0</td>\n      <td>1</td>\n    </tr>\n    <tr>\n      <th>77</th>\n      <td>650</td>\n      <td>WB</td>\n      <td>Maldah</td>\n      <td>Maldah</td>\n      <td>Total</td>\n      <td>68.4</td>\n      <td>32.9</td>\n      <td>1,019</td>\n      <td>881</td>\n      <td>93.0</td>\n      <td>...</td>\n      <td>0</td>\n      <td>0</td>\n      <td>0</td>\n      <td>0</td>\n      <td>0</td>\n      <td>0</td>\n      <td>0</td>\n      <td>0</td>\n      <td>0</td>\n      <td>1</td>\n    </tr>\n    <tr>\n      <th>78</th>\n      <td>651</td>\n      <td>WB</td>\n      <td>Murshidabad</td>\n      <td>Murshidabad</td>\n      <td>Total</td>\n      <td>70.8</td>\n      <td>31.8</td>\n      <td>1,083</td>\n      <td>1,075</td>\n      <td>98.9</td>\n      <td>...</td>\n      <td>0</td>\n      <td>0</td>\n      <td>0</td>\n      <td>0</td>\n      <td>0</td>\n      <td>0</td>\n      <td>0</td>\n      <td>0</td>\n      <td>0</td>\n      <td>1</td>\n    </tr>\n    <tr>\n      <th>79</th>\n      <td>656</td>\n      <td>WB</td>\n      <td>Puruliya</td>\n      <td>Puruliya</td>\n      <td>Total</td>\n      <td>53.6</td>\n      <td>28.8</td>\n      <td>983</td>\n      <td>998</td>\n      <td>95.9</td>\n      <td>...</td>\n      <td>0</td>\n      <td>0</td>\n      <td>0</td>\n      <td>0</td>\n      <td>0</td>\n      <td>0</td>\n      <td>0</td>\n      <td>0</td>\n      <td>0</td>\n      <td>1</td>\n    </tr>\n    <tr>\n      <th>80</th>\n      <td>658</td>\n      <td>WB</td>\n      <td>Uttar Dinajpur</td>\n      <td>Uttar Dinajpur</td>\n      <td>Total</td>\n      <td>60.1</td>\n      <td>36.8</td>\n      <td>1,023</td>\n      <td>937</td>\n      <td>88.5</td>\n      <td>...</td>\n      <td>0</td>\n      <td>0</td>\n      <td>0</td>\n      <td>0</td>\n      <td>0</td>\n      <td>0</td>\n      <td>0</td>\n      <td>0</td>\n      <td>0</td>\n      <td>1</td>\n    </tr>\n  </tbody>\n</table>\n<p>81 rows × 136 columns</p>\n</div>"
     },
     "metadata": {},
     "execution_count": 21
    }
   ],
   "source": [
    "ts=df[df['OR']==1]\n",
    "ts2=ts[ts['WB']==0]\n",
    "df"
   ]
  },
  {
   "cell_type": "code",
   "execution_count": 76,
   "metadata": {},
   "outputs": [],
   "source": [
    "def clean_df(df):\n",
    "    for i in df.columns:\n",
    "        for j in range(df.shape[0]):\n",
    "            if(not isinstance(df[i].iat[j],str) and df[i].iat[j]):\n",
    "                df[i].iat[j]=abs(df[i].iat[j])\n",
    "            if(df[i].iat[j]=='na' or df[i].iat[j]=='*' or df[i].iat[j]=='nan'):\n",
    "                df[i].iat[j]=None\n",
    "    return df  \n",
    "def clean_df2(df):\n",
    "    for i in df.columns:\n",
    "        for j in range(df.shape[0]):\n",
    "            if(isinstance(df[i].iat[j],str)):\n",
    "                df[i].iat[j]=df[i].iat[j].replace(',','')\n",
    "                df[i].iat[j]=df[i].iat[j].replace('(','')\n",
    "                df[i].iat[j]=df[i].iat[j].replace(')','')\n",
    "                df[i].iat[j]=df[i].iat[j].replace('<','')\n",
    "                df[i].iat[j]=df[i].iat[j].replace('>','')\n",
    "                df[i].iat[j]=df[i].iat[j].replace('=','')\n",
    "            if(df[i].iat[j]=='na' or df[i].iat[j]=='*' or df[i].iat[j]=='nan' or df[i].iat[j]==' *'):\n",
    "                df[i].iat[j]=None\n",
    "    return df \n",
    "def get_avg(df,l,state):\n",
    "    l2=[state]\n",
    "    new_df=df.drop(['Rural/Urban/Total','states'],axis=1)\n",
    "    for i in l:\n",
    "        l2.append(new_df[i].dropna().apply(float).apply(abs).mean())\n",
    "    cols=['state']\n",
    "    cols.extend(l)\n",
    "    temp=pd.DataFrame([l2],columns=cols)\n",
    "    return temp\n",
    "def get_avg2(df,l,state):\n",
    "    l2=[state]\n",
    "    new_df=df.drop(['Rural/Urban/Total','states'],axis=1)\n",
    "    for i in l:\n",
    "        t=new_df[i].dropna().apply(float).apply(abs)\n",
    "        t1=new_df[[i,'Population']].dropna()\n",
    "        t=t*t1['Population']\n",
    "        l2.append(t.sum()/t1['Population'].sum())\n",
    "    cols=['state']\n",
    "    cols.extend(l)\n",
    "    temp=pd.DataFrame([l2],columns=cols)\n",
    "    return temp\n",
    "    \n",
    "def get_avg2_state(df,l,state):\n",
    "    l2=[state]\n",
    "    new_df=df.drop(['category','state'],axis=1)\n",
    "    for i in l:\n",
    "        t=new_df[i].dropna().apply(float).apply(abs)\n",
    "        t1=new_df[[i,'Population']].dropna()\n",
    "        t=t*t1['Population']\n",
    "        l2.append(t.sum()/t1['Population'].sum())\n",
    "    cols=['state']\n",
    "    cols.extend(l)\n",
    "    temp=pd.DataFrame([l2],columns=cols)\n",
    "    return temp\n",
    "\n",
    "def bar_graph1(df1,df2,df3,df4,l,state):\n",
    "    nfhs4_bord=get_avg(df1,l,'NFHS4 Border')\n",
    "    nfhs5_bord=get_avg(df2,l,'NFHS5 Border')\n",
    "    wb_5=get_avg(df3,l,state+' NFHS5')\n",
    "    wb_4=get_avg(df4,l,state+' NFHS4')\n",
    "    final_df=nfhs4_bord.append([nfhs5_bord,wb_4,wb_5])\n",
    "    final_df=final_df.set_index(['states'])\n",
    "    final_df=final_df.T\n",
    "\n",
    "    return final_df\n",
    "\n",
    "def bar_graph2(df1,df4,l,state):\n",
    "    nfhs4_bord=get_avg2(df1,l,'NFHS4 Border')\n",
    "    wb_4=get_avg2(df4,l,state+' NFHS4')\n",
    "    final_df=nfhs4_bord.append([wb_4])\n",
    "    final_df=final_df.set_index(['state'])\n",
    "    final_df=final_df.T\n",
    "\n",
    "    return final_df\n",
    "def bar_graph2_state(df1,df4,l,state):\n",
    "    nfhs4_bord=get_avg2_state(df1,l,'NFHS4 Border')\n",
    "    wb_4=get_avg2_state(df4,l,state+' NFHS4')\n",
    "    final_df=nfhs4_bord.append([wb_4])\n",
    "    final_df=final_df.set_index(['state'])\n",
    "    final_df=final_df.T\n",
    "\n",
    "    return final_df\n"
   ]
  },
  {
   "cell_type": "code",
   "execution_count": 13,
   "metadata": {},
   "outputs": [],
   "source": [
    "graph1=['1. Population (female) age 6 years and above who ever attended school (%)(PHP)',\n",
    " '2. Population below age 15 years (%)(PHP)',\n",
    " '3. Sex ratio of the total population (females per 1,000 males)(PHP)',\n",
    " '4. Sex ratio at birth for children born in the last five years (females per 1,000 males)(PHP)',\n",
    " '5. Children under age 5 years whose birth was registered (%)(PHP)',\n",
    " '6. Households with electricity (%)(PHP)',\n",
    " '7. Households with an improved drinking-water source1 (%)(PHP)',\n",
    " '8. Households using improved sanitation facility2 (%)(PHP)',\n",
    " '9. Households using clean fuel for cooking3 (%)(PHP)',\n",
    " '10. Households using iodized salt (%)(PHP)']\n",
    "graph2=['11. Households with any usual member covered by a health scheme or health insurance (%)(PHP)',\n",
    " '12. Women who are literate (%)(CW(Age 15-49))',\n",
    " '13. Men who are literate (%)(CW(Age 15-49))',\n",
    " '14. Women with 10 or more years of schooling (%)(CW(Age 15-49))']\n",
    "#new3 not present at district level\n",
    "graph3=['18. Any method4 (%)(CUFMP(CW Age 15-49))',\n",
    " '19. Any modern method4 (%)(CUFMP(CW Age 15-49))',\n",
    " '20. Female sterilization (%)(CUFMP(CW Age 15-49))',\n",
    " '21. Male sterilization (%)(CUFMP(CW Age 15-49))',\n",
    " '22. IUD/PPIUD (%)(CUFMP(CW Age 15-49))',\n",
    " '23. Pill (%)(CUFMP(CW Age 15-49))',\n",
    " '24. Condom (%)(CUFMP(CW Age 15-49))']\n",
    "graph4=['25. Total unmet need (%)(UNPF(CW Age 15-49))',\n",
    " '26. Unmet need for spacing (%)(UNPF(CW Age 15-49))']\n",
    "graph5=['27. Health worker ever talked to female non-users about family planning (%)(QFPS)',\n",
    " '28. Current users ever told about side effects of current method6 (%)(QFPS)']\n",
    "graph6=[ '29. Mothers who had antenatal check-up in the first trimester (%)(MCH-MC(LB 5Years))',\n",
    " '30. Mothers who had at least 4 antenatal care visits (%)(MCH-MC(LB 5Years))',\n",
    " '31. Mothers whose last birth was protected against neonatal tetanus7 (%)(MCH-MC(LB 5Years))',\n",
    " '32. Mothers who consumed iron folic acid for 100 days or more when they were pregnant (%)(MCH-MC(LB 5Years))',\n",
    " '33. Mothers who had full antenatal care8 (%)(MCH-MC(LB 5Years))',\n",
    " '(MCP) card (%)(MCH-MC(LB 5Years))',\n",
    " 'personnel within 2 days of delivery (%)(MCH-MC(LB 5Years))']\n",
    "#new8=['37. Registered pregnancies for which the mother received a Mother and Child Protection (MCP) card (%)(DC(LB 5Years))',\n",
    " #'38. Mothers who received postnatal care from a doctor/nurse/LHV/ANM/midwife/other health personnel within 2 days of delivery (%)(DC(LB 5Years))']\n",
    "graph7=['40. Institutional births (%)(DC(LB 5Years))',\n",
    " '41. Institutional births in public facility (%)(DC(LB 5Years))',\n",
    " '42. Home delivery conducted by skilled health personnel (out of total deliveries) (%)(DC(LB 5Years))',\n",
    " '43. Births assisted by a doctor/nurse/LHV/ANM/other health personnel (%)(DC(LB 5Years))',\n",
    " '44. Births delivered by caesarean section (%)(DC(LB 5Years))',\n",
    " '45. Births in a private health facility delivered by caesarean section (%)(DC(LB 5Years))',\n",
    " '46. Births in a public health facility delivered by caesarean section (%)(DC(LB 5Years))',\n",
    " ]\n",
    "graph8=['48. Children age 12-23 months who have received BCG (%)(CIVAS)',\n",
    " '49. Children age 12-23 months who have received 3 doses of polio vaccine (%)(CIVAS)',\n",
    " '50. Children age 12-23 months who have received 3 doses of DPT vaccine (%)(CIVAS)',\n",
    " '51. Children age 12-23 months who have received measles vaccine (%)(CIVAS)',\n",
    " '52. Children age 12-23 months who have received 3 doses of Hepatitis B vaccine (%)(CIVAS)',\n",
    " '53. Children age 9-59 months who received a vitamin A dose in last 6 months (%)(CIVAS)',\n",
    " '54. Children age 12-23 months who received most of the vaccinations in public health facility (%)(CIVAS)',\n",
    " '55. Children age 12-23 months who received most of the vaccinations in private health facility (%)(CIVAS)']\n",
    "graph9=[\n",
    " '59. Children with diarrhoea in the last 2 weeks taken to a health facility (%)(TCD(CU5Years))',\n",
    " '57. Children with diarrhoea in the last 2 weeks who received oral rehydration salts (ORS) (%)(TCD(CU5Years))',\n",
    " 'facility (%)(TCD(CU5Years))']\n",
    " #new12= graph12 data not available\n",
    "graph10=['62. Children under age 3 years breastfed within one hour of birth9 (%)(CFPNSC)',\n",
    " '63. Children under age 6 months exclusively breastfed10 (%)(CFPNSC)',\n",
    " '65. Breastfeeding children age 6-23 months receiving an adequate diet10,11 (%)(CFPNSC)',\n",
    " '67. Total children age 6-23 months receiving an adequate diet10,11 (%)(CFPNSC)',\n",
    " '68. Children under 5 years who are stunted (height-for-age)12 (%)(CFPNSC)',\n",
    " '69. Children under 5 years who are wasted (weight-for-height)12 (%)(CFPNSC)',\n",
    " '70. Children under 5 years who are severely wasted (weight-for-height)13 (%)(CFPNSC)',\n",
    " '71. Children under 5 years who are underweight (weight-for-age)12 (%)(CFPNSC)',\n",
    " '72. Women whose Body Mass Index (BMI) is below normal (BMI < 18.5 kg/m2)14 (%)(NSW(Age 15-49))',\n",
    " '73. Men whose Body Mass Index (BMI) is below normal (BMI < 18.5 kg/m2) (%)(NSW(Age 15-49))',\n",
    " '74. Women who are overweight or obese (BMI ò 25.0 kg/m2)14 (%)(NSW(Age 15-49))',\n",
    " '75. Men who are overweight or obese (BMI ò 25.0 kg/m2) (%)(NSW(Age 15-49))']"
   ]
  },
  {
   "cell_type": "code",
   "execution_count": 14,
   "metadata": {},
   "outputs": [],
   "source": [
    "df_wb_border=df[(df['states']=='BR')|(df['states']=='JH')|(df['states']=='AS')|(df['states']=='SK')]\n",
    "df_ts_border=df[(df['states']=='AP')|(df['states']=='KA')|(df['states']=='CG')|(df['states']=='MH')]\n",
    "df_or_border=df[(df['states']=='AP')|(df['states']=='JH')|(df['states']=='CG')]\n",
    "df_border=df[(df['states']=='AP')|(df['states']=='JH')|(df['states']=='CG')|(df['states']=='MH')|(df['states']=='AS')|(df['states']=='SK')|(df['states']=='BR')|(df['states']=='UP')|(df['states']=='HR')]\n",
    "df_up_hr=df[(df['states']=='UP')|(df['states']=='HR')]\n",
    "df_dl=df[df['states']=='DL']\n",
    "df_or=df[df['states']=='OR']\n",
    "df_ts=df[df['states']=='TS']\n",
    "df_wb=df[df['states']=='WB']\n",
    "df_non_imp=df[(df['states']=='OR') | (df['states']=='WB') | (df['states']=='TS')|(df['states']=='DL')]\n",
    "df_imp=df[(df['states']=='OR') | (df['states']=='WB') | (df['states']=='TS')|(df['states']=='DL')]"
   ]
  },
  {
   "cell_type": "code",
   "execution_count": 3,
   "metadata": {},
   "outputs": [
    {
     "output_type": "execute_result",
     "data": {
      "text/plain": [
       "    Unnamed: 0 states      district      District Rural/Urban/Total  \\\n",
       "51         418     OR     Baleshwar     Baleshwar             Total   \n",
       "52         419     OR       Bargarh       Bargarh             Total   \n",
       "53         425     OR      Gajapati      Gajapati             Total   \n",
       "54         426     OR        Ganjam        Ganjam             Total   \n",
       "55         429     OR    Jharsuguda    Jharsuguda             Total   \n",
       "56         430     OR     Kalahandi     Kalahandi             Total   \n",
       "57         433     OR     Kendujhar     Kendujhar             Total   \n",
       "58         435     OR       Koraput       Koraput             Total   \n",
       "59         436     OR    Malkangiri    Malkangiri             Total   \n",
       "60         437     OR    Mayurbhanj    Mayurbhanj             Total   \n",
       "61         438     OR  Nabarangapur  Nabarangapur             Total   \n",
       "62         440     OR       Nuapada       Nuapada             Total   \n",
       "63         442     OR      Rayagada      Rayagada             Total   \n",
       "64         445     OR    Sundargarh    Sundargarh             Total   \n",
       "\n",
       "    1. Population (female) age 6 years and above who ever attended school (%)(PHP)  \\\n",
       "51                                               74.1                                \n",
       "52                                               69.6                                \n",
       "53                                               53.3                                \n",
       "54                                               64.5                                \n",
       "55                                               70.9                                \n",
       "56                                               50.9                                \n",
       "57                                               64.1                                \n",
       "58                                               46.2                                \n",
       "59                                               44.5                                \n",
       "60                                               59.3                                \n",
       "61                                               48.6                                \n",
       "62                                               57.2                                \n",
       "63                                               43.8                                \n",
       "64                                               65.1                                \n",
       "\n",
       "    2. Population below age 15 years (%)(PHP)  \\\n",
       "51                                       26.5   \n",
       "52                                       24.2   \n",
       "53                                       31.8   \n",
       "54                                       25.7   \n",
       "55                                       22.3   \n",
       "56                                       28.9   \n",
       "57                                       28.8   \n",
       "58                                       31.0   \n",
       "59                                       34.3   \n",
       "60                                       27.4   \n",
       "61                                       33.2   \n",
       "62                                       30.9   \n",
       "63                                       29.7   \n",
       "64                                       25.9   \n",
       "\n",
       "   3. Sex ratio of the total population (females per 1,000 males)(PHP)  \\\n",
       "51                                              1,089                    \n",
       "52                                              1,020                    \n",
       "53                                              1,026                    \n",
       "54                                              1,111                    \n",
       "55                                                995                    \n",
       "56                                              1,011                    \n",
       "57                                              1,065                    \n",
       "58                                              1,019                    \n",
       "59                                              1,027                    \n",
       "60                                              1,032                    \n",
       "61                                              1,036                    \n",
       "62                                              1,044                    \n",
       "63                                              1,074                    \n",
       "64                                              1,065                    \n",
       "\n",
       "   4. Sex ratio at birth for children born in the last five years (females per 1,000 males)(PHP)  \\\n",
       "51                                                969                                              \n",
       "52                                                929                                              \n",
       "53                                                800                                              \n",
       "54                                                801                                              \n",
       "55                                              1,045                                              \n",
       "56                                                898                                              \n",
       "57                                                843                                              \n",
       "58                                                872                                              \n",
       "59                                                925                                              \n",
       "60                                                974                                              \n",
       "61                                              1,077                                              \n",
       "62                                                999                                              \n",
       "63                                                967                                              \n",
       "64                                              1,038                                              \n",
       "\n",
       "    5. Children under age 5 years whose birth was registered (%)(PHP)  ...  \\\n",
       "51                                               90.3                  ...   \n",
       "52                                               88.1                  ...   \n",
       "53                                               82.9                  ...   \n",
       "54                                               93.1                  ...   \n",
       "55                                               94.0                  ...   \n",
       "56                                               79.7                  ...   \n",
       "57                                               66.0                  ...   \n",
       "58                                               83.9                  ...   \n",
       "59                                               75.3                  ...   \n",
       "60                                               79.5                  ...   \n",
       "61                                               65.9                  ...   \n",
       "62                                               66.7                  ...   \n",
       "63                                               79.1                  ...   \n",
       "64                                               73.5                  ...   \n",
       "\n",
       "    PB  PY  RJ  SK  TN  TR  TS  UK  UP  WB  \n",
       "51   0   0   0   0   0   0   0   0   0   1  \n",
       "52   0   0   0   0   0   0   0   0   0   0  \n",
       "53   0   0   0   0   0   0   0   0   0   0  \n",
       "54   0   0   0   0   0   0   0   0   0   0  \n",
       "55   0   0   0   0   0   0   0   0   0   0  \n",
       "56   0   0   0   0   0   0   0   0   0   0  \n",
       "57   0   0   0   0   0   0   0   0   0   0  \n",
       "58   0   0   0   0   0   0   0   0   0   0  \n",
       "59   0   0   0   0   0   0   0   0   0   0  \n",
       "60   0   0   0   0   0   0   0   0   0   1  \n",
       "61   0   0   0   0   0   0   0   0   0   0  \n",
       "62   0   0   0   0   0   0   0   0   0   0  \n",
       "63   0   0   0   0   0   0   0   0   0   0  \n",
       "64   0   0   0   0   0   0   0   0   0   0  \n",
       "\n",
       "[14 rows x 136 columns]"
      ],
      "text/html": "<div>\n<style scoped>\n    .dataframe tbody tr th:only-of-type {\n        vertical-align: middle;\n    }\n\n    .dataframe tbody tr th {\n        vertical-align: top;\n    }\n\n    .dataframe thead th {\n        text-align: right;\n    }\n</style>\n<table border=\"1\" class=\"dataframe\">\n  <thead>\n    <tr style=\"text-align: right;\">\n      <th></th>\n      <th>Unnamed: 0</th>\n      <th>states</th>\n      <th>district</th>\n      <th>District</th>\n      <th>Rural/Urban/Total</th>\n      <th>1. Population (female) age 6 years and above who ever attended school (%)(PHP)</th>\n      <th>2. Population below age 15 years (%)(PHP)</th>\n      <th>3. Sex ratio of the total population (females per 1,000 males)(PHP)</th>\n      <th>4. Sex ratio at birth for children born in the last five years (females per 1,000 males)(PHP)</th>\n      <th>5. Children under age 5 years whose birth was registered (%)(PHP)</th>\n      <th>...</th>\n      <th>PB</th>\n      <th>PY</th>\n      <th>RJ</th>\n      <th>SK</th>\n      <th>TN</th>\n      <th>TR</th>\n      <th>TS</th>\n      <th>UK</th>\n      <th>UP</th>\n      <th>WB</th>\n    </tr>\n  </thead>\n  <tbody>\n    <tr>\n      <th>51</th>\n      <td>418</td>\n      <td>OR</td>\n      <td>Baleshwar</td>\n      <td>Baleshwar</td>\n      <td>Total</td>\n      <td>74.1</td>\n      <td>26.5</td>\n      <td>1,089</td>\n      <td>969</td>\n      <td>90.3</td>\n      <td>...</td>\n      <td>0</td>\n      <td>0</td>\n      <td>0</td>\n      <td>0</td>\n      <td>0</td>\n      <td>0</td>\n      <td>0</td>\n      <td>0</td>\n      <td>0</td>\n      <td>1</td>\n    </tr>\n    <tr>\n      <th>52</th>\n      <td>419</td>\n      <td>OR</td>\n      <td>Bargarh</td>\n      <td>Bargarh</td>\n      <td>Total</td>\n      <td>69.6</td>\n      <td>24.2</td>\n      <td>1,020</td>\n      <td>929</td>\n      <td>88.1</td>\n      <td>...</td>\n      <td>0</td>\n      <td>0</td>\n      <td>0</td>\n      <td>0</td>\n      <td>0</td>\n      <td>0</td>\n      <td>0</td>\n      <td>0</td>\n      <td>0</td>\n      <td>0</td>\n    </tr>\n    <tr>\n      <th>53</th>\n      <td>425</td>\n      <td>OR</td>\n      <td>Gajapati</td>\n      <td>Gajapati</td>\n      <td>Total</td>\n      <td>53.3</td>\n      <td>31.8</td>\n      <td>1,026</td>\n      <td>800</td>\n      <td>82.9</td>\n      <td>...</td>\n      <td>0</td>\n      <td>0</td>\n      <td>0</td>\n      <td>0</td>\n      <td>0</td>\n      <td>0</td>\n      <td>0</td>\n      <td>0</td>\n      <td>0</td>\n      <td>0</td>\n    </tr>\n    <tr>\n      <th>54</th>\n      <td>426</td>\n      <td>OR</td>\n      <td>Ganjam</td>\n      <td>Ganjam</td>\n      <td>Total</td>\n      <td>64.5</td>\n      <td>25.7</td>\n      <td>1,111</td>\n      <td>801</td>\n      <td>93.1</td>\n      <td>...</td>\n      <td>0</td>\n      <td>0</td>\n      <td>0</td>\n      <td>0</td>\n      <td>0</td>\n      <td>0</td>\n      <td>0</td>\n      <td>0</td>\n      <td>0</td>\n      <td>0</td>\n    </tr>\n    <tr>\n      <th>55</th>\n      <td>429</td>\n      <td>OR</td>\n      <td>Jharsuguda</td>\n      <td>Jharsuguda</td>\n      <td>Total</td>\n      <td>70.9</td>\n      <td>22.3</td>\n      <td>995</td>\n      <td>1,045</td>\n      <td>94.0</td>\n      <td>...</td>\n      <td>0</td>\n      <td>0</td>\n      <td>0</td>\n      <td>0</td>\n      <td>0</td>\n      <td>0</td>\n      <td>0</td>\n      <td>0</td>\n      <td>0</td>\n      <td>0</td>\n    </tr>\n    <tr>\n      <th>56</th>\n      <td>430</td>\n      <td>OR</td>\n      <td>Kalahandi</td>\n      <td>Kalahandi</td>\n      <td>Total</td>\n      <td>50.9</td>\n      <td>28.9</td>\n      <td>1,011</td>\n      <td>898</td>\n      <td>79.7</td>\n      <td>...</td>\n      <td>0</td>\n      <td>0</td>\n      <td>0</td>\n      <td>0</td>\n      <td>0</td>\n      <td>0</td>\n      <td>0</td>\n      <td>0</td>\n      <td>0</td>\n      <td>0</td>\n    </tr>\n    <tr>\n      <th>57</th>\n      <td>433</td>\n      <td>OR</td>\n      <td>Kendujhar</td>\n      <td>Kendujhar</td>\n      <td>Total</td>\n      <td>64.1</td>\n      <td>28.8</td>\n      <td>1,065</td>\n      <td>843</td>\n      <td>66.0</td>\n      <td>...</td>\n      <td>0</td>\n      <td>0</td>\n      <td>0</td>\n      <td>0</td>\n      <td>0</td>\n      <td>0</td>\n      <td>0</td>\n      <td>0</td>\n      <td>0</td>\n      <td>0</td>\n    </tr>\n    <tr>\n      <th>58</th>\n      <td>435</td>\n      <td>OR</td>\n      <td>Koraput</td>\n      <td>Koraput</td>\n      <td>Total</td>\n      <td>46.2</td>\n      <td>31.0</td>\n      <td>1,019</td>\n      <td>872</td>\n      <td>83.9</td>\n      <td>...</td>\n      <td>0</td>\n      <td>0</td>\n      <td>0</td>\n      <td>0</td>\n      <td>0</td>\n      <td>0</td>\n      <td>0</td>\n      <td>0</td>\n      <td>0</td>\n      <td>0</td>\n    </tr>\n    <tr>\n      <th>59</th>\n      <td>436</td>\n      <td>OR</td>\n      <td>Malkangiri</td>\n      <td>Malkangiri</td>\n      <td>Total</td>\n      <td>44.5</td>\n      <td>34.3</td>\n      <td>1,027</td>\n      <td>925</td>\n      <td>75.3</td>\n      <td>...</td>\n      <td>0</td>\n      <td>0</td>\n      <td>0</td>\n      <td>0</td>\n      <td>0</td>\n      <td>0</td>\n      <td>0</td>\n      <td>0</td>\n      <td>0</td>\n      <td>0</td>\n    </tr>\n    <tr>\n      <th>60</th>\n      <td>437</td>\n      <td>OR</td>\n      <td>Mayurbhanj</td>\n      <td>Mayurbhanj</td>\n      <td>Total</td>\n      <td>59.3</td>\n      <td>27.4</td>\n      <td>1,032</td>\n      <td>974</td>\n      <td>79.5</td>\n      <td>...</td>\n      <td>0</td>\n      <td>0</td>\n      <td>0</td>\n      <td>0</td>\n      <td>0</td>\n      <td>0</td>\n      <td>0</td>\n      <td>0</td>\n      <td>0</td>\n      <td>1</td>\n    </tr>\n    <tr>\n      <th>61</th>\n      <td>438</td>\n      <td>OR</td>\n      <td>Nabarangapur</td>\n      <td>Nabarangapur</td>\n      <td>Total</td>\n      <td>48.6</td>\n      <td>33.2</td>\n      <td>1,036</td>\n      <td>1,077</td>\n      <td>65.9</td>\n      <td>...</td>\n      <td>0</td>\n      <td>0</td>\n      <td>0</td>\n      <td>0</td>\n      <td>0</td>\n      <td>0</td>\n      <td>0</td>\n      <td>0</td>\n      <td>0</td>\n      <td>0</td>\n    </tr>\n    <tr>\n      <th>62</th>\n      <td>440</td>\n      <td>OR</td>\n      <td>Nuapada</td>\n      <td>Nuapada</td>\n      <td>Total</td>\n      <td>57.2</td>\n      <td>30.9</td>\n      <td>1,044</td>\n      <td>999</td>\n      <td>66.7</td>\n      <td>...</td>\n      <td>0</td>\n      <td>0</td>\n      <td>0</td>\n      <td>0</td>\n      <td>0</td>\n      <td>0</td>\n      <td>0</td>\n      <td>0</td>\n      <td>0</td>\n      <td>0</td>\n    </tr>\n    <tr>\n      <th>63</th>\n      <td>442</td>\n      <td>OR</td>\n      <td>Rayagada</td>\n      <td>Rayagada</td>\n      <td>Total</td>\n      <td>43.8</td>\n      <td>29.7</td>\n      <td>1,074</td>\n      <td>967</td>\n      <td>79.1</td>\n      <td>...</td>\n      <td>0</td>\n      <td>0</td>\n      <td>0</td>\n      <td>0</td>\n      <td>0</td>\n      <td>0</td>\n      <td>0</td>\n      <td>0</td>\n      <td>0</td>\n      <td>0</td>\n    </tr>\n    <tr>\n      <th>64</th>\n      <td>445</td>\n      <td>OR</td>\n      <td>Sundargarh</td>\n      <td>Sundargarh</td>\n      <td>Total</td>\n      <td>65.1</td>\n      <td>25.9</td>\n      <td>1,065</td>\n      <td>1,038</td>\n      <td>73.5</td>\n      <td>...</td>\n      <td>0</td>\n      <td>0</td>\n      <td>0</td>\n      <td>0</td>\n      <td>0</td>\n      <td>0</td>\n      <td>0</td>\n      <td>0</td>\n      <td>0</td>\n      <td>0</td>\n    </tr>\n  </tbody>\n</table>\n<p>14 rows × 136 columns</p>\n</div>"
     },
     "metadata": {},
     "execution_count": 3
    }
   ],
   "source": [
    "df_or"
   ]
  },
  {
   "cell_type": "code",
   "execution_count": 11,
   "metadata": {},
   "outputs": [],
   "source": [
    "clean_df2(df_up_hr)\n",
    "clean_df2(df_dl)\n",
    "df_dl_border=df_up_hr\n",
    "df_temp1=bar_graph2(df_dl_border,df_dl,graph1,'Delhi')\n",
    "df_temp2=bar_graph2(df_dl_border,df_dl,graph2,'Delhi')\n",
    "df_temp3=bar_graph2(df_dl_border,df_dl,graph3,'Delhi')\n",
    "df_temp4=bar_graph2(df_dl_border,df_dl,graph4,'Delhi')\n",
    "df_temp5=bar_graph2(df_dl_border,df_dl,graph5,'Delhi')\n",
    "df_temp6=bar_graph2(df_dl_border,df_dl,graph6,'Delhi')\n",
    "df_temp7=bar_graph2(df_dl_border,df_dl,graph7,'Delhi')\n",
    "df_temp8=bar_graph2(df_dl_border,df_dl,graph8,'Delhi')\n",
    "df_temp9=bar_graph2(df_dl_border,df_dl,graph9,'Delhi')\n",
    "df_temp10=bar_graph2(df_dl_border,df_dl,graph10,'Delhi')\n",
    "df_delhi=df_temp1.append([df_temp2,df_temp3,df_temp4,df_temp5,df_temp6,df_temp7,df_temp8,df_temp9,df_temp10])\n",
    "df_delhi.to_csv('delhi_border_districts_nfhs4_3.csv')"
   ]
  },
  {
   "cell_type": "code",
   "execution_count": 62,
   "metadata": {},
   "outputs": [],
   "source": [
    "clean_df2(df_wb)\n",
    "clean_df2(df_wb_border)\n",
    "df_temp1=bar_graph2(df_wb_border,df_wb,graph1,'West Bengal')\n",
    "df_temp2=bar_graph2(df_wb_border,df_wb,graph2,'West Bengal')\n",
    "df_temp3=bar_graph2(df_wb_border,df_wb,graph3,'West Bengal')\n",
    "df_temp4=bar_graph2(df_wb_border,df_wb,graph4,'West Bengal')\n",
    "df_temp5=bar_graph2(df_wb_border,df_wb,graph5,'West Bengal')\n",
    "df_temp6=bar_graph2(df_wb_border,df_wb,graph6,'West Bengal')\n",
    "df_temp7=bar_graph2(df_wb_border,df_wb,graph7,'West Bengal')\n",
    "df_temp8=bar_graph2(df_wb_border,df_wb,graph8,'West Bengal')\n",
    "df_temp9=bar_graph2(df_wb_border,df_wb,graph9,'West Bengal')\n",
    "df_temp10=bar_graph2(df_wb_border,df_wb,graph10,'West Bengal')\n",
    "\n",
    "df_west=df_temp1.append([df_temp2,df_temp3,df_temp4,df_temp5,df_temp6,df_temp7,df_temp8,df_temp9,df_temp10])\n",
    "df_west.to_csv('wb_border_districts_nfhs4_3.csv')"
   ]
  },
  {
   "cell_type": "code",
   "execution_count": 70,
   "metadata": {},
   "outputs": [],
   "source": [
    "clean_df2(df_ts)\n",
    "clean_df2(df_ts_border)\n",
    "df_temp1=bar_graph2(df_ts_border,df_ts,graph1,'Telangana')\n",
    "df_temp2=bar_graph2(df_ts_border,df_ts,graph2,'Telangana')\n",
    "df_temp3=bar_graph2(df_ts_border,df_ts,graph3,'Telangana')\n",
    "df_temp4=bar_graph2(df_ts_border,df_ts,graph4,'Telangana')\n",
    "df_temp5=bar_graph2(df_ts_border,df_ts,graph5,'Telangana')\n",
    "df_temp6=bar_graph2(df_ts_border,df_ts,graph6,'Telangana')\n",
    "df_temp7=bar_graph2(df_ts_border,df_ts,graph7,'Telangana')\n",
    "df_temp8=bar_graph2(df_ts_border,df_ts,graph8,'Telangana')\n",
    "df_temp9=bar_graph2(df_ts_border,df_ts,graph9,'Telangana')\n",
    "df_temp10=bar_graph2(df_ts_border,df_ts,graph10,'Telangana')\n",
    "\n",
    "df_telangana=df_temp1.append([df_temp2,df_temp3,df_temp4,df_temp5,df_temp6,df_temp7,df_temp8,df_temp9,df_temp10])\n",
    "df_telangana.to_csv('ts_border_districts_nfhs4_2.csv')"
   ]
  },
  {
   "cell_type": "code",
   "execution_count": 71,
   "metadata": {},
   "outputs": [],
   "source": [
    "clean_df2(df_or)\n",
    "clean_df2(df_or_border)\n",
    "df_temp1=bar_graph2(df_or_border,df_or,graph1,'Orissa')\n",
    "df_temp2=bar_graph2(df_or_border,df_or,graph2,'Orissa')\n",
    "df_temp3=bar_graph2(df_or_border,df_or,graph3,'Orissa')\n",
    "df_temp4=bar_graph2(df_or_border,df_or,graph4,'Orissa')\n",
    "df_temp5=bar_graph2(df_or_border,df_or,graph5,'Orissa')\n",
    "df_temp6=bar_graph2(df_or_border,df_or,graph6,'Orissa')\n",
    "df_temp7=bar_graph2(df_or_border,df_or,graph7,'Orissa')\n",
    "df_temp8=bar_graph2(df_or_border,df_or,graph8,'Orissa')\n",
    "df_temp9=bar_graph2(df_or_border,df_or,graph9,'Orissa')\n",
    "df_temp10=bar_graph2(df_or_border,df_or,graph10,'Orissa')\n",
    "\n",
    "df_orissa=df_temp1.append([df_temp2,df_temp3,df_temp4,df_temp5,df_temp6,df_temp7,df_temp8,df_temp9,df_temp10])\n",
    "df_orissa.to_csv('orissa_border_districts_nfhs4_3.csv')"
   ]
  },
  {
   "cell_type": "code",
   "execution_count": 15,
   "metadata": {},
   "outputs": [],
   "source": [
    "clean_df2(df_border)\n",
    "clean_df2(df_non_imp)\n",
    "df_temp1=bar_graph2(df_border,df_non_imp,graph1,'Non Implemented')\n",
    "df_temp2=bar_graph2(df_border,df_non_imp,graph2,'Non Implemented')\n",
    "df_temp3=bar_graph2(df_border,df_non_imp,graph3,'Non Implemented')\n",
    "df_temp4=bar_graph2(df_border,df_non_imp,graph4,'Non Implemented')\n",
    "df_temp5=bar_graph2(df_border,df_non_imp,graph5,'Non Implemented')\n",
    "df_temp6=bar_graph2(df_border,df_non_imp,graph6,'Non Implemented')\n",
    "df_temp7=bar_graph2(df_border,df_non_imp,graph7,'Non Implemented')\n",
    "df_temp8=bar_graph2(df_border,df_non_imp,graph8,'Non Implemented')\n",
    "df_temp9=bar_graph2(df_border,df_non_imp,graph9,'Non Implemented')\n",
    "df_temp10=bar_graph2(df_border,df_non_imp,graph10,'Non Implemented')\n",
    "\n",
    "\n",
    "df_all=df_temp1.append([df_temp2,df_temp3,df_temp4,df_temp5,df_temp6,df_temp7,df_temp8,df_temp9,df_temp10])\n",
    "df_all.to_csv('all_border_districts_nfhs4_7.csv')"
   ]
  },
  {
   "cell_type": "code",
   "execution_count": 22,
   "metadata": {},
   "outputs": [],
   "source": [
    "df_temp10=bar_graph2(df_border,df_non_imp,cols,'Non Implemented')"
   ]
  },
  {
   "cell_type": "code",
   "execution_count": 24,
   "metadata": {},
   "outputs": [],
   "source": [
    "df_temp10.to_csv('all_border_districts_nfhs_8.csv')"
   ]
  },
  {
   "cell_type": "code",
   "execution_count": 276,
   "metadata": {},
   "outputs": [],
   "source": [
    "df=pd.read_csv('nfhs4.csv')\n",
    "df=df[df['category']=='Total']"
   ]
  },
  {
   "cell_type": "code",
   "execution_count": 277,
   "metadata": {},
   "outputs": [],
   "source": [
    "pops=pd.read_csv('state_populations.csv')\n",
    "pops=pops.rename({'State':'state'},axis=1)\n",
    "pops\n",
    "df=df.merge(pops,on='state')\n"
   ]
  },
  {
   "cell_type": "code",
   "execution_count": 278,
   "metadata": {},
   "outputs": [],
   "source": [
    "df.Population=df.Population.apply(float)\n"
   ]
  },
  {
   "cell_type": "code",
   "execution_count": 259,
   "metadata": {},
   "outputs": [
    {
     "output_type": "execute_result",
     "data": {
      "text/plain": [
       "1      49577103.0\n",
       "3     104099452.0\n",
       "24     25351462.0\n",
       "Name: Population, dtype: float64"
      ]
     },
     "metadata": {},
     "execution_count": 259
    }
   ],
   "source": [
    "df_border2.Population"
   ]
  },
  {
   "cell_type": "code",
   "execution_count": 280,
   "metadata": {},
   "outputs": [],
   "source": [
    "cols=list(df.columns)\n",
    "cols=cols[3:len(cols)-2]"
   ]
  },
  {
   "cell_type": "code",
   "execution_count": 279,
   "metadata": {},
   "outputs": [],
   "source": [
    "df_border=df[(df['state']=='AP')|(df['state']=='JH')|(df['state']=='CG')|(df['state']=='MH')|(df['state']=='AS')|(df['state']=='SK')|(df['state']=='BR')|(df['state']=='UP')|(df['state']=='HR')]\n",
    "df_border2=df[(df['state']=='AP')|(df['state']=='HR')|(df['state']=='BR')|(df['state']=='JH')]\n",
    "df_non_imp=df[(df['state']=='OR') | (df['state']=='WB') | (df['state']=='TS')|(df['state']=='DL')]\n",
    "df_imp=df[(df['state']!='OR') & (df['state']!='WB') & (df['state']!='TS')&(df['state']!='DL')]"
   ]
  },
  {
   "cell_type": "code",
   "execution_count": 205,
   "metadata": {},
   "outputs": [],
   "source": [
    "import re\n",
    "def clean_df2(df):\n",
    "    for i in df.columns:\n",
    "        for j in range(df.shape[0]):\n",
    "            if(isinstance(df[i].iat[j],str)):\n",
    "                df[i].iat[j]=re.sub('[^A-Za-z0-9]+', '', df[i].iat[j])\n",
    "            if(df[i].iat[j]=='na' or df[i].iat[j]=='*' or df[i].iat[j]=='nan' or df[i].iat[j]==' *' or df[i].iat[j]=='' ):\n",
    "                df[i].iat[j]=None\n",
    "    return df \n",
    "def clean_df3(df):\n",
    "    for i in df.columns:\n",
    "        for j in range(df.shape[0]):\n",
    "            if(isinstance(df[i].iat[j],str)):\n",
    "                df[i].iat[j]=df[i].iat[j].replace(',','')\n",
    "                df[i].iat[j]=df[i].iat[j].replace('(','')\n",
    "                df[i].iat[j]=df[i].iat[j].replace(')','')\n",
    "                \n",
    "            if(df[i].iat[j]=='na' or df[i].iat[j]=='*' or df[i].iat[j]=='nan' or df[i].iat[j]==' *'):\n",
    "                df[i].iat[j]=None\n",
    "    return df \n",
    "    \n",
    "def get_avg2_state(df,l,state):\n",
    "    l2=[state]\n",
    "    new_df=df.drop(['category','state'],axis=1)\n",
    "    for i in l:\n",
    "        t=new_df[i].dropna().apply(float).apply(abs)\n",
    "        t1=new_df[[i,'Population']].dropna()\n",
    "        t=t*t1['Population']\n",
    "        l2.append(t.sum()/t1['Population'].sum())\n",
    "    cols=['state']\n",
    "    cols.extend(l)\n",
    "    temp=pd.DataFrame([l2],columns=cols)\n",
    "    return temp\n",
    "\n",
    "def bar_graph2_state(df1,df4,l,state):\n",
    "    nfhs4_bord=get_avg2_state(df1,l,'NFHS4 Border')\n",
    "    wb_4=get_avg2_state(df4,l,state+' NFHS4')\n",
    "    final_df=nfhs4_bord.append([wb_4])\n",
    "    final_df=final_df.set_index(['state'])\n",
    "    final_df=final_df.T\n",
    "    return final_df"
   ]
  },
  {
   "cell_type": "code",
   "execution_count": 281,
   "metadata": {},
   "outputs": [
    {
     "output_type": "execute_result",
     "data": {
      "text/plain": [
       "state                                               NFHS4 Border  \\\n",
       "1. Population (female) age 6 years and above wh...     60.348336   \n",
       "2. Population below age 15 years (%)                   33.281267   \n",
       "3. Sex ratio of the total population (females p...   1020.602690   \n",
       "4. Sex ratio at birth for children born in the ...    915.271204   \n",
       "5. Children under age 5 years whose birth was r...     70.519154   \n",
       "6. Households with electricity (%)                     76.152310   \n",
       "7. Households with an improved drinking-water s...     88.285856   \n",
       "8. Households using improved sanitation facilit...     38.173437   \n",
       "9. Households using clean fuel for cooking3 (%)        32.420043   \n",
       "10. Households using iodized salt (%)                  91.320674   \n",
       "11. Households with any usual member covered by...     27.011646   \n",
       "12. Women who are literate (%)                         57.257585   \n",
       "13. Men who are literate (%)                           80.000302   \n",
       "14. Women with 10 or more years of schooling (%)       29.157300   \n",
       "15. Women age 20-24 years married before age 18...     36.800686   \n",
       "16. Men age 25-29 years married before age 21 y...     28.630210   \n",
       "17. Total fertility rate (children per woman)           2.745942   \n",
       "18. Women age 15-19 years who were already moth...     11.310078   \n",
       "19. Infant mortality rate (IMR)                        42.544157   \n",
       "20. Under-five mortality rate (U5MR)                   51.369665   \n",
       "\n",
       "state                                               Non Implemented NFHS4  \n",
       "1. Population (female) age 6 years and above wh...              71.063124  \n",
       "2. Population below age 15 years (%)                            25.579164  \n",
       "3. Sex ratio of the total population (females p...            1001.670408  \n",
       "4. Sex ratio at birth for children born in the ...             923.574656  \n",
       "5. Children under age 5 years whose birth was r...              90.124878  \n",
       "6. Households with electricity (%)                              93.263530  \n",
       "7. Households with an improved drinking-water s...              88.800689  \n",
       "8. Households using improved sanitation facilit...              47.979596  \n",
       "9. Households using clean fuel for cooking3 (%)                 39.681098  \n",
       "10. Households using iodized salt (%)                           94.867216  \n",
       "11. Households with any usual member covered by...              41.280408  \n",
       "12. Women who are literate (%)                                  69.991826  \n",
       "13. Men who are literate (%)                                    83.004904  \n",
       "14. Women with 10 or more years of schooling (%)                32.293193  \n",
       "15. Women age 20-24 years married before age 18...              31.605272  \n",
       "16. Men age 25-29 years married before age 21 y...              16.301198  \n",
       "17. Total fertility rate (children per woman)                    1.868051  \n",
       "18. Women age 15-19 years who were already moth...              12.946527  \n",
       "19. Infant mortality rate (IMR)                                 30.994210  \n",
       "20. Under-five mortality rate (U5MR)                            36.536630  "
      ],
      "text/html": "<div>\n<style scoped>\n    .dataframe tbody tr th:only-of-type {\n        vertical-align: middle;\n    }\n\n    .dataframe tbody tr th {\n        vertical-align: top;\n    }\n\n    .dataframe thead th {\n        text-align: right;\n    }\n</style>\n<table border=\"1\" class=\"dataframe\">\n  <thead>\n    <tr style=\"text-align: right;\">\n      <th>state</th>\n      <th>NFHS4 Border</th>\n      <th>Non Implemented NFHS4</th>\n    </tr>\n  </thead>\n  <tbody>\n    <tr>\n      <th>1. Population (female) age 6 years and above who ever attended school (%)</th>\n      <td>60.348336</td>\n      <td>71.063124</td>\n    </tr>\n    <tr>\n      <th>2. Population below age 15 years (%)</th>\n      <td>33.281267</td>\n      <td>25.579164</td>\n    </tr>\n    <tr>\n      <th>3. Sex ratio of the total population (females per 1,000 males)</th>\n      <td>1020.602690</td>\n      <td>1001.670408</td>\n    </tr>\n    <tr>\n      <th>4. Sex ratio at birth for children born in the last five years (females per 1,000 males)</th>\n      <td>915.271204</td>\n      <td>923.574656</td>\n    </tr>\n    <tr>\n      <th>5. Children under age 5 years whose birth was registered (%)</th>\n      <td>70.519154</td>\n      <td>90.124878</td>\n    </tr>\n    <tr>\n      <th>6. Households with electricity (%)</th>\n      <td>76.152310</td>\n      <td>93.263530</td>\n    </tr>\n    <tr>\n      <th>7. Households with an improved drinking-water source1 (%)</th>\n      <td>88.285856</td>\n      <td>88.800689</td>\n    </tr>\n    <tr>\n      <th>8. Households using improved sanitation facility2 (%)</th>\n      <td>38.173437</td>\n      <td>47.979596</td>\n    </tr>\n    <tr>\n      <th>9. Households using clean fuel for cooking3 (%)</th>\n      <td>32.420043</td>\n      <td>39.681098</td>\n    </tr>\n    <tr>\n      <th>10. Households using iodized salt (%)</th>\n      <td>91.320674</td>\n      <td>94.867216</td>\n    </tr>\n    <tr>\n      <th>11. Households with any usual member covered by a health scheme or health insurance (%)</th>\n      <td>27.011646</td>\n      <td>41.280408</td>\n    </tr>\n    <tr>\n      <th>12. Women who are literate (%)</th>\n      <td>57.257585</td>\n      <td>69.991826</td>\n    </tr>\n    <tr>\n      <th>13. Men who are literate (%)</th>\n      <td>80.000302</td>\n      <td>83.004904</td>\n    </tr>\n    <tr>\n      <th>14. Women with 10 or more years of schooling (%)</th>\n      <td>29.157300</td>\n      <td>32.293193</td>\n    </tr>\n    <tr>\n      <th>15. Women age 20-24 years married before age 18 years (%)</th>\n      <td>36.800686</td>\n      <td>31.605272</td>\n    </tr>\n    <tr>\n      <th>16. Men age 25-29 years married before age 21 years (%)</th>\n      <td>28.630210</td>\n      <td>16.301198</td>\n    </tr>\n    <tr>\n      <th>17. Total fertility rate (children per woman)</th>\n      <td>2.745942</td>\n      <td>1.868051</td>\n    </tr>\n    <tr>\n      <th>18. Women age 15-19 years who were already mothers or pregnant at the time of the survey (%)</th>\n      <td>11.310078</td>\n      <td>12.946527</td>\n    </tr>\n    <tr>\n      <th>19. Infant mortality rate (IMR)</th>\n      <td>42.544157</td>\n      <td>30.994210</td>\n    </tr>\n    <tr>\n      <th>20. Under-five mortality rate (U5MR)</th>\n      <td>51.369665</td>\n      <td>36.536630</td>\n    </tr>\n  </tbody>\n</table>\n</div>"
     },
     "metadata": {},
     "execution_count": 281
    }
   ],
   "source": [
    "clean_df3(df_border2)\n",
    "clean_df3(df_non_imp)\n",
    "df_temp10=bar_graph2_state(df_border2,df_non_imp,cols,'Non Implemented')\n",
    "df_temp10.head(20)"
   ]
  },
  {
   "cell_type": "code",
   "execution_count": 261,
   "metadata": {},
   "outputs": [],
   "source": [
    "df_temp10.to_csv('with_selected_states_nfhs4.csv')"
   ]
  },
  {
   "cell_type": "code",
   "execution_count": 157,
   "metadata": {},
   "outputs": [],
   "source": [
    "df_temp10.to_csv('all_imp_states_vs_non_imp_states.csv')"
   ]
  },
  {
   "cell_type": "code",
   "execution_count": 216,
   "metadata": {},
   "outputs": [
    {
     "output_type": "execute_result",
     "data": {
      "text/plain": [
       "69.991826491192"
      ]
     },
     "metadata": {},
     "execution_count": 216
    }
   ],
   "source": [
    "clean_df3(df_non_imp)\n",
    "t=df_non_imp[df_non_imp.columns[14]]*df_non_imp['Population']\n",
    "t.sum()/df_non_imp['Population'].sum()"
   ]
  },
  {
   "cell_type": "code",
   "execution_count": 222,
   "metadata": {},
   "outputs": [
    {
     "output_type": "execute_result",
     "data": {
      "text/plain": [
       "18.440372389099842"
      ]
     },
     "metadata": {},
     "execution_count": 222
    }
   ],
   "source": [
    "t=df_border['11. Households with any usual member covered by a health scheme or health insurance (%)']*df_border['Population']\n",
    "t.sum()/df_border['Population'].sum()"
   ]
  },
  {
   "cell_type": "code",
   "execution_count": 207,
   "metadata": {},
   "outputs": [
    {
     "output_type": "execute_result",
     "data": {
      "text/plain": [
       "state                                               NFHS4 Border  \\\n",
       "1. Population (female) age 6 years and above wh...     68.105296   \n",
       "2. Population below age 15 years (%)                   29.277295   \n",
       "3. Sex ratio of the total population (females p...    990.171155   \n",
       "4. Sex ratio at birth for children born in the ...    919.756720   \n",
       "5. Children under age 5 years whose birth was r...     79.887204   \n",
       "6. Households with electricity (%)                     85.800885   \n",
       "7. Households with an improved drinking-water s...     90.529674   \n",
       "8. Households using improved sanitation facilit...     47.259421   \n",
       "9. Households using clean fuel for cooking3 (%)        42.671984   \n",
       "10. Households using iodized salt (%)                  93.110553   \n",
       "11. Households with any usual member covered by...     23.484977   \n",
       "12. Women who are literate (%)                         67.546949   \n",
       "13. Men who are literate (%)                           85.371337   \n",
       "14. Women with 10 or more years of schooling (%)       35.946210   \n",
       "15. Women age 20-24 years married before age 18...     25.702611   \n",
       "16. Men age 25-29 years married before age 21 y...     22.355084   \n",
       "17. Total fertility rate (children per woman)           2.288073   \n",
       "18. Women age 15-19 years who were already moth...      7.032183   \n",
       "19. Infant mortality rate (IMR)                        40.608177   \n",
       "20. Under-five mortality rate (U5MR)                   49.549859   \n",
       "\n",
       "state                                               Non Implemented NFHS4  \n",
       "1. Population (female) age 6 years and above wh...              71.063124  \n",
       "2. Population below age 15 years (%)                            25.579164  \n",
       "3. Sex ratio of the total population (females p...            1001.670408  \n",
       "4. Sex ratio at birth for children born in the ...             923.574656  \n",
       "5. Children under age 5 years whose birth was r...              90.124878  \n",
       "6. Households with electricity (%)                              93.263530  \n",
       "7. Households with an improved drinking-water s...              88.800689  \n",
       "8. Households using improved sanitation facilit...              47.979596  \n",
       "9. Households using clean fuel for cooking3 (%)                 39.681098  \n",
       "10. Households using iodized salt (%)                           94.867216  \n",
       "11. Households with any usual member covered by...              41.280408  \n",
       "12. Women who are literate (%)                                  69.991826  \n",
       "13. Men who are literate (%)                                    83.004904  \n",
       "14. Women with 10 or more years of schooling (%)                32.293193  \n",
       "15. Women age 20-24 years married before age 18...              31.605272  \n",
       "16. Men age 25-29 years married before age 21 y...              16.301198  \n",
       "17. Total fertility rate (children per woman)                    1.868051  \n",
       "18. Women age 15-19 years who were already moth...              12.946527  \n",
       "19. Infant mortality rate (IMR)                                 30.994210  \n",
       "20. Under-five mortality rate (U5MR)                            36.536630  "
      ],
      "text/html": "<div>\n<style scoped>\n    .dataframe tbody tr th:only-of-type {\n        vertical-align: middle;\n    }\n\n    .dataframe tbody tr th {\n        vertical-align: top;\n    }\n\n    .dataframe thead th {\n        text-align: right;\n    }\n</style>\n<table border=\"1\" class=\"dataframe\">\n  <thead>\n    <tr style=\"text-align: right;\">\n      <th>state</th>\n      <th>NFHS4 Border</th>\n      <th>Non Implemented NFHS4</th>\n    </tr>\n  </thead>\n  <tbody>\n    <tr>\n      <th>1. Population (female) age 6 years and above who ever attended school (%)</th>\n      <td>68.105296</td>\n      <td>71.063124</td>\n    </tr>\n    <tr>\n      <th>2. Population below age 15 years (%)</th>\n      <td>29.277295</td>\n      <td>25.579164</td>\n    </tr>\n    <tr>\n      <th>3. Sex ratio of the total population (females per 1,000 males)</th>\n      <td>990.171155</td>\n      <td>1001.670408</td>\n    </tr>\n    <tr>\n      <th>4. Sex ratio at birth for children born in the last five years (females per 1,000 males)</th>\n      <td>919.756720</td>\n      <td>923.574656</td>\n    </tr>\n    <tr>\n      <th>5. Children under age 5 years whose birth was registered (%)</th>\n      <td>79.887204</td>\n      <td>90.124878</td>\n    </tr>\n    <tr>\n      <th>6. Households with electricity (%)</th>\n      <td>85.800885</td>\n      <td>93.263530</td>\n    </tr>\n    <tr>\n      <th>7. Households with an improved drinking-water source1 (%)</th>\n      <td>90.529674</td>\n      <td>88.800689</td>\n    </tr>\n    <tr>\n      <th>8. Households using improved sanitation facility2 (%)</th>\n      <td>47.259421</td>\n      <td>47.979596</td>\n    </tr>\n    <tr>\n      <th>9. Households using clean fuel for cooking3 (%)</th>\n      <td>42.671984</td>\n      <td>39.681098</td>\n    </tr>\n    <tr>\n      <th>10. Households using iodized salt (%)</th>\n      <td>93.110553</td>\n      <td>94.867216</td>\n    </tr>\n    <tr>\n      <th>11. Households with any usual member covered by a health scheme or health insurance (%)</th>\n      <td>23.484977</td>\n      <td>41.280408</td>\n    </tr>\n    <tr>\n      <th>12. Women who are literate (%)</th>\n      <td>67.546949</td>\n      <td>69.991826</td>\n    </tr>\n    <tr>\n      <th>13. Men who are literate (%)</th>\n      <td>85.371337</td>\n      <td>83.004904</td>\n    </tr>\n    <tr>\n      <th>14. Women with 10 or more years of schooling (%)</th>\n      <td>35.946210</td>\n      <td>32.293193</td>\n    </tr>\n    <tr>\n      <th>15. Women age 20-24 years married before age 18 years (%)</th>\n      <td>25.702611</td>\n      <td>31.605272</td>\n    </tr>\n    <tr>\n      <th>16. Men age 25-29 years married before age 21 years (%)</th>\n      <td>22.355084</td>\n      <td>16.301198</td>\n    </tr>\n    <tr>\n      <th>17. Total fertility rate (children per woman)</th>\n      <td>2.288073</td>\n      <td>1.868051</td>\n    </tr>\n    <tr>\n      <th>18. Women age 15-19 years who were already mothers or pregnant at the time of the survey (%)</th>\n      <td>7.032183</td>\n      <td>12.946527</td>\n    </tr>\n    <tr>\n      <th>19. Infant mortality rate (IMR)</th>\n      <td>40.608177</td>\n      <td>30.994210</td>\n    </tr>\n    <tr>\n      <th>20. Under-five mortality rate (U5MR)</th>\n      <td>49.549859</td>\n      <td>36.536630</td>\n    </tr>\n  </tbody>\n</table>\n</div>"
     },
     "metadata": {},
     "execution_count": 207
    }
   ],
   "source": [
    "df_temp10.head(20)"
   ]
  },
  {
   "cell_type": "code",
   "execution_count": 249,
   "metadata": {},
   "outputs": [],
   "source": []
  },
  {
   "cell_type": "code",
   "execution_count": 250,
   "metadata": {},
   "outputs": [
    {
     "output_type": "execute_result",
     "data": {
      "text/plain": [
       "    Unnamed: 0             state   Population\n",
       "0            0                AN     380581.0\n",
       "1           12                AP   49577103.0\n",
       "2           24                AR    1383727.0\n",
       "3           35                AS   31205576.0\n",
       "4           47                BR  104099452.0\n",
       "5           59                CD    1055450.0\n",
       "6           71                CG   25545198.0\n",
       "7           83                DD     585764.0\n",
       "8           94                DL   16787941.0\n",
       "9          106                GA    1458545.0\n",
       "10         118                GJ   60439692.0\n",
       "11         130                HR   25351462.0\n",
       "12         142                HP    6864602.0\n",
       "13         154                LD      64429.0\n",
       "14         178                DN      52076.0\n",
       "15         182  State Unassigned          NaN\n",
       "16         188                JK   12267032.0\n",
       "17         200                JH   32988134.0\n",
       "18         212                KA   61095297.0\n",
       "19         224                KL   33406061.0\n",
       "20         238                MP   72626809.0\n",
       "21         250                MH  112374333.0\n",
       "22         262                MN    2570390.0\n",
       "23         274                ML    2966889.0\n",
       "24         285                MZ    1097206.0\n",
       "25         297                NL    1978502.0\n",
       "26         308                OR   41974219.0\n",
       "27         320                PY    1247953.0\n",
       "28         332                PB   27743338.0\n",
       "29         344                RJ   68548437.0\n",
       "30         356                SK     610577.0\n",
       "31         366                TN   72147030.0\n",
       "32         378                TS   35003674.0\n",
       "33         390                TR    3673917.0\n",
       "34         401                UP  199812341.0\n",
       "35         413                UK   10086292.0\n",
       "36         425                WB   91276115.0"
      ],
      "text/html": "<div>\n<style scoped>\n    .dataframe tbody tr th:only-of-type {\n        vertical-align: middle;\n    }\n\n    .dataframe tbody tr th {\n        vertical-align: top;\n    }\n\n    .dataframe thead th {\n        text-align: right;\n    }\n</style>\n<table border=\"1\" class=\"dataframe\">\n  <thead>\n    <tr style=\"text-align: right;\">\n      <th></th>\n      <th>Unnamed: 0</th>\n      <th>state</th>\n      <th>Population</th>\n    </tr>\n  </thead>\n  <tbody>\n    <tr>\n      <th>0</th>\n      <td>0</td>\n      <td>AN</td>\n      <td>380581.0</td>\n    </tr>\n    <tr>\n      <th>1</th>\n      <td>12</td>\n      <td>AP</td>\n      <td>49577103.0</td>\n    </tr>\n    <tr>\n      <th>2</th>\n      <td>24</td>\n      <td>AR</td>\n      <td>1383727.0</td>\n    </tr>\n    <tr>\n      <th>3</th>\n      <td>35</td>\n      <td>AS</td>\n      <td>31205576.0</td>\n    </tr>\n    <tr>\n      <th>4</th>\n      <td>47</td>\n      <td>BR</td>\n      <td>104099452.0</td>\n    </tr>\n    <tr>\n      <th>5</th>\n      <td>59</td>\n      <td>CD</td>\n      <td>1055450.0</td>\n    </tr>\n    <tr>\n      <th>6</th>\n      <td>71</td>\n      <td>CG</td>\n      <td>25545198.0</td>\n    </tr>\n    <tr>\n      <th>7</th>\n      <td>83</td>\n      <td>DD</td>\n      <td>585764.0</td>\n    </tr>\n    <tr>\n      <th>8</th>\n      <td>94</td>\n      <td>DL</td>\n      <td>16787941.0</td>\n    </tr>\n    <tr>\n      <th>9</th>\n      <td>106</td>\n      <td>GA</td>\n      <td>1458545.0</td>\n    </tr>\n    <tr>\n      <th>10</th>\n      <td>118</td>\n      <td>GJ</td>\n      <td>60439692.0</td>\n    </tr>\n    <tr>\n      <th>11</th>\n      <td>130</td>\n      <td>HR</td>\n      <td>25351462.0</td>\n    </tr>\n    <tr>\n      <th>12</th>\n      <td>142</td>\n      <td>HP</td>\n      <td>6864602.0</td>\n    </tr>\n    <tr>\n      <th>13</th>\n      <td>154</td>\n      <td>LD</td>\n      <td>64429.0</td>\n    </tr>\n    <tr>\n      <th>14</th>\n      <td>178</td>\n      <td>DN</td>\n      <td>52076.0</td>\n    </tr>\n    <tr>\n      <th>15</th>\n      <td>182</td>\n      <td>State Unassigned</td>\n      <td>NaN</td>\n    </tr>\n    <tr>\n      <th>16</th>\n      <td>188</td>\n      <td>JK</td>\n      <td>12267032.0</td>\n    </tr>\n    <tr>\n      <th>17</th>\n      <td>200</td>\n      <td>JH</td>\n      <td>32988134.0</td>\n    </tr>\n    <tr>\n      <th>18</th>\n      <td>212</td>\n      <td>KA</td>\n      <td>61095297.0</td>\n    </tr>\n    <tr>\n      <th>19</th>\n      <td>224</td>\n      <td>KL</td>\n      <td>33406061.0</td>\n    </tr>\n    <tr>\n      <th>20</th>\n      <td>238</td>\n      <td>MP</td>\n      <td>72626809.0</td>\n    </tr>\n    <tr>\n      <th>21</th>\n      <td>250</td>\n      <td>MH</td>\n      <td>112374333.0</td>\n    </tr>\n    <tr>\n      <th>22</th>\n      <td>262</td>\n      <td>MN</td>\n      <td>2570390.0</td>\n    </tr>\n    <tr>\n      <th>23</th>\n      <td>274</td>\n      <td>ML</td>\n      <td>2966889.0</td>\n    </tr>\n    <tr>\n      <th>24</th>\n      <td>285</td>\n      <td>MZ</td>\n      <td>1097206.0</td>\n    </tr>\n    <tr>\n      <th>25</th>\n      <td>297</td>\n      <td>NL</td>\n      <td>1978502.0</td>\n    </tr>\n    <tr>\n      <th>26</th>\n      <td>308</td>\n      <td>OR</td>\n      <td>41974219.0</td>\n    </tr>\n    <tr>\n      <th>27</th>\n      <td>320</td>\n      <td>PY</td>\n      <td>1247953.0</td>\n    </tr>\n    <tr>\n      <th>28</th>\n      <td>332</td>\n      <td>PB</td>\n      <td>27743338.0</td>\n    </tr>\n    <tr>\n      <th>29</th>\n      <td>344</td>\n      <td>RJ</td>\n      <td>68548437.0</td>\n    </tr>\n    <tr>\n      <th>30</th>\n      <td>356</td>\n      <td>SK</td>\n      <td>610577.0</td>\n    </tr>\n    <tr>\n      <th>31</th>\n      <td>366</td>\n      <td>TN</td>\n      <td>72147030.0</td>\n    </tr>\n    <tr>\n      <th>32</th>\n      <td>378</td>\n      <td>TS</td>\n      <td>35003674.0</td>\n    </tr>\n    <tr>\n      <th>33</th>\n      <td>390</td>\n      <td>TR</td>\n      <td>3673917.0</td>\n    </tr>\n    <tr>\n      <th>34</th>\n      <td>401</td>\n      <td>UP</td>\n      <td>199812341.0</td>\n    </tr>\n    <tr>\n      <th>35</th>\n      <td>413</td>\n      <td>UK</td>\n      <td>10086292.0</td>\n    </tr>\n    <tr>\n      <th>36</th>\n      <td>425</td>\n      <td>WB</td>\n      <td>91276115.0</td>\n    </tr>\n  </tbody>\n</table>\n</div>"
     },
     "metadata": {},
     "execution_count": 250
    }
   ],
   "source": []
  },
  {
   "cell_type": "code",
   "execution_count": 272,
   "metadata": {},
   "outputs": [
    {
     "output_type": "execute_result",
     "data": {
      "text/plain": [
       "                             Buckets1  \\\n",
       "0    Population and Household Profile   \n",
       "1                                 NaN   \n",
       "2                                 NaN   \n",
       "3                                 NaN   \n",
       "4                                 NaN   \n",
       "..                                ...   \n",
       "109                               NaN   \n",
       "110                               NaN   \n",
       "111                               NaN   \n",
       "112                               NaN   \n",
       "113                               NaN   \n",
       "\n",
       "                                               Buckets  \\\n",
       "0                     Population and Household Profile   \n",
       "1                     Population and Household Profile   \n",
       "2                     Population and Household Profile   \n",
       "3                     Population and Household Profile   \n",
       "4                     Population and Household Profile   \n",
       "..                                                 ...   \n",
       "109  Tobacco Use and Alcohol Consumption among Adul...   \n",
       "110  Tobacco Use and Alcohol Consumption among Adul...   \n",
       "111  Tobacco Use and Alcohol Consumption among Adul...   \n",
       "112  Tobacco Use and Alcohol Consumption among Adul...   \n",
       "113  Tobacco Use and Alcohol Consumption among Adul...   \n",
       "\n",
       "                                     Health Indicators  NFHS4 Border  \\\n",
       "0    Population (female) age 6 years and above who ...     60.209833   \n",
       "1                    Population below age 15 years (%)     33.351520   \n",
       "2    Sex ratio of the total population (females per...    102.403047   \n",
       "3    Sex ratio at birth for children born in the la...     91.458413   \n",
       "4    Children under age 5 years whose birth was reg...     71.536127   \n",
       "..                                                 ...           ...   \n",
       "109                Men who use any kind of tobacco (%)     41.622710   \n",
       "110                      Women who consume alcohol (%)      0.241224   \n",
       "111                        Men who consume alcohol (%)     29.938475   \n",
       "112  Women who tried to stop smoking or using tobac...     30.312576   \n",
       "113  Men who tried to stop smoking or using tobacco...     30.383287   \n",
       "\n",
       "     Non Implemented NFHS4  \n",
       "0                71.063124  \n",
       "1                25.579164  \n",
       "2               100.167041  \n",
       "3                92.357466  \n",
       "4                90.124878  \n",
       "..                     ...  \n",
       "109              49.826426  \n",
       "110               2.639206  \n",
       "111              35.489634  \n",
       "112              26.265953  \n",
       "113              25.792690  \n",
       "\n",
       "[114 rows x 5 columns]"
      ],
      "text/html": "<div>\n<style scoped>\n    .dataframe tbody tr th:only-of-type {\n        vertical-align: middle;\n    }\n\n    .dataframe tbody tr th {\n        vertical-align: top;\n    }\n\n    .dataframe thead th {\n        text-align: right;\n    }\n</style>\n<table border=\"1\" class=\"dataframe\">\n  <thead>\n    <tr style=\"text-align: right;\">\n      <th></th>\n      <th>Buckets1</th>\n      <th>Buckets</th>\n      <th>Health Indicators</th>\n      <th>NFHS4 Border</th>\n      <th>Non Implemented NFHS4</th>\n    </tr>\n  </thead>\n  <tbody>\n    <tr>\n      <th>0</th>\n      <td>Population and Household Profile</td>\n      <td>Population and Household Profile</td>\n      <td>Population (female) age 6 years and above who ...</td>\n      <td>60.209833</td>\n      <td>71.063124</td>\n    </tr>\n    <tr>\n      <th>1</th>\n      <td>NaN</td>\n      <td>Population and Household Profile</td>\n      <td>Population below age 15 years (%)</td>\n      <td>33.351520</td>\n      <td>25.579164</td>\n    </tr>\n    <tr>\n      <th>2</th>\n      <td>NaN</td>\n      <td>Population and Household Profile</td>\n      <td>Sex ratio of the total population (females per...</td>\n      <td>102.403047</td>\n      <td>100.167041</td>\n    </tr>\n    <tr>\n      <th>3</th>\n      <td>NaN</td>\n      <td>Population and Household Profile</td>\n      <td>Sex ratio at birth for children born in the la...</td>\n      <td>91.458413</td>\n      <td>92.357466</td>\n    </tr>\n    <tr>\n      <th>4</th>\n      <td>NaN</td>\n      <td>Population and Household Profile</td>\n      <td>Children under age 5 years whose birth was reg...</td>\n      <td>71.536127</td>\n      <td>90.124878</td>\n    </tr>\n    <tr>\n      <th>...</th>\n      <td>...</td>\n      <td>...</td>\n      <td>...</td>\n      <td>...</td>\n      <td>...</td>\n    </tr>\n    <tr>\n      <th>109</th>\n      <td>NaN</td>\n      <td>Tobacco Use and Alcohol Consumption among Adul...</td>\n      <td>Men who use any kind of tobacco (%)</td>\n      <td>41.622710</td>\n      <td>49.826426</td>\n    </tr>\n    <tr>\n      <th>110</th>\n      <td>NaN</td>\n      <td>Tobacco Use and Alcohol Consumption among Adul...</td>\n      <td>Women who consume alcohol (%)</td>\n      <td>0.241224</td>\n      <td>2.639206</td>\n    </tr>\n    <tr>\n      <th>111</th>\n      <td>NaN</td>\n      <td>Tobacco Use and Alcohol Consumption among Adul...</td>\n      <td>Men who consume alcohol (%)</td>\n      <td>29.938475</td>\n      <td>35.489634</td>\n    </tr>\n    <tr>\n      <th>112</th>\n      <td>NaN</td>\n      <td>Tobacco Use and Alcohol Consumption among Adul...</td>\n      <td>Women who tried to stop smoking or using tobac...</td>\n      <td>30.312576</td>\n      <td>26.265953</td>\n    </tr>\n    <tr>\n      <th>113</th>\n      <td>NaN</td>\n      <td>Tobacco Use and Alcohol Consumption among Adul...</td>\n      <td>Men who tried to stop smoking or using tobacco...</td>\n      <td>30.383287</td>\n      <td>25.792690</td>\n    </tr>\n  </tbody>\n</table>\n<p>114 rows × 5 columns</p>\n</div>"
     },
     "metadata": {},
     "execution_count": 272
    }
   ],
   "source": [
    "df=pd.read_csv('with_selected_states_nfhs4.csv')\n",
    "df"
   ]
  },
  {
   "cell_type": "code",
   "execution_count": 273,
   "metadata": {},
   "outputs": [],
   "source": [
    "buckets=df.Buckets.unique()\n",
    "mainl=[]\n",
    "for i in buckets:\n",
    "    temp=df[df['Buckets']==i]\n",
    "    l=[i,temp['NFHS4 Border'].mean(),temp['Non Implemented NFHS4'].mean()]\n",
    "    mainl.append(l)\n",
    "df_new=pd.DataFrame(mainl,columns=['Bucket','NFHS4 Border Implemented','NFHS4 Non Implemented'])"
   ]
  },
  {
   "cell_type": "code",
   "execution_count": 275,
   "metadata": {},
   "outputs": [],
   "source": [
    "df_new.to_csv('selected_border_imp_states_vs_non_imp_bucket_means.csv')"
   ]
  },
  {
   "cell_type": "code",
   "execution_count": 274,
   "metadata": {},
   "outputs": [
    {
     "output_type": "execute_result",
     "data": {
      "text/plain": [
       "                                               Bucket  \\\n",
       "0                    Population and Household Profile   \n",
       "1          Health Insurance/Financing Scheme Coverage   \n",
       "2             Characteristics of Adults (15-19 Years)   \n",
       "3                              Marriage and Fertility   \n",
       "4   Infant and Child Mortality Rates (per 1,000 li...   \n",
       "5   Current use of Family Planning Methods (curren...   \n",
       "6   Unmet Need for Family Planning (currently Marr...   \n",
       "7                 Quality of Family Planning Services   \n",
       "8                           Maternal and Child Health   \n",
       "9   Average out of pocket expenditure per delivery...   \n",
       "10  Delivery Care (for Births in the 5 Years befor...   \n",
       "11   Child Vaccinations and Vitamin A Supplementation   \n",
       "12                    Treatment of Childhood Diseases   \n",
       "13  Child Feeding Practices and Nutritional Status...   \n",
       "14    Nutritional Status for Adults (Age 15-49 Years)   \n",
       "15                  Anaemia among Children and Adults   \n",
       "16  Blood Sugar Level among Adults (age 15-49 years)    \n",
       "17       Hypertension among Adults (age 15-49 years)    \n",
       "18  Women Age 15-49 Years Who Have Ever Undergone ...   \n",
       "19  Knowledge of HIV/AIDS among Adults (age 15-49 ...   \n",
       "20  Women’s Empowerment and Gender Based Violence ...   \n",
       "21  Tobacco Use and Alcohol Consumption among Adul...   \n",
       "\n",
       "    NFHS4 Border Implemented  NFHS4 Non Implemented  \n",
       "0                  69.038812              74.388380  \n",
       "1                  29.538187              41.280408  \n",
       "2                  55.411241              61.763308  \n",
       "3                  19.709897              15.680262  \n",
       "4                  46.580446              33.765420  \n",
       "5                  17.778148              24.371114  \n",
       "6                  10.904016               6.609132  \n",
       "7                  25.803817              30.543669  \n",
       "8                  42.223484              52.145246  \n",
       "9                1902.539642            6435.534153  \n",
       "10                 43.747362              49.893930  \n",
       "11                 70.086408              76.327211  \n",
       "12                 35.450350              40.819286  \n",
       "13                 26.470998              29.160983  \n",
       "14                 20.915569              20.459496  \n",
       "15                 54.023117              49.375860  \n",
       "16                  4.858211               6.598164  \n",
       "17                  3.326891               3.771601  \n",
       "18                 12.612682               9.659287  \n",
       "19                 43.951896              48.559649  \n",
       "20                 40.641418              43.276658  \n",
       "21                 22.498314              24.817412  "
      ],
      "text/html": "<div>\n<style scoped>\n    .dataframe tbody tr th:only-of-type {\n        vertical-align: middle;\n    }\n\n    .dataframe tbody tr th {\n        vertical-align: top;\n    }\n\n    .dataframe thead th {\n        text-align: right;\n    }\n</style>\n<table border=\"1\" class=\"dataframe\">\n  <thead>\n    <tr style=\"text-align: right;\">\n      <th></th>\n      <th>Bucket</th>\n      <th>NFHS4 Border Implemented</th>\n      <th>NFHS4 Non Implemented</th>\n    </tr>\n  </thead>\n  <tbody>\n    <tr>\n      <th>0</th>\n      <td>Population and Household Profile</td>\n      <td>69.038812</td>\n      <td>74.388380</td>\n    </tr>\n    <tr>\n      <th>1</th>\n      <td>Health Insurance/Financing Scheme Coverage</td>\n      <td>29.538187</td>\n      <td>41.280408</td>\n    </tr>\n    <tr>\n      <th>2</th>\n      <td>Characteristics of Adults (15-19 Years)</td>\n      <td>55.411241</td>\n      <td>61.763308</td>\n    </tr>\n    <tr>\n      <th>3</th>\n      <td>Marriage and Fertility</td>\n      <td>19.709897</td>\n      <td>15.680262</td>\n    </tr>\n    <tr>\n      <th>4</th>\n      <td>Infant and Child Mortality Rates (per 1,000 li...</td>\n      <td>46.580446</td>\n      <td>33.765420</td>\n    </tr>\n    <tr>\n      <th>5</th>\n      <td>Current use of Family Planning Methods (curren...</td>\n      <td>17.778148</td>\n      <td>24.371114</td>\n    </tr>\n    <tr>\n      <th>6</th>\n      <td>Unmet Need for Family Planning (currently Marr...</td>\n      <td>10.904016</td>\n      <td>6.609132</td>\n    </tr>\n    <tr>\n      <th>7</th>\n      <td>Quality of Family Planning Services</td>\n      <td>25.803817</td>\n      <td>30.543669</td>\n    </tr>\n    <tr>\n      <th>8</th>\n      <td>Maternal and Child Health</td>\n      <td>42.223484</td>\n      <td>52.145246</td>\n    </tr>\n    <tr>\n      <th>9</th>\n      <td>Average out of pocket expenditure per delivery...</td>\n      <td>1902.539642</td>\n      <td>6435.534153</td>\n    </tr>\n    <tr>\n      <th>10</th>\n      <td>Delivery Care (for Births in the 5 Years befor...</td>\n      <td>43.747362</td>\n      <td>49.893930</td>\n    </tr>\n    <tr>\n      <th>11</th>\n      <td>Child Vaccinations and Vitamin A Supplementation</td>\n      <td>70.086408</td>\n      <td>76.327211</td>\n    </tr>\n    <tr>\n      <th>12</th>\n      <td>Treatment of Childhood Diseases</td>\n      <td>35.450350</td>\n      <td>40.819286</td>\n    </tr>\n    <tr>\n      <th>13</th>\n      <td>Child Feeding Practices and Nutritional Status...</td>\n      <td>26.470998</td>\n      <td>29.160983</td>\n    </tr>\n    <tr>\n      <th>14</th>\n      <td>Nutritional Status for Adults (Age 15-49 Years)</td>\n      <td>20.915569</td>\n      <td>20.459496</td>\n    </tr>\n    <tr>\n      <th>15</th>\n      <td>Anaemia among Children and Adults</td>\n      <td>54.023117</td>\n      <td>49.375860</td>\n    </tr>\n    <tr>\n      <th>16</th>\n      <td>Blood Sugar Level among Adults (age 15-49 years)</td>\n      <td>4.858211</td>\n      <td>6.598164</td>\n    </tr>\n    <tr>\n      <th>17</th>\n      <td>Hypertension among Adults (age 15-49 years)</td>\n      <td>3.326891</td>\n      <td>3.771601</td>\n    </tr>\n    <tr>\n      <th>18</th>\n      <td>Women Age 15-49 Years Who Have Ever Undergone ...</td>\n      <td>12.612682</td>\n      <td>9.659287</td>\n    </tr>\n    <tr>\n      <th>19</th>\n      <td>Knowledge of HIV/AIDS among Adults (age 15-49 ...</td>\n      <td>43.951896</td>\n      <td>48.559649</td>\n    </tr>\n    <tr>\n      <th>20</th>\n      <td>Women’s Empowerment and Gender Based Violence ...</td>\n      <td>40.641418</td>\n      <td>43.276658</td>\n    </tr>\n    <tr>\n      <th>21</th>\n      <td>Tobacco Use and Alcohol Consumption among Adul...</td>\n      <td>22.498314</td>\n      <td>24.817412</td>\n    </tr>\n  </tbody>\n</table>\n</div>"
     },
     "metadata": {},
     "execution_count": 274
    }
   ],
   "source": [
    "df_new"
   ]
  },
  {
   "cell_type": "code",
   "execution_count": 471,
   "metadata": {},
   "outputs": [
    {
     "output_type": "execute_result",
     "data": {
      "text/plain": [
       "     Unnamed: 0        state                    District  Year  \\\n",
       "0             0    Telangana         BhadradriKothagudem  2020   \n",
       "1             1        Bihar                   Bhagalpur  2020   \n",
       "2             2      Gujarat                       Dahod  2020   \n",
       "3             3    Telangana        KomaramBheemAsifabad  2020   \n",
       "4             4   WestBengal             PurbaBarddhaman  2020   \n",
       "..          ...          ...                         ...   ...   \n",
       "577         577  West Bengal                    Puruliya  2016   \n",
       "578         578  West Bengal                       Haora  2016   \n",
       "579         579  West Bengal                     Kolkata  2016   \n",
       "580         580  West Bengal  South Twenty Four Parganas  2016   \n",
       "581         581  West Bengal             Purba Medinipur  2016   \n",
       "\n",
       "     1. Female population age 6 years and above who ever attended school (%)(PHP)  \\\n",
       "0                                                 64.2                              \n",
       "1                                                 65.1                              \n",
       "2                                                 59.6                              \n",
       "3                                                 96.6                              \n",
       "4                                                 72.1                              \n",
       "..                                                 ...                              \n",
       "577                                               53.6                              \n",
       "578                                               79.6                              \n",
       "579                                               82.5                              \n",
       "580                                               76.5                              \n",
       "581                                               78.8                              \n",
       "\n",
       "     2. Population below age 15 years (%)(PHP)  \\\n",
       "0                                         23.6   \n",
       "1                                         35.1   \n",
       "2                                         35.6   \n",
       "3                                         18.9   \n",
       "4                                         27.2   \n",
       "..                                         ...   \n",
       "577                                       28.8   \n",
       "578                                       23.8   \n",
       "579                                       20.2   \n",
       "580                                       26.7   \n",
       "581                                       24.7   \n",
       "\n",
       "    3. Sex ratio of the total population (females per 1,000 males)(PHP)  \\\n",
       "0                                                1,038                    \n",
       "1                                                  986                    \n",
       "2                                                1,047                    \n",
       "3                                                1,171                    \n",
       "4                                                  946                    \n",
       "..                                                 ...                    \n",
       "577                                                983                    \n",
       "578                                              1,069                    \n",
       "579                                                921                    \n",
       "580                                              1,036                    \n",
       "581                                                991                    \n",
       "\n",
       "    4. Sex ratio at birth for children born in the last five years (females per 1,000 males)(PHP)  \\\n",
       "0                                                1,072                                              \n",
       "1                                                  879                                              \n",
       "2                                                1,013                                              \n",
       "3                                                1,135                                              \n",
       "4                                                1,175                                              \n",
       "..                                                 ...                                              \n",
       "577                                                998                                              \n",
       "578                                                901                                              \n",
       "579                                              1,020                                              \n",
       "580                                              1,066                                              \n",
       "581                                                998                                              \n",
       "\n",
       "     5. Children under age 5 years whose birth was registered with the civil authority (%)(PHP)  \\\n",
       "0                                                 96.9                                            \n",
       "1                                                 74.1                                            \n",
       "2                                                 95.1                                            \n",
       "3                                                100.0                                            \n",
       "4                                                 96.4                                            \n",
       "..                                                 ...                                            \n",
       "577                                               95.9                                            \n",
       "578                                               96.5                                            \n",
       "579                                               95.6                                            \n",
       "580                                               98.5                                            \n",
       "581                                               99.0                                            \n",
       "\n",
       "    6. Deaths in the last 3 years registered with the civil authority (%)(PHP)  \\\n",
       "0                                                 89.2                           \n",
       "1                                                 26.4                           \n",
       "2                                                 91.3                           \n",
       "3                                                 96.2                           \n",
       "4                                                 82.1                           \n",
       "..                                                 ...                           \n",
       "577                                                 na                           \n",
       "578                                                 na                           \n",
       "579                                                 na                           \n",
       "580                                                 na                           \n",
       "581                                                 na                           \n",
       "\n",
       "     ...  PB  PY  RJ  SK  TN  TR TS  UK  UP WB  \n",
       "0    ...   0   0   0   0   0   0  0   0   0  0  \n",
       "1    ...   0   0   0   0   0   0  0   0   0  0  \n",
       "2    ...   0   0   0   0   0   0  0   0   0  0  \n",
       "3    ...   0   0   0   0   0   0  0   0   0  0  \n",
       "4    ...   0   0   0   0   0   0  0   0   0  0  \n",
       "..   ...  ..  ..  ..  ..  ..  .. ..  ..  .. ..  \n",
       "577  ...   0   0   0   0   0   0  0   0   0  1  \n",
       "578  ...   0   0   0   0   0   0  0   0   0  0  \n",
       "579  ...   0   0   0   0   0   0  0   0   0  0  \n",
       "580  ...   0   0   0   0   0   0  0   0   0  0  \n",
       "581  ...   0   0   0   0   0   0  0   0   0  1  \n",
       "\n",
       "[582 rows x 146 columns]"
      ],
      "text/html": "<div>\n<style scoped>\n    .dataframe tbody tr th:only-of-type {\n        vertical-align: middle;\n    }\n\n    .dataframe tbody tr th {\n        vertical-align: top;\n    }\n\n    .dataframe thead th {\n        text-align: right;\n    }\n</style>\n<table border=\"1\" class=\"dataframe\">\n  <thead>\n    <tr style=\"text-align: right;\">\n      <th></th>\n      <th>Unnamed: 0</th>\n      <th>state</th>\n      <th>District</th>\n      <th>Year</th>\n      <th>1. Female population age 6 years and above who ever attended school (%)(PHP)</th>\n      <th>2. Population below age 15 years (%)(PHP)</th>\n      <th>3. Sex ratio of the total population (females per 1,000 males)(PHP)</th>\n      <th>4. Sex ratio at birth for children born in the last five years (females per 1,000 males)(PHP)</th>\n      <th>5. Children under age 5 years whose birth was registered with the civil authority (%)(PHP)</th>\n      <th>6. Deaths in the last 3 years registered with the civil authority (%)(PHP)</th>\n      <th>...</th>\n      <th>PB</th>\n      <th>PY</th>\n      <th>RJ</th>\n      <th>SK</th>\n      <th>TN</th>\n      <th>TR</th>\n      <th>TS</th>\n      <th>UK</th>\n      <th>UP</th>\n      <th>WB</th>\n    </tr>\n  </thead>\n  <tbody>\n    <tr>\n      <th>0</th>\n      <td>0</td>\n      <td>Telangana</td>\n      <td>BhadradriKothagudem</td>\n      <td>2020</td>\n      <td>64.2</td>\n      <td>23.6</td>\n      <td>1,038</td>\n      <td>1,072</td>\n      <td>96.9</td>\n      <td>89.2</td>\n      <td>...</td>\n      <td>0</td>\n      <td>0</td>\n      <td>0</td>\n      <td>0</td>\n      <td>0</td>\n      <td>0</td>\n      <td>0</td>\n      <td>0</td>\n      <td>0</td>\n      <td>0</td>\n    </tr>\n    <tr>\n      <th>1</th>\n      <td>1</td>\n      <td>Bihar</td>\n      <td>Bhagalpur</td>\n      <td>2020</td>\n      <td>65.1</td>\n      <td>35.1</td>\n      <td>986</td>\n      <td>879</td>\n      <td>74.1</td>\n      <td>26.4</td>\n      <td>...</td>\n      <td>0</td>\n      <td>0</td>\n      <td>0</td>\n      <td>0</td>\n      <td>0</td>\n      <td>0</td>\n      <td>0</td>\n      <td>0</td>\n      <td>0</td>\n      <td>0</td>\n    </tr>\n    <tr>\n      <th>2</th>\n      <td>2</td>\n      <td>Gujarat</td>\n      <td>Dahod</td>\n      <td>2020</td>\n      <td>59.6</td>\n      <td>35.6</td>\n      <td>1,047</td>\n      <td>1,013</td>\n      <td>95.1</td>\n      <td>91.3</td>\n      <td>...</td>\n      <td>0</td>\n      <td>0</td>\n      <td>0</td>\n      <td>0</td>\n      <td>0</td>\n      <td>0</td>\n      <td>0</td>\n      <td>0</td>\n      <td>0</td>\n      <td>0</td>\n    </tr>\n    <tr>\n      <th>3</th>\n      <td>3</td>\n      <td>Telangana</td>\n      <td>KomaramBheemAsifabad</td>\n      <td>2020</td>\n      <td>96.6</td>\n      <td>18.9</td>\n      <td>1,171</td>\n      <td>1,135</td>\n      <td>100.0</td>\n      <td>96.2</td>\n      <td>...</td>\n      <td>0</td>\n      <td>0</td>\n      <td>0</td>\n      <td>0</td>\n      <td>0</td>\n      <td>0</td>\n      <td>0</td>\n      <td>0</td>\n      <td>0</td>\n      <td>0</td>\n    </tr>\n    <tr>\n      <th>4</th>\n      <td>4</td>\n      <td>WestBengal</td>\n      <td>PurbaBarddhaman</td>\n      <td>2020</td>\n      <td>72.1</td>\n      <td>27.2</td>\n      <td>946</td>\n      <td>1,175</td>\n      <td>96.4</td>\n      <td>82.1</td>\n      <td>...</td>\n      <td>0</td>\n      <td>0</td>\n      <td>0</td>\n      <td>0</td>\n      <td>0</td>\n      <td>0</td>\n      <td>0</td>\n      <td>0</td>\n      <td>0</td>\n      <td>0</td>\n    </tr>\n    <tr>\n      <th>...</th>\n      <td>...</td>\n      <td>...</td>\n      <td>...</td>\n      <td>...</td>\n      <td>...</td>\n      <td>...</td>\n      <td>...</td>\n      <td>...</td>\n      <td>...</td>\n      <td>...</td>\n      <td>...</td>\n      <td>...</td>\n      <td>...</td>\n      <td>...</td>\n      <td>...</td>\n      <td>...</td>\n      <td>...</td>\n      <td>...</td>\n      <td>...</td>\n      <td>...</td>\n      <td>...</td>\n    </tr>\n    <tr>\n      <th>577</th>\n      <td>577</td>\n      <td>West Bengal</td>\n      <td>Puruliya</td>\n      <td>2016</td>\n      <td>53.6</td>\n      <td>28.8</td>\n      <td>983</td>\n      <td>998</td>\n      <td>95.9</td>\n      <td>na</td>\n      <td>...</td>\n      <td>0</td>\n      <td>0</td>\n      <td>0</td>\n      <td>0</td>\n      <td>0</td>\n      <td>0</td>\n      <td>0</td>\n      <td>0</td>\n      <td>0</td>\n      <td>1</td>\n    </tr>\n    <tr>\n      <th>578</th>\n      <td>578</td>\n      <td>West Bengal</td>\n      <td>Haora</td>\n      <td>2016</td>\n      <td>79.6</td>\n      <td>23.8</td>\n      <td>1,069</td>\n      <td>901</td>\n      <td>96.5</td>\n      <td>na</td>\n      <td>...</td>\n      <td>0</td>\n      <td>0</td>\n      <td>0</td>\n      <td>0</td>\n      <td>0</td>\n      <td>0</td>\n      <td>0</td>\n      <td>0</td>\n      <td>0</td>\n      <td>0</td>\n    </tr>\n    <tr>\n      <th>579</th>\n      <td>579</td>\n      <td>West Bengal</td>\n      <td>Kolkata</td>\n      <td>2016</td>\n      <td>82.5</td>\n      <td>20.2</td>\n      <td>921</td>\n      <td>1,020</td>\n      <td>95.6</td>\n      <td>na</td>\n      <td>...</td>\n      <td>0</td>\n      <td>0</td>\n      <td>0</td>\n      <td>0</td>\n      <td>0</td>\n      <td>0</td>\n      <td>0</td>\n      <td>0</td>\n      <td>0</td>\n      <td>0</td>\n    </tr>\n    <tr>\n      <th>580</th>\n      <td>580</td>\n      <td>West Bengal</td>\n      <td>South Twenty Four Parganas</td>\n      <td>2016</td>\n      <td>76.5</td>\n      <td>26.7</td>\n      <td>1,036</td>\n      <td>1,066</td>\n      <td>98.5</td>\n      <td>na</td>\n      <td>...</td>\n      <td>0</td>\n      <td>0</td>\n      <td>0</td>\n      <td>0</td>\n      <td>0</td>\n      <td>0</td>\n      <td>0</td>\n      <td>0</td>\n      <td>0</td>\n      <td>0</td>\n    </tr>\n    <tr>\n      <th>581</th>\n      <td>581</td>\n      <td>West Bengal</td>\n      <td>Purba Medinipur</td>\n      <td>2016</td>\n      <td>78.8</td>\n      <td>24.7</td>\n      <td>991</td>\n      <td>998</td>\n      <td>99.0</td>\n      <td>na</td>\n      <td>...</td>\n      <td>0</td>\n      <td>0</td>\n      <td>0</td>\n      <td>0</td>\n      <td>0</td>\n      <td>0</td>\n      <td>0</td>\n      <td>0</td>\n      <td>0</td>\n      <td>1</td>\n    </tr>\n  </tbody>\n</table>\n<p>582 rows × 146 columns</p>\n</div>"
     },
     "metadata": {},
     "execution_count": 471
    }
   ],
   "source": [
    "df=pd.read_csv('Added (4).csv')\n",
    "df"
   ]
  },
  {
   "cell_type": "code",
   "execution_count": 224,
   "metadata": {},
   "outputs": [
    {
     "output_type": "execute_result",
     "data": {
      "text/plain": [
       "Index(['Unnamed: 0', 'state', 'District', 'Year',\n",
       "       '1. Female population age 6 years and above who ever attended school (%)(PHP)',\n",
       "       '2. Population below age 15 years (%)(PHP)',\n",
       "       '3. Sex ratio of the total population (females per 1,000 males)(PHP)',\n",
       "       '4. Sex ratio at birth for children born in the last five years (females per 1,000 males)(PHP)',\n",
       "       '5. Children under age 5 years whose birth was registered with the civil authority (%)(PHP)',\n",
       "       '6. Deaths in the last 3 years registered with the civil authority (%)(PHP)',\n",
       "       ...\n",
       "       'PB', 'PY', 'RJ', 'SK', 'TN', 'TR', 'TS', 'UK', 'UP', 'WB'],\n",
       "      dtype='object', length=146)"
      ]
     },
     "metadata": {},
     "execution_count": 224
    }
   ],
   "source": [
    "df.columns"
   ]
  },
  {
   "cell_type": "code",
   "execution_count": 473,
   "metadata": {},
   "outputs": [],
   "source": [
    "cols=df.columns[4:108]"
   ]
  },
  {
   "cell_type": "code",
   "execution_count": 474,
   "metadata": {},
   "outputs": [
    {
     "output_type": "execute_result",
     "data": {
      "text/plain": [
       "Index(['1. Female population age 6 years and above who ever attended school (%)(PHP)',\n",
       "       '2. Population below age 15 years (%)(PHP)',\n",
       "       '3. Sex ratio of the total population (females per 1,000 males)(PHP)',\n",
       "       '4. Sex ratio at birth for children born in the last five years (females per 1,000 males)(PHP)',\n",
       "       '5. Children under age 5 years whose birth was registered with the civil authority (%)(PHP)',\n",
       "       '6. Deaths in the last 3 years registered with the civil authority (%)(PHP)',\n",
       "       '7. Population living in households with electricity (%)(PHP)',\n",
       "       '8. Population living in households with an improved drinking-water source1 (%)(PHP)',\n",
       "       '9. Population living in households that use an improved sanitation facility2 (%)(PHP)',\n",
       "       '10. Households using clean fuel for cooking3 (%)(PHP)',\n",
       "       ...\n",
       "       '95. Mildly elevated blood pressure (Systolic 140-159 mm of Hg and/or Diastolic 90-99 mm of Hg) (%)(SCW(Age 30-49))',\n",
       "       '96. Moderately or severely elevated blood pressure (Systolic ≥160mm of Hg and/or Diastolic ≥100mm of Hg) (%)(SCW(Age 30-49))',\n",
       "       '95. Elevated blood pressure (Systolic ≥140 mm of Hg and/or Diastolic ≥90 mm of Hg) or taking medicine to control blood pressure(%)(SCW(Age 30-49))',\n",
       "       '98.Ever undergone a screening test for cervical cancer (%)(TUACA(Age>=150))',\n",
       "       '99.Ever undergone a breast examination for breast cancer (%)(TUACA(Age>=150))',\n",
       "       '100. Ever undergone an oral cavity examination for oral cancer (%)(TUACA(Age>=150))',\n",
       "       '101. Women age 15 years and above who use any kind of tobacco (%)(TUACA(Age>=150))',\n",
       "       '102. Men age 15 years and above who use any kind of tobacco (%)(TUACA(Age>=150))',\n",
       "       '103. Women age 15 years and above who consume alcohol (%)(TUACA(Age>=150))',\n",
       "       '104. Men age 15 years and above who consume alcohol (%)(TUACA(Age>=150))'],\n",
       "      dtype='object', length=104)"
      ]
     },
     "metadata": {},
     "execution_count": 474
    }
   ],
   "source": [
    "cols"
   ]
  },
  {
   "cell_type": "code",
   "execution_count": 645,
   "metadata": {},
   "outputs": [],
   "source": [
    "for i in cols:\n",
    "    for j in range(df.shape[0]):\n",
    "        if(isinstance(df[i].iat[j],str)):\n",
    "            df[i].iat[j]=df[i].iat[j].replace(',','')\n",
    "            df[i].iat[j]=df[i].iat[j].replace('(','')\n",
    "            df[i].iat[j]=df[i].iat[j].replace(')','')\n",
    "            df[i].iat[j]=df[i].iat[j].replace('-','')\n",
    "            if(df[i].iat[j]!='na' and df[i].iat[j]!='*' and df[i].iat[j]!='nan' and df[i].iat[j]!=' *'):\n",
    "                df[i].iat[j]=float(df[i].iat[j])\n",
    "    for j in range(df.shape[0]):\n",
    "        if(isinstance(df[i].iat[j],int) or isinstance(df[i].iat[j],float)):\n",
    "            df[i].iat[j]=abs(df[i].iat[j])   \n",
    "        if(df[i].iat[j]=='na' or df[i].iat[j]=='*' or df[i].iat[j]=='nan' or df[i].iat[j]==' *'):\n",
    "                df[i].iat[j]=None\n",
    "\n",
    "            \n",
    "                \n",
    "            "
   ]
  },
  {
   "cell_type": "code",
   "execution_count": 476,
   "metadata": {},
   "outputs": [],
   "source": [
    "df.to_csv('NFHS4_NFHS5_DISTRICT_DATA_Processed.csv')"
   ]
  },
  {
   "cell_type": "code",
   "execution_count": 40,
   "metadata": {},
   "outputs": [],
   "source": [
    "df=pd.read_csv('NFHS4_NFHS5_DISTRICT_DATA_Processed.csv')\n"
   ]
  },
  {
   "cell_type": "code",
   "execution_count": 28,
   "metadata": {},
   "outputs": [
    {
     "output_type": "execute_result",
     "data": {
      "text/plain": [
       "           state    District  Year  \\\n",
       "0    Maharashtra  Ahmednagar  2016   \n",
       "1    Maharashtra  Ahmednagar  2020   \n",
       "2        Mizoram      Aizawl  2016   \n",
       "3        Mizoram      Aizawl  2020   \n",
       "4    Maharashtra       Akola  2016   \n",
       "..           ...         ...   ...   \n",
       "575    Karnataka      Yadgir  2020   \n",
       "576  Maharashtra    Yavatmal  2016   \n",
       "577  Maharashtra    Yavatmal  2020   \n",
       "578     Nagaland   Zunheboto  2016   \n",
       "579     Nagaland   Zunheboto  2020   \n",
       "\n",
       "     1. Female population age 6 years and above who ever attended school (%)(PHP)  \\\n",
       "0                                                 75.4                              \n",
       "1                                                 77.4                              \n",
       "2                                                 95.9                              \n",
       "3                                                 97.8                              \n",
       "4                                                 83.0                              \n",
       "..                                                 ...                              \n",
       "575                                               51.9                              \n",
       "576                                               76.1                              \n",
       "577                                               51.9                              \n",
       "578                                               86.5                              \n",
       "579                                               87.4                              \n",
       "\n",
       "     2. Population below age 15 years (%)(PHP)  \\\n",
       "0                                         25.8   \n",
       "1                                         23.0   \n",
       "2                                         27.6   \n",
       "3                                         25.1   \n",
       "4                                         25.0   \n",
       "..                                         ...   \n",
       "575                                       29.2   \n",
       "576                                       24.7   \n",
       "577                                       29.2   \n",
       "578                                       29.4   \n",
       "579                                       22.2   \n",
       "\n",
       "     3. Sex ratio of the total population (females per 1,000 males)(PHP)  \\\n",
       "0                                                  905                     \n",
       "1                                                  967                     \n",
       "2                                                 1064                     \n",
       "3                                                 1052                     \n",
       "4                                                  959                     \n",
       "..                                                 ...                     \n",
       "575                                               1020                     \n",
       "576                                                969                     \n",
       "577                                               1020                     \n",
       "578                                                936                     \n",
       "579                                               1132                     \n",
       "\n",
       "     4. Sex ratio at birth for children born in the last five years (females per 1,000 males)(PHP)  \\\n",
       "0                                                  843                                               \n",
       "1                                                  845                                               \n",
       "2                                                  902                                               \n",
       "3                                                 1042                                               \n",
       "4                                                  878                                               \n",
       "..                                                 ...                                               \n",
       "575                                                922                                               \n",
       "576                                                863                                               \n",
       "577                                                922                                               \n",
       "578                                                747                                               \n",
       "579                                               1207                                               \n",
       "\n",
       "     5. Children under age 5 years whose birth was registered with the civil authority (%)(PHP)  \\\n",
       "0                                                 93.4                                            \n",
       "1                                                 99.3                                            \n",
       "2                                                 96.9                                            \n",
       "3                                                 99.3                                            \n",
       "4                                                 98.7                                            \n",
       "..                                                 ...                                            \n",
       "575                                               92.7                                            \n",
       "576                                               95.8                                            \n",
       "577                                               92.7                                            \n",
       "578                                               58.9                                            \n",
       "579                                               51.6                                            \n",
       "\n",
       "    6. Deaths in the last 3 years registered with the civil authority (%)(PHP)  \\\n",
       "0                                                   na                           \n",
       "1                                                 85.7                           \n",
       "2                                                   na                           \n",
       "3                                                 86.2                           \n",
       "4                                                   na                           \n",
       "..                                                 ...                           \n",
       "575                                               74.2                           \n",
       "576                                                 na                           \n",
       "577                                               74.2                           \n",
       "578                                                 na                           \n",
       "579                                                 51                           \n",
       "\n",
       "     7. Population living in households with electricity (%)(PHP)  ...  PB  \\\n",
       "0                                                 92.2             ...   0   \n",
       "1                                                 94.5             ...   0   \n",
       "2                                                 99.7             ...   0   \n",
       "3                                                 99.7             ...   0   \n",
       "4                                                 92.8             ...   0   \n",
       "..                                                 ...             ...  ..   \n",
       "575                                               99.0             ...   0   \n",
       "576                                               89.6             ...   0   \n",
       "577                                               99.0             ...   0   \n",
       "578                                               99.4             ...   0   \n",
       "579                                               99.4             ...   0   \n",
       "\n",
       "     PY  RJ  SK  TN TR  TS  UK  UP WB  \n",
       "0     0   0   0   0  0   0   0   0  0  \n",
       "1     0   0   0   0  0   0   0   0  0  \n",
       "2     0   0   0   0  0   0   0   0  0  \n",
       "3     0   0   0   0  0   0   0   0  0  \n",
       "4     0   0   0   0  0   0   0   0  0  \n",
       "..   ..  ..  ..  .. ..  ..  ..  .. ..  \n",
       "575   0   0   0   0  0   1   0   0  0  \n",
       "576   0   0   0   0  0   1   0   0  0  \n",
       "577   0   0   0   0  0   1   0   0  0  \n",
       "578   0   0   0   0  0   0   0   0  0  \n",
       "579   0   0   0   0  0   0   0   0  0  \n",
       "\n",
       "[580 rows x 145 columns]"
      ],
      "text/html": "<div>\n<style scoped>\n    .dataframe tbody tr th:only-of-type {\n        vertical-align: middle;\n    }\n\n    .dataframe tbody tr th {\n        vertical-align: top;\n    }\n\n    .dataframe thead th {\n        text-align: right;\n    }\n</style>\n<table border=\"1\" class=\"dataframe\">\n  <thead>\n    <tr style=\"text-align: right;\">\n      <th></th>\n      <th>state</th>\n      <th>District</th>\n      <th>Year</th>\n      <th>1. Female population age 6 years and above who ever attended school (%)(PHP)</th>\n      <th>2. Population below age 15 years (%)(PHP)</th>\n      <th>3. Sex ratio of the total population (females per 1,000 males)(PHP)</th>\n      <th>4. Sex ratio at birth for children born in the last five years (females per 1,000 males)(PHP)</th>\n      <th>5. Children under age 5 years whose birth was registered with the civil authority (%)(PHP)</th>\n      <th>6. Deaths in the last 3 years registered with the civil authority (%)(PHP)</th>\n      <th>7. Population living in households with electricity (%)(PHP)</th>\n      <th>...</th>\n      <th>PB</th>\n      <th>PY</th>\n      <th>RJ</th>\n      <th>SK</th>\n      <th>TN</th>\n      <th>TR</th>\n      <th>TS</th>\n      <th>UK</th>\n      <th>UP</th>\n      <th>WB</th>\n    </tr>\n  </thead>\n  <tbody>\n    <tr>\n      <th>0</th>\n      <td>Maharashtra</td>\n      <td>Ahmednagar</td>\n      <td>2016</td>\n      <td>75.4</td>\n      <td>25.8</td>\n      <td>905</td>\n      <td>843</td>\n      <td>93.4</td>\n      <td>na</td>\n      <td>92.2</td>\n      <td>...</td>\n      <td>0</td>\n      <td>0</td>\n      <td>0</td>\n      <td>0</td>\n      <td>0</td>\n      <td>0</td>\n      <td>0</td>\n      <td>0</td>\n      <td>0</td>\n      <td>0</td>\n    </tr>\n    <tr>\n      <th>1</th>\n      <td>Maharashtra</td>\n      <td>Ahmednagar</td>\n      <td>2020</td>\n      <td>77.4</td>\n      <td>23.0</td>\n      <td>967</td>\n      <td>845</td>\n      <td>99.3</td>\n      <td>85.7</td>\n      <td>94.5</td>\n      <td>...</td>\n      <td>0</td>\n      <td>0</td>\n      <td>0</td>\n      <td>0</td>\n      <td>0</td>\n      <td>0</td>\n      <td>0</td>\n      <td>0</td>\n      <td>0</td>\n      <td>0</td>\n    </tr>\n    <tr>\n      <th>2</th>\n      <td>Mizoram</td>\n      <td>Aizawl</td>\n      <td>2016</td>\n      <td>95.9</td>\n      <td>27.6</td>\n      <td>1064</td>\n      <td>902</td>\n      <td>96.9</td>\n      <td>na</td>\n      <td>99.7</td>\n      <td>...</td>\n      <td>0</td>\n      <td>0</td>\n      <td>0</td>\n      <td>0</td>\n      <td>0</td>\n      <td>0</td>\n      <td>0</td>\n      <td>0</td>\n      <td>0</td>\n      <td>0</td>\n    </tr>\n    <tr>\n      <th>3</th>\n      <td>Mizoram</td>\n      <td>Aizawl</td>\n      <td>2020</td>\n      <td>97.8</td>\n      <td>25.1</td>\n      <td>1052</td>\n      <td>1042</td>\n      <td>99.3</td>\n      <td>86.2</td>\n      <td>99.7</td>\n      <td>...</td>\n      <td>0</td>\n      <td>0</td>\n      <td>0</td>\n      <td>0</td>\n      <td>0</td>\n      <td>0</td>\n      <td>0</td>\n      <td>0</td>\n      <td>0</td>\n      <td>0</td>\n    </tr>\n    <tr>\n      <th>4</th>\n      <td>Maharashtra</td>\n      <td>Akola</td>\n      <td>2016</td>\n      <td>83.0</td>\n      <td>25.0</td>\n      <td>959</td>\n      <td>878</td>\n      <td>98.7</td>\n      <td>na</td>\n      <td>92.8</td>\n      <td>...</td>\n      <td>0</td>\n      <td>0</td>\n      <td>0</td>\n      <td>0</td>\n      <td>0</td>\n      <td>0</td>\n      <td>0</td>\n      <td>0</td>\n      <td>0</td>\n      <td>0</td>\n    </tr>\n    <tr>\n      <th>...</th>\n      <td>...</td>\n      <td>...</td>\n      <td>...</td>\n      <td>...</td>\n      <td>...</td>\n      <td>...</td>\n      <td>...</td>\n      <td>...</td>\n      <td>...</td>\n      <td>...</td>\n      <td>...</td>\n      <td>...</td>\n      <td>...</td>\n      <td>...</td>\n      <td>...</td>\n      <td>...</td>\n      <td>...</td>\n      <td>...</td>\n      <td>...</td>\n      <td>...</td>\n      <td>...</td>\n    </tr>\n    <tr>\n      <th>575</th>\n      <td>Karnataka</td>\n      <td>Yadgir</td>\n      <td>2020</td>\n      <td>51.9</td>\n      <td>29.2</td>\n      <td>1020</td>\n      <td>922</td>\n      <td>92.7</td>\n      <td>74.2</td>\n      <td>99.0</td>\n      <td>...</td>\n      <td>0</td>\n      <td>0</td>\n      <td>0</td>\n      <td>0</td>\n      <td>0</td>\n      <td>0</td>\n      <td>1</td>\n      <td>0</td>\n      <td>0</td>\n      <td>0</td>\n    </tr>\n    <tr>\n      <th>576</th>\n      <td>Maharashtra</td>\n      <td>Yavatmal</td>\n      <td>2016</td>\n      <td>76.1</td>\n      <td>24.7</td>\n      <td>969</td>\n      <td>863</td>\n      <td>95.8</td>\n      <td>na</td>\n      <td>89.6</td>\n      <td>...</td>\n      <td>0</td>\n      <td>0</td>\n      <td>0</td>\n      <td>0</td>\n      <td>0</td>\n      <td>0</td>\n      <td>1</td>\n      <td>0</td>\n      <td>0</td>\n      <td>0</td>\n    </tr>\n    <tr>\n      <th>577</th>\n      <td>Maharashtra</td>\n      <td>Yavatmal</td>\n      <td>2020</td>\n      <td>51.9</td>\n      <td>29.2</td>\n      <td>1020</td>\n      <td>922</td>\n      <td>92.7</td>\n      <td>74.2</td>\n      <td>99.0</td>\n      <td>...</td>\n      <td>0</td>\n      <td>0</td>\n      <td>0</td>\n      <td>0</td>\n      <td>0</td>\n      <td>0</td>\n      <td>1</td>\n      <td>0</td>\n      <td>0</td>\n      <td>0</td>\n    </tr>\n    <tr>\n      <th>578</th>\n      <td>Nagaland</td>\n      <td>Zunheboto</td>\n      <td>2016</td>\n      <td>86.5</td>\n      <td>29.4</td>\n      <td>936</td>\n      <td>747</td>\n      <td>58.9</td>\n      <td>na</td>\n      <td>99.4</td>\n      <td>...</td>\n      <td>0</td>\n      <td>0</td>\n      <td>0</td>\n      <td>0</td>\n      <td>0</td>\n      <td>0</td>\n      <td>0</td>\n      <td>0</td>\n      <td>0</td>\n      <td>0</td>\n    </tr>\n    <tr>\n      <th>579</th>\n      <td>Nagaland</td>\n      <td>Zunheboto</td>\n      <td>2020</td>\n      <td>87.4</td>\n      <td>22.2</td>\n      <td>1132</td>\n      <td>1207</td>\n      <td>51.6</td>\n      <td>51</td>\n      <td>99.4</td>\n      <td>...</td>\n      <td>0</td>\n      <td>0</td>\n      <td>0</td>\n      <td>0</td>\n      <td>0</td>\n      <td>0</td>\n      <td>0</td>\n      <td>0</td>\n      <td>0</td>\n      <td>0</td>\n    </tr>\n  </tbody>\n</table>\n<p>580 rows × 145 columns</p>\n</div>"
     },
     "metadata": {},
     "execution_count": 28
    }
   ],
   "source": [
    "df"
   ]
  },
  {
   "cell_type": "code",
   "execution_count": 31,
   "metadata": {},
   "outputs": [],
   "source": [
    "temp=df[df.columns[3:108]]"
   ]
  },
  {
   "cell_type": "code",
   "execution_count": 32,
   "metadata": {},
   "outputs": [
    {
     "output_type": "execute_result",
     "data": {
      "text/plain": [
       "                                  76.1                              \n",
       "577                                               51.9                              \n",
       "578                                               86.5                              \n",
       "579                                               87.4                              \n",
       "\n",
       "     2. Population below age 15 years (%)(PHP)  \\\n",
       "0                                         25.8   \n",
       "1                                         23.0   \n",
       "2                                         27.6   \n",
       "3                                         25.1   \n",
       "4                                         25.0   \n",
       "..                                         ...   \n",
       "575                                       29.2   \n",
       "576                                       24.7   \n",
       "577                                       29.2   \n",
       "578                                       29.4   \n",
       "579                                       22.2   \n",
       "\n",
       "     3. Sex ratio of the total population (females per 1,000 males)(PHP)  \\\n",
       "0                                                  905                     \n",
       "1                                                  967                     \n",
       "2                                                 1064                     \n",
       "3                                                 1052                     \n",
       "4                                                  959                     \n",
       "..                                                 ...                     \n",
       "575                                               1020                     \n",
       "576                                                969                     \n",
       "577                                               1020                     \n",
       "578                                                936                     \n",
       "579                                               1132                     \n",
       "\n",
       "     4. Sex ratio at birth for children born in the last five years (females per 1,000 males)(PHP)  \\\n",
       "0                                                  843                                               \n",
       "1                                                  845                                               \n",
       "2                                                  902                                               \n",
       "3                                                 1042                                               \n",
       "4                                                  878                                               \n",
       "..                                                 ...                                               \n",
       "575                                                922                                               \n",
       "576                                                863                                               \n",
       "577                                                922                                               \n",
       "578                                                747                                               \n",
       "579                                               1207                                               \n",
       "\n",
       "     5. Children under age 5 years whose birth was registered with the civil authority (%)(PHP)  \\\n",
       "0                                                 93.4                                            \n",
       "1                                                 99.3                                            \n",
       "2                                                 96.9                                            \n",
       "3                                                 99.3                                            \n",
       "4                                                 98.7                                            \n",
       "..                                                 ...                                            \n",
       "575                                               92.7                                            \n",
       "576                                               95.8                                            \n",
       "577                                               92.7                                            \n",
       "578                                               58.9                                            \n",
       "579                                               51.6                                            \n",
       "\n",
       "    6. Deaths in the last 3 years registered with the civil authority (%)(PHP)  \\\n",
       "0                                                   na                           \n",
       "1                                                 85.7                           \n",
       "2                                                   na                           \n",
       "3                                                 86.2                           \n",
       "4                                                   na                           \n",
       "..                                                 ...                           \n",
       "575                                               74.2                           \n",
       "576                                                 na                           \n",
       "577                                               74.2                           \n",
       "578                                                 na                           \n",
       "579                                                 51                           \n",
       "\n",
       "     7. Population living in households with electricity (%)(PHP)  \\\n",
       "0                                                 92.2              \n",
       "1                                                 94.5              \n",
       "2                                                 99.7              \n",
       "3                                                 99.7              \n",
       "4                                                 92.8              \n",
       "..                                                 ...              \n",
       "575                                               99.0              \n",
       "576                                               89.6              \n",
       "577                                               99.0              \n",
       "578                                               99.4              \n",
       "579                                               99.4              \n",
       "\n",
       "     8. Population living in households with an improved drinking-water source1 (%)(PHP)  \\\n",
       "0                                                 86.1                                     \n",
       "1                                                 90.0                                     \n",
       "2                                                 93.3                                     \n",
       "3                                                 98.3                                     \n",
       "4                                                 96.7                                     \n",
       "..                                                 ...                                     \n",
       "575                                               95.2                                     \n",
       "576                                               80.8                                     \n",
       "577                                               95.2                                     \n",
       "578                                               88.7                                     \n",
       "579                                               91.0                                     \n",
       "\n",
       "     9. Population living in households that use an improved sanitation facility2 (%)(PHP)  \\\n",
       "0                                                 50.8                                       \n",
       "1                                                 79.5                                       \n",
       "2                                                 90.9                                       \n",
       "3                                                 96.1                                       \n",
       "4                                                 38.0                                       \n",
       "..                                                 ...                                       \n",
       "575                                               37.4                                       \n",
       "576                                               43.7                                       \n",
       "577                                               37.4                                       \n",
       "578                                               81.1                                       \n",
       "579                                               88.9                                       \n",
       "\n",
       "     10. Households using clean fuel for cooking3 (%)(PHP)  ...  \\\n",
       "0                                                 57.8      ...   \n",
       "1                                                 77.4      ...   \n",
       "2                                                 87.5      ...   \n",
       "3                                                 95.4      ...   \n",
       "4                                                 23.4      ...   \n",
       "..                                                 ...      ...   \n",
       "575                                               48.8      ...   \n",
       "576                                               37.2      ...   \n",
       "577                                               48.8      ...   \n",
       "578                                               12.8      ...   \n",
       "579                                               18.6      ...   \n",
       "\n",
       "     96. Moderately or severely elevated blood pressure (Systolic ≥160mm of Hg and/or Diastolic ≥100mm of Hg) (%)(SCW(Age 30-49))  \\\n",
       "0                                                  7.1                                                                              \n",
       "1                                                  6.3                                                                              \n",
       "2                                                  6.0                                                                              \n",
       "3                                                  6.8                                                                              \n",
       "4                                                  1.4                                                                              \n",
       "..                                                 ...                                                                              \n",
       "575                                                4.5                                                                              \n",
       "576                                                3.5                                                                              \n",
       "577                                                4.5                                                                              \n",
       "578                                                3.1                                                                              \n",
       "579                                               11.8                                                                              \n",
       "\n",
       "     95. Elevated blood pressure (Systolic ≥140 mm of Hg and/or Diastolic ≥90 mm of Hg) or taking medicine to control blood pressure(%)(SCW(Age 30-49))  \\\n",
       "0                                                   na                                                                                                    \n",
       "1                                                 25.3                                                                                                    \n",
       "2                                                   na                                                                                                    \n",
       "3                                                 33.6                                                                                                    \n",
       "4                                                   na                                                                                                    \n",
       "..                                                 ...                                                                                                    \n",
       "575                                                 18                                                                                                    \n",
       "576                                                 na                                                                                                    \n",
       "577                                                 18                                                                                                    \n",
       "578                                                 na                                                                                                    \n",
       "579                                               41.2                                                                                                    \n",
       "\n",
       "    98.Ever undergone a screening test for cervical cancer (%)(TUACA(Age>=150))  \\\n",
       "0                                                 52.8                            \n",
       "1                                                  1.3                            \n",
       "2                                                 25.7                            \n",
       "3                                                 10.8                            \n",
       "4                                                 32.7                            \n",
       "..                                                 ...                            \n",
       "575                                                0.0                            \n",
       "576                                               49.2                            \n",
       "577                                                0.0                            \n",
       "578                                               14.3                            \n",
       "579                                                0.2                            \n",
       "\n",
       "     99.Ever undergone a breast examination for breast cancer (%)(TUACA(Age>=150))  \\\n",
       "0                                                 28.9                               \n",
       "1                                                  0.2                               \n",
       "2                                                 10.2                               \n",
       "3                                                  4.7                               \n",
       "4                                                  9.3                               \n",
       "..                                                 ...                               \n",
       "575                                                0.1                               \n",
       "576                                               35.9                               \n",
       "577                                                0.1                               \n",
       "578                                                2.0                               \n",
       "579                                                0.4                               \n",
       "\n",
       "     100. Ever undergone an oral cavity examination for oral cancer (%)(TUACA(Age>=150))  \\\n",
       "0                                                 14.4                                     \n",
       "1                                                  0.2                                     \n",
       "2                                                 33.7                                     \n",
       "3                                                  1.6                                     \n",
       "4                                                 11.0                                     \n",
       "..                                                 ...                                     \n",
       "575                                                0.2                                     \n",
       "576                                               30.9                                     \n",
       "577                                                0.2                                     \n",
       "578                                                8.6                                     \n",
       "579                                                0.7                                     \n",
       "\n",
       "     101. Women age 15 years and above who use any kind of tobacco (%)(TUACA(Age>=150))  \\\n",
       "0                                                   na                                    \n",
       "1                                                 14.7                                    \n",
       "2                                                   na                                    \n",
       "3                                                 54.7                                    \n",
       "4                                                   na                                    \n",
       "..                                                 ...                                    \n",
       "575                                               14.6                                    \n",
       "576                                                 na                                    \n",
       "577                                               14.6                                    \n",
       "578                                                 na                                    \n",
       "579                                                  8                                    \n",
       "\n",
       "    102. Men age 15 years and above who use any kind of tobacco (%)(TUACA(Age>=150))  \\\n",
       "0                                                   na                                 \n",
       "1                                                 37.7                                 \n",
       "2                                                   na                                 \n",
       "3                                                 68.7                                 \n",
       "4                                                   na                                 \n",
       "..                                                 ...                                 \n",
       "575                                               31.8                                 \n",
       "576                                                 na                                 \n",
       "577                                               31.8                                 \n",
       "578                                                 na                                 \n",
       "579                                               48.9                                 \n",
       "\n",
       "     103. Women age 15 years and above who consume alcohol (%)(TUACA(Age>=150))  \\\n",
       "0                                                   na                            \n",
       "1                                                  0.2                            \n",
       "2                                                   na                            \n",
       "3                                                    1                            \n",
       "4                                                   na                            \n",
       "..                                                 ...                            \n",
       "575                                                1.1                            \n",
       "576                                                 na                            \n",
       "577                                                1.1                            \n",
       "578                                                 na                            \n",
       "579                                                0.2                            \n",
       "\n",
       "    104. Men age 15 years and above who consume alcohol (%)(TUACA(Age>=150))  \\\n",
       "0                                                   na                         \n",
       "1                                                 10.5                         \n",
       "2                                                   na                         \n",
       "3                                                 25.8                         \n",
       "4                                                   na                         \n",
       "..                                                 ...                         \n",
       "575                                               19.4                         \n",
       "576                                                 na                         \n",
       "577                                               19.4                         \n",
       "578                                                 na                         \n",
       "579                                               21.3                         \n",
       "\n",
       "     states  \n",
       "0        MH  \n",
       "1        MH  \n",
       "2        MZ  \n",
       "3        MZ  \n",
       "4        MH  \n",
       "..      ...  \n",
       "575      KA  \n",
       "576      MH  \n",
       "577      MH  \n",
       "578      NL  \n",
       "579      NL  \n",
       "\n",
       "[580 rows x 105 columns]"
      ],
      "text/html": "<div>\n<style scoped>\n    .dataframe tbody tr th:only-of-type {\n        vertical-align: middle;\n    }\n\n    .dataframe tbody tr th {\n        vertical-align: top;\n    }\n\n    .dataframe thead th {\n        text-align: right;\n    }\n</style>\n<table border=\"1\" class=\"dataframe\">\n  <thead>\n    <tr style=\"text-align: right;\">\n      <th></th>\n      <th>1. Female population age 6 years and above who ever attended school (%)(PHP)</th>\n      <th>2. Population below age 15 years (%)(PHP)</th>\n      <th>3. Sex ratio of the total population (females per 1,000 males)(PHP)</th>\n      <th>4. Sex ratio at birth for children born in the last five years (females per 1,000 males)(PHP)</th>\n      <th>5. Children under age 5 years whose birth was registered with the civil authority (%)(PHP)</th>\n      <th>6. Deaths in the last 3 years registered with the civil authority (%)(PHP)</th>\n      <th>7. Population living in households with electricity (%)(PHP)</th>\n      <th>8. Population living in households with an improved drinking-water source1 (%)(PHP)</th>\n      <th>9. Population living in households that use an improved sanitation facility2 (%)(PHP)</th>\n      <th>10. Households using clean fuel for cooking3 (%)(PHP)</th>\n      <th>...</th>\n      <th>96. Moderately or severely elevated blood pressure (Systolic ≥160mm of Hg and/or Diastolic ≥100mm of Hg) (%)(SCW(Age 30-49))</th>\n      <th>95. Elevated blood pressure (Systolic ≥140 mm of Hg and/or Diastolic ≥90 mm of Hg) or taking medicine to control blood pressure(%)(SCW(Age 30-49))</th>\n      <th>98.Ever undergone a screening test for cervical cancer (%)(TUACA(Age&gt;=150))</th>\n      <th>99.Ever undergone a breast examination for breast cancer (%)(TUACA(Age&gt;=150))</th>\n      <th>100. Ever undergone an oral cavity examination for oral cancer (%)(TUACA(Age&gt;=150))</th>\n      <th>101. Women age 15 years and above who use any kind of tobacco (%)(TUACA(Age&gt;=150))</th>\n      <th>102. Men age 15 years and above who use any kind of tobacco (%)(TUACA(Age&gt;=150))</th>\n      <th>103. Women age 15 years and above who consume alcohol (%)(TUACA(Age&gt;=150))</th>\n      <th>104. Men age 15 years and above who consume alcohol (%)(TUACA(Age&gt;=150))</th>\n      <th>states</th>\n    </tr>\n  </thead>\n  <tbody>\n    <tr>\n      <th>0</th>\n      <td>75.4</td>\n      <td>25.8</td>\n      <td>905</td>\n      <td>843</td>\n      <td>93.4</td>\n      <td>na</td>\n      <td>92.2</td>\n      <td>86.1</td>\n      <td>50.8</td>\n      <td>57.8</td>\n      <td>...</td>\n      <td>7.1</td>\n      <td>na</td>\n      <td>52.8</td>\n      <td>28.9</td>\n      <td>14.4</td>\n      <td>na</td>\n      <td>na</td>\n      <td>na</td>\n      <td>na</td>\n      <td>MH</td>\n    </tr>\n    <tr>\n      <th>1</th>\n      <td>77.4</td>\n      <td>23.0</td>\n      <td>967</td>\n      <td>845</td>\n      <td>99.3</td>\n      <td>85.7</td>\n      <td>94.5</td>\n      <td>90.0</td>\n      <td>79.5</td>\n      <td>77.4</td>\n      <td>...</td>\n      <td>6.3</td>\n      <td>25.3</td>\n      <td>1.3</td>\n      <td>0.2</td>\n      <td>0.2</td>\n      <td>14.7</td>\n      <td>37.7</td>\n      <td>0.2</td>\n      <td>10.5</td>\n      <td>MH</td>\n    </tr>\n    <tr>\n      <th>2</th>\n      <td>95.9</td>\n      <td>27.6</td>\n      <td>1064</td>\n      <td>902</td>\n      <td>96.9</td>\n      <td>na</td>\n      <td>99.7</td>\n      <td>93.3</td>\n      <td>90.9</td>\n      <td>87.5</td>\n      <td>...</td>\n      <td>6.0</td>\n      <td>na</td>\n      <td>25.7</td>\n      <td>10.2</td>\n      <td>33.7</td>\n      <td>na</td>\n      <td>na</td>\n      <td>na</td>\n      <td>na</td>\n      <td>MZ</td>\n    </tr>\n    <tr>\n      <th>3</th>\n      <td>97.8</td>\n      <td>25.1</td>\n      <td>1052</td>\n      <td>1042</td>\n      <td>99.3</td>\n      <td>86.2</td>\n      <td>99.7</td>\n      <td>98.3</td>\n      <td>96.1</td>\n      <td>95.4</td>\n      <td>...</td>\n      <td>6.8</td>\n      <td>33.6</td>\n      <td>10.8</td>\n      <td>4.7</td>\n      <td>1.6</td>\n      <td>54.7</td>\n      <td>68.7</td>\n      <td>1</td>\n      <td>25.8</td>\n      <td>MZ</td>\n    </tr>\n    <tr>\n      <th>4</th>\n      <td>83.0</td>\n      <td>25.0</td>\n      <td>959</td>\n      <td>878</td>\n      <td>98.7</td>\n      <td>na</td>\n      <td>92.8</td>\n      <td>96.7</td>\n      <td>38.0</td>\n      <td>23.4</td>\n      <td>...</td>\n      <td>1.4</td>\n      <td>na</td>\n      <td>32.7</td>\n      <td>9.3</td>\n      <td>11.0</td>\n      <td>na</td>\n      <td>na</td>\n      <td>na</td>\n      <td>na</td>\n      <td>MH</td>\n    </tr>\n    <tr>\n      <th>...</th>\n      <td>...</td>\n      <td>...</td>\n      <td>...</td>\n      <td>...</td>\n      <td>...</td>\n      <td>...</td>\n      <td>...</td>\n      <td>...</td>\n      <td>...</td>\n      <td>...</td>\n      <td>...</td>\n      <td>...</td>\n      <td>...</td>\n      <td>...</td>\n      <td>...</td>\n      <td>...</td>\n      <td>...</td>\n      <td>...</td>\n      <td>...</td>\n      <td>...</td>\n      <td>...</td>\n    </tr>\n    <tr>\n      <th>575</th>\n      <td>51.9</td>\n      <td>29.2</td>\n      <td>1020</td>\n      <td>922</td>\n      <td>92.7</td>\n      <td>74.2</td>\n      <td>99.0</td>\n      <td>95.2</td>\n      <td>37.4</td>\n      <td>48.8</td>\n      <td>...</td>\n      <td>4.5</td>\n      <td>18</td>\n      <td>0.0</td>\n      <td>0.1</td>\n      <td>0.2</td>\n      <td>14.6</td>\n      <td>31.8</td>\n      <td>1.1</td>\n      <td>19.4</td>\n      <td>KA</td>\n    </tr>\n    <tr>\n      <th>576</th>\n      <td>76.1</td>\n      <td>24.7</td>\n      <td>969</td>\n      <td>863</td>\n      <td>95.8</td>\n      <td>na</td>\n      <td>89.6</td>\n      <td>80.8</td>\n      <td>43.7</td>\n      <td>37.2</td>\n      <td>...</td>\n      <td>3.5</td>\n      <td>na</td>\n      <td>49.2</td>\n      <td>35.9</td>\n      <td>30.9</td>\n      <td>na</td>\n      <td>na</td>\n      <td>na</td>\n      <td>na</td>\n      <td>MH</td>\n    </tr>\n    <tr>\n      <th>577</th>\n      <td>51.9</td>\n      <td>29.2</td>\n      <td>1020</td>\n      <td>922</td>\n      <td>92.7</td>\n      <td>74.2</td>\n      <td>99.0</td>\n      <td>95.2</td>\n      <td>37.4</td>\n      <td>48.8</td>\n      <td>...</td>\n      <td>4.5</td>\n      <td>18</td>\n      <td>0.0</td>\n      <td>0.1</td>\n      <td>0.2</td>\n      <td>14.6</td>\n      <td>31.8</td>\n      <td>1.1</td>\n      <td>19.4</td>\n      <td>MH</td>\n    </tr>\n    <tr>\n      <th>578</th>\n      <td>86.5</td>\n      <td>29.4</td>\n      <td>936</td>\n      <td>747</td>\n      <td>58.9</td>\n      <td>na</td>\n      <td>99.4</td>\n      <td>88.7</td>\n      <td>81.1</td>\n      <td>12.8</td>\n      <td>...</td>\n      <td>3.1</td>\n      <td>na</td>\n      <td>14.3</td>\n      <td>2.0</td>\n      <td>8.6</td>\n      <td>na</td>\n      <td>na</td>\n      <td>na</td>\n      <td>na</td>\n      <td>NL</td>\n    </tr>\n    <tr>\n      <th>579</th>\n      <td>87.4</td>\n      <td>22.2</td>\n      <td>1132</td>\n      <td>1207</td>\n      <td>51.6</td>\n      <td>51</td>\n      <td>99.4</td>\n      <td>91.0</td>\n      <td>88.9</td>\n      <td>18.6</td>\n      <td>...</td>\n      <td>11.8</td>\n      <td>41.2</td>\n      <td>0.2</td>\n      <td>0.4</td>\n      <td>0.7</td>\n      <td>8</td>\n      <td>48.9</td>\n      <td>0.2</td>\n      <td>21.3</td>\n      <td>NL</td>\n    </tr>\n  </tbody>\n</table>\n<p>580 rows × 105 columns</p>\n</div>"
     },
     "metadata": {},
     "execution_count": 32
    }
   ],
   "source": [
    "temp"
   ]
  },
  {
   "cell_type": "code",
   "execution_count": 310,
   "metadata": {},
   "outputs": [],
   "source": [
    "t1=temp.set_index(['District'])\n",
    "t2=t1.T"
   ]
  },
  {
   "cell_type": "code",
   "execution_count": 316,
   "metadata": {},
   "outputs": [],
   "source": [
    "t2=t2.reset_index()"
   ]
  },
  {
   "cell_type": "code",
   "execution_count": 420,
   "metadata": {},
   "outputs": [
    {
     "output_type": "execute_result",
     "data": {
      "text/plain": [
       "     1. Female population age 6 years and above who ever attended school (%)(PHP)  \\\n",
       "0                                                 75.4                              \n",
       "1                                                 77.4                              \n",
       "2                                                 95.9                              \n",
       "3                                                 97.8                              \n",
       "4                                                 83.0                              \n",
       "..                                                 ...                              \n",
       "575                                               51.9                              \n",
       "576                                               76.1                              \n",
       "577                                               51.9                              \n",
       "578                                               86.5                              \n",
       "579                                               87.4                              \n",
       "\n",
       "     2. Population below age 15 years (%)(PHP)  \\\n",
       "0                                         25.8   \n",
       "1                                         23.0   \n",
       "2                                         27.6   \n",
       "3                                         25.1   \n",
       "4                                         25.0   \n",
       "..                                         ...   \n",
       "575                                       29.2   \n",
       "576                                       24.7   \n",
       "577                                       29.2   \n",
       "578                                       29.4   \n",
       "579                                       22.2   \n",
       "\n",
       "     3. Sex ratio of the total population (females per 1,000 males)(PHP)  \\\n",
       "0                                                  905                     \n",
       "1                                                  967                     \n",
       "2                                                 1064                     \n",
       "3                                                 1052                     \n",
       "4                                                  959                     \n",
       "..                                                 ...                     \n",
       "575                                               1020                     \n",
       "576                                                969                     \n",
       "577                                               1020                     \n",
       "578                                                936                     \n",
       "579                                               1132                     \n",
       "\n",
       "     4. Sex ratio at birth for children born in the last five years (females per 1,000 males)(PHP)  \\\n",
       "0                                                  843                                               \n",
       "1                                                  845                                               \n",
       "2                                                  902                                               \n",
       "3                                                 1042                                               \n",
       "4                                                  878                                               \n",
       "..                                                 ...                                               \n",
       "575                                                922                                               \n",
       "576                                                863                                               \n",
       "577                                                922                                               \n",
       "578                                                747                                               \n",
       "579                                               1207                                               \n",
       "\n",
       "     5. Children under age 5 years whose birth was registered with the civil authority (%)(PHP)  \\\n",
       "0                                                 93.4                                            \n",
       "1                                                 99.3                                            \n",
       "2                                                 96.9                                            \n",
       "3                                                 99.3                                            \n",
       "4                                                 98.7                                            \n",
       "..                                                 ...                                            \n",
       "575                                               92.7                                            \n",
       "576                                               95.8                                            \n",
       "577                                               92.7                                            \n",
       "578                                               58.9                                            \n",
       "579                                               51.6                                            \n",
       "\n",
       "    6. Deaths in the last 3 years registered with the civil authority (%)(PHP)  \\\n",
       "0                                                   na                           \n",
       "1                                                 85.7                           \n",
       "2                                                   na                           \n",
       "3                                                 86.2                           \n",
       "4                                                   na                           \n",
       "..                                                 ...                           \n",
       "575                                               74.2                           \n",
       "576                                                 na                           \n",
       "577                                               74.2                           \n",
       "578                                                 na                           \n",
       "579                                                 51                           \n",
       "\n",
       "     7. Population living in households with electricity (%)(PHP)  \\\n",
       "0                                                 92.2              \n",
       "1                                                 94.5              \n",
       "2                                                 99.7              \n",
       "3                                                 99.7              \n",
       "4                                                 92.8              \n",
       "..                                                 ...              \n",
       "575                                               99.0              \n",
       "576                                               89.6              \n",
       "577                                               99.0              \n",
       "578                                               99.4              \n",
       "579                                               99.4              \n",
       "\n",
       "     8. Population living in households with an improved drinking-water source1 (%)(PHP)  \\\n",
       "0                                                 86.1                                     \n",
       "1                                                 90.0                                     \n",
       "2                                                 93.3                                     \n",
       "3                                                 98.3                                     \n",
       "4                                                 96.7                                     \n",
       "..                                                 ...                                     \n",
       "575                                               95.2                                     \n",
       "576                                               80.8                                     \n",
       "577                                               95.2                                     \n",
       "578                                               88.7                                     \n",
       "579                                               91.0                                     \n",
       "\n",
       "     9. Population living in households that use an improved sanitation facility2 (%)(PHP)  \\\n",
       "0                                                 50.8                                       \n",
       "1                                                 79.5                                       \n",
       "2                                                 90.9                                       \n",
       "3                                                 96.1                                       \n",
       "4                                                 38.0                                       \n",
       "..                                                 ...                                       \n",
       "575                                               37.4                                       \n",
       "576                                               43.7                                       \n",
       "577                                               37.4                                       \n",
       "578                                               81.1                                       \n",
       "579                                               88.9                                       \n",
       "\n",
       "     10. Households using clean fuel for cooking3 (%)(PHP)  ...  \\\n",
       "0                                                 57.8      ...   \n",
       "1                                                 77.4      ...   \n",
       "2                                                 87.5      ...   \n",
       "3                                                 95.4      ...   \n",
       "4                                                 23.4      ...   \n",
       "..                                                 ...      ...   \n",
       "575                                               48.8      ...   \n",
       "576                                               37.2      ...   \n",
       "577                                               48.8      ...   \n",
       "578                                               12.8      ...   \n",
       "579                                               18.6      ...   \n",
       "\n",
       "     98.Ever undergone a screening test for cervical cancer (%)(TUACA(Age>=150))  \\\n",
       "0                                                 52.8                             \n",
       "1                                                  1.3                             \n",
       "2                                                 25.7                             \n",
       "3                                                 10.8                             \n",
       "4                                                 32.7                             \n",
       "..                                                 ...                             \n",
       "575                                                0.0                             \n",
       "576                                               49.2                             \n",
       "577                                                0.0                             \n",
       "578                                               14.3                             \n",
       "579                                                0.2                             \n",
       "\n",
       "     99.Ever undergone a breast examination for breast cancer (%)(TUACA(Age>=150))  \\\n",
       "0                                                 28.9                               \n",
       "1                                                  0.2                               \n",
       "2                                                 10.2                               \n",
       "3                                                  4.7                               \n",
       "4                                                  9.3                               \n",
       "..                                                 ...                               \n",
       "575                                                0.1                               \n",
       "576                                               35.9                               \n",
       "577                                                0.1                               \n",
       "578                                                2.0                               \n",
       "579                                                0.4                               \n",
       "\n",
       "    100. Ever undergone an oral cavity examination for oral cancer (%)(TUACA(Age>=150))  \\\n",
       "0                                                 14.4                                    \n",
       "1                                                  0.2                                    \n",
       "2                                                 33.7                                    \n",
       "3                                                  1.6                                    \n",
       "4                                                 11.0                                    \n",
       "..                                                 ...                                    \n",
       "575                                                0.2                                    \n",
       "576                                               30.9                                    \n",
       "577                                                0.2                                    \n",
       "578                                                8.6                                    \n",
       "579                                                0.7                                    \n",
       "\n",
       "     101. Women age 15 years and above who use any kind of tobacco (%)(TUACA(Age>=150))  \\\n",
       "0                                                   na                                    \n",
       "1                                                 14.7                                    \n",
       "2                                                   na                                    \n",
       "3                                                 54.7                                    \n",
       "4                                                   na                                    \n",
       "..                                                 ...                                    \n",
       "575                                               14.6                                    \n",
       "576                                                 na                                    \n",
       "577                                               14.6                                    \n",
       "578                                                 na                                    \n",
       "579                                                  8                                    \n",
       "\n",
       "     102. Men age 15 years and above who use any kind of tobacco (%)(TUACA(Age>=150))  \\\n",
       "0                                                   na                                  \n",
       "1                                                 37.7                                  \n",
       "2                                                   na                                  \n",
       "3                                                 68.7                                  \n",
       "4                                                   na                                  \n",
       "..                                                 ...                                  \n",
       "575                                               31.8                                  \n",
       "576                                                 na                                  \n",
       "577                                               31.8                                  \n",
       "578                                                 na                                  \n",
       "579                                               48.9                                  \n",
       "\n",
       "     103. Women age 15 years and above who consume alcohol (%)(TUACA(Age>=150))  \\\n",
       "0                                                   na                            \n",
       "1                                                  0.2                            \n",
       "2                                                   na                            \n",
       "3                                                    1                            \n",
       "4                                                   na                            \n",
       "..                                                 ...                            \n",
       "575                                                1.1                            \n",
       "576                                                 na                            \n",
       "577                                                1.1                            \n",
       "578                                                 na                            \n",
       "579                                                0.2                            \n",
       "\n",
       "    104. Men age 15 years and above who consume alcohol (%)(TUACA(Age>=150))  \\\n",
       "0                                                   na                         \n",
       "1                                                 10.5                         \n",
       "2                                                   na                         \n",
       "3                                                 25.8                         \n",
       "4                                                   na                         \n",
       "..                                                 ...                         \n",
       "575                                               19.4                         \n",
       "576                                                 na                         \n",
       "577                                               19.4                         \n",
       "578                                                 na                         \n",
       "579                                               21.3                         \n",
       "\n",
       "     states border  AN  \n",
       "0        MH      0   0  \n",
       "1        MH      0   0  \n",
       "2        MZ      1   0  \n",
       "3        MZ      1   0  \n",
       "4        MH      0   0  \n",
       "..      ...    ...  ..  \n",
       "575      KA      1   0  \n",
       "576      MH      1   0  \n",
       "577      MH      1   0  \n",
       "578      NL      0   0  \n",
       "579      NL      0   0  \n",
       "\n",
       "[580 rows x 107 columns]"
      ],
      "text/html": "<div>\n<style scoped>\n    .dataframe tbody tr th:only-of-type {\n        vertical-align: middle;\n    }\n\n    .dataframe tbody tr th {\n        vertical-align: top;\n    }\n\n    .dataframe thead th {\n        text-align: right;\n    }\n</style>\n<table border=\"1\" class=\"dataframe\">\n  <thead>\n    <tr style=\"text-align: right;\">\n      <th></th>\n      <th>1. Female population age 6 years and above who ever attended school (%)(PHP)</th>\n      <th>2. Population below age 15 years (%)(PHP)</th>\n      <th>3. Sex ratio of the total population (females per 1,000 males)(PHP)</th>\n      <th>4. Sex ratio at birth for children born in the last five years (females per 1,000 males)(PHP)</th>\n      <th>5. Children under age 5 years whose birth was registered with the civil authority (%)(PHP)</th>\n      <th>6. Deaths in the last 3 years registered with the civil authority (%)(PHP)</th>\n      <th>7. Population living in households with electricity (%)(PHP)</th>\n      <th>8. Population living in households with an improved drinking-water source1 (%)(PHP)</th>\n      <th>9. Population living in households that use an improved sanitation facility2 (%)(PHP)</th>\n      <th>10. Households using clean fuel for cooking3 (%)(PHP)</th>\n      <th>...</th>\n      <th>98.Ever undergone a screening test for cervical cancer (%)(TUACA(Age&gt;=150))</th>\n      <th>99.Ever undergone a breast examination for breast cancer (%)(TUACA(Age&gt;=150))</th>\n      <th>100. Ever undergone an oral cavity examination for oral cancer (%)(TUACA(Age&gt;=150))</th>\n      <th>101. Women age 15 years and above who use any kind of tobacco (%)(TUACA(Age&gt;=150))</th>\n      <th>102. Men age 15 years and above who use any kind of tobacco (%)(TUACA(Age&gt;=150))</th>\n      <th>103. Women age 15 years and above who consume alcohol (%)(TUACA(Age&gt;=150))</th>\n      <th>104. Men age 15 years and above who consume alcohol (%)(TUACA(Age&gt;=150))</th>\n      <th>states</th>\n      <th>border</th>\n      <th>AN</th>\n    </tr>\n  </thead>\n  <tbody>\n    <tr>\n      <th>0</th>\n      <td>75.4</td>\n      <td>25.8</td>\n      <td>905</td>\n      <td>843</td>\n      <td>93.4</td>\n      <td>na</td>\n      <td>92.2</td>\n      <td>86.1</td>\n      <td>50.8</td>\n      <td>57.8</td>\n      <td>...</td>\n      <td>52.8</td>\n      <td>28.9</td>\n      <td>14.4</td>\n      <td>na</td>\n      <td>na</td>\n      <td>na</td>\n      <td>na</td>\n      <td>MH</td>\n      <td>0</td>\n      <td>0</td>\n    </tr>\n    <tr>\n      <th>1</th>\n      <td>77.4</td>\n      <td>23.0</td>\n      <td>967</td>\n      <td>845</td>\n      <td>99.3</td>\n      <td>85.7</td>\n      <td>94.5</td>\n      <td>90.0</td>\n      <td>79.5</td>\n      <td>77.4</td>\n      <td>...</td>\n      <td>1.3</td>\n      <td>0.2</td>\n      <td>0.2</td>\n      <td>14.7</td>\n      <td>37.7</td>\n      <td>0.2</td>\n      <td>10.5</td>\n      <td>MH</td>\n      <td>0</td>\n      <td>0</td>\n    </tr>\n    <tr>\n      <th>2</th>\n      <td>95.9</td>\n      <td>27.6</td>\n      <td>1064</td>\n      <td>902</td>\n      <td>96.9</td>\n      <td>na</td>\n      <td>99.7</td>\n      <td>93.3</td>\n      <td>90.9</td>\n      <td>87.5</td>\n      <td>...</td>\n      <td>25.7</td>\n      <td>10.2</td>\n      <td>33.7</td>\n      <td>na</td>\n      <td>na</td>\n      <td>na</td>\n      <td>na</td>\n      <td>MZ</td>\n      <td>1</td>\n      <td>0</td>\n    </tr>\n    <tr>\n      <th>3</th>\n      <td>97.8</td>\n      <td>25.1</td>\n      <td>1052</td>\n      <td>1042</td>\n      <td>99.3</td>\n      <td>86.2</td>\n      <td>99.7</td>\n      <td>98.3</td>\n      <td>96.1</td>\n      <td>95.4</td>\n      <td>...</td>\n      <td>10.8</td>\n      <td>4.7</td>\n      <td>1.6</td>\n      <td>54.7</td>\n      <td>68.7</td>\n      <td>1</td>\n      <td>25.8</td>\n      <td>MZ</td>\n      <td>1</td>\n      <td>0</td>\n    </tr>\n    <tr>\n      <th>4</th>\n      <td>83.0</td>\n      <td>25.0</td>\n      <td>959</td>\n      <td>878</td>\n      <td>98.7</td>\n      <td>na</td>\n      <td>92.8</td>\n      <td>96.7</td>\n      <td>38.0</td>\n      <td>23.4</td>\n      <td>...</td>\n      <td>32.7</td>\n      <td>9.3</td>\n      <td>11.0</td>\n      <td>na</td>\n      <td>na</td>\n      <td>na</td>\n      <td>na</td>\n      <td>MH</td>\n      <td>0</td>\n      <td>0</td>\n    </tr>\n    <tr>\n      <th>...</th>\n      <td>...</td>\n      <td>...</td>\n      <td>...</td>\n      <td>...</td>\n      <td>...</td>\n      <td>...</td>\n      <td>...</td>\n      <td>...</td>\n      <td>...</td>\n      <td>...</td>\n      <td>...</td>\n      <td>...</td>\n      <td>...</td>\n      <td>...</td>\n      <td>...</td>\n      <td>...</td>\n      <td>...</td>\n      <td>...</td>\n      <td>...</td>\n      <td>...</td>\n      <td>...</td>\n    </tr>\n    <tr>\n      <th>575</th>\n      <td>51.9</td>\n      <td>29.2</td>\n      <td>1020</td>\n      <td>922</td>\n      <td>92.7</td>\n      <td>74.2</td>\n      <td>99.0</td>\n      <td>95.2</td>\n      <td>37.4</td>\n      <td>48.8</td>\n      <td>...</td>\n      <td>0.0</td>\n      <td>0.1</td>\n      <td>0.2</td>\n      <td>14.6</td>\n      <td>31.8</td>\n      <td>1.1</td>\n      <td>19.4</td>\n      <td>KA</td>\n      <td>1</td>\n      <td>0</td>\n    </tr>\n    <tr>\n      <th>576</th>\n      <td>76.1</td>\n      <td>24.7</td>\n      <td>969</td>\n      <td>863</td>\n      <td>95.8</td>\n      <td>na</td>\n      <td>89.6</td>\n      <td>80.8</td>\n      <td>43.7</td>\n      <td>37.2</td>\n      <td>...</td>\n      <td>49.2</td>\n      <td>35.9</td>\n      <td>30.9</td>\n      <td>na</td>\n      <td>na</td>\n      <td>na</td>\n      <td>na</td>\n      <td>MH</td>\n      <td>1</td>\n      <td>0</td>\n    </tr>\n    <tr>\n      <th>577</th>\n      <td>51.9</td>\n      <td>29.2</td>\n      <td>1020</td>\n      <td>922</td>\n      <td>92.7</td>\n      <td>74.2</td>\n      <td>99.0</td>\n      <td>95.2</td>\n      <td>37.4</td>\n      <td>48.8</td>\n      <td>...</td>\n      <td>0.0</td>\n      <td>0.1</td>\n      <td>0.2</td>\n      <td>14.6</td>\n      <td>31.8</td>\n      <td>1.1</td>\n      <td>19.4</td>\n      <td>MH</td>\n      <td>1</td>\n      <td>0</td>\n    </tr>\n    <tr>\n      <th>578</th>\n      <td>86.5</td>\n      <td>29.4</td>\n      <td>936</td>\n      <td>747</td>\n      <td>58.9</td>\n      <td>na</td>\n      <td>99.4</td>\n      <td>88.7</td>\n      <td>81.1</td>\n      <td>12.8</td>\n      <td>...</td>\n      <td>14.3</td>\n      <td>2.0</td>\n      <td>8.6</td>\n      <td>na</td>\n      <td>na</td>\n      <td>na</td>\n      <td>na</td>\n      <td>NL</td>\n      <td>0</td>\n      <td>0</td>\n    </tr>\n    <tr>\n      <th>579</th>\n      <td>87.4</td>\n      <td>22.2</td>\n      <td>1132</td>\n      <td>1207</td>\n      <td>51.6</td>\n      <td>51</td>\n      <td>99.4</td>\n      <td>91.0</td>\n      <td>88.9</td>\n      <td>18.6</td>\n      <td>...</td>\n      <td>0.2</td>\n      <td>0.4</td>\n      <td>0.7</td>\n      <td>8</td>\n      <td>48.9</td>\n      <td>0.2</td>\n      <td>21.3</td>\n      <td>NL</td>\n      <td>0</td>\n      <td>0</td>\n    </tr>\n  </tbody>\n</table>\n<p>580 rows × 107 columns</p>\n</div>"
     },
     "metadata": {},
     "execution_count": 420
    }
   ],
   "source": [
    "temp"
   ]
  },
  {
   "cell_type": "code",
   "execution_count": 423,
   "metadata": {},
   "outputs": [
    {
     "output_type": "execute_result",
     "data": {
      "text/plain": [
       "0      AhmednagarMH2016\n",
       "1      AhmednagarMH2020\n",
       "2          AizawlMZ2016\n",
       "3          AizawlMZ2020\n",
       "4           AkolaMH2016\n",
       "             ...       \n",
       "575        YadgirKA2020\n",
       "576      YavatmalMH2016\n",
       "577      YavatmalMH2020\n",
       "578     ZunhebotoNL2016\n",
       "579     ZunhebotoNL2020\n",
       "Name: UID, Length: 580, dtype: object"
      ]
     },
     "metadata": {},
     "execution_count": 423
    }
   ],
   "source": [
    "temp['UID']=temp['District']+temp['states']+temp['Year'].apply(str)\n",
    "temp['UID']"
   ]
  },
  {
   "cell_type": "code",
   "execution_count": 343,
   "metadata": {},
   "outputs": [],
   "source": [
    "new=temp.T"
   ]
  },
  {
   "cell_type": "code",
   "execution_count": 345,
   "metadata": {},
   "outputs": [],
   "source": [
    "new.to_csv('transpose_nfhs5_4.csv')"
   ]
  },
  {
   "cell_type": "code",
   "execution_count": 346,
   "metadata": {},
   "outputs": [],
   "source": [
    "new=pd.read_csv('transpose_nfhs5_4.csv')"
   ]
  },
  {
   "cell_type": "code",
   "execution_count": 42,
   "metadata": {},
   "outputs": [],
   "source": [
    "temp['UID']=temp['District']+temp['states']+temp['Year'].apply(str)"
   ]
  },
  {
   "cell_type": "code",
   "execution_count": 41,
   "metadata": {},
   "outputs": [],
   "source": [
    "temp=df\n",
    "#temp=temp.set_index(['District','Year','states'],append=True)"
   ]
  },
  {
   "cell_type": "code",
   "execution_count": 62,
   "metadata": {},
   "outputs": [
    {
     "output_type": "execute_result",
     "data": {
      "text/plain": [
       "Index(['1. Female population age 6 years and above who ever attended school (%)(PHP)',\n",
       "       '2. Population below age 15 years (%)(PHP)',\n",
       "       '3. Sex ratio of the total population (females per 1,000 males)(PHP)',\n",
       "       '4. Sex ratio at birth for children born in the last five years (females per 1,000 males)(PHP)',\n",
       "       '5. Children under age 5 years whose birth was registered with the civil authority (%)(PHP)',\n",
       "       '6. Deaths in the last 3 years registered with the civil authority (%)(PHP)',\n",
       "       '7. Population living in households with electricity (%)(PHP)',\n",
       "       '8. Population living in households with an improved drinking-water source1 (%)(PHP)',\n",
       "       '9. Population living in households that use an improved sanitation facility2 (%)(PHP)',\n",
       "       '10. Households using clean fuel for cooking3 (%)(PHP)',\n",
       "       ...\n",
       "       '95. Mildly elevated blood pressure (Systolic 140-159 mm of Hg and/or Diastolic 90-99 mm of Hg) (%)(SCW(Age 30-49))',\n",
       "       '96. Moderately or severely elevated blood pressure (Systolic ≥160mm of Hg and/or Diastolic ≥100mm of Hg) (%)(SCW(Age 30-49))',\n",
       "       '95. Elevated blood pressure (Systolic ≥140 mm of Hg and/or Diastolic ≥90 mm of Hg) or taking medicine to control blood pressure(%)(SCW(Age 30-49))',\n",
       "       '98.Ever undergone a screening test for cervical cancer (%)(TUACA(Age>=150))',\n",
       "       '99.Ever undergone a breast examination for breast cancer (%)(TUACA(Age>=150))',\n",
       "       '100. Ever undergone an oral cavity examination for oral cancer (%)(TUACA(Age>=150))',\n",
       "       '101. Women age 15 years and above who use any kind of tobacco (%)(TUACA(Age>=150))',\n",
       "       '102. Men age 15 years and above who use any kind of tobacco (%)(TUACA(Age>=150))',\n",
       "       '103. Women age 15 years and above who consume alcohol (%)(TUACA(Age>=150))',\n",
       "       '104. Men age 15 years and above who consume alcohol (%)(TUACA(Age>=150))'],\n",
       "      dtype='object', length=104)"
      ]
     },
     "metadata": {},
     "execution_count": 62
    }
   ],
   "source": [
    "temp.columns[3:107]"
   ]
  },
  {
   "cell_type": "code",
   "execution_count": 43,
   "metadata": {},
   "outputs": [
    {
     "output_type": "execute_result",
     "data": {
      "text/plain": [
       "104"
      ]
     },
     "metadata": {},
     "execution_count": 43
    }
   ],
   "source": [
    "new=temp.melt(id_vars=['UID','District','Year','states'],value_vars=temp.columns[3:107])\n",
    "len(new.variable.unique())"
   ]
  },
  {
   "cell_type": "code",
   "execution_count": 44,
   "metadata": {},
   "outputs": [
    {
     "output_type": "execute_result",
     "data": {
      "text/plain": [
       "         District  Year states  \\\n",
       "0      Ahmednagar  2016     MH   \n",
       "1      Ahmednagar  2020     MH   \n",
       "2          Aizawl  2016     MZ   \n",
       "3          Aizawl  2020     MZ   \n",
       "4           Akola  2016     MH   \n",
       "...           ...   ...    ...   \n",
       "60315      Yadgir  2020     KA   \n",
       "60316    Yavatmal  2016     MH   \n",
       "60317    Yavatmal  2020     MH   \n",
       "60318   Zunheboto  2016     NL   \n",
       "60319   Zunheboto  2020     NL   \n",
       "\n",
       "                                                variable value  \n",
       "0      1. Female population age 6 years and above who...  75.4  \n",
       "1      1. Female population age 6 years and above who...  77.4  \n",
       "2      1. Female population age 6 years and above who...  95.9  \n",
       "3      1. Female population age 6 years and above who...  97.8  \n",
       "4      1. Female population age 6 years and above who...    83  \n",
       "...                                                  ...   ...  \n",
       "60315  104. Men age 15 years and above who consume al...  19.4  \n",
       "60316  104. Men age 15 years and above who consume al...    na  \n",
       "60317  104. Men age 15 years and above who consume al...  19.4  \n",
       "60318  104. Men age 15 years and above who consume al...    na  \n",
       "60319  104. Men age 15 years and above who consume al...  21.3  \n",
       "\n",
       "[60320 rows x 5 columns]"
      ],
      "text/html": "<div>\n<style scoped>\n    .dataframe tbody tr th:only-of-type {\n        vertical-align: middle;\n    }\n\n    .dataframe tbody tr th {\n        vertical-align: top;\n    }\n\n    .dataframe thead th {\n        text-align: right;\n    }\n</style>\n<table border=\"1\" class=\"dataframe\">\n  <thead>\n    <tr style=\"text-align: right;\">\n      <th></th>\n      <th>District</th>\n      <th>Year</th>\n      <th>states</th>\n      <th>variable</th>\n      <th>value</th>\n    </tr>\n  </thead>\n  <tbody>\n    <tr>\n      <th>0</th>\n      <td>Ahmednagar</td>\n      <td>2016</td>\n      <td>MH</td>\n      <td>1. Female population age 6 years and above who...</td>\n      <td>75.4</td>\n    </tr>\n    <tr>\n      <th>1</th>\n      <td>Ahmednagar</td>\n      <td>2020</td>\n      <td>MH</td>\n      <td>1. Female population age 6 years and above who...</td>\n      <td>77.4</td>\n    </tr>\n    <tr>\n      <th>2</th>\n      <td>Aizawl</td>\n      <td>2016</td>\n      <td>MZ</td>\n      <td>1. Female population age 6 years and above who...</td>\n      <td>95.9</td>\n    </tr>\n    <tr>\n      <th>3</th>\n      <td>Aizawl</td>\n      <td>2020</td>\n      <td>MZ</td>\n      <td>1. Female population age 6 years and above who...</td>\n      <td>97.8</td>\n    </tr>\n    <tr>\n      <th>4</th>\n      <td>Akola</td>\n      <td>2016</td>\n      <td>MH</td>\n      <td>1. Female population age 6 years and above who...</td>\n      <td>83</td>\n    </tr>\n    <tr>\n      <th>...</th>\n      <td>...</td>\n      <td>...</td>\n      <td>...</td>\n      <td>...</td>\n      <td>...</td>\n    </tr>\n    <tr>\n      <th>60315</th>\n      <td>Yadgir</td>\n      <td>2020</td>\n      <td>KA</td>\n      <td>104. Men age 15 years and above who consume al...</td>\n      <td>19.4</td>\n    </tr>\n    <tr>\n      <th>60316</th>\n      <td>Yavatmal</td>\n      <td>2016</td>\n      <td>MH</td>\n      <td>104. Men age 15 years and above who consume al...</td>\n      <td>na</td>\n    </tr>\n    <tr>\n      <th>60317</th>\n      <td>Yavatmal</td>\n      <td>2020</td>\n      <td>MH</td>\n      <td>104. Men age 15 years and above who consume al...</td>\n      <td>19.4</td>\n    </tr>\n    <tr>\n      <th>60318</th>\n      <td>Zunheboto</td>\n      <td>2016</td>\n      <td>NL</td>\n      <td>104. Men age 15 years and above who consume al...</td>\n      <td>na</td>\n    </tr>\n    <tr>\n      <th>60319</th>\n      <td>Zunheboto</td>\n      <td>2020</td>\n      <td>NL</td>\n      <td>104. Men age 15 years and above who consume al...</td>\n      <td>21.3</td>\n    </tr>\n  </tbody>\n</table>\n<p>60320 rows × 5 columns</p>\n</div>"
     },
     "metadata": {},
     "execution_count": 44
    }
   ],
   "source": [
    "new=new.drop(['UID'],axis=1)\n",
    "new"
   ]
  },
  {
   "cell_type": "code",
   "execution_count": 45,
   "metadata": {},
   "outputs": [],
   "source": [
    "new['UID2']=new['District']+new['states']#+new['variable']+new['Year'].apply(str)"
   ]
  },
  {
   "cell_type": "code",
   "execution_count": 47,
   "metadata": {},
   "outputs": [],
   "source": [
    "new1=new.set_index(['UID2','District','Year','states','variable'])"
   ]
  },
  {
   "cell_type": "code",
   "execution_count": 46,
   "metadata": {},
   "outputs": [
    {
     "output_type": "execute_result",
     "data": {
      "text/plain": [
       "Aurangabad                416\n",
       "Raigarh                   312\n",
       "Bilaspur                  312\n",
       "Bijapur                   312\n",
       "Hamirpur                  312\n",
       "                         ... \n",
       "Mahabubnagar              104\n",
       "Sepahijala                104\n",
       "Komaram Bheem Asifabad    104\n",
       "Warangal Urban            104\n",
       "DimaHasao                 104\n",
       "Name: District, Length: 316, dtype: int64"
      ]
     },
     "metadata": {},
     "execution_count": 46
    }
   ],
   "source": [
    "#new=new.drop_duplicates('UID2')\n",
    "new.District.value_counts()"
   ]
  },
  {
   "cell_type": "code",
   "execution_count": 49,
   "metadata": {},
   "outputs": [
    {
     "output_type": "execute_result",
     "data": {
      "text/plain": [
       "                                                                                  value  \\\n",
       "Year                                                                               2016   \n",
       "UID2         District   states variable                                                   \n",
       "AhmednagarMH Ahmednagar MH     1. Female population age 6 years and above who ...  75.4   \n",
       "                               10. Households using clean fuel for cooking3 (%...  57.8   \n",
       "                               100. Ever undergone an oral cavity examination ...  14.4   \n",
       "                               101. Women age 15 years and above who use any k...    na   \n",
       "                               102. Men age 15 years and above who use any kin...    na   \n",
       "...                                                                                 ...   \n",
       "ZunhebotoNL  Zunheboto  NL     95. Elevated blood pressure (Systolic ≥140 mm o...    na   \n",
       "                               95. Mildly elevated blood pressure (Systolic 14...    na   \n",
       "                               96. Moderately or severely elevated blood press...   3.1   \n",
       "                               98.Ever undergone a screening test for cervical...  14.3   \n",
       "                               99.Ever undergone a breast examination for brea...     2   \n",
       "\n",
       "                                                                                         \n",
       "Year                                                                               2020  \n",
       "UID2         District   states variable                                                  \n",
       "AhmednagarMH Ahmednagar MH     1. Female population age 6 years and above who ...  77.4  \n",
       "                               10. Households using clean fuel for cooking3 (%...  77.4  \n",
       "                               100. Ever undergone an oral cavity examination ...   0.2  \n",
       "                               101. Women age 15 years and above who use any k...  14.7  \n",
       "                               102. Men age 15 years and above who use any kin...  37.7  \n",
       "...                                                                                 ...  \n",
       "ZunhebotoNL  Zunheboto  NL     95. Elevated blood pressure (Systolic ≥140 mm o...  41.2  \n",
       "                               95. Mildly elevated blood pressure (Systolic 14...  29.2  \n",
       "                               96. Moderately or severely elevated blood press...  11.8  \n",
       "                               98.Ever undergone a screening test for cervical...   0.2  \n",
       "                               99.Ever undergone a breast examination for brea...   0.4  \n",
       "\n",
       "[33384 rows x 2 columns]"
      ],
      "text/html": "<div>\n<style scoped>\n    .dataframe tbody tr th:only-of-type {\n        vertical-align: middle;\n    }\n\n    .dataframe tbody tr th {\n        vertical-align: top;\n    }\n\n    .dataframe thead tr th {\n        text-align: left;\n    }\n\n    .dataframe thead tr:last-of-type th {\n        text-align: right;\n    }\n</style>\n<table border=\"1\" class=\"dataframe\">\n  <thead>\n    <tr>\n      <th></th>\n      <th></th>\n      <th></th>\n      <th></th>\n      <th colspan=\"2\" halign=\"left\">value</th>\n    </tr>\n    <tr>\n      <th></th>\n      <th></th>\n      <th></th>\n      <th>Year</th>\n      <th>2016</th>\n      <th>2020</th>\n    </tr>\n    <tr>\n      <th>UID2</th>\n      <th>District</th>\n      <th>states</th>\n      <th>variable</th>\n      <th></th>\n      <th></th>\n    </tr>\n  </thead>\n  <tbody>\n    <tr>\n      <th rowspan=\"5\" valign=\"top\">AhmednagarMH</th>\n      <th rowspan=\"5\" valign=\"top\">Ahmednagar</th>\n      <th rowspan=\"5\" valign=\"top\">MH</th>\n      <th>1. Female population age 6 years and above who ever attended school (%)(PHP)</th>\n      <td>75.4</td>\n      <td>77.4</td>\n    </tr>\n    <tr>\n      <th>10. Households using clean fuel for cooking3 (%)(PHP)</th>\n      <td>57.8</td>\n      <td>77.4</td>\n    </tr>\n    <tr>\n      <th>100. Ever undergone an oral cavity examination for oral cancer (%)(TUACA(Age&gt;=150))</th>\n      <td>14.4</td>\n      <td>0.2</td>\n    </tr>\n    <tr>\n      <th>101. Women age 15 years and above who use any kind of tobacco (%)(TUACA(Age&gt;=150))</th>\n      <td>na</td>\n      <td>14.7</td>\n    </tr>\n    <tr>\n      <th>102. Men age 15 years and above who use any kind of tobacco (%)(TUACA(Age&gt;=150))</th>\n      <td>na</td>\n      <td>37.7</td>\n    </tr>\n    <tr>\n      <th>...</th>\n      <th>...</th>\n      <th>...</th>\n      <th>...</th>\n      <td>...</td>\n      <td>...</td>\n    </tr>\n    <tr>\n      <th rowspan=\"5\" valign=\"top\">ZunhebotoNL</th>\n      <th rowspan=\"5\" valign=\"top\">Zunheboto</th>\n      <th rowspan=\"5\" valign=\"top\">NL</th>\n      <th>95. Elevated blood pressure (Systolic ≥140 mm of Hg and/or Diastolic ≥90 mm of Hg) or taking medicine to control blood pressure(%)(SCW(Age 30-49))</th>\n      <td>na</td>\n      <td>41.2</td>\n    </tr>\n    <tr>\n      <th>95. Mildly elevated blood pressure (Systolic 140-159 mm of Hg and/or Diastolic 90-99 mm of Hg) (%)(SCW(Age 30-49))</th>\n      <td>na</td>\n      <td>29.2</td>\n    </tr>\n    <tr>\n      <th>96. Moderately or severely elevated blood pressure (Systolic ≥160mm of Hg and/or Diastolic ≥100mm of Hg) (%)(SCW(Age 30-49))</th>\n      <td>3.1</td>\n      <td>11.8</td>\n    </tr>\n    <tr>\n      <th>98.Ever undergone a screening test for cervical cancer (%)(TUACA(Age&gt;=150))</th>\n      <td>14.3</td>\n      <td>0.2</td>\n    </tr>\n    <tr>\n      <th>99.Ever undergone a breast examination for breast cancer (%)(TUACA(Age&gt;=150))</th>\n      <td>2</td>\n      <td>0.4</td>\n    </tr>\n  </tbody>\n</table>\n<p>33384 rows × 2 columns</p>\n</div>"
     },
     "metadata": {},
     "execution_count": 49
    }
   ],
   "source": [
    "temp1=new1.unstack(2)\n",
    "temp1"
   ]
  },
  {
   "cell_type": "code",
   "execution_count": null,
   "metadata": {},
   "outputs": [],
   "source": [
    "temp"
   ]
  },
  {
   "cell_type": "code",
   "execution_count": 82,
   "metadata": {},
   "outputs": [],
   "source": [
    "temp1.to_csv('transpose_.csv')"
   ]
  },
  {
   "cell_type": "code",
   "execution_count": 53,
   "metadata": {},
   "outputs": [
    {
     "output_type": "execute_result",
     "data": {
      "text/plain": [
       "         District states                                           variable  \\\n",
       "0      Ahmednagar     MH  1. Female population age 6 years and above who...   \n",
       "1      Ahmednagar     MH  10. Households using clean fuel for cooking3 (...   \n",
       "2      Ahmednagar     MH  100. Ever undergone an oral cavity examination...   \n",
       "3      Ahmednagar     MH  101. Women age 15 years and above who use any ...   \n",
       "4      Ahmednagar     MH  102. Men age 15 years and above who use any ki...   \n",
       "...           ...    ...                                                ...   \n",
       "33379   Zunheboto     NL  95. Elevated blood pressure (Systolic ≥140 mm ...   \n",
       "33380   Zunheboto     NL  95. Mildly elevated blood pressure (Systolic 1...   \n",
       "33381   Zunheboto     NL  96. Moderately or severely elevated blood pres...   \n",
       "33382   Zunheboto     NL  98.Ever undergone a screening test for cervica...   \n",
       "33383   Zunheboto     NL  99.Ever undergone a breast examination for bre...   \n",
       "\n",
       "       2016  2020  \n",
       "0      75.4  77.4  \n",
       "1      57.8  77.4  \n",
       "2      14.4   0.2  \n",
       "3       NaN  14.7  \n",
       "4       NaN  37.7  \n",
       "...     ...   ...  \n",
       "33379   NaN  41.2  \n",
       "33380   NaN  29.2  \n",
       "33381   3.1  11.8  \n",
       "33382  14.3   0.2  \n",
       "33383   2.0   0.4  \n",
       "\n",
       "[33384 rows x 5 columns]"
      ],
      "text/html": "<div>\n<style scoped>\n    .dataframe tbody tr th:only-of-type {\n        vertical-align: middle;\n    }\n\n    .dataframe tbody tr th {\n        vertical-align: top;\n    }\n\n    .dataframe thead th {\n        text-align: right;\n    }\n</style>\n<table border=\"1\" class=\"dataframe\">\n  <thead>\n    <tr style=\"text-align: right;\">\n      <th></th>\n      <th>District</th>\n      <th>states</th>\n      <th>variable</th>\n      <th>2016</th>\n      <th>2020</th>\n    </tr>\n  </thead>\n  <tbody>\n    <tr>\n      <th>0</th>\n      <td>Ahmednagar</td>\n      <td>MH</td>\n      <td>1. Female population age 6 years and above who...</td>\n      <td>75.4</td>\n      <td>77.4</td>\n    </tr>\n    <tr>\n      <th>1</th>\n      <td>Ahmednagar</td>\n      <td>MH</td>\n      <td>10. Households using clean fuel for cooking3 (...</td>\n      <td>57.8</td>\n      <td>77.4</td>\n    </tr>\n    <tr>\n      <th>2</th>\n      <td>Ahmednagar</td>\n      <td>MH</td>\n      <td>100. Ever undergone an oral cavity examination...</td>\n      <td>14.4</td>\n      <td>0.2</td>\n    </tr>\n    <tr>\n      <th>3</th>\n      <td>Ahmednagar</td>\n      <td>MH</td>\n      <td>101. Women age 15 years and above who use any ...</td>\n      <td>NaN</td>\n      <td>14.7</td>\n    </tr>\n    <tr>\n      <th>4</th>\n      <td>Ahmednagar</td>\n      <td>MH</td>\n      <td>102. Men age 15 years and above who use any ki...</td>\n      <td>NaN</td>\n      <td>37.7</td>\n    </tr>\n    <tr>\n      <th>...</th>\n      <td>...</td>\n      <td>...</td>\n      <td>...</td>\n      <td>...</td>\n      <td>...</td>\n    </tr>\n    <tr>\n      <th>33379</th>\n      <td>Zunheboto</td>\n      <td>NL</td>\n      <td>95. Elevated blood pressure (Systolic ≥140 mm ...</td>\n      <td>NaN</td>\n      <td>41.2</td>\n    </tr>\n    <tr>\n      <th>33380</th>\n      <td>Zunheboto</td>\n      <td>NL</td>\n      <td>95. Mildly elevated blood pressure (Systolic 1...</td>\n      <td>NaN</td>\n      <td>29.2</td>\n    </tr>\n    <tr>\n      <th>33381</th>\n      <td>Zunheboto</td>\n      <td>NL</td>\n      <td>96. Moderately or severely elevated blood pres...</td>\n      <td>3.1</td>\n      <td>11.8</td>\n    </tr>\n    <tr>\n      <th>33382</th>\n      <td>Zunheboto</td>\n      <td>NL</td>\n      <td>98.Ever undergone a screening test for cervica...</td>\n      <td>14.3</td>\n      <td>0.2</td>\n    </tr>\n    <tr>\n      <th>33383</th>\n      <td>Zunheboto</td>\n      <td>NL</td>\n      <td>99.Ever undergone a breast examination for bre...</td>\n      <td>2.0</td>\n      <td>0.4</td>\n    </tr>\n  </tbody>\n</table>\n<p>33384 rows × 5 columns</p>\n</div>"
     },
     "metadata": {},
     "execution_count": 53
    }
   ],
   "source": [
    "temp1"
   ]
  },
  {
   "cell_type": "code",
   "execution_count": 52,
   "metadata": {},
   "outputs": [],
   "source": [
    "temp1=pd.read_csv('transpose_nfhs_final.csv')"
   ]
  },
  {
   "cell_type": "code",
   "execution_count": 586,
   "metadata": {},
   "outputs": [
    {
     "output_type": "execute_result",
     "data": {
      "text/plain": [
       "         District                                           variable states  \\\n",
       "0      Ahmednagar  1. Female population age 6 years and above who...     MH   \n",
       "1      Ahmednagar  1. Female population age 6 years and above who...     MH   \n",
       "2          Aizawl  1. Female population age 6 years and above who...     MZ   \n",
       "3          Aizawl  1. Female population age 6 years and above who...     MZ   \n",
       "4           Akola  1. Female population age 6 years and above who...     MH   \n",
       "...           ...                                                ...    ...   \n",
       "60523      Yadgir  104. Men age 15 years and above who consume al...     KA   \n",
       "60524    Yavatmal  104. Men age 15 years and above who consume al...     MH   \n",
       "60525    Yavatmal  104. Men age 15 years and above who consume al...     MH   \n",
       "60526   Zunheboto  104. Men age 15 years and above who consume al...     NL   \n",
       "60527   Zunheboto  104. Men age 15 years and above who consume al...     NL   \n",
       "\n",
       "       2020                                                UID  \n",
       "0       NaN  AhmednagarMH1. Female population age 6 years a...  \n",
       "1      77.4  AhmednagarMH1. Female population age 6 years a...  \n",
       "2       NaN  AizawlMZ1. Female population age 6 years and a...  \n",
       "3      97.8  AizawlMZ1. Female population age 6 years and a...  \n",
       "4       NaN  AkolaMH1. Female population age 6 years and ab...  \n",
       "...     ...                                                ...  \n",
       "60523  19.4  YadgirKA104. Men age 15 years and above who co...  \n",
       "60524   NaN  YavatmalMH104. Men age 15 years and above who ...  \n",
       "60525  19.4  YavatmalMH104. Men age 15 years and above who ...  \n",
       "60526   NaN  ZunhebotoNL104. Men age 15 years and above who...  \n",
       "60527  21.3  ZunhebotoNL104. Men age 15 years and above who...  \n",
       "\n",
       "[59697 rows x 5 columns]"
      ],
      "text/html": "<div>\n<style scoped>\n    .dataframe tbody tr th:only-of-type {\n        vertical-align: middle;\n    }\n\n    .dataframe tbody tr th {\n        vertical-align: top;\n    }\n\n    .dataframe thead th {\n        text-align: right;\n    }\n</style>\n<table border=\"1\" class=\"dataframe\">\n  <thead>\n    <tr style=\"text-align: right;\">\n      <th></th>\n      <th>District</th>\n      <th>variable</th>\n      <th>states</th>\n      <th>2020</th>\n      <th>UID</th>\n    </tr>\n  </thead>\n  <tbody>\n    <tr>\n      <th>0</th>\n      <td>Ahmednagar</td>\n      <td>1. Female population age 6 years and above who...</td>\n      <td>MH</td>\n      <td>NaN</td>\n      <td>AhmednagarMH1. Female population age 6 years a...</td>\n    </tr>\n    <tr>\n      <th>1</th>\n      <td>Ahmednagar</td>\n      <td>1. Female population age 6 years and above who...</td>\n      <td>MH</td>\n      <td>77.4</td>\n      <td>AhmednagarMH1. Female population age 6 years a...</td>\n    </tr>\n    <tr>\n      <th>2</th>\n      <td>Aizawl</td>\n      <td>1. Female population age 6 years and above who...</td>\n      <td>MZ</td>\n      <td>NaN</td>\n      <td>AizawlMZ1. Female population age 6 years and a...</td>\n    </tr>\n    <tr>\n      <th>3</th>\n      <td>Aizawl</td>\n      <td>1. Female population age 6 years and above who...</td>\n      <td>MZ</td>\n      <td>97.8</td>\n      <td>AizawlMZ1. Female population age 6 years and a...</td>\n    </tr>\n    <tr>\n      <th>4</th>\n      <td>Akola</td>\n      <td>1. Female population age 6 years and above who...</td>\n      <td>MH</td>\n      <td>NaN</td>\n      <td>AkolaMH1. Female population age 6 years and ab...</td>\n    </tr>\n    <tr>\n      <th>...</th>\n      <td>...</td>\n      <td>...</td>\n      <td>...</td>\n      <td>...</td>\n      <td>...</td>\n    </tr>\n    <tr>\n      <th>60523</th>\n      <td>Yadgir</td>\n      <td>104. Men age 15 years and above who consume al...</td>\n      <td>KA</td>\n      <td>19.4</td>\n      <td>YadgirKA104. Men age 15 years and above who co...</td>\n    </tr>\n    <tr>\n      <th>60524</th>\n      <td>Yavatmal</td>\n      <td>104. Men age 15 years and above who consume al...</td>\n      <td>MH</td>\n      <td>NaN</td>\n      <td>YavatmalMH104. Men age 15 years and above who ...</td>\n    </tr>\n    <tr>\n      <th>60525</th>\n      <td>Yavatmal</td>\n      <td>104. Men age 15 years and above who consume al...</td>\n      <td>MH</td>\n      <td>19.4</td>\n      <td>YavatmalMH104. Men age 15 years and above who ...</td>\n    </tr>\n    <tr>\n      <th>60526</th>\n      <td>Zunheboto</td>\n      <td>104. Men age 15 years and above who consume al...</td>\n      <td>NL</td>\n      <td>NaN</td>\n      <td>ZunhebotoNL104. Men age 15 years and above who...</td>\n    </tr>\n    <tr>\n      <th>60527</th>\n      <td>Zunheboto</td>\n      <td>104. Men age 15 years and above who consume al...</td>\n      <td>NL</td>\n      <td>21.3</td>\n      <td>ZunhebotoNL104. Men age 15 years and above who...</td>\n    </tr>\n  </tbody>\n</table>\n<p>59697 rows × 5 columns</p>\n</div>"
     },
     "metadata": {},
     "execution_count": 586
    }
   ],
   "source": [
    "temp2020=temp1[['District','variable','states','2020']]\n",
    "temp2020['UID']=temp2020['District']+temp2020['states']+temp2020['variable']\n",
    "temp2020.drop_duplicates()"
   ]
  },
  {
   "cell_type": "code",
   "execution_count": 587,
   "metadata": {},
   "outputs": [],
   "source": [
    "temp2020=temp2020.dropna()"
   ]
  },
  {
   "cell_type": "code",
   "execution_count": 560,
   "metadata": {},
   "outputs": [],
   "source": []
  },
  {
   "cell_type": "code",
   "execution_count": 588,
   "metadata": {},
   "outputs": [
    {
     "output_type": "execute_result",
     "data": {
      "text/plain": [
       "         District                                           variable states  \\\n",
       "0      Ahmednagar  1. Female population age 6 years and above who...     MH   \n",
       "1          Aizawl  1. Female population age 6 years and above who...     MZ   \n",
       "2           Akola  1. Female population age 6 years and above who...     MH   \n",
       "3       Alappuzha  1. Female population age 6 years and above who...     KL   \n",
       "4        Amravati  1. Female population age 6 years and above who...     MH   \n",
       "...           ...                                                ...    ...   \n",
       "26099       Wokha  104. Men age 15 years and above who consume al...     NL   \n",
       "26100      Y.S.R.  104. Men age 15 years and above who consume al...     AP   \n",
       "26101      Yadgir  104. Men age 15 years and above who consume al...     KA   \n",
       "26102    Yavatmal  104. Men age 15 years and above who consume al...     MH   \n",
       "26103   Zunheboto  104. Men age 15 years and above who consume al...     NL   \n",
       "\n",
       "       2020                                                UID  2016  \n",
       "0      77.4  AhmednagarMH1. Female population age 6 years a...  75.4  \n",
       "1      97.8  AizawlMZ1. Female population age 6 years and a...  95.9  \n",
       "2      97.8  AkolaMH1. Female population age 6 years and ab...    83  \n",
       "3      97.8  AlappuzhaKL1. Female population age 6 years an...  96.9  \n",
       "4      97.8  AmravatiMH1. Female population age 6 years and...  78.3  \n",
       "...     ...                                                ...   ...  \n",
       "26099  27.2  WokhaNL104. Men age 15 years and above who con...    na  \n",
       "26100  27.2  Y.S.R.AP104. Men age 15 years and above who co...    na  \n",
       "26101  19.4  YadgirKA104. Men age 15 years and above who co...    na  \n",
       "26102  19.4  YavatmalMH104. Men age 15 years and above who ...    na  \n",
       "26103  21.3  ZunhebotoNL104. Men age 15 years and above who...    na  \n",
       "\n",
       "[26104 rows x 6 columns]"
      ],
      "text/html": "<div>\n<style scoped>\n    .dataframe tbody tr th:only-of-type {\n        vertical-align: middle;\n    }\n\n    .dataframe tbody tr th {\n        vertical-align: top;\n    }\n\n    .dataframe thead th {\n        text-align: right;\n    }\n</style>\n<table border=\"1\" class=\"dataframe\">\n  <thead>\n    <tr style=\"text-align: right;\">\n      <th></th>\n      <th>District</th>\n      <th>variable</th>\n      <th>states</th>\n      <th>2020</th>\n      <th>UID</th>\n      <th>2016</th>\n    </tr>\n  </thead>\n  <tbody>\n    <tr>\n      <th>0</th>\n      <td>Ahmednagar</td>\n      <td>1. Female population age 6 years and above who...</td>\n      <td>MH</td>\n      <td>77.4</td>\n      <td>AhmednagarMH1. Female population age 6 years a...</td>\n      <td>75.4</td>\n    </tr>\n    <tr>\n      <th>1</th>\n      <td>Aizawl</td>\n      <td>1. Female population age 6 years and above who...</td>\n      <td>MZ</td>\n      <td>97.8</td>\n      <td>AizawlMZ1. Female population age 6 years and a...</td>\n      <td>95.9</td>\n    </tr>\n    <tr>\n      <th>2</th>\n      <td>Akola</td>\n      <td>1. Female population age 6 years and above who...</td>\n      <td>MH</td>\n      <td>97.8</td>\n      <td>AkolaMH1. Female population age 6 years and ab...</td>\n      <td>83</td>\n    </tr>\n    <tr>\n      <th>3</th>\n      <td>Alappuzha</td>\n      <td>1. Female population age 6 years and above who...</td>\n      <td>KL</td>\n      <td>97.8</td>\n      <td>AlappuzhaKL1. Female population age 6 years an...</td>\n      <td>96.9</td>\n    </tr>\n    <tr>\n      <th>4</th>\n      <td>Amravati</td>\n      <td>1. Female population age 6 years and above who...</td>\n      <td>MH</td>\n      <td>97.8</td>\n      <td>AmravatiMH1. Female population age 6 years and...</td>\n      <td>78.3</td>\n    </tr>\n    <tr>\n      <th>...</th>\n      <td>...</td>\n      <td>...</td>\n      <td>...</td>\n      <td>...</td>\n      <td>...</td>\n      <td>...</td>\n    </tr>\n    <tr>\n      <th>26099</th>\n      <td>Wokha</td>\n      <td>104. Men age 15 years and above who consume al...</td>\n      <td>NL</td>\n      <td>27.2</td>\n      <td>WokhaNL104. Men age 15 years and above who con...</td>\n      <td>na</td>\n    </tr>\n    <tr>\n      <th>26100</th>\n      <td>Y.S.R.</td>\n      <td>104. Men age 15 years and above who consume al...</td>\n      <td>AP</td>\n      <td>27.2</td>\n      <td>Y.S.R.AP104. Men age 15 years and above who co...</td>\n      <td>na</td>\n    </tr>\n    <tr>\n      <th>26101</th>\n      <td>Yadgir</td>\n      <td>104. Men age 15 years and above who consume al...</td>\n      <td>KA</td>\n      <td>19.4</td>\n      <td>YadgirKA104. Men age 15 years and above who co...</td>\n      <td>na</td>\n    </tr>\n    <tr>\n      <th>26102</th>\n      <td>Yavatmal</td>\n      <td>104. Men age 15 years and above who consume al...</td>\n      <td>MH</td>\n      <td>19.4</td>\n      <td>YavatmalMH104. Men age 15 years and above who ...</td>\n      <td>na</td>\n    </tr>\n    <tr>\n      <th>26103</th>\n      <td>Zunheboto</td>\n      <td>104. Men age 15 years and above who consume al...</td>\n      <td>NL</td>\n      <td>21.3</td>\n      <td>ZunhebotoNL104. Men age 15 years and above who...</td>\n      <td>na</td>\n    </tr>\n  </tbody>\n</table>\n<p>26104 rows × 6 columns</p>\n</div>"
     },
     "metadata": {},
     "execution_count": 588
    }
   ],
   "source": [
    "temp2016=temp1[['District','variable','states','2016']]\n",
    "temp2016['UID']=temp2016['District']+temp2016['states']+temp2016['variable']\n",
    "temp2016=temp2016.dropna()\n",
    "final=temp2020.merge(temp2016[['UID','2016']],on=['UID'],how='inner')\n",
    "final"
   ]
  },
  {
   "cell_type": "code",
   "execution_count": 589,
   "metadata": {},
   "outputs": [
    {
     "output_type": "execute_result",
     "data": {
      "text/plain": [
       "Aurangabad                    416\n",
       "Nalanda                       208\n",
       "Raigarh                       208\n",
       "Hamirpur                      208\n",
       "Bilaspur                      208\n",
       "                             ... \n",
       "Ganderbal                     104\n",
       "Raichur                       104\n",
       "Reasi                         104\n",
       "Thane                         104\n",
       "South Twenty Four Parganas    104\n",
       "Name: District, Length: 243, dtype: int64"
      ]
     },
     "metadata": {},
     "execution_count": 589
    }
   ],
   "source": [
    "final.District.value_counts()"
   ]
  },
  {
   "cell_type": "code",
   "execution_count": 580,
   "metadata": {},
   "outputs": [],
   "source": [
    "final1=final.dropna(subset=['2020'])"
   ]
  },
  {
   "cell_type": "code",
   "execution_count": 590,
   "metadata": {},
   "outputs": [],
   "source": [
    "final1=final.drop_duplicates(['UID'])"
   ]
  },
  {
   "cell_type": "code",
   "execution_count": 591,
   "metadata": {},
   "outputs": [
    {
     "output_type": "execute_result",
     "data": {
      "text/plain": [
       "Nagpur                         104\n",
       "Gaya                           104\n",
       "Koppal                         104\n",
       "Sri Potti Sriramulu Nellore    104\n",
       "Pathanamthitta                 104\n",
       "                              ... \n",
       "Uttar Dinajpur                 104\n",
       "Ganderbal                      104\n",
       "Raichur                        104\n",
       "Reasi                          104\n",
       "South Twenty Four Parganas     104\n",
       "Name: District, Length: 243, dtype: int64"
      ]
     },
     "metadata": {},
     "execution_count": 591
    }
   ],
   "source": [
    "final1.District.value_counts()"
   ]
  },
  {
   "cell_type": "code",
   "execution_count": 584,
   "metadata": {},
   "outputs": [
    {
     "output_type": "execute_result",
     "data": {
      "text/plain": [
       "                 District                                           variable  \\\n",
       "0              Ahmednagar  1. Female population age 6 years and above who...   \n",
       "2                  Aizawl  1. Female population age 6 years and above who...   \n",
       "4                   Akola  1. Female population age 6 years and above who...   \n",
       "6               Alappuzha  1. Female population age 6 years and above who...   \n",
       "8                Amravati  1. Female population age 6 years and above who...   \n",
       "...                   ...                                                ...   \n",
       "62183              Y.S.R.  104. Men age 15 years and above who consume al...   \n",
       "62185  YadadriBhuvanagiri  104. Men age 15 years and above who consume al...   \n",
       "62186              Yadgir  104. Men age 15 years and above who consume al...   \n",
       "62188            Yavatmal  104. Men age 15 years and above who consume al...   \n",
       "62190           Zunheboto  104. Men age 15 years and above who consume al...   \n",
       "\n",
       "      states  2020                                                UID  2016  \n",
       "0         MH   NaN  AhmednagarMH1. Female population age 6 years a...  75.4  \n",
       "2         MZ   NaN  AizawlMZ1. Female population age 6 years and a...  95.9  \n",
       "4         MH   NaN  AkolaMH1. Female population age 6 years and ab...    83  \n",
       "6         KL   NaN  AlappuzhaKL1. Female population age 6 years an...  96.9  \n",
       "8         MH   NaN  AmravatiMH1. Female population age 6 years and...  78.3  \n",
       "...      ...   ...                                                ...   ...  \n",
       "62183     AP   NaN  Y.S.R.AP104. Men age 15 years and above who co...    na  \n",
       "62185     TS  27.2  YadadriBhuvanagiriTS104. Men age 15 years and ...   NaN  \n",
       "62186     KA   NaN  YadgirKA104. Men age 15 years and above who co...    na  \n",
       "62188     MH   NaN  YavatmalMH104. Men age 15 years and above who ...    na  \n",
       "62190     NL   NaN  ZunhebotoNL104. Men age 15 years and above who...    na  \n",
       "\n",
       "[34424 rows x 6 columns]"
      ],
      "text/html": "<div>\n<style scoped>\n    .dataframe tbody tr th:only-of-type {\n        vertical-align: middle;\n    }\n\n    .dataframe tbody tr th {\n        vertical-align: top;\n    }\n\n    .dataframe thead th {\n        text-align: right;\n    }\n</style>\n<table border=\"1\" class=\"dataframe\">\n  <thead>\n    <tr style=\"text-align: right;\">\n      <th></th>\n      <th>District</th>\n      <th>variable</th>\n      <th>states</th>\n      <th>2020</th>\n      <th>UID</th>\n      <th>2016</th>\n    </tr>\n  </thead>\n  <tbody>\n    <tr>\n      <th>0</th>\n      <td>Ahmednagar</td>\n      <td>1. Female population age 6 years and above who...</td>\n      <td>MH</td>\n      <td>NaN</td>\n      <td>AhmednagarMH1. Female population age 6 years a...</td>\n      <td>75.4</td>\n    </tr>\n    <tr>\n      <th>2</th>\n      <td>Aizawl</td>\n      <td>1. Female population age 6 years and above who...</td>\n      <td>MZ</td>\n      <td>NaN</td>\n      <td>AizawlMZ1. Female population age 6 years and a...</td>\n      <td>95.9</td>\n    </tr>\n    <tr>\n      <th>4</th>\n      <td>Akola</td>\n      <td>1. Female population age 6 years and above who...</td>\n      <td>MH</td>\n      <td>NaN</td>\n      <td>AkolaMH1. Female population age 6 years and ab...</td>\n      <td>83</td>\n    </tr>\n    <tr>\n      <th>6</th>\n      <td>Alappuzha</td>\n      <td>1. Female population age 6 years and above who...</td>\n      <td>KL</td>\n      <td>NaN</td>\n      <td>AlappuzhaKL1. Female population age 6 years an...</td>\n      <td>96.9</td>\n    </tr>\n    <tr>\n      <th>8</th>\n      <td>Amravati</td>\n      <td>1. Female population age 6 years and above who...</td>\n      <td>MH</td>\n      <td>NaN</td>\n      <td>AmravatiMH1. Female population age 6 years and...</td>\n      <td>78.3</td>\n    </tr>\n    <tr>\n      <th>...</th>\n      <td>...</td>\n      <td>...</td>\n      <td>...</td>\n      <td>...</td>\n      <td>...</td>\n      <td>...</td>\n    </tr>\n    <tr>\n      <th>62183</th>\n      <td>Y.S.R.</td>\n      <td>104. Men age 15 years and above who consume al...</td>\n      <td>AP</td>\n      <td>NaN</td>\n      <td>Y.S.R.AP104. Men age 15 years and above who co...</td>\n      <td>na</td>\n    </tr>\n    <tr>\n      <th>62185</th>\n      <td>YadadriBhuvanagiri</td>\n      <td>104. Men age 15 years and above who consume al...</td>\n      <td>TS</td>\n      <td>27.2</td>\n      <td>YadadriBhuvanagiriTS104. Men age 15 years and ...</td>\n      <td>NaN</td>\n    </tr>\n    <tr>\n      <th>62186</th>\n      <td>Yadgir</td>\n      <td>104. Men age 15 years and above who consume al...</td>\n      <td>KA</td>\n      <td>NaN</td>\n      <td>YadgirKA104. Men age 15 years and above who co...</td>\n      <td>na</td>\n    </tr>\n    <tr>\n      <th>62188</th>\n      <td>Yavatmal</td>\n      <td>104. Men age 15 years and above who consume al...</td>\n      <td>MH</td>\n      <td>NaN</td>\n      <td>YavatmalMH104. Men age 15 years and above who ...</td>\n      <td>na</td>\n    </tr>\n    <tr>\n      <th>62190</th>\n      <td>Zunheboto</td>\n      <td>104. Men age 15 years and above who consume al...</td>\n      <td>NL</td>\n      <td>NaN</td>\n      <td>ZunhebotoNL104. Men age 15 years and above who...</td>\n      <td>na</td>\n    </tr>\n  </tbody>\n</table>\n<p>34424 rows × 6 columns</p>\n</div>"
     },
     "metadata": {},
     "execution_count": 584
    }
   ],
   "source": [
    "final1"
   ]
  },
  {
   "cell_type": "code",
   "execution_count": 571,
   "metadata": {},
   "outputs": [],
   "source": [
    "#final1.to_csv('transpose_data_correct.csv')"
   ]
  },
  {
   "cell_type": "code",
   "execution_count": 83,
   "metadata": {},
   "outputs": [
    {
     "output_type": "execute_result",
     "data": {
      "text/plain": [
       "         District states                                           variable  \\\n",
       "0      Ahmednagar     MH  1. Female population age 6 years and above who...   \n",
       "1      Ahmednagar     MH  10. Households using clean fuel for cooking3 (...   \n",
       "2      Ahmednagar     MH  100. Ever undergone an oral cavity examination...   \n",
       "3      Ahmednagar     MH  101. Women age 15 years and above who use any ...   \n",
       "4      Ahmednagar     MH  102. Men age 15 years and above who use any ki...   \n",
       "...           ...    ...                                                ...   \n",
       "33379   Zunheboto     NL  95. Elevated blood pressure (Systolic ≥140 mm ...   \n",
       "33380   Zunheboto     NL  95. Mildly elevated blood pressure (Systolic 1...   \n",
       "33381   Zunheboto     NL  96. Moderately or severely elevated blood pres...   \n",
       "33382   Zunheboto     NL  98.Ever undergone a screening test for cervica...   \n",
       "33383   Zunheboto     NL  99.Ever undergone a breast examination for bre...   \n",
       "\n",
       "       2016  2020  \n",
       "0      75.4  77.4  \n",
       "1      57.8  77.4  \n",
       "2      14.4   0.2  \n",
       "3       NaN  14.7  \n",
       "4       NaN  37.7  \n",
       "...     ...   ...  \n",
       "33379   NaN  41.2  \n",
       "33380   NaN  29.2  \n",
       "33381   3.1  11.8  \n",
       "33382  14.3   0.2  \n",
       "33383   2.0   0.4  \n",
       "\n",
       "[33384 rows x 5 columns]"
      ],
      "text/html": "<div>\n<style scoped>\n    .dataframe tbody tr th:only-of-type {\n        vertical-align: middle;\n    }\n\n    .dataframe tbody tr th {\n        vertical-align: top;\n    }\n\n    .dataframe thead th {\n        text-align: right;\n    }\n</style>\n<table border=\"1\" class=\"dataframe\">\n  <thead>\n    <tr style=\"text-align: right;\">\n      <th></th>\n      <th>District</th>\n      <th>states</th>\n      <th>variable</th>\n      <th>2016</th>\n      <th>2020</th>\n    </tr>\n  </thead>\n  <tbody>\n    <tr>\n      <th>0</th>\n      <td>Ahmednagar</td>\n      <td>MH</td>\n      <td>1. Female population age 6 years and above who...</td>\n      <td>75.4</td>\n      <td>77.4</td>\n    </tr>\n    <tr>\n      <th>1</th>\n      <td>Ahmednagar</td>\n      <td>MH</td>\n      <td>10. Households using clean fuel for cooking3 (...</td>\n      <td>57.8</td>\n      <td>77.4</td>\n    </tr>\n    <tr>\n      <th>2</th>\n      <td>Ahmednagar</td>\n      <td>MH</td>\n      <td>100. Ever undergone an oral cavity examination...</td>\n      <td>14.4</td>\n      <td>0.2</td>\n    </tr>\n    <tr>\n      <th>3</th>\n      <td>Ahmednagar</td>\n      <td>MH</td>\n      <td>101. Women age 15 years and above who use any ...</td>\n      <td>NaN</td>\n      <td>14.7</td>\n    </tr>\n    <tr>\n      <th>4</th>\n      <td>Ahmednagar</td>\n      <td>MH</td>\n      <td>102. Men age 15 years and above who use any ki...</td>\n      <td>NaN</td>\n      <td>37.7</td>\n    </tr>\n    <tr>\n      <th>...</th>\n      <td>...</td>\n      <td>...</td>\n      <td>...</td>\n      <td>...</td>\n      <td>...</td>\n    </tr>\n    <tr>\n      <th>33379</th>\n      <td>Zunheboto</td>\n      <td>NL</td>\n      <td>95. Elevated blood pressure (Systolic ≥140 mm ...</td>\n      <td>NaN</td>\n      <td>41.2</td>\n    </tr>\n    <tr>\n      <th>33380</th>\n      <td>Zunheboto</td>\n      <td>NL</td>\n      <td>95. Mildly elevated blood pressure (Systolic 1...</td>\n      <td>NaN</td>\n      <td>29.2</td>\n    </tr>\n    <tr>\n      <th>33381</th>\n      <td>Zunheboto</td>\n      <td>NL</td>\n      <td>96. Moderately or severely elevated blood pres...</td>\n      <td>3.1</td>\n      <td>11.8</td>\n    </tr>\n    <tr>\n      <th>33382</th>\n      <td>Zunheboto</td>\n      <td>NL</td>\n      <td>98.Ever undergone a screening test for cervica...</td>\n      <td>14.3</td>\n      <td>0.2</td>\n    </tr>\n    <tr>\n      <th>33383</th>\n      <td>Zunheboto</td>\n      <td>NL</td>\n      <td>99.Ever undergone a breast examination for bre...</td>\n      <td>2.0</td>\n      <td>0.4</td>\n    </tr>\n  </tbody>\n</table>\n<p>33384 rows × 5 columns</p>\n</div>"
     },
     "metadata": {},
     "execution_count": 83
    }
   ],
   "source": [
    "#new=new.reset_index()\n",
    "temp1=pd.read_csv('transpose_nfhs_Final.csv')\n",
    "temp1.drop_duplicates()"
   ]
  },
  {
   "cell_type": "code",
   "execution_count": 84,
   "metadata": {},
   "outputs": [
    {
     "output_type": "execute_result",
     "data": {
      "text/plain": [
       "Raigarh       208\n",
       "Bijapur       208\n",
       "Aurangabad    208\n",
       "Bilaspur      208\n",
       "Hamirpur      208\n",
       "             ... \n",
       "Akola         104\n",
       "Chittoor      104\n",
       "Mandya        104\n",
       "Gadchiroli    104\n",
       "The Dangs     104\n",
       "Name: District, Length: 316, dtype: int64"
      ]
     },
     "metadata": {},
     "execution_count": 84
    }
   ],
   "source": [
    "temp1.District.value_counts()"
   ]
  },
  {
   "cell_type": "code",
   "execution_count": 331,
   "metadata": {},
   "outputs": [],
   "source": [
    "df=pd.read_csv('transpose_data_correct2.csv')"
   ]
  },
  {
   "cell_type": "code",
   "execution_count": 442,
   "metadata": {},
   "outputs": [
    {
     "output_type": "execute_result",
     "data": {
      "text/plain": [
       "Raigarh       208\n",
       "Aurangabad    208\n",
       "Bilaspur      208\n",
       "Hamirpur      208\n",
       "Bijapur       208\n",
       "             ... \n",
       "Ribhoi        104\n",
       "Sirmaur       104\n",
       "Satara        104\n",
       "Thoubal       104\n",
       "Akola         104\n",
       "Name: District, Length: 318, dtype: int64"
      ]
     },
     "metadata": {},
     "execution_count": 442
    }
   ],
   "source": [
    "temp1.District.value_counts()"
   ]
  },
  {
   "cell_type": "code",
   "execution_count": 330,
   "metadata": {},
   "outputs": [
    {
     "output_type": "execute_result",
     "data": {
      "text/plain": [
       "33072"
      ]
     },
     "metadata": {},
     "execution_count": 330
    }
   ],
   "source": [
    "318*104\n"
   ]
  },
  {
   "cell_type": "code",
   "execution_count": 529,
   "metadata": {},
   "outputs": [
    {
     "output_type": "execute_result",
     "data": {
      "text/plain": [
       "       Unnamed: 0            District  \\\n",
       "0               0          Ahmednagar   \n",
       "2               2              Aizawl   \n",
       "4               4               Akola   \n",
       "6               6           Alappuzha   \n",
       "8               8            Amravati   \n",
       "...           ...                 ...   \n",
       "60519       60519              Y.S.R.   \n",
       "60521       60521  YadadriBhuvanagiri   \n",
       "60522       60522              Yadgir   \n",
       "60524       60524            Yavatmal   \n",
       "60526       60526           Zunheboto   \n",
       "\n",
       "                                                variable states  2016  2020  \\\n",
       "0      1. Female population age 6 years and above who...     MH  75.4  77.4   \n",
       "2      1. Female population age 6 years and above who...     MZ  95.9  97.8   \n",
       "4      1. Female population age 6 years and above who...     MH    83  97.8   \n",
       "6      1. Female population age 6 years and above who...     KL  96.9  97.8   \n",
       "8      1. Female population age 6 years and above who...     MH  78.3  97.8   \n",
       "...                                                  ...    ...   ...   ...   \n",
       "60519  104. Men age 15 years and above who consume al...     AP    na  27.2   \n",
       "60521  104. Men age 15 years and above who consume al...     TS   NaN  27.2   \n",
       "60522  104. Men age 15 years and above who consume al...     KA    na  19.4   \n",
       "60524  104. Men age 15 years and above who consume al...     MH    na  19.4   \n",
       "60526  104. Men age 15 years and above who consume al...     NL    na  21.3   \n",
       "\n",
       "                                                     UID  \n",
       "0      Ahmednagar1. Female population age 6 years and...  \n",
       "2      Aizawl1. Female population age 6 years and abo...  \n",
       "4      Akola1. Female population age 6 years and abov...  \n",
       "6      Alappuzha1. Female population age 6 years and ...  \n",
       "8      Amravati1. Female population age 6 years and a...  \n",
       "...                                                  ...  \n",
       "60519  Y.S.R.104. Men age 15 years and above who cons...  \n",
       "60521  YadadriBhuvanagiri104. Men age 15 years and ab...  \n",
       "60522  Yadgir104. Men age 15 years and above who cons...  \n",
       "60524  Yavatmal104. Men age 15 years and above who co...  \n",
       "60526  Zunheboto104. Men age 15 years and above who c...  \n",
       "\n",
       "[34424 rows x 7 columns]"
      ],
      "text/html": "<div>\n<style scoped>\n    .dataframe tbody tr th:only-of-type {\n        vertical-align: middle;\n    }\n\n    .dataframe tbody tr th {\n        vertical-align: top;\n    }\n\n    .dataframe thead th {\n        text-align: right;\n    }\n</style>\n<table border=\"1\" class=\"dataframe\">\n  <thead>\n    <tr style=\"text-align: right;\">\n      <th></th>\n      <th>Unnamed: 0</th>\n      <th>District</th>\n      <th>variable</th>\n      <th>states</th>\n      <th>2016</th>\n      <th>2020</th>\n      <th>UID</th>\n    </tr>\n  </thead>\n  <tbody>\n    <tr>\n      <th>0</th>\n      <td>0</td>\n      <td>Ahmednagar</td>\n      <td>1. Female population age 6 years and above who...</td>\n      <td>MH</td>\n      <td>75.4</td>\n      <td>77.4</td>\n      <td>Ahmednagar1. Female population age 6 years and...</td>\n    </tr>\n    <tr>\n      <th>2</th>\n      <td>2</td>\n      <td>Aizawl</td>\n      <td>1. Female population age 6 years and above who...</td>\n      <td>MZ</td>\n      <td>95.9</td>\n      <td>97.8</td>\n      <td>Aizawl1. Female population age 6 years and abo...</td>\n    </tr>\n    <tr>\n      <th>4</th>\n      <td>4</td>\n      <td>Akola</td>\n      <td>1. Female population age 6 years and above who...</td>\n      <td>MH</td>\n      <td>83</td>\n      <td>97.8</td>\n      <td>Akola1. Female population age 6 years and abov...</td>\n    </tr>\n    <tr>\n      <th>6</th>\n      <td>6</td>\n      <td>Alappuzha</td>\n      <td>1. Female population age 6 years and above who...</td>\n      <td>KL</td>\n      <td>96.9</td>\n      <td>97.8</td>\n      <td>Alappuzha1. Female population age 6 years and ...</td>\n    </tr>\n    <tr>\n      <th>8</th>\n      <td>8</td>\n      <td>Amravati</td>\n      <td>1. Female population age 6 years and above who...</td>\n      <td>MH</td>\n      <td>78.3</td>\n      <td>97.8</td>\n      <td>Amravati1. Female population age 6 years and a...</td>\n    </tr>\n    <tr>\n      <th>...</th>\n      <td>...</td>\n      <td>...</td>\n      <td>...</td>\n      <td>...</td>\n      <td>...</td>\n      <td>...</td>\n      <td>...</td>\n    </tr>\n    <tr>\n      <th>60519</th>\n      <td>60519</td>\n      <td>Y.S.R.</td>\n      <td>104. Men age 15 years and above who consume al...</td>\n      <td>AP</td>\n      <td>na</td>\n      <td>27.2</td>\n      <td>Y.S.R.104. Men age 15 years and above who cons...</td>\n    </tr>\n    <tr>\n      <th>60521</th>\n      <td>60521</td>\n      <td>YadadriBhuvanagiri</td>\n      <td>104. Men age 15 years and above who consume al...</td>\n      <td>TS</td>\n      <td>NaN</td>\n      <td>27.2</td>\n      <td>YadadriBhuvanagiri104. Men age 15 years and ab...</td>\n    </tr>\n    <tr>\n      <th>60522</th>\n      <td>60522</td>\n      <td>Yadgir</td>\n      <td>104. Men age 15 years and above who consume al...</td>\n      <td>KA</td>\n      <td>na</td>\n      <td>19.4</td>\n      <td>Yadgir104. Men age 15 years and above who cons...</td>\n    </tr>\n    <tr>\n      <th>60524</th>\n      <td>60524</td>\n      <td>Yavatmal</td>\n      <td>104. Men age 15 years and above who consume al...</td>\n      <td>MH</td>\n      <td>na</td>\n      <td>19.4</td>\n      <td>Yavatmal104. Men age 15 years and above who co...</td>\n    </tr>\n    <tr>\n      <th>60526</th>\n      <td>60526</td>\n      <td>Zunheboto</td>\n      <td>104. Men age 15 years and above who consume al...</td>\n      <td>NL</td>\n      <td>na</td>\n      <td>21.3</td>\n      <td>Zunheboto104. Men age 15 years and above who c...</td>\n    </tr>\n  </tbody>\n</table>\n<p>34424 rows × 7 columns</p>\n</div>"
     },
     "metadata": {},
     "execution_count": 529
    }
   ],
   "source": [
    "df['UID']=df['District']+df['variable']\n",
    "df.drop_duplicates(['UID'])\n"
   ]
  },
  {
   "cell_type": "code",
   "execution_count": 530,
   "metadata": {},
   "outputs": [
    {
     "output_type": "execute_result",
     "data": {
      "text/plain": [
       "       Unnamed: 0            District  \\\n",
       "0               0          Ahmednagar   \n",
       "2               2              Aizawl   \n",
       "4               4               Akola   \n",
       "6               6           Alappuzha   \n",
       "8               8            Amravati   \n",
       "...           ...                 ...   \n",
       "60519       60519              Y.S.R.   \n",
       "60521       60521  YadadriBhuvanagiri   \n",
       "60522       60522              Yadgir   \n",
       "60524       60524            Yavatmal   \n",
       "60526       60526           Zunheboto   \n",
       "\n",
       "                                                variable states  2016  2020  \n",
       "0      1. Female population age 6 years and above who...     MH  75.4  77.4  \n",
       "2      1. Female population age 6 years and above who...     MZ  95.9  97.8  \n",
       "4      1. Female population age 6 years and above who...     MH    83  97.8  \n",
       "6      1. Female population age 6 years and above who...     KL  96.9  97.8  \n",
       "8      1. Female population age 6 years and above who...     MH  78.3  97.8  \n",
       "...                                                  ...    ...   ...   ...  \n",
       "60519  104. Men age 15 years and above who consume al...     AP    na  27.2  \n",
       "60521  104. Men age 15 years and above who consume al...     TS   NaN  27.2  \n",
       "60522  104. Men age 15 years and above who consume al...     KA    na  19.4  \n",
       "60524  104. Men age 15 years and above who consume al...     MH    na  19.4  \n",
       "60526  104. Men age 15 years and above who consume al...     NL    na  21.3  \n",
       "\n",
       "[34424 rows x 6 columns]"
      ],
      "text/html": "<div>\n<style scoped>\n    .dataframe tbody tr th:only-of-type {\n        vertical-align: middle;\n    }\n\n    .dataframe tbody tr th {\n        vertical-align: top;\n    }\n\n    .dataframe thead th {\n        text-align: right;\n    }\n</style>\n<table border=\"1\" class=\"dataframe\">\n  <thead>\n    <tr style=\"text-align: right;\">\n      <th></th>\n      <th>Unnamed: 0</th>\n      <th>District</th>\n      <th>variable</th>\n      <th>states</th>\n      <th>2016</th>\n      <th>2020</th>\n    </tr>\n  </thead>\n  <tbody>\n    <tr>\n      <th>0</th>\n      <td>0</td>\n      <td>Ahmednagar</td>\n      <td>1. Female population age 6 years and above who...</td>\n      <td>MH</td>\n      <td>75.4</td>\n      <td>77.4</td>\n    </tr>\n    <tr>\n      <th>2</th>\n      <td>2</td>\n      <td>Aizawl</td>\n      <td>1. Female population age 6 years and above who...</td>\n      <td>MZ</td>\n      <td>95.9</td>\n      <td>97.8</td>\n    </tr>\n    <tr>\n      <th>4</th>\n      <td>4</td>\n      <td>Akola</td>\n      <td>1. Female population age 6 years and above who...</td>\n      <td>MH</td>\n      <td>83</td>\n      <td>97.8</td>\n    </tr>\n    <tr>\n      <th>6</th>\n      <td>6</td>\n      <td>Alappuzha</td>\n      <td>1. Female population age 6 years and above who...</td>\n      <td>KL</td>\n      <td>96.9</td>\n      <td>97.8</td>\n    </tr>\n    <tr>\n      <th>8</th>\n      <td>8</td>\n      <td>Amravati</td>\n      <td>1. Female population age 6 years and above who...</td>\n      <td>MH</td>\n      <td>78.3</td>\n      <td>97.8</td>\n    </tr>\n    <tr>\n      <th>...</th>\n      <td>...</td>\n      <td>...</td>\n      <td>...</td>\n      <td>...</td>\n      <td>...</td>\n      <td>...</td>\n    </tr>\n    <tr>\n      <th>60519</th>\n      <td>60519</td>\n      <td>Y.S.R.</td>\n      <td>104. Men age 15 years and above who consume al...</td>\n      <td>AP</td>\n      <td>na</td>\n      <td>27.2</td>\n    </tr>\n    <tr>\n      <th>60521</th>\n      <td>60521</td>\n      <td>YadadriBhuvanagiri</td>\n      <td>104. Men age 15 years and above who consume al...</td>\n      <td>TS</td>\n      <td>NaN</td>\n      <td>27.2</td>\n    </tr>\n    <tr>\n      <th>60522</th>\n      <td>60522</td>\n      <td>Yadgir</td>\n      <td>104. Men age 15 years and above who consume al...</td>\n      <td>KA</td>\n      <td>na</td>\n      <td>19.4</td>\n    </tr>\n    <tr>\n      <th>60524</th>\n      <td>60524</td>\n      <td>Yavatmal</td>\n      <td>104. Men age 15 years and above who consume al...</td>\n      <td>MH</td>\n      <td>na</td>\n      <td>19.4</td>\n    </tr>\n    <tr>\n      <th>60526</th>\n      <td>60526</td>\n      <td>Zunheboto</td>\n      <td>104. Men age 15 years and above who consume al...</td>\n      <td>NL</td>\n      <td>na</td>\n      <td>21.3</td>\n    </tr>\n  </tbody>\n</table>\n<p>34424 rows × 6 columns</p>\n</div>"
     },
     "metadata": {},
     "execution_count": 530
    }
   ],
   "source": [
    "new=df.drop_duplicates(['UID']).drop(['UID'],axis=1)\n",
    "new"
   ]
  },
  {
   "cell_type": "code",
   "execution_count": 531,
   "metadata": {},
   "outputs": [],
   "source": [
    "new.to_csv('final_transpose_nfhs4_5_new_2.csv')"
   ]
  },
  {
   "cell_type": "code",
   "execution_count": 466,
   "metadata": {},
   "outputs": [
    {
     "output_type": "execute_result",
     "data": {
      "text/plain": [
       "       Unnamed: 0    District states  \\\n",
       "0               0  Ahmednagar     MH   \n",
       "1               1  Ahmednagar     MH   \n",
       "2               2      Aizawl     MZ   \n",
       "3               3      Aizawl     MZ   \n",
       "4               4       Akola     MH   \n",
       "...           ...         ...    ...   \n",
       "60523       60523      Yadgir     KA   \n",
       "60524       60524    Yavatmal     MH   \n",
       "60525       60525    Yavatmal     MH   \n",
       "60526       60526   Zunheboto     NL   \n",
       "60527       60527   Zunheboto     NL   \n",
       "\n",
       "                                                variable  2016  2020  \\\n",
       "0      1. Female population age 6 years and above who...  75.4  77.4   \n",
       "1      1. Female population age 6 years and above who...   NaN   NaN   \n",
       "2      1. Female population age 6 years and above who...  95.9  97.8   \n",
       "3      1. Female population age 6 years and above who...   NaN   NaN   \n",
       "4      1. Female population age 6 years and above who...    83  97.8   \n",
       "...                                                  ...   ...   ...   \n",
       "60523  104. Men age 15 years and above who consume al...   NaN   NaN   \n",
       "60524  104. Men age 15 years and above who consume al...    na  19.4   \n",
       "60525  104. Men age 15 years and above who consume al...   NaN   NaN   \n",
       "60526  104. Men age 15 years and above who consume al...    na  21.3   \n",
       "60527  104. Men age 15 years and above who consume al...   NaN   NaN   \n",
       "\n",
       "                                                     UID  \n",
       "0      Ahmednagar1. Female population age 6 years and...  \n",
       "1      Ahmednagar1. Female population age 6 years and...  \n",
       "2      Aizawl1. Female population age 6 years and abo...  \n",
       "3      Aizawl1. Female population age 6 years and abo...  \n",
       "4      Akola1. Female population age 6 years and abov...  \n",
       "...                                                  ...  \n",
       "60523  Yadgir104. Men age 15 years and above who cons...  \n",
       "60524  Yavatmal104. Men age 15 years and above who co...  \n",
       "60525  Yavatmal104. Men age 15 years and above who co...  \n",
       "60526  Zunheboto104. Men age 15 years and above who c...  \n",
       "60527  Zunheboto104. Men age 15 years and above who c...  \n",
       "\n",
       "[60528 rows x 7 columns]"
      ],
      "text/html": "<div>\n<style scoped>\n    .dataframe tbody tr th:only-of-type {\n        vertical-align: middle;\n    }\n\n    .dataframe tbody tr th {\n        vertical-align: top;\n    }\n\n    .dataframe thead th {\n        text-align: right;\n    }\n</style>\n<table border=\"1\" class=\"dataframe\">\n  <thead>\n    <tr style=\"text-align: right;\">\n      <th></th>\n      <th>Unnamed: 0</th>\n      <th>District</th>\n      <th>states</th>\n      <th>variable</th>\n      <th>2016</th>\n      <th>2020</th>\n      <th>UID</th>\n    </tr>\n  </thead>\n  <tbody>\n    <tr>\n      <th>0</th>\n      <td>0</td>\n      <td>Ahmednagar</td>\n      <td>MH</td>\n      <td>1. Female population age 6 years and above who...</td>\n      <td>75.4</td>\n      <td>77.4</td>\n      <td>Ahmednagar1. Female population age 6 years and...</td>\n    </tr>\n    <tr>\n      <th>1</th>\n      <td>1</td>\n      <td>Ahmednagar</td>\n      <td>MH</td>\n      <td>1. Female population age 6 years and above who...</td>\n      <td>NaN</td>\n      <td>NaN</td>\n      <td>Ahmednagar1. Female population age 6 years and...</td>\n    </tr>\n    <tr>\n      <th>2</th>\n      <td>2</td>\n      <td>Aizawl</td>\n      <td>MZ</td>\n      <td>1. Female population age 6 years and above who...</td>\n      <td>95.9</td>\n      <td>97.8</td>\n      <td>Aizawl1. Female population age 6 years and abo...</td>\n    </tr>\n    <tr>\n      <th>3</th>\n      <td>3</td>\n      <td>Aizawl</td>\n      <td>MZ</td>\n      <td>1. Female population age 6 years and above who...</td>\n      <td>NaN</td>\n      <td>NaN</td>\n      <td>Aizawl1. Female population age 6 years and abo...</td>\n    </tr>\n    <tr>\n      <th>4</th>\n      <td>4</td>\n      <td>Akola</td>\n      <td>MH</td>\n      <td>1. Female population age 6 years and above who...</td>\n      <td>83</td>\n      <td>97.8</td>\n      <td>Akola1. Female population age 6 years and abov...</td>\n    </tr>\n    <tr>\n      <th>...</th>\n      <td>...</td>\n      <td>...</td>\n      <td>...</td>\n      <td>...</td>\n      <td>...</td>\n      <td>...</td>\n      <td>...</td>\n    </tr>\n    <tr>\n      <th>60523</th>\n      <td>60523</td>\n      <td>Yadgir</td>\n      <td>KA</td>\n      <td>104. Men age 15 years and above who consume al...</td>\n      <td>NaN</td>\n      <td>NaN</td>\n      <td>Yadgir104. Men age 15 years and above who cons...</td>\n    </tr>\n    <tr>\n      <th>60524</th>\n      <td>60524</td>\n      <td>Yavatmal</td>\n      <td>MH</td>\n      <td>104. Men age 15 years and above who consume al...</td>\n      <td>na</td>\n      <td>19.4</td>\n      <td>Yavatmal104. Men age 15 years and above who co...</td>\n    </tr>\n    <tr>\n      <th>60525</th>\n      <td>60525</td>\n      <td>Yavatmal</td>\n      <td>MH</td>\n      <td>104. Men age 15 years and above who consume al...</td>\n      <td>NaN</td>\n      <td>NaN</td>\n      <td>Yavatmal104. Men age 15 years and above who co...</td>\n    </tr>\n    <tr>\n      <th>60526</th>\n      <td>60526</td>\n      <td>Zunheboto</td>\n      <td>NL</td>\n      <td>104. Men age 15 years and above who consume al...</td>\n      <td>na</td>\n      <td>21.3</td>\n      <td>Zunheboto104. Men age 15 years and above who c...</td>\n    </tr>\n    <tr>\n      <th>60527</th>\n      <td>60527</td>\n      <td>Zunheboto</td>\n      <td>NL</td>\n      <td>104. Men age 15 years and above who consume al...</td>\n      <td>NaN</td>\n      <td>NaN</td>\n      <td>Zunheboto104. Men age 15 years and above who c...</td>\n    </tr>\n  </tbody>\n</table>\n<p>60528 rows × 7 columns</p>\n</div>"
     },
     "metadata": {},
     "execution_count": 466
    }
   ],
   "source": [
    "\"\"\"\n",
    "District    Variable   2020    2016 \n",
    "\"\"\"\n",
    "df"
   ]
  },
  {
   "cell_type": "code",
   "execution_count": 464,
   "metadata": {},
   "outputs": [
    {
     "output_type": "execute_result",
     "data": {
      "text/plain": [
       "Nagpur                        104\n",
       "Munger                        104\n",
       "Anand                         104\n",
       "Siddipet                      104\n",
       "Sepahijala                    104\n",
       "                             ... \n",
       "Jalgaon                       104\n",
       "Ukhrul                        104\n",
       "DevbhumiDwarka                104\n",
       "Solan                         104\n",
       "South Twenty Four Parganas    104\n",
       "Name: District, Length: 331, dtype: int64"
      ]
     },
     "metadata": {},
     "execution_count": 464
    }
   ],
   "source": [
    "new.District.value_counts()"
   ]
  },
  {
   "cell_type": "code",
   "execution_count": 35,
   "metadata": {},
   "outputs": [],
   "source": [
    "df=pd.read_csv('NFHS4_NFHS5_DISTRICT_DATA_Processed.csv')\n"
   ]
  },
  {
   "cell_type": "code",
   "execution_count": 36,
   "metadata": {},
   "outputs": [],
   "source": [
    "ay_imp=[]\n",
    "post=[]\n",
    "for i in range(df.shape[0]):\n",
    "    if(df['states'].iat[i]!='OR') and (df['states'].iat[i]!='WB') and (df['states'].iat[i]!='DL')and (df['states'].iat[i]!='TS'):\n",
    "        ay_imp.append(1)\n",
    "    else:\n",
    "        ay_imp.append(0)\n",
    "    if(df['Year'].iat[i]==2016):\n",
    "        post.append(0)\n",
    "    else :\n",
    "        post.append(1)\n",
    "df['ay_imp']=ay_imp\n",
    "df['post']=post\n",
    "df['int_ay']=df['ay_imp']*df['post']\n"
   ]
  },
  {
   "cell_type": "code",
   "execution_count": 37,
   "metadata": {},
   "outputs": [],
   "source": [
    "df['date']=df['Year'].apply(str)"
   ]
  },
  {
   "cell_type": "code",
   "execution_count": 38,
   "metadata": {},
   "outputs": [
    {
     "output_type": "execute_result",
     "data": {
      "text/plain": [
       "0      01-01-2016\n",
       "1      01-01-2020\n",
       "2      01-01-2016\n",
       "3      01-01-2020\n",
       "4      01-01-2016\n",
       "          ...    \n",
       "575    01-01-2020\n",
       "576    01-01-2016\n",
       "577    01-01-2020\n",
       "578    01-01-2016\n",
       "579    01-01-2020\n",
       "Name: date, Length: 580, dtype: object"
      ]
     },
     "metadata": {},
     "execution_count": 38
    }
   ],
   "source": [
    "df['date']='01-01-'+df['date']\n",
    "df['date']"
   ]
  },
  {
   "cell_type": "code",
   "execution_count": 39,
   "metadata": {},
   "outputs": [],
   "source": [
    "df['date']=pd.to_datetime(df['date'])"
   ]
  },
  {
   "cell_type": "code",
   "execution_count": 354,
   "metadata": {},
   "outputs": [
    {
     "output_type": "execute_result",
     "data": {
      "text/plain": [
       "     Unnamed: 0  Unnamed: 0.1        state    District  Year  \\\n",
       "0           511           511  Maharashtra  Ahmednagar  2016   \n",
       "1            40            40  Maharashtra  Ahmednagar  2020   \n",
       "2           537           537      Mizoram      Aizawl  2016   \n",
       "3           270           270      Mizoram      Aizawl  2020   \n",
       "4           490           490  Maharashtra       Akola  2016   \n",
       "..          ...           ...          ...         ...   ...   \n",
       "577         206           206    Karnataka      Yadgir  2020   \n",
       "578         499           499  Maharashtra    Yavatmal  2016   \n",
       "579         237           237  Maharashtra    Yavatmal  2020   \n",
       "580         545           545     Nagaland   Zunheboto  2016   \n",
       "581         288           288     Nagaland   Zunheboto  2020   \n",
       "\n",
       "     1. Female population age 6 years and above who ever attended school (%)(PHP)  \\\n",
       "0                                                 75.4                              \n",
       "1                                                 77.4                              \n",
       "2                                                 95.9                              \n",
       "3                                                 97.8                              \n",
       "4                                                 83.0                              \n",
       "..                                                 ...                              \n",
       "577                                               51.9                              \n",
       "578                                               76.1                              \n",
       "579                                               51.9                              \n",
       "580                                               86.5                              \n",
       "581                                               87.4                              \n",
       "\n",
       "     2. Population below age 15 years (%)(PHP)  \\\n",
       "0                                         25.8   \n",
       "1                                         23.0   \n",
       "2                                         27.6   \n",
       "3                                         25.1   \n",
       "4                                         25.0   \n",
       "..                                         ...   \n",
       "577                                       29.2   \n",
       "578                                       24.7   \n",
       "579                                       29.2   \n",
       "580                                       29.4   \n",
       "581                                       22.2   \n",
       "\n",
       "     3. Sex ratio of the total population (females per 1,000 males)(PHP)  \\\n",
       "0                                                  905                     \n",
       "1                                                  967                     \n",
       "2                                                 1064                     \n",
       "3                                                 1052                     \n",
       "4                                                  959                     \n",
       "..                                                 ...                     \n",
       "577                                               1020                     \n",
       "578                                                969                     \n",
       "579                                               1020                     \n",
       "580                                                936                     \n",
       "581                                               1132                     \n",
       "\n",
       "     4. Sex ratio at birth for children born in the last five years (females per 1,000 males)(PHP)  \\\n",
       "0                                                  843                                               \n",
       "1                                                  845                                               \n",
       "2                                                  902                                               \n",
       "3                                                 1042                                               \n",
       "4                                                  878                                               \n",
       "..                                                 ...                                               \n",
       "577                                                922                                               \n",
       "578                                                863                                               \n",
       "579                                                922                                               \n",
       "580                                                747                                               \n",
       "581                                               1207                                               \n",
       "\n",
       "     5. Children under age 5 years whose birth was registered with the civil authority (%)(PHP)  \\\n",
       "0                                                 93.4                                            \n",
       "1                                                 99.3                                            \n",
       "2                                                 96.9                                            \n",
       "3                                                 99.3                                            \n",
       "4                                                 98.7                                            \n",
       "..                                                 ...                                            \n",
       "577                                               92.7                                            \n",
       "578                                               95.8                                            \n",
       "579                                               92.7                                            \n",
       "580                                               58.9                                            \n",
       "581                                               51.6                                            \n",
       "\n",
       "     ... TN  TR  TS  UK  UP  WB  ay_imp post  int_ay        date  \n",
       "0    ...  0   0   0   0   0   0       1    0       0  01-01-2016  \n",
       "1    ...  0   0   0   0   0   0       1    1       1  01-01-2020  \n",
       "2    ...  0   0   0   0   0   0       1    0       0  01-01-2016  \n",
       "3    ...  0   0   0   0   0   0       1    1       1  01-01-2020  \n",
       "4    ...  0   0   0   0   0   0       1    0       0  01-01-2016  \n",
       "..   ... ..  ..  ..  ..  ..  ..     ...  ...     ...         ...  \n",
       "577  ...  0   0   1   0   0   0       1    1       1  01-01-2020  \n",
       "578  ...  0   0   1   0   0   0       1    0       0  01-01-2016  \n",
       "579  ...  0   0   1   0   0   0       1    1       1  01-01-2020  \n",
       "580  ...  0   0   0   0   0   0       1    0       0  01-01-2016  \n",
       "581  ...  0   0   0   0   0   0       1    1       1  01-01-2020  \n",
       "\n",
       "[582 rows x 151 columns]"
      ],
      "text/html": "<div>\n<style scoped>\n    .dataframe tbody tr th:only-of-type {\n        vertical-align: middle;\n    }\n\n    .dataframe tbody tr th {\n        vertical-align: top;\n    }\n\n    .dataframe thead th {\n        text-align: right;\n    }\n</style>\n<table border=\"1\" class=\"dataframe\">\n  <thead>\n    <tr style=\"text-align: right;\">\n      <th></th>\n      <th>Unnamed: 0</th>\n      <th>Unnamed: 0.1</th>\n      <th>state</th>\n      <th>District</th>\n      <th>Year</th>\n      <th>1. Female population age 6 years and above who ever attended school (%)(PHP)</th>\n      <th>2. Population below age 15 years (%)(PHP)</th>\n      <th>3. Sex ratio of the total population (females per 1,000 males)(PHP)</th>\n      <th>4. Sex ratio at birth for children born in the last five years (females per 1,000 males)(PHP)</th>\n      <th>5. Children under age 5 years whose birth was registered with the civil authority (%)(PHP)</th>\n      <th>...</th>\n      <th>TN</th>\n      <th>TR</th>\n      <th>TS</th>\n      <th>UK</th>\n      <th>UP</th>\n      <th>WB</th>\n      <th>ay_imp</th>\n      <th>post</th>\n      <th>int_ay</th>\n      <th>date</th>\n    </tr>\n  </thead>\n  <tbody>\n    <tr>\n      <th>0</th>\n      <td>511</td>\n      <td>511</td>\n      <td>Maharashtra</td>\n      <td>Ahmednagar</td>\n      <td>2016</td>\n      <td>75.4</td>\n      <td>25.8</td>\n      <td>905</td>\n      <td>843</td>\n      <td>93.4</td>\n      <td>...</td>\n      <td>0</td>\n      <td>0</td>\n      <td>0</td>\n      <td>0</td>\n      <td>0</td>\n      <td>0</td>\n      <td>1</td>\n      <td>0</td>\n      <td>0</td>\n      <td>01-01-2016</td>\n    </tr>\n    <tr>\n      <th>1</th>\n      <td>40</td>\n      <td>40</td>\n      <td>Maharashtra</td>\n      <td>Ahmednagar</td>\n      <td>2020</td>\n      <td>77.4</td>\n      <td>23.0</td>\n      <td>967</td>\n      <td>845</td>\n      <td>99.3</td>\n      <td>...</td>\n      <td>0</td>\n      <td>0</td>\n      <td>0</td>\n      <td>0</td>\n      <td>0</td>\n      <td>0</td>\n      <td>1</td>\n      <td>1</td>\n      <td>1</td>\n      <td>01-01-2020</td>\n    </tr>\n    <tr>\n      <th>2</th>\n      <td>537</td>\n      <td>537</td>\n      <td>Mizoram</td>\n      <td>Aizawl</td>\n      <td>2016</td>\n      <td>95.9</td>\n      <td>27.6</td>\n      <td>1064</td>\n      <td>902</td>\n      <td>96.9</td>\n      <td>...</td>\n      <td>0</td>\n      <td>0</td>\n      <td>0</td>\n      <td>0</td>\n      <td>0</td>\n      <td>0</td>\n      <td>1</td>\n      <td>0</td>\n      <td>0</td>\n      <td>01-01-2016</td>\n    </tr>\n    <tr>\n      <th>3</th>\n      <td>270</td>\n      <td>270</td>\n      <td>Mizoram</td>\n      <td>Aizawl</td>\n      <td>2020</td>\n      <td>97.8</td>\n      <td>25.1</td>\n      <td>1052</td>\n      <td>1042</td>\n      <td>99.3</td>\n      <td>...</td>\n      <td>0</td>\n      <td>0</td>\n      <td>0</td>\n      <td>0</td>\n      <td>0</td>\n      <td>0</td>\n      <td>1</td>\n      <td>1</td>\n      <td>1</td>\n      <td>01-01-2020</td>\n    </tr>\n    <tr>\n      <th>4</th>\n      <td>490</td>\n      <td>490</td>\n      <td>Maharashtra</td>\n      <td>Akola</td>\n      <td>2016</td>\n      <td>83.0</td>\n      <td>25.0</td>\n      <td>959</td>\n      <td>878</td>\n      <td>98.7</td>\n      <td>...</td>\n      <td>0</td>\n      <td>0</td>\n      <td>0</td>\n      <td>0</td>\n      <td>0</td>\n      <td>0</td>\n      <td>1</td>\n      <td>0</td>\n      <td>0</td>\n      <td>01-01-2016</td>\n    </tr>\n    <tr>\n      <th>...</th>\n      <td>...</td>\n      <td>...</td>\n      <td>...</td>\n      <td>...</td>\n      <td>...</td>\n      <td>...</td>\n      <td>...</td>\n      <td>...</td>\n      <td>...</td>\n      <td>...</td>\n      <td>...</td>\n      <td>...</td>\n      <td>...</td>\n      <td>...</td>\n      <td>...</td>\n      <td>...</td>\n      <td>...</td>\n      <td>...</td>\n      <td>...</td>\n      <td>...</td>\n      <td>...</td>\n    </tr>\n    <tr>\n      <th>577</th>\n      <td>206</td>\n      <td>206</td>\n      <td>Karnataka</td>\n      <td>Yadgir</td>\n      <td>2020</td>\n      <td>51.9</td>\n      <td>29.2</td>\n      <td>1020</td>\n      <td>922</td>\n      <td>92.7</td>\n      <td>...</td>\n      <td>0</td>\n      <td>0</td>\n      <td>1</td>\n      <td>0</td>\n      <td>0</td>\n      <td>0</td>\n      <td>1</td>\n      <td>1</td>\n      <td>1</td>\n      <td>01-01-2020</td>\n    </tr>\n    <tr>\n      <th>578</th>\n      <td>499</td>\n      <td>499</td>\n      <td>Maharashtra</td>\n      <td>Yavatmal</td>\n      <td>2016</td>\n      <td>76.1</td>\n      <td>24.7</td>\n      <td>969</td>\n      <td>863</td>\n      <td>95.8</td>\n      <td>...</td>\n      <td>0</td>\n      <td>0</td>\n      <td>1</td>\n      <td>0</td>\n      <td>0</td>\n      <td>0</td>\n      <td>1</td>\n      <td>0</td>\n      <td>0</td>\n      <td>01-01-2016</td>\n    </tr>\n    <tr>\n      <th>579</th>\n      <td>237</td>\n      <td>237</td>\n      <td>Maharashtra</td>\n      <td>Yavatmal</td>\n      <td>2020</td>\n      <td>51.9</td>\n      <td>29.2</td>\n      <td>1020</td>\n      <td>922</td>\n      <td>92.7</td>\n      <td>...</td>\n      <td>0</td>\n      <td>0</td>\n      <td>1</td>\n      <td>0</td>\n      <td>0</td>\n      <td>0</td>\n      <td>1</td>\n      <td>1</td>\n      <td>1</td>\n      <td>01-01-2020</td>\n    </tr>\n    <tr>\n      <th>580</th>\n      <td>545</td>\n      <td>545</td>\n      <td>Nagaland</td>\n      <td>Zunheboto</td>\n      <td>2016</td>\n      <td>86.5</td>\n      <td>29.4</td>\n      <td>936</td>\n      <td>747</td>\n      <td>58.9</td>\n      <td>...</td>\n      <td>0</td>\n      <td>0</td>\n      <td>0</td>\n      <td>0</td>\n      <td>0</td>\n      <td>0</td>\n      <td>1</td>\n      <td>0</td>\n      <td>0</td>\n      <td>01-01-2016</td>\n    </tr>\n    <tr>\n      <th>581</th>\n      <td>288</td>\n      <td>288</td>\n      <td>Nagaland</td>\n      <td>Zunheboto</td>\n      <td>2020</td>\n      <td>87.4</td>\n      <td>22.2</td>\n      <td>1132</td>\n      <td>1207</td>\n      <td>51.6</td>\n      <td>...</td>\n      <td>0</td>\n      <td>0</td>\n      <td>0</td>\n      <td>0</td>\n      <td>0</td>\n      <td>0</td>\n      <td>1</td>\n      <td>1</td>\n      <td>1</td>\n      <td>01-01-2020</td>\n    </tr>\n  </tbody>\n</table>\n<p>582 rows × 151 columns</p>\n</div>"
     },
     "metadata": {},
     "execution_count": 354
    }
   ],
   "source": [
    "df"
   ]
  },
  {
   "cell_type": "code",
   "execution_count": 55,
   "metadata": {},
   "outputs": [],
   "source": [
    "for i in cols:\n",
    "    for j in range(df.shape[0]):\n",
    "        if(isinstance(df[i].iat[j],str)):\n",
    "            df[i].iat[j]=df[i].iat[j].replace(',','')\n",
    "            df[i].iat[j]=df[i].iat[j].replace('(','')\n",
    "            df[i].iat[j]=df[i].iat[j].replace(')','')\n",
    "            df[i].iat[j]=df[i].iat[j].replace('-','')\n",
    "            if(df[i].iat[j]!='na' and df[i].iat[j]!='*' and df[i].iat[j]!='nan' and df[i].iat[j]!=' *'):\n",
    "                df[i].iat[j]=float(df[i].iat[j])\n",
    "    for j in range(df.shape[0]):\n",
    "        if(isinstance(df[i].iat[j],int) or isinstance(df[i].iat[j],float)):\n",
    "            df[i].iat[j]=abs(df[i].iat[j])   \n",
    "        if(df[i].iat[j]=='na' or df[i].iat[j]=='*' or df[i].iat[j]=='nan' or df[i].iat[j]==' *'):\n",
    "                df[i].iat[j]=None"
   ]
  },
  {
   "cell_type": "code",
   "execution_count": 633,
   "metadata": {},
   "outputs": [
    {
     "output_type": "execute_result",
     "data": {
      "text/plain": [
       "                                                                 PanelOLS Estimation Summary                                                                 \n",
       "=============================================================================================================================================================\n",
       "Dep. Variable:     12. Households with any usual member covered under a health insurance/financing scheme (%)(PHP)   R-squared:                        0.0366\n",
       "Estimator:                                                                                                PanelOLS   R-squared (Between):              0.2645\n",
       "No. Observations:                                                                                              582   R-squared (Within):               0.1094\n",
       "Date:                                                                                             Sat, Apr 03 2021   R-squared (Overall):              0.2681\n",
       "Time:                                                                                                     13:00:39   Log-likelihood                   -2114.1\n",
       "Cov. Estimator:                                                                                          Clustered                                           \n",
       "                                                                                                                     F-statistic:                      9.4503\n",
       "Entities:                                                                                                      331   P-value                           0.0023\n",
       "Avg Obs:                                                                                                    1.7583   Distribution:                   F(1,249)\n",
       "Min Obs:                                                                                                    1.0000                                           \n",
       "Max Obs:                                                                                                    4.0000   F-statistic (robust):             15.004\n",
       "                                                                                                                     P-value                           0.0001\n",
       "Time periods:                                                                                                    2   Distribution:                   F(1,249)\n",
       "Avg Obs:                                                                                                    291.00                                           \n",
       "Min Obs:                                                                                                    264.00                                           \n",
       "Max Obs:                                                                                                    318.00                                           \n",
       "                                                                                                                                                             \n",
       "                             Parameter Estimates                              \n",
       "==============================================================================\n",
       "            Parameter  Std. Err.     T-stat    P-value    Lower CI    Upper CI\n",
       "------------------------------------------------------------------------------\n",
       "int_ay         15.721     4.0587     3.8735     0.0001      7.7276      23.715\n",
       "==============================================================================\n",
       "\n",
       "F-test for Poolability: 3.5004\n",
       "P-value: 0.0000\n",
       "Distribution: F(331,249)\n",
       "\n",
       "Included effects: Entity, Time\n",
       "PanelEffectsResults, id: 0x17354d1f850"
      ],
      "text/html": "<table class=\"simpletable\">\n<caption>PanelOLS Estimation Summary</caption>\n<tr>\n  <th>Dep. Variable:</th>    <td>12. Households with any usual member covered under a health insurance/financing scheme (%)(PHP)</td> <th>  R-squared:         </th>    <td>0.0366</td> \n</tr>\n<tr>\n  <th>Estimator:</th>                                                   <td>PanelOLS</td>                                             <th>  R-squared (Between):</th>   <td>0.2645</td> \n</tr>\n<tr>\n  <th>No. Observations:</th>                                               <td>582</td>                                               <th>  R-squared (Within):</th>    <td>0.1094</td> \n</tr>\n<tr>\n  <th>Date:</th>                                                    <td>Sat, Apr 03 2021</td>                                         <th>  R-squared (Overall):</th>   <td>0.2681</td> \n</tr>\n<tr>\n  <th>Time:</th>                                                        <td>13:00:39</td>                                             <th>  Log-likelihood     </th>    <td>-2114.1</td>\n</tr>\n<tr>\n  <th>Cov. Estimator:</th>                                              <td>Clustered</td>                                            <th>                     </th>       <td></td>    \n</tr>\n<tr>\n  <th></th>                                                                 <td></td>                                                 <th>  F-statistic:       </th>    <td>9.4503</td> \n</tr>\n<tr>\n  <th>Entities:</th>                                                       <td>331</td>                                               <th>  P-value            </th>    <td>0.0023</td> \n</tr>\n<tr>\n  <th>Avg Obs:</th>                                                      <td>1.7583</td>                                              <th>  Distribution:      </th>   <td>F(1,249)</td>\n</tr>\n<tr>\n  <th>Min Obs:</th>                                                      <td>1.0000</td>                                              <th>                     </th>       <td></td>    \n</tr>\n<tr>\n  <th>Max Obs:</th>                                                      <td>4.0000</td>                                              <th>  F-statistic (robust):</th>  <td>15.004</td> \n</tr>\n<tr>\n  <th></th>                                                                 <td></td>                                                 <th>  P-value            </th>    <td>0.0001</td> \n</tr>\n<tr>\n  <th>Time periods:</th>                                                    <td>2</td>                                                <th>  Distribution:      </th>   <td>F(1,249)</td>\n</tr>\n<tr>\n  <th>Avg Obs:</th>                                                      <td>291.00</td>                                              <th>                     </th>       <td></td>    \n</tr>\n<tr>\n  <th>Min Obs:</th>                                                      <td>264.00</td>                                              <th>                     </th>       <td></td>    \n</tr>\n<tr>\n  <th>Max Obs:</th>                                                      <td>318.00</td>                                              <th>                     </th>       <td></td>    \n</tr>\n<tr>\n  <th></th>                                                                 <td></td>                                                 <th>                     </th>       <td></td>    \n</tr>\n</table>\n<table class=\"simpletable\">\n<caption>Parameter Estimates</caption>\n<tr>\n     <td></td>    <th>Parameter</th> <th>Std. Err.</th> <th>T-stat</th> <th>P-value</th> <th>Lower CI</th> <th>Upper CI</th>\n</tr>\n<tr>\n  <th>int_ay</th>  <td>15.721</td>    <td>4.0587</td>   <td>3.8735</td> <td>0.0001</td>   <td>7.7276</td>   <td>23.715</td> \n</tr>\n</table><br/><br/>F-test for Poolability: 3.5004<br/>P-value: 0.0000<br/>Distribution: F(331,249)<br/><br/>Included effects: Entity, Time<br/>id: 0x17354d1f850"
     },
     "metadata": {},
     "execution_count": 633
    }
   ],
   "source": [
    "\n",
    "temp=df[['District','date','12. Households with any usual member covered under a health insurance/financing scheme (%)(PHP)','int_ay','Year']]\n",
    "temp=temp.dropna(subset=['District'])\n",
    "temp.date=pd.to_datetime(temp.date)\n",
    "temp=temp.set_index(['District','date'])\n",
    "from linearmodels import PanelOLS\n",
    "\n",
    "mod = PanelOLS(temp['12. Households with any usual member covered under a health insurance/financing scheme (%)(PHP)'],temp['int_ay'],entity_effects=True,time_effects=True)\n",
    "res = mod.fit(cluster_entity=True,cov_type='clustered')\n",
    "res"
   ]
  },
  {
   "cell_type": "code",
   "execution_count": 616,
   "metadata": {},
   "outputs": [
    {
     "output_type": "execute_result",
     "data": {
      "text/plain": [
       "int_ay    3.873518\n",
       "Name: tstat, dtype: float64"
      ]
     },
     "metadata": {},
     "execution_count": 616
    }
   ],
   "source": [
    "res.params\n",
    "res.pvalues\n",
    "res.tstats"
   ]
  },
  {
   "cell_type": "code",
   "execution_count": 54,
   "metadata": {},
   "outputs": [],
   "source": [
    "cols=list(df.columns[3:107])\n"
   ]
  },
  {
   "cell_type": "code",
   "execution_count": 53,
   "metadata": {},
   "outputs": [
    {
     "output_type": "execute_result",
     "data": {
      "text/plain": [
       "'1. Female population age 6 years and above who ever attended school (%)(PHP)'"
      ]
     },
     "metadata": {},
     "execution_count": 53
    }
   ],
   "source": [
    "cols[0]"
   ]
  },
  {
   "cell_type": "code",
   "execution_count": 56,
   "metadata": {},
   "outputs": [
    {
     "output_type": "stream",
     "name": "stdout",
     "text": [
      "580\n",
      "580\n",
      "580\n",
      "580\n",
      "580\n",
      "316\n",
      "580\n",
      "580\n",
      "580\n",
      "580\n",
      "580\n",
      "580\n",
      "316\n",
      "580\n",
      "580\n",
      "580\n",
      "316\n",
      "580\n",
      "316\n",
      "580\n",
      "580\n",
      "580\n",
      "580\n",
      "580\n",
      "580\n",
      "580\n",
      "316\n",
      "580\n",
      "580\n",
      "580\n",
      "569\n",
      "580\n",
      "580\n",
      "580\n",
      "580\n",
      "316\n",
      "580\n",
      "580\n",
      "573\n",
      "251\n",
      "580\n",
      "580\n",
      "580\n",
      "580\n",
      "580\n",
      "580\n",
      "458\n",
      "578\n",
      "309\n",
      "301\n",
      "543\n",
      "543\n",
      "543\n",
      "543\n",
      "309\n",
      "309\n",
      "543\n",
      "580\n",
      "537\n",
      "537\n",
      "580\n",
      "177\n",
      "177\n",
      "177\n",
      "580\n",
      "408\n",
      "580\n",
      "300\n",
      "82\n",
      "566\n",
      "63\n",
      "576\n",
      "580\n",
      "580\n",
      "580\n",
      "580\n",
      "316\n",
      "580\n",
      "580\n",
      "316\n",
      "580\n",
      "580\n",
      "431\n",
      "580\n",
      "316\n",
      "580\n",
      "580\n",
      "316\n",
      "580\n",
      "580\n",
      "580\n",
      "580\n",
      "580\n",
      "580\n",
      "316\n",
      "580\n",
      "316\n",
      "580\n",
      "580\n",
      "580\n",
      "316\n",
      "316\n",
      "316\n",
      "316\n"
     ]
    }
   ],
   "source": [
    "from linearmodels import PanelOLS\n",
    "import numpy as np\n",
    "mainl=[]\n",
    "for i in cols:\n",
    "    try:\n",
    "        temp=df[['District','date',i,'int_ay']]\n",
    "        #temp=temp.dropna(subset=['District'])\n",
    "        #temp.date=pd.to_datetime(temp.date)\n",
    "        temp=temp.set_index(['District','date'])\n",
    "        temp=temp.dropna()\n",
    "        temp['const']=1\n",
    "        print(temp.shape[0])\n",
    "        mod = PanelOLS(temp[i].astype('float64'),temp[['int_ay','const']],entity_effects=True,time_effects=True)\n",
    "        res = mod.fit(cluster_entity=True,cov_type='clustered')\n",
    "        l=[i,res.params[0],res.pvalues[0],res.tstats[0]]\n",
    "        mainl.append(l)\n",
    "    \n",
    "    except:\n",
    "        l=[i,None,None,None]\n",
    "        mainl.append(l)\n",
    "\n",
    "        continue\n",
    "   \n",
    "    \n",
    "results=pd.DataFrame(mainl,columns=['Variable','Coef','P-val','T-stat'])"
   ]
  },
  {
   "cell_type": "code",
   "execution_count": 57,
   "metadata": {},
   "outputs": [
    {
     "output_type": "execute_result",
     "data": {
      "text/plain": [
       "                                              Variable       Coef  \\\n",
       "0    1. Female population age 6 years and above who...   2.909050   \n",
       "1            2. Population below age 15 years (%)(PHP)  -0.587011   \n",
       "2    3. Sex ratio of the total population (females ...   3.768239   \n",
       "3    4. Sex ratio at birth for children born in the... -37.844591   \n",
       "4    5. Children under age 5 years whose birth was ...   4.592954   \n",
       "..                                                 ...        ...   \n",
       "99   100. Ever undergone an oral cavity examination... -11.534979   \n",
       "100  101. Women age 15 years and above who use any ...        NaN   \n",
       "101  102. Men age 15 years and above who use any ki...        NaN   \n",
       "102  103. Women age 15 years and above who consume ...        NaN   \n",
       "103  104. Men age 15 years and above who consume al...        NaN   \n",
       "\n",
       "            P-val    T-stat  \n",
       "0    1.437966e-01  1.466187  \n",
       "1    6.621870e-01 -0.437393  \n",
       "2    7.969327e-01  0.257581  \n",
       "3    4.253758e-01 -0.798375  \n",
       "4    3.783964e-03  2.921778  \n",
       "..            ...       ...  \n",
       "99   1.942757e-11 -7.016343  \n",
       "100           NaN       NaN  \n",
       "101           NaN       NaN  \n",
       "102           NaN       NaN  \n",
       "103           NaN       NaN  \n",
       "\n",
       "[104 rows x 4 columns]"
      ],
      "text/html": "<div>\n<style scoped>\n    .dataframe tbody tr th:only-of-type {\n        vertical-align: middle;\n    }\n\n    .dataframe tbody tr th {\n        vertical-align: top;\n    }\n\n    .dataframe thead th {\n        text-align: right;\n    }\n</style>\n<table border=\"1\" class=\"dataframe\">\n  <thead>\n    <tr style=\"text-align: right;\">\n      <th></th>\n      <th>Variable</th>\n      <th>Coef</th>\n      <th>P-val</th>\n      <th>T-stat</th>\n    </tr>\n  </thead>\n  <tbody>\n    <tr>\n      <th>0</th>\n      <td>1. Female population age 6 years and above who...</td>\n      <td>2.909050</td>\n      <td>1.437966e-01</td>\n      <td>1.466187</td>\n    </tr>\n    <tr>\n      <th>1</th>\n      <td>2. Population below age 15 years (%)(PHP)</td>\n      <td>-0.587011</td>\n      <td>6.621870e-01</td>\n      <td>-0.437393</td>\n    </tr>\n    <tr>\n      <th>2</th>\n      <td>3. Sex ratio of the total population (females ...</td>\n      <td>3.768239</td>\n      <td>7.969327e-01</td>\n      <td>0.257581</td>\n    </tr>\n    <tr>\n      <th>3</th>\n      <td>4. Sex ratio at birth for children born in the...</td>\n      <td>-37.844591</td>\n      <td>4.253758e-01</td>\n      <td>-0.798375</td>\n    </tr>\n    <tr>\n      <th>4</th>\n      <td>5. Children under age 5 years whose birth was ...</td>\n      <td>4.592954</td>\n      <td>3.783964e-03</td>\n      <td>2.921778</td>\n    </tr>\n    <tr>\n      <th>...</th>\n      <td>...</td>\n      <td>...</td>\n      <td>...</td>\n      <td>...</td>\n    </tr>\n    <tr>\n      <th>99</th>\n      <td>100. Ever undergone an oral cavity examination...</td>\n      <td>-11.534979</td>\n      <td>1.942757e-11</td>\n      <td>-7.016343</td>\n    </tr>\n    <tr>\n      <th>100</th>\n      <td>101. Women age 15 years and above who use any ...</td>\n      <td>NaN</td>\n      <td>NaN</td>\n      <td>NaN</td>\n    </tr>\n    <tr>\n      <th>101</th>\n      <td>102. Men age 15 years and above who use any ki...</td>\n      <td>NaN</td>\n      <td>NaN</td>\n      <td>NaN</td>\n    </tr>\n    <tr>\n      <th>102</th>\n      <td>103. Women age 15 years and above who consume ...</td>\n      <td>NaN</td>\n      <td>NaN</td>\n      <td>NaN</td>\n    </tr>\n    <tr>\n      <th>103</th>\n      <td>104. Men age 15 years and above who consume al...</td>\n      <td>NaN</td>\n      <td>NaN</td>\n      <td>NaN</td>\n    </tr>\n  </tbody>\n</table>\n<p>104 rows × 4 columns</p>\n</div>"
     },
     "metadata": {},
     "execution_count": 57
    }
   ],
   "source": [
    "results"
   ]
  },
  {
   "cell_type": "code",
   "execution_count": 58,
   "metadata": {},
   "outputs": [],
   "source": [
    "results.to_csv('nfhs_reg_results_with_corrected_district_names_new.csv')"
   ]
  },
  {
   "cell_type": "code",
   "execution_count": 697,
   "metadata": {},
   "outputs": [
    {
     "output_type": "execute_result",
     "data": {
      "text/plain": [
       "0           NaN\n",
       "1      4.462454\n",
       "2           NaN\n",
       "3      4.468204\n",
       "4           NaN\n",
       "         ...   \n",
       "577    4.320151\n",
       "578         NaN\n",
       "579    4.320151\n",
       "580         NaN\n",
       "581    3.951244\n",
       "Name: 6. Deaths in the last 3 years registered with the civil authority (%)(PHP), Length: 582, dtype: float64"
      ]
     },
     "metadata": {},
     "execution_count": 697
    }
   ],
   "source": [
    "#np.log1p(temp[i].dropna())\n",
    "#type(df[cols[5]].astype(float64).iat[0])\n",
    "np.log1p(df[cols[5]].astype('float64'))"
   ]
  },
  {
   "cell_type": "code",
   "execution_count": 684,
   "metadata": {},
   "outputs": [
    {
     "output_type": "execute_result",
     "data": {
      "text/plain": [
       "1      85.7\n",
       "3      86.2\n",
       "5      86.2\n",
       "7       100\n",
       "9       100\n",
       "       ... \n",
       "574    86.1\n",
       "575    86.1\n",
       "577    74.2\n",
       "579    74.2\n",
       "581      51\n",
       "Name: 6. Deaths in the last 3 years registered with the civil authority (%)(PHP), Length: 318, dtype: object"
      ]
     },
     "metadata": {},
     "execution_count": 684
    }
   ],
   "source": [
    "df[cols[5]].dropna()"
   ]
  },
  {
   "cell_type": "code",
   "execution_count": 56,
   "metadata": {},
   "outputs": [],
   "source": [
    "results.to_csv('nfhs_pre_post_regression_with_const_term.csv')"
   ]
  },
  {
   "cell_type": "code",
   "execution_count": 658,
   "metadata": {},
   "outputs": [],
   "source": [
    "temp=df[['District','date',cols[40],'int_ay']]\n",
    "#temp=temp.dropna(subset=['District'])\n",
    "#temp.date=pd.to_datetime(temp.date)\n",
    "temp=temp.set_index(['District','date'])\n",
    "temp=temp.dropna()\n",
    "mod = PanelOLS(np.log1p(temp[cols[40]]),temp['int_ay'],entity_effects=True,time_effects=True)\n",
    "res = mod.fit(cluster_entity=True,cov_type='clustered')\n",
    "l=[i,res.params[0],res.pvalues[0],res.tstats[0]]\n",
    "mainl.append(l)"
   ]
  },
  {
   "cell_type": "code",
   "execution_count": 365,
   "metadata": {},
   "outputs": [],
   "source": [
    "import pandas as pd\n",
    "from linearmodels import PanelOLS\n",
    "import statsmodels.api as sm\n",
    "df=pd.read_csv('transpose_with_controls_nfhs4_nfhs5_full.csv')"
   ]
  },
  {
   "cell_type": "code",
   "execution_count": 259,
   "metadata": {},
   "outputs": [
    {
     "output_type": "execute_result",
     "data": {
      "text/plain": [
       "       Unnamed: 0    District states  \\\n",
       "0               0  Ahmednagar     MH   \n",
       "1               1  Ahmednagar     MH   \n",
       "2               2  Ahmednagar     MH   \n",
       "3               3  Ahmednagar     MH   \n",
       "4               4  Ahmednagar     MH   \n",
       "...           ...         ...    ...   \n",
       "33379       25787  Sepahijala     TR   \n",
       "33380       25788  Sepahijala     TR   \n",
       "33381       25789  Sepahijala     TR   \n",
       "33382       25790  Sepahijala     TR   \n",
       "33383       25791  Sepahijala     TR   \n",
       "\n",
       "                                                variable  2016  2020  \\\n",
       "0      1. Female population age 6 years and above who...  75.4  77.4   \n",
       "1      10. Households using clean fuel for cooking3 (...  57.8  77.4   \n",
       "2      100. Ever undergone an oral cavity examination...  14.4   0.2   \n",
       "3      101. Women age 15 years and above who use any ...   NaN  14.7   \n",
       "4      102. Men age 15 years and above who use any ki...   NaN  37.7   \n",
       "...                                                  ...   ...   ...   \n",
       "33379  95. Elevated blood pressure (Systolic ≥140 mm ...   NaN  19.9   \n",
       "33380  95. Mildly elevated blood pressure (Systolic 1...   NaN  11.3   \n",
       "33381  96. Moderately or severely elevated blood pres...   NaN   3.3   \n",
       "33382  98.Ever undergone a screening test for cervica...   NaN   0.9   \n",
       "33383  99.Ever undergone a breast examination for bre...   NaN   0.2   \n",
       "\n",
       "        districts          UID2  rainfall_2016  rainfall_2020  nl_2016  \\\n",
       "0      Ahmednagar  AhmednagarMH       0.099904       0.137043   0.5395   \n",
       "1      Ahmednagar  AhmednagarMH       0.099904       0.137043   0.5395   \n",
       "2      Ahmednagar  AhmednagarMH       0.099904       0.137043   0.5395   \n",
       "3      Ahmednagar  AhmednagarMH       0.099904       0.137043   0.5395   \n",
       "4      Ahmednagar  AhmednagarMH       0.099904       0.137043   0.5395   \n",
       "...           ...           ...            ...            ...      ...   \n",
       "33379         NaN           NaN            NaN            NaN      NaN   \n",
       "33380         NaN           NaN            NaN            NaN      NaN   \n",
       "33381         NaN           NaN            NaN            NaN      NaN   \n",
       "33382         NaN           NaN            NaN            NaN      NaN   \n",
       "33383         NaN           NaN            NaN            NaN      NaN   \n",
       "\n",
       "        nl_2020  \n",
       "0      1.159334  \n",
       "1      1.159334  \n",
       "2      1.159334  \n",
       "3      1.159334  \n",
       "4      1.159334  \n",
       "...         ...  \n",
       "33379       NaN  \n",
       "33380       NaN  \n",
       "33381       NaN  \n",
       "33382       NaN  \n",
       "33383       NaN  \n",
       "\n",
       "[33384 rows x 12 columns]"
      ],
      "text/html": "<div>\n<style scoped>\n    .dataframe tbody tr th:only-of-type {\n        vertical-align: middle;\n    }\n\n    .dataframe tbody tr th {\n        vertical-align: top;\n    }\n\n    .dataframe thead th {\n        text-align: right;\n    }\n</style>\n<table border=\"1\" class=\"dataframe\">\n  <thead>\n    <tr style=\"text-align: right;\">\n      <th></th>\n      <th>Unnamed: 0</th>\n      <th>District</th>\n      <th>states</th>\n      <th>variable</th>\n      <th>2016</th>\n      <th>2020</th>\n      <th>districts</th>\n      <th>UID2</th>\n      <th>rainfall_2016</th>\n      <th>rainfall_2020</th>\n      <th>nl_2016</th>\n      <th>nl_2020</th>\n    </tr>\n  </thead>\n  <tbody>\n    <tr>\n      <th>0</th>\n      <td>0</td>\n      <td>Ahmednagar</td>\n      <td>MH</td>\n      <td>1. Female population age 6 years and above who...</td>\n      <td>75.4</td>\n      <td>77.4</td>\n      <td>Ahmednagar</td>\n      <td>AhmednagarMH</td>\n      <td>0.099904</td>\n      <td>0.137043</td>\n      <td>0.5395</td>\n      <td>1.159334</td>\n    </tr>\n    <tr>\n      <th>1</th>\n      <td>1</td>\n      <td>Ahmednagar</td>\n      <td>MH</td>\n      <td>10. Households using clean fuel for cooking3 (...</td>\n      <td>57.8</td>\n      <td>77.4</td>\n      <td>Ahmednagar</td>\n      <td>AhmednagarMH</td>\n      <td>0.099904</td>\n      <td>0.137043</td>\n      <td>0.5395</td>\n      <td>1.159334</td>\n    </tr>\n    <tr>\n      <th>2</th>\n      <td>2</td>\n      <td>Ahmednagar</td>\n      <td>MH</td>\n      <td>100. Ever undergone an oral cavity examination...</td>\n      <td>14.4</td>\n      <td>0.2</td>\n      <td>Ahmednagar</td>\n      <td>AhmednagarMH</td>\n      <td>0.099904</td>\n      <td>0.137043</td>\n      <td>0.5395</td>\n      <td>1.159334</td>\n    </tr>\n    <tr>\n      <th>3</th>\n      <td>3</td>\n      <td>Ahmednagar</td>\n      <td>MH</td>\n      <td>101. Women age 15 years and above who use any ...</td>\n      <td>NaN</td>\n      <td>14.7</td>\n      <td>Ahmednagar</td>\n      <td>AhmednagarMH</td>\n      <td>0.099904</td>\n      <td>0.137043</td>\n      <td>0.5395</td>\n      <td>1.159334</td>\n    </tr>\n    <tr>\n      <th>4</th>\n      <td>4</td>\n      <td>Ahmednagar</td>\n      <td>MH</td>\n      <td>102. Men age 15 years and above who use any ki...</td>\n      <td>NaN</td>\n      <td>37.7</td>\n      <td>Ahmednagar</td>\n      <td>AhmednagarMH</td>\n      <td>0.099904</td>\n      <td>0.137043</td>\n      <td>0.5395</td>\n      <td>1.159334</td>\n    </tr>\n    <tr>\n      <th>...</th>\n      <td>...</td>\n      <td>...</td>\n      <td>...</td>\n      <td>...</td>\n      <td>...</td>\n      <td>...</td>\n      <td>...</td>\n      <td>...</td>\n      <td>...</td>\n      <td>...</td>\n      <td>...</td>\n      <td>...</td>\n    </tr>\n    <tr>\n      <th>33379</th>\n      <td>25787</td>\n      <td>Sepahijala</td>\n      <td>TR</td>\n      <td>95. Elevated blood pressure (Systolic ≥140 mm ...</td>\n      <td>NaN</td>\n      <td>19.9</td>\n      <td>NaN</td>\n      <td>NaN</td>\n      <td>NaN</td>\n      <td>NaN</td>\n      <td>NaN</td>\n      <td>NaN</td>\n    </tr>\n    <tr>\n      <th>33380</th>\n      <td>25788</td>\n      <td>Sepahijala</td>\n      <td>TR</td>\n      <td>95. Mildly elevated blood pressure (Systolic 1...</td>\n      <td>NaN</td>\n      <td>11.3</td>\n      <td>NaN</td>\n      <td>NaN</td>\n      <td>NaN</td>\n      <td>NaN</td>\n      <td>NaN</td>\n      <td>NaN</td>\n    </tr>\n    <tr>\n      <th>33381</th>\n      <td>25789</td>\n      <td>Sepahijala</td>\n      <td>TR</td>\n      <td>96. Moderately or severely elevated blood pres...</td>\n      <td>NaN</td>\n      <td>3.3</td>\n      <td>NaN</td>\n      <td>NaN</td>\n      <td>NaN</td>\n      <td>NaN</td>\n      <td>NaN</td>\n      <td>NaN</td>\n    </tr>\n    <tr>\n      <th>33382</th>\n      <td>25790</td>\n      <td>Sepahijala</td>\n      <td>TR</td>\n      <td>98.Ever undergone a screening test for cervica...</td>\n      <td>NaN</td>\n      <td>0.9</td>\n      <td>NaN</td>\n      <td>NaN</td>\n      <td>NaN</td>\n      <td>NaN</td>\n      <td>NaN</td>\n      <td>NaN</td>\n    </tr>\n    <tr>\n      <th>33383</th>\n      <td>25791</td>\n      <td>Sepahijala</td>\n      <td>TR</td>\n      <td>99.Ever undergone a breast examination for bre...</td>\n      <td>NaN</td>\n      <td>0.2</td>\n      <td>NaN</td>\n      <td>NaN</td>\n      <td>NaN</td>\n      <td>NaN</td>\n      <td>NaN</td>\n      <td>NaN</td>\n    </tr>\n  </tbody>\n</table>\n<p>33384 rows × 12 columns</p>\n</div>"
     },
     "metadata": {},
     "execution_count": 259
    }
   ],
   "source": [
    "df"
   ]
  },
  {
   "cell_type": "code",
   "execution_count": 20,
   "metadata": {},
   "outputs": [],
   "source": [
    "buckets=pd.read_csv('bucket_merging (1).csv')"
   ]
  },
  {
   "cell_type": "code",
   "execution_count": 261,
   "metadata": {},
   "outputs": [
    {
     "output_type": "execute_result",
     "data": {
      "text/plain": [
       "     Classes                                     Buckets  \\\n",
       "0    Neutral            Population and Household Profile   \n",
       "1    Neutral            Population and Household Profile   \n",
       "2    Neutral            Population and Household Profile   \n",
       "3    Neutral            Population and Household Profile   \n",
       "4    Neutral            Population and Household Profile   \n",
       "5    Neutral            Population and Household Profile   \n",
       "6    Neutral            Population and Household Profile   \n",
       "7    Neutral            Population and Household Profile   \n",
       "8    Neutral            Population and Household Profile   \n",
       "9    Neutral            Population and Household Profile   \n",
       "10   Neutral            Population and Household Profile   \n",
       "11  Positive  Health Insurance/Financing Scheme Coverage   \n",
       "12   Neutral     Characteristics of Adults (15-19 Years)   \n",
       "\n",
       "                                             variable  \n",
       "0   1. Female population age 6 years and above who...  \n",
       "1           2. Population below age 15 years (%)(PHP)  \n",
       "2   3. Sex ratio of the total population (females ...  \n",
       "3   4. Sex ratio at birth for children born in the...  \n",
       "4   5. Children under age 5 years whose birth was ...  \n",
       "5   6. Deaths in the last 3 years registered with ...  \n",
       "6   7. Population living in households with electr...  \n",
       "7   8. Population living in households with an imp...  \n",
       "8   9. Population living in households that use an...  \n",
       "9   10. Households using clean fuel for cooking3 (...  \n",
       "10         11. Households using iodized salt (%)(PHP)  \n",
       "11  12. Households with any usual member covered u...  \n",
       "12  13. Children age 5 years who attended pre-prim...  "
      ],
      "text/html": "<div>\n<style scoped>\n    .dataframe tbody tr th:only-of-type {\n        vertical-align: middle;\n    }\n\n    .dataframe tbody tr th {\n        vertical-align: top;\n    }\n\n    .dataframe thead th {\n        text-align: right;\n    }\n</style>\n<table border=\"1\" class=\"dataframe\">\n  <thead>\n    <tr style=\"text-align: right;\">\n      <th></th>\n      <th>Classes</th>\n      <th>Buckets</th>\n      <th>variable</th>\n    </tr>\n  </thead>\n  <tbody>\n    <tr>\n      <th>0</th>\n      <td>Neutral</td>\n      <td>Population and Household Profile</td>\n      <td>1. Female population age 6 years and above who...</td>\n    </tr>\n    <tr>\n      <th>1</th>\n      <td>Neutral</td>\n      <td>Population and Household Profile</td>\n      <td>2. Population below age 15 years (%)(PHP)</td>\n    </tr>\n    <tr>\n      <th>2</th>\n      <td>Neutral</td>\n      <td>Population and Household Profile</td>\n      <td>3. Sex ratio of the total population (females ...</td>\n    </tr>\n    <tr>\n      <th>3</th>\n      <td>Neutral</td>\n      <td>Population and Household Profile</td>\n      <td>4. Sex ratio at birth for children born in the...</td>\n    </tr>\n    <tr>\n      <th>4</th>\n      <td>Neutral</td>\n      <td>Population and Household Profile</td>\n      <td>5. Children under age 5 years whose birth was ...</td>\n    </tr>\n    <tr>\n      <th>5</th>\n      <td>Neutral</td>\n      <td>Population and Household Profile</td>\n      <td>6. Deaths in the last 3 years registered with ...</td>\n    </tr>\n    <tr>\n      <th>6</th>\n      <td>Neutral</td>\n      <td>Population and Household Profile</td>\n      <td>7. Population living in households with electr...</td>\n    </tr>\n    <tr>\n      <th>7</th>\n      <td>Neutral</td>\n      <td>Population and Household Profile</td>\n      <td>8. Population living in households with an imp...</td>\n    </tr>\n    <tr>\n      <th>8</th>\n      <td>Neutral</td>\n      <td>Population and Household Profile</td>\n      <td>9. Population living in households that use an...</td>\n    </tr>\n    <tr>\n      <th>9</th>\n      <td>Neutral</td>\n      <td>Population and Household Profile</td>\n      <td>10. Households using clean fuel for cooking3 (...</td>\n    </tr>\n    <tr>\n      <th>10</th>\n      <td>Neutral</td>\n      <td>Population and Household Profile</td>\n      <td>11. Households using iodized salt (%)(PHP)</td>\n    </tr>\n    <tr>\n      <th>11</th>\n      <td>Positive</td>\n      <td>Health Insurance/Financing Scheme Coverage</td>\n      <td>12. Households with any usual member covered u...</td>\n    </tr>\n    <tr>\n      <th>12</th>\n      <td>Neutral</td>\n      <td>Characteristics of Adults (15-19 Years)</td>\n      <td>13. Children age 5 years who attended pre-prim...</td>\n    </tr>\n  </tbody>\n</table>\n</div>"
     },
     "metadata": {},
     "execution_count": 261
    }
   ],
   "source": [
    "buckets.head(13)"
   ]
  },
  {
   "cell_type": "code",
   "execution_count": 262,
   "metadata": {},
   "outputs": [
    {
     "output_type": "execute_result",
     "data": {
      "text/plain": [
       "33384"
      ]
     },
     "metadata": {},
     "execution_count": 262
    }
   ],
   "source": [
    "df=df.merge(buckets[['variable','Buckets']],on='variable')\n",
    "df.shape[0]"
   ]
  },
  {
   "cell_type": "code",
   "execution_count": 201,
   "metadata": {},
   "outputs": [
    {
     "output_type": "execute_result",
     "data": {
      "text/plain": [
       "array(['16. Women age 20-24 years married before age 18 years (%)(MF)',\n",
       "       '17. Births in the 5 years preceding the survey that are third or higher order (%)(MF)',\n",
       "       '18. Women age 15-19 years who were already mothers or pregnant at the time of the survey (%)(MF)',\n",
       "       '19. Women age 15-24 years who use hygienic methods of protection during their menstrual period5 (%)(MF)'],\n",
       "      dtype=object)"
      ]
     },
     "metadata": {},
     "execution_count": 201
    }
   ],
   "source": [
    "df[df['Buckets']=='Marriage and Fertility'].variable.unique()"
   ]
  },
  {
   "cell_type": "code",
   "execution_count": 11,
   "metadata": {},
   "outputs": [],
   "source": [
    "def get_int_ay(df):\n",
    "    ay_imp=[]\n",
    "    post=[]\n",
    "    for i in range(df.shape[0]):\n",
    "        if(df['states'].iat[i]!='OR') and (df['states'].iat[i]!='WB') and (df['states'].iat[i]!='DL')and (df['states'].iat[i]!='TS'):\n",
    "            ay_imp.append(1)\n",
    "        else:\n",
    "            ay_imp.append(0)\n",
    "    df['int_ay']=ay_imp\n",
    "    return df"
   ]
  },
  {
   "cell_type": "code",
   "execution_count": 5,
   "metadata": {},
   "outputs": [],
   "source": [
    "df=df.dropna(subset=['District'])"
   ]
  },
  {
   "cell_type": "code",
   "execution_count": 367,
   "metadata": {},
   "outputs": [
    {
     "output_type": "execute_result",
     "data": {
      "text/plain": [
       "       Unnamed: 0    District states  \\\n",
       "0               0  Ahmednagar     MH   \n",
       "1               1  Ahmednagar     MH   \n",
       "2               2  Ahmednagar     MH   \n",
       "3               3  Ahmednagar     MH   \n",
       "4               4  Ahmednagar     MH   \n",
       "...           ...         ...    ...   \n",
       "33379       25787  Sepahijala     TR   \n",
       "33380       25788  Sepahijala     TR   \n",
       "33381       25789  Sepahijala     TR   \n",
       "33382       25790  Sepahijala     TR   \n",
       "33383       25791  Sepahijala     TR   \n",
       "\n",
       "                                                variable  2016  2020  \\\n",
       "0      1. Female population age 6 years and above who...  75.4  77.4   \n",
       "1      10. Households using clean fuel for cooking3 (...  57.8  77.4   \n",
       "2      100. Ever undergone an oral cavity examination...  14.4   0.2   \n",
       "3      101. Women age 15 years and above who use any ...   NaN  14.7   \n",
       "4      102. Men age 15 years and above who use any ki...   NaN  37.7   \n",
       "...                                                  ...   ...   ...   \n",
       "33379  95. Elevated blood pressure (Systolic ≥140 mm ...   NaN  19.9   \n",
       "33380  95. Mildly elevated blood pressure (Systolic 1...   NaN  11.3   \n",
       "33381  96. Moderately or severely elevated blood pres...   NaN   3.3   \n",
       "33382  98.Ever undergone a screening test for cervica...   NaN   0.9   \n",
       "33383  99.Ever undergone a breast examination for bre...   NaN   0.2   \n",
       "\n",
       "        districts          UID2  rainfall_2016  rainfall_2020  nl_2016  \\\n",
       "0      Ahmednagar  AhmednagarMH       0.099904       0.137043   0.5395   \n",
       "1      Ahmednagar  AhmednagarMH       0.099904       0.137043   0.5395   \n",
       "2      Ahmednagar  AhmednagarMH       0.099904       0.137043   0.5395   \n",
       "3      Ahmednagar  AhmednagarMH       0.099904       0.137043   0.5395   \n",
       "4      Ahmednagar  AhmednagarMH       0.099904       0.137043   0.5395   \n",
       "...           ...           ...            ...            ...      ...   \n",
       "33379         NaN           NaN            NaN            NaN      NaN   \n",
       "33380         NaN           NaN            NaN            NaN      NaN   \n",
       "33381         NaN           NaN            NaN            NaN      NaN   \n",
       "33382         NaN           NaN            NaN            NaN      NaN   \n",
       "33383         NaN           NaN            NaN            NaN      NaN   \n",
       "\n",
       "        nl_2020  int_ay  \n",
       "0      1.159334       1  \n",
       "1      1.159334       1  \n",
       "2      1.159334       1  \n",
       "3      1.159334       1  \n",
       "4      1.159334       1  \n",
       "...         ...     ...  \n",
       "33379       NaN       1  \n",
       "33380       NaN       1  \n",
       "33381       NaN       1  \n",
       "33382       NaN       1  \n",
       "33383       NaN       1  \n",
       "\n",
       "[33384 rows x 13 columns]"
      ],
      "text/html": "<div>\n<style scoped>\n    .dataframe tbody tr th:only-of-type {\n        vertical-align: middle;\n    }\n\n    .dataframe tbody tr th {\n        vertical-align: top;\n    }\n\n    .dataframe thead th {\n        text-align: right;\n    }\n</style>\n<table border=\"1\" class=\"dataframe\">\n  <thead>\n    <tr style=\"text-align: right;\">\n      <th></th>\n      <th>Unnamed: 0</th>\n      <th>District</th>\n      <th>states</th>\n      <th>variable</th>\n      <th>2016</th>\n      <th>2020</th>\n      <th>districts</th>\n      <th>UID2</th>\n      <th>rainfall_2016</th>\n      <th>rainfall_2020</th>\n      <th>nl_2016</th>\n      <th>nl_2020</th>\n      <th>int_ay</th>\n    </tr>\n  </thead>\n  <tbody>\n    <tr>\n      <th>0</th>\n      <td>0</td>\n      <td>Ahmednagar</td>\n      <td>MH</td>\n      <td>1. Female population age 6 years and above who...</td>\n      <td>75.4</td>\n      <td>77.4</td>\n      <td>Ahmednagar</td>\n      <td>AhmednagarMH</td>\n      <td>0.099904</td>\n      <td>0.137043</td>\n      <td>0.5395</td>\n      <td>1.159334</td>\n      <td>1</td>\n    </tr>\n    <tr>\n      <th>1</th>\n      <td>1</td>\n      <td>Ahmednagar</td>\n      <td>MH</td>\n      <td>10. Households using clean fuel for cooking3 (...</td>\n      <td>57.8</td>\n      <td>77.4</td>\n      <td>Ahmednagar</td>\n      <td>AhmednagarMH</td>\n      <td>0.099904</td>\n      <td>0.137043</td>\n      <td>0.5395</td>\n      <td>1.159334</td>\n      <td>1</td>\n    </tr>\n    <tr>\n      <th>2</th>\n      <td>2</td>\n      <td>Ahmednagar</td>\n      <td>MH</td>\n      <td>100. Ever undergone an oral cavity examination...</td>\n      <td>14.4</td>\n      <td>0.2</td>\n      <td>Ahmednagar</td>\n      <td>AhmednagarMH</td>\n      <td>0.099904</td>\n      <td>0.137043</td>\n      <td>0.5395</td>\n      <td>1.159334</td>\n      <td>1</td>\n    </tr>\n    <tr>\n      <th>3</th>\n      <td>3</td>\n      <td>Ahmednagar</td>\n      <td>MH</td>\n      <td>101. Women age 15 years and above who use any ...</td>\n      <td>NaN</td>\n      <td>14.7</td>\n      <td>Ahmednagar</td>\n      <td>AhmednagarMH</td>\n      <td>0.099904</td>\n      <td>0.137043</td>\n      <td>0.5395</td>\n      <td>1.159334</td>\n      <td>1</td>\n    </tr>\n    <tr>\n      <th>4</th>\n      <td>4</td>\n      <td>Ahmednagar</td>\n      <td>MH</td>\n      <td>102. Men age 15 years and above who use any ki...</td>\n      <td>NaN</td>\n      <td>37.7</td>\n      <td>Ahmednagar</td>\n      <td>AhmednagarMH</td>\n      <td>0.099904</td>\n      <td>0.137043</td>\n      <td>0.5395</td>\n      <td>1.159334</td>\n      <td>1</td>\n    </tr>\n    <tr>\n      <th>...</th>\n      <td>...</td>\n      <td>...</td>\n      <td>...</td>\n      <td>...</td>\n      <td>...</td>\n      <td>...</td>\n      <td>...</td>\n      <td>...</td>\n      <td>...</td>\n      <td>...</td>\n      <td>...</td>\n      <td>...</td>\n      <td>...</td>\n    </tr>\n    <tr>\n      <th>33379</th>\n      <td>25787</td>\n      <td>Sepahijala</td>\n      <td>TR</td>\n      <td>95. Elevated blood pressure (Systolic ≥140 mm ...</td>\n      <td>NaN</td>\n      <td>19.9</td>\n      <td>NaN</td>\n      <td>NaN</td>\n      <td>NaN</td>\n      <td>NaN</td>\n      <td>NaN</td>\n      <td>NaN</td>\n      <td>1</td>\n    </tr>\n    <tr>\n      <th>33380</th>\n      <td>25788</td>\n      <td>Sepahijala</td>\n      <td>TR</td>\n      <td>95. Mildly elevated blood pressure (Systolic 1...</td>\n      <td>NaN</td>\n      <td>11.3</td>\n      <td>NaN</td>\n      <td>NaN</td>\n      <td>NaN</td>\n      <td>NaN</td>\n      <td>NaN</td>\n      <td>NaN</td>\n      <td>1</td>\n    </tr>\n    <tr>\n      <th>33381</th>\n      <td>25789</td>\n      <td>Sepahijala</td>\n      <td>TR</td>\n      <td>96. Moderately or severely elevated blood pres...</td>\n      <td>NaN</td>\n      <td>3.3</td>\n      <td>NaN</td>\n      <td>NaN</td>\n      <td>NaN</td>\n      <td>NaN</td>\n      <td>NaN</td>\n      <td>NaN</td>\n      <td>1</td>\n    </tr>\n    <tr>\n      <th>33382</th>\n      <td>25790</td>\n      <td>Sepahijala</td>\n      <td>TR</td>\n      <td>98.Ever undergone a screening test for cervica...</td>\n      <td>NaN</td>\n      <td>0.9</td>\n      <td>NaN</td>\n      <td>NaN</td>\n      <td>NaN</td>\n      <td>NaN</td>\n      <td>NaN</td>\n      <td>NaN</td>\n      <td>1</td>\n    </tr>\n    <tr>\n      <th>33383</th>\n      <td>25791</td>\n      <td>Sepahijala</td>\n      <td>TR</td>\n      <td>99.Ever undergone a breast examination for bre...</td>\n      <td>NaN</td>\n      <td>0.2</td>\n      <td>NaN</td>\n      <td>NaN</td>\n      <td>NaN</td>\n      <td>NaN</td>\n      <td>NaN</td>\n      <td>NaN</td>\n      <td>1</td>\n    </tr>\n  </tbody>\n</table>\n<p>33384 rows × 13 columns</p>\n</div>"
     },
     "metadata": {},
     "execution_count": 367
    }
   ],
   "source": [
    "df"
   ]
  },
  {
   "cell_type": "code",
   "execution_count": 137,
   "metadata": {},
   "outputs": [],
   "source": [
    "def process_df(df):\n",
    "    for i in ['2016','2020']:\n",
    "\n",
    "        for j in range(df.shape[0]):\n",
    "            if(isinstance(df[i].iat[j],str)):\n",
    "                df[i].iat[j]=df[i].iat[j].replace(',','')\n",
    "                df[i].iat[j]=df[i].iat[j].replace('(','')\n",
    "                df[i].iat[j]=df[i].iat[j].replace(')','')\n",
    "                df[i].iat[j]=df[i].iat[j].replace('-','')\n",
    "                if(df[i].iat[j]!='na' and df[i].iat[j]!='*' and df[i].iat[j]!='nan' and df[i].iat[j]!=' *'):\n",
    "                    df[i].iat[j]=float(df[i].iat[j])\n",
    "        \n",
    "        for j in range(df.shape[0]):\n",
    "            if(isinstance(df[i].iat[j],int) or isinstance(df[i].iat[j],float)):\n",
    "                df[i].iat[j]=abs(df[i].iat[j])   \n",
    "            if(df[i].iat[j]=='na' or df[i].iat[j]=='*' or df[i].iat[j]=='nan' or df[i].iat[j]==' *'):\n",
    "                    df[i].iat[j]=None\n",
    "    s_r=['3. Sex ratio of the total population (females per 1,000 males)(PHP)','4. Sex ratio at birth for children born in the last five years (females per 1,000 males)(PHP)']\n",
    "    avg=['39. Average out-of-pocket expenditure per delivery in a public health facility (Rs.)(DC(LB 5Years))']\n",
    "    for i in range(df.shape[0]):\n",
    "        if(df.variable.iat[i] in s_r):\n",
    "            df['2020'].iat[i]=df['2020'].iat[i]/10\n",
    "            df['2016'].iat[i]=df['2016'].iat[i]/10\n",
    "        #if(df.variable.iat[i] in avg and df.variable.iat[i]):\n",
    "            #df['2020'].iat[i]=df['2020'].astype('float64').iat[i]*100/117.421\n",
    "    return df"
   ]
  },
  {
   "cell_type": "code",
   "execution_count": 266,
   "metadata": {},
   "outputs": [],
   "source": [
    "df['rf_change']=df['rainfall_2020'].astype('float64')-df['rainfall_2016'].astype('float64')\n",
    "df['nl_change']=df['nl_2020'].astype('float64')-df['nl_2016'].astype('float64')"
   ]
  },
  {
   "cell_type": "code",
   "execution_count": 469,
   "metadata": {},
   "outputs": [
    {
     "output_type": "execute_result",
     "data": {
      "text/plain": [
       "                     0.9                     \n",
       "                         2020                                                5.2                     \n",
       "Aizawl     MZ     1      2016                                                5.2                     \n",
       "                         2020                                                6.8                     \n",
       "Akola      MH     1      2016                                                4.1                     \n",
       "...                                                                          ...                     \n",
       "Yadgir     KA     1      2020                                                5.9                     \n",
       "Yavatmal   MH     1      2016                                                  3                     \n",
       "                         2020                                                5.9                     \n",
       "Zunheboto  NL     1      2016                                                  3                     \n",
       "                         2020                                                4.6                     \n",
       "\n",
       "                                                                                                                                                            \\\n",
       "variable                      91. Blood sugar level - high or very high (>140 mg/dl) or taking medicine to control blood sugar level23 (%)(HA(Age >=15)-w)   \n",
       "District   states int_ay Year                                                                                                                                \n",
       "Ahmednagar MH     1      2016                                                4.9                                                                             \n",
       "                         2020                                               12.5                                                                             \n",
       "Aizawl     MZ     1      2016                                                8.7                                                                             \n",
       "                         2020                                               17.3                                                                             \n",
       "Akola      MH     1      2016                                                6.9                                                                             \n",
       "...                                                                          ...                                                                             \n",
       "Yadgir     KA     1      2020                                               13.1                                                                             \n",
       "Yavatmal   MH     1      2016                                                5.6                                                                             \n",
       "                         2020                                               13.1                                                                             \n",
       "Zunheboto  NL     1      2016                                                9.6                                                                             \n",
       "                         2020                                                9.9                                                                             \n",
       "\n",
       "                                                                                                                                                  \\\n",
       "variable                      92. Mildly elevated blood pressure (Systolic 140-159 mm of Hg and/or Diastolic 90-99 mm of Hg) (%)(HA(Age >=15)-m)   \n",
       "District   states int_ay Year                                                                                                                      \n",
       "Ahmednagar MH     1      2016                                                1.9                                                                   \n",
       "                         2020                                               13.4                                                                   \n",
       "Aizawl     MZ     1      2016                                                2.1                                                                   \n",
       "                         2020                                               14.1                                                                   \n",
       "Akola      MH     1      2016                                                1.4                                                                   \n",
       "...                                                                          ...                                                                   \n",
       "Yadgir     KA     1      2020                                               10.6                                                                   \n",
       "Yavatmal   MH     1      2016                                                1.2                                                                   \n",
       "                         2020                                               10.6                                                                   \n",
       "Zunheboto  NL     1      2016                                                4.8                                                                   \n",
       "                         2020                                               22.5                                                                   \n",
       "\n",
       "                                                                                                                                                            \\\n",
       "variable                      93. Moderately or severely elevated blood pressure (Systolic ≥160mm of Hg and/or Diastolic ≥100mm of Hg) (%)(HA(Age >=15)-m)   \n",
       "District   states int_ay Year                                                                                                                                \n",
       "Ahmednagar MH     1      2016                                                0.8                                                                             \n",
       "                         2020                                                5.1                                                                             \n",
       "Aizawl     MZ     1      2016                                                0.5                                                                             \n",
       "                         2020                                                2.7                                                                             \n",
       "Akola      MH     1      2016                                                1.6                                                                             \n",
       "...                                                                          ...                                                                             \n",
       "Yadgir     KA     1      2020                                                4.5                                                                             \n",
       "Yavatmal   MH     1      2016                                                0.6                                                                             \n",
       "                         2020                                                4.5                                                                             \n",
       "Zunheboto  NL     1      2016                                                2.1                                                                             \n",
       "                         2020                                               10.5                                                                             \n",
       "\n",
       "                                                                                                                                                                                   \\\n",
       "variable                      94. Elevated blood pressure (Systolic ≥140 mm of Hg and/or Diastolic ≥90 mm of Hg) or taking medicine to control blood pressure (%)(HA(Age >=15)-m)   \n",
       "District   states int_ay Year                                                                                                                                                       \n",
       "Ahmednagar MH     1      2016                                                  5                                                                                                    \n",
       "                         2020                                               23.6                                                                                                    \n",
       "Aizawl     MZ     1      2016                                               14.6                                                                                                    \n",
       "                         2020                                               23.4                                                                                                    \n",
       "Akola      MH     1      2016                                                8.7                                                                                                    \n",
       "...                                                                          ...                                                                                                    \n",
       "Yadgir     KA     1      2020                                               17.5                                                                                                    \n",
       "Yavatmal   MH     1      2016                                                2.6                                                                                                    \n",
       "                         2020                                               17.5                                                                                                    \n",
       "Zunheboto  NL     1      2016                                               15.8                                                                                                    \n",
       "                         2020                                               33.2                                                                                                    \n",
       "\n",
       "                                                                                                                                                                                  \\\n",
       "variable                      95. Elevated blood pressure (Systolic ≥140 mm of Hg and/or Diastolic ≥90 mm of Hg) or taking medicine to control blood pressure(%)(SCW(Age 30-49))   \n",
       "District   states int_ay Year                                                                                                                                                      \n",
       "Ahmednagar MH     1      2016                                               None                                                                                                   \n",
       "                         2020                                               25.3                                                                                                   \n",
       "Aizawl     MZ     1      2016                                               None                                                                                                   \n",
       "                         2020                                               33.6                                                                                                   \n",
       "Akola      MH     1      2016                                               None                                                                                                   \n",
       "...                                                                          ...                                                                                                   \n",
       "Yadgir     KA     1      2020                                                 18                                                                                                   \n",
       "Yavatmal   MH     1      2016                                               None                                                                                                   \n",
       "                         2020                                                 18                                                                                                   \n",
       "Zunheboto  NL     1      2016                                               None                                                                                                   \n",
       "                         2020                                               41.2                                                                                                   \n",
       "\n",
       "                                                                                                                                                  \\\n",
       "variable                      95. Mildly elevated blood pressure (Systolic 140-159 mm of Hg and/or Diastolic 90-99 mm of Hg) (%)(SCW(Age 30-49))   \n",
       "District   states int_ay Year                                                                                                                      \n",
       "Ahmednagar MH     1      2016                                               None                                                                   \n",
       "                         2020                                                 16                                                                   \n",
       "Aizawl     MZ     1      2016                                               None                                                                   \n",
       "                         2020                                               19.8                                                                   \n",
       "Akola      MH     1      2016                                               None                                                                   \n",
       "...                                                                          ...                                                                   \n",
       "Yadgir     KA     1      2020                                               11.2                                                                   \n",
       "Yavatmal   MH     1      2016                                               None                                                                   \n",
       "                         2020                                               11.2                                                                   \n",
       "Zunheboto  NL     1      2016                                               None                                                                   \n",
       "                         2020                                               29.2                                                                   \n",
       "\n",
       "                                                                                                                                                            \\\n",
       "variable                      96. Moderately or severely elevated blood pressure (Systolic ≥160mm of Hg and/or Diastolic ≥100mm of Hg) (%)(SCW(Age 30-49))   \n",
       "District   states int_ay Year                                                                                                                                \n",
       "Ahmednagar MH     1      2016                                                7.1                                                                             \n",
       "                         2020                                                6.3                                                                             \n",
       "Aizawl     MZ     1      2016                                                  6                                                                             \n",
       "                         2020                                                6.8                                                                             \n",
       "Akola      MH     1      2016                                                1.4                                                                             \n",
       "...                                                                          ...                                                                             \n",
       "Yadgir     KA     1      2020                                                4.5                                                                             \n",
       "Yavatmal   MH     1      2016                                                3.5                                                                             \n",
       "                         2020                                                4.5                                                                             \n",
       "Zunheboto  NL     1      2016                                                3.1                                                                             \n",
       "                         2020                                               11.8                                                                             \n",
       "\n",
       "                                                                                                           \\\n",
       "variable                      98.Ever undergone a screening test for cervical cancer (%)(TUACA(Age>=150))   \n",
       "District   states int_ay Year                                                                               \n",
       "Ahmednagar MH     1      2016                                               52.8                            \n",
       "                         2020                                                1.3                            \n",
       "Aizawl     MZ     1      2016                                               25.7                            \n",
       "                         2020                                               10.8                            \n",
       "Akola      MH     1      2016                                               32.7                            \n",
       "...                                                                          ...                            \n",
       "Yadgir     KA     1      2020                                                  0                            \n",
       "Yavatmal   MH     1      2016                                               49.2                            \n",
       "                         2020                                                  0                            \n",
       "Zunheboto  NL     1      2016                                               14.3                            \n",
       "                         2020                                                0.2                            \n",
       "\n",
       "                                                                                                             \n",
       "variable                      99.Ever undergone a breast examination for breast cancer (%)(TUACA(Age>=150))  \n",
       "District   states int_ay Year                                                                                \n",
       "Ahmednagar MH     1      2016                                               28.9                             \n",
       "                         2020                                                0.2                             \n",
       "Aizawl     MZ     1      2016                                               10.2                             \n",
       "                         2020                                                4.7                             \n",
       "Akola      MH     1      2016                                                9.3                             \n",
       "...                                                                          ...                             \n",
       "Yadgir     KA     1      2020                                                0.1                             \n",
       "Yavatmal   MH     1      2016                                               35.9                             \n",
       "                         2020                                                0.1                             \n",
       "Zunheboto  NL     1      2016                                                  2                             \n",
       "                         2020                                                0.4                             \n",
       "\n",
       "[646 rows x 104 columns]"
      ],
      "text/html": "<div>\n<style scoped>\n    .dataframe tbody tr th:only-of-type {\n        vertical-align: middle;\n    }\n\n    .dataframe tbody tr th {\n        vertical-align: top;\n    }\n\n    .dataframe thead tr th {\n        text-align: left;\n    }\n\n    .dataframe thead tr:last-of-type th {\n        text-align: right;\n    }\n</style>\n<table border=\"1\" class=\"dataframe\">\n  <thead>\n    <tr>\n      <th></th>\n      <th></th>\n      <th></th>\n      <th></th>\n      <th colspan=\"21\" halign=\"left\">value</th>\n    </tr>\n    <tr>\n      <th></th>\n      <th></th>\n      <th></th>\n      <th>variable</th>\n      <th>1. Female population age 6 years and above who ever attended school (%)(PHP)</th>\n      <th>10. Households using clean fuel for cooking3 (%)(PHP)</th>\n      <th>100. Ever undergone an oral cavity examination for oral cancer (%)(TUACA(Age&gt;=150))</th>\n      <th>101. Women age 15 years and above who use any kind of tobacco (%)(TUACA(Age&gt;=150))</th>\n      <th>102. Men age 15 years and above who use any kind of tobacco (%)(TUACA(Age&gt;=150))</th>\n      <th>103. Women age 15 years and above who consume alcohol (%)(TUACA(Age&gt;=150))</th>\n      <th>104. Men age 15 years and above who consume alcohol (%)(TUACA(Age&gt;=150))</th>\n      <th>11. Households using iodized salt (%)(PHP)</th>\n      <th>12. Households with any usual member covered under a health insurance/financing scheme (%)(PHP)</th>\n      <th>13. Children age 5 years who attended pre-primary school during the school year 2019-20 (%)(PHP)</th>\n      <th>...</th>\n      <th>90. Blood sugar level - very high (&gt;160 mg/dl)23 (%)(HA(Age &gt;=15)-w)</th>\n      <th>91. Blood sugar level - high or very high (&gt;140 mg/dl) or taking medicine to control blood sugar level23 (%)(HA(Age &gt;=15)-w)</th>\n      <th>92. Mildly elevated blood pressure (Systolic 140-159 mm of Hg and/or Diastolic 90-99 mm of Hg) (%)(HA(Age &gt;=15)-m)</th>\n      <th>93. Moderately or severely elevated blood pressure (Systolic ≥160mm of Hg and/or Diastolic ≥100mm of Hg) (%)(HA(Age &gt;=15)-m)</th>\n      <th>94. Elevated blood pressure (Systolic ≥140 mm of Hg and/or Diastolic ≥90 mm of Hg) or taking medicine to control blood pressure (%)(HA(Age &gt;=15)-m)</th>\n      <th>95. Elevated blood pressure (Systolic ≥140 mm of Hg and/or Diastolic ≥90 mm of Hg) or taking medicine to control blood pressure(%)(SCW(Age 30-49))</th>\n      <th>95. Mildly elevated blood pressure (Systolic 140-159 mm of Hg and/or Diastolic 90-99 mm of Hg) (%)(SCW(Age 30-49))</th>\n      <th>96. Moderately or severely elevated blood pressure (Systolic ≥160mm of Hg and/or Diastolic ≥100mm of Hg) (%)(SCW(Age 30-49))</th>\n      <th>98.Ever undergone a screening test for cervical cancer (%)(TUACA(Age&gt;=150))</th>\n      <th>99.Ever undergone a breast examination for breast cancer (%)(TUACA(Age&gt;=150))</th>\n    </tr>\n    <tr>\n      <th>District</th>\n      <th>states</th>\n      <th>int_ay</th>\n      <th>Year</th>\n      <th></th>\n      <th></th>\n      <th></th>\n      <th></th>\n      <th></th>\n      <th></th>\n      <th></th>\n      <th></th>\n      <th></th>\n      <th></th>\n      <th></th>\n      <th></th>\n      <th></th>\n      <th></th>\n      <th></th>\n      <th></th>\n      <th></th>\n      <th></th>\n      <th></th>\n      <th></th>\n      <th></th>\n    </tr>\n  </thead>\n  <tbody>\n    <tr>\n      <th rowspan=\"2\" valign=\"top\">Ahmednagar</th>\n      <th rowspan=\"2\" valign=\"top\">MH</th>\n      <th rowspan=\"2\" valign=\"top\">1</th>\n      <th>2016</th>\n      <td>75.4</td>\n      <td>57.8</td>\n      <td>14.4</td>\n      <td>None</td>\n      <td>None</td>\n      <td>None</td>\n      <td>None</td>\n      <td>94.9</td>\n      <td>10</td>\n      <td>None</td>\n      <td>...</td>\n      <td>0.9</td>\n      <td>4.9</td>\n      <td>1.9</td>\n      <td>0.8</td>\n      <td>5</td>\n      <td>None</td>\n      <td>None</td>\n      <td>7.1</td>\n      <td>52.8</td>\n      <td>28.9</td>\n    </tr>\n    <tr>\n      <th>2020</th>\n      <td>77.4</td>\n      <td>77.4</td>\n      <td>0.2</td>\n      <td>14.7</td>\n      <td>37.7</td>\n      <td>0.2</td>\n      <td>10.5</td>\n      <td>95.5</td>\n      <td>12</td>\n      <td>21.6</td>\n      <td>...</td>\n      <td>5.2</td>\n      <td>12.5</td>\n      <td>13.4</td>\n      <td>5.1</td>\n      <td>23.6</td>\n      <td>25.3</td>\n      <td>16</td>\n      <td>6.3</td>\n      <td>1.3</td>\n      <td>0.2</td>\n    </tr>\n    <tr>\n      <th rowspan=\"2\" valign=\"top\">Aizawl</th>\n      <th rowspan=\"2\" valign=\"top\">MZ</th>\n      <th rowspan=\"2\" valign=\"top\">1</th>\n      <th>2016</th>\n      <td>95.9</td>\n      <td>87.5</td>\n      <td>33.7</td>\n      <td>None</td>\n      <td>None</td>\n      <td>None</td>\n      <td>None</td>\n      <td>98.8</td>\n      <td>38.1</td>\n      <td>None</td>\n      <td>...</td>\n      <td>5.2</td>\n      <td>8.7</td>\n      <td>2.1</td>\n      <td>0.5</td>\n      <td>14.6</td>\n      <td>None</td>\n      <td>None</td>\n      <td>6</td>\n      <td>25.7</td>\n      <td>10.2</td>\n    </tr>\n    <tr>\n      <th>2020</th>\n      <td>97.8</td>\n      <td>95.4</td>\n      <td>1.6</td>\n      <td>54.7</td>\n      <td>68.7</td>\n      <td>1</td>\n      <td>25.8</td>\n      <td>99.2</td>\n      <td>37.5</td>\n      <td>8.7</td>\n      <td>...</td>\n      <td>6.8</td>\n      <td>17.3</td>\n      <td>14.1</td>\n      <td>2.7</td>\n      <td>23.4</td>\n      <td>33.6</td>\n      <td>19.8</td>\n      <td>6.8</td>\n      <td>10.8</td>\n      <td>4.7</td>\n    </tr>\n    <tr>\n      <th>Akola</th>\n      <th>MH</th>\n      <th>1</th>\n      <th>2016</th>\n      <td>83</td>\n      <td>23.4</td>\n      <td>11</td>\n      <td>None</td>\n      <td>None</td>\n      <td>None</td>\n      <td>None</td>\n      <td>98.1</td>\n      <td>18</td>\n      <td>None</td>\n      <td>...</td>\n      <td>4.1</td>\n      <td>6.9</td>\n      <td>1.4</td>\n      <td>1.6</td>\n      <td>8.7</td>\n      <td>None</td>\n      <td>None</td>\n      <td>1.4</td>\n      <td>32.7</td>\n      <td>9.3</td>\n    </tr>\n    <tr>\n      <th>...</th>\n      <th>...</th>\n      <th>...</th>\n      <th>...</th>\n      <td>...</td>\n      <td>...</td>\n      <td>...</td>\n      <td>...</td>\n      <td>...</td>\n      <td>...</td>\n      <td>...</td>\n      <td>...</td>\n      <td>...</td>\n      <td>...</td>\n      <td>...</td>\n      <td>...</td>\n      <td>...</td>\n      <td>...</td>\n      <td>...</td>\n      <td>...</td>\n      <td>...</td>\n      <td>...</td>\n      <td>...</td>\n      <td>...</td>\n      <td>...</td>\n    </tr>\n    <tr>\n      <th>Yadgir</th>\n      <th>KA</th>\n      <th>1</th>\n      <th>2020</th>\n      <td>51.9</td>\n      <td>48.8</td>\n      <td>0.2</td>\n      <td>14.6</td>\n      <td>31.8</td>\n      <td>1.1</td>\n      <td>19.4</td>\n      <td>76.3</td>\n      <td>16.7</td>\n      <td>6.2</td>\n      <td>...</td>\n      <td>5.9</td>\n      <td>13.1</td>\n      <td>10.6</td>\n      <td>4.5</td>\n      <td>17.5</td>\n      <td>18</td>\n      <td>11.2</td>\n      <td>4.5</td>\n      <td>0</td>\n      <td>0.1</td>\n    </tr>\n    <tr>\n      <th rowspan=\"2\" valign=\"top\">Yavatmal</th>\n      <th rowspan=\"2\" valign=\"top\">MH</th>\n      <th rowspan=\"2\" valign=\"top\">1</th>\n      <th>2016</th>\n      <td>76.1</td>\n      <td>37.2</td>\n      <td>30.9</td>\n      <td>None</td>\n      <td>None</td>\n      <td>None</td>\n      <td>None</td>\n      <td>98</td>\n      <td>14.9</td>\n      <td>None</td>\n      <td>...</td>\n      <td>3</td>\n      <td>5.6</td>\n      <td>1.2</td>\n      <td>0.6</td>\n      <td>2.6</td>\n      <td>None</td>\n      <td>None</td>\n      <td>3.5</td>\n      <td>49.2</td>\n      <td>35.9</td>\n    </tr>\n    <tr>\n      <th>2020</th>\n      <td>51.9</td>\n      <td>48.8</td>\n      <td>0.2</td>\n      <td>14.6</td>\n      <td>31.8</td>\n      <td>1.1</td>\n      <td>19.4</td>\n      <td>76.3</td>\n      <td>16.7</td>\n      <td>6.2</td>\n      <td>...</td>\n      <td>5.9</td>\n      <td>13.1</td>\n      <td>10.6</td>\n      <td>4.5</td>\n      <td>17.5</td>\n      <td>18</td>\n      <td>11.2</td>\n      <td>4.5</td>\n      <td>0</td>\n      <td>0.1</td>\n    </tr>\n    <tr>\n      <th rowspan=\"2\" valign=\"top\">Zunheboto</th>\n      <th rowspan=\"2\" valign=\"top\">NL</th>\n      <th rowspan=\"2\" valign=\"top\">1</th>\n      <th>2016</th>\n      <td>86.5</td>\n      <td>12.8</td>\n      <td>8.6</td>\n      <td>None</td>\n      <td>None</td>\n      <td>None</td>\n      <td>None</td>\n      <td>99.6</td>\n      <td>18.9</td>\n      <td>None</td>\n      <td>...</td>\n      <td>3</td>\n      <td>9.6</td>\n      <td>4.8</td>\n      <td>2.1</td>\n      <td>15.8</td>\n      <td>None</td>\n      <td>None</td>\n      <td>3.1</td>\n      <td>14.3</td>\n      <td>2</td>\n    </tr>\n    <tr>\n      <th>2020</th>\n      <td>87.4</td>\n      <td>18.6</td>\n      <td>0.7</td>\n      <td>8</td>\n      <td>48.9</td>\n      <td>0.2</td>\n      <td>21.3</td>\n      <td>99.1</td>\n      <td>18.1</td>\n      <td>0</td>\n      <td>...</td>\n      <td>4.6</td>\n      <td>9.9</td>\n      <td>22.5</td>\n      <td>10.5</td>\n      <td>33.2</td>\n      <td>41.2</td>\n      <td>29.2</td>\n      <td>11.8</td>\n      <td>0.2</td>\n      <td>0.4</td>\n    </tr>\n  </tbody>\n</table>\n<p>646 rows × 104 columns</p>\n</div>"
     },
     "metadata": {},
     "execution_count": 469
    }
   ],
   "source": [
    "new1=pd.melt(df,id_vars=['District','states','int_ay','variable'],value_vars=['2020','2016'],var_name='Year')\n",
    "new2=new1.set_index(['District','states','int_ay','variable','Year'])\n",
    "new2=new2.unstack(3)\n",
    "new2"
   ]
  },
  {
   "cell_type": "code",
   "execution_count": 470,
   "metadata": {},
   "outputs": [],
   "source": [
    "new2.to_csv('real_transposed_data_nfhs4_5.csv')"
   ]
  },
  {
   "cell_type": "code",
   "execution_count": 195,
   "metadata": {},
   "outputs": [
    {
     "output_type": "execute_result",
     "data": {
      "text/plain": [
       "array(['1. Female population age 6 years and above who ever attended school (%)(PHP)',\n",
       "       '10. Households using clean fuel for cooking3 (%)(PHP)',\n",
       "       '11. Households using iodized salt (%)(PHP)',\n",
       "       '2. Population below age 15 years (%)(PHP)',\n",
       "       '3. Sex ratio of the total population (females per 1,000 males)(PHP)',\n",
       "       '4. Sex ratio at birth for children born in the last five years (females per 1,000 males)(PHP)',\n",
       "       '5. Children under age 5 years whose birth was registered with the civil authority (%)(PHP)',\n",
       "       '6. Deaths in the last 3 years registered with the civil authority (%)(PHP)',\n",
       "       '7. Population living in households with electricity (%)(PHP)',\n",
       "       '8. Population living in households with an improved drinking-water source1 (%)(PHP)',\n",
       "       '9. Population living in households that use an improved sanitation facility2 (%)(PHP)'],\n",
       "      dtype=object)"
      ]
     },
     "metadata": {},
     "execution_count": 195
    }
   ],
   "source": [
    "df[df['Buckets']=='Population and Household Profile'].variable.unique()"
   ]
  },
  {
   "cell_type": "code",
   "execution_count": 267,
   "metadata": {},
   "outputs": [
    {
     "output_type": "execute_result",
     "data": {
      "text/plain": [
       "                                               bucket          district  \\\n",
       "0                    Population and Household Profile        Ahmednagar   \n",
       "1                    Population and Household Profile            Aizawl   \n",
       "2                    Population and Household Profile             Akola   \n",
       "3                    Population and Household Profile         Alappuzha   \n",
       "4                    Population and Household Profile          Amravati   \n",
       "...                                               ...               ...   \n",
       "6631  Hypertension among Adults (age 15-49 years) Men           Palghar   \n",
       "6632  Hypertension among Adults (age 15-49 years) Men        Peddapalli   \n",
       "6633  Hypertension among Adults (age 15-49 years) Men  Rajanna Sircilla   \n",
       "6634  Hypertension among Adults (age 15-49 years) Men        Sangareddy   \n",
       "6635  Hypertension among Adults (age 15-49 years) Men        Sepahijala   \n",
       "\n",
       "     states  int_ay       2020   2016  rf_change  nl_change  \n",
       "0        MH       1  82.136364  75.12   0.037139   0.619834  \n",
       "1        MZ       1  91.500000  88.72  -0.009650   0.249802  \n",
       "2        MH       1  91.500000  73.94   0.035971   0.599010  \n",
       "3        KL       1  95.054545  84.68   0.125358   0.986913  \n",
       "4        MH       1  95.054545  77.56   0.044344   0.510749  \n",
       "...     ...     ...        ...    ...        ...        ...  \n",
       "6631     MH       1  14.166667    NaN        NaN        NaN  \n",
       "6632     TS       0  21.566667    NaN        NaN        NaN  \n",
       "6633     TS       0  10.466667    NaN        NaN        NaN  \n",
       "6634     TS       0  20.733333    NaN        NaN        NaN  \n",
       "6635     TR       1  11.500000    NaN        NaN        NaN  \n",
       "\n",
       "[6636 rows x 8 columns]"
      ],
      "text/html": "<div>\n<style scoped>\n    .dataframe tbody tr th:only-of-type {\n        vertical-align: middle;\n    }\n\n    .dataframe tbody tr th {\n        vertical-align: top;\n    }\n\n    .dataframe thead th {\n        text-align: right;\n    }\n</style>\n<table border=\"1\" class=\"dataframe\">\n  <thead>\n    <tr style=\"text-align: right;\">\n      <th></th>\n      <th>bucket</th>\n      <th>district</th>\n      <th>states</th>\n      <th>int_ay</th>\n      <th>2020</th>\n      <th>2016</th>\n      <th>rf_change</th>\n      <th>nl_change</th>\n    </tr>\n  </thead>\n  <tbody>\n    <tr>\n      <th>0</th>\n      <td>Population and Household Profile</td>\n      <td>Ahmednagar</td>\n      <td>MH</td>\n      <td>1</td>\n      <td>82.136364</td>\n      <td>75.12</td>\n      <td>0.037139</td>\n      <td>0.619834</td>\n    </tr>\n    <tr>\n      <th>1</th>\n      <td>Population and Household Profile</td>\n      <td>Aizawl</td>\n      <td>MZ</td>\n      <td>1</td>\n      <td>91.500000</td>\n      <td>88.72</td>\n      <td>-0.009650</td>\n      <td>0.249802</td>\n    </tr>\n    <tr>\n      <th>2</th>\n      <td>Population and Household Profile</td>\n      <td>Akola</td>\n      <td>MH</td>\n      <td>1</td>\n      <td>91.500000</td>\n      <td>73.94</td>\n      <td>0.035971</td>\n      <td>0.599010</td>\n    </tr>\n    <tr>\n      <th>3</th>\n      <td>Population and Household Profile</td>\n      <td>Alappuzha</td>\n      <td>KL</td>\n      <td>1</td>\n      <td>95.054545</td>\n      <td>84.68</td>\n      <td>0.125358</td>\n      <td>0.986913</td>\n    </tr>\n    <tr>\n      <th>4</th>\n      <td>Population and Household Profile</td>\n      <td>Amravati</td>\n      <td>MH</td>\n      <td>1</td>\n      <td>95.054545</td>\n      <td>77.56</td>\n      <td>0.044344</td>\n      <td>0.510749</td>\n    </tr>\n    <tr>\n      <th>...</th>\n      <td>...</td>\n      <td>...</td>\n      <td>...</td>\n      <td>...</td>\n      <td>...</td>\n      <td>...</td>\n      <td>...</td>\n      <td>...</td>\n    </tr>\n    <tr>\n      <th>6631</th>\n      <td>Hypertension among Adults (age 15-49 years) Men</td>\n      <td>Palghar</td>\n      <td>MH</td>\n      <td>1</td>\n      <td>14.166667</td>\n      <td>NaN</td>\n      <td>NaN</td>\n      <td>NaN</td>\n    </tr>\n    <tr>\n      <th>6632</th>\n      <td>Hypertension among Adults (age 15-49 years) Men</td>\n      <td>Peddapalli</td>\n      <td>TS</td>\n      <td>0</td>\n      <td>21.566667</td>\n      <td>NaN</td>\n      <td>NaN</td>\n      <td>NaN</td>\n    </tr>\n    <tr>\n      <th>6633</th>\n      <td>Hypertension among Adults (age 15-49 years) Men</td>\n      <td>Rajanna Sircilla</td>\n      <td>TS</td>\n      <td>0</td>\n      <td>10.466667</td>\n      <td>NaN</td>\n      <td>NaN</td>\n      <td>NaN</td>\n    </tr>\n    <tr>\n      <th>6634</th>\n      <td>Hypertension among Adults (age 15-49 years) Men</td>\n      <td>Sangareddy</td>\n      <td>TS</td>\n      <td>0</td>\n      <td>20.733333</td>\n      <td>NaN</td>\n      <td>NaN</td>\n      <td>NaN</td>\n    </tr>\n    <tr>\n      <th>6635</th>\n      <td>Hypertension among Adults (age 15-49 years) Men</td>\n      <td>Sepahijala</td>\n      <td>TR</td>\n      <td>1</td>\n      <td>11.500000</td>\n      <td>NaN</td>\n      <td>NaN</td>\n      <td>NaN</td>\n    </tr>\n  </tbody>\n</table>\n<p>6636 rows × 8 columns</p>\n</div>"
     },
     "metadata": {},
     "execution_count": 267
    }
   ],
   "source": [
    "mainl=[]\n",
    "for i in df.Buckets.unique():\n",
    "    temp=df[df['Buckets']==i]\n",
    "    for j in temp.District.unique():\n",
    "        temp1=temp[temp['District']==j]\n",
    "        mean_2020=temp1['2020'].dropna().mean()\n",
    "        mean_2016=temp1['2016'].dropna().mean()\n",
    "        l=[i,j,temp1['states'].iat[0],temp1.int_ay.iat[0],mean_2020,mean_2016,temp1['rf_change'].iat[0],temp1['nl_change'].iat[0]]\n",
    "        mainl.append(l)\n",
    "new=pd.DataFrame(mainl,columns=['bucket','district','states','int_ay','2020','2016','rf_change','nl_change'])\n",
    "new"
   ]
  },
  {
   "cell_type": "code",
   "execution_count": 268,
   "metadata": {},
   "outputs": [],
   "source": [
    "new.to_csv('Buckets_transpose_correct_final_with_controls.csv')"
   ]
  },
  {
   "cell_type": "code",
   "execution_count": 320,
   "metadata": {},
   "outputs": [],
   "source": [
    "new=pd.read_csv('Buckets_transpose_correct_final_with_controls.csv')"
   ]
  },
  {
   "cell_type": "code",
   "execution_count": 145,
   "metadata": {},
   "outputs": [
    {
     "output_type": "execute_result",
     "data": {
      "text/plain": [
       "array(['Population and Household Profile',\n",
       "       'Women Age 15-49 Years Who Have Ever Undergone Examinations of: Cervix, Breast, Oral Cavity',\n",
       "       'Tobacco and Alcohol Consumption',\n",
       "       'Health Insurance/Financing Scheme Coverage',\n",
       "       'Characteristics of Adults (15-19 Years)',\n",
       "       'Marriage and Fertility',\n",
       "       'Current use of Family Planning Methods (currently Married Women Age 15-49 Years)',\n",
       "       'Unmet Need for Family Planning (currently Married Women Age 15-49 Years)',\n",
       "       'Quality of Family Planning Services', 'Maternal and Child Health',\n",
       "       'Average out of pocket expenditure per delivery in public health facility ',\n",
       "       'Delivery Care (for Births in the 5 Years before the Survey)',\n",
       "       ' Child Vaccinations and Vitamin A Supplementation',\n",
       "       'Treatment of Childhood Diseases',\n",
       "       'Child Feeding Practices and Nutritional Status of Children',\n",
       "       'Nutritional Status for Adults (Age 15-49 Years)',\n",
       "       'Anaemia among Children and Adults',\n",
       "       'Blood Sugar Level among Adults (age 15-49 years) Women',\n",
       "       'Blood Sugar Level among Adults (age 15-49 years) Men',\n",
       "       'Hypertension among Adults (age 15-49 years) Women',\n",
       "       'Hypertension among Adults (age 15-49 years) Men'], dtype=object)"
      ]
     },
     "metadata": {},
     "execution_count": 145
    }
   ],
   "source": [
    "new.bucket.unique()"
   ]
  },
  {
   "cell_type": "code",
   "execution_count": 12,
   "metadata": {},
   "outputs": [
    {
     "output_type": "execute_result",
     "data": {
      "text/plain": [
       "                               bucket             district states  int_ay  \\\n",
       "3952  Treatment of Childhood Diseases           Ahmednagar     MH       1   \n",
       "3953  Treatment of Childhood Diseases               Aizawl     MZ       1   \n",
       "3954  Treatment of Childhood Diseases                Akola     MH       1   \n",
       "3955  Treatment of Childhood Diseases            Alappuzha     KL       1   \n",
       "3956  Treatment of Childhood Diseases             Amravati     MH       1   \n",
       "...                               ...                  ...    ...     ...   \n",
       "4251  Treatment of Childhood Diseases               Y.S.R.     AP       1   \n",
       "4252  Treatment of Childhood Diseases  Yadadri Bhuvanagiri     TS       0   \n",
       "4253  Treatment of Childhood Diseases               Yadgir     KA       1   \n",
       "4254  Treatment of Childhood Diseases             Yavatmal     MH       1   \n",
       "4255  Treatment of Childhood Diseases            Zunheboto     NL       1   \n",
       "\n",
       "           2020       2016  \n",
       "3952  44.683333  38.883333  \n",
       "3953  21.733333  37.700000  \n",
       "3954  47.216667  34.633333  \n",
       "3955  29.066667   1.950000  \n",
       "3956  40.900000   5.300000  \n",
       "...         ...        ...  \n",
       "4251  22.833333   4.000000  \n",
       "4252  22.833333        NaN  \n",
       "4253  28.833333   2.150000  \n",
       "4254  34.900000  42.766667  \n",
       "4255   0.900000   1.000000  \n",
       "\n",
       "[304 rows x 6 columns]"
      ],
      "text/html": "<div>\n<style scoped>\n    .dataframe tbody tr th:only-of-type {\n        vertical-align: middle;\n    }\n\n    .dataframe tbody tr th {\n        vertical-align: top;\n    }\n\n    .dataframe thead th {\n        text-align: right;\n    }\n</style>\n<table border=\"1\" class=\"dataframe\">\n  <thead>\n    <tr style=\"text-align: right;\">\n      <th></th>\n      <th>bucket</th>\n      <th>district</th>\n      <th>states</th>\n      <th>int_ay</th>\n      <th>2020</th>\n      <th>2016</th>\n    </tr>\n  </thead>\n  <tbody>\n    <tr>\n      <th>3952</th>\n      <td>Treatment of Childhood Diseases</td>\n      <td>Ahmednagar</td>\n      <td>MH</td>\n      <td>1</td>\n      <td>44.683333</td>\n      <td>38.883333</td>\n    </tr>\n    <tr>\n      <th>3953</th>\n      <td>Treatment of Childhood Diseases</td>\n      <td>Aizawl</td>\n      <td>MZ</td>\n      <td>1</td>\n      <td>21.733333</td>\n      <td>37.700000</td>\n    </tr>\n    <tr>\n      <th>3954</th>\n      <td>Treatment of Childhood Diseases</td>\n      <td>Akola</td>\n      <td>MH</td>\n      <td>1</td>\n      <td>47.216667</td>\n      <td>34.633333</td>\n    </tr>\n    <tr>\n      <th>3955</th>\n      <td>Treatment of Childhood Diseases</td>\n      <td>Alappuzha</td>\n      <td>KL</td>\n      <td>1</td>\n      <td>29.066667</td>\n      <td>1.950000</td>\n    </tr>\n    <tr>\n      <th>3956</th>\n      <td>Treatment of Childhood Diseases</td>\n      <td>Amravati</td>\n      <td>MH</td>\n      <td>1</td>\n      <td>40.900000</td>\n      <td>5.300000</td>\n    </tr>\n    <tr>\n      <th>...</th>\n      <td>...</td>\n      <td>...</td>\n      <td>...</td>\n      <td>...</td>\n      <td>...</td>\n      <td>...</td>\n    </tr>\n    <tr>\n      <th>4251</th>\n      <td>Treatment of Childhood Diseases</td>\n      <td>Y.S.R.</td>\n      <td>AP</td>\n      <td>1</td>\n      <td>22.833333</td>\n      <td>4.000000</td>\n    </tr>\n    <tr>\n      <th>4252</th>\n      <td>Treatment of Childhood Diseases</td>\n      <td>Yadadri Bhuvanagiri</td>\n      <td>TS</td>\n      <td>0</td>\n      <td>22.833333</td>\n      <td>NaN</td>\n    </tr>\n    <tr>\n      <th>4253</th>\n      <td>Treatment of Childhood Diseases</td>\n      <td>Yadgir</td>\n      <td>KA</td>\n      <td>1</td>\n      <td>28.833333</td>\n      <td>2.150000</td>\n    </tr>\n    <tr>\n      <th>4254</th>\n      <td>Treatment of Childhood Diseases</td>\n      <td>Yavatmal</td>\n      <td>MH</td>\n      <td>1</td>\n      <td>34.900000</td>\n      <td>42.766667</td>\n    </tr>\n    <tr>\n      <th>4255</th>\n      <td>Treatment of Childhood Diseases</td>\n      <td>Zunheboto</td>\n      <td>NL</td>\n      <td>1</td>\n      <td>0.900000</td>\n      <td>1.000000</td>\n    </tr>\n  </tbody>\n</table>\n<p>304 rows × 6 columns</p>\n</div>"
     },
     "metadata": {},
     "execution_count": 12
    }
   ],
   "source": [
    "new[new['bucket']=='Treatment of Childhood Diseases']"
   ]
  },
  {
   "cell_type": "code",
   "execution_count": 222,
   "metadata": {},
   "outputs": [
    {
     "output_type": "execute_result",
     "data": {
      "text/plain": [
       "array(['WB', 'TS'], dtype=object)"
      ]
     },
     "metadata": {},
     "execution_count": 222
    }
   ],
   "source": [
    "new[new['int_ay']==0].states.unique()"
   ]
  },
  {
   "cell_type": "code",
   "execution_count": 454,
   "metadata": {},
   "outputs": [],
   "source": [
    "new1=pd.melt(new,id_vars=['bucket','district','states','int_ay'],value_vars=['2020','2016'])\n",
    "new2=new1.set_index(['district','states','int_ay','variable','bucket'])\n",
    "new2=new2.unstack(4)"
   ]
  },
  {
   "cell_type": "code",
   "execution_count": 367,
   "metadata": {},
   "outputs": [
    {
     "output_type": "execute_result",
     "data": {
      "text/plain": [
       "       district states  int_ay  variable  \\\n",
       "0    Ahmednagar     MH       1      2016   \n",
       "1    Ahmednagar     MH       1      2020   \n",
       "2        Aizawl     MZ       1      2016   \n",
       "3        Aizawl     MZ       1      2020   \n",
       "4         Akola     MH       1      2016   \n",
       "..          ...    ...     ...       ...   \n",
       "631      Yadgir     KA       1      2020   \n",
       "632    Yavatmal     MH       1      2016   \n",
       "633    Yavatmal     MH       1      2020   \n",
       "634   Zunheboto     NL       1      2016   \n",
       "635   Zunheboto     NL       1      2020   \n",
       "\n",
       "      Child Vaccinations and Vitamin A Supplementation  \\\n",
       "0                                            63.087500   \n",
       "1                                            70.825000   \n",
       "2                                            63.787500   \n",
       "3                                            61.541667   \n",
       "4                                            75.937500   \n",
       "..                                                 ...   \n",
       "631                                          68.666667   \n",
       "632                                          74.250000   \n",
       "633                                          66.358333   \n",
       "634                                          43.350000   \n",
       "635                                          56.616667   \n",
       "\n",
       "     Anaemia among Children and Adults  \\\n",
       "0                               43.925   \n",
       "1                               50.860   \n",
       "2                               17.000   \n",
       "3                               34.440   \n",
       "4                               41.900   \n",
       "..                                 ...   \n",
       "631                             62.660   \n",
       "632                             57.575   \n",
       "633                             62.660   \n",
       "634                             35.350   \n",
       "635                             35.080   \n",
       "\n",
       "     Average out of pocket expenditure per delivery in public health facility   \\\n",
       "0                                          4851.000000                           \n",
       "1                                          4747.873038                           \n",
       "2                                          5087.000000                           \n",
       "3                                          8356.256547                           \n",
       "4                                          1711.000000                           \n",
       "..                                                 ...                           \n",
       "631                                        3735.277335                           \n",
       "632                                        1954.000000                           \n",
       "633                                        1476.737551                           \n",
       "634                                       10499.000000                           \n",
       "635                                        6433.261512                           \n",
       "\n",
       "     Blood Sugar Level among Adults (age 15-49 years) Men  \\\n",
       "0                                             3.633333      \n",
       "1                                             7.700000      \n",
       "2                                             8.333333      \n",
       "3                                            10.433333      \n",
       "4                                             6.766667      \n",
       "..                                                 ...      \n",
       "631                                           8.500000      \n",
       "632                                           4.633333      \n",
       "633                                           8.500000      \n",
       "634                                           6.333333      \n",
       "635                                           6.566667      \n",
       "\n",
       "     Blood Sugar Level among Adults (age 15-49 years) Women  \\\n",
       "0                                             3.200000        \n",
       "1                                             6.800000        \n",
       "2                                             7.150000        \n",
       "3                                             9.600000        \n",
       "4                                             2.900000        \n",
       "..                                                 ...        \n",
       "631                                           4.966667        \n",
       "632                                           2.550000        \n",
       "633                                           4.966667        \n",
       "634                                           6.300000        \n",
       "635                                           7.366667        \n",
       "\n",
       "     Characteristics of Adults (15-19 Years)  ...  \\\n",
       "0                                  62.500000  ...   \n",
       "1                                  51.166667  ...   \n",
       "2                                  74.700000  ...   \n",
       "3                                  56.100000  ...   \n",
       "4                                  60.800000  ...   \n",
       "..                                       ...  ...   \n",
       "631                                26.900000  ...   \n",
       "632                                56.200000  ...   \n",
       "633                                26.900000  ...   \n",
       "634                                57.850000  ...   \n",
       "635                                42.433333  ...   \n",
       "\n",
       "     Hypertension among Adults (age 15-49 years) Women  \\\n",
       "0                                             2.566667   \n",
       "1                                            14.033333   \n",
       "2                                             5.733333   \n",
       "3                                            13.400000   \n",
       "4                                             3.900000   \n",
       "..                                                 ...   \n",
       "631                                          10.866667   \n",
       "632                                           1.466667   \n",
       "633                                          10.866667   \n",
       "634                                           7.566667   \n",
       "635                                          22.066667   \n",
       "\n",
       "     Marriage and Fertility  Maternal and Child Health  \\\n",
       "0                    26.100                  67.233333   \n",
       "1                    30.650                  72.828571   \n",
       "2                     6.300                  78.800000   \n",
       "3                    24.700                  67.242857   \n",
       "4                    11.150                  77.200000   \n",
       "..                      ...                        ...   \n",
       "631                  27.875                  58.857143   \n",
       "632                  13.900                  62.671429   \n",
       "633                  27.875                  69.100000   \n",
       "634                   3.850                  25.700000   \n",
       "635                  24.900                  32.800000   \n",
       "\n",
       "     Nutritional Status for Adults (Age 15-49 Years)  \\\n",
       "0                                          20.400000   \n",
       "1                                          29.700000   \n",
       "2                                          16.900000   \n",
       "3                                          26.500000   \n",
       "4                                          20.650000   \n",
       "..                                               ...   \n",
       "631                                        25.733333   \n",
       "632                                        21.000000   \n",
       "633                                        25.733333   \n",
       "634                                        14.500000   \n",
       "635                                        29.800000   \n",
       "\n",
       "     Population and Household Profile  Quality of Family Planning Services  \\\n",
       "0                           75.120000                                34.05   \n",
       "1                           82.136364                                25.60   \n",
       "2                           88.720000                                30.45   \n",
       "3                           91.500000                                28.20   \n",
       "4                           73.940000                                27.95   \n",
       "..                                ...                                  ...   \n",
       "631                         72.627273                                44.05   \n",
       "632                         72.910000                                35.30   \n",
       "633                         72.627273                                44.05   \n",
       "634                         72.470000                                14.55   \n",
       "635                         76.645455                                42.60   \n",
       "\n",
       "     Tobacco and Alcohol Consumption  Treatment of Childhood Diseases  \\\n",
       "0                                NaN                        38.883333   \n",
       "1                             15.775                        44.683333   \n",
       "2                                NaN                        37.700000   \n",
       "3                             37.550                        21.733333   \n",
       "4                                NaN                        34.633333   \n",
       "..                               ...                              ...   \n",
       "631                           16.725                        28.833333   \n",
       "632                              NaN                        42.766667   \n",
       "633                           16.725                        34.900000   \n",
       "634                              NaN                         1.000000   \n",
       "635                           19.600                         0.900000   \n",
       "\n",
       "     Unmet Need for Family Planning (currently Married Women Age 15-49 Years)  \\\n",
       "0                                                 8.05                          \n",
       "1                                                 5.45                          \n",
       "2                                                14.30                          \n",
       "3                                                19.00                          \n",
       "4                                                 6.80                          \n",
       "..                                                 ...                          \n",
       "631                                               6.70                          \n",
       "632                                               6.60                          \n",
       "633                                               6.70                          \n",
       "634                                              12.80                          \n",
       "635                                               1.75                          \n",
       "\n",
       "     Women Age 15-49 Years Who Have Ever Undergone Examinations of: Cervix, Breast, Oral Cavity  \n",
       "0                                            32.033333                                           \n",
       "1                                             0.566667                                           \n",
       "2                                            23.200000                                           \n",
       "3                                             5.700000                                           \n",
       "4                                            17.666667                                           \n",
       "..                                                 ...                                           \n",
       "631                                           0.100000                                           \n",
       "632                                          38.666667                                           \n",
       "633                                           0.100000                                           \n",
       "634                                           8.300000                                           \n",
       "635                                           0.433333                                           \n",
       "\n",
       "[567 rows x 25 columns]"
      ],
      "text/html": "<div>\n<style scoped>\n    .dataframe tbody tr th:only-of-type {\n        vertical-align: middle;\n    }\n\n    .dataframe tbody tr th {\n        vertical-align: top;\n    }\n\n    .dataframe thead th {\n        text-align: right;\n    }\n</style>\n<table border=\"1\" class=\"dataframe\">\n  <thead>\n    <tr style=\"text-align: right;\">\n      <th></th>\n      <th>district</th>\n      <th>states</th>\n      <th>int_ay</th>\n      <th>variable</th>\n      <th>Child Vaccinations and Vitamin A Supplementation</th>\n      <th>Anaemia among Children and Adults</th>\n      <th>Average out of pocket expenditure per delivery in public health facility</th>\n      <th>Blood Sugar Level among Adults (age 15-49 years) Men</th>\n      <th>Blood Sugar Level among Adults (age 15-49 years) Women</th>\n      <th>Characteristics of Adults (15-19 Years)</th>\n      <th>...</th>\n      <th>Hypertension among Adults (age 15-49 years) Women</th>\n      <th>Marriage and Fertility</th>\n      <th>Maternal and Child Health</th>\n      <th>Nutritional Status for Adults (Age 15-49 Years)</th>\n      <th>Population and Household Profile</th>\n      <th>Quality of Family Planning Services</th>\n      <th>Tobacco and Alcohol Consumption</th>\n      <th>Treatment of Childhood Diseases</th>\n      <th>Unmet Need for Family Planning (currently Married Women Age 15-49 Years)</th>\n      <th>Women Age 15-49 Years Who Have Ever Undergone Examinations of: Cervix, Breast, Oral Cavity</th>\n    </tr>\n  </thead>\n  <tbody>\n    <tr>\n      <th>0</th>\n      <td>Ahmednagar</td>\n      <td>MH</td>\n      <td>1</td>\n      <td>2016</td>\n      <td>63.087500</td>\n      <td>43.925</td>\n      <td>4851.000000</td>\n      <td>3.633333</td>\n      <td>3.200000</td>\n      <td>62.500000</td>\n      <td>...</td>\n      <td>2.566667</td>\n      <td>26.100</td>\n      <td>67.233333</td>\n      <td>20.400000</td>\n      <td>75.120000</td>\n      <td>34.05</td>\n      <td>NaN</td>\n      <td>38.883333</td>\n      <td>8.05</td>\n      <td>32.033333</td>\n    </tr>\n    <tr>\n      <th>1</th>\n      <td>Ahmednagar</td>\n      <td>MH</td>\n      <td>1</td>\n      <td>2020</td>\n      <td>70.825000</td>\n      <td>50.860</td>\n      <td>4747.873038</td>\n      <td>7.700000</td>\n      <td>6.800000</td>\n      <td>51.166667</td>\n      <td>...</td>\n      <td>14.033333</td>\n      <td>30.650</td>\n      <td>72.828571</td>\n      <td>29.700000</td>\n      <td>82.136364</td>\n      <td>25.60</td>\n      <td>15.775</td>\n      <td>44.683333</td>\n      <td>5.45</td>\n      <td>0.566667</td>\n    </tr>\n    <tr>\n      <th>2</th>\n      <td>Aizawl</td>\n      <td>MZ</td>\n      <td>1</td>\n      <td>2016</td>\n      <td>63.787500</td>\n      <td>17.000</td>\n      <td>5087.000000</td>\n      <td>8.333333</td>\n      <td>7.150000</td>\n      <td>74.700000</td>\n      <td>...</td>\n      <td>5.733333</td>\n      <td>6.300</td>\n      <td>78.800000</td>\n      <td>16.900000</td>\n      <td>88.720000</td>\n      <td>30.45</td>\n      <td>NaN</td>\n      <td>37.700000</td>\n      <td>14.30</td>\n      <td>23.200000</td>\n    </tr>\n    <tr>\n      <th>3</th>\n      <td>Aizawl</td>\n      <td>MZ</td>\n      <td>1</td>\n      <td>2020</td>\n      <td>61.541667</td>\n      <td>34.440</td>\n      <td>8356.256547</td>\n      <td>10.433333</td>\n      <td>9.600000</td>\n      <td>56.100000</td>\n      <td>...</td>\n      <td>13.400000</td>\n      <td>24.700</td>\n      <td>67.242857</td>\n      <td>26.500000</td>\n      <td>91.500000</td>\n      <td>28.20</td>\n      <td>37.550</td>\n      <td>21.733333</td>\n      <td>19.00</td>\n      <td>5.700000</td>\n    </tr>\n    <tr>\n      <th>4</th>\n      <td>Akola</td>\n      <td>MH</td>\n      <td>1</td>\n      <td>2016</td>\n      <td>75.937500</td>\n      <td>41.900</td>\n      <td>1711.000000</td>\n      <td>6.766667</td>\n      <td>2.900000</td>\n      <td>60.800000</td>\n      <td>...</td>\n      <td>3.900000</td>\n      <td>11.150</td>\n      <td>77.200000</td>\n      <td>20.650000</td>\n      <td>73.940000</td>\n      <td>27.95</td>\n      <td>NaN</td>\n      <td>34.633333</td>\n      <td>6.80</td>\n      <td>17.666667</td>\n    </tr>\n    <tr>\n      <th>...</th>\n      <td>...</td>\n      <td>...</td>\n      <td>...</td>\n      <td>...</td>\n      <td>...</td>\n      <td>...</td>\n      <td>...</td>\n      <td>...</td>\n      <td>...</td>\n      <td>...</td>\n      <td>...</td>\n      <td>...</td>\n      <td>...</td>\n      <td>...</td>\n      <td>...</td>\n      <td>...</td>\n      <td>...</td>\n      <td>...</td>\n      <td>...</td>\n      <td>...</td>\n      <td>...</td>\n    </tr>\n    <tr>\n      <th>631</th>\n      <td>Yadgir</td>\n      <td>KA</td>\n      <td>1</td>\n      <td>2020</td>\n      <td>68.666667</td>\n      <td>62.660</td>\n      <td>3735.277335</td>\n      <td>8.500000</td>\n      <td>4.966667</td>\n      <td>26.900000</td>\n      <td>...</td>\n      <td>10.866667</td>\n      <td>27.875</td>\n      <td>58.857143</td>\n      <td>25.733333</td>\n      <td>72.627273</td>\n      <td>44.05</td>\n      <td>16.725</td>\n      <td>28.833333</td>\n      <td>6.70</td>\n      <td>0.100000</td>\n    </tr>\n    <tr>\n      <th>632</th>\n      <td>Yavatmal</td>\n      <td>MH</td>\n      <td>1</td>\n      <td>2016</td>\n      <td>74.250000</td>\n      <td>57.575</td>\n      <td>1954.000000</td>\n      <td>4.633333</td>\n      <td>2.550000</td>\n      <td>56.200000</td>\n      <td>...</td>\n      <td>1.466667</td>\n      <td>13.900</td>\n      <td>62.671429</td>\n      <td>21.000000</td>\n      <td>72.910000</td>\n      <td>35.30</td>\n      <td>NaN</td>\n      <td>42.766667</td>\n      <td>6.60</td>\n      <td>38.666667</td>\n    </tr>\n    <tr>\n      <th>633</th>\n      <td>Yavatmal</td>\n      <td>MH</td>\n      <td>1</td>\n      <td>2020</td>\n      <td>66.358333</td>\n      <td>62.660</td>\n      <td>1476.737551</td>\n      <td>8.500000</td>\n      <td>4.966667</td>\n      <td>26.900000</td>\n      <td>...</td>\n      <td>10.866667</td>\n      <td>27.875</td>\n      <td>69.100000</td>\n      <td>25.733333</td>\n      <td>72.627273</td>\n      <td>44.05</td>\n      <td>16.725</td>\n      <td>34.900000</td>\n      <td>6.70</td>\n      <td>0.100000</td>\n    </tr>\n    <tr>\n      <th>634</th>\n      <td>Zunheboto</td>\n      <td>NL</td>\n      <td>1</td>\n      <td>2016</td>\n      <td>43.350000</td>\n      <td>35.350</td>\n      <td>10499.000000</td>\n      <td>6.333333</td>\n      <td>6.300000</td>\n      <td>57.850000</td>\n      <td>...</td>\n      <td>7.566667</td>\n      <td>3.850</td>\n      <td>25.700000</td>\n      <td>14.500000</td>\n      <td>72.470000</td>\n      <td>14.55</td>\n      <td>NaN</td>\n      <td>1.000000</td>\n      <td>12.80</td>\n      <td>8.300000</td>\n    </tr>\n    <tr>\n      <th>635</th>\n      <td>Zunheboto</td>\n      <td>NL</td>\n      <td>1</td>\n      <td>2020</td>\n      <td>56.616667</td>\n      <td>35.080</td>\n      <td>6433.261512</td>\n      <td>6.566667</td>\n      <td>7.366667</td>\n      <td>42.433333</td>\n      <td>...</td>\n      <td>22.066667</td>\n      <td>24.900</td>\n      <td>32.800000</td>\n      <td>29.800000</td>\n      <td>76.645455</td>\n      <td>42.60</td>\n      <td>19.600</td>\n      <td>0.900000</td>\n      <td>1.75</td>\n      <td>0.433333</td>\n    </tr>\n  </tbody>\n</table>\n<p>567 rows × 25 columns</p>\n</div>"
     },
     "metadata": {},
     "execution_count": 367
    }
   ],
   "source": [
    "new2[new2['Average out of pocket expenditure per delivery in public health facility '].notna()]"
   ]
  },
  {
   "cell_type": "code",
   "execution_count": 456,
   "metadata": {},
   "outputs": [],
   "source": [
    "new2=new2.to_csv('NFHS4_5_data_not_transposed.csv')"
   ]
  },
  {
   "cell_type": "code",
   "execution_count": 177,
   "metadata": {},
   "outputs": [
    {
     "output_type": "execute_result",
     "data": {
      "text/plain": [
       "                                               bucket          district  \\\n",
       "0                    Population and Household Profile        Ahmednagar   \n",
       "1                    Population and Household Profile            Aizawl   \n",
       "2                    Population and Household Profile             Akola   \n",
       "3                    Population and Household Profile         Alappuzha   \n",
       "4                    Population and Household Profile          Amravati   \n",
       "...                                               ...               ...   \n",
       "6631  Hypertension among Adults (age 15-49 years) Men           Palghar   \n",
       "6632  Hypertension among Adults (age 15-49 years) Men        Peddapalli   \n",
       "6633  Hypertension among Adults (age 15-49 years) Men  Rajanna Sircilla   \n",
       "6634  Hypertension among Adults (age 15-49 years) Men        Sangareddy   \n",
       "6635  Hypertension among Adults (age 15-49 years) Men        Sepahijala   \n",
       "\n",
       "     states  int_ay        2020    2016  rf_change  nl_change     change  \\\n",
       "0        MH       1  230.390909  232.44   0.037139   0.619834  -2.049091   \n",
       "1        MZ       1  262.827273  265.66  -0.009650   0.249802  -2.832727   \n",
       "2        MH       1  262.827273  239.27   0.035971   0.599010  23.557273   \n",
       "3        KL       1  307.209091  256.40   0.125358   0.986913  50.809091   \n",
       "4        MH       1  307.209091  266.11   0.044344   0.510749  41.099091   \n",
       "...     ...     ...         ...     ...        ...        ...        ...   \n",
       "6631     MH       1   14.166667     NaN        NaN        NaN        NaN   \n",
       "6632     TS       0   21.566667     NaN        NaN        NaN        NaN   \n",
       "6633     TS       0   10.466667     NaN        NaN        NaN        NaN   \n",
       "6634     TS       0   20.733333     NaN        NaN        NaN        NaN   \n",
       "6635     TR       1   11.500000     NaN        NaN        NaN        NaN   \n",
       "\n",
       "      pct_change  \n",
       "0      -0.008816  \n",
       "1      -0.010663  \n",
       "2       0.098455  \n",
       "3       0.198163  \n",
       "4       0.154444  \n",
       "...          ...  \n",
       "6631         NaN  \n",
       "6632         NaN  \n",
       "6633         NaN  \n",
       "6634         NaN  \n",
       "6635         NaN  \n",
       "\n",
       "[6636 rows x 10 columns]"
      ],
      "text/html": "<div>\n<style scoped>\n    .dataframe tbody tr th:only-of-type {\n        vertical-align: middle;\n    }\n\n    .dataframe tbody tr th {\n        vertical-align: top;\n    }\n\n    .dataframe thead th {\n        text-align: right;\n    }\n</style>\n<table border=\"1\" class=\"dataframe\">\n  <thead>\n    <tr style=\"text-align: right;\">\n      <th></th>\n      <th>bucket</th>\n      <th>district</th>\n      <th>states</th>\n      <th>int_ay</th>\n      <th>2020</th>\n      <th>2016</th>\n      <th>rf_change</th>\n      <th>nl_change</th>\n      <th>change</th>\n      <th>pct_change</th>\n    </tr>\n  </thead>\n  <tbody>\n    <tr>\n      <th>0</th>\n      <td>Population and Household Profile</td>\n      <td>Ahmednagar</td>\n      <td>MH</td>\n      <td>1</td>\n      <td>230.390909</td>\n      <td>232.44</td>\n      <td>0.037139</td>\n      <td>0.619834</td>\n      <td>-2.049091</td>\n      <td>-0.008816</td>\n    </tr>\n    <tr>\n      <th>1</th>\n      <td>Population and Household Profile</td>\n      <td>Aizawl</td>\n      <td>MZ</td>\n      <td>1</td>\n      <td>262.827273</td>\n      <td>265.66</td>\n      <td>-0.009650</td>\n      <td>0.249802</td>\n      <td>-2.832727</td>\n      <td>-0.010663</td>\n    </tr>\n    <tr>\n      <th>2</th>\n      <td>Population and Household Profile</td>\n      <td>Akola</td>\n      <td>MH</td>\n      <td>1</td>\n      <td>262.827273</td>\n      <td>239.27</td>\n      <td>0.035971</td>\n      <td>0.599010</td>\n      <td>23.557273</td>\n      <td>0.098455</td>\n    </tr>\n    <tr>\n      <th>3</th>\n      <td>Population and Household Profile</td>\n      <td>Alappuzha</td>\n      <td>KL</td>\n      <td>1</td>\n      <td>307.209091</td>\n      <td>256.40</td>\n      <td>0.125358</td>\n      <td>0.986913</td>\n      <td>50.809091</td>\n      <td>0.198163</td>\n    </tr>\n    <tr>\n      <th>4</th>\n      <td>Population and Household Profile</td>\n      <td>Amravati</td>\n      <td>MH</td>\n      <td>1</td>\n      <td>307.209091</td>\n      <td>266.11</td>\n      <td>0.044344</td>\n      <td>0.510749</td>\n      <td>41.099091</td>\n      <td>0.154444</td>\n    </tr>\n    <tr>\n      <th>...</th>\n      <td>...</td>\n      <td>...</td>\n      <td>...</td>\n      <td>...</td>\n      <td>...</td>\n      <td>...</td>\n      <td>...</td>\n      <td>...</td>\n      <td>...</td>\n      <td>...</td>\n    </tr>\n    <tr>\n      <th>6631</th>\n      <td>Hypertension among Adults (age 15-49 years) Men</td>\n      <td>Palghar</td>\n      <td>MH</td>\n      <td>1</td>\n      <td>14.166667</td>\n      <td>NaN</td>\n      <td>NaN</td>\n      <td>NaN</td>\n      <td>NaN</td>\n      <td>NaN</td>\n    </tr>\n    <tr>\n      <th>6632</th>\n      <td>Hypertension among Adults (age 15-49 years) Men</td>\n      <td>Peddapalli</td>\n      <td>TS</td>\n      <td>0</td>\n      <td>21.566667</td>\n      <td>NaN</td>\n      <td>NaN</td>\n      <td>NaN</td>\n      <td>NaN</td>\n      <td>NaN</td>\n    </tr>\n    <tr>\n      <th>6633</th>\n      <td>Hypertension among Adults (age 15-49 years) Men</td>\n      <td>Rajanna Sircilla</td>\n      <td>TS</td>\n      <td>0</td>\n      <td>10.466667</td>\n      <td>NaN</td>\n      <td>NaN</td>\n      <td>NaN</td>\n      <td>NaN</td>\n      <td>NaN</td>\n    </tr>\n    <tr>\n      <th>6634</th>\n      <td>Hypertension among Adults (age 15-49 years) Men</td>\n      <td>Sangareddy</td>\n      <td>TS</td>\n      <td>0</td>\n      <td>20.733333</td>\n      <td>NaN</td>\n      <td>NaN</td>\n      <td>NaN</td>\n      <td>NaN</td>\n      <td>NaN</td>\n    </tr>\n    <tr>\n      <th>6635</th>\n      <td>Hypertension among Adults (age 15-49 years) Men</td>\n      <td>Sepahijala</td>\n      <td>TR</td>\n      <td>1</td>\n      <td>11.500000</td>\n      <td>NaN</td>\n      <td>NaN</td>\n      <td>NaN</td>\n      <td>NaN</td>\n      <td>NaN</td>\n    </tr>\n  </tbody>\n</table>\n<p>6636 rows × 10 columns</p>\n</div>"
     },
     "metadata": {},
     "execution_count": 177
    }
   ],
   "source": [
    "new"
   ]
  },
  {
   "cell_type": "code",
   "execution_count": 859,
   "metadata": {},
   "outputs": [],
   "source": [
    "df.to_csv('transpose_with_ay_imp.csv')"
   ]
  },
  {
   "cell_type": "code",
   "execution_count": 41,
   "metadata": {},
   "outputs": [],
   "source": [
    "new=pd.read_csv('transpose_with_controls_nfhs4_nfhs5_full.csv')\n"
   ]
  },
  {
   "cell_type": "code",
   "execution_count": 42,
   "metadata": {},
   "outputs": [],
   "source": [
    "new=pd.read_csv('transpose_with_controls_nfhs4_nfhs5_full.csv')\n",
    "temp=new\n",
    "temp=temp.merge(buc,on='variable')\n",
    "temp['change']=(temp['2020'].astype('float64')-temp['2016'].astype('float64'))\n",
    "temp['pct_change']=(temp['2020'].astype('float64')-temp['2016'].astype('float64'))/temp['2016'].astype('float64')\n",
    "temp=get_int_ay(temp)\n"
   ]
  },
  {
   "cell_type": "code",
   "execution_count": 309,
   "metadata": {},
   "outputs": [],
   "source": [
    "temp.to_csv('bucket_with_controls_final.csv')"
   ]
  },
  {
   "cell_type": "code",
   "execution_count": 831,
   "metadata": {},
   "outputs": [
    {
     "output_type": "execute_result",
     "data": {
      "text/plain": [
       "int_ay   NaN\n",
       "dtype: float64"
      ]
     },
     "metadata": {},
     "execution_count": 831
    }
   ],
   "source": [
    "from linearmodels import OLS\n",
    "df['date']='01-01-2020'\n",
    "df['date']=pd.to_datetime(df['date'])\n",
    "temp=df[['District','date','states','2020','2016','int_ay']]\n",
    "#temp=pd.read_csv('transpose_regression.csv')\n",
    "\n",
    "temp=temp.set_index(['District','date'])\n",
    "import statsmodels.api as sm\n",
    "\n",
    "temp=temp.dropna()\n",
    "temp['change']=(temp['2020'].astype('float64')-temp['2016'].astype('float64'))/temp['2016'].astype('float64')\n",
    "l=temp['change'].values\n",
    "mod = sm.OLS(np.log1p(temp['change']),temp['int_ay'],missing='drop')\n",
    "res = mod.fit()\n",
    "res.params"
   ]
  },
  {
   "cell_type": "code",
   "execution_count": 256,
   "metadata": {},
   "outputs": [
    {
     "output_type": "execute_result",
     "data": {
      "text/plain": [
       "                                               bucket          district  \\\n",
       "0                    Population and Household Profile        Ahmednagar   \n",
       "1                    Population and Household Profile            Aizawl   \n",
       "2                    Population and Household Profile             Akola   \n",
       "3                    Population and Household Profile         Alappuzha   \n",
       "4                    Population and Household Profile          Amravati   \n",
       "...                                               ...               ...   \n",
       "6631  Hypertension among Adults (age 15-49 years) Men           Palghar   \n",
       "6632  Hypertension among Adults (age 15-49 years) Men        Peddapalli   \n",
       "6633  Hypertension among Adults (age 15-49 years) Men  Rajanna Sircilla   \n",
       "6634  Hypertension among Adults (age 15-49 years) Men        Sangareddy   \n",
       "6635  Hypertension among Adults (age 15-49 years) Men        Sepahijala   \n",
       "\n",
       "     states  int_ay       2020   2016  rf_change  nl_change     change  \\\n",
       "0        MH       1  82.136364  75.12        NaN        NaN   7.016364   \n",
       "1        MZ       1  91.500000  88.72        NaN        NaN   2.780000   \n",
       "2        MH       1  91.500000  73.94        NaN        NaN  17.560000   \n",
       "3        KL       1  95.054545  84.68        NaN  -0.637999  10.374545   \n",
       "4        MH       1  95.054545  77.56        NaN        NaN  17.494545   \n",
       "...     ...     ...        ...    ...        ...        ...        ...   \n",
       "6631     MH       1  14.166667    NaN        NaN        NaN        NaN   \n",
       "6632     TS       0  21.566667    NaN        NaN        NaN        NaN   \n",
       "6633     TS       0  10.466667    NaN        NaN        NaN        NaN   \n",
       "6634     TS       0  20.733333    NaN        NaN        NaN        NaN   \n",
       "6635     TR       1  11.500000    NaN        NaN        NaN        NaN   \n",
       "\n",
       "      pct_change  \n",
       "0       0.093402  \n",
       "1       0.031335  \n",
       "2       0.237490  \n",
       "3       0.122515  \n",
       "4       0.225561  \n",
       "...          ...  \n",
       "6631         NaN  \n",
       "6632         NaN  \n",
       "6633         NaN  \n",
       "6634         NaN  \n",
       "6635         NaN  \n",
       "\n",
       "[6636 rows x 10 columns]"
      ],
      "text/html": "<div>\n<style scoped>\n    .dataframe tbody tr th:only-of-type {\n        vertical-align: middle;\n    }\n\n    .dataframe tbody tr th {\n        vertical-align: top;\n    }\n\n    .dataframe thead th {\n        text-align: right;\n    }\n</style>\n<table border=\"1\" class=\"dataframe\">\n  <thead>\n    <tr style=\"text-align: right;\">\n      <th></th>\n      <th>bucket</th>\n      <th>district</th>\n      <th>states</th>\n      <th>int_ay</th>\n      <th>2020</th>\n      <th>2016</th>\n      <th>rf_change</th>\n      <th>nl_change</th>\n      <th>change</th>\n      <th>pct_change</th>\n    </tr>\n  </thead>\n  <tbody>\n    <tr>\n      <th>0</th>\n      <td>Population and Household Profile</td>\n      <td>Ahmednagar</td>\n      <td>MH</td>\n      <td>1</td>\n      <td>82.136364</td>\n      <td>75.12</td>\n      <td>NaN</td>\n      <td>NaN</td>\n      <td>7.016364</td>\n      <td>0.093402</td>\n    </tr>\n    <tr>\n      <th>1</th>\n      <td>Population and Household Profile</td>\n      <td>Aizawl</td>\n      <td>MZ</td>\n      <td>1</td>\n      <td>91.500000</td>\n      <td>88.72</td>\n      <td>NaN</td>\n      <td>NaN</td>\n      <td>2.780000</td>\n      <td>0.031335</td>\n    </tr>\n    <tr>\n      <th>2</th>\n      <td>Population and Household Profile</td>\n      <td>Akola</td>\n      <td>MH</td>\n      <td>1</td>\n      <td>91.500000</td>\n      <td>73.94</td>\n      <td>NaN</td>\n      <td>NaN</td>\n      <td>17.560000</td>\n      <td>0.237490</td>\n    </tr>\n    <tr>\n      <th>3</th>\n      <td>Population and Household Profile</td>\n      <td>Alappuzha</td>\n      <td>KL</td>\n      <td>1</td>\n      <td>95.054545</td>\n      <td>84.68</td>\n      <td>NaN</td>\n      <td>-0.637999</td>\n      <td>10.374545</td>\n      <td>0.122515</td>\n    </tr>\n    <tr>\n      <th>4</th>\n      <td>Population and Household Profile</td>\n      <td>Amravati</td>\n      <td>MH</td>\n      <td>1</td>\n      <td>95.054545</td>\n      <td>77.56</td>\n      <td>NaN</td>\n      <td>NaN</td>\n      <td>17.494545</td>\n      <td>0.225561</td>\n    </tr>\n    <tr>\n      <th>...</th>\n      <td>...</td>\n      <td>...</td>\n      <td>...</td>\n      <td>...</td>\n      <td>...</td>\n      <td>...</td>\n      <td>...</td>\n      <td>...</td>\n      <td>...</td>\n      <td>...</td>\n    </tr>\n    <tr>\n      <th>6631</th>\n      <td>Hypertension among Adults (age 15-49 years) Men</td>\n      <td>Palghar</td>\n      <td>MH</td>\n      <td>1</td>\n      <td>14.166667</td>\n      <td>NaN</td>\n      <td>NaN</td>\n      <td>NaN</td>\n      <td>NaN</td>\n      <td>NaN</td>\n    </tr>\n    <tr>\n      <th>6632</th>\n      <td>Hypertension among Adults (age 15-49 years) Men</td>\n      <td>Peddapalli</td>\n      <td>TS</td>\n      <td>0</td>\n      <td>21.566667</td>\n      <td>NaN</td>\n      <td>NaN</td>\n      <td>NaN</td>\n      <td>NaN</td>\n      <td>NaN</td>\n    </tr>\n    <tr>\n      <th>6633</th>\n      <td>Hypertension among Adults (age 15-49 years) Men</td>\n      <td>Rajanna Sircilla</td>\n      <td>TS</td>\n      <td>0</td>\n      <td>10.466667</td>\n      <td>NaN</td>\n      <td>NaN</td>\n      <td>NaN</td>\n      <td>NaN</td>\n      <td>NaN</td>\n    </tr>\n    <tr>\n      <th>6634</th>\n      <td>Hypertension among Adults (age 15-49 years) Men</td>\n      <td>Sangareddy</td>\n      <td>TS</td>\n      <td>0</td>\n      <td>20.733333</td>\n      <td>NaN</td>\n      <td>NaN</td>\n      <td>NaN</td>\n      <td>NaN</td>\n      <td>NaN</td>\n    </tr>\n    <tr>\n      <th>6635</th>\n      <td>Hypertension among Adults (age 15-49 years) Men</td>\n      <td>Sepahijala</td>\n      <td>TR</td>\n      <td>1</td>\n      <td>11.500000</td>\n      <td>NaN</td>\n      <td>NaN</td>\n      <td>NaN</td>\n      <td>NaN</td>\n      <td>NaN</td>\n    </tr>\n  </tbody>\n</table>\n<p>6636 rows × 10 columns</p>\n</div>"
     },
     "metadata": {},
     "execution_count": 256
    }
   ],
   "source": [
    "temp_dup"
   ]
  },
  {
   "cell_type": "code",
   "execution_count": 371,
   "metadata": {},
   "outputs": [
    {
     "output_type": "execute_result",
     "data": {
      "text/plain": [
       "         District states  int_ay  2020  2016  change  pct_change\n",
       "0      Ahmednagar     MH       1  77.4  75.4     2.0    0.026525\n",
       "1      Ahmednagar     MH       1  77.4  57.8    19.6    0.339100\n",
       "2      Ahmednagar     MH       1   0.2  14.4   -14.2   -0.986111\n",
       "3      Ahmednagar     MH       1  14.7   NaN     NaN         NaN\n",
       "4      Ahmednagar     MH       1  37.7   NaN     NaN         NaN\n",
       "...           ...    ...     ...   ...   ...     ...         ...\n",
       "33379  Sepahijala     TR       1  19.9   NaN     NaN         NaN\n",
       "33380  Sepahijala     TR       1  11.3   NaN     NaN         NaN\n",
       "33381  Sepahijala     TR       1   3.3   NaN     NaN         NaN\n",
       "33382  Sepahijala     TR       1   0.9   NaN     NaN         NaN\n",
       "33383  Sepahijala     TR       1   0.2   NaN     NaN         NaN\n",
       "\n",
       "[33384 rows x 7 columns]"
      ],
      "text/html": "<div>\n<style scoped>\n    .dataframe tbody tr th:only-of-type {\n        vertical-align: middle;\n    }\n\n    .dataframe tbody tr th {\n        vertical-align: top;\n    }\n\n    .dataframe thead th {\n        text-align: right;\n    }\n</style>\n<table border=\"1\" class=\"dataframe\">\n  <thead>\n    <tr style=\"text-align: right;\">\n      <th></th>\n      <th>District</th>\n      <th>states</th>\n      <th>int_ay</th>\n      <th>2020</th>\n      <th>2016</th>\n      <th>change</th>\n      <th>pct_change</th>\n    </tr>\n  </thead>\n  <tbody>\n    <tr>\n      <th>0</th>\n      <td>Ahmednagar</td>\n      <td>MH</td>\n      <td>1</td>\n      <td>77.4</td>\n      <td>75.4</td>\n      <td>2.0</td>\n      <td>0.026525</td>\n    </tr>\n    <tr>\n      <th>1</th>\n      <td>Ahmednagar</td>\n      <td>MH</td>\n      <td>1</td>\n      <td>77.4</td>\n      <td>57.8</td>\n      <td>19.6</td>\n      <td>0.339100</td>\n    </tr>\n    <tr>\n      <th>2</th>\n      <td>Ahmednagar</td>\n      <td>MH</td>\n      <td>1</td>\n      <td>0.2</td>\n      <td>14.4</td>\n      <td>-14.2</td>\n      <td>-0.986111</td>\n    </tr>\n    <tr>\n      <th>3</th>\n      <td>Ahmednagar</td>\n      <td>MH</td>\n      <td>1</td>\n      <td>14.7</td>\n      <td>NaN</td>\n      <td>NaN</td>\n      <td>NaN</td>\n    </tr>\n    <tr>\n      <th>4</th>\n      <td>Ahmednagar</td>\n      <td>MH</td>\n      <td>1</td>\n      <td>37.7</td>\n      <td>NaN</td>\n      <td>NaN</td>\n      <td>NaN</td>\n    </tr>\n    <tr>\n      <th>...</th>\n      <td>...</td>\n      <td>...</td>\n      <td>...</td>\n      <td>...</td>\n      <td>...</td>\n      <td>...</td>\n      <td>...</td>\n    </tr>\n    <tr>\n      <th>33379</th>\n      <td>Sepahijala</td>\n      <td>TR</td>\n      <td>1</td>\n      <td>19.9</td>\n      <td>NaN</td>\n      <td>NaN</td>\n      <td>NaN</td>\n    </tr>\n    <tr>\n      <th>33380</th>\n      <td>Sepahijala</td>\n      <td>TR</td>\n      <td>1</td>\n      <td>11.3</td>\n      <td>NaN</td>\n      <td>NaN</td>\n      <td>NaN</td>\n    </tr>\n    <tr>\n      <th>33381</th>\n      <td>Sepahijala</td>\n      <td>TR</td>\n      <td>1</td>\n      <td>3.3</td>\n      <td>NaN</td>\n      <td>NaN</td>\n      <td>NaN</td>\n    </tr>\n    <tr>\n      <th>33382</th>\n      <td>Sepahijala</td>\n      <td>TR</td>\n      <td>1</td>\n      <td>0.9</td>\n      <td>NaN</td>\n      <td>NaN</td>\n      <td>NaN</td>\n    </tr>\n    <tr>\n      <th>33383</th>\n      <td>Sepahijala</td>\n      <td>TR</td>\n      <td>1</td>\n      <td>0.2</td>\n      <td>NaN</td>\n      <td>NaN</td>\n      <td>NaN</td>\n    </tr>\n  </tbody>\n</table>\n<p>33384 rows × 7 columns</p>\n</div>"
     },
     "metadata": {},
     "execution_count": 371
    }
   ],
   "source": [
    "temp1=temp[['District', 'states','bucket','variable' 'int_ay', '2020', '2016','change','pct_change']]\n",
    "temp1"
   ]
  },
  {
   "cell_type": "code",
   "execution_count": 93,
   "metadata": {},
   "outputs": [
    {
     "output_type": "execute_result",
     "data": {
      "text/plain": [
       "'Average out of pocket expenditure per delivery in public health facility '"
      ]
     },
     "metadata": {},
     "execution_count": 93
    }
   ],
   "source": [
    "temp.Buckets.unique()[10]"
   ]
  },
  {
   "cell_type": "code",
   "execution_count": 95,
   "metadata": {},
   "outputs": [
    {
     "output_type": "execute_result",
     "data": {
      "text/plain": [
       "[0.622403047368414, 0.0018126456840666491, 3.155464876489916]"
      ]
     },
     "metadata": {},
     "execution_count": 95
    }
   ],
   "source": [
    "i=temp.Buckets.unique()[10]\n",
    "t=temp[temp['Buckets']==i].dropna()\n",
    "t['2020']=t['2020']/1.17\n",
    "t['pct_change']=(t['2020'].astype('float64')-t['2016'].astype('float64'))/t['2016'].astype('float64')\n",
    "mod = sm.OLS(t['pct_change'].astype('float64'),sm.add_constant(t['int_ay']))\n",
    "res = mod.fit()\n",
    "[res.params[1],res.pvalues[1],res.tvalues[1]]"
   ]
  },
  {
   "cell_type": "code",
   "execution_count": 340,
   "metadata": {},
   "outputs": [
    {
     "output_type": "execute_result",
     "data": {
      "text/plain": [
       "-0.6612256942463642"
      ]
     },
     "metadata": {},
     "execution_count": 340
    }
   ],
   "source": [
    "i=temp.bucket.unique()[10]\n",
    "t=temp[temp['bucket']==i].dropna()\n",
    "t['rf_change']=t['rf_change'].astype('float64').apply(np.log)\n",
    "t['nl_change']=t['nl_change'].astype('float64').apply(np.log)\n",
    "#t=temp[temp['bucket']==i].dropna()\n",
    "t['nl_change'].dropna().mean()\n",
    "\n"
   ]
  },
  {
   "cell_type": "code",
   "execution_count": 353,
   "metadata": {},
   "outputs": [
    {
     "output_type": "stream",
     "name": "stderr",
     "text": [
      "<ipython-input-353-e52933b8c7c1>:1: SettingWithCopyWarning: \nA value is trying to be set on a copy of a slice from a DataFrame.\nTry using .loc[row_indexer,col_indexer] = value instead\n\nSee the caveats in the documentation: https://pandas.pydata.org/pandas-docs/stable/user_guide/indexing.html#returning-a-view-versus-a-copy\n  temp1['pct_change']=(temp1['2020'].astype('float64')-temp1['2016'].astype('float64'))/temp1['2016'].astype('float64')\n"
     ]
    }
   ],
   "source": [
    "temp1['pct_change']=(temp1['2020'].astype('float64')-temp1['2016'].astype('float64'))/temp1['2016'].astype('float64')"
   ]
  },
  {
   "cell_type": "code",
   "execution_count": 330,
   "metadata": {},
   "outputs": [],
   "source": [
    "#np.log1p(temp['rf_change'])\n",
    "temp.to_csv('pre_reg_nfhs_transpose_csv.csv')"
   ]
  },
  {
   "cell_type": "code",
   "execution_count": 2,
   "metadata": {},
   "outputs": [],
   "source": [
    "temp=pd.read_csv('pre_reg_nfhs_transpose_csv.csv')"
   ]
  },
  {
   "cell_type": "code",
   "execution_count": 3,
   "metadata": {},
   "outputs": [
    {
     "output_type": "execute_result",
     "data": {
      "text/plain": [
       "      Unnamed: 0  Unnamed: 0.1  \\\n",
       "0              0             0   \n",
       "1              1             1   \n",
       "2              2             2   \n",
       "3              3             3   \n",
       "4              4             4   \n",
       "...          ...           ...   \n",
       "6631        6631          6631   \n",
       "6632        6632          6632   \n",
       "6633        6633          6633   \n",
       "6634        6634          6634   \n",
       "6635        6635          6635   \n",
       "\n",
       "                                               bucket          district  \\\n",
       "0                    Population and Household Profile        Ahmednagar   \n",
       "1                    Population and Household Profile            Aizawl   \n",
       "2                    Population and Household Profile             Akola   \n",
       "3                    Population and Household Profile         Alappuzha   \n",
       "4                    Population and Household Profile          Amravati   \n",
       "...                                               ...               ...   \n",
       "6631  Hypertension among Adults (age 15-49 years) Men           Palghar   \n",
       "6632  Hypertension among Adults (age 15-49 years) Men        Peddapalli   \n",
       "6633  Hypertension among Adults (age 15-49 years) Men  Rajanna Sircilla   \n",
       "6634  Hypertension among Adults (age 15-49 years) Men        Sangareddy   \n",
       "6635  Hypertension among Adults (age 15-49 years) Men        Sepahijala   \n",
       "\n",
       "     states  int_ay       2020   2016  rf_change  nl_change     change  \\\n",
       "0        MH       1  82.136364  75.12   0.037139   0.619834   7.016364   \n",
       "1        MZ       1  91.500000  88.72  -0.009650   0.249802   2.780000   \n",
       "2        MH       1  91.500000  73.94   0.035971   0.599010  17.560000   \n",
       "3        KL       1  95.054545  84.68   0.125358   0.986913  10.374545   \n",
       "4        MH       1  95.054545  77.56   0.044344   0.510749  17.494545   \n",
       "...     ...     ...        ...    ...        ...        ...        ...   \n",
       "6631     MH       1  14.166667    NaN        NaN        NaN        NaN   \n",
       "6632     TS       0  21.566667    NaN        NaN        NaN        NaN   \n",
       "6633     TS       0  10.466667    NaN        NaN        NaN        NaN   \n",
       "6634     TS       0  20.733333    NaN        NaN        NaN        NaN   \n",
       "6635     TR       1  11.500000    NaN        NaN        NaN        NaN   \n",
       "\n",
       "      pct_change  \n",
       "0       0.093402  \n",
       "1       0.031335  \n",
       "2       0.237490  \n",
       "3       0.122515  \n",
       "4       0.225561  \n",
       "...          ...  \n",
       "6631         NaN  \n",
       "6632         NaN  \n",
       "6633         NaN  \n",
       "6634         NaN  \n",
       "6635         NaN  \n",
       "\n",
       "[6636 rows x 12 columns]"
      ],
      "text/html": "<div>\n<style scoped>\n    .dataframe tbody tr th:only-of-type {\n        vertical-align: middle;\n    }\n\n    .dataframe tbody tr th {\n        vertical-align: top;\n    }\n\n    .dataframe thead th {\n        text-align: right;\n    }\n</style>\n<table border=\"1\" class=\"dataframe\">\n  <thead>\n    <tr style=\"text-align: right;\">\n      <th></th>\n      <th>Unnamed: 0</th>\n      <th>Unnamed: 0.1</th>\n      <th>bucket</th>\n      <th>district</th>\n      <th>states</th>\n      <th>int_ay</th>\n      <th>2020</th>\n      <th>2016</th>\n      <th>rf_change</th>\n      <th>nl_change</th>\n      <th>change</th>\n      <th>pct_change</th>\n    </tr>\n  </thead>\n  <tbody>\n    <tr>\n      <th>0</th>\n      <td>0</td>\n      <td>0</td>\n      <td>Population and Household Profile</td>\n      <td>Ahmednagar</td>\n      <td>MH</td>\n      <td>1</td>\n      <td>82.136364</td>\n      <td>75.12</td>\n      <td>0.037139</td>\n      <td>0.619834</td>\n      <td>7.016364</td>\n      <td>0.093402</td>\n    </tr>\n    <tr>\n      <th>1</th>\n      <td>1</td>\n      <td>1</td>\n      <td>Population and Household Profile</td>\n      <td>Aizawl</td>\n      <td>MZ</td>\n      <td>1</td>\n      <td>91.500000</td>\n      <td>88.72</td>\n      <td>-0.009650</td>\n      <td>0.249802</td>\n      <td>2.780000</td>\n      <td>0.031335</td>\n    </tr>\n    <tr>\n      <th>2</th>\n      <td>2</td>\n      <td>2</td>\n      <td>Population and Household Profile</td>\n      <td>Akola</td>\n      <td>MH</td>\n      <td>1</td>\n      <td>91.500000</td>\n      <td>73.94</td>\n      <td>0.035971</td>\n      <td>0.599010</td>\n      <td>17.560000</td>\n      <td>0.237490</td>\n    </tr>\n    <tr>\n      <th>3</th>\n      <td>3</td>\n      <td>3</td>\n      <td>Population and Household Profile</td>\n      <td>Alappuzha</td>\n      <td>KL</td>\n      <td>1</td>\n      <td>95.054545</td>\n      <td>84.68</td>\n      <td>0.125358</td>\n      <td>0.986913</td>\n      <td>10.374545</td>\n      <td>0.122515</td>\n    </tr>\n    <tr>\n      <th>4</th>\n      <td>4</td>\n      <td>4</td>\n      <td>Population and Household Profile</td>\n      <td>Amravati</td>\n      <td>MH</td>\n      <td>1</td>\n      <td>95.054545</td>\n      <td>77.56</td>\n      <td>0.044344</td>\n      <td>0.510749</td>\n      <td>17.494545</td>\n      <td>0.225561</td>\n    </tr>\n    <tr>\n      <th>...</th>\n      <td>...</td>\n      <td>...</td>\n      <td>...</td>\n      <td>...</td>\n      <td>...</td>\n      <td>...</td>\n      <td>...</td>\n      <td>...</td>\n      <td>...</td>\n      <td>...</td>\n      <td>...</td>\n      <td>...</td>\n    </tr>\n    <tr>\n      <th>6631</th>\n      <td>6631</td>\n      <td>6631</td>\n      <td>Hypertension among Adults (age 15-49 years) Men</td>\n      <td>Palghar</td>\n      <td>MH</td>\n      <td>1</td>\n      <td>14.166667</td>\n      <td>NaN</td>\n      <td>NaN</td>\n      <td>NaN</td>\n      <td>NaN</td>\n      <td>NaN</td>\n    </tr>\n    <tr>\n      <th>6632</th>\n      <td>6632</td>\n      <td>6632</td>\n      <td>Hypertension among Adults (age 15-49 years) Men</td>\n      <td>Peddapalli</td>\n      <td>TS</td>\n      <td>0</td>\n      <td>21.566667</td>\n      <td>NaN</td>\n      <td>NaN</td>\n      <td>NaN</td>\n      <td>NaN</td>\n      <td>NaN</td>\n    </tr>\n    <tr>\n      <th>6633</th>\n      <td>6633</td>\n      <td>6633</td>\n      <td>Hypertension among Adults (age 15-49 years) Men</td>\n      <td>Rajanna Sircilla</td>\n      <td>TS</td>\n      <td>0</td>\n      <td>10.466667</td>\n      <td>NaN</td>\n      <td>NaN</td>\n      <td>NaN</td>\n      <td>NaN</td>\n      <td>NaN</td>\n    </tr>\n    <tr>\n      <th>6634</th>\n      <td>6634</td>\n      <td>6634</td>\n      <td>Hypertension among Adults (age 15-49 years) Men</td>\n      <td>Sangareddy</td>\n      <td>TS</td>\n      <td>0</td>\n      <td>20.733333</td>\n      <td>NaN</td>\n      <td>NaN</td>\n      <td>NaN</td>\n      <td>NaN</td>\n      <td>NaN</td>\n    </tr>\n    <tr>\n      <th>6635</th>\n      <td>6635</td>\n      <td>6635</td>\n      <td>Hypertension among Adults (age 15-49 years) Men</td>\n      <td>Sepahijala</td>\n      <td>TR</td>\n      <td>1</td>\n      <td>11.500000</td>\n      <td>NaN</td>\n      <td>NaN</td>\n      <td>NaN</td>\n      <td>NaN</td>\n      <td>NaN</td>\n    </tr>\n  </tbody>\n</table>\n<p>6636 rows × 12 columns</p>\n</div>"
     },
     "metadata": {},
     "execution_count": 3
    }
   ],
   "source": [
    "temp"
   ]
  },
  {
   "cell_type": "code",
   "execution_count": 13,
   "metadata": {},
   "outputs": [
    {
     "output_type": "execute_result",
     "data": {
      "text/plain": [
       "                                              variable      coef  \\\n",
       "0    1. Female population age 6 years and above who...  0.046100   \n",
       "1    10. Households using clean fuel for cooking3 (... -0.203582   \n",
       "2    100. Ever undergone an oral cavity examination... -0.168817   \n",
       "3    101. Women age 15 years and above who use any ...       NaN   \n",
       "4    102. Men age 15 years and above who use any ki...       NaN   \n",
       "..                                                 ...       ...   \n",
       "99   95. Elevated blood pressure (Systolic ≥140 mm ...       NaN   \n",
       "100  95. Mildly elevated blood pressure (Systolic 1...       NaN   \n",
       "101  96. Moderately or severely elevated blood pres...  0.606529   \n",
       "102  98.Ever undergone a screening test for cervica... -0.131728   \n",
       "103  99.Ever undergone a breast examination for bre... -0.041076   \n",
       "\n",
       "         p-values   t-stats  \n",
       "0    3.753203e-02  2.091483  \n",
       "1    3.228723e-01 -0.990604  \n",
       "2    9.074404e-07 -5.041609  \n",
       "3             NaN       NaN  \n",
       "4             NaN       NaN  \n",
       "..            ...       ...  \n",
       "99            NaN       NaN  \n",
       "100           NaN       NaN  \n",
       "101  3.582237e-01  0.920720  \n",
       "102  2.006279e-03 -3.123432  \n",
       "103  3.318040e-01 -0.972445  \n",
       "\n",
       "[104 rows x 4 columns]"
      ],
      "text/html": "<div>\n<style scoped>\n    .dataframe tbody tr th:only-of-type {\n        vertical-align: middle;\n    }\n\n    .dataframe tbody tr th {\n        vertical-align: top;\n    }\n\n    .dataframe thead th {\n        text-align: right;\n    }\n</style>\n<table border=\"1\" class=\"dataframe\">\n  <thead>\n    <tr style=\"text-align: right;\">\n      <th></th>\n      <th>variable</th>\n      <th>coef</th>\n      <th>p-values</th>\n      <th>t-stats</th>\n    </tr>\n  </thead>\n  <tbody>\n    <tr>\n      <th>0</th>\n      <td>1. Female population age 6 years and above who...</td>\n      <td>0.046100</td>\n      <td>3.753203e-02</td>\n      <td>2.091483</td>\n    </tr>\n    <tr>\n      <th>1</th>\n      <td>10. Households using clean fuel for cooking3 (...</td>\n      <td>-0.203582</td>\n      <td>3.228723e-01</td>\n      <td>-0.990604</td>\n    </tr>\n    <tr>\n      <th>2</th>\n      <td>100. Ever undergone an oral cavity examination...</td>\n      <td>-0.168817</td>\n      <td>9.074404e-07</td>\n      <td>-5.041609</td>\n    </tr>\n    <tr>\n      <th>3</th>\n      <td>101. Women age 15 years and above who use any ...</td>\n      <td>NaN</td>\n      <td>NaN</td>\n      <td>NaN</td>\n    </tr>\n    <tr>\n      <th>4</th>\n      <td>102. Men age 15 years and above who use any ki...</td>\n      <td>NaN</td>\n      <td>NaN</td>\n      <td>NaN</td>\n    </tr>\n    <tr>\n      <th>...</th>\n      <td>...</td>\n      <td>...</td>\n      <td>...</td>\n      <td>...</td>\n    </tr>\n    <tr>\n      <th>99</th>\n      <td>95. Elevated blood pressure (Systolic ≥140 mm ...</td>\n      <td>NaN</td>\n      <td>NaN</td>\n      <td>NaN</td>\n    </tr>\n    <tr>\n      <th>100</th>\n      <td>95. Mildly elevated blood pressure (Systolic 1...</td>\n      <td>NaN</td>\n      <td>NaN</td>\n      <td>NaN</td>\n    </tr>\n    <tr>\n      <th>101</th>\n      <td>96. Moderately or severely elevated blood pres...</td>\n      <td>0.606529</td>\n      <td>3.582237e-01</td>\n      <td>0.920720</td>\n    </tr>\n    <tr>\n      <th>102</th>\n      <td>98.Ever undergone a screening test for cervica...</td>\n      <td>-0.131728</td>\n      <td>2.006279e-03</td>\n      <td>-3.123432</td>\n    </tr>\n    <tr>\n      <th>103</th>\n      <td>99.Ever undergone a breast examination for bre...</td>\n      <td>-0.041076</td>\n      <td>3.318040e-01</td>\n      <td>-0.972445</td>\n    </tr>\n  </tbody>\n</table>\n<p>104 rows × 4 columns</p>\n</div>"
     },
     "metadata": {},
     "execution_count": 13
    }
   ],
   "source": [
    "import numpy as np\n",
    "variables=temp.variable.unique()\n",
    "mainl=[]\n",
    "import statsmodels.api as sm\n",
    "#temp['rf_change']=np.log(temp['rf_change'])\n",
    "#temp['nl_change']=np.log(temp['nl_change'])\n",
    "for i in variables:\n",
    "    try:\n",
    "        t=temp[temp['variable']==i]\n",
    "        t=t.dropna()\n",
    "        t=t[t['pct_change']!=np.inf]\n",
    "        mod = sm.OLS(t['pct_change'].astype('float64'),sm.add_constant(t['int_ay']))\n",
    "        res = mod.fit()\n",
    "        coef=res.params[1]\n",
    "        p=res.pvalues[1]\n",
    "        t=res.tvalues[1]\n",
    "        l=[i,coef,p,t]\n",
    "        mainl.append(l)\n",
    "    except:\n",
    "        mainl.append([i,None,None,None])\n",
    "        continue\n",
    "result=pd.DataFrame(mainl,columns=['variable','coef','p-values','t-stats'])\n",
    "result"
   ]
  },
  {
   "cell_type": "code",
   "execution_count": 376,
   "metadata": {},
   "outputs": [],
   "source": [
    "result.to_csv('nfhs_variables_reg_result_changes_without_controls_pct_change.csv')"
   ]
  },
  {
   "cell_type": "code",
   "execution_count": 502,
   "metadata": {},
   "outputs": [],
   "source": [
    "result.to_csv('bucket_result_regressions_percentage_changes_trans.csv')"
   ]
  },
  {
   "cell_type": "code",
   "execution_count": 98,
   "metadata": {},
   "outputs": [
    {
     "output_type": "execute_result",
     "data": {
      "text/plain": [
       "Index(['Unnamed: 0', 'District', 'states', 'variable', '2016', '2020',\n",
       "       'districts', 'UID2', 'rainfall_2016', 'rainfall_2020', 'nl_2016',\n",
       "       'nl_2020', 'Classes', 'Buckets', 'new_class', 'change', 'pct_change',\n",
       "       'int_ay'],\n",
       "      dtype='object')"
      ]
     },
     "metadata": {},
     "execution_count": 98
    }
   ],
   "source": [
    "#temp['pct_change']=temp['change'].astype('float64')/temp['2016'].astype('float64')\n",
    "#temp.variable.unique()\n",
    "temp.columns"
   ]
  },
  {
   "cell_type": "code",
   "execution_count": 97,
   "metadata": {},
   "outputs": [],
   "source": [
    "#temp[temp['variable']=='4. Sex ratio at birth for children born in the last five years (females per 1,000 males)(PHP)']"
   ]
  },
  {
   "cell_type": "code",
   "execution_count": 84,
   "metadata": {},
   "outputs": [],
   "source": [
    "buc=pd.read_csv(\"bucket_merging (1).csv\")\n",
    "new=pd.read_csv('transpose_with_controls_nfhs4_nfhs5_full.csv')\n",
    "temp=new\n",
    "temp=temp.merge(buc,on='variable')\n",
    "temp['change']=(temp['2020'].astype('float64')-temp['2016'].astype('float64'))\n",
    "temp['pct_change']=(temp['2020'].astype('float64')-temp['2016'].astype('float64'))/temp['2016'].astype('float64')\n",
    "temp=get_int_ay(temp)"
   ]
  },
  {
   "cell_type": "code",
   "execution_count": 99,
   "metadata": {},
   "outputs": [
    {
     "output_type": "execute_result",
     "data": {
      "text/plain": [
       "   Unnamed: 0    District states  \\\n",
       "0           0  Ahmednagar     MH   \n",
       "\n",
       "                                            variable  2016  2020   districts  \\\n",
       "0  1. Female population age 6 years and above who...  75.4  77.4  Ahmednagar   \n",
       "\n",
       "           UID2  rainfall_2016  rainfall_2020  nl_2016   nl_2020  Classes  \\\n",
       "0  AhmednagarMH       0.099904       0.137043   0.5395  1.159334  Neutral   \n",
       "\n",
       "                            Buckets  new_class  change  pct_change  int_ay  \n",
       "0  Population and Household Profile          1     2.0    0.026525       1  "
      ],
      "text/html": "<div>\n<style scoped>\n    .dataframe tbody tr th:only-of-type {\n        vertical-align: middle;\n    }\n\n    .dataframe tbody tr th {\n        vertical-align: top;\n    }\n\n    .dataframe thead th {\n        text-align: right;\n    }\n</style>\n<table border=\"1\" class=\"dataframe\">\n  <thead>\n    <tr style=\"text-align: right;\">\n      <th></th>\n      <th>Unnamed: 0</th>\n      <th>District</th>\n      <th>states</th>\n      <th>variable</th>\n      <th>2016</th>\n      <th>2020</th>\n      <th>districts</th>\n      <th>UID2</th>\n      <th>rainfall_2016</th>\n      <th>rainfall_2020</th>\n      <th>nl_2016</th>\n      <th>nl_2020</th>\n      <th>Classes</th>\n      <th>Buckets</th>\n      <th>new_class</th>\n      <th>change</th>\n      <th>pct_change</th>\n      <th>int_ay</th>\n    </tr>\n  </thead>\n  <tbody>\n    <tr>\n      <th>0</th>\n      <td>0</td>\n      <td>Ahmednagar</td>\n      <td>MH</td>\n      <td>1. Female population age 6 years and above who...</td>\n      <td>75.4</td>\n      <td>77.4</td>\n      <td>Ahmednagar</td>\n      <td>AhmednagarMH</td>\n      <td>0.099904</td>\n      <td>0.137043</td>\n      <td>0.5395</td>\n      <td>1.159334</td>\n      <td>Neutral</td>\n      <td>Population and Household Profile</td>\n      <td>1</td>\n      <td>2.0</td>\n      <td>0.026525</td>\n      <td>1</td>\n    </tr>\n  </tbody>\n</table>\n</div>"
     },
     "metadata": {},
     "execution_count": 99
    }
   ],
   "source": []
  },
  {
   "cell_type": "code",
   "execution_count": 176,
   "metadata": {
    "tags": []
   },
   "outputs": [
    {
     "output_type": "execute_result",
     "data": {
      "text/plain": [
       "         District states           uid  \\\n",
       "0      Ahmednagar     MH  AhmednagarMH   \n",
       "1      Ahmednagar     MH  AhmednagarMH   \n",
       "2      Ahmednagar     MH  AhmednagarMH   \n",
       "3      Ahmednagar     MH  AhmednagarMH   \n",
       "4      Ahmednagar     MH  AhmednagarMH   \n",
       "...           ...    ...           ...   \n",
       "30811  Sepahijala     TR  SepahijalaTR   \n",
       "30812  Sepahijala     TR  SepahijalaTR   \n",
       "30813  Sepahijala     TR  SepahijalaTR   \n",
       "30814  Sepahijala     TR  SepahijalaTR   \n",
       "30815  Sepahijala     TR  SepahijalaTR   \n",
       "\n",
       "                                                variable  2016  2020  \\\n",
       "0      [1. Female population age 6 years and above wh...  75.4  77.4   \n",
       "1      [10. Households using clean fuel for cooking3 ...  57.8  77.4   \n",
       "2      [100. Ever undergone an oral cavity examinatio...  14.4   0.2   \n",
       "3      [101. Women age 15 years and above who use any...   NaN  14.7   \n",
       "4      [102. Men age 15 years and above who use any k...   NaN  37.7   \n",
       "...                                                  ...   ...   ...   \n",
       "30811  [95. Elevated blood pressure (Systolic ≥140 mm...   NaN  19.9   \n",
       "30812  [95. Mildly elevated blood pressure (Systolic ...   NaN  11.3   \n",
       "30813  [96. Moderately or severely elevated blood pre...   NaN   3.3   \n",
       "30814  [98.Ever undergone a screening test for cervic...   NaN   0.9   \n",
       "30815  [99.Ever undergone a breast examination for br...   NaN   0.2   \n",
       "\n",
       "                                                 buckets  new_class  change  \\\n",
       "0                       Population and Household Profile          1     2.0   \n",
       "1                       Population and Household Profile         10    19.6   \n",
       "2      Women Age 15-49 Years Who Have Ever Undergone ...        100   -14.2   \n",
       "3                        Tobacco and Alcohol Consumption        101     NaN   \n",
       "4                        Tobacco and Alcohol Consumption        102     NaN   \n",
       "...                                                  ...        ...     ...   \n",
       "30811    Hypertension among Adults (age 15-49 years) Men         97     NaN   \n",
       "30812    Hypertension among Adults (age 15-49 years) Men         95     NaN   \n",
       "30813    Hypertension among Adults (age 15-49 years) Men         96     NaN   \n",
       "30814  Women Age 15-49 Years Who Have Ever Undergone ...         98     NaN   \n",
       "30815  Women Age 15-49 Years Who Have Ever Undergone ...         99     NaN   \n",
       "\n",
       "       pct_change  int_ay  \n",
       "0        0.026525       1  \n",
       "1        0.339100       1  \n",
       "2       -0.986111       1  \n",
       "3             NaN       1  \n",
       "4             NaN       1  \n",
       "...           ...     ...  \n",
       "30811         NaN       1  \n",
       "30812         NaN       1  \n",
       "30813         NaN       1  \n",
       "30814         NaN       1  \n",
       "30815         NaN       1  \n",
       "\n",
       "[30816 rows x 11 columns]"
      ],
      "text/html": "<div>\n<style scoped>\n    .dataframe tbody tr th:only-of-type {\n        vertical-align: middle;\n    }\n\n    .dataframe tbody tr th {\n        vertical-align: top;\n    }\n\n    .dataframe thead th {\n        text-align: right;\n    }\n</style>\n<table border=\"1\" class=\"dataframe\">\n  <thead>\n    <tr style=\"text-align: right;\">\n      <th></th>\n      <th>District</th>\n      <th>states</th>\n      <th>uid</th>\n      <th>variable</th>\n      <th>2016</th>\n      <th>2020</th>\n      <th>buckets</th>\n      <th>new_class</th>\n      <th>change</th>\n      <th>pct_change</th>\n      <th>int_ay</th>\n    </tr>\n  </thead>\n  <tbody>\n    <tr>\n      <th>0</th>\n      <td>Ahmednagar</td>\n      <td>MH</td>\n      <td>AhmednagarMH</td>\n      <td>[1. Female population age 6 years and above wh...</td>\n      <td>75.4</td>\n      <td>77.4</td>\n      <td>Population and Household Profile</td>\n      <td>1</td>\n      <td>2.0</td>\n      <td>0.026525</td>\n      <td>1</td>\n    </tr>\n    <tr>\n      <th>1</th>\n      <td>Ahmednagar</td>\n      <td>MH</td>\n      <td>AhmednagarMH</td>\n      <td>[10. Households using clean fuel for cooking3 ...</td>\n      <td>57.8</td>\n      <td>77.4</td>\n      <td>Population and Household Profile</td>\n      <td>10</td>\n      <td>19.6</td>\n      <td>0.339100</td>\n      <td>1</td>\n    </tr>\n    <tr>\n      <th>2</th>\n      <td>Ahmednagar</td>\n      <td>MH</td>\n      <td>AhmednagarMH</td>\n      <td>[100. Ever undergone an oral cavity examinatio...</td>\n      <td>14.4</td>\n      <td>0.2</td>\n      <td>Women Age 15-49 Years Who Have Ever Undergone ...</td>\n      <td>100</td>\n      <td>-14.2</td>\n      <td>-0.986111</td>\n      <td>1</td>\n    </tr>\n    <tr>\n      <th>3</th>\n      <td>Ahmednagar</td>\n      <td>MH</td>\n      <td>AhmednagarMH</td>\n      <td>[101. Women age 15 years and above who use any...</td>\n      <td>NaN</td>\n      <td>14.7</td>\n      <td>Tobacco and Alcohol Consumption</td>\n      <td>101</td>\n      <td>NaN</td>\n      <td>NaN</td>\n      <td>1</td>\n    </tr>\n    <tr>\n      <th>4</th>\n      <td>Ahmednagar</td>\n      <td>MH</td>\n      <td>AhmednagarMH</td>\n      <td>[102. Men age 15 years and above who use any k...</td>\n      <td>NaN</td>\n      <td>37.7</td>\n      <td>Tobacco and Alcohol Consumption</td>\n      <td>102</td>\n      <td>NaN</td>\n      <td>NaN</td>\n      <td>1</td>\n    </tr>\n    <tr>\n      <th>...</th>\n      <td>...</td>\n      <td>...</td>\n      <td>...</td>\n      <td>...</td>\n      <td>...</td>\n      <td>...</td>\n      <td>...</td>\n      <td>...</td>\n      <td>...</td>\n      <td>...</td>\n      <td>...</td>\n    </tr>\n    <tr>\n      <th>30811</th>\n      <td>Sepahijala</td>\n      <td>TR</td>\n      <td>SepahijalaTR</td>\n      <td>[95. Elevated blood pressure (Systolic ≥140 mm...</td>\n      <td>NaN</td>\n      <td>19.9</td>\n      <td>Hypertension among Adults (age 15-49 years) Men</td>\n      <td>97</td>\n      <td>NaN</td>\n      <td>NaN</td>\n      <td>1</td>\n    </tr>\n    <tr>\n      <th>30812</th>\n      <td>Sepahijala</td>\n      <td>TR</td>\n      <td>SepahijalaTR</td>\n      <td>[95. Mildly elevated blood pressure (Systolic ...</td>\n      <td>NaN</td>\n      <td>11.3</td>\n      <td>Hypertension among Adults (age 15-49 years) Men</td>\n      <td>95</td>\n      <td>NaN</td>\n      <td>NaN</td>\n      <td>1</td>\n    </tr>\n    <tr>\n      <th>30813</th>\n      <td>Sepahijala</td>\n      <td>TR</td>\n      <td>SepahijalaTR</td>\n      <td>[96. Moderately or severely elevated blood pre...</td>\n      <td>NaN</td>\n      <td>3.3</td>\n      <td>Hypertension among Adults (age 15-49 years) Men</td>\n      <td>96</td>\n      <td>NaN</td>\n      <td>NaN</td>\n      <td>1</td>\n    </tr>\n    <tr>\n      <th>30814</th>\n      <td>Sepahijala</td>\n      <td>TR</td>\n      <td>SepahijalaTR</td>\n      <td>[98.Ever undergone a screening test for cervic...</td>\n      <td>NaN</td>\n      <td>0.9</td>\n      <td>Women Age 15-49 Years Who Have Ever Undergone ...</td>\n      <td>98</td>\n      <td>NaN</td>\n      <td>NaN</td>\n      <td>1</td>\n    </tr>\n    <tr>\n      <th>30815</th>\n      <td>Sepahijala</td>\n      <td>TR</td>\n      <td>SepahijalaTR</td>\n      <td>[99.Ever undergone a breast examination for br...</td>\n      <td>NaN</td>\n      <td>0.2</td>\n      <td>Women Age 15-49 Years Who Have Ever Undergone ...</td>\n      <td>99</td>\n      <td>NaN</td>\n      <td>NaN</td>\n      <td>1</td>\n    </tr>\n  </tbody>\n</table>\n<p>30816 rows × 11 columns</p>\n</div>"
     },
     "metadata": {},
     "execution_count": 176
    }
   ],
   "source": [
    "mainl=[]\n",
    "#72.79,0.24 for delivery care\n",
    "buc=pd.read_csv(\"bucket_merging (1).csv\")\n",
    "new=pd.read_csv('transpose_with_controls_nfhs4_nfhs5_full.csv')\n",
    "\n",
    "temp1=new\n",
    "temp1=process_df(temp1)\n",
    "temp1=temp1.merge(buc,on='variable')\n",
    "temp1['uid']=temp1['District']+temp1['states']\n",
    "temp1=get_int_ay(temp1)\n",
    "#print(temp1[temp1['new_class']==1].int_ay.value_counts())\n",
    "#print(temp1[temp1['new_class']==1].variable.unique())\n",
    "for i in temp1.uid.unique():\n",
    "    t=temp1[temp1['uid']==i]\n",
    "    for j in t.new_class.unique():\n",
    "        try:\n",
    "            t1=t[t['new_class']==j]\n",
    "            if(len(t1.variable.unique())==1):\n",
    "                l=[t1.District.iat[0],t1.states.iat[0],i,list(t1.variable.unique()),t1['2016'].iat[0],t1['2020'].iat[0],t1.Buckets.iat[0],j]\n",
    "                #print(t1.variable.unique())\n",
    "            else:    \n",
    "                l=[t1.District.iat[0],t1.states.iat[0],i,list(t1.variable.unique()),t1['2016'].mean(),t1['2020'].mean(),t1.Buckets.iat[0],j]\n",
    "            mainl.append(l)\n",
    "        except:\n",
    "            l=[t1.District.iat[0],t1.states.iat[0],i,list(t1.variable.unique()),None,None,t1.Buckets.iat[0],j]\n",
    "            mainl.append(l)\n",
    "temp=pd.DataFrame(mainl,columns=['District', 'states','uid', 'variable', '2016', '2020','buckets','new_class'])\n",
    "temp['change']=(temp['2020'].astype('float64')-temp['2016'].astype('float64'))\n",
    "temp['pct_change']=(temp['2020'].astype('float64')-temp['2016'].astype('float64'))/temp['2016'].astype('float64')\n",
    "temp=get_int_ay(temp)\n",
    "#print(temp[temp['new_class']==1].int_ay.value_counts())\n",
    "temp\n",
    "#print(temp[temp['new_class']==1]['variable'].iat[0])"
   ]
  },
  {
   "cell_type": "code",
   "execution_count": 139,
   "metadata": {},
   "outputs": [
    {
     "output_type": "execute_result",
     "data": {
      "text/plain": [
       "         District states           uid  \\\n",
       "0      Ahmednagar     MH  AhmednagarMH   \n",
       "1      Ahmednagar     MH  AhmednagarMH   \n",
       "2      Ahmednagar     MH  AhmednagarMH   \n",
       "3      Ahmednagar     MH  AhmednagarMH   \n",
       "4      Ahmednagar     MH  AhmednagarMH   \n",
       "...           ...    ...           ...   \n",
       "24245   Zunheboto     NL   ZunhebotoNL   \n",
       "24246   Zunheboto     NL   ZunhebotoNL   \n",
       "24247   Zunheboto     NL   ZunhebotoNL   \n",
       "24248   Zunheboto     NL   ZunhebotoNL   \n",
       "24249   Zunheboto     NL   ZunhebotoNL   \n",
       "\n",
       "                                                variable  2016  2020  \\\n",
       "0      [1. Female population age 6 years and above wh...  75.4  77.4   \n",
       "1      [10. Households using clean fuel for cooking3 ...  57.8  77.4   \n",
       "2      [100. Ever undergone an oral cavity examinatio...  14.4   0.2   \n",
       "3      [101. Women age 15 years and above who use any...   NaN  14.7   \n",
       "4      [102. Men age 15 years and above who use any k...   NaN  37.7   \n",
       "...                                                  ...   ...   ...   \n",
       "24245  [95. Elevated blood pressure (Systolic ≥140 mm...   NaN  41.2   \n",
       "24246  [95. Mildly elevated blood pressure (Systolic ...   NaN  29.2   \n",
       "24247  [96. Moderately or severely elevated blood pre...   3.1  11.8   \n",
       "24248  [98.Ever undergone a screening test for cervic...  14.3   0.2   \n",
       "24249  [99.Ever undergone a breast examination for br...   2.0   0.4   \n",
       "\n",
       "                                                 buckets  new_class  change  \\\n",
       "0                       Population and Household Profile          1     2.0   \n",
       "1                       Population and Household Profile         10    19.6   \n",
       "2      Women Age 15-49 Years Who Have Ever Undergone ...        100   -14.2   \n",
       "3                        Tobacco and Alcohol Consumption        101     NaN   \n",
       "4                        Tobacco and Alcohol Consumption        102     NaN   \n",
       "...                                                  ...        ...     ...   \n",
       "24245    Hypertension among Adults (age 15-49 years) Men         97     NaN   \n",
       "24246    Hypertension among Adults (age 15-49 years) Men         95     NaN   \n",
       "24247    Hypertension among Adults (age 15-49 years) Men         96     8.7   \n",
       "24248  Women Age 15-49 Years Who Have Ever Undergone ...         98   -14.1   \n",
       "24249  Women Age 15-49 Years Who Have Ever Undergone ...         99    -1.6   \n",
       "\n",
       "       pct_change  int_ay  \n",
       "0        0.026525       1  \n",
       "1        0.339100       1  \n",
       "2       -0.986111       1  \n",
       "3             NaN       1  \n",
       "4             NaN       1  \n",
       "...           ...     ...  \n",
       "24245         NaN       1  \n",
       "24246         NaN       1  \n",
       "24247    2.806452       1  \n",
       "24248   -0.986014       1  \n",
       "24249   -0.800000       1  \n",
       "\n",
       "[24250 rows x 11 columns]"
      ],
      "text/html": "<div>\n<style scoped>\n    .dataframe tbody tr th:only-of-type {\n        vertical-align: middle;\n    }\n\n    .dataframe tbody tr th {\n        vertical-align: top;\n    }\n\n    .dataframe thead th {\n        text-align: right;\n    }\n</style>\n<table border=\"1\" class=\"dataframe\">\n  <thead>\n    <tr style=\"text-align: right;\">\n      <th></th>\n      <th>District</th>\n      <th>states</th>\n      <th>uid</th>\n      <th>variable</th>\n      <th>2016</th>\n      <th>2020</th>\n      <th>buckets</th>\n      <th>new_class</th>\n      <th>change</th>\n      <th>pct_change</th>\n      <th>int_ay</th>\n    </tr>\n  </thead>\n  <tbody>\n    <tr>\n      <th>0</th>\n      <td>Ahmednagar</td>\n      <td>MH</td>\n      <td>AhmednagarMH</td>\n      <td>[1. Female population age 6 years and above wh...</td>\n      <td>75.4</td>\n      <td>77.4</td>\n      <td>Population and Household Profile</td>\n      <td>1</td>\n      <td>2.0</td>\n      <td>0.026525</td>\n      <td>1</td>\n    </tr>\n    <tr>\n      <th>1</th>\n      <td>Ahmednagar</td>\n      <td>MH</td>\n      <td>AhmednagarMH</td>\n      <td>[10. Households using clean fuel for cooking3 ...</td>\n      <td>57.8</td>\n      <td>77.4</td>\n      <td>Population and Household Profile</td>\n      <td>10</td>\n      <td>19.6</td>\n      <td>0.339100</td>\n      <td>1</td>\n    </tr>\n    <tr>\n      <th>2</th>\n      <td>Ahmednagar</td>\n      <td>MH</td>\n      <td>AhmednagarMH</td>\n      <td>[100. Ever undergone an oral cavity examinatio...</td>\n      <td>14.4</td>\n      <td>0.2</td>\n      <td>Women Age 15-49 Years Who Have Ever Undergone ...</td>\n      <td>100</td>\n      <td>-14.2</td>\n      <td>-0.986111</td>\n      <td>1</td>\n    </tr>\n    <tr>\n      <th>3</th>\n      <td>Ahmednagar</td>\n      <td>MH</td>\n      <td>AhmednagarMH</td>\n      <td>[101. Women age 15 years and above who use any...</td>\n      <td>NaN</td>\n      <td>14.7</td>\n      <td>Tobacco and Alcohol Consumption</td>\n      <td>101</td>\n      <td>NaN</td>\n      <td>NaN</td>\n      <td>1</td>\n    </tr>\n    <tr>\n      <th>4</th>\n      <td>Ahmednagar</td>\n      <td>MH</td>\n      <td>AhmednagarMH</td>\n      <td>[102. Men age 15 years and above who use any k...</td>\n      <td>NaN</td>\n      <td>37.7</td>\n      <td>Tobacco and Alcohol Consumption</td>\n      <td>102</td>\n      <td>NaN</td>\n      <td>NaN</td>\n      <td>1</td>\n    </tr>\n    <tr>\n      <th>...</th>\n      <td>...</td>\n      <td>...</td>\n      <td>...</td>\n      <td>...</td>\n      <td>...</td>\n      <td>...</td>\n      <td>...</td>\n      <td>...</td>\n      <td>...</td>\n      <td>...</td>\n      <td>...</td>\n    </tr>\n    <tr>\n      <th>24245</th>\n      <td>Zunheboto</td>\n      <td>NL</td>\n      <td>ZunhebotoNL</td>\n      <td>[95. Elevated blood pressure (Systolic ≥140 mm...</td>\n      <td>NaN</td>\n      <td>41.2</td>\n      <td>Hypertension among Adults (age 15-49 years) Men</td>\n      <td>97</td>\n      <td>NaN</td>\n      <td>NaN</td>\n      <td>1</td>\n    </tr>\n    <tr>\n      <th>24246</th>\n      <td>Zunheboto</td>\n      <td>NL</td>\n      <td>ZunhebotoNL</td>\n      <td>[95. Mildly elevated blood pressure (Systolic ...</td>\n      <td>NaN</td>\n      <td>29.2</td>\n      <td>Hypertension among Adults (age 15-49 years) Men</td>\n      <td>95</td>\n      <td>NaN</td>\n      <td>NaN</td>\n      <td>1</td>\n    </tr>\n    <tr>\n      <th>24247</th>\n      <td>Zunheboto</td>\n      <td>NL</td>\n      <td>ZunhebotoNL</td>\n      <td>[96. Moderately or severely elevated blood pre...</td>\n      <td>3.1</td>\n      <td>11.8</td>\n      <td>Hypertension among Adults (age 15-49 years) Men</td>\n      <td>96</td>\n      <td>8.7</td>\n      <td>2.806452</td>\n      <td>1</td>\n    </tr>\n    <tr>\n      <th>24248</th>\n      <td>Zunheboto</td>\n      <td>NL</td>\n      <td>ZunhebotoNL</td>\n      <td>[98.Ever undergone a screening test for cervic...</td>\n      <td>14.3</td>\n      <td>0.2</td>\n      <td>Women Age 15-49 Years Who Have Ever Undergone ...</td>\n      <td>98</td>\n      <td>-14.1</td>\n      <td>-0.986014</td>\n      <td>1</td>\n    </tr>\n    <tr>\n      <th>24249</th>\n      <td>Zunheboto</td>\n      <td>NL</td>\n      <td>ZunhebotoNL</td>\n      <td>[99.Ever undergone a breast examination for br...</td>\n      <td>2.0</td>\n      <td>0.4</td>\n      <td>Women Age 15-49 Years Who Have Ever Undergone ...</td>\n      <td>99</td>\n      <td>-1.6</td>\n      <td>-0.800000</td>\n      <td>1</td>\n    </tr>\n  </tbody>\n</table>\n<p>24250 rows × 11 columns</p>\n</div>"
     },
     "metadata": {},
     "execution_count": 139
    }
   ],
   "source": [
    "temp"
   ]
  },
  {
   "cell_type": "code",
   "execution_count": 177,
   "metadata": {
    "tags": []
   },
   "outputs": [
    {
     "output_type": "stream",
     "name": "stdout",
     "text": [
      "<class 'pandas.core.frame.DataFrame'>\n",
      "<class 'pandas.core.frame.DataFrame'>\n",
      "<class 'pandas.core.frame.DataFrame'>\n",
      "<class 'pandas.core.frame.DataFrame'>\n",
      "<class 'pandas.core.frame.DataFrame'>\n",
      "<class 'pandas.core.frame.DataFrame'>\n",
      "<class 'pandas.core.frame.DataFrame'>\n",
      "<class 'pandas.core.frame.DataFrame'>\n",
      "<class 'pandas.core.frame.DataFrame'>\n",
      "<class 'pandas.core.frame.DataFrame'>\n",
      "<class 'pandas.core.frame.DataFrame'>\n",
      "<class 'pandas.core.frame.DataFrame'>\n",
      "<class 'pandas.core.frame.DataFrame'>\n",
      "<class 'pandas.core.frame.DataFrame'>\n",
      "<class 'pandas.core.frame.DataFrame'>\n",
      "<class 'pandas.core.frame.DataFrame'>\n",
      "<class 'pandas.core.frame.DataFrame'>\n",
      "<class 'pandas.core.frame.DataFrame'>\n",
      "<class 'pandas.core.frame.DataFrame'>\n",
      "<class 'pandas.core.frame.DataFrame'>\n",
      "<class 'pandas.core.frame.DataFrame'>\n"
     ]
    },
    {
     "output_type": "execute_result",
     "data": {
      "text/plain": [
       "                                              buckets  new_class  \\\n",
       "0                    Population and Household Profile          1   \n",
       "1                    Population and Household Profile         10   \n",
       "2   Women Age 15-49 Years Who Have Ever Undergone ...        100   \n",
       "3   Women Age 15-49 Years Who Have Ever Undergone ...        101   \n",
       "4   Women Age 15-49 Years Who Have Ever Undergone ...        102   \n",
       "..                                                ...        ...   \n",
       "91  Hypertension among Adults (age 15-49 years) Women         97   \n",
       "92  Hypertension among Adults (age 15-49 years) Women         95   \n",
       "93    Hypertension among Adults (age 15-49 years) Men         96   \n",
       "94  Women Age 15-49 Years Who Have Ever Undergone ...         98   \n",
       "95  Women Age 15-49 Years Who Have Ever Undergone ...         99   \n",
       "\n",
       "                                            variables       coef  p-values  \\\n",
       "0   [1. Female population age 6 years and above wh...   2.909100  0.041094   \n",
       "1   [10. Households using clean fuel for cooking3 ...   5.330418  0.167614   \n",
       "2   [100. Ever undergone an oral cavity examinatio... -11.607448  0.000191   \n",
       "3                                                  []        NaN       NaN   \n",
       "4                                                  []        NaN       NaN   \n",
       "..                                                ...        ...       ...   \n",
       "91                                                 []        NaN       NaN   \n",
       "92                                                 []        NaN       NaN   \n",
       "93  [96. Moderately or severely elevated blood pre...   0.540460  0.399202   \n",
       "94  [98.Ever undergone a screening test for cervic... -15.352197  0.000040   \n",
       "95  [99.Ever undergone a breast examination for br...  -7.551130  0.001685   \n",
       "\n",
       "     t-stats  \n",
       "0   2.052905  \n",
       "1   1.383820  \n",
       "2  -3.785664  \n",
       "3        NaN  \n",
       "4        NaN  \n",
       "..       ...  \n",
       "91       NaN  \n",
       "92       NaN  \n",
       "93  0.844452  \n",
       "94 -4.179195  \n",
       "95 -3.174290  \n",
       "\n",
       "[96 rows x 6 columns]"
      ],
      "text/html": "<div>\n<style scoped>\n    .dataframe tbody tr th:only-of-type {\n        vertical-align: middle;\n    }\n\n    .dataframe tbody tr th {\n        vertical-align: top;\n    }\n\n    .dataframe thead th {\n        text-align: right;\n    }\n</style>\n<table border=\"1\" class=\"dataframe\">\n  <thead>\n    <tr style=\"text-align: right;\">\n      <th></th>\n      <th>buckets</th>\n      <th>new_class</th>\n      <th>variables</th>\n      <th>coef</th>\n      <th>p-values</th>\n      <th>t-stats</th>\n    </tr>\n  </thead>\n  <tbody>\n    <tr>\n      <th>0</th>\n      <td>Population and Household Profile</td>\n      <td>1</td>\n      <td>[1. Female population age 6 years and above wh...</td>\n      <td>2.909100</td>\n      <td>0.041094</td>\n      <td>2.052905</td>\n    </tr>\n    <tr>\n      <th>1</th>\n      <td>Population and Household Profile</td>\n      <td>10</td>\n      <td>[10. Households using clean fuel for cooking3 ...</td>\n      <td>5.330418</td>\n      <td>0.167614</td>\n      <td>1.383820</td>\n    </tr>\n    <tr>\n      <th>2</th>\n      <td>Women Age 15-49 Years Who Have Ever Undergone ...</td>\n      <td>100</td>\n      <td>[100. Ever undergone an oral cavity examinatio...</td>\n      <td>-11.607448</td>\n      <td>0.000191</td>\n      <td>-3.785664</td>\n    </tr>\n    <tr>\n      <th>3</th>\n      <td>Women Age 15-49 Years Who Have Ever Undergone ...</td>\n      <td>101</td>\n      <td>[]</td>\n      <td>NaN</td>\n      <td>NaN</td>\n      <td>NaN</td>\n    </tr>\n    <tr>\n      <th>4</th>\n      <td>Women Age 15-49 Years Who Have Ever Undergone ...</td>\n      <td>102</td>\n      <td>[]</td>\n      <td>NaN</td>\n      <td>NaN</td>\n      <td>NaN</td>\n    </tr>\n    <tr>\n      <th>...</th>\n      <td>...</td>\n      <td>...</td>\n      <td>...</td>\n      <td>...</td>\n      <td>...</td>\n      <td>...</td>\n    </tr>\n    <tr>\n      <th>91</th>\n      <td>Hypertension among Adults (age 15-49 years) Women</td>\n      <td>97</td>\n      <td>[]</td>\n      <td>NaN</td>\n      <td>NaN</td>\n      <td>NaN</td>\n    </tr>\n    <tr>\n      <th>92</th>\n      <td>Hypertension among Adults (age 15-49 years) Women</td>\n      <td>95</td>\n      <td>[]</td>\n      <td>NaN</td>\n      <td>NaN</td>\n      <td>NaN</td>\n    </tr>\n    <tr>\n      <th>93</th>\n      <td>Hypertension among Adults (age 15-49 years) Men</td>\n      <td>96</td>\n      <td>[96. Moderately or severely elevated blood pre...</td>\n      <td>0.540460</td>\n      <td>0.399202</td>\n      <td>0.844452</td>\n    </tr>\n    <tr>\n      <th>94</th>\n      <td>Women Age 15-49 Years Who Have Ever Undergone ...</td>\n      <td>98</td>\n      <td>[98.Ever undergone a screening test for cervic...</td>\n      <td>-15.352197</td>\n      <td>0.000040</td>\n      <td>-4.179195</td>\n    </tr>\n    <tr>\n      <th>95</th>\n      <td>Women Age 15-49 Years Who Have Ever Undergone ...</td>\n      <td>99</td>\n      <td>[99.Ever undergone a breast examination for br...</td>\n      <td>-7.551130</td>\n      <td>0.001685</td>\n      <td>-3.174290</td>\n    </tr>\n  </tbody>\n</table>\n<p>96 rows × 6 columns</p>\n</div>"
     },
     "metadata": {},
     "execution_count": 177
    }
   ],
   "source": [
    "variables=temp.new_class.unique()\n",
    "mainl=[]\n",
    "s_ratio_vars=[3,4]\n",
    "for i in variables:\n",
    "    try:\n",
    "        t=temp[temp['new_class']==i]\n",
    "        t=t.dropna()\n",
    "        b=t.buckets.iat[0]\n",
    "        #t=t[t['pct_change']!=np.inf]\n",
    "        mod = sm.OLS(t['change'].astype('float64'),sm.add_constant(t['int_ay']))\n",
    "        res = mod.fit()\n",
    "        coef=res.params[1]\n",
    "        p=res.pvalues[1]\n",
    "        ts=res.tvalues[1]\n",
    "        l=[b,i,t.variable.iat[0],coef,p,ts]\n",
    "        mainl.append(l)\n",
    "    except:\n",
    "        #print(t)\n",
    "        print(type(t))\n",
    "        l=[b,i,[],None,None,None]\n",
    "        mainl.append(l)\n",
    "        continue\n",
    "result=pd.DataFrame(mainl,columns=['buckets','new_class','variables','coef','p-values','t-stats'])\n",
    "#result=result.merge(buc, on='new_class')\n",
    "result"
   ]
  },
  {
   "cell_type": "code",
   "execution_count": 147,
   "metadata": {},
   "outputs": [
    {
     "output_type": "execute_result",
     "data": {
      "text/plain": [
       "                                              buckets  new_class       coef  \\\n",
       "0                    Population and Household Profile          1   2.909100   \n",
       "1                    Population and Household Profile         10   5.330418   \n",
       "2   Women Age 15-49 Years Who Have Ever Undergone ...        100 -11.607448   \n",
       "3   Women Age 15-49 Years Who Have Ever Undergone ...        101        NaN   \n",
       "4   Women Age 15-49 Years Who Have Ever Undergone ...        102        NaN   \n",
       "5   Women Age 15-49 Years Who Have Ever Undergone ...        103        NaN   \n",
       "6   Women Age 15-49 Years Who Have Ever Undergone ...        104        NaN   \n",
       "7                    Population and Household Profile         11   0.536862   \n",
       "8          Health Insurance/Financing Scheme Coverage         12  19.721883   \n",
       "9          Health Insurance/Financing Scheme Coverage         13        NaN   \n",
       "10            Characteristics of Adults (15-19 Years)         14   1.929644   \n",
       "11            Characteristics of Adults (15-19 Years)         15   0.059686   \n",
       "\n",
       "    p-values   t-stats   Classes  \\\n",
       "0   0.041094  2.052905   Neutral   \n",
       "1   0.167614  1.383820   Neutral   \n",
       "2   0.000191 -3.785664   Neutral   \n",
       "3        NaN       NaN   Neutral   \n",
       "4        NaN       NaN   Neutral   \n",
       "5        NaN       NaN   Neutral   \n",
       "6        NaN       NaN   Neutral   \n",
       "7   0.755045  0.312328   Neutral   \n",
       "8   0.000021  4.336617  Positive   \n",
       "9        NaN       NaN   Neutral   \n",
       "10  0.311832  1.013379   Neutral   \n",
       "11  0.980734  0.024172   Neutral   \n",
       "\n",
       "                                              Buckets  \\\n",
       "0                    Population and Household Profile   \n",
       "1                    Population and Household Profile   \n",
       "2   Women Age 15-49 Years Who Have Ever Undergone ...   \n",
       "3                     Tobacco and Alcohol Consumption   \n",
       "4                     Tobacco and Alcohol Consumption   \n",
       "5                     Tobacco and Alcohol Consumption   \n",
       "6                     Tobacco and Alcohol Consumption   \n",
       "7                    Population and Household Profile   \n",
       "8          Health Insurance/Financing Scheme Coverage   \n",
       "9             Characteristics of Adults (15-19 Years)   \n",
       "10            Characteristics of Adults (15-19 Years)   \n",
       "11            Characteristics of Adults (15-19 Years)   \n",
       "\n",
       "                                             variable  \n",
       "0   1. Female population age 6 years and above who...  \n",
       "1   10. Households using clean fuel for cooking3 (...  \n",
       "2   100. Ever undergone an oral cavity examination...  \n",
       "3   101. Women age 15 years and above who use any ...  \n",
       "4   102. Men age 15 years and above who use any ki...  \n",
       "5   103. Women age 15 years and above who consume ...  \n",
       "6   104. Men age 15 years and above who consume al...  \n",
       "7          11. Households using iodized salt (%)(PHP)  \n",
       "8   12. Households with any usual member covered u...  \n",
       "9   13. Children age 5 years who attended pre-prim...  \n",
       "10     14. Women who are literate4 (%)(CW(Age 15-49))  \n",
       "11  15. Women with 10 or more years of schooling (...  "
      ],
      "text/html": "<div>\n<style scoped>\n    .dataframe tbody tr th:only-of-type {\n        vertical-align: middle;\n    }\n\n    .dataframe tbody tr th {\n        vertical-align: top;\n    }\n\n    .dataframe thead th {\n        text-align: right;\n    }\n</style>\n<table border=\"1\" class=\"dataframe\">\n  <thead>\n    <tr style=\"text-align: right;\">\n      <th></th>\n      <th>buckets</th>\n      <th>new_class</th>\n      <th>coef</th>\n      <th>p-values</th>\n      <th>t-stats</th>\n      <th>Classes</th>\n      <th>Buckets</th>\n      <th>variable</th>\n    </tr>\n  </thead>\n  <tbody>\n    <tr>\n      <th>0</th>\n      <td>Population and Household Profile</td>\n      <td>1</td>\n      <td>2.909100</td>\n      <td>0.041094</td>\n      <td>2.052905</td>\n      <td>Neutral</td>\n      <td>Population and Household Profile</td>\n      <td>1. Female population age 6 years and above who...</td>\n    </tr>\n    <tr>\n      <th>1</th>\n      <td>Population and Household Profile</td>\n      <td>10</td>\n      <td>5.330418</td>\n      <td>0.167614</td>\n      <td>1.383820</td>\n      <td>Neutral</td>\n      <td>Population and Household Profile</td>\n      <td>10. Households using clean fuel for cooking3 (...</td>\n    </tr>\n    <tr>\n      <th>2</th>\n      <td>Women Age 15-49 Years Who Have Ever Undergone ...</td>\n      <td>100</td>\n      <td>-11.607448</td>\n      <td>0.000191</td>\n      <td>-3.785664</td>\n      <td>Neutral</td>\n      <td>Women Age 15-49 Years Who Have Ever Undergone ...</td>\n      <td>100. Ever undergone an oral cavity examination...</td>\n    </tr>\n    <tr>\n      <th>3</th>\n      <td>Women Age 15-49 Years Who Have Ever Undergone ...</td>\n      <td>101</td>\n      <td>NaN</td>\n      <td>NaN</td>\n      <td>NaN</td>\n      <td>Neutral</td>\n      <td>Tobacco and Alcohol Consumption</td>\n      <td>101. Women age 15 years and above who use any ...</td>\n    </tr>\n    <tr>\n      <th>4</th>\n      <td>Women Age 15-49 Years Who Have Ever Undergone ...</td>\n      <td>102</td>\n      <td>NaN</td>\n      <td>NaN</td>\n      <td>NaN</td>\n      <td>Neutral</td>\n      <td>Tobacco and Alcohol Consumption</td>\n      <td>102. Men age 15 years and above who use any ki...</td>\n    </tr>\n    <tr>\n      <th>5</th>\n      <td>Women Age 15-49 Years Who Have Ever Undergone ...</td>\n      <td>103</td>\n      <td>NaN</td>\n      <td>NaN</td>\n      <td>NaN</td>\n      <td>Neutral</td>\n      <td>Tobacco and Alcohol Consumption</td>\n      <td>103. Women age 15 years and above who consume ...</td>\n    </tr>\n    <tr>\n      <th>6</th>\n      <td>Women Age 15-49 Years Who Have Ever Undergone ...</td>\n      <td>104</td>\n      <td>NaN</td>\n      <td>NaN</td>\n      <td>NaN</td>\n      <td>Neutral</td>\n      <td>Tobacco and Alcohol Consumption</td>\n      <td>104. Men age 15 years and above who consume al...</td>\n    </tr>\n    <tr>\n      <th>7</th>\n      <td>Population and Household Profile</td>\n      <td>11</td>\n      <td>0.536862</td>\n      <td>0.755045</td>\n      <td>0.312328</td>\n      <td>Neutral</td>\n      <td>Population and Household Profile</td>\n      <td>11. Households using iodized salt (%)(PHP)</td>\n    </tr>\n    <tr>\n      <th>8</th>\n      <td>Health Insurance/Financing Scheme Coverage</td>\n      <td>12</td>\n      <td>19.721883</td>\n      <td>0.000021</td>\n      <td>4.336617</td>\n      <td>Positive</td>\n      <td>Health Insurance/Financing Scheme Coverage</td>\n      <td>12. Households with any usual member covered u...</td>\n    </tr>\n    <tr>\n      <th>9</th>\n      <td>Health Insurance/Financing Scheme Coverage</td>\n      <td>13</td>\n      <td>NaN</td>\n      <td>NaN</td>\n      <td>NaN</td>\n      <td>Neutral</td>\n      <td>Characteristics of Adults (15-19 Years)</td>\n      <td>13. Children age 5 years who attended pre-prim...</td>\n    </tr>\n    <tr>\n      <th>10</th>\n      <td>Characteristics of Adults (15-19 Years)</td>\n      <td>14</td>\n      <td>1.929644</td>\n      <td>0.311832</td>\n      <td>1.013379</td>\n      <td>Neutral</td>\n      <td>Characteristics of Adults (15-19 Years)</td>\n      <td>14. Women who are literate4 (%)(CW(Age 15-49))</td>\n    </tr>\n    <tr>\n      <th>11</th>\n      <td>Characteristics of Adults (15-19 Years)</td>\n      <td>15</td>\n      <td>0.059686</td>\n      <td>0.980734</td>\n      <td>0.024172</td>\n      <td>Neutral</td>\n      <td>Characteristics of Adults (15-19 Years)</td>\n      <td>15. Women with 10 or more years of schooling (...</td>\n    </tr>\n  </tbody>\n</table>\n</div>"
     },
     "metadata": {},
     "execution_count": 147
    }
   ],
   "source": [
    "result.head(12)"
   ]
  },
  {
   "cell_type": "code",
   "execution_count": 178,
   "metadata": {},
   "outputs": [
    {
     "output_type": "execute_result",
     "data": {
      "text/plain": [
       "                            buckets  new_class  \\\n",
       "57  Treatment of Childhood Diseases         61   \n",
       "\n",
       "                                            variables      coef  p-values  \\\n",
       "57  [61. Prevalence of diarrhoea in the 2 weeks pr... -8.209414  0.046479   \n",
       "\n",
       "     t-stats  \n",
       "57 -2.000674  "
      ],
      "text/html": "<div>\n<style scoped>\n    .dataframe tbody tr th:only-of-type {\n        vertical-align: middle;\n    }\n\n    .dataframe tbody tr th {\n        vertical-align: top;\n    }\n\n    .dataframe thead th {\n        text-align: right;\n    }\n</style>\n<table border=\"1\" class=\"dataframe\">\n  <thead>\n    <tr style=\"text-align: right;\">\n      <th></th>\n      <th>buckets</th>\n      <th>new_class</th>\n      <th>variables</th>\n      <th>coef</th>\n      <th>p-values</th>\n      <th>t-stats</th>\n    </tr>\n  </thead>\n  <tbody>\n    <tr>\n      <th>57</th>\n      <td>Treatment of Childhood Diseases</td>\n      <td>61</td>\n      <td>[61. Prevalence of diarrhoea in the 2 weeks pr...</td>\n      <td>-8.209414</td>\n      <td>0.046479</td>\n      <td>-2.000674</td>\n    </tr>\n  </tbody>\n</table>\n</div>"
     },
     "metadata": {},
     "execution_count": 178
    }
   ],
   "source": [
    "result[result['new_class']==61]"
   ]
  },
  {
   "cell_type": "code",
   "execution_count": 168,
   "metadata": {},
   "outputs": [],
   "source": [
    "result.to_csv('Difference_change_all_variables_reg_result_trans_new_with_bucket_new_final_4.csv')"
   ]
  },
  {
   "cell_type": "code",
   "execution_count": 31,
   "metadata": {},
   "outputs": [],
   "source": [
    "result.to_csv('results_reg.csv')"
   ]
  },
  {
   "cell_type": "code",
   "execution_count": 25,
   "metadata": {},
   "outputs": [
    {
     "output_type": "execute_result",
     "data": {
      "text/plain": [
       "     Unnamed: 0                                           variable       coef  \\\n",
       "0             1  1. Female population age 6 years and above who...   2.863117   \n",
       "1             2          2. Population below age 15 years (%)(PHP)  -0.376704   \n",
       "2             3  3. Sex ratio of the total population (females ...   3.473991   \n",
       "3             4  4. Sex ratio at birth for children born in the... -38.308744   \n",
       "4             5  5. Children under age 5 years whose birth was ...   4.371570   \n",
       "..          ...                                                ...        ...   \n",
       "99          100  100. Ever undergone an oral cavity examination... -11.535247   \n",
       "100         101  101. Women age 15 years and above who use any ...        NaN   \n",
       "101         102  102. Men age 15 years and above who use any ki...        NaN   \n",
       "102         103  103. Women age 15 years and above who consume ...        NaN   \n",
       "103         104  104. Men age 15 years and above who consume al...        NaN   \n",
       "\n",
       "     p-values   t-stats  Classes  \\\n",
       "0    0.045127  2.013942  Neutral   \n",
       "1    0.674407 -0.420621  Neutral   \n",
       "2    0.807581  0.243815  Neutral   \n",
       "3    0.368102 -0.901728  Neutral   \n",
       "4    0.069762  1.821554  Neutral   \n",
       "..        ...       ...      ...   \n",
       "99   0.000259 -3.708711  Neutral   \n",
       "100       NaN       NaN  Neutral   \n",
       "101       NaN       NaN  Neutral   \n",
       "102       NaN       NaN  Neutral   \n",
       "103       NaN       NaN  Neutral   \n",
       "\n",
       "                                               Buckets  \n",
       "0                     Population and Household Profile  \n",
       "1                     Population and Household Profile  \n",
       "2                     Population and Household Profile  \n",
       "3                     Population and Household Profile  \n",
       "4                     Population and Household Profile  \n",
       "..                                                 ...  \n",
       "99   Women Age 15-49 Years Who Have Ever Undergone ...  \n",
       "100                    Tobacco and Alcohol Consumption  \n",
       "101                    Tobacco and Alcohol Consumption  \n",
       "102                    Tobacco and Alcohol Consumption  \n",
       "103                    Tobacco and Alcohol Consumption  \n",
       "\n",
       "[104 rows x 7 columns]"
      ],
      "text/html": "<div>\n<style scoped>\n    .dataframe tbody tr th:only-of-type {\n        vertical-align: middle;\n    }\n\n    .dataframe tbody tr th {\n        vertical-align: top;\n    }\n\n    .dataframe thead th {\n        text-align: right;\n    }\n</style>\n<table border=\"1\" class=\"dataframe\">\n  <thead>\n    <tr style=\"text-align: right;\">\n      <th></th>\n      <th>Unnamed: 0</th>\n      <th>variable</th>\n      <th>coef</th>\n      <th>p-values</th>\n      <th>t-stats</th>\n      <th>Classes</th>\n      <th>Buckets</th>\n    </tr>\n  </thead>\n  <tbody>\n    <tr>\n      <th>0</th>\n      <td>1</td>\n      <td>1. Female population age 6 years and above who...</td>\n      <td>2.863117</td>\n      <td>0.045127</td>\n      <td>2.013942</td>\n      <td>Neutral</td>\n      <td>Population and Household Profile</td>\n    </tr>\n    <tr>\n      <th>1</th>\n      <td>2</td>\n      <td>2. Population below age 15 years (%)(PHP)</td>\n      <td>-0.376704</td>\n      <td>0.674407</td>\n      <td>-0.420621</td>\n      <td>Neutral</td>\n      <td>Population and Household Profile</td>\n    </tr>\n    <tr>\n      <th>2</th>\n      <td>3</td>\n      <td>3. Sex ratio of the total population (females ...</td>\n      <td>3.473991</td>\n      <td>0.807581</td>\n      <td>0.243815</td>\n      <td>Neutral</td>\n      <td>Population and Household Profile</td>\n    </tr>\n    <tr>\n      <th>3</th>\n      <td>4</td>\n      <td>4. Sex ratio at birth for children born in the...</td>\n      <td>-38.308744</td>\n      <td>0.368102</td>\n      <td>-0.901728</td>\n      <td>Neutral</td>\n      <td>Population and Household Profile</td>\n    </tr>\n    <tr>\n      <th>4</th>\n      <td>5</td>\n      <td>5. Children under age 5 years whose birth was ...</td>\n      <td>4.371570</td>\n      <td>0.069762</td>\n      <td>1.821554</td>\n      <td>Neutral</td>\n      <td>Population and Household Profile</td>\n    </tr>\n    <tr>\n      <th>...</th>\n      <td>...</td>\n      <td>...</td>\n      <td>...</td>\n      <td>...</td>\n      <td>...</td>\n      <td>...</td>\n      <td>...</td>\n    </tr>\n    <tr>\n      <th>99</th>\n      <td>100</td>\n      <td>100. Ever undergone an oral cavity examination...</td>\n      <td>-11.535247</td>\n      <td>0.000259</td>\n      <td>-3.708711</td>\n      <td>Neutral</td>\n      <td>Women Age 15-49 Years Who Have Ever Undergone ...</td>\n    </tr>\n    <tr>\n      <th>100</th>\n      <td>101</td>\n      <td>101. Women age 15 years and above who use any ...</td>\n      <td>NaN</td>\n      <td>NaN</td>\n      <td>NaN</td>\n      <td>Neutral</td>\n      <td>Tobacco and Alcohol Consumption</td>\n    </tr>\n    <tr>\n      <th>101</th>\n      <td>102</td>\n      <td>102. Men age 15 years and above who use any ki...</td>\n      <td>NaN</td>\n      <td>NaN</td>\n      <td>NaN</td>\n      <td>Neutral</td>\n      <td>Tobacco and Alcohol Consumption</td>\n    </tr>\n    <tr>\n      <th>102</th>\n      <td>103</td>\n      <td>103. Women age 15 years and above who consume ...</td>\n      <td>NaN</td>\n      <td>NaN</td>\n      <td>NaN</td>\n      <td>Neutral</td>\n      <td>Tobacco and Alcohol Consumption</td>\n    </tr>\n    <tr>\n      <th>103</th>\n      <td>104</td>\n      <td>104. Men age 15 years and above who consume al...</td>\n      <td>NaN</td>\n      <td>NaN</td>\n      <td>NaN</td>\n      <td>Neutral</td>\n      <td>Tobacco and Alcohol Consumption</td>\n    </tr>\n  </tbody>\n</table>\n<p>104 rows × 7 columns</p>\n</div>"
     },
     "metadata": {},
     "execution_count": 25
    }
   ],
   "source": [
    "result=pd.read_csv('Difference_change_all_variables_reg_result_trans_new.csv')\n",
    "result=result.merge(buc, on='variable')\n",
    "result"
   ]
  },
  {
   "cell_type": "code",
   "execution_count": 150,
   "metadata": {},
   "outputs": [],
   "source": [
    "temp['date']=20200101\n",
    "#temp['date1']=pd.to_datetime(temp.date)\n",
    "#temp=df[['District','date','states','2020','2016','int_ay']]\n",
    "#temp1=temp.set_index(['District','date'])\n",
    "#temp1"
   ]
  },
  {
   "cell_type": "code",
   "execution_count": 922,
   "metadata": {},
   "outputs": [
    {
     "output_type": "execute_result",
     "data": {
      "text/plain": [
       "pandas._libs.tslibs.timestamps.Timestamp"
      ]
     },
     "metadata": {},
     "execution_count": 922
    }
   ],
   "source": [
    "type(temp['date'].iat[0])"
   ]
  },
  {
   "cell_type": "code",
   "execution_count": 152,
   "metadata": {},
   "outputs": [
    {
     "output_type": "execute_result",
     "data": {
      "text/plain": [
       "pandas.core.frame.DataFrame"
      ]
     },
     "metadata": {},
     "execution_count": 152
    }
   ],
   "source": [
    "type"
   ]
  },
  {
   "cell_type": "code",
   "execution_count": 153,
   "metadata": {
    "tags": [
     "outputPrepend"
    ]
   },
   "outputs": [
    {
     "output_type": "stream",
     "name": "stderr",
     "text": [
      "aveats in the documentation: https://pandas.pydata.org/pandas-docs/stable/user_guide/indexing.html#returning-a-view-versus-a-copy\n",
      "  self[name] = value\n",
      "C:\\Users\\akhil\\AppData\\Local\\Packages\\PythonSoftwareFoundation.Python.3.8_qbz5n2kfra8p0\\LocalCache\\local-packages\\Python38\\site-packages\\linearmodels\\shared\\exceptions.py:35: MissingValueWarning: \n",
      "Inputs contain missing values. Dropping rows with missing observations.\n",
      "  warnings.warn(missing_value_warning_msg, MissingValueWarning)\n",
      "<ipython-input-153-a28ee46e0344>:11: SettingWithCopyWarning: \n",
      "A value is trying to be set on a copy of a slice from a DataFrame.\n",
      "Try using .loc[row_indexer,col_indexer] = value instead\n",
      "\n",
      "See the caveats in the documentation: https://pandas.pydata.org/pandas-docs/stable/user_guide/indexing.html#returning-a-view-versus-a-copy\n",
      "  t['const']=1\n",
      "C:\\Users\\akhil\\AppData\\Local\\Packages\\PythonSoftwareFoundation.Python.3.8_qbz5n2kfra8p0\\LocalCache\\local-packages\\Python38\\site-packages\\pandas\\core\\generic.py:5170: SettingWithCopyWarning: \n",
      "A value is trying to be set on a copy of a slice from a DataFrame.\n",
      "Try using .loc[row_indexer,col_indexer] = value instead\n",
      "\n",
      "See the caveats in the documentation: https://pandas.pydata.org/pandas-docs/stable/user_guide/indexing.html#returning-a-view-versus-a-copy\n",
      "  self[name] = value\n",
      "C:\\Users\\akhil\\AppData\\Local\\Packages\\PythonSoftwareFoundation.Python.3.8_qbz5n2kfra8p0\\LocalCache\\local-packages\\Python38\\site-packages\\linearmodels\\shared\\exceptions.py:35: MissingValueWarning: \n",
      "Inputs contain missing values. Dropping rows with missing observations.\n",
      "  warnings.warn(missing_value_warning_msg, MissingValueWarning)\n",
      "<ipython-input-153-a28ee46e0344>:11: SettingWithCopyWarning: \n",
      "A value is trying to be set on a copy of a slice from a DataFrame.\n",
      "Try using .loc[row_indexer,col_indexer] = value instead\n",
      "\n",
      "See the caveats in the documentation: https://pandas.pydata.org/pandas-docs/stable/user_guide/indexing.html#returning-a-view-versus-a-copy\n",
      "  t['const']=1\n",
      "C:\\Users\\akhil\\AppData\\Local\\Packages\\PythonSoftwareFoundation.Python.3.8_qbz5n2kfra8p0\\LocalCache\\local-packages\\Python38\\site-packages\\pandas\\core\\generic.py:5170: SettingWithCopyWarning: \n",
      "A value is trying to be set on a copy of a slice from a DataFrame.\n",
      "Try using .loc[row_indexer,col_indexer] = value instead\n",
      "\n",
      "See the caveats in the documentation: https://pandas.pydata.org/pandas-docs/stable/user_guide/indexing.html#returning-a-view-versus-a-copy\n",
      "  self[name] = value\n",
      "C:\\Users\\akhil\\AppData\\Local\\Packages\\PythonSoftwareFoundation.Python.3.8_qbz5n2kfra8p0\\LocalCache\\local-packages\\Python38\\site-packages\\linearmodels\\shared\\exceptions.py:35: MissingValueWarning: \n",
      "Inputs contain missing values. Dropping rows with missing observations.\n",
      "  warnings.warn(missing_value_warning_msg, MissingValueWarning)\n",
      "<ipython-input-153-a28ee46e0344>:11: SettingWithCopyWarning: \n",
      "A value is trying to be set on a copy of a slice from a DataFrame.\n",
      "Try using .loc[row_indexer,col_indexer] = value instead\n",
      "\n",
      "See the caveats in the documentation: https://pandas.pydata.org/pandas-docs/stable/user_guide/indexing.html#returning-a-view-versus-a-copy\n",
      "  t['const']=1\n",
      "C:\\Users\\akhil\\AppData\\Local\\Packages\\PythonSoftwareFoundation.Python.3.8_qbz5n2kfra8p0\\LocalCache\\local-packages\\Python38\\site-packages\\pandas\\core\\generic.py:5170: SettingWithCopyWarning: \n",
      "A value is trying to be set on a copy of a slice from a DataFrame.\n",
      "Try using .loc[row_indexer,col_indexer] = value instead\n",
      "\n",
      "See the caveats in the documentation: https://pandas.pydata.org/pandas-docs/stable/user_guide/indexing.html#returning-a-view-versus-a-copy\n",
      "  self[name] = value\n",
      "C:\\Users\\akhil\\AppData\\Local\\Packages\\PythonSoftwareFoundation.Python.3.8_qbz5n2kfra8p0\\LocalCache\\local-packages\\Python38\\site-packages\\linearmodels\\shared\\exceptions.py:35: MissingValueWarning: \n",
      "Inputs contain missing values. Dropping rows with missing observations.\n",
      "  warnings.warn(missing_value_warning_msg, MissingValueWarning)\n",
      "<ipython-input-153-a28ee46e0344>:11: SettingWithCopyWarning: \n",
      "A value is trying to be set on a copy of a slice from a DataFrame.\n",
      "Try using .loc[row_indexer,col_indexer] = value instead\n",
      "\n",
      "See the caveats in the documentation: https://pandas.pydata.org/pandas-docs/stable/user_guide/indexing.html#returning-a-view-versus-a-copy\n",
      "  t['const']=1\n",
      "C:\\Users\\akhil\\AppData\\Local\\Packages\\PythonSoftwareFoundation.Python.3.8_qbz5n2kfra8p0\\LocalCache\\local-packages\\Python38\\site-packages\\pandas\\core\\generic.py:5170: SettingWithCopyWarning: \n",
      "A value is trying to be set on a copy of a slice from a DataFrame.\n",
      "Try using .loc[row_indexer,col_indexer] = value instead\n",
      "\n",
      "See the caveats in the documentation: https://pandas.pydata.org/pandas-docs/stable/user_guide/indexing.html#returning-a-view-versus-a-copy\n",
      "  self[name] = value\n",
      "C:\\Users\\akhil\\AppData\\Local\\Packages\\PythonSoftwareFoundation.Python.3.8_qbz5n2kfra8p0\\LocalCache\\local-packages\\Python38\\site-packages\\linearmodels\\shared\\exceptions.py:35: MissingValueWarning: \n",
      "Inputs contain missing values. Dropping rows with missing observations.\n",
      "  warnings.warn(missing_value_warning_msg, MissingValueWarning)\n",
      "<ipython-input-153-a28ee46e0344>:11: SettingWithCopyWarning: \n",
      "A value is trying to be set on a copy of a slice from a DataFrame.\n",
      "Try using .loc[row_indexer,col_indexer] = value instead\n",
      "\n",
      "See the caveats in the documentation: https://pandas.pydata.org/pandas-docs/stable/user_guide/indexing.html#returning-a-view-versus-a-copy\n",
      "  t['const']=1\n",
      "C:\\Users\\akhil\\AppData\\Local\\Packages\\PythonSoftwareFoundation.Python.3.8_qbz5n2kfra8p0\\LocalCache\\local-packages\\Python38\\site-packages\\pandas\\core\\generic.py:5170: SettingWithCopyWarning: \n",
      "A value is trying to be set on a copy of a slice from a DataFrame.\n",
      "Try using .loc[row_indexer,col_indexer] = value instead\n",
      "\n",
      "See the caveats in the documentation: https://pandas.pydata.org/pandas-docs/stable/user_guide/indexing.html#returning-a-view-versus-a-copy\n",
      "  self[name] = value\n",
      "C:\\Users\\akhil\\AppData\\Local\\Packages\\PythonSoftwareFoundation.Python.3.8_qbz5n2kfra8p0\\LocalCache\\local-packages\\Python38\\site-packages\\linearmodels\\shared\\exceptions.py:35: MissingValueWarning: \n",
      "Inputs contain missing values. Dropping rows with missing observations.\n",
      "  warnings.warn(missing_value_warning_msg, MissingValueWarning)\n",
      "<ipython-input-153-a28ee46e0344>:11: SettingWithCopyWarning: \n",
      "A value is trying to be set on a copy of a slice from a DataFrame.\n",
      "Try using .loc[row_indexer,col_indexer] = value instead\n",
      "\n",
      "See the caveats in the documentation: https://pandas.pydata.org/pandas-docs/stable/user_guide/indexing.html#returning-a-view-versus-a-copy\n",
      "  t['const']=1\n",
      "C:\\Users\\akhil\\AppData\\Local\\Packages\\PythonSoftwareFoundation.Python.3.8_qbz5n2kfra8p0\\LocalCache\\local-packages\\Python38\\site-packages\\pandas\\core\\generic.py:5170: SettingWithCopyWarning: \n",
      "A value is trying to be set on a copy of a slice from a DataFrame.\n",
      "Try using .loc[row_indexer,col_indexer] = value instead\n",
      "\n",
      "See the caveats in the documentation: https://pandas.pydata.org/pandas-docs/stable/user_guide/indexing.html#returning-a-view-versus-a-copy\n",
      "  self[name] = value\n",
      "C:\\Users\\akhil\\AppData\\Local\\Packages\\PythonSoftwareFoundation.Python.3.8_qbz5n2kfra8p0\\LocalCache\\local-packages\\Python38\\site-packages\\linearmodels\\shared\\exceptions.py:35: MissingValueWarning: \n",
      "Inputs contain missing values. Dropping rows with missing observations.\n",
      "  warnings.warn(missing_value_warning_msg, MissingValueWarning)\n",
      "<ipython-input-153-a28ee46e0344>:11: SettingWithCopyWarning: \n",
      "A value is trying to be set on a copy of a slice from a DataFrame.\n",
      "Try using .loc[row_indexer,col_indexer] = value instead\n",
      "\n",
      "See the caveats in the documentation: https://pandas.pydata.org/pandas-docs/stable/user_guide/indexing.html#returning-a-view-versus-a-copy\n",
      "  t['const']=1\n",
      "C:\\Users\\akhil\\AppData\\Local\\Packages\\PythonSoftwareFoundation.Python.3.8_qbz5n2kfra8p0\\LocalCache\\local-packages\\Python38\\site-packages\\pandas\\core\\generic.py:5170: SettingWithCopyWarning: \n",
      "A value is trying to be set on a copy of a slice from a DataFrame.\n",
      "Try using .loc[row_indexer,col_indexer] = value instead\n",
      "\n",
      "See the caveats in the documentation: https://pandas.pydata.org/pandas-docs/stable/user_guide/indexing.html#returning-a-view-versus-a-copy\n",
      "  self[name] = value\n",
      "C:\\Users\\akhil\\AppData\\Local\\Packages\\PythonSoftwareFoundation.Python.3.8_qbz5n2kfra8p0\\LocalCache\\local-packages\\Python38\\site-packages\\linearmodels\\shared\\exceptions.py:35: MissingValueWarning: \n",
      "Inputs contain missing values. Dropping rows with missing observations.\n",
      "  warnings.warn(missing_value_warning_msg, MissingValueWarning)\n",
      "<ipython-input-153-a28ee46e0344>:11: SettingWithCopyWarning: \n",
      "A value is trying to be set on a copy of a slice from a DataFrame.\n",
      "Try using .loc[row_indexer,col_indexer] = value instead\n",
      "\n",
      "See the caveats in the documentation: https://pandas.pydata.org/pandas-docs/stable/user_guide/indexing.html#returning-a-view-versus-a-copy\n",
      "  t['const']=1\n",
      "C:\\Users\\akhil\\AppData\\Local\\Packages\\PythonSoftwareFoundation.Python.3.8_qbz5n2kfra8p0\\LocalCache\\local-packages\\Python38\\site-packages\\pandas\\core\\generic.py:5170: SettingWithCopyWarning: \n",
      "A value is trying to be set on a copy of a slice from a DataFrame.\n",
      "Try using .loc[row_indexer,col_indexer] = value instead\n",
      "\n",
      "See the caveats in the documentation: https://pandas.pydata.org/pandas-docs/stable/user_guide/indexing.html#returning-a-view-versus-a-copy\n",
      "  self[name] = value\n",
      "C:\\Users\\akhil\\AppData\\Local\\Packages\\PythonSoftwareFoundation.Python.3.8_qbz5n2kfra8p0\\LocalCache\\local-packages\\Python38\\site-packages\\linearmodels\\shared\\exceptions.py:35: MissingValueWarning: \n",
      "Inputs contain missing values. Dropping rows with missing observations.\n",
      "  warnings.warn(missing_value_warning_msg, MissingValueWarning)\n",
      "<ipython-input-153-a28ee46e0344>:11: SettingWithCopyWarning: \n",
      "A value is trying to be set on a copy of a slice from a DataFrame.\n",
      "Try using .loc[row_indexer,col_indexer] = value instead\n",
      "\n",
      "See the caveats in the documentation: https://pandas.pydata.org/pandas-docs/stable/user_guide/indexing.html#returning-a-view-versus-a-copy\n",
      "  t['const']=1\n",
      "C:\\Users\\akhil\\AppData\\Local\\Packages\\PythonSoftwareFoundation.Python.3.8_qbz5n2kfra8p0\\LocalCache\\local-packages\\Python38\\site-packages\\pandas\\core\\generic.py:5170: SettingWithCopyWarning: \n",
      "A value is trying to be set on a copy of a slice from a DataFrame.\n",
      "Try using .loc[row_indexer,col_indexer] = value instead\n",
      "\n",
      "See the caveats in the documentation: https://pandas.pydata.org/pandas-docs/stable/user_guide/indexing.html#returning-a-view-versus-a-copy\n",
      "  self[name] = value\n",
      "C:\\Users\\akhil\\AppData\\Local\\Packages\\PythonSoftwareFoundation.Python.3.8_qbz5n2kfra8p0\\LocalCache\\local-packages\\Python38\\site-packages\\linearmodels\\shared\\exceptions.py:35: MissingValueWarning: \n",
      "Inputs contain missing values. Dropping rows with missing observations.\n",
      "  warnings.warn(missing_value_warning_msg, MissingValueWarning)\n",
      "<ipython-input-153-a28ee46e0344>:11: SettingWithCopyWarning: \n",
      "A value is trying to be set on a copy of a slice from a DataFrame.\n",
      "Try using .loc[row_indexer,col_indexer] = value instead\n",
      "\n",
      "See the caveats in the documentation: https://pandas.pydata.org/pandas-docs/stable/user_guide/indexing.html#returning-a-view-versus-a-copy\n",
      "  t['const']=1\n",
      "C:\\Users\\akhil\\AppData\\Local\\Packages\\PythonSoftwareFoundation.Python.3.8_qbz5n2kfra8p0\\LocalCache\\local-packages\\Python38\\site-packages\\pandas\\core\\generic.py:5170: SettingWithCopyWarning: \n",
      "A value is trying to be set on a copy of a slice from a DataFrame.\n",
      "Try using .loc[row_indexer,col_indexer] = value instead\n",
      "\n",
      "See the caveats in the documentation: https://pandas.pydata.org/pandas-docs/stable/user_guide/indexing.html#returning-a-view-versus-a-copy\n",
      "  self[name] = value\n",
      "C:\\Users\\akhil\\AppData\\Local\\Packages\\PythonSoftwareFoundation.Python.3.8_qbz5n2kfra8p0\\LocalCache\\local-packages\\Python38\\site-packages\\linearmodels\\shared\\exceptions.py:35: MissingValueWarning: \n",
      "Inputs contain missing values. Dropping rows with missing observations.\n",
      "  warnings.warn(missing_value_warning_msg, MissingValueWarning)\n",
      "<ipython-input-153-a28ee46e0344>:11: SettingWithCopyWarning: \n",
      "A value is trying to be set on a copy of a slice from a DataFrame.\n",
      "Try using .loc[row_indexer,col_indexer] = value instead\n",
      "\n",
      "See the caveats in the documentation: https://pandas.pydata.org/pandas-docs/stable/user_guide/indexing.html#returning-a-view-versus-a-copy\n",
      "  t['const']=1\n",
      "C:\\Users\\akhil\\AppData\\Local\\Packages\\PythonSoftwareFoundation.Python.3.8_qbz5n2kfra8p0\\LocalCache\\local-packages\\Python38\\site-packages\\pandas\\core\\generic.py:5170: SettingWithCopyWarning: \n",
      "A value is trying to be set on a copy of a slice from a DataFrame.\n",
      "Try using .loc[row_indexer,col_indexer] = value instead\n",
      "\n",
      "See the caveats in the documentation: https://pandas.pydata.org/pandas-docs/stable/user_guide/indexing.html#returning-a-view-versus-a-copy\n",
      "  self[name] = value\n",
      "C:\\Users\\akhil\\AppData\\Local\\Packages\\PythonSoftwareFoundation.Python.3.8_qbz5n2kfra8p0\\LocalCache\\local-packages\\Python38\\site-packages\\linearmodels\\shared\\exceptions.py:35: MissingValueWarning: \n",
      "Inputs contain missing values. Dropping rows with missing observations.\n",
      "  warnings.warn(missing_value_warning_msg, MissingValueWarning)\n",
      "<ipython-input-153-a28ee46e0344>:11: SettingWithCopyWarning: \n",
      "A value is trying to be set on a copy of a slice from a DataFrame.\n",
      "Try using .loc[row_indexer,col_indexer] = value instead\n",
      "\n",
      "See the caveats in the documentation: https://pandas.pydata.org/pandas-docs/stable/user_guide/indexing.html#returning-a-view-versus-a-copy\n",
      "  t['const']=1\n",
      "C:\\Users\\akhil\\AppData\\Local\\Packages\\PythonSoftwareFoundation.Python.3.8_qbz5n2kfra8p0\\LocalCache\\local-packages\\Python38\\site-packages\\pandas\\core\\generic.py:5170: SettingWithCopyWarning: \n",
      "A value is trying to be set on a copy of a slice from a DataFrame.\n",
      "Try using .loc[row_indexer,col_indexer] = value instead\n",
      "\n",
      "See the caveats in the documentation: https://pandas.pydata.org/pandas-docs/stable/user_guide/indexing.html#returning-a-view-versus-a-copy\n",
      "  self[name] = value\n",
      "C:\\Users\\akhil\\AppData\\Local\\Packages\\PythonSoftwareFoundation.Python.3.8_qbz5n2kfra8p0\\LocalCache\\local-packages\\Python38\\site-packages\\linearmodels\\shared\\exceptions.py:35: MissingValueWarning: \n",
      "Inputs contain missing values. Dropping rows with missing observations.\n",
      "  warnings.warn(missing_value_warning_msg, MissingValueWarning)\n",
      "<ipython-input-153-a28ee46e0344>:11: SettingWithCopyWarning: \n",
      "A value is trying to be set on a copy of a slice from a DataFrame.\n",
      "Try using .loc[row_indexer,col_indexer] = value instead\n",
      "\n",
      "See the caveats in the documentation: https://pandas.pydata.org/pandas-docs/stable/user_guide/indexing.html#returning-a-view-versus-a-copy\n",
      "  t['const']=1\n",
      "C:\\Users\\akhil\\AppData\\Local\\Packages\\PythonSoftwareFoundation.Python.3.8_qbz5n2kfra8p0\\LocalCache\\local-packages\\Python38\\site-packages\\pandas\\core\\generic.py:5170: SettingWithCopyWarning: \n",
      "A value is trying to be set on a copy of a slice from a DataFrame.\n",
      "Try using .loc[row_indexer,col_indexer] = value instead\n",
      "\n",
      "See the caveats in the documentation: https://pandas.pydata.org/pandas-docs/stable/user_guide/indexing.html#returning-a-view-versus-a-copy\n",
      "  self[name] = value\n",
      "C:\\Users\\akhil\\AppData\\Local\\Packages\\PythonSoftwareFoundation.Python.3.8_qbz5n2kfra8p0\\LocalCache\\local-packages\\Python38\\site-packages\\linearmodels\\shared\\exceptions.py:35: MissingValueWarning: \n",
      "Inputs contain missing values. Dropping rows with missing observations.\n",
      "  warnings.warn(missing_value_warning_msg, MissingValueWarning)\n",
      "<ipython-input-153-a28ee46e0344>:11: SettingWithCopyWarning: \n",
      "A value is trying to be set on a copy of a slice from a DataFrame.\n",
      "Try using .loc[row_indexer,col_indexer] = value instead\n",
      "\n",
      "See the caveats in the documentation: https://pandas.pydata.org/pandas-docs/stable/user_guide/indexing.html#returning-a-view-versus-a-copy\n",
      "  t['const']=1\n",
      "C:\\Users\\akhil\\AppData\\Local\\Packages\\PythonSoftwareFoundation.Python.3.8_qbz5n2kfra8p0\\LocalCache\\local-packages\\Python38\\site-packages\\pandas\\core\\generic.py:5170: SettingWithCopyWarning: \n",
      "A value is trying to be set on a copy of a slice from a DataFrame.\n",
      "Try using .loc[row_indexer,col_indexer] = value instead\n",
      "\n",
      "See the caveats in the documentation: https://pandas.pydata.org/pandas-docs/stable/user_guide/indexing.html#returning-a-view-versus-a-copy\n",
      "  self[name] = value\n",
      "C:\\Users\\akhil\\AppData\\Local\\Packages\\PythonSoftwareFoundation.Python.3.8_qbz5n2kfra8p0\\LocalCache\\local-packages\\Python38\\site-packages\\linearmodels\\shared\\exceptions.py:35: MissingValueWarning: \n",
      "Inputs contain missing values. Dropping rows with missing observations.\n",
      "  warnings.warn(missing_value_warning_msg, MissingValueWarning)\n",
      "<ipython-input-153-a28ee46e0344>:11: SettingWithCopyWarning: \n",
      "A value is trying to be set on a copy of a slice from a DataFrame.\n",
      "Try using .loc[row_indexer,col_indexer] = value instead\n",
      "\n",
      "See the caveats in the documentation: https://pandas.pydata.org/pandas-docs/stable/user_guide/indexing.html#returning-a-view-versus-a-copy\n",
      "  t['const']=1\n",
      "C:\\Users\\akhil\\AppData\\Local\\Packages\\PythonSoftwareFoundation.Python.3.8_qbz5n2kfra8p0\\LocalCache\\local-packages\\Python38\\site-packages\\pandas\\core\\generic.py:5170: SettingWithCopyWarning: \n",
      "A value is trying to be set on a copy of a slice from a DataFrame.\n",
      "Try using .loc[row_indexer,col_indexer] = value instead\n",
      "\n",
      "See the caveats in the documentation: https://pandas.pydata.org/pandas-docs/stable/user_guide/indexing.html#returning-a-view-versus-a-copy\n",
      "  self[name] = value\n",
      "C:\\Users\\akhil\\AppData\\Local\\Packages\\PythonSoftwareFoundation.Python.3.8_qbz5n2kfra8p0\\LocalCache\\local-packages\\Python38\\site-packages\\linearmodels\\shared\\exceptions.py:35: MissingValueWarning: \n",
      "Inputs contain missing values. Dropping rows with missing observations.\n",
      "  warnings.warn(missing_value_warning_msg, MissingValueWarning)\n",
      "<ipython-input-153-a28ee46e0344>:11: SettingWithCopyWarning: \n",
      "A value is trying to be set on a copy of a slice from a DataFrame.\n",
      "Try using .loc[row_indexer,col_indexer] = value instead\n",
      "\n",
      "See the caveats in the documentation: https://pandas.pydata.org/pandas-docs/stable/user_guide/indexing.html#returning-a-view-versus-a-copy\n",
      "  t['const']=1\n",
      "C:\\Users\\akhil\\AppData\\Local\\Packages\\PythonSoftwareFoundation.Python.3.8_qbz5n2kfra8p0\\LocalCache\\local-packages\\Python38\\site-packages\\pandas\\core\\generic.py:5170: SettingWithCopyWarning: \n",
      "A value is trying to be set on a copy of a slice from a DataFrame.\n",
      "Try using .loc[row_indexer,col_indexer] = value instead\n",
      "\n",
      "See the caveats in the documentation: https://pandas.pydata.org/pandas-docs/stable/user_guide/indexing.html#returning-a-view-versus-a-copy\n",
      "  self[name] = value\n",
      "C:\\Users\\akhil\\AppData\\Local\\Packages\\PythonSoftwareFoundation.Python.3.8_qbz5n2kfra8p0\\LocalCache\\local-packages\\Python38\\site-packages\\linearmodels\\shared\\exceptions.py:35: MissingValueWarning: \n",
      "Inputs contain missing values. Dropping rows with missing observations.\n",
      "  warnings.warn(missing_value_warning_msg, MissingValueWarning)\n",
      "<ipython-input-153-a28ee46e0344>:11: SettingWithCopyWarning: \n",
      "A value is trying to be set on a copy of a slice from a DataFrame.\n",
      "Try using .loc[row_indexer,col_indexer] = value instead\n",
      "\n",
      "See the caveats in the documentation: https://pandas.pydata.org/pandas-docs/stable/user_guide/indexing.html#returning-a-view-versus-a-copy\n",
      "  t['const']=1\n",
      "C:\\Users\\akhil\\AppData\\Local\\Packages\\PythonSoftwareFoundation.Python.3.8_qbz5n2kfra8p0\\LocalCache\\local-packages\\Python38\\site-packages\\pandas\\core\\generic.py:5170: SettingWithCopyWarning: \n",
      "A value is trying to be set on a copy of a slice from a DataFrame.\n",
      "Try using .loc[row_indexer,col_indexer] = value instead\n",
      "\n",
      "See the caveats in the documentation: https://pandas.pydata.org/pandas-docs/stable/user_guide/indexing.html#returning-a-view-versus-a-copy\n",
      "  self[name] = value\n",
      "C:\\Users\\akhil\\AppData\\Local\\Packages\\PythonSoftwareFoundation.Python.3.8_qbz5n2kfra8p0\\LocalCache\\local-packages\\Python38\\site-packages\\linearmodels\\shared\\exceptions.py:35: MissingValueWarning: \n",
      "Inputs contain missing values. Dropping rows with missing observations.\n",
      "  warnings.warn(missing_value_warning_msg, MissingValueWarning)\n"
     ]
    },
    {
     "output_type": "execute_result",
     "data": {
      "text/plain": [
       "    variable       coef  p-values   t-stats\n",
       "0          1   2.909100  0.041094  2.052905\n",
       "1         10   5.330418  0.167614  1.383820\n",
       "2        100 -11.607448  0.000191 -3.785664\n",
       "3        101        NaN       NaN       NaN\n",
       "4        102        NaN       NaN       NaN\n",
       "5        103        NaN       NaN       NaN\n",
       "6        104        NaN       NaN       NaN\n",
       "7         11   0.536862  0.755045  0.312328\n",
       "8         12  19.721883  0.000021  4.336617\n",
       "9         13        NaN       NaN       NaN\n",
       "10        14   1.929644  0.311832  1.013379\n",
       "11        15   0.059686  0.980734  0.024172"
      ],
      "text/html": "<div>\n<style scoped>\n    .dataframe tbody tr th:only-of-type {\n        vertical-align: middle;\n    }\n\n    .dataframe tbody tr th {\n        vertical-align: top;\n    }\n\n    .dataframe thead th {\n        text-align: right;\n    }\n</style>\n<table border=\"1\" class=\"dataframe\">\n  <thead>\n    <tr style=\"text-align: right;\">\n      <th></th>\n      <th>variable</th>\n      <th>coef</th>\n      <th>p-values</th>\n      <th>t-stats</th>\n    </tr>\n  </thead>\n  <tbody>\n    <tr>\n      <th>0</th>\n      <td>1</td>\n      <td>2.909100</td>\n      <td>0.041094</td>\n      <td>2.052905</td>\n    </tr>\n    <tr>\n      <th>1</th>\n      <td>10</td>\n      <td>5.330418</td>\n      <td>0.167614</td>\n      <td>1.383820</td>\n    </tr>\n    <tr>\n      <th>2</th>\n      <td>100</td>\n      <td>-11.607448</td>\n      <td>0.000191</td>\n      <td>-3.785664</td>\n    </tr>\n    <tr>\n      <th>3</th>\n      <td>101</td>\n      <td>NaN</td>\n      <td>NaN</td>\n      <td>NaN</td>\n    </tr>\n    <tr>\n      <th>4</th>\n      <td>102</td>\n      <td>NaN</td>\n      <td>NaN</td>\n      <td>NaN</td>\n    </tr>\n    <tr>\n      <th>5</th>\n      <td>103</td>\n      <td>NaN</td>\n      <td>NaN</td>\n      <td>NaN</td>\n    </tr>\n    <tr>\n      <th>6</th>\n      <td>104</td>\n      <td>NaN</td>\n      <td>NaN</td>\n      <td>NaN</td>\n    </tr>\n    <tr>\n      <th>7</th>\n      <td>11</td>\n      <td>0.536862</td>\n      <td>0.755045</td>\n      <td>0.312328</td>\n    </tr>\n    <tr>\n      <th>8</th>\n      <td>12</td>\n      <td>19.721883</td>\n      <td>0.000021</td>\n      <td>4.336617</td>\n    </tr>\n    <tr>\n      <th>9</th>\n      <td>13</td>\n      <td>NaN</td>\n      <td>NaN</td>\n      <td>NaN</td>\n    </tr>\n    <tr>\n      <th>10</th>\n      <td>14</td>\n      <td>1.929644</td>\n      <td>0.311832</td>\n      <td>1.013379</td>\n    </tr>\n    <tr>\n      <th>11</th>\n      <td>15</td>\n      <td>0.059686</td>\n      <td>0.980734</td>\n      <td>0.024172</td>\n    </tr>\n  </tbody>\n</table>\n</div>"
     },
     "metadata": {},
     "execution_count": 153
    }
   ],
   "source": [
    "from linearmodels import PanelOLS\n",
    "variables=temp.new_class.unique()\n",
    "import numpy as np\n",
    "mainl=[]\n",
    "for i in variables:\n",
    "    try:\n",
    "        t=temp[temp['new_class']==i]\n",
    "\n",
    "        #temp['change']=(temp['2020'].astype('float64')-temp['2016'].astype('float64'))/temp['2016'].astype('float64')\n",
    "        l=t['change']\n",
    "        t['const']=1\n",
    "        t.date=pd.to_numeric(t.date)\n",
    "        t=t.set_index(['District','date'])\n",
    "        mod = PanelOLS(t['change'],t[['int_ay','const']])\n",
    "        res = mod.fit(clustering='entity')\n",
    "        coef=res.params[0]\n",
    "        p=res.pvalues[0]\n",
    "        t=res.tstats[0]\n",
    "        l=[i,coef,p,t]\n",
    "        mainl.append(l)\n",
    "    except:\n",
    "        l=[i,None,None,None]\n",
    "        mainl.append(l) \n",
    "        continue\n",
    "   \n",
    "result=pd.DataFrame(mainl,columns=['variable','coef','p-values','t-stats'])\n",
    "result.head(12)"
   ]
  },
  {
   "cell_type": "code",
   "execution_count": 34,
   "metadata": {},
   "outputs": [],
   "source": [
    "result.to_csv('panel_ols_nfhs_reg_result.csv')"
   ]
  },
  {
   "cell_type": "code",
   "execution_count": 74,
   "metadata": {},
   "outputs": [
    {
     "output_type": "execute_result",
     "data": {
      "text/plain": [
       "BR    3640\n",
       "MH    3224\n",
       "KA    2808\n",
       "AS    2392\n",
       "GJ    1872\n",
       "KL    1456\n",
       "JK    1352\n",
       "WB    1352\n",
       "AP    1248\n",
       "NL    1144\n",
       "HP    1040\n",
       "MZ     832\n",
       "MN     832\n",
       "ML     416\n",
       "SK     312\n",
       "CG     312\n",
       "TS     312\n",
       "DD     208\n",
       "GA     208\n",
       "TR     208\n",
       "AN     104\n",
       "Name: states, dtype: int64"
      ]
     },
     "metadata": {},
     "execution_count": 74
    }
   ],
   "source": [
    "df.states.value_counts()"
   ]
  },
  {
   "cell_type": "code",
   "execution_count": 70,
   "metadata": {},
   "outputs": [],
   "source": [
    "result.to_csv('transposed_regression_results_nfhs_only_differences_with_constant_term.csv')"
   ]
  },
  {
   "cell_type": "code",
   "execution_count": 69,
   "metadata": {},
   "outputs": [
    {
     "output_type": "execute_result",
     "data": {
      "text/plain": [
       "                                             variable       coef  p-values  \\\n",
       "0   1. Female population age 6 years and above who...   0.437720  0.755789   \n",
       "1           2. Population below age 15 years (%)(PHP)   0.935407  0.277215   \n",
       "2   3. Sex ratio of the total population (females ... -10.646200  0.474393   \n",
       "3   4. Sex ratio at birth for children born in the... -24.124449  0.611669   \n",
       "4   5. Children under age 5 years whose birth was ...   4.258398  0.099620   \n",
       "..                                                ...        ...       ...   \n",
       "93  94. Elevated blood pressure (Systolic ≥140 mm ...  -1.597550  0.369801   \n",
       "95  96. Moderately or severely elevated blood pres...  -0.114978  0.872691   \n",
       "97  98.Ever undergone a screening test for cervica... -16.140363  0.000105   \n",
       "98  99.Ever undergone a breast examination for bre...  -8.024670  0.002755   \n",
       "99  100. Ever undergone an oral cavity examination... -11.744273  0.000841   \n",
       "\n",
       "     t-stats  \n",
       "0   0.311369  \n",
       "1   1.089062  \n",
       "2  -0.716473  \n",
       "3  -0.508355  \n",
       "4   1.653062  \n",
       "..       ...  \n",
       "93 -0.898529  \n",
       "95 -0.160412  \n",
       "97 -3.945444  \n",
       "98 -3.025098  \n",
       "99 -3.381623  \n",
       "\n",
       "[83 rows x 4 columns]"
      ],
      "text/html": "<div>\n<style scoped>\n    .dataframe tbody tr th:only-of-type {\n        vertical-align: middle;\n    }\n\n    .dataframe tbody tr th {\n        vertical-align: top;\n    }\n\n    .dataframe thead th {\n        text-align: right;\n    }\n</style>\n<table border=\"1\" class=\"dataframe\">\n  <thead>\n    <tr style=\"text-align: right;\">\n      <th></th>\n      <th>variable</th>\n      <th>coef</th>\n      <th>p-values</th>\n      <th>t-stats</th>\n    </tr>\n  </thead>\n  <tbody>\n    <tr>\n      <th>0</th>\n      <td>1. Female population age 6 years and above who...</td>\n      <td>0.437720</td>\n      <td>0.755789</td>\n      <td>0.311369</td>\n    </tr>\n    <tr>\n      <th>1</th>\n      <td>2. Population below age 15 years (%)(PHP)</td>\n      <td>0.935407</td>\n      <td>0.277215</td>\n      <td>1.089062</td>\n    </tr>\n    <tr>\n      <th>2</th>\n      <td>3. Sex ratio of the total population (females ...</td>\n      <td>-10.646200</td>\n      <td>0.474393</td>\n      <td>-0.716473</td>\n    </tr>\n    <tr>\n      <th>3</th>\n      <td>4. Sex ratio at birth for children born in the...</td>\n      <td>-24.124449</td>\n      <td>0.611669</td>\n      <td>-0.508355</td>\n    </tr>\n    <tr>\n      <th>4</th>\n      <td>5. Children under age 5 years whose birth was ...</td>\n      <td>4.258398</td>\n      <td>0.099620</td>\n      <td>1.653062</td>\n    </tr>\n    <tr>\n      <th>...</th>\n      <td>...</td>\n      <td>...</td>\n      <td>...</td>\n      <td>...</td>\n    </tr>\n    <tr>\n      <th>93</th>\n      <td>94. Elevated blood pressure (Systolic ≥140 mm ...</td>\n      <td>-1.597550</td>\n      <td>0.369801</td>\n      <td>-0.898529</td>\n    </tr>\n    <tr>\n      <th>95</th>\n      <td>96. Moderately or severely elevated blood pres...</td>\n      <td>-0.114978</td>\n      <td>0.872691</td>\n      <td>-0.160412</td>\n    </tr>\n    <tr>\n      <th>97</th>\n      <td>98.Ever undergone a screening test for cervica...</td>\n      <td>-16.140363</td>\n      <td>0.000105</td>\n      <td>-3.945444</td>\n    </tr>\n    <tr>\n      <th>98</th>\n      <td>99.Ever undergone a breast examination for bre...</td>\n      <td>-8.024670</td>\n      <td>0.002755</td>\n      <td>-3.025098</td>\n    </tr>\n    <tr>\n      <th>99</th>\n      <td>100. Ever undergone an oral cavity examination...</td>\n      <td>-11.744273</td>\n      <td>0.000841</td>\n      <td>-3.381623</td>\n    </tr>\n  </tbody>\n</table>\n<p>83 rows × 4 columns</p>\n</div>"
     },
     "metadata": {},
     "execution_count": 69
    }
   ],
   "source": [
    "result.dropna()"
   ]
  },
  {
   "cell_type": "code",
   "execution_count": 819,
   "metadata": {},
   "outputs": [],
   "source": [
    "temp=pd.read_csv('transpose_regression.csv')\n"
   ]
  },
  {
   "cell_type": "code",
   "execution_count": 814,
   "metadata": {},
   "outputs": [
    {
     "output_type": "error",
     "ename": "PermissionError",
     "evalue": "[Errno 13] Permission denied: 'transpose_regression.csv'",
     "traceback": [
      "\u001b[1;31m---------------------------------------------------------------------------\u001b[0m",
      "\u001b[1;31mPermissionError\u001b[0m                           Traceback (most recent call last)",
      "\u001b[1;32m<ipython-input-814-91ca40c306fa>\u001b[0m in \u001b[0;36m<module>\u001b[1;34m\u001b[0m\n\u001b[1;32m----> 1\u001b[1;33m \u001b[0mtemp\u001b[0m\u001b[1;33m.\u001b[0m\u001b[0mto_csv\u001b[0m\u001b[1;33m(\u001b[0m\u001b[1;34m'transpose_regression.csv'\u001b[0m\u001b[1;33m)\u001b[0m\u001b[1;33m\u001b[0m\u001b[1;33m\u001b[0m\u001b[0m\n\u001b[0m\u001b[0;32m      2\u001b[0m \u001b[0mtemp\u001b[0m\u001b[1;33m\u001b[0m\u001b[1;33m\u001b[0m\u001b[0m\n",
      "\u001b[1;32m~\\AppData\\Local\\Packages\\PythonSoftwareFoundation.Python.3.8_qbz5n2kfra8p0\\LocalCache\\local-packages\\Python38\\site-packages\\pandas\\core\\generic.py\u001b[0m in \u001b[0;36mto_csv\u001b[1;34m(self, path_or_buf, sep, na_rep, float_format, columns, header, index, index_label, mode, encoding, compression, quoting, quotechar, line_terminator, chunksize, date_format, doublequote, escapechar, decimal, errors)\u001b[0m\n\u001b[0;32m   3168\u001b[0m             \u001b[0mdecimal\u001b[0m\u001b[1;33m=\u001b[0m\u001b[0mdecimal\u001b[0m\u001b[1;33m,\u001b[0m\u001b[1;33m\u001b[0m\u001b[1;33m\u001b[0m\u001b[0m\n\u001b[0;32m   3169\u001b[0m         )\n\u001b[1;32m-> 3170\u001b[1;33m         \u001b[0mformatter\u001b[0m\u001b[1;33m.\u001b[0m\u001b[0msave\u001b[0m\u001b[1;33m(\u001b[0m\u001b[1;33m)\u001b[0m\u001b[1;33m\u001b[0m\u001b[1;33m\u001b[0m\u001b[0m\n\u001b[0m\u001b[0;32m   3171\u001b[0m \u001b[1;33m\u001b[0m\u001b[0m\n\u001b[0;32m   3172\u001b[0m         \u001b[1;32mif\u001b[0m \u001b[0mpath_or_buf\u001b[0m \u001b[1;32mis\u001b[0m \u001b[1;32mNone\u001b[0m\u001b[1;33m:\u001b[0m\u001b[1;33m\u001b[0m\u001b[1;33m\u001b[0m\u001b[0m\n",
      "\u001b[1;32m~\\AppData\\Local\\Packages\\PythonSoftwareFoundation.Python.3.8_qbz5n2kfra8p0\\LocalCache\\local-packages\\Python38\\site-packages\\pandas\\io\\formats\\csvs.py\u001b[0m in \u001b[0;36msave\u001b[1;34m(self)\u001b[0m\n\u001b[0;32m    183\u001b[0m             \u001b[0mclose\u001b[0m \u001b[1;33m=\u001b[0m \u001b[1;32mFalse\u001b[0m\u001b[1;33m\u001b[0m\u001b[1;33m\u001b[0m\u001b[0m\n\u001b[0;32m    184\u001b[0m         \u001b[1;32melse\u001b[0m\u001b[1;33m:\u001b[0m\u001b[1;33m\u001b[0m\u001b[1;33m\u001b[0m\u001b[0m\n\u001b[1;32m--> 185\u001b[1;33m             f, handles = get_handle(\n\u001b[0m\u001b[0;32m    186\u001b[0m                 \u001b[0mself\u001b[0m\u001b[1;33m.\u001b[0m\u001b[0mpath_or_buf\u001b[0m\u001b[1;33m,\u001b[0m\u001b[1;33m\u001b[0m\u001b[1;33m\u001b[0m\u001b[0m\n\u001b[0;32m    187\u001b[0m                 \u001b[0mself\u001b[0m\u001b[1;33m.\u001b[0m\u001b[0mmode\u001b[0m\u001b[1;33m,\u001b[0m\u001b[1;33m\u001b[0m\u001b[1;33m\u001b[0m\u001b[0m\n",
      "\u001b[1;32m~\\AppData\\Local\\Packages\\PythonSoftwareFoundation.Python.3.8_qbz5n2kfra8p0\\LocalCache\\local-packages\\Python38\\site-packages\\pandas\\io\\common.py\u001b[0m in \u001b[0;36mget_handle\u001b[1;34m(path_or_buf, mode, encoding, compression, memory_map, is_text, errors)\u001b[0m\n\u001b[0;32m    491\u001b[0m         \u001b[1;32mif\u001b[0m \u001b[0mencoding\u001b[0m\u001b[1;33m:\u001b[0m\u001b[1;33m\u001b[0m\u001b[1;33m\u001b[0m\u001b[0m\n\u001b[0;32m    492\u001b[0m             \u001b[1;31m# Encoding\u001b[0m\u001b[1;33m\u001b[0m\u001b[1;33m\u001b[0m\u001b[1;33m\u001b[0m\u001b[0m\n\u001b[1;32m--> 493\u001b[1;33m             \u001b[0mf\u001b[0m \u001b[1;33m=\u001b[0m \u001b[0mopen\u001b[0m\u001b[1;33m(\u001b[0m\u001b[0mpath_or_buf\u001b[0m\u001b[1;33m,\u001b[0m \u001b[0mmode\u001b[0m\u001b[1;33m,\u001b[0m \u001b[0mencoding\u001b[0m\u001b[1;33m=\u001b[0m\u001b[0mencoding\u001b[0m\u001b[1;33m,\u001b[0m \u001b[0merrors\u001b[0m\u001b[1;33m=\u001b[0m\u001b[0merrors\u001b[0m\u001b[1;33m,\u001b[0m \u001b[0mnewline\u001b[0m\u001b[1;33m=\u001b[0m\u001b[1;34m\"\"\u001b[0m\u001b[1;33m)\u001b[0m\u001b[1;33m\u001b[0m\u001b[1;33m\u001b[0m\u001b[0m\n\u001b[0m\u001b[0;32m    494\u001b[0m         \u001b[1;32melif\u001b[0m \u001b[0mis_text\u001b[0m\u001b[1;33m:\u001b[0m\u001b[1;33m\u001b[0m\u001b[1;33m\u001b[0m\u001b[0m\n\u001b[0;32m    495\u001b[0m             \u001b[1;31m# No explicit encoding\u001b[0m\u001b[1;33m\u001b[0m\u001b[1;33m\u001b[0m\u001b[1;33m\u001b[0m\u001b[0m\n",
      "\u001b[1;31mPermissionError\u001b[0m: [Errno 13] Permission denied: 'transpose_regression.csv'"
     ]
    }
   ],
   "source": [
    "temp.to_csv('transpose_regression.csv')\n",
    "temp"
   ]
  },
  {
   "cell_type": "code",
   "execution_count": 798,
   "metadata": {},
   "outputs": [
    {
     "output_type": "execute_result",
     "data": {
      "text/plain": [
       "         District        date states  2020  2016  int_ay    change\n",
       "0      Ahmednagar  2020-01-01     MH  77.4  75.4       1  0.026525\n",
       "1          Aizawl  2020-01-01     MZ  97.8  95.9       1  0.019812\n",
       "2           Akola  2020-01-01     MH  97.8  83.0       1  0.178313\n",
       "3       Alappuzha  2020-01-01     KL  97.8  96.9       1  0.009288\n",
       "4        Amravati  2020-01-01     MH  97.8  78.3       1  0.249042\n",
       "...           ...         ...    ...   ...   ...     ...       ...\n",
       "18519       Wokha  2020-01-01     NL   0.0  23.6       1 -1.000000\n",
       "18520      Y.S.R.  2020-01-01     AP   0.0  11.9       1 -1.000000\n",
       "18521      Yadgir  2020-01-01     KA   0.2   3.9       1 -0.948718\n",
       "18522    Yavatmal  2020-01-01     MH   0.2  30.9       1 -0.993528\n",
       "18523   Zunheboto  2020-01-01     NL   0.7   8.6       1 -0.918605\n",
       "\n",
       "[18524 rows x 7 columns]"
      ],
      "text/html": "<div>\n<style scoped>\n    .dataframe tbody tr th:only-of-type {\n        vertical-align: middle;\n    }\n\n    .dataframe tbody tr th {\n        vertical-align: top;\n    }\n\n    .dataframe thead th {\n        text-align: right;\n    }\n</style>\n<table border=\"1\" class=\"dataframe\">\n  <thead>\n    <tr style=\"text-align: right;\">\n      <th></th>\n      <th>District</th>\n      <th>date</th>\n      <th>states</th>\n      <th>2020</th>\n      <th>2016</th>\n      <th>int_ay</th>\n      <th>change</th>\n    </tr>\n  </thead>\n  <tbody>\n    <tr>\n      <th>0</th>\n      <td>Ahmednagar</td>\n      <td>2020-01-01</td>\n      <td>MH</td>\n      <td>77.4</td>\n      <td>75.4</td>\n      <td>1</td>\n      <td>0.026525</td>\n    </tr>\n    <tr>\n      <th>1</th>\n      <td>Aizawl</td>\n      <td>2020-01-01</td>\n      <td>MZ</td>\n      <td>97.8</td>\n      <td>95.9</td>\n      <td>1</td>\n      <td>0.019812</td>\n    </tr>\n    <tr>\n      <th>2</th>\n      <td>Akola</td>\n      <td>2020-01-01</td>\n      <td>MH</td>\n      <td>97.8</td>\n      <td>83.0</td>\n      <td>1</td>\n      <td>0.178313</td>\n    </tr>\n    <tr>\n      <th>3</th>\n      <td>Alappuzha</td>\n      <td>2020-01-01</td>\n      <td>KL</td>\n      <td>97.8</td>\n      <td>96.9</td>\n      <td>1</td>\n      <td>0.009288</td>\n    </tr>\n    <tr>\n      <th>4</th>\n      <td>Amravati</td>\n      <td>2020-01-01</td>\n      <td>MH</td>\n      <td>97.8</td>\n      <td>78.3</td>\n      <td>1</td>\n      <td>0.249042</td>\n    </tr>\n    <tr>\n      <th>...</th>\n      <td>...</td>\n      <td>...</td>\n      <td>...</td>\n      <td>...</td>\n      <td>...</td>\n      <td>...</td>\n      <td>...</td>\n    </tr>\n    <tr>\n      <th>18519</th>\n      <td>Wokha</td>\n      <td>2020-01-01</td>\n      <td>NL</td>\n      <td>0.0</td>\n      <td>23.6</td>\n      <td>1</td>\n      <td>-1.000000</td>\n    </tr>\n    <tr>\n      <th>18520</th>\n      <td>Y.S.R.</td>\n      <td>2020-01-01</td>\n      <td>AP</td>\n      <td>0.0</td>\n      <td>11.9</td>\n      <td>1</td>\n      <td>-1.000000</td>\n    </tr>\n    <tr>\n      <th>18521</th>\n      <td>Yadgir</td>\n      <td>2020-01-01</td>\n      <td>KA</td>\n      <td>0.2</td>\n      <td>3.9</td>\n      <td>1</td>\n      <td>-0.948718</td>\n    </tr>\n    <tr>\n      <th>18522</th>\n      <td>Yavatmal</td>\n      <td>2020-01-01</td>\n      <td>MH</td>\n      <td>0.2</td>\n      <td>30.9</td>\n      <td>1</td>\n      <td>-0.993528</td>\n    </tr>\n    <tr>\n      <th>18523</th>\n      <td>Zunheboto</td>\n      <td>2020-01-01</td>\n      <td>NL</td>\n      <td>0.7</td>\n      <td>8.6</td>\n      <td>1</td>\n      <td>-0.918605</td>\n    </tr>\n  </tbody>\n</table>\n<p>18524 rows × 7 columns</p>\n</div>"
     },
     "metadata": {},
     "execution_count": 798
    }
   ],
   "source": [
    "temp=pd.read_csv('transpose_regression.csv')\n",
    "temp"
   ]
  },
  {
   "cell_type": "code",
   "execution_count": 792,
   "metadata": {},
   "outputs": [],
   "source": [
    "temp=temp[temp['int_ay']==1].sample(2000).append(temp[temp['int_ay']==0])"
   ]
  },
  {
   "cell_type": "code",
   "execution_count": 789,
   "metadata": {},
   "outputs": [
    {
     "output_type": "execute_result",
     "data": {
      "text/plain": [
       "Index(['District', 'date', 'states', '2020', '2016', 'int_ay', 'change'], dtype='object')"
      ]
     },
     "metadata": {},
     "execution_count": 789
    }
   ],
   "source": [
    "temp.columns"
   ]
  },
  {
   "cell_type": "code",
   "execution_count": 799,
   "metadata": {},
   "outputs": [
    {
     "output_type": "error",
     "ename": "ValueError",
     "evalue": "Series can only be used with a 2-level MultiIndex",
     "traceback": [
      "\u001b[1;31m---------------------------------------------------------------------------\u001b[0m",
      "\u001b[1;31mValueError\u001b[0m                                Traceback (most recent call last)",
      "\u001b[1;32m<ipython-input-799-10c3c5675762>\u001b[0m in \u001b[0;36m<module>\u001b[1;34m\u001b[0m\n\u001b[0;32m      7\u001b[0m \u001b[0ml\u001b[0m\u001b[1;33m=\u001b[0m\u001b[0mtemp\u001b[0m\u001b[1;33m[\u001b[0m\u001b[1;34m'change'\u001b[0m\u001b[1;33m]\u001b[0m\u001b[1;33m\u001b[0m\u001b[1;33m\u001b[0m\u001b[0m\n\u001b[0;32m      8\u001b[0m \u001b[1;31m#temp=temp.set_index(['District','date'])\u001b[0m\u001b[1;33m\u001b[0m\u001b[1;33m\u001b[0m\u001b[1;33m\u001b[0m\u001b[0m\n\u001b[1;32m----> 9\u001b[1;33m \u001b[0mmod\u001b[0m \u001b[1;33m=\u001b[0m \u001b[0mPanelOLS\u001b[0m\u001b[1;33m(\u001b[0m\u001b[0ml\u001b[0m\u001b[1;33m,\u001b[0m\u001b[0mtemp\u001b[0m\u001b[1;33m[\u001b[0m\u001b[1;34m'int_ay'\u001b[0m\u001b[1;33m]\u001b[0m\u001b[1;33m)\u001b[0m\u001b[1;33m\u001b[0m\u001b[1;33m\u001b[0m\u001b[0m\n\u001b[0m\u001b[0;32m     10\u001b[0m \u001b[0mres\u001b[0m \u001b[1;33m=\u001b[0m \u001b[0mmod\u001b[0m\u001b[1;33m.\u001b[0m\u001b[0mfit\u001b[0m\u001b[1;33m(\u001b[0m\u001b[1;33m)\u001b[0m\u001b[1;33m\u001b[0m\u001b[1;33m\u001b[0m\u001b[0m\n\u001b[0;32m     11\u001b[0m \u001b[0mres\u001b[0m\u001b[1;33m\u001b[0m\u001b[1;33m\u001b[0m\u001b[0m\n",
      "\u001b[1;32m~\\AppData\\Local\\Packages\\PythonSoftwareFoundation.Python.3.8_qbz5n2kfra8p0\\LocalCache\\local-packages\\Python38\\site-packages\\linearmodels\\panel\\model.py\u001b[0m in \u001b[0;36m__init__\u001b[1;34m(self, dependent, exog, weights, entity_effects, time_effects, other_effects, singletons, drop_absorbed)\u001b[0m\n\u001b[0;32m   1090\u001b[0m         \u001b[0mdrop_absorbed\u001b[0m\u001b[1;33m:\u001b[0m \u001b[0mbool\u001b[0m \u001b[1;33m=\u001b[0m \u001b[1;32mFalse\u001b[0m\u001b[1;33m,\u001b[0m\u001b[1;33m\u001b[0m\u001b[1;33m\u001b[0m\u001b[0m\n\u001b[0;32m   1091\u001b[0m     ) -> None:\n\u001b[1;32m-> 1092\u001b[1;33m         \u001b[0msuper\u001b[0m\u001b[1;33m(\u001b[0m\u001b[0mPanelOLS\u001b[0m\u001b[1;33m,\u001b[0m \u001b[0mself\u001b[0m\u001b[1;33m)\u001b[0m\u001b[1;33m.\u001b[0m\u001b[0m__init__\u001b[0m\u001b[1;33m(\u001b[0m\u001b[0mdependent\u001b[0m\u001b[1;33m,\u001b[0m \u001b[0mexog\u001b[0m\u001b[1;33m,\u001b[0m \u001b[0mweights\u001b[0m\u001b[1;33m=\u001b[0m\u001b[0mweights\u001b[0m\u001b[1;33m)\u001b[0m\u001b[1;33m\u001b[0m\u001b[1;33m\u001b[0m\u001b[0m\n\u001b[0m\u001b[0;32m   1093\u001b[0m \u001b[1;33m\u001b[0m\u001b[0m\n\u001b[0;32m   1094\u001b[0m         \u001b[0mself\u001b[0m\u001b[1;33m.\u001b[0m\u001b[0m_entity_effects\u001b[0m \u001b[1;33m=\u001b[0m \u001b[0mentity_effects\u001b[0m\u001b[1;33m\u001b[0m\u001b[1;33m\u001b[0m\u001b[0m\n",
      "\u001b[1;32m~\\AppData\\Local\\Packages\\PythonSoftwareFoundation.Python.3.8_qbz5n2kfra8p0\\LocalCache\\local-packages\\Python38\\site-packages\\linearmodels\\panel\\model.py\u001b[0m in \u001b[0;36m__init__\u001b[1;34m(self, dependent, exog, weights)\u001b[0m\n\u001b[0;32m    228\u001b[0m         \u001b[0mweights\u001b[0m\u001b[1;33m:\u001b[0m \u001b[0mOptional\u001b[0m\u001b[1;33m[\u001b[0m\u001b[0mPanelDataLike\u001b[0m\u001b[1;33m]\u001b[0m \u001b[1;33m=\u001b[0m \u001b[1;32mNone\u001b[0m\u001b[1;33m,\u001b[0m\u001b[1;33m\u001b[0m\u001b[1;33m\u001b[0m\u001b[0m\n\u001b[0;32m    229\u001b[0m     ) -> None:\n\u001b[1;32m--> 230\u001b[1;33m         \u001b[0mself\u001b[0m\u001b[1;33m.\u001b[0m\u001b[0mdependent\u001b[0m \u001b[1;33m=\u001b[0m \u001b[0mPanelData\u001b[0m\u001b[1;33m(\u001b[0m\u001b[0mdependent\u001b[0m\u001b[1;33m,\u001b[0m \u001b[1;34m\"Dep\"\u001b[0m\u001b[1;33m)\u001b[0m\u001b[1;33m\u001b[0m\u001b[1;33m\u001b[0m\u001b[0m\n\u001b[0m\u001b[0;32m    231\u001b[0m         \u001b[0mself\u001b[0m\u001b[1;33m.\u001b[0m\u001b[0mexog\u001b[0m \u001b[1;33m=\u001b[0m \u001b[0mPanelData\u001b[0m\u001b[1;33m(\u001b[0m\u001b[0mexog\u001b[0m\u001b[1;33m,\u001b[0m \u001b[1;34m\"Exog\"\u001b[0m\u001b[1;33m)\u001b[0m\u001b[1;33m\u001b[0m\u001b[1;33m\u001b[0m\u001b[0m\n\u001b[0;32m    232\u001b[0m         \u001b[0mself\u001b[0m\u001b[1;33m.\u001b[0m\u001b[0m_original_shape\u001b[0m \u001b[1;33m=\u001b[0m \u001b[0mself\u001b[0m\u001b[1;33m.\u001b[0m\u001b[0mdependent\u001b[0m\u001b[1;33m.\u001b[0m\u001b[0mshape\u001b[0m\u001b[1;33m\u001b[0m\u001b[1;33m\u001b[0m\u001b[0m\n",
      "\u001b[1;32m~\\AppData\\Local\\Packages\\PythonSoftwareFoundation.Python.3.8_qbz5n2kfra8p0\\LocalCache\\local-packages\\Python38\\site-packages\\linearmodels\\panel\\data.py\u001b[0m in \u001b[0;36m__init__\u001b[1;34m(self, x, var_name, convert_dummies, drop_first, copy)\u001b[0m\n\u001b[0;32m    200\u001b[0m             \u001b[0mx\u001b[0m \u001b[1;33m=\u001b[0m \u001b[0mDataFrame\u001b[0m\u001b[1;33m(\u001b[0m\u001b[0mx\u001b[0m\u001b[1;33m)\u001b[0m\u001b[1;33m\u001b[0m\u001b[1;33m\u001b[0m\u001b[0m\n\u001b[0;32m    201\u001b[0m         \u001b[1;32melif\u001b[0m \u001b[0misinstance\u001b[0m\u001b[1;33m(\u001b[0m\u001b[0mx\u001b[0m\u001b[1;33m,\u001b[0m \u001b[0mSeries\u001b[0m\u001b[1;33m)\u001b[0m\u001b[1;33m:\u001b[0m\u001b[1;33m\u001b[0m\u001b[1;33m\u001b[0m\u001b[0m\n\u001b[1;32m--> 202\u001b[1;33m             \u001b[1;32mraise\u001b[0m \u001b[0mValueError\u001b[0m\u001b[1;33m(\u001b[0m\u001b[1;34m\"Series can only be used with a 2-level MultiIndex\"\u001b[0m\u001b[1;33m)\u001b[0m\u001b[1;33m\u001b[0m\u001b[1;33m\u001b[0m\u001b[0m\n\u001b[0m\u001b[0;32m    203\u001b[0m \u001b[1;33m\u001b[0m\u001b[0m\n\u001b[0;32m    204\u001b[0m         \u001b[1;32mif\u001b[0m \u001b[0misinstance\u001b[0m\u001b[1;33m(\u001b[0m\u001b[0mx\u001b[0m\u001b[1;33m,\u001b[0m \u001b[0mDataFrame\u001b[0m\u001b[1;33m)\u001b[0m\u001b[1;33m:\u001b[0m\u001b[1;33m\u001b[0m\u001b[1;33m\u001b[0m\u001b[0m\n",
      "\u001b[1;31mValueError\u001b[0m: Series can only be used with a 2-level MultiIndex"
     ]
    }
   ],
   "source": [
    "from linearmodels import OLS\n",
    "#df['date']='01-01-2020'\n",
    "#temp['date']=pd.to_datetime(temp['date'])\n",
    "#temp=df[['District','date','states','2020','2016','int_ay','change']]\n",
    "temp.dropna()\n",
    "#temp['change']=(temp['2020'].astype('float64')-temp['2016'].astype('float64'))/temp['2016'].astype('float64')\n",
    "l=temp['change']\n",
    "#temp=temp.set_index(['District','date'])\n",
    "mod = PanelOLS(l,temp['int_ay'])\n",
    "res = mod.fit()\n",
    "res"
   ]
  },
  {
   "cell_type": "code",
   "execution_count": null,
   "metadata": {},
   "outputs": [],
   "source": []
  },
  {
   "cell_type": "code",
   "execution_count": 760,
   "metadata": {},
   "outputs": [
    {
     "output_type": "execute_result",
     "data": {
      "text/plain": [
       "1    23608\n",
       "0     1664\n",
       "Name: int_ay, dtype: int64"
      ]
     },
     "metadata": {},
     "execution_count": 760
    }
   ],
   "source": [
    "temp.int_ay.value_counts()"
   ]
  },
  {
   "cell_type": "code",
   "execution_count": 752,
   "metadata": {},
   "outputs": [
    {
     "output_type": "execute_result",
     "data": {
      "text/plain": [
       "District    date      \n",
       "Ahmednagar  2020-01-01    0.026525\n",
       "Aizawl      2020-01-01    0.019812\n",
       "Akola       2020-01-01    0.178313\n",
       "Alappuzha   2020-01-01    0.009288\n",
       "Amravati    2020-01-01    0.249042\n",
       "                            ...   \n",
       "Wokha       2020-01-01         NaN\n",
       "Y.S.R.      2020-01-01         NaN\n",
       "Yadgir      2020-01-01         NaN\n",
       "Yavatmal    2020-01-01         NaN\n",
       "Zunheboto   2020-01-01         NaN\n",
       "Name: change, Length: 25272, dtype: float64"
      ]
     },
     "metadata": {},
     "execution_count": 752
    }
   ],
   "source": [
    "temp.change"
   ]
  },
  {
   "cell_type": "code",
   "execution_count": 754,
   "metadata": {},
   "outputs": [],
   "source": [
    "temp=temp.dropna()"
   ]
  },
  {
   "cell_type": "code",
   "execution_count": 756,
   "metadata": {},
   "outputs": [],
   "source": [
    "mod = PanelOLS(temp.change,temp['int_ay'])\n",
    "res = mod.fit()"
   ]
  },
  {
   "cell_type": "code",
   "execution_count": 757,
   "metadata": {},
   "outputs": [
    {
     "output_type": "execute_result",
     "data": {
      "text/plain": [
       "                          PanelOLS Estimation Summary                           \n",
       "================================================================================\n",
       "Dep. Variable:                 change   R-squared:                              \n",
       "Estimator:                   PanelOLS   R-squared (Between):                    \n",
       "No. Observations:               18337   R-squared (Within):               0.0000\n",
       "Date:                Sat, Apr 03 2021   R-squared (Overall):                    \n",
       "Time:                        15:20:01   Log-likelihood                          \n",
       "Cov. Estimator:            Unadjusted                                           \n",
       "                                        F-statistic:                      0.0000\n",
       "Entities:                         243   P-value                           1.0000\n",
       "Avg Obs:                       75.461   Distribution:                 F(1,18336)\n",
       "Min Obs:                       62.000                                           \n",
       "Max Obs:                       84.000   F-statistic (robust):                   \n",
       "                                        P-value                                 \n",
       "Time periods:                       1   Distribution:                 F(1,18336)\n",
       "Avg Obs:                    1.834e+04                                           \n",
       "Min Obs:                    1.834e+04                                           \n",
       "Max Obs:                    1.834e+04                                           \n",
       "                                                                                \n",
       "                             Parameter Estimates                              \n",
       "==============================================================================\n",
       "            Parameter  Std. Err.     T-stat    P-value    Lower CI    Upper CI\n",
       "------------------------------------------------------------------------------\n",
       "int_ay                                                                        \n",
       "==============================================================================\n",
       "\n",
       "\n",
       "PanelEffectsResults, id: 0x173651c0df0"
      ],
      "text/html": "<table class=\"simpletable\">\n<caption>PanelOLS Estimation Summary</caption>\n<tr>\n  <th>Dep. Variable:</th>         <td>change</td>      <th>  R-squared:         </th>    <td>        </td> \n</tr>\n<tr>\n  <th>Estimator:</th>            <td>PanelOLS</td>     <th>  R-squared (Between):</th>   <td>        </td> \n</tr>\n<tr>\n  <th>No. Observations:</th>       <td>18337</td>      <th>  R-squared (Within):</th>     <td>0.0000</td>  \n</tr>\n<tr>\n  <th>Date:</th>             <td>Sat, Apr 03 2021</td> <th>  R-squared (Overall):</th>   <td>        </td> \n</tr>\n<tr>\n  <th>Time:</th>                 <td>15:20:01</td>     <th>  Log-likelihood     </th>    <td>        </td> \n</tr>\n<tr>\n  <th>Cov. Estimator:</th>      <td>Unadjusted</td>    <th>                     </th>        <td></td>     \n</tr>\n<tr>\n  <th></th>                          <td></td>         <th>  F-statistic:       </th>     <td>0.0000</td>  \n</tr>\n<tr>\n  <th>Entities:</th>                <td>243</td>       <th>  P-value            </th>     <td>1.0000</td>  \n</tr>\n<tr>\n  <th>Avg Obs:</th>               <td>75.461</td>      <th>  Distribution:      </th>   <td>F(1,18336)</td>\n</tr>\n<tr>\n  <th>Min Obs:</th>               <td>62.000</td>      <th>                     </th>        <td></td>     \n</tr>\n<tr>\n  <th>Max Obs:</th>               <td>84.000</td>      <th>  F-statistic (robust):</th>  <td>        </td> \n</tr>\n<tr>\n  <th></th>                          <td></td>         <th>  P-value            </th>    <td>        </td> \n</tr>\n<tr>\n  <th>Time periods:</th>             <td>1</td>        <th>  Distribution:      </th>   <td>F(1,18336)</td>\n</tr>\n<tr>\n  <th>Avg Obs:</th>              <td>1.834e+04</td>    <th>                     </th>        <td></td>     \n</tr>\n<tr>\n  <th>Min Obs:</th>              <td>1.834e+04</td>    <th>                     </th>        <td></td>     \n</tr>\n<tr>\n  <th>Max Obs:</th>              <td>1.834e+04</td>    <th>                     </th>        <td></td>     \n</tr>\n<tr>\n  <th></th>                          <td></td>         <th>                     </th>        <td></td>     \n</tr>\n</table>\n<table class=\"simpletable\">\n<caption>Parameter Estimates</caption>\n<tr>\n     <td></td>    <th>Parameter</th> <th>Std. Err.</th>  <th>T-stat</th>   <th>P-value</th> <th>Lower CI</th> <th>Upper CI</th>\n</tr>\n<tr>\n  <th>int_ay</th> <td>        </td>  <td>        </td>  <td>        </td> <td>        </td> <td>        </td> <td>        </td>\n</tr>\n</table><br/><br/><br/>id: 0x173651c0df0"
     },
     "metadata": {},
     "execution_count": 757
    }
   ],
   "source": [
    "res"
   ]
  },
  {
   "cell_type": "code",
   "execution_count": 54,
   "metadata": {},
   "outputs": [
    {
     "output_type": "execute_result",
     "data": {
      "text/plain": [
       "33384"
      ]
     },
     "metadata": {},
     "execution_count": 54
    }
   ],
   "source": [
    "dft=pd.read_csv('transpose_nfhs_final.csv')\n",
    "df=pd.read_csv('NFHS4_NFHS5_DISTRICT_DATA_Processed.csv')\n",
    "dft.shape[0]"
   ]
  },
  {
   "cell_type": "code",
   "execution_count": 55,
   "metadata": {},
   "outputs": [
    {
     "output_type": "execute_result",
     "data": {
      "text/plain": [
       "316"
      ]
     },
     "metadata": {},
     "execution_count": 55
    }
   ],
   "source": [
    "len(dft.District.unique())"
   ]
  },
  {
   "cell_type": "code",
   "execution_count": 56,
   "metadata": {},
   "outputs": [],
   "source": [
    "nldt=pd.read_csv('nightlight_transpose_nfhs_data.csv')\n",
    "\n",
    "nld=pd.read_csv('nightlight_nfhs_data.csv')\n",
    "\n"
   ]
  },
  {
   "cell_type": "code",
   "execution_count": 57,
   "metadata": {},
   "outputs": [],
   "source": [
    "rfd=pd.read_csv('rainfall_nfhs_data.csv')\n",
    "rfd_t=pd.read_csv('transpose_rainfall_data_nfhs.csv')\n"
   ]
  },
  {
   "cell_type": "code",
   "execution_count": 11,
   "metadata": {},
   "outputs": [],
   "source": [
    "l=pd.read_csv('districts_list_nfhs.csv')\n",
    "l2=pd.read_csv('districts_list_nfhs2.csv')\n",
    "\n",
    "import jelly"
   ]
  },
  {
   "cell_type": "code",
   "execution_count": 17,
   "metadata": {},
   "outputs": [
    {
     "output_type": "execute_result",
     "data": {
      "text/plain": [
       "     Unnamed: 0_x     districts  Unnamed: 0_y\n",
       "0               0    Ahmednagar             3\n",
       "1               1        Aizawl             4\n",
       "2               2         Akola             6\n",
       "3               3     Alappuzha             7\n",
       "4               4      Amravati            15\n",
       "..            ...           ...           ...\n",
       "240           310  West Tripura           625\n",
       "241           312         Wokha           626\n",
       "242           315        Yadgir           628\n",
       "243           316      Yavatmal           631\n",
       "244           317     Zunheboto           632\n",
       "\n",
       "[245 rows x 3 columns]"
      ],
      "text/html": "<div>\n<style scoped>\n    .dataframe tbody tr th:only-of-type {\n        vertical-align: middle;\n    }\n\n    .dataframe tbody tr th {\n        vertical-align: top;\n    }\n\n    .dataframe thead th {\n        text-align: right;\n    }\n</style>\n<table border=\"1\" class=\"dataframe\">\n  <thead>\n    <tr style=\"text-align: right;\">\n      <th></th>\n      <th>Unnamed: 0_x</th>\n      <th>districts</th>\n      <th>Unnamed: 0_y</th>\n    </tr>\n  </thead>\n  <tbody>\n    <tr>\n      <th>0</th>\n      <td>0</td>\n      <td>Ahmednagar</td>\n      <td>3</td>\n    </tr>\n    <tr>\n      <th>1</th>\n      <td>1</td>\n      <td>Aizawl</td>\n      <td>4</td>\n    </tr>\n    <tr>\n      <th>2</th>\n      <td>2</td>\n      <td>Akola</td>\n      <td>6</td>\n    </tr>\n    <tr>\n      <th>3</th>\n      <td>3</td>\n      <td>Alappuzha</td>\n      <td>7</td>\n    </tr>\n    <tr>\n      <th>4</th>\n      <td>4</td>\n      <td>Amravati</td>\n      <td>15</td>\n    </tr>\n    <tr>\n      <th>...</th>\n      <td>...</td>\n      <td>...</td>\n      <td>...</td>\n    </tr>\n    <tr>\n      <th>240</th>\n      <td>310</td>\n      <td>West Tripura</td>\n      <td>625</td>\n    </tr>\n    <tr>\n      <th>241</th>\n      <td>312</td>\n      <td>Wokha</td>\n      <td>626</td>\n    </tr>\n    <tr>\n      <th>242</th>\n      <td>315</td>\n      <td>Yadgir</td>\n      <td>628</td>\n    </tr>\n    <tr>\n      <th>243</th>\n      <td>316</td>\n      <td>Yavatmal</td>\n      <td>631</td>\n    </tr>\n    <tr>\n      <th>244</th>\n      <td>317</td>\n      <td>Zunheboto</td>\n      <td>632</td>\n    </tr>\n  </tbody>\n</table>\n<p>245 rows × 3 columns</p>\n</div>"
     },
     "metadata": {},
     "execution_count": 17
    }
   ],
   "source": [
    "l.merge(l2, on='districts', how='inner')"
   ]
  },
  {
   "cell_type": "code",
   "execution_count": 32,
   "metadata": {},
   "outputs": [],
   "source": [
    "import jellyfish\n",
    "from jellyfish import jaro_similarity\n",
    "d={}\n",
    "mainl=[]\n",
    "for i in l.districts:\n",
    "    m=0\n",
    "    for j in l2.districts:\n",
    "        score=jaro_similarity(i,j)\n",
    "        if(score>m):\n",
    "            l=[i,j]\n",
    "            d[i]=j\n",
    "            m=score\n",
    "    mainl.append(l)"
   ]
  },
  {
   "cell_type": "code",
   "execution_count": 34,
   "metadata": {},
   "outputs": [],
   "source": [
    "pd.DataFrame(mainl).to_csv('district_mapping_nfhs.csv')"
   ]
  },
  {
   "cell_type": "code",
   "execution_count": 87,
   "metadata": {},
   "outputs": [],
   "source": [
    "d_map=pd.read_csv('district_mapping_nfhs.csv')"
   ]
  },
  {
   "cell_type": "code",
   "execution_count": 59,
   "metadata": {},
   "outputs": [],
   "source": [
    "d_map=d_map.dropna()"
   ]
  },
  {
   "cell_type": "code",
   "execution_count": 88,
   "metadata": {},
   "outputs": [
    {
     "output_type": "execute_result",
     "data": {
      "text/plain": [
       "     Unnamed: 0                  one          two\n",
       "0             0           Ahmednagar   Ahmednagar\n",
       "1             1               Aizawl       Aizawl\n",
       "2             2                Akola        Akola\n",
       "3             3            Alappuzha    Alappuzha\n",
       "4             4             Amravati     Amravati\n",
       "..          ...                  ...          ...\n",
       "313         313               Y.S.R.          YSR\n",
       "314         314  Yadadri Bhuvanagiri  Krishnagiri\n",
       "315         315               Yadgir       Yadgir\n",
       "316         316             Yavatmal     Yavatmal\n",
       "317         317            Zunheboto    Zunheboto\n",
       "\n",
       "[318 rows x 3 columns]"
      ],
      "text/html": "<div>\n<style scoped>\n    .dataframe tbody tr th:only-of-type {\n        vertical-align: middle;\n    }\n\n    .dataframe tbody tr th {\n        vertical-align: top;\n    }\n\n    .dataframe thead th {\n        text-align: right;\n    }\n</style>\n<table border=\"1\" class=\"dataframe\">\n  <thead>\n    <tr style=\"text-align: right;\">\n      <th></th>\n      <th>Unnamed: 0</th>\n      <th>one</th>\n      <th>two</th>\n    </tr>\n  </thead>\n  <tbody>\n    <tr>\n      <th>0</th>\n      <td>0</td>\n      <td>Ahmednagar</td>\n      <td>Ahmednagar</td>\n    </tr>\n    <tr>\n      <th>1</th>\n      <td>1</td>\n      <td>Aizawl</td>\n      <td>Aizawl</td>\n    </tr>\n    <tr>\n      <th>2</th>\n      <td>2</td>\n      <td>Akola</td>\n      <td>Akola</td>\n    </tr>\n    <tr>\n      <th>3</th>\n      <td>3</td>\n      <td>Alappuzha</td>\n      <td>Alappuzha</td>\n    </tr>\n    <tr>\n      <th>4</th>\n      <td>4</td>\n      <td>Amravati</td>\n      <td>Amravati</td>\n    </tr>\n    <tr>\n      <th>...</th>\n      <td>...</td>\n      <td>...</td>\n      <td>...</td>\n    </tr>\n    <tr>\n      <th>313</th>\n      <td>313</td>\n      <td>Y.S.R.</td>\n      <td>YSR</td>\n    </tr>\n    <tr>\n      <th>314</th>\n      <td>314</td>\n      <td>Yadadri Bhuvanagiri</td>\n      <td>Krishnagiri</td>\n    </tr>\n    <tr>\n      <th>315</th>\n      <td>315</td>\n      <td>Yadgir</td>\n      <td>Yadgir</td>\n    </tr>\n    <tr>\n      <th>316</th>\n      <td>316</td>\n      <td>Yavatmal</td>\n      <td>Yavatmal</td>\n    </tr>\n    <tr>\n      <th>317</th>\n      <td>317</td>\n      <td>Zunheboto</td>\n      <td>Zunheboto</td>\n    </tr>\n  </tbody>\n</table>\n<p>318 rows × 3 columns</p>\n</div>"
     },
     "metadata": {},
     "execution_count": 88
    }
   ],
   "source": [
    "d_map"
   ]
  },
  {
   "cell_type": "code",
   "execution_count": 61,
   "metadata": {},
   "outputs": [],
   "source": [
    "d={}\n",
    "for i in range(d_map.shape[0]):\n",
    "    d[d_map['one'].iat[i]]=d_map['two'].iat[i]"
   ]
  },
  {
   "cell_type": "code",
   "execution_count": 89,
   "metadata": {},
   "outputs": [
    {
     "output_type": "execute_result",
     "data": {
      "text/plain": [
       "         District states                                           variable  \\\n",
       "0      Ahmednagar     MH  1. Female population age 6 years and above who...   \n",
       "1      Ahmednagar     MH  10. Households using clean fuel for cooking3 (...   \n",
       "2      Ahmednagar     MH  100. Ever undergone an oral cavity examination...   \n",
       "3      Ahmednagar     MH  101. Women age 15 years and above who use any ...   \n",
       "4      Ahmednagar     MH  102. Men age 15 years and above who use any ki...   \n",
       "...           ...    ...                                                ...   \n",
       "33379   Zunheboto     NL  95. Elevated blood pressure (Systolic ≥140 mm ...   \n",
       "33380   Zunheboto     NL  95. Mildly elevated blood pressure (Systolic 1...   \n",
       "33381   Zunheboto     NL  96. Moderately or severely elevated blood pres...   \n",
       "33382   Zunheboto     NL  98.Ever undergone a screening test for cervica...   \n",
       "33383   Zunheboto     NL  99.Ever undergone a breast examination for bre...   \n",
       "\n",
       "       2016  2020   districts          UID2  \n",
       "0      75.4  77.4  Ahmednagar  AhmednagarMH  \n",
       "1      57.8  77.4  Ahmednagar  AhmednagarMH  \n",
       "2      14.4   0.2  Ahmednagar  AhmednagarMH  \n",
       "3       NaN  14.7  Ahmednagar  AhmednagarMH  \n",
       "4       NaN  37.7  Ahmednagar  AhmednagarMH  \n",
       "...     ...   ...         ...           ...  \n",
       "33379   NaN  41.2   Zunheboto   ZunhebotoNL  \n",
       "33380   NaN  29.2   Zunheboto   ZunhebotoNL  \n",
       "33381   3.1  11.8   Zunheboto   ZunhebotoNL  \n",
       "33382  14.3   0.2   Zunheboto   ZunhebotoNL  \n",
       "33383   2.0   0.4   Zunheboto   ZunhebotoNL  \n",
       "\n",
       "[33384 rows x 7 columns]"
      ],
      "text/html": "<div>\n<style scoped>\n    .dataframe tbody tr th:only-of-type {\n        vertical-align: middle;\n    }\n\n    .dataframe tbody tr th {\n        vertical-align: top;\n    }\n\n    .dataframe thead th {\n        text-align: right;\n    }\n</style>\n<table border=\"1\" class=\"dataframe\">\n  <thead>\n    <tr style=\"text-align: right;\">\n      <th></th>\n      <th>District</th>\n      <th>states</th>\n      <th>variable</th>\n      <th>2016</th>\n      <th>2020</th>\n      <th>districts</th>\n      <th>UID2</th>\n    </tr>\n  </thead>\n  <tbody>\n    <tr>\n      <th>0</th>\n      <td>Ahmednagar</td>\n      <td>MH</td>\n      <td>1. Female population age 6 years and above who...</td>\n      <td>75.4</td>\n      <td>77.4</td>\n      <td>Ahmednagar</td>\n      <td>AhmednagarMH</td>\n    </tr>\n    <tr>\n      <th>1</th>\n      <td>Ahmednagar</td>\n      <td>MH</td>\n      <td>10. Households using clean fuel for cooking3 (...</td>\n      <td>57.8</td>\n      <td>77.4</td>\n      <td>Ahmednagar</td>\n      <td>AhmednagarMH</td>\n    </tr>\n    <tr>\n      <th>2</th>\n      <td>Ahmednagar</td>\n      <td>MH</td>\n      <td>100. Ever undergone an oral cavity examination...</td>\n      <td>14.4</td>\n      <td>0.2</td>\n      <td>Ahmednagar</td>\n      <td>AhmednagarMH</td>\n    </tr>\n    <tr>\n      <th>3</th>\n      <td>Ahmednagar</td>\n      <td>MH</td>\n      <td>101. Women age 15 years and above who use any ...</td>\n      <td>NaN</td>\n      <td>14.7</td>\n      <td>Ahmednagar</td>\n      <td>AhmednagarMH</td>\n    </tr>\n    <tr>\n      <th>4</th>\n      <td>Ahmednagar</td>\n      <td>MH</td>\n      <td>102. Men age 15 years and above who use any ki...</td>\n      <td>NaN</td>\n      <td>37.7</td>\n      <td>Ahmednagar</td>\n      <td>AhmednagarMH</td>\n    </tr>\n    <tr>\n      <th>...</th>\n      <td>...</td>\n      <td>...</td>\n      <td>...</td>\n      <td>...</td>\n      <td>...</td>\n      <td>...</td>\n      <td>...</td>\n    </tr>\n    <tr>\n      <th>33379</th>\n      <td>Zunheboto</td>\n      <td>NL</td>\n      <td>95. Elevated blood pressure (Systolic ≥140 mm ...</td>\n      <td>NaN</td>\n      <td>41.2</td>\n      <td>Zunheboto</td>\n      <td>ZunhebotoNL</td>\n    </tr>\n    <tr>\n      <th>33380</th>\n      <td>Zunheboto</td>\n      <td>NL</td>\n      <td>95. Mildly elevated blood pressure (Systolic 1...</td>\n      <td>NaN</td>\n      <td>29.2</td>\n      <td>Zunheboto</td>\n      <td>ZunhebotoNL</td>\n    </tr>\n    <tr>\n      <th>33381</th>\n      <td>Zunheboto</td>\n      <td>NL</td>\n      <td>96. Moderately or severely elevated blood pres...</td>\n      <td>3.1</td>\n      <td>11.8</td>\n      <td>Zunheboto</td>\n      <td>ZunhebotoNL</td>\n    </tr>\n    <tr>\n      <th>33382</th>\n      <td>Zunheboto</td>\n      <td>NL</td>\n      <td>98.Ever undergone a screening test for cervica...</td>\n      <td>14.3</td>\n      <td>0.2</td>\n      <td>Zunheboto</td>\n      <td>ZunhebotoNL</td>\n    </tr>\n    <tr>\n      <th>33383</th>\n      <td>Zunheboto</td>\n      <td>NL</td>\n      <td>99.Ever undergone a breast examination for bre...</td>\n      <td>2.0</td>\n      <td>0.4</td>\n      <td>Zunheboto</td>\n      <td>ZunhebotoNL</td>\n    </tr>\n  </tbody>\n</table>\n<p>33384 rows × 7 columns</p>\n</div>"
     },
     "metadata": {},
     "execution_count": 89
    }
   ],
   "source": [
    "df_t=dft\n",
    "df_t['districts']=df_t['District'].map(d)\n",
    "df_t"
   ]
  },
  {
   "cell_type": "code",
   "execution_count": 114,
   "metadata": {},
   "outputs": [
    {
     "output_type": "execute_result",
     "data": {
      "text/plain": [
       "False    32136\n",
       "True      1248\n",
       "Name: districts, dtype: int64"
      ]
     },
     "metadata": {},
     "execution_count": 114
    }
   ],
   "source": [
    "df_t.districts.isna().value_counts()"
   ]
  },
  {
   "cell_type": "code",
   "execution_count": 92,
   "metadata": {},
   "outputs": [],
   "source": [
    "df_t_append=df_t[df_t.districts.isna()]"
   ]
  },
  {
   "cell_type": "code",
   "execution_count": 118,
   "metadata": {},
   "outputs": [
    {
     "output_type": "execute_result",
     "data": {
      "text/plain": [
       "6552    NaN\n",
       "6553    NaN\n",
       "6554    NaN\n",
       "6555    NaN\n",
       "6556    NaN\n",
       "         ..\n",
       "25787   NaN\n",
       "25788   NaN\n",
       "25789   NaN\n",
       "25790   NaN\n",
       "25791   NaN\n",
       "Name: 2016, Length: 1248, dtype: float64"
      ]
     },
     "metadata": {},
     "execution_count": 118
    }
   ],
   "source": [
    "df_t_append['2016']"
   ]
  },
  {
   "cell_type": "code",
   "execution_count": 93,
   "metadata": {},
   "outputs": [
    {
     "output_type": "execute_result",
     "data": {
      "text/plain": [
       "         District states                                           variable  \\\n",
       "0      Ahmednagar     MH  1. Female population age 6 years and above who...   \n",
       "1      Ahmednagar     MH  10. Households using clean fuel for cooking3 (...   \n",
       "2      Ahmednagar     MH  100. Ever undergone an oral cavity examination...   \n",
       "3      Ahmednagar     MH  101. Women age 15 years and above who use any ...   \n",
       "4      Ahmednagar     MH  102. Men age 15 years and above who use any ki...   \n",
       "...           ...    ...                                                ...   \n",
       "33379   Zunheboto     NL  95. Elevated blood pressure (Systolic ≥140 mm ...   \n",
       "33380   Zunheboto     NL  95. Mildly elevated blood pressure (Systolic 1...   \n",
       "33381   Zunheboto     NL  96. Moderately or severely elevated blood pres...   \n",
       "33382   Zunheboto     NL  98.Ever undergone a screening test for cervica...   \n",
       "33383   Zunheboto     NL  99.Ever undergone a breast examination for bre...   \n",
       "\n",
       "       2016  2020   districts          UID2  \n",
       "0      75.4  77.4  Ahmednagar  AhmednagarMH  \n",
       "1      57.8  77.4  Ahmednagar  AhmednagarMH  \n",
       "2      14.4   0.2  Ahmednagar  AhmednagarMH  \n",
       "3       NaN  14.7  Ahmednagar  AhmednagarMH  \n",
       "4       NaN  37.7  Ahmednagar  AhmednagarMH  \n",
       "...     ...   ...         ...           ...  \n",
       "33379   NaN  41.2   Zunheboto   ZunhebotoNL  \n",
       "33380   NaN  29.2   Zunheboto   ZunhebotoNL  \n",
       "33381   3.1  11.8   Zunheboto   ZunhebotoNL  \n",
       "33382  14.3   0.2   Zunheboto   ZunhebotoNL  \n",
       "33383   2.0   0.4   Zunheboto   ZunhebotoNL  \n",
       "\n",
       "[32136 rows x 7 columns]"
      ],
      "text/html": "<div>\n<style scoped>\n    .dataframe tbody tr th:only-of-type {\n        vertical-align: middle;\n    }\n\n    .dataframe tbody tr th {\n        vertical-align: top;\n    }\n\n    .dataframe thead th {\n        text-align: right;\n    }\n</style>\n<table border=\"1\" class=\"dataframe\">\n  <thead>\n    <tr style=\"text-align: right;\">\n      <th></th>\n      <th>District</th>\n      <th>states</th>\n      <th>variable</th>\n      <th>2016</th>\n      <th>2020</th>\n      <th>districts</th>\n      <th>UID2</th>\n    </tr>\n  </thead>\n  <tbody>\n    <tr>\n      <th>0</th>\n      <td>Ahmednagar</td>\n      <td>MH</td>\n      <td>1. Female population age 6 years and above who...</td>\n      <td>75.4</td>\n      <td>77.4</td>\n      <td>Ahmednagar</td>\n      <td>AhmednagarMH</td>\n    </tr>\n    <tr>\n      <th>1</th>\n      <td>Ahmednagar</td>\n      <td>MH</td>\n      <td>10. Households using clean fuel for cooking3 (...</td>\n      <td>57.8</td>\n      <td>77.4</td>\n      <td>Ahmednagar</td>\n      <td>AhmednagarMH</td>\n    </tr>\n    <tr>\n      <th>2</th>\n      <td>Ahmednagar</td>\n      <td>MH</td>\n      <td>100. Ever undergone an oral cavity examination...</td>\n      <td>14.4</td>\n      <td>0.2</td>\n      <td>Ahmednagar</td>\n      <td>AhmednagarMH</td>\n    </tr>\n    <tr>\n      <th>3</th>\n      <td>Ahmednagar</td>\n      <td>MH</td>\n      <td>101. Women age 15 years and above who use any ...</td>\n      <td>NaN</td>\n      <td>14.7</td>\n      <td>Ahmednagar</td>\n      <td>AhmednagarMH</td>\n    </tr>\n    <tr>\n      <th>4</th>\n      <td>Ahmednagar</td>\n      <td>MH</td>\n      <td>102. Men age 15 years and above who use any ki...</td>\n      <td>NaN</td>\n      <td>37.7</td>\n      <td>Ahmednagar</td>\n      <td>AhmednagarMH</td>\n    </tr>\n    <tr>\n      <th>...</th>\n      <td>...</td>\n      <td>...</td>\n      <td>...</td>\n      <td>...</td>\n      <td>...</td>\n      <td>...</td>\n      <td>...</td>\n    </tr>\n    <tr>\n      <th>33379</th>\n      <td>Zunheboto</td>\n      <td>NL</td>\n      <td>95. Elevated blood pressure (Systolic ≥140 mm ...</td>\n      <td>NaN</td>\n      <td>41.2</td>\n      <td>Zunheboto</td>\n      <td>ZunhebotoNL</td>\n    </tr>\n    <tr>\n      <th>33380</th>\n      <td>Zunheboto</td>\n      <td>NL</td>\n      <td>95. Mildly elevated blood pressure (Systolic 1...</td>\n      <td>NaN</td>\n      <td>29.2</td>\n      <td>Zunheboto</td>\n      <td>ZunhebotoNL</td>\n    </tr>\n    <tr>\n      <th>33381</th>\n      <td>Zunheboto</td>\n      <td>NL</td>\n      <td>96. Moderately or severely elevated blood pres...</td>\n      <td>3.1</td>\n      <td>11.8</td>\n      <td>Zunheboto</td>\n      <td>ZunhebotoNL</td>\n    </tr>\n    <tr>\n      <th>33382</th>\n      <td>Zunheboto</td>\n      <td>NL</td>\n      <td>98.Ever undergone a screening test for cervica...</td>\n      <td>14.3</td>\n      <td>0.2</td>\n      <td>Zunheboto</td>\n      <td>ZunhebotoNL</td>\n    </tr>\n    <tr>\n      <th>33383</th>\n      <td>Zunheboto</td>\n      <td>NL</td>\n      <td>99.Ever undergone a breast examination for bre...</td>\n      <td>2.0</td>\n      <td>0.4</td>\n      <td>Zunheboto</td>\n      <td>ZunhebotoNL</td>\n    </tr>\n  </tbody>\n</table>\n<p>32136 rows × 7 columns</p>\n</div>"
     },
     "metadata": {},
     "execution_count": 93
    }
   ],
   "source": [
    "df_t_new=df_t.dropna(subset=['districts'])\n",
    "#len(df_t.districts.value_counts)\n",
    "df_t_new"
   ]
  },
  {
   "cell_type": "code",
   "execution_count": 126,
   "metadata": {},
   "outputs": [
    {
     "output_type": "execute_result",
     "data": {
      "text/plain": [
       "array(['DevbhumiDwarka', 'Mahabubabad', 'Mahisagar', 'Majuli',\n",
       "       'Mancherial', 'Medchal-Malkajgiri', 'Nagarkurnool', 'Palghar',\n",
       "       'Peddapalli', 'Rajanna Sircilla', 'Sangareddy', 'Sepahijala'],\n",
       "      dtype=object)"
      ]
     },
     "metadata": {},
     "execution_count": 126
    }
   ],
   "source": [
    "df_t[df_t.districts.isna()].District.unique()"
   ]
  },
  {
   "cell_type": "code",
   "execution_count": 86,
   "metadata": {},
   "outputs": [
    {
     "output_type": "execute_result",
     "data": {
      "text/plain": [
       "Empty DataFrame\n",
       "Columns: [Unnamed: 0, one, two]\n",
       "Index: []"
      ],
      "text/html": "<div>\n<style scoped>\n    .dataframe tbody tr th:only-of-type {\n        vertical-align: middle;\n    }\n\n    .dataframe tbody tr th {\n        vertical-align: top;\n    }\n\n    .dataframe thead th {\n        text-align: right;\n    }\n</style>\n<table border=\"1\" class=\"dataframe\">\n  <thead>\n    <tr style=\"text-align: right;\">\n      <th></th>\n      <th>Unnamed: 0</th>\n      <th>one</th>\n      <th>two</th>\n    </tr>\n  </thead>\n  <tbody>\n  </tbody>\n</table>\n</div>"
     },
     "metadata": {},
     "execution_count": 86
    }
   ],
   "source": [
    "d_map[d_map['two'].isna()]"
   ]
  },
  {
   "cell_type": "code",
   "execution_count": 94,
   "metadata": {},
   "outputs": [],
   "source": [
    "rfd_t['UID2']=rfd_t['districts']+rfd_t['states']\n",
    "df_t['UID2']=df_t['districts']+df_t['states']"
   ]
  },
  {
   "cell_type": "code",
   "execution_count": 108,
   "metadata": {},
   "outputs": [],
   "source": [
    "df_t_new=df_t.merge(rfd_t[['UID2','rainfall_2016','rainfall_2020']],on='UID2',how='outer').dropna(subset=['districts'])"
   ]
  },
  {
   "cell_type": "code",
   "execution_count": 109,
   "metadata": {},
   "outputs": [
    {
     "output_type": "execute_result",
     "data": {
      "text/plain": [
       "         District states                                           variable  \\\n",
       "0      Ahmednagar     MH  1. Female population age 6 years and above who...   \n",
       "1      Ahmednagar     MH  10. Households using clean fuel for cooking3 (...   \n",
       "2      Ahmednagar     MH  100. Ever undergone an oral cavity examination...   \n",
       "3      Ahmednagar     MH  101. Women age 15 years and above who use any ...   \n",
       "4      Ahmednagar     MH  102. Men age 15 years and above who use any ki...   \n",
       "...           ...    ...                                                ...   \n",
       "54595   Zunheboto     NL  95. Elevated blood pressure (Systolic ≥140 mm ...   \n",
       "54596   Zunheboto     NL  95. Mildly elevated blood pressure (Systolic 1...   \n",
       "54597   Zunheboto     NL  96. Moderately or severely elevated blood pres...   \n",
       "54598   Zunheboto     NL  98.Ever undergone a screening test for cervica...   \n",
       "54599   Zunheboto     NL  99.Ever undergone a breast examination for bre...   \n",
       "\n",
       "       2016  2020   districts          UID2  rainfall_2016  rainfall_2020  \n",
       "0      75.4  77.4  Ahmednagar  AhmednagarMH       0.099904       0.137043  \n",
       "1      57.8  77.4  Ahmednagar  AhmednagarMH       0.099904       0.137043  \n",
       "2      14.4   0.2  Ahmednagar  AhmednagarMH       0.099904       0.137043  \n",
       "3       NaN  14.7  Ahmednagar  AhmednagarMH       0.099904       0.137043  \n",
       "4       NaN  37.7  Ahmednagar  AhmednagarMH       0.099904       0.137043  \n",
       "...     ...   ...         ...           ...            ...            ...  \n",
       "54595   NaN  41.2   Zunheboto   ZunhebotoNL       0.243050       0.297988  \n",
       "54596   NaN  29.2   Zunheboto   ZunhebotoNL       0.243050       0.297988  \n",
       "54597   3.1  11.8   Zunheboto   ZunhebotoNL       0.243050       0.297988  \n",
       "54598  14.3   0.2   Zunheboto   ZunhebotoNL       0.243050       0.297988  \n",
       "54599   2.0   0.4   Zunheboto   ZunhebotoNL       0.243050       0.297988  \n",
       "\n",
       "[32136 rows x 9 columns]"
      ],
      "text/html": "<div>\n<style scoped>\n    .dataframe tbody tr th:only-of-type {\n        vertical-align: middle;\n    }\n\n    .dataframe tbody tr th {\n        vertical-align: top;\n    }\n\n    .dataframe thead th {\n        text-align: right;\n    }\n</style>\n<table border=\"1\" class=\"dataframe\">\n  <thead>\n    <tr style=\"text-align: right;\">\n      <th></th>\n      <th>District</th>\n      <th>states</th>\n      <th>variable</th>\n      <th>2016</th>\n      <th>2020</th>\n      <th>districts</th>\n      <th>UID2</th>\n      <th>rainfall_2016</th>\n      <th>rainfall_2020</th>\n    </tr>\n  </thead>\n  <tbody>\n    <tr>\n      <th>0</th>\n      <td>Ahmednagar</td>\n      <td>MH</td>\n      <td>1. Female population age 6 years and above who...</td>\n      <td>75.4</td>\n      <td>77.4</td>\n      <td>Ahmednagar</td>\n      <td>AhmednagarMH</td>\n      <td>0.099904</td>\n      <td>0.137043</td>\n    </tr>\n    <tr>\n      <th>1</th>\n      <td>Ahmednagar</td>\n      <td>MH</td>\n      <td>10. Households using clean fuel for cooking3 (...</td>\n      <td>57.8</td>\n      <td>77.4</td>\n      <td>Ahmednagar</td>\n      <td>AhmednagarMH</td>\n      <td>0.099904</td>\n      <td>0.137043</td>\n    </tr>\n    <tr>\n      <th>2</th>\n      <td>Ahmednagar</td>\n      <td>MH</td>\n      <td>100. Ever undergone an oral cavity examination...</td>\n      <td>14.4</td>\n      <td>0.2</td>\n      <td>Ahmednagar</td>\n      <td>AhmednagarMH</td>\n      <td>0.099904</td>\n      <td>0.137043</td>\n    </tr>\n    <tr>\n      <th>3</th>\n      <td>Ahmednagar</td>\n      <td>MH</td>\n      <td>101. Women age 15 years and above who use any ...</td>\n      <td>NaN</td>\n      <td>14.7</td>\n      <td>Ahmednagar</td>\n      <td>AhmednagarMH</td>\n      <td>0.099904</td>\n      <td>0.137043</td>\n    </tr>\n    <tr>\n      <th>4</th>\n      <td>Ahmednagar</td>\n      <td>MH</td>\n      <td>102. Men age 15 years and above who use any ki...</td>\n      <td>NaN</td>\n      <td>37.7</td>\n      <td>Ahmednagar</td>\n      <td>AhmednagarMH</td>\n      <td>0.099904</td>\n      <td>0.137043</td>\n    </tr>\n    <tr>\n      <th>...</th>\n      <td>...</td>\n      <td>...</td>\n      <td>...</td>\n      <td>...</td>\n      <td>...</td>\n      <td>...</td>\n      <td>...</td>\n      <td>...</td>\n      <td>...</td>\n    </tr>\n    <tr>\n      <th>54595</th>\n      <td>Zunheboto</td>\n      <td>NL</td>\n      <td>95. Elevated blood pressure (Systolic ≥140 mm ...</td>\n      <td>NaN</td>\n      <td>41.2</td>\n      <td>Zunheboto</td>\n      <td>ZunhebotoNL</td>\n      <td>0.243050</td>\n      <td>0.297988</td>\n    </tr>\n    <tr>\n      <th>54596</th>\n      <td>Zunheboto</td>\n      <td>NL</td>\n      <td>95. Mildly elevated blood pressure (Systolic 1...</td>\n      <td>NaN</td>\n      <td>29.2</td>\n      <td>Zunheboto</td>\n      <td>ZunhebotoNL</td>\n      <td>0.243050</td>\n      <td>0.297988</td>\n    </tr>\n    <tr>\n      <th>54597</th>\n      <td>Zunheboto</td>\n      <td>NL</td>\n      <td>96. Moderately or severely elevated blood pres...</td>\n      <td>3.1</td>\n      <td>11.8</td>\n      <td>Zunheboto</td>\n      <td>ZunhebotoNL</td>\n      <td>0.243050</td>\n      <td>0.297988</td>\n    </tr>\n    <tr>\n      <th>54598</th>\n      <td>Zunheboto</td>\n      <td>NL</td>\n      <td>98.Ever undergone a screening test for cervica...</td>\n      <td>14.3</td>\n      <td>0.2</td>\n      <td>Zunheboto</td>\n      <td>ZunhebotoNL</td>\n      <td>0.243050</td>\n      <td>0.297988</td>\n    </tr>\n    <tr>\n      <th>54599</th>\n      <td>Zunheboto</td>\n      <td>NL</td>\n      <td>99.Ever undergone a breast examination for bre...</td>\n      <td>2.0</td>\n      <td>0.4</td>\n      <td>Zunheboto</td>\n      <td>ZunhebotoNL</td>\n      <td>0.243050</td>\n      <td>0.297988</td>\n    </tr>\n  </tbody>\n</table>\n<p>32136 rows × 9 columns</p>\n</div>"
     },
     "metadata": {},
     "execution_count": 109
    }
   ],
   "source": [
    "df_t_new"
   ]
  },
  {
   "cell_type": "code",
   "execution_count": 130,
   "metadata": {},
   "outputs": [],
   "source": [
    "df_t_new1=df_t_new1.append(df_t_append)"
   ]
  },
  {
   "cell_type": "code",
   "execution_count": 112,
   "metadata": {},
   "outputs": [
    {
     "output_type": "execute_result",
     "data": {
      "text/plain": [
       "Bijapur       208\n",
       "Hamirpur      208\n",
       "Bilaspur      208\n",
       "Aurangabad    208\n",
       "Raigarh       208\n",
       "             ... \n",
       "Birbhum       104\n",
       "Kupwara       104\n",
       "Bhojpur       104\n",
       "Davanagere    104\n",
       "Begusarai     104\n",
       "Name: District, Length: 316, dtype: int64"
      ]
     },
     "metadata": {},
     "execution_count": 112
    }
   ],
   "source": [
    "df_t_new1.District.value_counts()"
   ]
  },
  {
   "cell_type": "code",
   "execution_count": 128,
   "metadata": {},
   "outputs": [],
   "source": [
    "nldt['UID2']=nldt['districts']+nldt['states']\n",
    "df_t_new1=df_t_new.merge(nldt[['UID2','nl_2016','nl_2020']],on='UID2',how='outer').dropna(subset=['districts'])"
   ]
  },
  {
   "cell_type": "code",
   "execution_count": 131,
   "metadata": {},
   "outputs": [
    {
     "output_type": "execute_result",
     "data": {
      "text/plain": [
       "         District states                                           variable  \\\n",
       "0      Ahmednagar     MH  1. Female population age 6 years and above who...   \n",
       "1      Ahmednagar     MH  10. Households using clean fuel for cooking3 (...   \n",
       "2      Ahmednagar     MH  100. Ever undergone an oral cavity examination...   \n",
       "3      Ahmednagar     MH  101. Women age 15 years and above who use any ...   \n",
       "4      Ahmednagar     MH  102. Men age 15 years and above who use any ki...   \n",
       "...           ...    ...                                                ...   \n",
       "25787  Sepahijala     TR  95. Elevated blood pressure (Systolic ≥140 mm ...   \n",
       "25788  Sepahijala     TR  95. Mildly elevated blood pressure (Systolic 1...   \n",
       "25789  Sepahijala     TR  96. Moderately or severely elevated blood pres...   \n",
       "25790  Sepahijala     TR  98.Ever undergone a screening test for cervica...   \n",
       "25791  Sepahijala     TR  99.Ever undergone a breast examination for bre...   \n",
       "\n",
       "       2016  2020   districts          UID2  rainfall_2016  rainfall_2020  \\\n",
       "0      75.4  77.4  Ahmednagar  AhmednagarMH       0.099904       0.137043   \n",
       "1      57.8  77.4  Ahmednagar  AhmednagarMH       0.099904       0.137043   \n",
       "2      14.4   0.2  Ahmednagar  AhmednagarMH       0.099904       0.137043   \n",
       "3       NaN  14.7  Ahmednagar  AhmednagarMH       0.099904       0.137043   \n",
       "4       NaN  37.7  Ahmednagar  AhmednagarMH       0.099904       0.137043   \n",
       "...     ...   ...         ...           ...            ...            ...   \n",
       "25787   NaN  19.9         NaN           NaN            NaN            NaN   \n",
       "25788   NaN  11.3         NaN           NaN            NaN            NaN   \n",
       "25789   NaN   3.3         NaN           NaN            NaN            NaN   \n",
       "25790   NaN   0.9         NaN           NaN            NaN            NaN   \n",
       "25791   NaN   0.2         NaN           NaN            NaN            NaN   \n",
       "\n",
       "       nl_2016   nl_2020  \n",
       "0       0.5395  1.159334  \n",
       "1       0.5395  1.159334  \n",
       "2       0.5395  1.159334  \n",
       "3       0.5395  1.159334  \n",
       "4       0.5395  1.159334  \n",
       "...        ...       ...  \n",
       "25787      NaN       NaN  \n",
       "25788      NaN       NaN  \n",
       "25789      NaN       NaN  \n",
       "25790      NaN       NaN  \n",
       "25791      NaN       NaN  \n",
       "\n",
       "[33384 rows x 11 columns]"
      ],
      "text/html": "<div>\n<style scoped>\n    .dataframe tbody tr th:only-of-type {\n        vertical-align: middle;\n    }\n\n    .dataframe tbody tr th {\n        vertical-align: top;\n    }\n\n    .dataframe thead th {\n        text-align: right;\n    }\n</style>\n<table border=\"1\" class=\"dataframe\">\n  <thead>\n    <tr style=\"text-align: right;\">\n      <th></th>\n      <th>District</th>\n      <th>states</th>\n      <th>variable</th>\n      <th>2016</th>\n      <th>2020</th>\n      <th>districts</th>\n      <th>UID2</th>\n      <th>rainfall_2016</th>\n      <th>rainfall_2020</th>\n      <th>nl_2016</th>\n      <th>nl_2020</th>\n    </tr>\n  </thead>\n  <tbody>\n    <tr>\n      <th>0</th>\n      <td>Ahmednagar</td>\n      <td>MH</td>\n      <td>1. Female population age 6 years and above who...</td>\n      <td>75.4</td>\n      <td>77.4</td>\n      <td>Ahmednagar</td>\n      <td>AhmednagarMH</td>\n      <td>0.099904</td>\n      <td>0.137043</td>\n      <td>0.5395</td>\n      <td>1.159334</td>\n    </tr>\n    <tr>\n      <th>1</th>\n      <td>Ahmednagar</td>\n      <td>MH</td>\n      <td>10. Households using clean fuel for cooking3 (...</td>\n      <td>57.8</td>\n      <td>77.4</td>\n      <td>Ahmednagar</td>\n      <td>AhmednagarMH</td>\n      <td>0.099904</td>\n      <td>0.137043</td>\n      <td>0.5395</td>\n      <td>1.159334</td>\n    </tr>\n    <tr>\n      <th>2</th>\n      <td>Ahmednagar</td>\n      <td>MH</td>\n      <td>100. Ever undergone an oral cavity examination...</td>\n      <td>14.4</td>\n      <td>0.2</td>\n      <td>Ahmednagar</td>\n      <td>AhmednagarMH</td>\n      <td>0.099904</td>\n      <td>0.137043</td>\n      <td>0.5395</td>\n      <td>1.159334</td>\n    </tr>\n    <tr>\n      <th>3</th>\n      <td>Ahmednagar</td>\n      <td>MH</td>\n      <td>101. Women age 15 years and above who use any ...</td>\n      <td>NaN</td>\n      <td>14.7</td>\n      <td>Ahmednagar</td>\n      <td>AhmednagarMH</td>\n      <td>0.099904</td>\n      <td>0.137043</td>\n      <td>0.5395</td>\n      <td>1.159334</td>\n    </tr>\n    <tr>\n      <th>4</th>\n      <td>Ahmednagar</td>\n      <td>MH</td>\n      <td>102. Men age 15 years and above who use any ki...</td>\n      <td>NaN</td>\n      <td>37.7</td>\n      <td>Ahmednagar</td>\n      <td>AhmednagarMH</td>\n      <td>0.099904</td>\n      <td>0.137043</td>\n      <td>0.5395</td>\n      <td>1.159334</td>\n    </tr>\n    <tr>\n      <th>...</th>\n      <td>...</td>\n      <td>...</td>\n      <td>...</td>\n      <td>...</td>\n      <td>...</td>\n      <td>...</td>\n      <td>...</td>\n      <td>...</td>\n      <td>...</td>\n      <td>...</td>\n      <td>...</td>\n    </tr>\n    <tr>\n      <th>25787</th>\n      <td>Sepahijala</td>\n      <td>TR</td>\n      <td>95. Elevated blood pressure (Systolic ≥140 mm ...</td>\n      <td>NaN</td>\n      <td>19.9</td>\n      <td>NaN</td>\n      <td>NaN</td>\n      <td>NaN</td>\n      <td>NaN</td>\n      <td>NaN</td>\n      <td>NaN</td>\n    </tr>\n    <tr>\n      <th>25788</th>\n      <td>Sepahijala</td>\n      <td>TR</td>\n      <td>95. Mildly elevated blood pressure (Systolic 1...</td>\n      <td>NaN</td>\n      <td>11.3</td>\n      <td>NaN</td>\n      <td>NaN</td>\n      <td>NaN</td>\n      <td>NaN</td>\n      <td>NaN</td>\n      <td>NaN</td>\n    </tr>\n    <tr>\n      <th>25789</th>\n      <td>Sepahijala</td>\n      <td>TR</td>\n      <td>96. Moderately or severely elevated blood pres...</td>\n      <td>NaN</td>\n      <td>3.3</td>\n      <td>NaN</td>\n      <td>NaN</td>\n      <td>NaN</td>\n      <td>NaN</td>\n      <td>NaN</td>\n      <td>NaN</td>\n    </tr>\n    <tr>\n      <th>25790</th>\n      <td>Sepahijala</td>\n      <td>TR</td>\n      <td>98.Ever undergone a screening test for cervica...</td>\n      <td>NaN</td>\n      <td>0.9</td>\n      <td>NaN</td>\n      <td>NaN</td>\n      <td>NaN</td>\n      <td>NaN</td>\n      <td>NaN</td>\n      <td>NaN</td>\n    </tr>\n    <tr>\n      <th>25791</th>\n      <td>Sepahijala</td>\n      <td>TR</td>\n      <td>99.Ever undergone a breast examination for bre...</td>\n      <td>NaN</td>\n      <td>0.2</td>\n      <td>NaN</td>\n      <td>NaN</td>\n      <td>NaN</td>\n      <td>NaN</td>\n      <td>NaN</td>\n      <td>NaN</td>\n    </tr>\n  </tbody>\n</table>\n<p>33384 rows × 11 columns</p>\n</div>"
     },
     "metadata": {},
     "execution_count": 131
    }
   ],
   "source": [
    "df_t_new1"
   ]
  },
  {
   "cell_type": "code",
   "execution_count": 132,
   "metadata": {},
   "outputs": [],
   "source": [
    "df_t_new1.to_csv('transpose_with_controls_nfhs4_nfhs5_full.csv')"
   ]
  },
  {
   "cell_type": "code",
   "execution_count": 120,
   "metadata": {},
   "outputs": [],
   "source": [
    "df=pd.read_csv('transpose_with_controls_nfhs4_nfhs5_full.csv')"
   ]
  },
  {
   "cell_type": "code",
   "execution_count": 144,
   "metadata": {},
   "outputs": [],
   "source": [
    "df['districts']=df['District'].map(d)"
   ]
  },
  {
   "cell_type": "code",
   "execution_count": 150,
   "metadata": {},
   "outputs": [],
   "source": [
    "df['UID2']=df['districts']+df['states']+df['Year'].apply(str)"
   ]
  },
  {
   "cell_type": "code",
   "execution_count": 164,
   "metadata": {},
   "outputs": [
    {
     "output_type": "execute_result",
     "data": {
      "text/plain": [
       "      Unnamed: 0                 districts                state  \\\n",
       "0              0             South Andaman  Andaman and Nicobar   \n",
       "1            639             South Andaman  Andaman and Nicobar   \n",
       "2              1                   Nicobar  Andaman and Nicobar   \n",
       "3            640                   Nicobar  Andaman and Nicobar   \n",
       "4              2  North and Middle Andaman  Andaman and Nicobar   \n",
       "...          ...                       ...                  ...   \n",
       "1273        1275                 Darjiling          West Bengal   \n",
       "1274         637                Jalpaiguri          West Bengal   \n",
       "1275        1276                Jalpaiguri          West Bengal   \n",
       "1276         638                 Kochbihar          West Bengal   \n",
       "1277        1277                 Kochbihar          West Bengal   \n",
       "\n",
       "                                              UID  variable     value states  \n",
       "0                South AndamanAndaman and Nicobar      2016  0.159315     AN  \n",
       "1                South AndamanAndaman and Nicobar      2020  0.450531     AN  \n",
       "2                      NicobarAndaman and Nicobar      2016  0.022680     AN  \n",
       "3                      NicobarAndaman and Nicobar      2020  0.242715     AN  \n",
       "4     North and Middle AndamanAndaman and Nicobar      2016  0.021727     AN  \n",
       "...                                           ...       ...       ...    ...  \n",
       "1273                         DarjilingWest Bengal      2020  0.841823     WB  \n",
       "1274                        JalpaiguriWest Bengal      2016  0.347154     WB  \n",
       "1275                        JalpaiguriWest Bengal      2020  0.856079     WB  \n",
       "1276                         KochbiharWest Bengal      2016  0.351499     WB  \n",
       "1277                         KochbiharWest Bengal      2020  0.882005     WB  \n",
       "\n",
       "[1278 rows x 7 columns]"
      ],
      "text/html": "<div>\n<style scoped>\n    .dataframe tbody tr th:only-of-type {\n        vertical-align: middle;\n    }\n\n    .dataframe tbody tr th {\n        vertical-align: top;\n    }\n\n    .dataframe thead th {\n        text-align: right;\n    }\n</style>\n<table border=\"1\" class=\"dataframe\">\n  <thead>\n    <tr style=\"text-align: right;\">\n      <th></th>\n      <th>Unnamed: 0</th>\n      <th>districts</th>\n      <th>state</th>\n      <th>UID</th>\n      <th>variable</th>\n      <th>value</th>\n      <th>states</th>\n    </tr>\n  </thead>\n  <tbody>\n    <tr>\n      <th>0</th>\n      <td>0</td>\n      <td>South Andaman</td>\n      <td>Andaman and Nicobar</td>\n      <td>South AndamanAndaman and Nicobar</td>\n      <td>2016</td>\n      <td>0.159315</td>\n      <td>AN</td>\n    </tr>\n    <tr>\n      <th>1</th>\n      <td>639</td>\n      <td>South Andaman</td>\n      <td>Andaman and Nicobar</td>\n      <td>South AndamanAndaman and Nicobar</td>\n      <td>2020</td>\n      <td>0.450531</td>\n      <td>AN</td>\n    </tr>\n    <tr>\n      <th>2</th>\n      <td>1</td>\n      <td>Nicobar</td>\n      <td>Andaman and Nicobar</td>\n      <td>NicobarAndaman and Nicobar</td>\n      <td>2016</td>\n      <td>0.022680</td>\n      <td>AN</td>\n    </tr>\n    <tr>\n      <th>3</th>\n      <td>640</td>\n      <td>Nicobar</td>\n      <td>Andaman and Nicobar</td>\n      <td>NicobarAndaman and Nicobar</td>\n      <td>2020</td>\n      <td>0.242715</td>\n      <td>AN</td>\n    </tr>\n    <tr>\n      <th>4</th>\n      <td>2</td>\n      <td>North and Middle Andaman</td>\n      <td>Andaman and Nicobar</td>\n      <td>North and Middle AndamanAndaman and Nicobar</td>\n      <td>2016</td>\n      <td>0.021727</td>\n      <td>AN</td>\n    </tr>\n    <tr>\n      <th>...</th>\n      <td>...</td>\n      <td>...</td>\n      <td>...</td>\n      <td>...</td>\n      <td>...</td>\n      <td>...</td>\n      <td>...</td>\n    </tr>\n    <tr>\n      <th>1273</th>\n      <td>1275</td>\n      <td>Darjiling</td>\n      <td>West Bengal</td>\n      <td>DarjilingWest Bengal</td>\n      <td>2020</td>\n      <td>0.841823</td>\n      <td>WB</td>\n    </tr>\n    <tr>\n      <th>1274</th>\n      <td>637</td>\n      <td>Jalpaiguri</td>\n      <td>West Bengal</td>\n      <td>JalpaiguriWest Bengal</td>\n      <td>2016</td>\n      <td>0.347154</td>\n      <td>WB</td>\n    </tr>\n    <tr>\n      <th>1275</th>\n      <td>1276</td>\n      <td>Jalpaiguri</td>\n      <td>West Bengal</td>\n      <td>JalpaiguriWest Bengal</td>\n      <td>2020</td>\n      <td>0.856079</td>\n      <td>WB</td>\n    </tr>\n    <tr>\n      <th>1276</th>\n      <td>638</td>\n      <td>Kochbihar</td>\n      <td>West Bengal</td>\n      <td>KochbiharWest Bengal</td>\n      <td>2016</td>\n      <td>0.351499</td>\n      <td>WB</td>\n    </tr>\n    <tr>\n      <th>1277</th>\n      <td>1277</td>\n      <td>Kochbihar</td>\n      <td>West Bengal</td>\n      <td>KochbiharWest Bengal</td>\n      <td>2020</td>\n      <td>0.882005</td>\n      <td>WB</td>\n    </tr>\n  </tbody>\n</table>\n<p>1278 rows × 7 columns</p>\n</div>"
     },
     "metadata": {},
     "execution_count": 164
    }
   ],
   "source": [
    "nld"
   ]
  },
  {
   "cell_type": "code",
   "execution_count": 162,
   "metadata": {},
   "outputs": [],
   "source": [
    "temp_dist=rfd_t[['districts','states','State']].drop_duplicates()\n",
    "temp_dist['UID']=temp_dist['districts']+temp_dist['State']\n",
    "nld=nld.merge(temp_dist[['UID','states']], on='UID')\n",
    "nld['UID2']=nld['districts']+nld['states']+nld['variable'].apply(str)\n",
    "nld"
   ]
  },
  {
   "cell_type": "code",
   "execution_count": 167,
   "metadata": {},
   "outputs": [
    {
     "output_type": "execute_result",
     "data": {
      "text/plain": [
       "      Unnamed: 0                 districts                state  \\\n",
       "0              0             South Andaman  Andaman and Nicobar   \n",
       "1            639             South Andaman  Andaman and Nicobar   \n",
       "2              1                   Nicobar  Andaman and Nicobar   \n",
       "3            640                   Nicobar  Andaman and Nicobar   \n",
       "4              2  North and Middle Andaman  Andaman and Nicobar   \n",
       "...          ...                       ...                  ...   \n",
       "1273        1275                 Darjiling          West Bengal   \n",
       "1274         637                Jalpaiguri          West Bengal   \n",
       "1275        1276                Jalpaiguri          West Bengal   \n",
       "1276         638                 Kochbihar          West Bengal   \n",
       "1277        1277                 Kochbihar          West Bengal   \n",
       "\n",
       "                                              UID  variable     value states  \\\n",
       "0                South AndamanAndaman and Nicobar      2016  0.159315     AN   \n",
       "1                South AndamanAndaman and Nicobar      2020  0.450531     AN   \n",
       "2                      NicobarAndaman and Nicobar      2016  0.022680     AN   \n",
       "3                      NicobarAndaman and Nicobar      2020  0.242715     AN   \n",
       "4     North and Middle AndamanAndaman and Nicobar      2016  0.021727     AN   \n",
       "...                                           ...       ...       ...    ...   \n",
       "1273                         DarjilingWest Bengal      2020  0.841823     WB   \n",
       "1274                        JalpaiguriWest Bengal      2016  0.347154     WB   \n",
       "1275                        JalpaiguriWest Bengal      2020  0.856079     WB   \n",
       "1276                         KochbiharWest Bengal      2016  0.351499     WB   \n",
       "1277                         KochbiharWest Bengal      2020  0.882005     WB   \n",
       "\n",
       "                                UID2  \n",
       "0                South AndamanAN2016  \n",
       "1                South AndamanAN2020  \n",
       "2                      NicobarAN2016  \n",
       "3                      NicobarAN2020  \n",
       "4     North and Middle AndamanAN2016  \n",
       "...                              ...  \n",
       "1273                 DarjilingWB2020  \n",
       "1274                JalpaiguriWB2016  \n",
       "1275                JalpaiguriWB2020  \n",
       "1276                 KochbiharWB2016  \n",
       "1277                 KochbiharWB2020  \n",
       "\n",
       "[1278 rows x 8 columns]"
      ],
      "text/html": "<div>\n<style scoped>\n    .dataframe tbody tr th:only-of-type {\n        vertical-align: middle;\n    }\n\n    .dataframe tbody tr th {\n        vertical-align: top;\n    }\n\n    .dataframe thead th {\n        text-align: right;\n    }\n</style>\n<table border=\"1\" class=\"dataframe\">\n  <thead>\n    <tr style=\"text-align: right;\">\n      <th></th>\n      <th>Unnamed: 0</th>\n      <th>districts</th>\n      <th>state</th>\n      <th>UID</th>\n      <th>variable</th>\n      <th>value</th>\n      <th>states</th>\n      <th>UID2</th>\n    </tr>\n  </thead>\n  <tbody>\n    <tr>\n      <th>0</th>\n      <td>0</td>\n      <td>South Andaman</td>\n      <td>Andaman and Nicobar</td>\n      <td>South AndamanAndaman and Nicobar</td>\n      <td>2016</td>\n      <td>0.159315</td>\n      <td>AN</td>\n      <td>South AndamanAN2016</td>\n    </tr>\n    <tr>\n      <th>1</th>\n      <td>639</td>\n      <td>South Andaman</td>\n      <td>Andaman and Nicobar</td>\n      <td>South AndamanAndaman and Nicobar</td>\n      <td>2020</td>\n      <td>0.450531</td>\n      <td>AN</td>\n      <td>South AndamanAN2020</td>\n    </tr>\n    <tr>\n      <th>2</th>\n      <td>1</td>\n      <td>Nicobar</td>\n      <td>Andaman and Nicobar</td>\n      <td>NicobarAndaman and Nicobar</td>\n      <td>2016</td>\n      <td>0.022680</td>\n      <td>AN</td>\n      <td>NicobarAN2016</td>\n    </tr>\n    <tr>\n      <th>3</th>\n      <td>640</td>\n      <td>Nicobar</td>\n      <td>Andaman and Nicobar</td>\n      <td>NicobarAndaman and Nicobar</td>\n      <td>2020</td>\n      <td>0.242715</td>\n      <td>AN</td>\n      <td>NicobarAN2020</td>\n    </tr>\n    <tr>\n      <th>4</th>\n      <td>2</td>\n      <td>North and Middle Andaman</td>\n      <td>Andaman and Nicobar</td>\n      <td>North and Middle AndamanAndaman and Nicobar</td>\n      <td>2016</td>\n      <td>0.021727</td>\n      <td>AN</td>\n      <td>North and Middle AndamanAN2016</td>\n    </tr>\n    <tr>\n      <th>...</th>\n      <td>...</td>\n      <td>...</td>\n      <td>...</td>\n      <td>...</td>\n      <td>...</td>\n      <td>...</td>\n      <td>...</td>\n      <td>...</td>\n    </tr>\n    <tr>\n      <th>1273</th>\n      <td>1275</td>\n      <td>Darjiling</td>\n      <td>West Bengal</td>\n      <td>DarjilingWest Bengal</td>\n      <td>2020</td>\n      <td>0.841823</td>\n      <td>WB</td>\n      <td>DarjilingWB2020</td>\n    </tr>\n    <tr>\n      <th>1274</th>\n      <td>637</td>\n      <td>Jalpaiguri</td>\n      <td>West Bengal</td>\n      <td>JalpaiguriWest Bengal</td>\n      <td>2016</td>\n      <td>0.347154</td>\n      <td>WB</td>\n      <td>JalpaiguriWB2016</td>\n    </tr>\n    <tr>\n      <th>1275</th>\n      <td>1276</td>\n      <td>Jalpaiguri</td>\n      <td>West Bengal</td>\n      <td>JalpaiguriWest Bengal</td>\n      <td>2020</td>\n      <td>0.856079</td>\n      <td>WB</td>\n      <td>JalpaiguriWB2020</td>\n    </tr>\n    <tr>\n      <th>1276</th>\n      <td>638</td>\n      <td>Kochbihar</td>\n      <td>West Bengal</td>\n      <td>KochbiharWest Bengal</td>\n      <td>2016</td>\n      <td>0.351499</td>\n      <td>WB</td>\n      <td>KochbiharWB2016</td>\n    </tr>\n    <tr>\n      <th>1277</th>\n      <td>1277</td>\n      <td>Kochbihar</td>\n      <td>West Bengal</td>\n      <td>KochbiharWest Bengal</td>\n      <td>2020</td>\n      <td>0.882005</td>\n      <td>WB</td>\n      <td>KochbiharWB2020</td>\n    </tr>\n  </tbody>\n</table>\n<p>1278 rows × 8 columns</p>\n</div>"
     },
     "metadata": {},
     "execution_count": 167
    }
   ],
   "source": [
    "nld['UID2']=nld['districts']+nld['states']+nld['variable'].apply(str)\n",
    "nld"
   ]
  },
  {
   "cell_type": "code",
   "execution_count": 168,
   "metadata": {},
   "outputs": [],
   "source": [
    "df_new=df.merge(nld[['UID2','value']],on='UID2',how='outer').dropna(subset=['districts'])"
   ]
  },
  {
   "cell_type": "code",
   "execution_count": 169,
   "metadata": {},
   "outputs": [
    {
     "output_type": "execute_result",
     "data": {
      "text/plain": [
       "           state    District    Year  \\\n",
       "0    Maharashtra  Ahmednagar  2016.0   \n",
       "1    Maharashtra  Ahmednagar  2020.0   \n",
       "2        Mizoram      Aizawl  2016.0   \n",
       "3        Mizoram      Aizawl  2020.0   \n",
       "4    Maharashtra       Akola  2016.0   \n",
       "..           ...         ...     ...   \n",
       "995    Karnataka      Yadgir  2020.0   \n",
       "996  Maharashtra    Yavatmal  2016.0   \n",
       "997  Maharashtra    Yavatmal  2020.0   \n",
       "998     Nagaland   Zunheboto  2016.0   \n",
       "999     Nagaland   Zunheboto  2020.0   \n",
       "\n",
       "     1. Female population age 6 years and above who ever attended school (%)(PHP)  \\\n",
       "0                                                 75.4                              \n",
       "1                                                 77.4                              \n",
       "2                                                 95.9                              \n",
       "3                                                 97.8                              \n",
       "4                                                 83.0                              \n",
       "..                                                 ...                              \n",
       "995                                               51.9                              \n",
       "996                                               76.1                              \n",
       "997                                               51.9                              \n",
       "998                                               86.5                              \n",
       "999                                               87.4                              \n",
       "\n",
       "     2. Population below age 15 years (%)(PHP)  \\\n",
       "0                                         25.8   \n",
       "1                                         23.0   \n",
       "2                                         27.6   \n",
       "3                                         25.1   \n",
       "4                                         25.0   \n",
       "..                                         ...   \n",
       "995                                       29.2   \n",
       "996                                       24.7   \n",
       "997                                       29.2   \n",
       "998                                       29.4   \n",
       "999                                       22.2   \n",
       "\n",
       "     3. Sex ratio of the total population (females per 1,000 males)(PHP)  \\\n",
       "0                                                905.0                     \n",
       "1                                                967.0                     \n",
       "2                                               1064.0                     \n",
       "3                                               1052.0                     \n",
       "4                                                959.0                     \n",
       "..                                                 ...                     \n",
       "995                                             1020.0                     \n",
       "996                                              969.0                     \n",
       "997                                             1020.0                     \n",
       "998                                              936.0                     \n",
       "999                                             1132.0                     \n",
       "\n",
       "     4. Sex ratio at birth for children born in the last five years (females per 1,000 males)(PHP)  \\\n",
       "0                                                843.0                                               \n",
       "1                                                845.0                                               \n",
       "2                                                902.0                                               \n",
       "3                                               1042.0                                               \n",
       "4                                                878.0                                               \n",
       "..                                                 ...                                               \n",
       "995                                              922.0                                               \n",
       "996                                              863.0                                               \n",
       "997                                              922.0                                               \n",
       "998                                              747.0                                               \n",
       "999                                             1207.0                                               \n",
       "\n",
       "     5. Children under age 5 years whose birth was registered with the civil authority (%)(PHP)  \\\n",
       "0                                                 93.4                                            \n",
       "1                                                 99.3                                            \n",
       "2                                                 96.9                                            \n",
       "3                                                 99.3                                            \n",
       "4                                                 98.7                                            \n",
       "..                                                 ...                                            \n",
       "995                                               92.7                                            \n",
       "996                                               95.8                                            \n",
       "997                                               92.7                                            \n",
       "998                                               58.9                                            \n",
       "999                                               51.6                                            \n",
       "\n",
       "    6. Deaths in the last 3 years registered with the civil authority (%)(PHP)  \\\n",
       "0                                                   na                           \n",
       "1                                                 85.7                           \n",
       "2                                                   na                           \n",
       "3                                                 86.2                           \n",
       "4                                                   na                           \n",
       "..                                                 ...                           \n",
       "995                                               74.2                           \n",
       "996                                                 na                           \n",
       "997                                               74.2                           \n",
       "998                                                 na                           \n",
       "999                                                 51                           \n",
       "\n",
       "     7. Population living in households with electricity (%)(PHP)  ...   SK  \\\n",
       "0                                                 92.2             ...  0.0   \n",
       "1                                                 94.5             ...  0.0   \n",
       "2                                                 99.7             ...  0.0   \n",
       "3                                                 99.7             ...  0.0   \n",
       "4                                                 92.8             ...  0.0   \n",
       "..                                                 ...             ...  ...   \n",
       "995                                               99.0             ...  0.0   \n",
       "996                                               89.6             ...  0.0   \n",
       "997                                               99.0             ...  0.0   \n",
       "998                                               99.4             ...  0.0   \n",
       "999                                               99.4             ...  0.0   \n",
       "\n",
       "      TN   TR   TS   UK   UP   WB   districts              UID2     value  \n",
       "0    0.0  0.0  0.0  0.0  0.0  0.0  Ahmednagar  AhmednagarMH2016  0.539500  \n",
       "1    0.0  0.0  0.0  0.0  0.0  0.0  Ahmednagar  AhmednagarMH2020  1.159334  \n",
       "2    0.0  0.0  0.0  0.0  0.0  0.0      Aizawl      AizawlMZ2016  0.073543  \n",
       "3    0.0  0.0  0.0  0.0  0.0  0.0      Aizawl      AizawlMZ2020  0.323344  \n",
       "4    0.0  0.0  0.0  0.0  0.0  0.0       Akola       AkolaMH2016  0.399099  \n",
       "..   ...  ...  ...  ...  ...  ...         ...               ...       ...  \n",
       "995  0.0  0.0  1.0  0.0  0.0  0.0      Yadgir      YadgirKA2020  0.698419  \n",
       "996  0.0  0.0  1.0  0.0  0.0  0.0    Yavatmal    YavatmalMH2016  0.262776  \n",
       "997  0.0  0.0  1.0  0.0  0.0  0.0    Yavatmal    YavatmalMH2020  0.737543  \n",
       "998  0.0  0.0  0.0  0.0  0.0  0.0   Zunheboto   ZunhebotoNL2016  0.096625  \n",
       "999  0.0  0.0  0.0  0.0  0.0  0.0   Zunheboto   ZunhebotoNL2020  0.421629  \n",
       "\n",
       "[568 rows x 148 columns]"
      ],
      "text/html": "<div>\n<style scoped>\n    .dataframe tbody tr th:only-of-type {\n        vertical-align: middle;\n    }\n\n    .dataframe tbody tr th {\n        vertical-align: top;\n    }\n\n    .dataframe thead th {\n        text-align: right;\n    }\n</style>\n<table border=\"1\" class=\"dataframe\">\n  <thead>\n    <tr style=\"text-align: right;\">\n      <th></th>\n      <th>state</th>\n      <th>District</th>\n      <th>Year</th>\n      <th>1. Female population age 6 years and above who ever attended school (%)(PHP)</th>\n      <th>2. Population below age 15 years (%)(PHP)</th>\n      <th>3. Sex ratio of the total population (females per 1,000 males)(PHP)</th>\n      <th>4. Sex ratio at birth for children born in the last five years (females per 1,000 males)(PHP)</th>\n      <th>5. Children under age 5 years whose birth was registered with the civil authority (%)(PHP)</th>\n      <th>6. Deaths in the last 3 years registered with the civil authority (%)(PHP)</th>\n      <th>7. Population living in households with electricity (%)(PHP)</th>\n      <th>...</th>\n      <th>SK</th>\n      <th>TN</th>\n      <th>TR</th>\n      <th>TS</th>\n      <th>UK</th>\n      <th>UP</th>\n      <th>WB</th>\n      <th>districts</th>\n      <th>UID2</th>\n      <th>value</th>\n    </tr>\n  </thead>\n  <tbody>\n    <tr>\n      <th>0</th>\n      <td>Maharashtra</td>\n      <td>Ahmednagar</td>\n      <td>2016.0</td>\n      <td>75.4</td>\n      <td>25.8</td>\n      <td>905.0</td>\n      <td>843.0</td>\n      <td>93.4</td>\n      <td>na</td>\n      <td>92.2</td>\n      <td>...</td>\n      <td>0.0</td>\n      <td>0.0</td>\n      <td>0.0</td>\n      <td>0.0</td>\n      <td>0.0</td>\n      <td>0.0</td>\n      <td>0.0</td>\n      <td>Ahmednagar</td>\n      <td>AhmednagarMH2016</td>\n      <td>0.539500</td>\n    </tr>\n    <tr>\n      <th>1</th>\n      <td>Maharashtra</td>\n      <td>Ahmednagar</td>\n      <td>2020.0</td>\n      <td>77.4</td>\n      <td>23.0</td>\n      <td>967.0</td>\n      <td>845.0</td>\n      <td>99.3</td>\n      <td>85.7</td>\n      <td>94.5</td>\n      <td>...</td>\n      <td>0.0</td>\n      <td>0.0</td>\n      <td>0.0</td>\n      <td>0.0</td>\n      <td>0.0</td>\n      <td>0.0</td>\n      <td>0.0</td>\n      <td>Ahmednagar</td>\n      <td>AhmednagarMH2020</td>\n      <td>1.159334</td>\n    </tr>\n    <tr>\n      <th>2</th>\n      <td>Mizoram</td>\n      <td>Aizawl</td>\n      <td>2016.0</td>\n      <td>95.9</td>\n      <td>27.6</td>\n      <td>1064.0</td>\n      <td>902.0</td>\n      <td>96.9</td>\n      <td>na</td>\n      <td>99.7</td>\n      <td>...</td>\n      <td>0.0</td>\n      <td>0.0</td>\n      <td>0.0</td>\n      <td>0.0</td>\n      <td>0.0</td>\n      <td>0.0</td>\n      <td>0.0</td>\n      <td>Aizawl</td>\n      <td>AizawlMZ2016</td>\n      <td>0.073543</td>\n    </tr>\n    <tr>\n      <th>3</th>\n      <td>Mizoram</td>\n      <td>Aizawl</td>\n      <td>2020.0</td>\n      <td>97.8</td>\n      <td>25.1</td>\n      <td>1052.0</td>\n      <td>1042.0</td>\n      <td>99.3</td>\n      <td>86.2</td>\n      <td>99.7</td>\n      <td>...</td>\n      <td>0.0</td>\n      <td>0.0</td>\n      <td>0.0</td>\n      <td>0.0</td>\n      <td>0.0</td>\n      <td>0.0</td>\n      <td>0.0</td>\n      <td>Aizawl</td>\n      <td>AizawlMZ2020</td>\n      <td>0.323344</td>\n    </tr>\n    <tr>\n      <th>4</th>\n      <td>Maharashtra</td>\n      <td>Akola</td>\n      <td>2016.0</td>\n      <td>83.0</td>\n      <td>25.0</td>\n      <td>959.0</td>\n      <td>878.0</td>\n      <td>98.7</td>\n      <td>na</td>\n      <td>92.8</td>\n      <td>...</td>\n      <td>0.0</td>\n      <td>0.0</td>\n      <td>0.0</td>\n      <td>0.0</td>\n      <td>0.0</td>\n      <td>0.0</td>\n      <td>0.0</td>\n      <td>Akola</td>\n      <td>AkolaMH2016</td>\n      <td>0.399099</td>\n    </tr>\n    <tr>\n      <th>...</th>\n      <td>...</td>\n      <td>...</td>\n      <td>...</td>\n      <td>...</td>\n      <td>...</td>\n      <td>...</td>\n      <td>...</td>\n      <td>...</td>\n      <td>...</td>\n      <td>...</td>\n      <td>...</td>\n      <td>...</td>\n      <td>...</td>\n      <td>...</td>\n      <td>...</td>\n      <td>...</td>\n      <td>...</td>\n      <td>...</td>\n      <td>...</td>\n      <td>...</td>\n      <td>...</td>\n    </tr>\n    <tr>\n      <th>995</th>\n      <td>Karnataka</td>\n      <td>Yadgir</td>\n      <td>2020.0</td>\n      <td>51.9</td>\n      <td>29.2</td>\n      <td>1020.0</td>\n      <td>922.0</td>\n      <td>92.7</td>\n      <td>74.2</td>\n      <td>99.0</td>\n      <td>...</td>\n      <td>0.0</td>\n      <td>0.0</td>\n      <td>0.0</td>\n      <td>1.0</td>\n      <td>0.0</td>\n      <td>0.0</td>\n      <td>0.0</td>\n      <td>Yadgir</td>\n      <td>YadgirKA2020</td>\n      <td>0.698419</td>\n    </tr>\n    <tr>\n      <th>996</th>\n      <td>Maharashtra</td>\n      <td>Yavatmal</td>\n      <td>2016.0</td>\n      <td>76.1</td>\n      <td>24.7</td>\n      <td>969.0</td>\n      <td>863.0</td>\n      <td>95.8</td>\n      <td>na</td>\n      <td>89.6</td>\n      <td>...</td>\n      <td>0.0</td>\n      <td>0.0</td>\n      <td>0.0</td>\n      <td>1.0</td>\n      <td>0.0</td>\n      <td>0.0</td>\n      <td>0.0</td>\n      <td>Yavatmal</td>\n      <td>YavatmalMH2016</td>\n      <td>0.262776</td>\n    </tr>\n    <tr>\n      <th>997</th>\n      <td>Maharashtra</td>\n      <td>Yavatmal</td>\n      <td>2020.0</td>\n      <td>51.9</td>\n      <td>29.2</td>\n      <td>1020.0</td>\n      <td>922.0</td>\n      <td>92.7</td>\n      <td>74.2</td>\n      <td>99.0</td>\n      <td>...</td>\n      <td>0.0</td>\n      <td>0.0</td>\n      <td>0.0</td>\n      <td>1.0</td>\n      <td>0.0</td>\n      <td>0.0</td>\n      <td>0.0</td>\n      <td>Yavatmal</td>\n      <td>YavatmalMH2020</td>\n      <td>0.737543</td>\n    </tr>\n    <tr>\n      <th>998</th>\n      <td>Nagaland</td>\n      <td>Zunheboto</td>\n      <td>2016.0</td>\n      <td>86.5</td>\n      <td>29.4</td>\n      <td>936.0</td>\n      <td>747.0</td>\n      <td>58.9</td>\n      <td>na</td>\n      <td>99.4</td>\n      <td>...</td>\n      <td>0.0</td>\n      <td>0.0</td>\n      <td>0.0</td>\n      <td>0.0</td>\n      <td>0.0</td>\n      <td>0.0</td>\n      <td>0.0</td>\n      <td>Zunheboto</td>\n      <td>ZunhebotoNL2016</td>\n      <td>0.096625</td>\n    </tr>\n    <tr>\n      <th>999</th>\n      <td>Nagaland</td>\n      <td>Zunheboto</td>\n      <td>2020.0</td>\n      <td>87.4</td>\n      <td>22.2</td>\n      <td>1132.0</td>\n      <td>1207.0</td>\n      <td>51.6</td>\n      <td>51</td>\n      <td>99.4</td>\n      <td>...</td>\n      <td>0.0</td>\n      <td>0.0</td>\n      <td>0.0</td>\n      <td>0.0</td>\n      <td>0.0</td>\n      <td>0.0</td>\n      <td>0.0</td>\n      <td>Zunheboto</td>\n      <td>ZunhebotoNL2020</td>\n      <td>0.421629</td>\n    </tr>\n  </tbody>\n</table>\n<p>568 rows × 148 columns</p>\n</div>"
     },
     "metadata": {},
     "execution_count": 169
    }
   ],
   "source": [
    "df_new"
   ]
  },
  {
   "cell_type": "code",
   "execution_count": 172,
   "metadata": {},
   "outputs": [
    {
     "output_type": "execute_result",
     "data": {
      "text/plain": [
       "      Unnamed: 0  Unnamed: 0.1  Unnamed: 0.1.1  \\\n",
       "0              2             2               2   \n",
       "1              6             6               6   \n",
       "2              9             9               9   \n",
       "3             13            13              13   \n",
       "4             16            16              16   \n",
       "...          ...           ...             ...   \n",
       "1273        4458          4458            4458   \n",
       "1274        4461          4461            4461   \n",
       "1275        4465          4465            4465   \n",
       "1276        4468          4468            4468   \n",
       "1277        4472          4472            4472   \n",
       "\n",
       "                                              UID                 districts  \\\n",
       "0                South AndamanAndaman and Nicobar             South Andaman   \n",
       "1                South AndamanAndaman and Nicobar             South Andaman   \n",
       "2                      NicobarAndaman and Nicobar                   Nicobar   \n",
       "3                      NicobarAndaman and Nicobar                   Nicobar   \n",
       "4     North and Middle AndamanAndaman and Nicobar  North and Middle Andaman   \n",
       "...                                           ...                       ...   \n",
       "1273                         DarjilingWest Bengal                 Darjiling   \n",
       "1274                        JalpaiguriWest Bengal                Jalpaiguri   \n",
       "1275                        JalpaiguriWest Bengal                Jalpaiguri   \n",
       "1276                         KochbiharWest Bengal                 Kochbihar   \n",
       "1277                         KochbiharWest Bengal                 Kochbihar   \n",
       "\n",
       "                    State  year        date  rf_value  \n",
       "0     Andaman and Nicobar  2016  01-01-2016  0.302860  \n",
       "1     Andaman and Nicobar  2020  01-01-2020  0.264579  \n",
       "2     Andaman and Nicobar  2016  01-01-2016  0.347969  \n",
       "3     Andaman and Nicobar  2020  01-01-2020  0.246068  \n",
       "4     Andaman and Nicobar  2016  01-01-2016  0.277899  \n",
       "...                   ...   ...         ...       ...  \n",
       "1273          West Bengal  2020  01-01-2020  0.452644  \n",
       "1274          West Bengal  2016  01-01-2016  0.344129  \n",
       "1275          West Bengal  2020  01-01-2020  0.574333  \n",
       "1276          West Bengal  2016  01-01-2016  0.368563  \n",
       "1277          West Bengal  2020  01-01-2020  0.607764  \n",
       "\n",
       "[1278 rows x 9 columns]"
      ],
      "text/html": "<div>\n<style scoped>\n    .dataframe tbody tr th:only-of-type {\n        vertical-align: middle;\n    }\n\n    .dataframe tbody tr th {\n        vertical-align: top;\n    }\n\n    .dataframe thead th {\n        text-align: right;\n    }\n</style>\n<table border=\"1\" class=\"dataframe\">\n  <thead>\n    <tr style=\"text-align: right;\">\n      <th></th>\n      <th>Unnamed: 0</th>\n      <th>Unnamed: 0.1</th>\n      <th>Unnamed: 0.1.1</th>\n      <th>UID</th>\n      <th>districts</th>\n      <th>State</th>\n      <th>year</th>\n      <th>date</th>\n      <th>rf_value</th>\n    </tr>\n  </thead>\n  <tbody>\n    <tr>\n      <th>0</th>\n      <td>2</td>\n      <td>2</td>\n      <td>2</td>\n      <td>South AndamanAndaman and Nicobar</td>\n      <td>South Andaman</td>\n      <td>Andaman and Nicobar</td>\n      <td>2016</td>\n      <td>01-01-2016</td>\n      <td>0.302860</td>\n    </tr>\n    <tr>\n      <th>1</th>\n      <td>6</td>\n      <td>6</td>\n      <td>6</td>\n      <td>South AndamanAndaman and Nicobar</td>\n      <td>South Andaman</td>\n      <td>Andaman and Nicobar</td>\n      <td>2020</td>\n      <td>01-01-2020</td>\n      <td>0.264579</td>\n    </tr>\n    <tr>\n      <th>2</th>\n      <td>9</td>\n      <td>9</td>\n      <td>9</td>\n      <td>NicobarAndaman and Nicobar</td>\n      <td>Nicobar</td>\n      <td>Andaman and Nicobar</td>\n      <td>2016</td>\n      <td>01-01-2016</td>\n      <td>0.347969</td>\n    </tr>\n    <tr>\n      <th>3</th>\n      <td>13</td>\n      <td>13</td>\n      <td>13</td>\n      <td>NicobarAndaman and Nicobar</td>\n      <td>Nicobar</td>\n      <td>Andaman and Nicobar</td>\n      <td>2020</td>\n      <td>01-01-2020</td>\n      <td>0.246068</td>\n    </tr>\n    <tr>\n      <th>4</th>\n      <td>16</td>\n      <td>16</td>\n      <td>16</td>\n      <td>North and Middle AndamanAndaman and Nicobar</td>\n      <td>North and Middle Andaman</td>\n      <td>Andaman and Nicobar</td>\n      <td>2016</td>\n      <td>01-01-2016</td>\n      <td>0.277899</td>\n    </tr>\n    <tr>\n      <th>...</th>\n      <td>...</td>\n      <td>...</td>\n      <td>...</td>\n      <td>...</td>\n      <td>...</td>\n      <td>...</td>\n      <td>...</td>\n      <td>...</td>\n      <td>...</td>\n    </tr>\n    <tr>\n      <th>1273</th>\n      <td>4458</td>\n      <td>4458</td>\n      <td>4458</td>\n      <td>DarjilingWest Bengal</td>\n      <td>Darjiling</td>\n      <td>West Bengal</td>\n      <td>2020</td>\n      <td>01-01-2020</td>\n      <td>0.452644</td>\n    </tr>\n    <tr>\n      <th>1274</th>\n      <td>4461</td>\n      <td>4461</td>\n      <td>4461</td>\n      <td>JalpaiguriWest Bengal</td>\n      <td>Jalpaiguri</td>\n      <td>West Bengal</td>\n      <td>2016</td>\n      <td>01-01-2016</td>\n      <td>0.344129</td>\n    </tr>\n    <tr>\n      <th>1275</th>\n      <td>4465</td>\n      <td>4465</td>\n      <td>4465</td>\n      <td>JalpaiguriWest Bengal</td>\n      <td>Jalpaiguri</td>\n      <td>West Bengal</td>\n      <td>2020</td>\n      <td>01-01-2020</td>\n      <td>0.574333</td>\n    </tr>\n    <tr>\n      <th>1276</th>\n      <td>4468</td>\n      <td>4468</td>\n      <td>4468</td>\n      <td>KochbiharWest Bengal</td>\n      <td>Kochbihar</td>\n      <td>West Bengal</td>\n      <td>2016</td>\n      <td>01-01-2016</td>\n      <td>0.368563</td>\n    </tr>\n    <tr>\n      <th>1277</th>\n      <td>4472</td>\n      <td>4472</td>\n      <td>4472</td>\n      <td>KochbiharWest Bengal</td>\n      <td>Kochbihar</td>\n      <td>West Bengal</td>\n      <td>2020</td>\n      <td>01-01-2020</td>\n      <td>0.607764</td>\n    </tr>\n  </tbody>\n</table>\n<p>1278 rows × 9 columns</p>\n</div>"
     },
     "metadata": {},
     "execution_count": 172
    }
   ],
   "source": [
    "rfd"
   ]
  },
  {
   "cell_type": "code",
   "execution_count": 174,
   "metadata": {},
   "outputs": [],
   "source": [
    "temp_dist=rfd_t[['districts','states','State']].drop_duplicates()\n",
    "temp_dist['UID']=temp_dist['districts']+temp_dist['State']\n",
    "rfd=rfd.merge(temp_dist[['UID','states']], on='UID')\n",
    "rfd['UID2']=rfd['districts']+rfd['states']\n"
   ]
  },
  {
   "cell_type": "code",
   "execution_count": 178,
   "metadata": {},
   "outputs": [
    {
     "output_type": "execute_result",
     "data": {
      "text/plain": [
       "           state    District    Year  \\\n",
       "0    Maharashtra  Ahmednagar  2016.0   \n",
       "1    Maharashtra  Ahmednagar  2020.0   \n",
       "2        Mizoram      Aizawl  2016.0   \n",
       "3        Mizoram      Aizawl  2020.0   \n",
       "4    Maharashtra       Akola  2016.0   \n",
       "..           ...         ...     ...   \n",
       "563    Karnataka      Yadgir  2020.0   \n",
       "564  Maharashtra    Yavatmal  2016.0   \n",
       "565  Maharashtra    Yavatmal  2020.0   \n",
       "566     Nagaland   Zunheboto  2016.0   \n",
       "567     Nagaland   Zunheboto  2020.0   \n",
       "\n",
       "     1. Female population age 6 years and above who ever attended school (%)(PHP)  \\\n",
       "0                                                 75.4                              \n",
       "1                                                 77.4                              \n",
       "2                                                 95.9                              \n",
       "3                                                 97.8                              \n",
       "4                                                 83.0                              \n",
       "..                                                 ...                              \n",
       "563                                               51.9                              \n",
       "564                                               76.1                              \n",
       "565                                               51.9                              \n",
       "566                                               86.5                              \n",
       "567                                               87.4                              \n",
       "\n",
       "     2. Population below age 15 years (%)(PHP)  \\\n",
       "0                                         25.8   \n",
       "1                                         23.0   \n",
       "2                                         27.6   \n",
       "3                                         25.1   \n",
       "4                                         25.0   \n",
       "..                                         ...   \n",
       "563                                       29.2   \n",
       "564                                       24.7   \n",
       "565                                       29.2   \n",
       "566                                       29.4   \n",
       "567                                       22.2   \n",
       "\n",
       "     3. Sex ratio of the total population (females per 1,000 males)(PHP)  \\\n",
       "0                                                905.0                     \n",
       "1                                                967.0                     \n",
       "2                                               1064.0                     \n",
       "3                                               1052.0                     \n",
       "4                                                959.0                     \n",
       "..                                                 ...                     \n",
       "563                                             1020.0                     \n",
       "564                                              969.0                     \n",
       "565                                             1020.0                     \n",
       "566                                              936.0                     \n",
       "567                                             1132.0                     \n",
       "\n",
       "     4. Sex ratio at birth for children born in the last five years (females per 1,000 males)(PHP)  \\\n",
       "0                                                843.0                                               \n",
       "1                                                845.0                                               \n",
       "2                                                902.0                                               \n",
       "3                                               1042.0                                               \n",
       "4                                                878.0                                               \n",
       "..                                                 ...                                               \n",
       "563                                              922.0                                               \n",
       "564                                              863.0                                               \n",
       "565                                              922.0                                               \n",
       "566                                              747.0                                               \n",
       "567                                             1207.0                                               \n",
       "\n",
       "     5. Children under age 5 years whose birth was registered with the civil authority (%)(PHP)  \\\n",
       "0                                                 93.4                                            \n",
       "1                                                 99.3                                            \n",
       "2                                                 96.9                                            \n",
       "3                                                 99.3                                            \n",
       "4                                                 98.7                                            \n",
       "..                                                 ...                                            \n",
       "563                                               92.7                                            \n",
       "564                                               95.8                                            \n",
       "565                                               92.7                                            \n",
       "566                                               58.9                                            \n",
       "567                                               51.6                                            \n",
       "\n",
       "    6. Deaths in the last 3 years registered with the civil authority (%)(PHP)  \\\n",
       "0                                                   na                           \n",
       "1                                                 85.7                           \n",
       "2                                                   na                           \n",
       "3                                                 86.2                           \n",
       "4                                                   na                           \n",
       "..                                                 ...                           \n",
       "563                                               74.2                           \n",
       "564                                                 na                           \n",
       "565                                               74.2                           \n",
       "566                                                 na                           \n",
       "567                                                 51                           \n",
       "\n",
       "     7. Population living in households with electricity (%)(PHP)  ...   TN  \\\n",
       "0                                                 92.2             ...  0.0   \n",
       "1                                                 94.5             ...  0.0   \n",
       "2                                                 99.7             ...  0.0   \n",
       "3                                                 99.7             ...  0.0   \n",
       "4                                                 92.8             ...  0.0   \n",
       "..                                                 ...             ...  ...   \n",
       "563                                               99.0             ...  0.0   \n",
       "564                                               89.6             ...  0.0   \n",
       "565                                               99.0             ...  0.0   \n",
       "566                                               99.4             ...  0.0   \n",
       "567                                               99.4             ...  0.0   \n",
       "\n",
       "      TR   TS   UK   UP   WB   districts              UID2     value  rf_value  \n",
       "0    0.0  0.0  0.0  0.0  0.0  Ahmednagar  AhmednagarMH2016  0.539500  0.099904  \n",
       "1    0.0  0.0  0.0  0.0  0.0  Ahmednagar  AhmednagarMH2020  1.159334  0.137043  \n",
       "2    0.0  0.0  0.0  0.0  0.0      Aizawl      AizawlMZ2016  0.073543  0.286498  \n",
       "3    0.0  0.0  0.0  0.0  0.0      Aizawl      AizawlMZ2020  0.323344  0.276848  \n",
       "4    0.0  0.0  0.0  0.0  0.0       Akola       AkolaMH2016  0.399099  0.112865  \n",
       "..   ...  ...  ...  ...  ...         ...               ...       ...       ...  \n",
       "563  0.0  1.0  0.0  0.0  0.0      Yadgir      YadgirKA2020  0.698419  0.121832  \n",
       "564  0.0  1.0  0.0  0.0  0.0    Yavatmal    YavatmalMH2016  0.262776  0.129024  \n",
       "565  0.0  1.0  0.0  0.0  0.0    Yavatmal    YavatmalMH2020  0.737543  0.159000  \n",
       "566  0.0  0.0  0.0  0.0  0.0   Zunheboto   ZunhebotoNL2016  0.096625  0.243050  \n",
       "567  0.0  0.0  0.0  0.0  0.0   Zunheboto   ZunhebotoNL2020  0.421629  0.297988  \n",
       "\n",
       "[568 rows x 149 columns]"
      ],
      "text/html": "<div>\n<style scoped>\n    .dataframe tbody tr th:only-of-type {\n        vertical-align: middle;\n    }\n\n    .dataframe tbody tr th {\n        vertical-align: top;\n    }\n\n    .dataframe thead th {\n        text-align: right;\n    }\n</style>\n<table border=\"1\" class=\"dataframe\">\n  <thead>\n    <tr style=\"text-align: right;\">\n      <th></th>\n      <th>state</th>\n      <th>District</th>\n      <th>Year</th>\n      <th>1. Female population age 6 years and above who ever attended school (%)(PHP)</th>\n      <th>2. Population below age 15 years (%)(PHP)</th>\n      <th>3. Sex ratio of the total population (females per 1,000 males)(PHP)</th>\n      <th>4. Sex ratio at birth for children born in the last five years (females per 1,000 males)(PHP)</th>\n      <th>5. Children under age 5 years whose birth was registered with the civil authority (%)(PHP)</th>\n      <th>6. Deaths in the last 3 years registered with the civil authority (%)(PHP)</th>\n      <th>7. Population living in households with electricity (%)(PHP)</th>\n      <th>...</th>\n      <th>TN</th>\n      <th>TR</th>\n      <th>TS</th>\n      <th>UK</th>\n      <th>UP</th>\n      <th>WB</th>\n      <th>districts</th>\n      <th>UID2</th>\n      <th>value</th>\n      <th>rf_value</th>\n    </tr>\n  </thead>\n  <tbody>\n    <tr>\n      <th>0</th>\n      <td>Maharashtra</td>\n      <td>Ahmednagar</td>\n      <td>2016.0</td>\n      <td>75.4</td>\n      <td>25.8</td>\n      <td>905.0</td>\n      <td>843.0</td>\n      <td>93.4</td>\n      <td>na</td>\n      <td>92.2</td>\n      <td>...</td>\n      <td>0.0</td>\n      <td>0.0</td>\n      <td>0.0</td>\n      <td>0.0</td>\n      <td>0.0</td>\n      <td>0.0</td>\n      <td>Ahmednagar</td>\n      <td>AhmednagarMH2016</td>\n      <td>0.539500</td>\n      <td>0.099904</td>\n    </tr>\n    <tr>\n      <th>1</th>\n      <td>Maharashtra</td>\n      <td>Ahmednagar</td>\n      <td>2020.0</td>\n      <td>77.4</td>\n      <td>23.0</td>\n      <td>967.0</td>\n      <td>845.0</td>\n      <td>99.3</td>\n      <td>85.7</td>\n      <td>94.5</td>\n      <td>...</td>\n      <td>0.0</td>\n      <td>0.0</td>\n      <td>0.0</td>\n      <td>0.0</td>\n      <td>0.0</td>\n      <td>0.0</td>\n      <td>Ahmednagar</td>\n      <td>AhmednagarMH2020</td>\n      <td>1.159334</td>\n      <td>0.137043</td>\n    </tr>\n    <tr>\n      <th>2</th>\n      <td>Mizoram</td>\n      <td>Aizawl</td>\n      <td>2016.0</td>\n      <td>95.9</td>\n      <td>27.6</td>\n      <td>1064.0</td>\n      <td>902.0</td>\n      <td>96.9</td>\n      <td>na</td>\n      <td>99.7</td>\n      <td>...</td>\n      <td>0.0</td>\n      <td>0.0</td>\n      <td>0.0</td>\n      <td>0.0</td>\n      <td>0.0</td>\n      <td>0.0</td>\n      <td>Aizawl</td>\n      <td>AizawlMZ2016</td>\n      <td>0.073543</td>\n      <td>0.286498</td>\n    </tr>\n    <tr>\n      <th>3</th>\n      <td>Mizoram</td>\n      <td>Aizawl</td>\n      <td>2020.0</td>\n      <td>97.8</td>\n      <td>25.1</td>\n      <td>1052.0</td>\n      <td>1042.0</td>\n      <td>99.3</td>\n      <td>86.2</td>\n      <td>99.7</td>\n      <td>...</td>\n      <td>0.0</td>\n      <td>0.0</td>\n      <td>0.0</td>\n      <td>0.0</td>\n      <td>0.0</td>\n      <td>0.0</td>\n      <td>Aizawl</td>\n      <td>AizawlMZ2020</td>\n      <td>0.323344</td>\n      <td>0.276848</td>\n    </tr>\n    <tr>\n      <th>4</th>\n      <td>Maharashtra</td>\n      <td>Akola</td>\n      <td>2016.0</td>\n      <td>83.0</td>\n      <td>25.0</td>\n      <td>959.0</td>\n      <td>878.0</td>\n      <td>98.7</td>\n      <td>na</td>\n      <td>92.8</td>\n      <td>...</td>\n      <td>0.0</td>\n      <td>0.0</td>\n      <td>0.0</td>\n      <td>0.0</td>\n      <td>0.0</td>\n      <td>0.0</td>\n      <td>Akola</td>\n      <td>AkolaMH2016</td>\n      <td>0.399099</td>\n      <td>0.112865</td>\n    </tr>\n    <tr>\n      <th>...</th>\n      <td>...</td>\n      <td>...</td>\n      <td>...</td>\n      <td>...</td>\n      <td>...</td>\n      <td>...</td>\n      <td>...</td>\n      <td>...</td>\n      <td>...</td>\n      <td>...</td>\n      <td>...</td>\n      <td>...</td>\n      <td>...</td>\n      <td>...</td>\n      <td>...</td>\n      <td>...</td>\n      <td>...</td>\n      <td>...</td>\n      <td>...</td>\n      <td>...</td>\n      <td>...</td>\n    </tr>\n    <tr>\n      <th>563</th>\n      <td>Karnataka</td>\n      <td>Yadgir</td>\n      <td>2020.0</td>\n      <td>51.9</td>\n      <td>29.2</td>\n      <td>1020.0</td>\n      <td>922.0</td>\n      <td>92.7</td>\n      <td>74.2</td>\n      <td>99.0</td>\n      <td>...</td>\n      <td>0.0</td>\n      <td>0.0</td>\n      <td>1.0</td>\n      <td>0.0</td>\n      <td>0.0</td>\n      <td>0.0</td>\n      <td>Yadgir</td>\n      <td>YadgirKA2020</td>\n      <td>0.698419</td>\n      <td>0.121832</td>\n    </tr>\n    <tr>\n      <th>564</th>\n      <td>Maharashtra</td>\n      <td>Yavatmal</td>\n      <td>2016.0</td>\n      <td>76.1</td>\n      <td>24.7</td>\n      <td>969.0</td>\n      <td>863.0</td>\n      <td>95.8</td>\n      <td>na</td>\n      <td>89.6</td>\n      <td>...</td>\n      <td>0.0</td>\n      <td>0.0</td>\n      <td>1.0</td>\n      <td>0.0</td>\n      <td>0.0</td>\n      <td>0.0</td>\n      <td>Yavatmal</td>\n      <td>YavatmalMH2016</td>\n      <td>0.262776</td>\n      <td>0.129024</td>\n    </tr>\n    <tr>\n      <th>565</th>\n      <td>Maharashtra</td>\n      <td>Yavatmal</td>\n      <td>2020.0</td>\n      <td>51.9</td>\n      <td>29.2</td>\n      <td>1020.0</td>\n      <td>922.0</td>\n      <td>92.7</td>\n      <td>74.2</td>\n      <td>99.0</td>\n      <td>...</td>\n      <td>0.0</td>\n      <td>0.0</td>\n      <td>1.0</td>\n      <td>0.0</td>\n      <td>0.0</td>\n      <td>0.0</td>\n      <td>Yavatmal</td>\n      <td>YavatmalMH2020</td>\n      <td>0.737543</td>\n      <td>0.159000</td>\n    </tr>\n    <tr>\n      <th>566</th>\n      <td>Nagaland</td>\n      <td>Zunheboto</td>\n      <td>2016.0</td>\n      <td>86.5</td>\n      <td>29.4</td>\n      <td>936.0</td>\n      <td>747.0</td>\n      <td>58.9</td>\n      <td>na</td>\n      <td>99.4</td>\n      <td>...</td>\n      <td>0.0</td>\n      <td>0.0</td>\n      <td>0.0</td>\n      <td>0.0</td>\n      <td>0.0</td>\n      <td>0.0</td>\n      <td>Zunheboto</td>\n      <td>ZunhebotoNL2016</td>\n      <td>0.096625</td>\n      <td>0.243050</td>\n    </tr>\n    <tr>\n      <th>567</th>\n      <td>Nagaland</td>\n      <td>Zunheboto</td>\n      <td>2020.0</td>\n      <td>87.4</td>\n      <td>22.2</td>\n      <td>1132.0</td>\n      <td>1207.0</td>\n      <td>51.6</td>\n      <td>51</td>\n      <td>99.4</td>\n      <td>...</td>\n      <td>0.0</td>\n      <td>0.0</td>\n      <td>0.0</td>\n      <td>0.0</td>\n      <td>0.0</td>\n      <td>0.0</td>\n      <td>Zunheboto</td>\n      <td>ZunhebotoNL2020</td>\n      <td>0.421629</td>\n      <td>0.297988</td>\n    </tr>\n  </tbody>\n</table>\n<p>568 rows × 149 columns</p>\n</div>"
     },
     "metadata": {},
     "execution_count": 178
    }
   ],
   "source": [
    "rfd['UID2']=rfd['districts']+rfd['states']+rfd['year'].apply(str)\n",
    "df_new1=df_new.merge(rfd[['UID2','rf_value']],on='UID2',how='outer').dropna(subset=['districts'])\n",
    "df_new1"
   ]
  },
  {
   "cell_type": "code",
   "execution_count": 186,
   "metadata": {},
   "outputs": [
    {
     "output_type": "execute_result",
     "data": {
      "text/plain": [
       "     Unnamed: 0        state    District  Year  \\\n",
       "0             0  Maharashtra  Ahmednagar  2016   \n",
       "1             1  Maharashtra  Ahmednagar  2020   \n",
       "2             2      Mizoram      Aizawl  2016   \n",
       "3             3      Mizoram      Aizawl  2020   \n",
       "4             4  Maharashtra       Akola  2016   \n",
       "..          ...          ...         ...   ...   \n",
       "563         563    Karnataka      Yadgir  2020   \n",
       "564         564  Maharashtra    Yavatmal  2016   \n",
       "565         565  Maharashtra    Yavatmal  2020   \n",
       "566         566     Nagaland   Zunheboto  2016   \n",
       "567         567     Nagaland   Zunheboto  2020   \n",
       "\n",
       "     1. Female population age 6 years and above who ever attended school (%)(PHP)  \\\n",
       "0                                                 75.4                              \n",
       "1                                                 77.4                              \n",
       "2                                                 95.9                              \n",
       "3                                                 97.8                              \n",
       "4                                                 83.0                              \n",
       "..                                                 ...                              \n",
       "563                                               51.9                              \n",
       "564                                               76.1                              \n",
       "565                                               51.9                              \n",
       "566                                               86.5                              \n",
       "567                                               87.4                              \n",
       "\n",
       "     2. Population below age 15 years (%)(PHP)  \\\n",
       "0                                         25.8   \n",
       "1                                         23.0   \n",
       "2                                         27.6   \n",
       "3                                         25.1   \n",
       "4                                         25.0   \n",
       "..                                         ...   \n",
       "563                                       29.2   \n",
       "564                                       24.7   \n",
       "565                                       29.2   \n",
       "566                                       29.4   \n",
       "567                                       22.2   \n",
       "\n",
       "     3. Sex ratio of the total population (females per 1,000 males)(PHP)  \\\n",
       "0                                                  905                     \n",
       "1                                                  967                     \n",
       "2                                                 1064                     \n",
       "3                                                 1052                     \n",
       "4                                                  959                     \n",
       "..                                                 ...                     \n",
       "563                                               1020                     \n",
       "564                                                969                     \n",
       "565                                               1020                     \n",
       "566                                                936                     \n",
       "567                                               1132                     \n",
       "\n",
       "     4. Sex ratio at birth for children born in the last five years (females per 1,000 males)(PHP)  \\\n",
       "0                                                  843                                               \n",
       "1                                                  845                                               \n",
       "2                                                  902                                               \n",
       "3                                                 1042                                               \n",
       "4                                                  878                                               \n",
       "..                                                 ...                                               \n",
       "563                                                922                                               \n",
       "564                                                863                                               \n",
       "565                                                922                                               \n",
       "566                                                747                                               \n",
       "567                                               1207                                               \n",
       "\n",
       "     5. Children under age 5 years whose birth was registered with the civil authority (%)(PHP)  \\\n",
       "0                                                 93.4                                            \n",
       "1                                                 99.3                                            \n",
       "2                                                 96.9                                            \n",
       "3                                                 99.3                                            \n",
       "4                                                 98.7                                            \n",
       "..                                                 ...                                            \n",
       "563                                               92.7                                            \n",
       "564                                               95.8                                            \n",
       "565                                               92.7                                            \n",
       "566                                               58.9                                            \n",
       "567                                               51.6                                            \n",
       "\n",
       "    6. Deaths in the last 3 years registered with the civil authority (%)(PHP)  \\\n",
       "0                                                   na                           \n",
       "1                                                 85.7                           \n",
       "2                                                   na                           \n",
       "3                                                 86.2                           \n",
       "4                                                   na                           \n",
       "..                                                 ...                           \n",
       "563                                               74.2                           \n",
       "564                                                 na                           \n",
       "565                                               74.2                           \n",
       "566                                                 na                           \n",
       "567                                                 51                           \n",
       "\n",
       "     ...  \\\n",
       "0    ...   \n",
       "1    ...   \n",
       "2    ...   \n",
       "3    ...   \n",
       "4    ...   \n",
       "..   ...   \n",
       "563  ...   \n",
       "564  ...   \n",
       "565  ...   \n",
       "566  ...   \n",
       "567  ...   \n",
       "\n",
       "     99.Ever undergone a breast examination for breast cancer (%)(TUACA(Age>=150))  \\\n",
       "0                                                 28.9                               \n",
       "1                                                  0.2                               \n",
       "2                                                 10.2                               \n",
       "3                                                  4.7                               \n",
       "4                                                  9.3                               \n",
       "..                                                 ...                               \n",
       "563                                                0.1                               \n",
       "564                                               35.9                               \n",
       "565                                                0.1                               \n",
       "566                                                2.0                               \n",
       "567                                                0.4                               \n",
       "\n",
       "     100. Ever undergone an oral cavity examination for oral cancer (%)(TUACA(Age>=150))  \\\n",
       "0                                                 14.4                                     \n",
       "1                                                  0.2                                     \n",
       "2                                                 33.7                                     \n",
       "3                                                  1.6                                     \n",
       "4                                                 11.0                                     \n",
       "..                                                 ...                                     \n",
       "563                                                0.2                                     \n",
       "564                                               30.9                                     \n",
       "565                                                0.2                                     \n",
       "566                                                8.6                                     \n",
       "567                                                0.7                                     \n",
       "\n",
       "     101. Women age 15 years and above who use any kind of tobacco (%)(TUACA(Age>=150))  \\\n",
       "0                                                   na                                    \n",
       "1                                                 14.7                                    \n",
       "2                                                   na                                    \n",
       "3                                                 54.7                                    \n",
       "4                                                   na                                    \n",
       "..                                                 ...                                    \n",
       "563                                               14.6                                    \n",
       "564                                                 na                                    \n",
       "565                                               14.6                                    \n",
       "566                                                 na                                    \n",
       "567                                                  8                                    \n",
       "\n",
       "     102. Men age 15 years and above who use any kind of tobacco (%)(TUACA(Age>=150))  \\\n",
       "0                                                   na                                  \n",
       "1                                                 37.7                                  \n",
       "2                                                   na                                  \n",
       "3                                                 68.7                                  \n",
       "4                                                   na                                  \n",
       "..                                                 ...                                  \n",
       "563                                               31.8                                  \n",
       "564                                                 na                                  \n",
       "565                                               31.8                                  \n",
       "566                                                 na                                  \n",
       "567                                               48.9                                  \n",
       "\n",
       "     103. Women age 15 years and above who consume alcohol (%)(TUACA(Age>=150))  \\\n",
       "0                                                   na                            \n",
       "1                                                  0.2                            \n",
       "2                                                   na                            \n",
       "3                                                    1                            \n",
       "4                                                   na                            \n",
       "..                                                 ...                            \n",
       "563                                                1.1                            \n",
       "564                                                 na                            \n",
       "565                                                1.1                            \n",
       "566                                                 na                            \n",
       "567                                                0.2                            \n",
       "\n",
       "     104. Men age 15 years and above who consume alcohol (%)(TUACA(Age>=150))  \\\n",
       "0                                                   na                          \n",
       "1                                                 10.5                          \n",
       "2                                                   na                          \n",
       "3                                                 25.8                          \n",
       "4                                                   na                          \n",
       "..                                                 ...                          \n",
       "563                                               19.4                          \n",
       "564                                                 na                          \n",
       "565                                               19.4                          \n",
       "566                                                 na                          \n",
       "567                                               21.3                          \n",
       "\n",
       "    states  districts_for_merging  nl_value  rf_value  \n",
       "0       MH             Ahmednagar  0.539500  0.099904  \n",
       "1       MH             Ahmednagar  1.159334  0.137043  \n",
       "2       MZ                 Aizawl  0.073543  0.286498  \n",
       "3       MZ                 Aizawl  0.323344  0.276848  \n",
       "4       MH                  Akola  0.399099  0.112865  \n",
       "..     ...                    ...       ...       ...  \n",
       "563     KA                 Yadgir  0.698419  0.121832  \n",
       "564     MH               Yavatmal  0.262776  0.129024  \n",
       "565     MH               Yavatmal  0.737543  0.159000  \n",
       "566     NL              Zunheboto  0.096625  0.243050  \n",
       "567     NL              Zunheboto  0.421629  0.297988  \n",
       "\n",
       "[568 rows x 112 columns]"
      ],
      "text/html": "<div>\n<style scoped>\n    .dataframe tbody tr th:only-of-type {\n        vertical-align: middle;\n    }\n\n    .dataframe tbody tr th {\n        vertical-align: top;\n    }\n\n    .dataframe thead th {\n        text-align: right;\n    }\n</style>\n<table border=\"1\" class=\"dataframe\">\n  <thead>\n    <tr style=\"text-align: right;\">\n      <th></th>\n      <th>Unnamed: 0</th>\n      <th>state</th>\n      <th>District</th>\n      <th>Year</th>\n      <th>1. Female population age 6 years and above who ever attended school (%)(PHP)</th>\n      <th>2. Population below age 15 years (%)(PHP)</th>\n      <th>3. Sex ratio of the total population (females per 1,000 males)(PHP)</th>\n      <th>4. Sex ratio at birth for children born in the last five years (females per 1,000 males)(PHP)</th>\n      <th>5. Children under age 5 years whose birth was registered with the civil authority (%)(PHP)</th>\n      <th>6. Deaths in the last 3 years registered with the civil authority (%)(PHP)</th>\n      <th>...</th>\n      <th>99.Ever undergone a breast examination for breast cancer (%)(TUACA(Age&gt;=150))</th>\n      <th>100. Ever undergone an oral cavity examination for oral cancer (%)(TUACA(Age&gt;=150))</th>\n      <th>101. Women age 15 years and above who use any kind of tobacco (%)(TUACA(Age&gt;=150))</th>\n      <th>102. Men age 15 years and above who use any kind of tobacco (%)(TUACA(Age&gt;=150))</th>\n      <th>103. Women age 15 years and above who consume alcohol (%)(TUACA(Age&gt;=150))</th>\n      <th>104. Men age 15 years and above who consume alcohol (%)(TUACA(Age&gt;=150))</th>\n      <th>states</th>\n      <th>districts_for_merging</th>\n      <th>nl_value</th>\n      <th>rf_value</th>\n    </tr>\n  </thead>\n  <tbody>\n    <tr>\n      <th>0</th>\n      <td>0</td>\n      <td>Maharashtra</td>\n      <td>Ahmednagar</td>\n      <td>2016</td>\n      <td>75.4</td>\n      <td>25.8</td>\n      <td>905</td>\n      <td>843</td>\n      <td>93.4</td>\n      <td>na</td>\n      <td>...</td>\n      <td>28.9</td>\n      <td>14.4</td>\n      <td>na</td>\n      <td>na</td>\n      <td>na</td>\n      <td>na</td>\n      <td>MH</td>\n      <td>Ahmednagar</td>\n      <td>0.539500</td>\n      <td>0.099904</td>\n    </tr>\n    <tr>\n      <th>1</th>\n      <td>1</td>\n      <td>Maharashtra</td>\n      <td>Ahmednagar</td>\n      <td>2020</td>\n      <td>77.4</td>\n      <td>23.0</td>\n      <td>967</td>\n      <td>845</td>\n      <td>99.3</td>\n      <td>85.7</td>\n      <td>...</td>\n      <td>0.2</td>\n      <td>0.2</td>\n      <td>14.7</td>\n      <td>37.7</td>\n      <td>0.2</td>\n      <td>10.5</td>\n      <td>MH</td>\n      <td>Ahmednagar</td>\n      <td>1.159334</td>\n      <td>0.137043</td>\n    </tr>\n    <tr>\n      <th>2</th>\n      <td>2</td>\n      <td>Mizoram</td>\n      <td>Aizawl</td>\n      <td>2016</td>\n      <td>95.9</td>\n      <td>27.6</td>\n      <td>1064</td>\n      <td>902</td>\n      <td>96.9</td>\n      <td>na</td>\n      <td>...</td>\n      <td>10.2</td>\n      <td>33.7</td>\n      <td>na</td>\n      <td>na</td>\n      <td>na</td>\n      <td>na</td>\n      <td>MZ</td>\n      <td>Aizawl</td>\n      <td>0.073543</td>\n      <td>0.286498</td>\n    </tr>\n    <tr>\n      <th>3</th>\n      <td>3</td>\n      <td>Mizoram</td>\n      <td>Aizawl</td>\n      <td>2020</td>\n      <td>97.8</td>\n      <td>25.1</td>\n      <td>1052</td>\n      <td>1042</td>\n      <td>99.3</td>\n      <td>86.2</td>\n      <td>...</td>\n      <td>4.7</td>\n      <td>1.6</td>\n      <td>54.7</td>\n      <td>68.7</td>\n      <td>1</td>\n      <td>25.8</td>\n      <td>MZ</td>\n      <td>Aizawl</td>\n      <td>0.323344</td>\n      <td>0.276848</td>\n    </tr>\n    <tr>\n      <th>4</th>\n      <td>4</td>\n      <td>Maharashtra</td>\n      <td>Akola</td>\n      <td>2016</td>\n      <td>83.0</td>\n      <td>25.0</td>\n      <td>959</td>\n      <td>878</td>\n      <td>98.7</td>\n      <td>na</td>\n      <td>...</td>\n      <td>9.3</td>\n      <td>11.0</td>\n      <td>na</td>\n      <td>na</td>\n      <td>na</td>\n      <td>na</td>\n      <td>MH</td>\n      <td>Akola</td>\n      <td>0.399099</td>\n      <td>0.112865</td>\n    </tr>\n    <tr>\n      <th>...</th>\n      <td>...</td>\n      <td>...</td>\n      <td>...</td>\n      <td>...</td>\n      <td>...</td>\n      <td>...</td>\n      <td>...</td>\n      <td>...</td>\n      <td>...</td>\n      <td>...</td>\n      <td>...</td>\n      <td>...</td>\n      <td>...</td>\n      <td>...</td>\n      <td>...</td>\n      <td>...</td>\n      <td>...</td>\n      <td>...</td>\n      <td>...</td>\n      <td>...</td>\n      <td>...</td>\n    </tr>\n    <tr>\n      <th>563</th>\n      <td>563</td>\n      <td>Karnataka</td>\n      <td>Yadgir</td>\n      <td>2020</td>\n      <td>51.9</td>\n      <td>29.2</td>\n      <td>1020</td>\n      <td>922</td>\n      <td>92.7</td>\n      <td>74.2</td>\n      <td>...</td>\n      <td>0.1</td>\n      <td>0.2</td>\n      <td>14.6</td>\n      <td>31.8</td>\n      <td>1.1</td>\n      <td>19.4</td>\n      <td>KA</td>\n      <td>Yadgir</td>\n      <td>0.698419</td>\n      <td>0.121832</td>\n    </tr>\n    <tr>\n      <th>564</th>\n      <td>564</td>\n      <td>Maharashtra</td>\n      <td>Yavatmal</td>\n      <td>2016</td>\n      <td>76.1</td>\n      <td>24.7</td>\n      <td>969</td>\n      <td>863</td>\n      <td>95.8</td>\n      <td>na</td>\n      <td>...</td>\n      <td>35.9</td>\n      <td>30.9</td>\n      <td>na</td>\n      <td>na</td>\n      <td>na</td>\n      <td>na</td>\n      <td>MH</td>\n      <td>Yavatmal</td>\n      <td>0.262776</td>\n      <td>0.129024</td>\n    </tr>\n    <tr>\n      <th>565</th>\n      <td>565</td>\n      <td>Maharashtra</td>\n      <td>Yavatmal</td>\n      <td>2020</td>\n      <td>51.9</td>\n      <td>29.2</td>\n      <td>1020</td>\n      <td>922</td>\n      <td>92.7</td>\n      <td>74.2</td>\n      <td>...</td>\n      <td>0.1</td>\n      <td>0.2</td>\n      <td>14.6</td>\n      <td>31.8</td>\n      <td>1.1</td>\n      <td>19.4</td>\n      <td>MH</td>\n      <td>Yavatmal</td>\n      <td>0.737543</td>\n      <td>0.159000</td>\n    </tr>\n    <tr>\n      <th>566</th>\n      <td>566</td>\n      <td>Nagaland</td>\n      <td>Zunheboto</td>\n      <td>2016</td>\n      <td>86.5</td>\n      <td>29.4</td>\n      <td>936</td>\n      <td>747</td>\n      <td>58.9</td>\n      <td>na</td>\n      <td>...</td>\n      <td>2.0</td>\n      <td>8.6</td>\n      <td>na</td>\n      <td>na</td>\n      <td>na</td>\n      <td>na</td>\n      <td>NL</td>\n      <td>Zunheboto</td>\n      <td>0.096625</td>\n      <td>0.243050</td>\n    </tr>\n    <tr>\n      <th>567</th>\n      <td>567</td>\n      <td>Nagaland</td>\n      <td>Zunheboto</td>\n      <td>2020</td>\n      <td>87.4</td>\n      <td>22.2</td>\n      <td>1132</td>\n      <td>1207</td>\n      <td>51.6</td>\n      <td>51</td>\n      <td>...</td>\n      <td>0.4</td>\n      <td>0.7</td>\n      <td>8</td>\n      <td>48.9</td>\n      <td>0.2</td>\n      <td>21.3</td>\n      <td>NL</td>\n      <td>Zunheboto</td>\n      <td>0.421629</td>\n      <td>0.297988</td>\n    </tr>\n  </tbody>\n</table>\n<p>568 rows × 112 columns</p>\n</div>"
     },
     "metadata": {},
     "execution_count": 186
    }
   ],
   "source": [
    "df_new1"
   ]
  },
  {
   "cell_type": "code",
   "execution_count": 179,
   "metadata": {},
   "outputs": [],
   "source": [
    "df_new1.to_csv('NFHS4_5_data_processed_with_controls.csv')"
   ]
  },
  {
   "cell_type": "code",
   "execution_count": 192,
   "metadata": {},
   "outputs": [],
   "source": [
    "df_new1=pd.read_csv('nfhs4_nfhs5_with_controls_wo_border_marking.csv')"
   ]
  },
  {
   "cell_type": "code",
   "execution_count": 204,
   "metadata": {},
   "outputs": [],
   "source": [
    "df=df_new1\n",
    "for i in cols:\n",
    "    for j in range(df.shape[0]):\n",
    "        if(isinstance(df[i].iat[j],str)):\n",
    "            df[i].iat[j]=df[i].iat[j].replace(',','')\n",
    "            df[i].iat[j]=df[i].iat[j].replace('(','')\n",
    "            df[i].iat[j]=df[i].iat[j].replace(')','')\n",
    "            df[i].iat[j]=df[i].iat[j].replace('-','')\n",
    "            if(df[i].iat[j]!='na' and df[i].iat[j]!='*' and df[i].iat[j]!='nan' and df[i].iat[j]!=' *'):\n",
    "                df[i].iat[j]=float(df[i].iat[j])\n",
    "    for j in range(df.shape[0]):\n",
    "        if(isinstance(df[i].iat[j],int) or isinstance(df[i].iat[j],float)):\n",
    "            df[i].iat[j]=abs(df[i].iat[j])   \n",
    "        if(df[i].iat[j]=='na' or df[i].iat[j]=='*' or df[i].iat[j]=='nan' or df[i].iat[j]==' *'):\n",
    "                df[i].iat[j]=None"
   ]
  },
  {
   "cell_type": "code",
   "execution_count": 212,
   "metadata": {},
   "outputs": [],
   "source": [
    "temp=pd.melt(df,id_vars=['state','District','Year','states','districts_for_merging','nl_value','rf_value'],value_vars=cols,value_name='pct')"
   ]
  },
  {
   "cell_type": "code",
   "execution_count": 191,
   "metadata": {},
   "outputs": [
    {
     "output_type": "execute_result",
     "data": {
      "text/plain": [
       "'79. Women who are overweight or obese (BMI â‰¥25.0 kg/m2)21 (%)(ACW)'"
      ]
     },
     "metadata": {},
     "execution_count": 191
    }
   ],
   "source": [
    "df_new1.columns[82]"
   ]
  },
  {
   "cell_type": "code",
   "execution_count": 206,
   "metadata": {},
   "outputs": [
    {
     "output_type": "execute_result",
     "data": {
      "text/plain": [
       "             state    District  Year states districts_for_merging  nl_value  \\\n",
       "0      Maharashtra  Ahmednagar  2016     MH            Ahmednagar  0.539500   \n",
       "1      Maharashtra  Ahmednagar  2020     MH            Ahmednagar  1.159334   \n",
       "2          Mizoram      Aizawl  2016     MZ                Aizawl  0.073543   \n",
       "3          Mizoram      Aizawl  2020     MZ                Aizawl  0.323344   \n",
       "4      Maharashtra       Akola  2016     MH                 Akola  0.399099   \n",
       "...            ...         ...   ...    ...                   ...       ...   \n",
       "59067    Karnataka      Yadgir  2020     KA                Yadgir  0.698419   \n",
       "59068  Maharashtra    Yavatmal  2016     MH              Yavatmal  0.262776   \n",
       "59069  Maharashtra    Yavatmal  2020     MH              Yavatmal  0.737543   \n",
       "59070     Nagaland   Zunheboto  2016     NL             Zunheboto  0.096625   \n",
       "59071     Nagaland   Zunheboto  2020     NL             Zunheboto  0.421629   \n",
       "\n",
       "       rf_value                                           variable   pct  \n",
       "0      0.099904  1. Female population age 6 years and above who...  75.4  \n",
       "1      0.137043  1. Female population age 6 years and above who...  77.4  \n",
       "2      0.286498  1. Female population age 6 years and above who...  95.9  \n",
       "3      0.276848  1. Female population age 6 years and above who...  97.8  \n",
       "4      0.112865  1. Female population age 6 years and above who...    83  \n",
       "...         ...                                                ...   ...  \n",
       "59067  0.121832  104. Men age 15 years and above who consume al...  19.4  \n",
       "59068  0.129024  104. Men age 15 years and above who consume al...  None  \n",
       "59069  0.159000  104. Men age 15 years and above who consume al...  19.4  \n",
       "59070  0.243050  104. Men age 15 years and above who consume al...  None  \n",
       "59071  0.297988  104. Men age 15 years and above who consume al...  21.3  \n",
       "\n",
       "[59072 rows x 9 columns]"
      ],
      "text/html": "<div>\n<style scoped>\n    .dataframe tbody tr th:only-of-type {\n        vertical-align: middle;\n    }\n\n    .dataframe tbody tr th {\n        vertical-align: top;\n    }\n\n    .dataframe thead th {\n        text-align: right;\n    }\n</style>\n<table border=\"1\" class=\"dataframe\">\n  <thead>\n    <tr style=\"text-align: right;\">\n      <th></th>\n      <th>state</th>\n      <th>District</th>\n      <th>Year</th>\n      <th>states</th>\n      <th>districts_for_merging</th>\n      <th>nl_value</th>\n      <th>rf_value</th>\n      <th>variable</th>\n      <th>pct</th>\n    </tr>\n  </thead>\n  <tbody>\n    <tr>\n      <th>0</th>\n      <td>Maharashtra</td>\n      <td>Ahmednagar</td>\n      <td>2016</td>\n      <td>MH</td>\n      <td>Ahmednagar</td>\n      <td>0.539500</td>\n      <td>0.099904</td>\n      <td>1. Female population age 6 years and above who...</td>\n      <td>75.4</td>\n    </tr>\n    <tr>\n      <th>1</th>\n      <td>Maharashtra</td>\n      <td>Ahmednagar</td>\n      <td>2020</td>\n      <td>MH</td>\n      <td>Ahmednagar</td>\n      <td>1.159334</td>\n      <td>0.137043</td>\n      <td>1. Female population age 6 years and above who...</td>\n      <td>77.4</td>\n    </tr>\n    <tr>\n      <th>2</th>\n      <td>Mizoram</td>\n      <td>Aizawl</td>\n      <td>2016</td>\n      <td>MZ</td>\n      <td>Aizawl</td>\n      <td>0.073543</td>\n      <td>0.286498</td>\n      <td>1. Female population age 6 years and above who...</td>\n      <td>95.9</td>\n    </tr>\n    <tr>\n      <th>3</th>\n      <td>Mizoram</td>\n      <td>Aizawl</td>\n      <td>2020</td>\n      <td>MZ</td>\n      <td>Aizawl</td>\n      <td>0.323344</td>\n      <td>0.276848</td>\n      <td>1. Female population age 6 years and above who...</td>\n      <td>97.8</td>\n    </tr>\n    <tr>\n      <th>4</th>\n      <td>Maharashtra</td>\n      <td>Akola</td>\n      <td>2016</td>\n      <td>MH</td>\n      <td>Akola</td>\n      <td>0.399099</td>\n      <td>0.112865</td>\n      <td>1. Female population age 6 years and above who...</td>\n      <td>83</td>\n    </tr>\n    <tr>\n      <th>...</th>\n      <td>...</td>\n      <td>...</td>\n      <td>...</td>\n      <td>...</td>\n      <td>...</td>\n      <td>...</td>\n      <td>...</td>\n      <td>...</td>\n      <td>...</td>\n    </tr>\n    <tr>\n      <th>59067</th>\n      <td>Karnataka</td>\n      <td>Yadgir</td>\n      <td>2020</td>\n      <td>KA</td>\n      <td>Yadgir</td>\n      <td>0.698419</td>\n      <td>0.121832</td>\n      <td>104. Men age 15 years and above who consume al...</td>\n      <td>19.4</td>\n    </tr>\n    <tr>\n      <th>59068</th>\n      <td>Maharashtra</td>\n      <td>Yavatmal</td>\n      <td>2016</td>\n      <td>MH</td>\n      <td>Yavatmal</td>\n      <td>0.262776</td>\n      <td>0.129024</td>\n      <td>104. Men age 15 years and above who consume al...</td>\n      <td>None</td>\n    </tr>\n    <tr>\n      <th>59069</th>\n      <td>Maharashtra</td>\n      <td>Yavatmal</td>\n      <td>2020</td>\n      <td>MH</td>\n      <td>Yavatmal</td>\n      <td>0.737543</td>\n      <td>0.159000</td>\n      <td>104. Men age 15 years and above who consume al...</td>\n      <td>19.4</td>\n    </tr>\n    <tr>\n      <th>59070</th>\n      <td>Nagaland</td>\n      <td>Zunheboto</td>\n      <td>2016</td>\n      <td>NL</td>\n      <td>Zunheboto</td>\n      <td>0.096625</td>\n      <td>0.243050</td>\n      <td>104. Men age 15 years and above who consume al...</td>\n      <td>None</td>\n    </tr>\n    <tr>\n      <th>59071</th>\n      <td>Nagaland</td>\n      <td>Zunheboto</td>\n      <td>2020</td>\n      <td>NL</td>\n      <td>Zunheboto</td>\n      <td>0.421629</td>\n      <td>0.297988</td>\n      <td>104. Men age 15 years and above who consume al...</td>\n      <td>21.3</td>\n    </tr>\n  </tbody>\n</table>\n<p>59072 rows × 9 columns</p>\n</div>"
     },
     "metadata": {},
     "execution_count": 206
    }
   ],
   "source": [
    "temp"
   ]
  },
  {
   "cell_type": "code",
   "execution_count": 213,
   "metadata": {},
   "outputs": [],
   "source": [
    "b_merge=pd.read_csv('bucket_merging.csv')"
   ]
  },
  {
   "cell_type": "code",
   "execution_count": 214,
   "metadata": {},
   "outputs": [
    {
     "output_type": "execute_result",
     "data": {
      "text/plain": [
       "     Classes                                            Buckets  \\\n",
       "0    Neutral                   Population and Household Profile   \n",
       "1    Neutral                   Population and Household Profile   \n",
       "2    Neutral                   Population and Household Profile   \n",
       "3    Neutral                   Population and Household Profile   \n",
       "4    Neutral                   Population and Household Profile   \n",
       "..       ...                                                ...   \n",
       "99   Neutral  Women Age 15-49 Years Who Have Ever Undergone ...   \n",
       "100  Neutral                    Tobacco and Alcohol Consumption   \n",
       "101  Neutral                    Tobacco and Alcohol Consumption   \n",
       "102  Neutral                    Tobacco and Alcohol Consumption   \n",
       "103  Neutral                    Tobacco and Alcohol Consumption   \n",
       "\n",
       "                                              variable  \n",
       "0    1. Female population age 6 years and above who...  \n",
       "1            2. Population below age 15 years (%)(PHP)  \n",
       "2    3. Sex ratio of the total population (females ...  \n",
       "3    4. Sex ratio at birth for children born in the...  \n",
       "4    5. Children under age 5 years whose birth was ...  \n",
       "..                                                 ...  \n",
       "99   100. Ever undergone an oral cavity examination...  \n",
       "100  101. Women age 15 years and above who use any ...  \n",
       "101  102. Men age 15 years and above who use any ki...  \n",
       "102  103. Women age 15 years and above who consume ...  \n",
       "103  104. Men age 15 years and above who consume al...  \n",
       "\n",
       "[104 rows x 3 columns]"
      ],
      "text/html": "<div>\n<style scoped>\n    .dataframe tbody tr th:only-of-type {\n        vertical-align: middle;\n    }\n\n    .dataframe tbody tr th {\n        vertical-align: top;\n    }\n\n    .dataframe thead th {\n        text-align: right;\n    }\n</style>\n<table border=\"1\" class=\"dataframe\">\n  <thead>\n    <tr style=\"text-align: right;\">\n      <th></th>\n      <th>Classes</th>\n      <th>Buckets</th>\n      <th>variable</th>\n    </tr>\n  </thead>\n  <tbody>\n    <tr>\n      <th>0</th>\n      <td>Neutral</td>\n      <td>Population and Household Profile</td>\n      <td>1. Female population age 6 years and above who...</td>\n    </tr>\n    <tr>\n      <th>1</th>\n      <td>Neutral</td>\n      <td>Population and Household Profile</td>\n      <td>2. Population below age 15 years (%)(PHP)</td>\n    </tr>\n    <tr>\n      <th>2</th>\n      <td>Neutral</td>\n      <td>Population and Household Profile</td>\n      <td>3. Sex ratio of the total population (females ...</td>\n    </tr>\n    <tr>\n      <th>3</th>\n      <td>Neutral</td>\n      <td>Population and Household Profile</td>\n      <td>4. Sex ratio at birth for children born in the...</td>\n    </tr>\n    <tr>\n      <th>4</th>\n      <td>Neutral</td>\n      <td>Population and Household Profile</td>\n      <td>5. Children under age 5 years whose birth was ...</td>\n    </tr>\n    <tr>\n      <th>...</th>\n      <td>...</td>\n      <td>...</td>\n      <td>...</td>\n    </tr>\n    <tr>\n      <th>99</th>\n      <td>Neutral</td>\n      <td>Women Age 15-49 Years Who Have Ever Undergone ...</td>\n      <td>100. Ever undergone an oral cavity examination...</td>\n    </tr>\n    <tr>\n      <th>100</th>\n      <td>Neutral</td>\n      <td>Tobacco and Alcohol Consumption</td>\n      <td>101. Women age 15 years and above who use any ...</td>\n    </tr>\n    <tr>\n      <th>101</th>\n      <td>Neutral</td>\n      <td>Tobacco and Alcohol Consumption</td>\n      <td>102. Men age 15 years and above who use any ki...</td>\n    </tr>\n    <tr>\n      <th>102</th>\n      <td>Neutral</td>\n      <td>Tobacco and Alcohol Consumption</td>\n      <td>103. Women age 15 years and above who consume ...</td>\n    </tr>\n    <tr>\n      <th>103</th>\n      <td>Neutral</td>\n      <td>Tobacco and Alcohol Consumption</td>\n      <td>104. Men age 15 years and above who consume al...</td>\n    </tr>\n  </tbody>\n</table>\n<p>104 rows × 3 columns</p>\n</div>"
     },
     "metadata": {},
     "execution_count": 214
    }
   ],
   "source": [
    "b_merge"
   ]
  },
  {
   "cell_type": "code",
   "execution_count": 215,
   "metadata": {},
   "outputs": [],
   "source": [
    "temp=temp.merge(b_merge, on='variable')"
   ]
  },
  {
   "cell_type": "code",
   "execution_count": 235,
   "metadata": {},
   "outputs": [],
   "source": [
    "temp['UID']=temp['District']+temp['state']"
   ]
  },
  {
   "cell_type": "code",
   "execution_count": 245,
   "metadata": {
    "tags": [
     "outputPrepend"
    ]
   },
   "outputs": [
    {
     "output_type": "stream",
     "name": "stderr",
     "text": [
      "python-input-245-ca2c8461de35>:6: UserWarning: Boolean Series key will be reindexed to match DataFrame index.\n",
      "  dist_temp=temp1[temp['UID']==j]\n",
      "<ipython-input-245-ca2c8461de35>:6: UserWarning: Boolean Series key will be reindexed to match DataFrame index.\n",
      "  dist_temp=temp1[temp['UID']==j]\n",
      "<ipython-input-245-ca2c8461de35>:6: UserWarning: Boolean Series key will be reindexed to match DataFrame index.\n",
      "  dist_temp=temp1[temp['UID']==j]\n",
      "<ipython-input-245-ca2c8461de35>:6: UserWarning: Boolean Series key will be reindexed to match DataFrame index.\n",
      "  dist_temp=temp1[temp['UID']==j]\n",
      "<ipython-input-245-ca2c8461de35>:6: UserWarning: Boolean Series key will be reindexed to match DataFrame index.\n",
      "  dist_temp=temp1[temp['UID']==j]\n",
      "<ipython-input-245-ca2c8461de35>:6: UserWarning: Boolean Series key will be reindexed to match DataFrame index.\n",
      "  dist_temp=temp1[temp['UID']==j]\n",
      "<ipython-input-245-ca2c8461de35>:6: UserWarning: Boolean Series key will be reindexed to match DataFrame index.\n",
      "  dist_temp=temp1[temp['UID']==j]\n",
      "<ipython-input-245-ca2c8461de35>:6: UserWarning: Boolean Series key will be reindexed to match DataFrame index.\n",
      "  dist_temp=temp1[temp['UID']==j]\n",
      "<ipython-input-245-ca2c8461de35>:6: UserWarning: Boolean Series key will be reindexed to match DataFrame index.\n",
      "  dist_temp=temp1[temp['UID']==j]\n",
      "<ipython-input-245-ca2c8461de35>:6: UserWarning: Boolean Series key will be reindexed to match DataFrame index.\n",
      "  dist_temp=temp1[temp['UID']==j]\n",
      "<ipython-input-245-ca2c8461de35>:6: UserWarning: Boolean Series key will be reindexed to match DataFrame index.\n",
      "  dist_temp=temp1[temp['UID']==j]\n",
      "<ipython-input-245-ca2c8461de35>:6: UserWarning: Boolean Series key will be reindexed to match DataFrame index.\n",
      "  dist_temp=temp1[temp['UID']==j]\n",
      "<ipython-input-245-ca2c8461de35>:6: UserWarning: Boolean Series key will be reindexed to match DataFrame index.\n",
      "  dist_temp=temp1[temp['UID']==j]\n",
      "<ipython-input-245-ca2c8461de35>:6: UserWarning: Boolean Series key will be reindexed to match DataFrame index.\n",
      "  dist_temp=temp1[temp['UID']==j]\n",
      "<ipython-input-245-ca2c8461de35>:6: UserWarning: Boolean Series key will be reindexed to match DataFrame index.\n",
      "  dist_temp=temp1[temp['UID']==j]\n",
      "<ipython-input-245-ca2c8461de35>:6: UserWarning: Boolean Series key will be reindexed to match DataFrame index.\n",
      "  dist_temp=temp1[temp['UID']==j]\n",
      "<ipython-input-245-ca2c8461de35>:6: UserWarning: Boolean Series key will be reindexed to match DataFrame index.\n",
      "  dist_temp=temp1[temp['UID']==j]\n",
      "<ipython-input-245-ca2c8461de35>:6: UserWarning: Boolean Series key will be reindexed to match DataFrame index.\n",
      "  dist_temp=temp1[temp['UID']==j]\n",
      "<ipython-input-245-ca2c8461de35>:6: UserWarning: Boolean Series key will be reindexed to match DataFrame index.\n",
      "  dist_temp=temp1[temp['UID']==j]\n",
      "<ipython-input-245-ca2c8461de35>:6: UserWarning: Boolean Series key will be reindexed to match DataFrame index.\n",
      "  dist_temp=temp1[temp['UID']==j]\n",
      "<ipython-input-245-ca2c8461de35>:6: UserWarning: Boolean Series key will be reindexed to match DataFrame index.\n",
      "  dist_temp=temp1[temp['UID']==j]\n",
      "<ipython-input-245-ca2c8461de35>:6: UserWarning: Boolean Series key will be reindexed to match DataFrame index.\n",
      "  dist_temp=temp1[temp['UID']==j]\n",
      "<ipython-input-245-ca2c8461de35>:6: UserWarning: Boolean Series key will be reindexed to match DataFrame index.\n",
      "  dist_temp=temp1[temp['UID']==j]\n",
      "<ipython-input-245-ca2c8461de35>:6: UserWarning: Boolean Series key will be reindexed to match DataFrame index.\n",
      "  dist_temp=temp1[temp['UID']==j]\n",
      "<ipython-input-245-ca2c8461de35>:6: UserWarning: Boolean Series key will be reindexed to match DataFrame index.\n",
      "  dist_temp=temp1[temp['UID']==j]\n",
      "<ipython-input-245-ca2c8461de35>:6: UserWarning: Boolean Series key will be reindexed to match DataFrame index.\n",
      "  dist_temp=temp1[temp['UID']==j]\n",
      "<ipython-input-245-ca2c8461de35>:6: UserWarning: Boolean Series key will be reindexed to match DataFrame index.\n",
      "  dist_temp=temp1[temp['UID']==j]\n",
      "<ipython-input-245-ca2c8461de35>:6: UserWarning: Boolean Series key will be reindexed to match DataFrame index.\n",
      "  dist_temp=temp1[temp['UID']==j]\n",
      "<ipython-input-245-ca2c8461de35>:6: UserWarning: Boolean Series key will be reindexed to match DataFrame index.\n",
      "  dist_temp=temp1[temp['UID']==j]\n",
      "<ipython-input-245-ca2c8461de35>:6: UserWarning: Boolean Series key will be reindexed to match DataFrame index.\n",
      "  dist_temp=temp1[temp['UID']==j]\n",
      "<ipython-input-245-ca2c8461de35>:6: UserWarning: Boolean Series key will be reindexed to match DataFrame index.\n",
      "  dist_temp=temp1[temp['UID']==j]\n",
      "<ipython-input-245-ca2c8461de35>:6: UserWarning: Boolean Series key will be reindexed to match DataFrame index.\n",
      "  dist_temp=temp1[temp['UID']==j]\n",
      "<ipython-input-245-ca2c8461de35>:6: UserWarning: Boolean Series key will be reindexed to match DataFrame index.\n",
      "  dist_temp=temp1[temp['UID']==j]\n",
      "<ipython-input-245-ca2c8461de35>:6: UserWarning: Boolean Series key will be reindexed to match DataFrame index.\n",
      "  dist_temp=temp1[temp['UID']==j]\n",
      "<ipython-input-245-ca2c8461de35>:6: UserWarning: Boolean Series key will be reindexed to match DataFrame index.\n",
      "  dist_temp=temp1[temp['UID']==j]\n",
      "<ipython-input-245-ca2c8461de35>:6: UserWarning: Boolean Series key will be reindexed to match DataFrame index.\n",
      "  dist_temp=temp1[temp['UID']==j]\n",
      "<ipython-input-245-ca2c8461de35>:6: UserWarning: Boolean Series key will be reindexed to match DataFrame index.\n",
      "  dist_temp=temp1[temp['UID']==j]\n",
      "<ipython-input-245-ca2c8461de35>:6: UserWarning: Boolean Series key will be reindexed to match DataFrame index.\n",
      "  dist_temp=temp1[temp['UID']==j]\n",
      "<ipython-input-245-ca2c8461de35>:6: UserWarning: Boolean Series key will be reindexed to match DataFrame index.\n",
      "  dist_temp=temp1[temp['UID']==j]\n",
      "<ipython-input-245-ca2c8461de35>:6: UserWarning: Boolean Series key will be reindexed to match DataFrame index.\n",
      "  dist_temp=temp1[temp['UID']==j]\n",
      "<ipython-input-245-ca2c8461de35>:6: UserWarning: Boolean Series key will be reindexed to match DataFrame index.\n",
      "  dist_temp=temp1[temp['UID']==j]\n",
      "<ipython-input-245-ca2c8461de35>:6: UserWarning: Boolean Series key will be reindexed to match DataFrame index.\n",
      "  dist_temp=temp1[temp['UID']==j]\n",
      "<ipython-input-245-ca2c8461de35>:6: UserWarning: Boolean Series key will be reindexed to match DataFrame index.\n",
      "  dist_temp=temp1[temp['UID']==j]\n",
      "<ipython-input-245-ca2c8461de35>:6: UserWarning: Boolean Series key will be reindexed to match DataFrame index.\n",
      "  dist_temp=temp1[temp['UID']==j]\n",
      "<ipython-input-245-ca2c8461de35>:6: UserWarning: Boolean Series key will be reindexed to match DataFrame index.\n",
      "  dist_temp=temp1[temp['UID']==j]\n",
      "<ipython-input-245-ca2c8461de35>:6: UserWarning: Boolean Series key will be reindexed to match DataFrame index.\n",
      "  dist_temp=temp1[temp['UID']==j]\n",
      "<ipython-input-245-ca2c8461de35>:6: UserWarning: Boolean Series key will be reindexed to match DataFrame index.\n",
      "  dist_temp=temp1[temp['UID']==j]\n",
      "<ipython-input-245-ca2c8461de35>:6: UserWarning: Boolean Series key will be reindexed to match DataFrame index.\n",
      "  dist_temp=temp1[temp['UID']==j]\n",
      "<ipython-input-245-ca2c8461de35>:6: UserWarning: Boolean Series key will be reindexed to match DataFrame index.\n",
      "  dist_temp=temp1[temp['UID']==j]\n",
      "<ipython-input-245-ca2c8461de35>:6: UserWarning: Boolean Series key will be reindexed to match DataFrame index.\n",
      "  dist_temp=temp1[temp['UID']==j]\n",
      "<ipython-input-245-ca2c8461de35>:6: UserWarning: Boolean Series key will be reindexed to match DataFrame index.\n",
      "  dist_temp=temp1[temp['UID']==j]\n",
      "<ipython-input-245-ca2c8461de35>:6: UserWarning: Boolean Series key will be reindexed to match DataFrame index.\n",
      "  dist_temp=temp1[temp['UID']==j]\n",
      "<ipython-input-245-ca2c8461de35>:6: UserWarning: Boolean Series key will be reindexed to match DataFrame index.\n",
      "  dist_temp=temp1[temp['UID']==j]\n",
      "<ipython-input-245-ca2c8461de35>:6: UserWarning: Boolean Series key will be reindexed to match DataFrame index.\n",
      "  dist_temp=temp1[temp['UID']==j]\n",
      "<ipython-input-245-ca2c8461de35>:6: UserWarning: Boolean Series key will be reindexed to match DataFrame index.\n",
      "  dist_temp=temp1[temp['UID']==j]\n",
      "<ipython-input-245-ca2c8461de35>:6: UserWarning: Boolean Series key will be reindexed to match DataFrame index.\n",
      "  dist_temp=temp1[temp['UID']==j]\n",
      "<ipython-input-245-ca2c8461de35>:6: UserWarning: Boolean Series key will be reindexed to match DataFrame index.\n",
      "  dist_temp=temp1[temp['UID']==j]\n",
      "<ipython-input-245-ca2c8461de35>:6: UserWarning: Boolean Series key will be reindexed to match DataFrame index.\n",
      "  dist_temp=temp1[temp['UID']==j]\n",
      "<ipython-input-245-ca2c8461de35>:6: UserWarning: Boolean Series key will be reindexed to match DataFrame index.\n",
      "  dist_temp=temp1[temp['UID']==j]\n",
      "<ipython-input-245-ca2c8461de35>:6: UserWarning: Boolean Series key will be reindexed to match DataFrame index.\n",
      "  dist_temp=temp1[temp['UID']==j]\n",
      "<ipython-input-245-ca2c8461de35>:6: UserWarning: Boolean Series key will be reindexed to match DataFrame index.\n",
      "  dist_temp=temp1[temp['UID']==j]\n",
      "<ipython-input-245-ca2c8461de35>:6: UserWarning: Boolean Series key will be reindexed to match DataFrame index.\n",
      "  dist_temp=temp1[temp['UID']==j]\n",
      "<ipython-input-245-ca2c8461de35>:6: UserWarning: Boolean Series key will be reindexed to match DataFrame index.\n",
      "  dist_temp=temp1[temp['UID']==j]\n",
      "<ipython-input-245-ca2c8461de35>:6: UserWarning: Boolean Series key will be reindexed to match DataFrame index.\n",
      "  dist_temp=temp1[temp['UID']==j]\n",
      "<ipython-input-245-ca2c8461de35>:6: UserWarning: Boolean Series key will be reindexed to match DataFrame index.\n",
      "  dist_temp=temp1[temp['UID']==j]\n",
      "<ipython-input-245-ca2c8461de35>:6: UserWarning: Boolean Series key will be reindexed to match DataFrame index.\n",
      "  dist_temp=temp1[temp['UID']==j]\n",
      "<ipython-input-245-ca2c8461de35>:6: UserWarning: Boolean Series key will be reindexed to match DataFrame index.\n",
      "  dist_temp=temp1[temp['UID']==j]\n",
      "<ipython-input-245-ca2c8461de35>:6: UserWarning: Boolean Series key will be reindexed to match DataFrame index.\n",
      "  dist_temp=temp1[temp['UID']==j]\n",
      "<ipython-input-245-ca2c8461de35>:6: UserWarning: Boolean Series key will be reindexed to match DataFrame index.\n",
      "  dist_temp=temp1[temp['UID']==j]\n",
      "<ipython-input-245-ca2c8461de35>:6: UserWarning: Boolean Series key will be reindexed to match DataFrame index.\n",
      "  dist_temp=temp1[temp['UID']==j]\n",
      "<ipython-input-245-ca2c8461de35>:6: UserWarning: Boolean Series key will be reindexed to match DataFrame index.\n",
      "  dist_temp=temp1[temp['UID']==j]\n",
      "<ipython-input-245-ca2c8461de35>:6: UserWarning: Boolean Series key will be reindexed to match DataFrame index.\n",
      "  dist_temp=temp1[temp['UID']==j]\n",
      "<ipython-input-245-ca2c8461de35>:6: UserWarning: Boolean Series key will be reindexed to match DataFrame index.\n",
      "  dist_temp=temp1[temp['UID']==j]\n",
      "<ipython-input-245-ca2c8461de35>:6: UserWarning: Boolean Series key will be reindexed to match DataFrame index.\n",
      "  dist_temp=temp1[temp['UID']==j]\n",
      "<ipython-input-245-ca2c8461de35>:6: UserWarning: Boolean Series key will be reindexed to match DataFrame index.\n",
      "  dist_temp=temp1[temp['UID']==j]\n",
      "<ipython-input-245-ca2c8461de35>:6: UserWarning: Boolean Series key will be reindexed to match DataFrame index.\n",
      "  dist_temp=temp1[temp['UID']==j]\n",
      "<ipython-input-245-ca2c8461de35>:6: UserWarning: Boolean Series key will be reindexed to match DataFrame index.\n",
      "  dist_temp=temp1[temp['UID']==j]\n",
      "<ipython-input-245-ca2c8461de35>:6: UserWarning: Boolean Series key will be reindexed to match DataFrame index.\n",
      "  dist_temp=temp1[temp['UID']==j]\n",
      "<ipython-input-245-ca2c8461de35>:6: UserWarning: Boolean Series key will be reindexed to match DataFrame index.\n",
      "  dist_temp=temp1[temp['UID']==j]\n",
      "<ipython-input-245-ca2c8461de35>:6: UserWarning: Boolean Series key will be reindexed to match DataFrame index.\n",
      "  dist_temp=temp1[temp['UID']==j]\n",
      "<ipython-input-245-ca2c8461de35>:6: UserWarning: Boolean Series key will be reindexed to match DataFrame index.\n",
      "  dist_temp=temp1[temp['UID']==j]\n",
      "<ipython-input-245-ca2c8461de35>:6: UserWarning: Boolean Series key will be reindexed to match DataFrame index.\n",
      "  dist_temp=temp1[temp['UID']==j]\n",
      "<ipython-input-245-ca2c8461de35>:6: UserWarning: Boolean Series key will be reindexed to match DataFrame index.\n",
      "  dist_temp=temp1[temp['UID']==j]\n",
      "<ipython-input-245-ca2c8461de35>:6: UserWarning: Boolean Series key will be reindexed to match DataFrame index.\n",
      "  dist_temp=temp1[temp['UID']==j]\n",
      "<ipython-input-245-ca2c8461de35>:6: UserWarning: Boolean Series key will be reindexed to match DataFrame index.\n",
      "  dist_temp=temp1[temp['UID']==j]\n",
      "<ipython-input-245-ca2c8461de35>:6: UserWarning: Boolean Series key will be reindexed to match DataFrame index.\n",
      "  dist_temp=temp1[temp['UID']==j]\n",
      "<ipython-input-245-ca2c8461de35>:6: UserWarning: Boolean Series key will be reindexed to match DataFrame index.\n",
      "  dist_temp=temp1[temp['UID']==j]\n",
      "<ipython-input-245-ca2c8461de35>:6: UserWarning: Boolean Series key will be reindexed to match DataFrame index.\n",
      "  dist_temp=temp1[temp['UID']==j]\n",
      "<ipython-input-245-ca2c8461de35>:6: UserWarning: Boolean Series key will be reindexed to match DataFrame index.\n",
      "  dist_temp=temp1[temp['UID']==j]\n",
      "<ipython-input-245-ca2c8461de35>:6: UserWarning: Boolean Series key will be reindexed to match DataFrame index.\n",
      "  dist_temp=temp1[temp['UID']==j]\n",
      "<ipython-input-245-ca2c8461de35>:6: UserWarning: Boolean Series key will be reindexed to match DataFrame index.\n",
      "  dist_temp=temp1[temp['UID']==j]\n",
      "<ipython-input-245-ca2c8461de35>:6: UserWarning: Boolean Series key will be reindexed to match DataFrame index.\n",
      "  dist_temp=temp1[temp['UID']==j]\n",
      "<ipython-input-245-ca2c8461de35>:6: UserWarning: Boolean Series key will be reindexed to match DataFrame index.\n",
      "  dist_temp=temp1[temp['UID']==j]\n",
      "<ipython-input-245-ca2c8461de35>:6: UserWarning: Boolean Series key will be reindexed to match DataFrame index.\n",
      "  dist_temp=temp1[temp['UID']==j]\n",
      "<ipython-input-245-ca2c8461de35>:6: UserWarning: Boolean Series key will be reindexed to match DataFrame index.\n",
      "  dist_temp=temp1[temp['UID']==j]\n",
      "<ipython-input-245-ca2c8461de35>:6: UserWarning: Boolean Series key will be reindexed to match DataFrame index.\n",
      "  dist_temp=temp1[temp['UID']==j]\n",
      "<ipython-input-245-ca2c8461de35>:6: UserWarning: Boolean Series key will be reindexed to match DataFrame index.\n",
      "  dist_temp=temp1[temp['UID']==j]\n",
      "<ipython-input-245-ca2c8461de35>:6: UserWarning: Boolean Series key will be reindexed to match DataFrame index.\n",
      "  dist_temp=temp1[temp['UID']==j]\n",
      "<ipython-input-245-ca2c8461de35>:6: UserWarning: Boolean Series key will be reindexed to match DataFrame index.\n",
      "  dist_temp=temp1[temp['UID']==j]\n",
      "<ipython-input-245-ca2c8461de35>:6: UserWarning: Boolean Series key will be reindexed to match DataFrame index.\n",
      "  dist_temp=temp1[temp['UID']==j]\n",
      "<ipython-input-245-ca2c8461de35>:6: UserWarning: Boolean Series key will be reindexed to match DataFrame index.\n",
      "  dist_temp=temp1[temp['UID']==j]\n",
      "<ipython-input-245-ca2c8461de35>:6: UserWarning: Boolean Series key will be reindexed to match DataFrame index.\n",
      "  dist_temp=temp1[temp['UID']==j]\n",
      "<ipython-input-245-ca2c8461de35>:6: UserWarning: Boolean Series key will be reindexed to match DataFrame index.\n",
      "  dist_temp=temp1[temp['UID']==j]\n",
      "<ipython-input-245-ca2c8461de35>:6: UserWarning: Boolean Series key will be reindexed to match DataFrame index.\n",
      "  dist_temp=temp1[temp['UID']==j]\n",
      "<ipython-input-245-ca2c8461de35>:6: UserWarning: Boolean Series key will be reindexed to match DataFrame index.\n",
      "  dist_temp=temp1[temp['UID']==j]\n",
      "<ipython-input-245-ca2c8461de35>:6: UserWarning: Boolean Series key will be reindexed to match DataFrame index.\n",
      "  dist_temp=temp1[temp['UID']==j]\n",
      "<ipython-input-245-ca2c8461de35>:6: UserWarning: Boolean Series key will be reindexed to match DataFrame index.\n",
      "  dist_temp=temp1[temp['UID']==j]\n",
      "<ipython-input-245-ca2c8461de35>:6: UserWarning: Boolean Series key will be reindexed to match DataFrame index.\n",
      "  dist_temp=temp1[temp['UID']==j]\n",
      "<ipython-input-245-ca2c8461de35>:6: UserWarning: Boolean Series key will be reindexed to match DataFrame index.\n",
      "  dist_temp=temp1[temp['UID']==j]\n",
      "<ipython-input-245-ca2c8461de35>:6: UserWarning: Boolean Series key will be reindexed to match DataFrame index.\n",
      "  dist_temp=temp1[temp['UID']==j]\n",
      "<ipython-input-245-ca2c8461de35>:6: UserWarning: Boolean Series key will be reindexed to match DataFrame index.\n",
      "  dist_temp=temp1[temp['UID']==j]\n",
      "<ipython-input-245-ca2c8461de35>:6: UserWarning: Boolean Series key will be reindexed to match DataFrame index.\n",
      "  dist_temp=temp1[temp['UID']==j]\n",
      "<ipython-input-245-ca2c8461de35>:6: UserWarning: Boolean Series key will be reindexed to match DataFrame index.\n",
      "  dist_temp=temp1[temp['UID']==j]\n",
      "<ipython-input-245-ca2c8461de35>:6: UserWarning: Boolean Series key will be reindexed to match DataFrame index.\n",
      "  dist_temp=temp1[temp['UID']==j]\n",
      "<ipython-input-245-ca2c8461de35>:6: UserWarning: Boolean Series key will be reindexed to match DataFrame index.\n",
      "  dist_temp=temp1[temp['UID']==j]\n",
      "<ipython-input-245-ca2c8461de35>:6: UserWarning: Boolean Series key will be reindexed to match DataFrame index.\n",
      "  dist_temp=temp1[temp['UID']==j]\n",
      "<ipython-input-245-ca2c8461de35>:6: UserWarning: Boolean Series key will be reindexed to match DataFrame index.\n",
      "  dist_temp=temp1[temp['UID']==j]\n",
      "<ipython-input-245-ca2c8461de35>:6: UserWarning: Boolean Series key will be reindexed to match DataFrame index.\n",
      "  dist_temp=temp1[temp['UID']==j]\n",
      "<ipython-input-245-ca2c8461de35>:6: UserWarning: Boolean Series key will be reindexed to match DataFrame index.\n",
      "  dist_temp=temp1[temp['UID']==j]\n",
      "<ipython-input-245-ca2c8461de35>:6: UserWarning: Boolean Series key will be reindexed to match DataFrame index.\n",
      "  dist_temp=temp1[temp['UID']==j]\n",
      "<ipython-input-245-ca2c8461de35>:6: UserWarning: Boolean Series key will be reindexed to match DataFrame index.\n",
      "  dist_temp=temp1[temp['UID']==j]\n",
      "<ipython-input-245-ca2c8461de35>:6: UserWarning: Boolean Series key will be reindexed to match DataFrame index.\n",
      "  dist_temp=temp1[temp['UID']==j]\n",
      "<ipython-input-245-ca2c8461de35>:6: UserWarning: Boolean Series key will be reindexed to match DataFrame index.\n",
      "  dist_temp=temp1[temp['UID']==j]\n",
      "<ipython-input-245-ca2c8461de35>:6: UserWarning: Boolean Series key will be reindexed to match DataFrame index.\n",
      "  dist_temp=temp1[temp['UID']==j]\n",
      "<ipython-input-245-ca2c8461de35>:6: UserWarning: Boolean Series key will be reindexed to match DataFrame index.\n",
      "  dist_temp=temp1[temp['UID']==j]\n",
      "<ipython-input-245-ca2c8461de35>:6: UserWarning: Boolean Series key will be reindexed to match DataFrame index.\n",
      "  dist_temp=temp1[temp['UID']==j]\n",
      "<ipython-input-245-ca2c8461de35>:6: UserWarning: Boolean Series key will be reindexed to match DataFrame index.\n",
      "  dist_temp=temp1[temp['UID']==j]\n",
      "<ipython-input-245-ca2c8461de35>:6: UserWarning: Boolean Series key will be reindexed to match DataFrame index.\n",
      "  dist_temp=temp1[temp['UID']==j]\n",
      "<ipython-input-245-ca2c8461de35>:6: UserWarning: Boolean Series key will be reindexed to match DataFrame index.\n",
      "  dist_temp=temp1[temp['UID']==j]\n",
      "<ipython-input-245-ca2c8461de35>:6: UserWarning: Boolean Series key will be reindexed to match DataFrame index.\n",
      "  dist_temp=temp1[temp['UID']==j]\n",
      "<ipython-input-245-ca2c8461de35>:6: UserWarning: Boolean Series key will be reindexed to match DataFrame index.\n",
      "  dist_temp=temp1[temp['UID']==j]\n",
      "<ipython-input-245-ca2c8461de35>:6: UserWarning: Boolean Series key will be reindexed to match DataFrame index.\n",
      "  dist_temp=temp1[temp['UID']==j]\n",
      "<ipython-input-245-ca2c8461de35>:6: UserWarning: Boolean Series key will be reindexed to match DataFrame index.\n",
      "  dist_temp=temp1[temp['UID']==j]\n",
      "<ipython-input-245-ca2c8461de35>:6: UserWarning: Boolean Series key will be reindexed to match DataFrame index.\n",
      "  dist_temp=temp1[temp['UID']==j]\n",
      "<ipython-input-245-ca2c8461de35>:6: UserWarning: Boolean Series key will be reindexed to match DataFrame index.\n",
      "  dist_temp=temp1[temp['UID']==j]\n",
      "<ipython-input-245-ca2c8461de35>:6: UserWarning: Boolean Series key will be reindexed to match DataFrame index.\n",
      "  dist_temp=temp1[temp['UID']==j]\n",
      "<ipython-input-245-ca2c8461de35>:6: UserWarning: Boolean Series key will be reindexed to match DataFrame index.\n",
      "  dist_temp=temp1[temp['UID']==j]\n"
     ]
    }
   ],
   "source": [
    "mainl=[]\n",
    "\n",
    "for i in ['Positive','Negative','Spec']:\n",
    "    temp1=temp[temp['Classes']==i]\n",
    "    for j in temp.UID.unique():\n",
    "        dist_temp=temp1[temp['UID']==j]\n",
    "        for k in dist_temp.Year.unique():\n",
    "            t_year=dist_temp[dist_temp['Year']==k]\n",
    "            mean=t_year['pct'].dropna().mean()\n",
    "            l=[t_year.District.iat[0],t_year.states.iat[0], k, i, t_year.nl_value.iat[0], t_year.rf_value.iat[0], t_year.districts_for_merging.iat[0],mean]\n",
    "            mainl.append(l)\n"
   ]
  },
  {
   "cell_type": "code",
   "execution_count": 247,
   "metadata": {},
   "outputs": [],
   "source": [
    "df_final=pd.DataFrame(mainl,columns=['district','states','year','class','nl_value','rf_value','districts_for_merging','mean'])"
   ]
  },
  {
   "cell_type": "code",
   "execution_count": null,
   "metadata": {},
   "outputs": [],
   "source": []
  },
  {
   "cell_type": "code",
   "execution_count": 248,
   "metadata": {},
   "outputs": [
    {
     "output_type": "execute_result",
     "data": {
      "text/plain": [
       "                                                                     mean  \\\n",
       "class                                                            Negative   \n",
       "district   states year nl_value rf_value districts_for_merging              \n",
       "Ahmednagar MH     2016 0.539500 0.099904 Ahmednagar             15.454167   \n",
       "                  2020 1.159334 0.137043 Ahmednagar             20.803333   \n",
       "Aizawl     MZ     2016 0.073543 0.286498 Aizawl                 10.741667   \n",
       "                  2020 0.323344 0.276848 Aizawl                 17.763333   \n",
       "Akola      MH     2016 0.399099 0.112865 Akola                  15.717391   \n",
       "...                                                                   ...   \n",
       "Yadgir     KA     2020 0.698419 0.121832 Yadgir                 21.990000   \n",
       "Yavatmal   MH     2016 0.262776 0.129024 Yavatmal               19.679167   \n",
       "                  2020 0.737543 0.159000 Yavatmal               22.046667   \n",
       "Zunheboto  NL     2016 0.096625 0.243050 Zunheboto              13.666667   \n",
       "                  2020 0.421629 0.297988 Zunheboto              20.276667   \n",
       "\n",
       "                                                                           \\\n",
       "class                                                            Positive   \n",
       "district   states year nl_value rf_value districts_for_merging              \n",
       "Ahmednagar MH     2016 0.539500 0.099904 Ahmednagar             45.207895   \n",
       "                  2020 1.159334 0.137043 Ahmednagar             54.222222   \n",
       "Aizawl     MZ     2016 0.073543 0.286498 Aizawl                 48.910256   \n",
       "                  2020 0.323344 0.276848 Aizawl                 46.766667   \n",
       "Akola      MH     2016 0.399099 0.112865 Akola                  53.471429   \n",
       "...                                                                   ...   \n",
       "Yadgir     KA     2020 0.698419 0.121832 Yadgir                 51.060465   \n",
       "Yavatmal   MH     2016 0.262776 0.129024 Yavatmal               50.112821   \n",
       "                  2020 0.737543 0.159000 Yavatmal               52.716279   \n",
       "Zunheboto  NL     2016 0.096625 0.243050 Zunheboto              24.922222   \n",
       "                  2020 0.421629 0.297988 Zunheboto              37.147619   \n",
       "\n",
       "                                                                         \n",
       "class                                                              Spec  \n",
       "district   states year nl_value rf_value districts_for_merging           \n",
       "Ahmednagar MH     2016 0.539500 0.099904 Ahmednagar              4851.0  \n",
       "                  2020 1.159334 0.137043 Ahmednagar              5575.0  \n",
       "Aizawl     MZ     2016 0.073543 0.286498 Aizawl                  5087.0  \n",
       "                  2020 0.323344 0.276848 Aizawl                  9812.0  \n",
       "Akola      MH     2016 0.399099 0.112865 Akola                   1711.0  \n",
       "...                                                                 ...  \n",
       "Yadgir     KA     2020 0.698419 0.121832 Yadgir                  4386.0  \n",
       "Yavatmal   MH     2016 0.262776 0.129024 Yavatmal                1954.0  \n",
       "                  2020 0.737543 0.159000 Yavatmal                1734.0  \n",
       "Zunheboto  NL     2016 0.096625 0.243050 Zunheboto              10499.0  \n",
       "                  2020 0.421629 0.297988 Zunheboto               7554.0  \n",
       "\n",
       "[568 rows x 3 columns]"
      ],
      "text/html": "<div>\n<style scoped>\n    .dataframe tbody tr th:only-of-type {\n        vertical-align: middle;\n    }\n\n    .dataframe tbody tr th {\n        vertical-align: top;\n    }\n\n    .dataframe thead tr th {\n        text-align: left;\n    }\n\n    .dataframe thead tr:last-of-type th {\n        text-align: right;\n    }\n</style>\n<table border=\"1\" class=\"dataframe\">\n  <thead>\n    <tr>\n      <th></th>\n      <th></th>\n      <th></th>\n      <th></th>\n      <th></th>\n      <th></th>\n      <th colspan=\"3\" halign=\"left\">mean</th>\n    </tr>\n    <tr>\n      <th></th>\n      <th></th>\n      <th></th>\n      <th></th>\n      <th></th>\n      <th>class</th>\n      <th>Negative</th>\n      <th>Positive</th>\n      <th>Spec</th>\n    </tr>\n    <tr>\n      <th>district</th>\n      <th>states</th>\n      <th>year</th>\n      <th>nl_value</th>\n      <th>rf_value</th>\n      <th>districts_for_merging</th>\n      <th></th>\n      <th></th>\n      <th></th>\n    </tr>\n  </thead>\n  <tbody>\n    <tr>\n      <th rowspan=\"2\" valign=\"top\">Ahmednagar</th>\n      <th rowspan=\"2\" valign=\"top\">MH</th>\n      <th>2016</th>\n      <th>0.539500</th>\n      <th>0.099904</th>\n      <th>Ahmednagar</th>\n      <td>15.454167</td>\n      <td>45.207895</td>\n      <td>4851.0</td>\n    </tr>\n    <tr>\n      <th>2020</th>\n      <th>1.159334</th>\n      <th>0.137043</th>\n      <th>Ahmednagar</th>\n      <td>20.803333</td>\n      <td>54.222222</td>\n      <td>5575.0</td>\n    </tr>\n    <tr>\n      <th rowspan=\"2\" valign=\"top\">Aizawl</th>\n      <th rowspan=\"2\" valign=\"top\">MZ</th>\n      <th>2016</th>\n      <th>0.073543</th>\n      <th>0.286498</th>\n      <th>Aizawl</th>\n      <td>10.741667</td>\n      <td>48.910256</td>\n      <td>5087.0</td>\n    </tr>\n    <tr>\n      <th>2020</th>\n      <th>0.323344</th>\n      <th>0.276848</th>\n      <th>Aizawl</th>\n      <td>17.763333</td>\n      <td>46.766667</td>\n      <td>9812.0</td>\n    </tr>\n    <tr>\n      <th>Akola</th>\n      <th>MH</th>\n      <th>2016</th>\n      <th>0.399099</th>\n      <th>0.112865</th>\n      <th>Akola</th>\n      <td>15.717391</td>\n      <td>53.471429</td>\n      <td>1711.0</td>\n    </tr>\n    <tr>\n      <th>...</th>\n      <th>...</th>\n      <th>...</th>\n      <th>...</th>\n      <th>...</th>\n      <th>...</th>\n      <td>...</td>\n      <td>...</td>\n      <td>...</td>\n    </tr>\n    <tr>\n      <th>Yadgir</th>\n      <th>KA</th>\n      <th>2020</th>\n      <th>0.698419</th>\n      <th>0.121832</th>\n      <th>Yadgir</th>\n      <td>21.990000</td>\n      <td>51.060465</td>\n      <td>4386.0</td>\n    </tr>\n    <tr>\n      <th rowspan=\"2\" valign=\"top\">Yavatmal</th>\n      <th rowspan=\"2\" valign=\"top\">MH</th>\n      <th>2016</th>\n      <th>0.262776</th>\n      <th>0.129024</th>\n      <th>Yavatmal</th>\n      <td>19.679167</td>\n      <td>50.112821</td>\n      <td>1954.0</td>\n    </tr>\n    <tr>\n      <th>2020</th>\n      <th>0.737543</th>\n      <th>0.159000</th>\n      <th>Yavatmal</th>\n      <td>22.046667</td>\n      <td>52.716279</td>\n      <td>1734.0</td>\n    </tr>\n    <tr>\n      <th rowspan=\"2\" valign=\"top\">Zunheboto</th>\n      <th rowspan=\"2\" valign=\"top\">NL</th>\n      <th>2016</th>\n      <th>0.096625</th>\n      <th>0.243050</th>\n      <th>Zunheboto</th>\n      <td>13.666667</td>\n      <td>24.922222</td>\n      <td>10499.0</td>\n    </tr>\n    <tr>\n      <th>2020</th>\n      <th>0.421629</th>\n      <th>0.297988</th>\n      <th>Zunheboto</th>\n      <td>20.276667</td>\n      <td>37.147619</td>\n      <td>7554.0</td>\n    </tr>\n  </tbody>\n</table>\n<p>568 rows × 3 columns</p>\n</div>"
     },
     "metadata": {},
     "execution_count": 248
    }
   ],
   "source": [
    "t=df_final.set_index(['district','states','year','class','nl_value','rf_value','districts_for_merging'])\n",
    "t=t.unstack(3)\n",
    "t"
   ]
  },
  {
   "cell_type": "code",
   "execution_count": 249,
   "metadata": {},
   "outputs": [],
   "source": [
    "t.to_csv('final_negative_positive_classes.csv')"
   ]
  },
  {
   "cell_type": "code",
   "execution_count": 230,
   "metadata": {},
   "outputs": [],
   "source": [
    "t=pd.read_csv('final_negative_positive_classes.csv')"
   ]
  },
  {
   "cell_type": "code",
   "execution_count": 232,
   "metadata": {},
   "outputs": [
    {
     "output_type": "execute_result",
     "data": {
      "text/plain": [
       "Kiphire                 2\n",
       "Vizianagaram            2\n",
       "Anantnag                2\n",
       "East District           2\n",
       "Gulbarga                2\n",
       "                       ..\n",
       "Dadra _ Nagar Haveli    1\n",
       "Punch                   1\n",
       "Kathua                  1\n",
       "Vikarabad               1\n",
       "Thoubal                 1\n",
       "Name: district, Length: 304, dtype: int64"
      ]
     },
     "metadata": {},
     "execution_count": 232
    }
   ],
   "source": [
    "t.district.value_counts()"
   ]
  },
  {
   "cell_type": "code",
   "execution_count": 233,
   "metadata": {},
   "outputs": [
    {
     "output_type": "execute_result",
     "data": {
      "text/plain": [
       "Aurangabad        4\n",
       "Bilaspur          3\n",
       "Raigarh           3\n",
       "Bijapur           3\n",
       "Hamirpur          3\n",
       "                 ..\n",
       "Kathua            1\n",
       "Punch             1\n",
       "Vikarabad         1\n",
       "Warangal Rural    1\n",
       "Nirmal            1\n",
       "Name: District, Length: 304, dtype: int64"
      ]
     },
     "metadata": {},
     "execution_count": 233
    }
   ],
   "source": [
    "df_new1.District.value_counts()"
   ]
  },
  {
   "cell_type": "code",
   "execution_count": 182,
   "metadata": {},
   "outputs": [
    {
     "output_type": "stream",
     "name": "stdout",
     "text": [
      "1\n22\n"
     ]
    }
   ],
   "source": [
    "n=int(input())\n",
    "num=0\n",
    "for i in range(1,n):\n",
    "    print(i*(num*10+1))\n",
    "    num=num*10+1\n",
    "    "
   ]
  },
  {
   "cell_type": "code",
   "execution_count": null,
   "metadata": {},
   "outputs": [],
   "source": [
    "temp=s.split('-')\n",
    "temp=temp[1:]\n",
    "s=''.join(temp)\n",
    "\n"
   ]
  },
  {
   "cell_type": "code",
   "execution_count": 183,
   "metadata": {},
   "outputs": [
    {
     "output_type": "error",
     "ename": "SyntaxError",
     "evalue": "invalid syntax (<ipython-input-183-30bbf67e5823>, line 2)",
     "traceback": [
      "\u001b[1;36m  File \u001b[1;32m\"<ipython-input-183-30bbf67e5823>\"\u001b[1;36m, line \u001b[1;32m2\u001b[0m\n\u001b[1;33m    for loop\u001b[0m\n\u001b[1;37m             ^\u001b[0m\n\u001b[1;31mSyntaxError\u001b[0m\u001b[1;31m:\u001b[0m invalid syntax\n"
     ]
    }
   ],
   "source": [
    "#make the duplicate column of cati name so that you get the ictos with the spelling that occurs in the dataset column\n",
    "new_df['uid']=new_df['Cati_name']\n",
    "new_df.merge(df2,on='uid')\n",
    "\n",
    "#original spelling and ictos\n",
    "new_df['column']=new_df['Cati_name']+'('+new_df['ICTO'].apply(str)+')'\n",
    "list_of_cati=list(new_df['cati_name'])\n",
    "list_of_unique_cati=list(new_df['cati_name'].unique())\n",
    "list_of_replacements=list(new_df['new_column'])###(none)\n",
    "\n",
    "\n",
    "for i in range(len(list_of_cati)):\n",
    "    if('ICTO' in i):\n",
    "        d[list_of_cati[i]]=list_of_replacements[i]# mapping it to the replacement string if ICTO present\n",
    "    else:\n",
    "        d[list_of_cati[i]]=list_of_cati[i]# mapping it to itself if it ICTO not in the replacement string\n",
    "\n",
    "\n",
    "\n",
    "\n",
    "for i in range(df.shape[0]):\n",
    "    s=df.dataset_for_col.iat[i]\n",
    "    for name in list_of_unique_cati:\n",
    "        if(name in s):\n",
    "            new_string=s.replace(name,d[name])\n",
    "            df.dataset_for_col.iat[i]=new_string\n",
    "\n",
    "    \n",
    "\n",
    "\n",
    "#d['original name'] will output new_name\n"
   ]
  },
  {
   "cell_type": "code",
   "execution_count": 184,
   "metadata": {},
   "outputs": [],
   "source": [
    "d={'1':2}"
   ]
  },
  {
   "cell_type": "code",
   "execution_count": 185,
   "metadata": {},
   "outputs": [
    {
     "output_type": "execute_result",
     "data": {
      "text/plain": [
       "2"
      ]
     },
     "metadata": {},
     "execution_count": 185
    }
   ],
   "source": [
    "d['1']"
   ]
  },
  {
   "cell_type": "code",
   "execution_count": null,
   "metadata": {},
   "outputs": [],
   "source": [
    "for i in range(len(l)):\n",
    "    if(l[i][0]==' '):\n",
    "        l[0]=l[0][1:]\n",
    "    if(l[i][-1]==' '):\n",
    "        l[i]=l[i][:len(l[i])-1]    "
   ]
  },
  {
   "cell_type": "code",
   "execution_count": null,
   "metadata": {},
   "outputs": [],
   "source": []
  }
 ]
}