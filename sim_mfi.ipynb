{
 "metadata": {
  "language_info": {
   "codemirror_mode": {
    "name": "ipython",
    "version": 3
   },
   "file_extension": ".py",
   "mimetype": "text/x-python",
   "name": "python",
   "nbconvert_exporter": "python",
   "pygments_lexer": "ipython3",
   "version": "3.8.6-final"
  },
  "orig_nbformat": 2,
  "kernelspec": {
   "name": "python3",
   "display_name": "Python 3.8.6 64-bit",
   "metadata": {
    "interpreter": {
     "hash": "d8dc644a2f4650b352d48a0e58948df6a64c7d0e27317d9d7e6cc37934e44628"
    }
   }
  }
 },
 "nbformat": 4,
 "nbformat_minor": 2,
 "cells": [
  {
   "cell_type": "code",
   "execution_count": 10,
   "metadata": {},
   "outputs": [],
   "source": [
    "import pandas as pd\n",
    "import os\n",
    "os.chdir('C:\\\\Users\\\\akhil\\\\Downloads')\n",
    "df=pd.read_stata('MFI_cnt.dta')"
   ]
  },
  {
   "cell_type": "code",
   "execution_count": 11,
   "metadata": {},
   "outputs": [],
   "source": [
    "districts=pd.read_csv('districts2.csv')"
   ]
  },
  {
   "cell_type": "code",
   "execution_count": 12,
   "metadata": {},
   "outputs": [],
   "source": [
    "border=districts[districts['border']==1]"
   ]
  },
  {
   "cell_type": "code",
   "execution_count": 13,
   "metadata": {},
   "outputs": [],
   "source": [
    "mfi=df.merge(border,on='district')"
   ]
  },
  {
   "cell_type": "code",
   "execution_count": 37,
   "metadata": {},
   "outputs": [
    {
     "output_type": "execute_result",
     "data": {
      "text/plain": [
       "        night_lights  qrt_yr  district  rainfall  unnamed0  \\\n",
       "0           2.323529  2018Q2      AGRA  0.041636      5164   \n",
       "1           1.793267  2018Q3      AGRA  0.349963     13989   \n",
       "2           2.983452  2018Q4      AGRA  0.005660     21595   \n",
       "3           2.879875  2019Q1      AGRA  0.025102     11788   \n",
       "4           2.435467  2019Q2      AGRA  0.029124     29990   \n",
       "...              ...     ...       ...       ...       ...   \n",
       "188155      0.826344  2020Q1  YAVATMAL  0.025320     22338   \n",
       "188156      0.826344  2020Q1  YAVATMAL  0.025320     46363   \n",
       "188157      0.826344  2020Q1  YAVATMAL  0.025320     46356   \n",
       "188158      0.826344  2020Q1  YAVATMAL  0.025320     46364   \n",
       "188159      0.826344  2020Q1  YAVATMAL  0.025320     35314   \n",
       "\n",
       "       disbursal_period_actual quarterofbookclosingperoid state  \\\n",
       "0              FY 2017-2018 Q1                         Q2    UP   \n",
       "1            BEFORE FY 2017-18                         Q3    UP   \n",
       "2            BEFORE FY 2017-18                         Q4    UP   \n",
       "3              FY 2017-2018 Q4                         Q1    UP   \n",
       "4              FY 2017-2018 Q1                         Q2    UP   \n",
       "...                        ...                        ...   ...   \n",
       "188155         FY 2018-2019 Q2                         Q1    MH   \n",
       "188156         FY 2017-2018 Q1                         Q1    MH   \n",
       "188157         FY 2017-2018 Q1                         Q1    MH   \n",
       "188158         FY 2017-2018 Q1                         Q1    MH   \n",
       "188159         FY 2017-2018 Q4                         Q1    MH   \n",
       "\n",
       "       ru_classification lendertype  ...  PB  PY  RJ  SK  TN  TR  TS  UK  UP  \\\n",
       "0                            Others  ...   0   0   1   0   0   0   0   0   0   \n",
       "1                  Rural     Others  ...   0   0   1   0   0   0   0   0   0   \n",
       "2                  Rural       SFBs  ...   0   0   1   0   0   0   0   0   0   \n",
       "3             Semi-Urban     Others  ...   0   0   1   0   0   0   0   0   0   \n",
       "4                             Banks  ...   0   0   1   0   0   0   0   0   0   \n",
       "...                  ...        ...  ...  ..  ..  ..  ..  ..  ..  ..  ..  ..   \n",
       "188155             Urban       SFBs  ...   0   0   0   0   0   0   1   0   0   \n",
       "188156        Semi-Urban       SFBs  ...   0   0   0   0   0   0   1   0   0   \n",
       "188157                         SFBs  ...   0   0   0   0   0   0   1   0   0   \n",
       "188158        Semi-Urban   NBFC MFI  ...   0   0   0   0   0   0   1   0   0   \n",
       "188159        Semi-Urban     Others  ...   0   0   0   0   0   0   1   0   0   \n",
       "\n",
       "        WB  \n",
       "0        0  \n",
       "1        0  \n",
       "2        0  \n",
       "3        0  \n",
       "4        0  \n",
       "...     ..  \n",
       "188155   0  \n",
       "188156   0  \n",
       "188157   0  \n",
       "188158   0  \n",
       "188159   0  \n",
       "\n",
       "[188160 rows x 122 columns]"
      ],
      "text/html": "<div>\n<style scoped>\n    .dataframe tbody tr th:only-of-type {\n        vertical-align: middle;\n    }\n\n    .dataframe tbody tr th {\n        vertical-align: top;\n    }\n\n    .dataframe thead th {\n        text-align: right;\n    }\n</style>\n<table border=\"1\" class=\"dataframe\">\n  <thead>\n    <tr style=\"text-align: right;\">\n      <th></th>\n      <th>night_lights</th>\n      <th>qrt_yr</th>\n      <th>district</th>\n      <th>rainfall</th>\n      <th>unnamed0</th>\n      <th>disbursal_period_actual</th>\n      <th>quarterofbookclosingperoid</th>\n      <th>state</th>\n      <th>ru_classification</th>\n      <th>lendertype</th>\n      <th>...</th>\n      <th>PB</th>\n      <th>PY</th>\n      <th>RJ</th>\n      <th>SK</th>\n      <th>TN</th>\n      <th>TR</th>\n      <th>TS</th>\n      <th>UK</th>\n      <th>UP</th>\n      <th>WB</th>\n    </tr>\n  </thead>\n  <tbody>\n    <tr>\n      <th>0</th>\n      <td>2.323529</td>\n      <td>2018Q2</td>\n      <td>AGRA</td>\n      <td>0.041636</td>\n      <td>5164</td>\n      <td>FY 2017-2018 Q1</td>\n      <td>Q2</td>\n      <td>UP</td>\n      <td></td>\n      <td>Others</td>\n      <td>...</td>\n      <td>0</td>\n      <td>0</td>\n      <td>1</td>\n      <td>0</td>\n      <td>0</td>\n      <td>0</td>\n      <td>0</td>\n      <td>0</td>\n      <td>0</td>\n      <td>0</td>\n    </tr>\n    <tr>\n      <th>1</th>\n      <td>1.793267</td>\n      <td>2018Q3</td>\n      <td>AGRA</td>\n      <td>0.349963</td>\n      <td>13989</td>\n      <td>BEFORE FY 2017-18</td>\n      <td>Q3</td>\n      <td>UP</td>\n      <td>Rural</td>\n      <td>Others</td>\n      <td>...</td>\n      <td>0</td>\n      <td>0</td>\n      <td>1</td>\n      <td>0</td>\n      <td>0</td>\n      <td>0</td>\n      <td>0</td>\n      <td>0</td>\n      <td>0</td>\n      <td>0</td>\n    </tr>\n    <tr>\n      <th>2</th>\n      <td>2.983452</td>\n      <td>2018Q4</td>\n      <td>AGRA</td>\n      <td>0.005660</td>\n      <td>21595</td>\n      <td>BEFORE FY 2017-18</td>\n      <td>Q4</td>\n      <td>UP</td>\n      <td>Rural</td>\n      <td>SFBs</td>\n      <td>...</td>\n      <td>0</td>\n      <td>0</td>\n      <td>1</td>\n      <td>0</td>\n      <td>0</td>\n      <td>0</td>\n      <td>0</td>\n      <td>0</td>\n      <td>0</td>\n      <td>0</td>\n    </tr>\n    <tr>\n      <th>3</th>\n      <td>2.879875</td>\n      <td>2019Q1</td>\n      <td>AGRA</td>\n      <td>0.025102</td>\n      <td>11788</td>\n      <td>FY 2017-2018 Q4</td>\n      <td>Q1</td>\n      <td>UP</td>\n      <td>Semi-Urban</td>\n      <td>Others</td>\n      <td>...</td>\n      <td>0</td>\n      <td>0</td>\n      <td>1</td>\n      <td>0</td>\n      <td>0</td>\n      <td>0</td>\n      <td>0</td>\n      <td>0</td>\n      <td>0</td>\n      <td>0</td>\n    </tr>\n    <tr>\n      <th>4</th>\n      <td>2.435467</td>\n      <td>2019Q2</td>\n      <td>AGRA</td>\n      <td>0.029124</td>\n      <td>29990</td>\n      <td>FY 2017-2018 Q1</td>\n      <td>Q2</td>\n      <td>UP</td>\n      <td></td>\n      <td>Banks</td>\n      <td>...</td>\n      <td>0</td>\n      <td>0</td>\n      <td>1</td>\n      <td>0</td>\n      <td>0</td>\n      <td>0</td>\n      <td>0</td>\n      <td>0</td>\n      <td>0</td>\n      <td>0</td>\n    </tr>\n    <tr>\n      <th>...</th>\n      <td>...</td>\n      <td>...</td>\n      <td>...</td>\n      <td>...</td>\n      <td>...</td>\n      <td>...</td>\n      <td>...</td>\n      <td>...</td>\n      <td>...</td>\n      <td>...</td>\n      <td>...</td>\n      <td>...</td>\n      <td>...</td>\n      <td>...</td>\n      <td>...</td>\n      <td>...</td>\n      <td>...</td>\n      <td>...</td>\n      <td>...</td>\n      <td>...</td>\n      <td>...</td>\n    </tr>\n    <tr>\n      <th>188155</th>\n      <td>0.826344</td>\n      <td>2020Q1</td>\n      <td>YAVATMAL</td>\n      <td>0.025320</td>\n      <td>22338</td>\n      <td>FY 2018-2019 Q2</td>\n      <td>Q1</td>\n      <td>MH</td>\n      <td>Urban</td>\n      <td>SFBs</td>\n      <td>...</td>\n      <td>0</td>\n      <td>0</td>\n      <td>0</td>\n      <td>0</td>\n      <td>0</td>\n      <td>0</td>\n      <td>1</td>\n      <td>0</td>\n      <td>0</td>\n      <td>0</td>\n    </tr>\n    <tr>\n      <th>188156</th>\n      <td>0.826344</td>\n      <td>2020Q1</td>\n      <td>YAVATMAL</td>\n      <td>0.025320</td>\n      <td>46363</td>\n      <td>FY 2017-2018 Q1</td>\n      <td>Q1</td>\n      <td>MH</td>\n      <td>Semi-Urban</td>\n      <td>SFBs</td>\n      <td>...</td>\n      <td>0</td>\n      <td>0</td>\n      <td>0</td>\n      <td>0</td>\n      <td>0</td>\n      <td>0</td>\n      <td>1</td>\n      <td>0</td>\n      <td>0</td>\n      <td>0</td>\n    </tr>\n    <tr>\n      <th>188157</th>\n      <td>0.826344</td>\n      <td>2020Q1</td>\n      <td>YAVATMAL</td>\n      <td>0.025320</td>\n      <td>46356</td>\n      <td>FY 2017-2018 Q1</td>\n      <td>Q1</td>\n      <td>MH</td>\n      <td></td>\n      <td>SFBs</td>\n      <td>...</td>\n      <td>0</td>\n      <td>0</td>\n      <td>0</td>\n      <td>0</td>\n      <td>0</td>\n      <td>0</td>\n      <td>1</td>\n      <td>0</td>\n      <td>0</td>\n      <td>0</td>\n    </tr>\n    <tr>\n      <th>188158</th>\n      <td>0.826344</td>\n      <td>2020Q1</td>\n      <td>YAVATMAL</td>\n      <td>0.025320</td>\n      <td>46364</td>\n      <td>FY 2017-2018 Q1</td>\n      <td>Q1</td>\n      <td>MH</td>\n      <td>Semi-Urban</td>\n      <td>NBFC MFI</td>\n      <td>...</td>\n      <td>0</td>\n      <td>0</td>\n      <td>0</td>\n      <td>0</td>\n      <td>0</td>\n      <td>0</td>\n      <td>1</td>\n      <td>0</td>\n      <td>0</td>\n      <td>0</td>\n    </tr>\n    <tr>\n      <th>188159</th>\n      <td>0.826344</td>\n      <td>2020Q1</td>\n      <td>YAVATMAL</td>\n      <td>0.025320</td>\n      <td>35314</td>\n      <td>FY 2017-2018 Q4</td>\n      <td>Q1</td>\n      <td>MH</td>\n      <td>Semi-Urban</td>\n      <td>Others</td>\n      <td>...</td>\n      <td>0</td>\n      <td>0</td>\n      <td>0</td>\n      <td>0</td>\n      <td>0</td>\n      <td>0</td>\n      <td>1</td>\n      <td>0</td>\n      <td>0</td>\n      <td>0</td>\n    </tr>\n  </tbody>\n</table>\n<p>188160 rows × 122 columns</p>\n</div>"
     },
     "metadata": {},
     "execution_count": 37
    }
   ],
   "source": [
    "mfi"
   ]
  },
  {
   "cell_type": "code",
   "execution_count": 15,
   "metadata": {},
   "outputs": [],
   "source": [
    "new_cols=['night_lights','rainfall','yearofbookclosingperoid', 'quarterofbookclosingperoid','state','district','ru_classification','lendertype','volume_def','val_def','post','int_ay','qrt_yr','pre_lend','avgticketsize','AN', 'AP', 'AR', 'AS', 'BR', 'CG', 'CH', 'DD', 'DL', 'DN', 'GA', 'GJ', 'HP', 'HR', 'JH', 'JK', 'KA', 'KL', 'LD', 'MH', 'ML', 'MN', 'MP', 'MZ', 'NL', 'OR', 'PB', 'PY', 'RJ', 'SK', 'TN', 'TR', 'TS', 'UK', 'UP', 'WB','border_y']"
   ]
  },
  {
   "cell_type": "code",
   "execution_count": 16,
   "metadata": {},
   "outputs": [],
   "source": [
    "mfi_final=mfi[new_cols]"
   ]
  },
  {
   "cell_type": "code",
   "execution_count": 17,
   "metadata": {},
   "outputs": [],
   "source": [
    "mfi_final=mfi_final=mfi_final[mfi_final['pre_lend']==1]"
   ]
  },
  {
   "cell_type": "code",
   "execution_count": 18,
   "metadata": {},
   "outputs": [],
   "source": [
    "for i in range(mfi_final.shape[0]):\n",
    "    mfi_final[mfi_final.state.iloc[i]].iloc[i]=1"
   ]
  },
  {
   "cell_type": "code",
   "execution_count": 19,
   "metadata": {},
   "outputs": [],
   "source": [
    "mainl=[]\n",
    "df1=mfi_final\n",
    "for district in list(df1.district.unique()):\n",
    "    temp=df1[df1['district']==district]\n",
    "    l=[temp.state.iloc[0],district]\n",
    "    l.append(temp['volume_def'].mean())\n",
    "    l.append(temp['val_def'].mean())\n",
    "    mainl.append(l)\n",
    "df_district=pd.DataFrame(mainl,columns=['State','district','volume_def','val_def'])"
   ]
  },
  {
   "cell_type": "code",
   "execution_count": 22,
   "metadata": {},
   "outputs": [],
   "source": [
    "df_new=df_district.merge(border,on='district')"
   ]
  },
  {
   "cell_type": "code",
   "execution_count": 25,
   "metadata": {},
   "outputs": [],
   "source": [
    "df_new\n",
    "for i in range(df_new.shape[0]):\n",
    "    df_new[df_new.State.iloc[i]].iloc[i]=1"
   ]
  },
  {
   "cell_type": "code",
   "execution_count": 26,
   "metadata": {},
   "outputs": [
    {
     "output_type": "execute_result",
     "data": {
      "text/plain": [
       "    State     district  volume_def   val_def  Unnamed: 0 states  border  AN  \\\n",
       "0      UP         AGRA    0.266937  0.292726         568     UP       1   0   \n",
       "1      MZ       AIZAWL    0.072608  0.083585         397     MZ       1   0   \n",
       "2      UP      ALIGARH    0.241462  0.263072         569     UP       1   0   \n",
       "3      MP    ALIRAJPUR    0.074593  0.087188         347     MP       1   0   \n",
       "4      RJ        ALWAR    0.169543  0.193443         473     RJ       1   0   \n",
       "..    ...          ...         ...       ...         ...    ...     ...  ..   \n",
       "332    NL        WOKHA    0.035189  0.035884         414     NL       1   0   \n",
       "333    KA       YADGIR    0.060910  0.070782         279     KA       1   0   \n",
       "334    HR  YAMUNANAGAR    0.105533  0.116101         204     HR       1   0   \n",
       "335    PY        YANAM    0.695652  0.695652         471     PY       1   0   \n",
       "336    MH     YAVATMAL    0.256502  0.291536         327     MH       1   0   \n",
       "\n",
       "     AP  AR  ...  PB  PY  RJ  SK  TN  TR  TS  UK  UP  WB  \n",
       "0     0   0  ...   0   0   1   0   0   0   0   0   1   0  \n",
       "1     0   0  ...   0   0   0   0   0   0   0   0   0   0  \n",
       "2     0   0  ...   0   0   0   0   0   0   0   0   1   0  \n",
       "3     0   0  ...   0   0   0   0   0   0   0   0   0   0  \n",
       "4     0   0  ...   0   0   1   0   0   0   0   0   0   0  \n",
       "..   ..  ..  ...  ..  ..  ..  ..  ..  ..  ..  ..  ..  ..  \n",
       "332   0   0  ...   0   0   0   0   0   0   0   0   0   0  \n",
       "333   0   0  ...   0   0   0   0   0   0   1   0   0   0  \n",
       "334   0   0  ...   0   0   0   0   0   0   0   0   1   0  \n",
       "335   1   0  ...   0   1   0   0   0   0   0   0   0   0  \n",
       "336   0   0  ...   0   0   0   0   0   0   1   0   0   0  \n",
       "\n",
       "[337 rows x 43 columns]"
      ],
      "text/html": "<div>\n<style scoped>\n    .dataframe tbody tr th:only-of-type {\n        vertical-align: middle;\n    }\n\n    .dataframe tbody tr th {\n        vertical-align: top;\n    }\n\n    .dataframe thead th {\n        text-align: right;\n    }\n</style>\n<table border=\"1\" class=\"dataframe\">\n  <thead>\n    <tr style=\"text-align: right;\">\n      <th></th>\n      <th>State</th>\n      <th>district</th>\n      <th>volume_def</th>\n      <th>val_def</th>\n      <th>Unnamed: 0</th>\n      <th>states</th>\n      <th>border</th>\n      <th>AN</th>\n      <th>AP</th>\n      <th>AR</th>\n      <th>...</th>\n      <th>PB</th>\n      <th>PY</th>\n      <th>RJ</th>\n      <th>SK</th>\n      <th>TN</th>\n      <th>TR</th>\n      <th>TS</th>\n      <th>UK</th>\n      <th>UP</th>\n      <th>WB</th>\n    </tr>\n  </thead>\n  <tbody>\n    <tr>\n      <th>0</th>\n      <td>UP</td>\n      <td>AGRA</td>\n      <td>0.266937</td>\n      <td>0.292726</td>\n      <td>568</td>\n      <td>UP</td>\n      <td>1</td>\n      <td>0</td>\n      <td>0</td>\n      <td>0</td>\n      <td>...</td>\n      <td>0</td>\n      <td>0</td>\n      <td>1</td>\n      <td>0</td>\n      <td>0</td>\n      <td>0</td>\n      <td>0</td>\n      <td>0</td>\n      <td>1</td>\n      <td>0</td>\n    </tr>\n    <tr>\n      <th>1</th>\n      <td>MZ</td>\n      <td>AIZAWL</td>\n      <td>0.072608</td>\n      <td>0.083585</td>\n      <td>397</td>\n      <td>MZ</td>\n      <td>1</td>\n      <td>0</td>\n      <td>0</td>\n      <td>0</td>\n      <td>...</td>\n      <td>0</td>\n      <td>0</td>\n      <td>0</td>\n      <td>0</td>\n      <td>0</td>\n      <td>0</td>\n      <td>0</td>\n      <td>0</td>\n      <td>0</td>\n      <td>0</td>\n    </tr>\n    <tr>\n      <th>2</th>\n      <td>UP</td>\n      <td>ALIGARH</td>\n      <td>0.241462</td>\n      <td>0.263072</td>\n      <td>569</td>\n      <td>UP</td>\n      <td>1</td>\n      <td>0</td>\n      <td>0</td>\n      <td>0</td>\n      <td>...</td>\n      <td>0</td>\n      <td>0</td>\n      <td>0</td>\n      <td>0</td>\n      <td>0</td>\n      <td>0</td>\n      <td>0</td>\n      <td>0</td>\n      <td>1</td>\n      <td>0</td>\n    </tr>\n    <tr>\n      <th>3</th>\n      <td>MP</td>\n      <td>ALIRAJPUR</td>\n      <td>0.074593</td>\n      <td>0.087188</td>\n      <td>347</td>\n      <td>MP</td>\n      <td>1</td>\n      <td>0</td>\n      <td>0</td>\n      <td>0</td>\n      <td>...</td>\n      <td>0</td>\n      <td>0</td>\n      <td>0</td>\n      <td>0</td>\n      <td>0</td>\n      <td>0</td>\n      <td>0</td>\n      <td>0</td>\n      <td>0</td>\n      <td>0</td>\n    </tr>\n    <tr>\n      <th>4</th>\n      <td>RJ</td>\n      <td>ALWAR</td>\n      <td>0.169543</td>\n      <td>0.193443</td>\n      <td>473</td>\n      <td>RJ</td>\n      <td>1</td>\n      <td>0</td>\n      <td>0</td>\n      <td>0</td>\n      <td>...</td>\n      <td>0</td>\n      <td>0</td>\n      <td>1</td>\n      <td>0</td>\n      <td>0</td>\n      <td>0</td>\n      <td>0</td>\n      <td>0</td>\n      <td>0</td>\n      <td>0</td>\n    </tr>\n    <tr>\n      <th>...</th>\n      <td>...</td>\n      <td>...</td>\n      <td>...</td>\n      <td>...</td>\n      <td>...</td>\n      <td>...</td>\n      <td>...</td>\n      <td>...</td>\n      <td>...</td>\n      <td>...</td>\n      <td>...</td>\n      <td>...</td>\n      <td>...</td>\n      <td>...</td>\n      <td>...</td>\n      <td>...</td>\n      <td>...</td>\n      <td>...</td>\n      <td>...</td>\n      <td>...</td>\n      <td>...</td>\n    </tr>\n    <tr>\n      <th>332</th>\n      <td>NL</td>\n      <td>WOKHA</td>\n      <td>0.035189</td>\n      <td>0.035884</td>\n      <td>414</td>\n      <td>NL</td>\n      <td>1</td>\n      <td>0</td>\n      <td>0</td>\n      <td>0</td>\n      <td>...</td>\n      <td>0</td>\n      <td>0</td>\n      <td>0</td>\n      <td>0</td>\n      <td>0</td>\n      <td>0</td>\n      <td>0</td>\n      <td>0</td>\n      <td>0</td>\n      <td>0</td>\n    </tr>\n    <tr>\n      <th>333</th>\n      <td>KA</td>\n      <td>YADGIR</td>\n      <td>0.060910</td>\n      <td>0.070782</td>\n      <td>279</td>\n      <td>KA</td>\n      <td>1</td>\n      <td>0</td>\n      <td>0</td>\n      <td>0</td>\n      <td>...</td>\n      <td>0</td>\n      <td>0</td>\n      <td>0</td>\n      <td>0</td>\n      <td>0</td>\n      <td>0</td>\n      <td>1</td>\n      <td>0</td>\n      <td>0</td>\n      <td>0</td>\n    </tr>\n    <tr>\n      <th>334</th>\n      <td>HR</td>\n      <td>YAMUNANAGAR</td>\n      <td>0.105533</td>\n      <td>0.116101</td>\n      <td>204</td>\n      <td>HR</td>\n      <td>1</td>\n      <td>0</td>\n      <td>0</td>\n      <td>0</td>\n      <td>...</td>\n      <td>0</td>\n      <td>0</td>\n      <td>0</td>\n      <td>0</td>\n      <td>0</td>\n      <td>0</td>\n      <td>0</td>\n      <td>0</td>\n      <td>1</td>\n      <td>0</td>\n    </tr>\n    <tr>\n      <th>335</th>\n      <td>PY</td>\n      <td>YANAM</td>\n      <td>0.695652</td>\n      <td>0.695652</td>\n      <td>471</td>\n      <td>PY</td>\n      <td>1</td>\n      <td>0</td>\n      <td>1</td>\n      <td>0</td>\n      <td>...</td>\n      <td>0</td>\n      <td>1</td>\n      <td>0</td>\n      <td>0</td>\n      <td>0</td>\n      <td>0</td>\n      <td>0</td>\n      <td>0</td>\n      <td>0</td>\n      <td>0</td>\n    </tr>\n    <tr>\n      <th>336</th>\n      <td>MH</td>\n      <td>YAVATMAL</td>\n      <td>0.256502</td>\n      <td>0.291536</td>\n      <td>327</td>\n      <td>MH</td>\n      <td>1</td>\n      <td>0</td>\n      <td>0</td>\n      <td>0</td>\n      <td>...</td>\n      <td>0</td>\n      <td>0</td>\n      <td>0</td>\n      <td>0</td>\n      <td>0</td>\n      <td>0</td>\n      <td>1</td>\n      <td>0</td>\n      <td>0</td>\n      <td>0</td>\n    </tr>\n  </tbody>\n</table>\n<p>337 rows × 43 columns</p>\n</div>"
     },
     "metadata": {},
     "execution_count": 26
    }
   ],
   "source": [
    "df_new"
   ]
  },
  {
   "cell_type": "code",
   "execution_count": 92,
   "metadata": {},
   "outputs": [],
   "source": [
    "def get_sim(df2):\n",
    "    df_result=pd.DataFrame()\n",
    "    max_no=1\n",
    "    c=0\n",
    "    for i in range(df2.shape[0]):\n",
    "        n=df2.volume_def.iloc[i]\n",
    "        new=df2[(df2['val_def']>=n-float(0.01))&(df2['val_def']<=n)]\n",
    "        if(max_no<new.shape[0] and len(df2.State.unique())>=2):\n",
    "            df_result=new\n",
    "            max_no=df_result.shape[0]\n",
    "        new=df2[(df2['val_def']<=n+float(0.01))&(df2['val_def']>=n)]\n",
    "        if(max_no<new.shape[0]and len(df2.State.unique())>=2):\n",
    "            df_result=new\n",
    "            max_no=df_result.shape[0]\n",
    "        new=df2[df2['val_def']>=n-float(0.005)]\n",
    "        new=new[new['val_def']<=n+float(0.005)]\n",
    "        if(max_no<new.shape[0]and len(df2.State.unique())>=2):\n",
    "            df_result=new\n",
    "            max_no=df_result.shape[0]\n",
    "        c+=1\n",
    "    \n",
    "    return df_result\n",
    "\n",
    "def get_sim_v2(df2,state):\n",
    "    df_result=pd.DataFrame()\n",
    "    max_no=1\n",
    "    c=0\n",
    "    for i in range(df2.shape[0]):\n",
    "        n=df2.volume_def.iloc[i]\n",
    "        new=df2[(df2['val_def']>=n-float(0.01))&(df2['val_def']<=n)]\n",
    "        if(max_no<new.shape[0]and len(new.State.unique())>=2) and (state in list(new.State.unique())):\n",
    "            df_result=new\n",
    "            max_no=df_result.shape[0]\n",
    "        new=df2[(df2['val_def']<=n+float(0.01))&(df2['val_def']>=n)]\n",
    "        if(max_no<new.shape[0]and len(new.State.unique())>=2) and (state in list(new.State.unique())):\n",
    "            df_result=new\n",
    "            max_no=df_result.shape[0]\n",
    "        #new=df2[df2['volume_def']>=n-float(0.005)]\n",
    "        #new=new[new['volume_def']<=n+float(0.005)]\n",
    "        #if(max_no<new.shape[0]and len(new.State.unique())>=2) and (state in list(new.State.unique())):\n",
    "            #df_result=new\n",
    "            #max_no=df_result.shape[0]\n",
    "        c+=1\n",
    "    \n",
    "    return df_result\n",
    "\n",
    "def get_sim_border(df,state):\n",
    "    df=df[df[state]==1]\n",
    "    border_states=list(df[df['State']!=state].State.unique())\n",
    "    df_sim=pd.DataFrame(columns=list(df.columns[:5]))\n",
    "    borders=[]\n",
    "    for border_state in border_states:\n",
    "        df_border_districts=df[df['State']==state].append(df[df['State']==border_state])\n",
    "        df_border_districts=df_border_districts[df_border_districts[border_state]==1]\n",
    "        df_sim_border=get_sim(df_border_districts)\n",
    "        df_sim_border.reset_index(inplace=True)\n",
    "        df_sim_border=df_sim_border[list(df_sim_border.columns[:5])]\n",
    "        borders=[state+'&'+border_state]*df_sim_border.shape[0]\n",
    "        df_sim_border['Border']=borders\n",
    "        df_sim=df_sim.append(df_sim_border)\n",
    "    \n",
    "    return df_sim\n",
    "def get_sim_borderv2(df,state):\n",
    "    df=df[df[state]==1]\n",
    "    border_states=list(df[df['State']!=state].State.unique())\n",
    "    df_sim=pd.DataFrame(columns=list(df.columns[:5]))\n",
    "    borders=[]\n",
    "    \n",
    "    df_sim_border=get_sim_v2(df,state)\n",
    "    df_sim_border.reset_index(inplace=True)\n",
    "    df_sim_border=df_sim_border[list(df_sim_border.columns[:5])]\n",
    "    borders=[state]*df_sim_border.shape[0]\n",
    "    df_sim_border['Border']=borders\n",
    "    df_sim=df_sim.append(df_sim_border)\n",
    "    \n",
    "    return df_sim\n",
    "\n",
    "def get_sim_border_between_2_states(df,state1,state2):\n",
    "    df=df[df[state]==1]\n",
    "    border_states=list(df[df['State']!=state].State.unique())\n",
    "    df_sim=pd.DataFrame(columns=df.columns)\n",
    "    df_border_districts=df[df['State']==state].append(df[df['State']==border_state])\n",
    "    df_border_districts=df_border_districts[df_border_districts[border_state]==1]\n",
    "    df_sim_border=get_sim(df_border_districts)\n",
    "    \n",
    "    df_sim=df_sim.append(df_sim_border)\n",
    "        \n",
    "    return df_sim"
   ]
  },
  {
   "cell_type": "code",
   "execution_count": 93,
   "metadata": {},
   "outputs": [
    {
     "output_type": "execute_result",
     "data": {
      "text/plain": [
       "  State district  volume_def   val_def Unnamed: 0  index Border\n",
       "0    DL  CENTRAL    0.194470  0.197286        NaN   49.0     DL\n",
       "1    HR  JHAJJAR    0.188719  0.204285        NaN  135.0     DL"
      ],
      "text/html": "<div>\n<style scoped>\n    .dataframe tbody tr th:only-of-type {\n        vertical-align: middle;\n    }\n\n    .dataframe tbody tr th {\n        vertical-align: top;\n    }\n\n    .dataframe thead th {\n        text-align: right;\n    }\n</style>\n<table border=\"1\" class=\"dataframe\">\n  <thead>\n    <tr style=\"text-align: right;\">\n      <th></th>\n      <th>State</th>\n      <th>district</th>\n      <th>volume_def</th>\n      <th>val_def</th>\n      <th>Unnamed: 0</th>\n      <th>index</th>\n      <th>Border</th>\n    </tr>\n  </thead>\n  <tbody>\n    <tr>\n      <th>0</th>\n      <td>DL</td>\n      <td>CENTRAL</td>\n      <td>0.194470</td>\n      <td>0.197286</td>\n      <td>NaN</td>\n      <td>49.0</td>\n      <td>DL</td>\n    </tr>\n    <tr>\n      <th>1</th>\n      <td>HR</td>\n      <td>JHAJJAR</td>\n      <td>0.188719</td>\n      <td>0.204285</td>\n      <td>NaN</td>\n      <td>135.0</td>\n      <td>DL</td>\n    </tr>\n  </tbody>\n</table>\n</div>"
     },
     "metadata": {},
     "execution_count": 93
    }
   ],
   "source": [
    "df1=get_sim_borderv2(df_new,'DL')\n",
    "df1"
   ]
  },
  {
   "cell_type": "code",
   "execution_count": 94,
   "metadata": {},
   "outputs": [
    {
     "output_type": "execute_result",
     "data": {
      "text/plain": [
       "  State    district  volume_def   val_def Unnamed: 0  index Border\n",
       "0    CG      BASTAR    0.120168  0.139117        NaN   29.0     OR\n",
       "1    CG    DHAMTARI    0.115222  0.134912        NaN   74.0     OR\n",
       "2    OR   KALAHANDI    0.119946  0.138179        NaN  146.0     OR\n",
       "3    OR  MALKANGIRI    0.128142  0.138955        NaN  193.0     OR\n",
       "4    OR     NUAPADA    0.123875  0.142890        NaN  226.0     OR"
      ],
      "text/html": "<div>\n<style scoped>\n    .dataframe tbody tr th:only-of-type {\n        vertical-align: middle;\n    }\n\n    .dataframe tbody tr th {\n        vertical-align: top;\n    }\n\n    .dataframe thead th {\n        text-align: right;\n    }\n</style>\n<table border=\"1\" class=\"dataframe\">\n  <thead>\n    <tr style=\"text-align: right;\">\n      <th></th>\n      <th>State</th>\n      <th>district</th>\n      <th>volume_def</th>\n      <th>val_def</th>\n      <th>Unnamed: 0</th>\n      <th>index</th>\n      <th>Border</th>\n    </tr>\n  </thead>\n  <tbody>\n    <tr>\n      <th>0</th>\n      <td>CG</td>\n      <td>BASTAR</td>\n      <td>0.120168</td>\n      <td>0.139117</td>\n      <td>NaN</td>\n      <td>29.0</td>\n      <td>OR</td>\n    </tr>\n    <tr>\n      <th>1</th>\n      <td>CG</td>\n      <td>DHAMTARI</td>\n      <td>0.115222</td>\n      <td>0.134912</td>\n      <td>NaN</td>\n      <td>74.0</td>\n      <td>OR</td>\n    </tr>\n    <tr>\n      <th>2</th>\n      <td>OR</td>\n      <td>KALAHANDI</td>\n      <td>0.119946</td>\n      <td>0.138179</td>\n      <td>NaN</td>\n      <td>146.0</td>\n      <td>OR</td>\n    </tr>\n    <tr>\n      <th>3</th>\n      <td>OR</td>\n      <td>MALKANGIRI</td>\n      <td>0.128142</td>\n      <td>0.138955</td>\n      <td>NaN</td>\n      <td>193.0</td>\n      <td>OR</td>\n    </tr>\n    <tr>\n      <th>4</th>\n      <td>OR</td>\n      <td>NUAPADA</td>\n      <td>0.123875</td>\n      <td>0.142890</td>\n      <td>NaN</td>\n      <td>226.0</td>\n      <td>OR</td>\n    </tr>\n  </tbody>\n</table>\n</div>"
     },
     "metadata": {},
     "execution_count": 94
    }
   ],
   "source": [
    "df2=get_sim_borderv2(df_new[df_new['states']!='WB'],'OR')\n",
    "df2"
   ]
  },
  {
   "cell_type": "code",
   "execution_count": 95,
   "metadata": {},
   "outputs": [
    {
     "output_type": "execute_result",
     "data": {
      "text/plain": [
       "  State       district  volume_def   val_def Unnamed: 0  index Border\n",
       "0    WB        BIRBHUM    0.121526  0.139047        NaN   43.0     WB\n",
       "1    JH         BOKARO    0.122482  0.139371        NaN   44.0     WB\n",
       "2    SK  EAST DISTRICT    0.103040  0.142552        NaN   91.0     WB\n",
       "3    BR        KATIHAR    0.125947  0.140618        NaN  159.0     WB\n",
       "4    BR     KISHANGANJ    0.123105  0.141845        NaN  164.0     WB"
      ],
      "text/html": "<div>\n<style scoped>\n    .dataframe tbody tr th:only-of-type {\n        vertical-align: middle;\n    }\n\n    .dataframe tbody tr th {\n        vertical-align: top;\n    }\n\n    .dataframe thead th {\n        text-align: right;\n    }\n</style>\n<table border=\"1\" class=\"dataframe\">\n  <thead>\n    <tr style=\"text-align: right;\">\n      <th></th>\n      <th>State</th>\n      <th>district</th>\n      <th>volume_def</th>\n      <th>val_def</th>\n      <th>Unnamed: 0</th>\n      <th>index</th>\n      <th>Border</th>\n    </tr>\n  </thead>\n  <tbody>\n    <tr>\n      <th>0</th>\n      <td>WB</td>\n      <td>BIRBHUM</td>\n      <td>0.121526</td>\n      <td>0.139047</td>\n      <td>NaN</td>\n      <td>43.0</td>\n      <td>WB</td>\n    </tr>\n    <tr>\n      <th>1</th>\n      <td>JH</td>\n      <td>BOKARO</td>\n      <td>0.122482</td>\n      <td>0.139371</td>\n      <td>NaN</td>\n      <td>44.0</td>\n      <td>WB</td>\n    </tr>\n    <tr>\n      <th>2</th>\n      <td>SK</td>\n      <td>EAST DISTRICT</td>\n      <td>0.103040</td>\n      <td>0.142552</td>\n      <td>NaN</td>\n      <td>91.0</td>\n      <td>WB</td>\n    </tr>\n    <tr>\n      <th>3</th>\n      <td>BR</td>\n      <td>KATIHAR</td>\n      <td>0.125947</td>\n      <td>0.140618</td>\n      <td>NaN</td>\n      <td>159.0</td>\n      <td>WB</td>\n    </tr>\n    <tr>\n      <th>4</th>\n      <td>BR</td>\n      <td>KISHANGANJ</td>\n      <td>0.123105</td>\n      <td>0.141845</td>\n      <td>NaN</td>\n      <td>164.0</td>\n      <td>WB</td>\n    </tr>\n  </tbody>\n</table>\n</div>"
     },
     "metadata": {},
     "execution_count": 95
    }
   ],
   "source": [
    "df3=get_sim_borderv2(df_new,'WB')\n",
    "df3"
   ]
  },
  {
   "cell_type": "code",
   "execution_count": 33,
   "metadata": {},
   "outputs": [
    {
     "output_type": "execute_result",
     "data": {
      "text/plain": [
       "Empty DataFrame\n",
       "Columns: [State, district, volume_def, val_def, Unnamed: 0, index, Border]\n",
       "Index: []"
      ],
      "text/html": "<div>\n<style scoped>\n    .dataframe tbody tr th:only-of-type {\n        vertical-align: middle;\n    }\n\n    .dataframe tbody tr th {\n        vertical-align: top;\n    }\n\n    .dataframe thead th {\n        text-align: right;\n    }\n</style>\n<table border=\"1\" class=\"dataframe\">\n  <thead>\n    <tr style=\"text-align: right;\">\n      <th></th>\n      <th>State</th>\n      <th>district</th>\n      <th>volume_def</th>\n      <th>val_def</th>\n      <th>Unnamed: 0</th>\n      <th>index</th>\n      <th>Border</th>\n    </tr>\n  </thead>\n  <tbody>\n  </tbody>\n</table>\n</div>"
     },
     "metadata": {},
     "execution_count": 33
    }
   ],
   "source": [
    "get_sim_border(df_new,'TS')"
   ]
  },
  {
   "cell_type": "code",
   "execution_count": 35,
   "metadata": {},
   "outputs": [
    {
     "output_type": "execute_result",
     "data": {
      "text/plain": [
       "Empty DataFrame\n",
       "Columns: [State, district, volume_def, val_def, Unnamed: 0, states, border, AN, AP, AR, AS, BR, CG, CH, DD, DL, DN, GA, GJ, HP, HR, JH, JK, KA, KL, LD, MH, ML, MN, MP, MZ, NL, OR, PB, PY, RJ, SK, TN, TR, TS, UK, UP, WB]\n",
       "Index: []\n",
       "\n",
       "[0 rows x 43 columns]"
      ],
      "text/html": "<div>\n<style scoped>\n    .dataframe tbody tr th:only-of-type {\n        vertical-align: middle;\n    }\n\n    .dataframe tbody tr th {\n        vertical-align: top;\n    }\n\n    .dataframe thead th {\n        text-align: right;\n    }\n</style>\n<table border=\"1\" class=\"dataframe\">\n  <thead>\n    <tr style=\"text-align: right;\">\n      <th></th>\n      <th>State</th>\n      <th>district</th>\n      <th>volume_def</th>\n      <th>val_def</th>\n      <th>Unnamed: 0</th>\n      <th>states</th>\n      <th>border</th>\n      <th>AN</th>\n      <th>AP</th>\n      <th>AR</th>\n      <th>...</th>\n      <th>PB</th>\n      <th>PY</th>\n      <th>RJ</th>\n      <th>SK</th>\n      <th>TN</th>\n      <th>TR</th>\n      <th>TS</th>\n      <th>UK</th>\n      <th>UP</th>\n      <th>WB</th>\n    </tr>\n  </thead>\n  <tbody>\n  </tbody>\n</table>\n<p>0 rows × 43 columns</p>\n</div>"
     },
     "metadata": {},
     "execution_count": 35
    }
   ],
   "source": [
    "df_new[df_new['State']=='TS']"
   ]
  },
  {
   "cell_type": "code",
   "execution_count": 96,
   "metadata": {},
   "outputs": [
    {
     "output_type": "execute_result",
     "data": {
      "text/plain": [
       "  State       district  volume_def   val_def Unnamed: 0  index Border\n",
       "0    DL        CENTRAL    0.194470  0.197286        NaN   49.0     DL\n",
       "1    HR        JHAJJAR    0.188719  0.204285        NaN  135.0     DL\n",
       "0    CG         BASTAR    0.120168  0.139117        NaN   29.0     OR\n",
       "1    CG       DHAMTARI    0.115222  0.134912        NaN   74.0     OR\n",
       "2    OR      KALAHANDI    0.119946  0.138179        NaN  146.0     OR\n",
       "3    OR     MALKANGIRI    0.128142  0.138955        NaN  193.0     OR\n",
       "4    OR        NUAPADA    0.123875  0.142890        NaN  226.0     OR\n",
       "0    WB        BIRBHUM    0.121526  0.139047        NaN   43.0     WB\n",
       "1    JH         BOKARO    0.122482  0.139371        NaN   44.0     WB\n",
       "2    SK  EAST DISTRICT    0.103040  0.142552        NaN   91.0     WB\n",
       "3    BR        KATIHAR    0.125947  0.140618        NaN  159.0     WB\n",
       "4    BR     KISHANGANJ    0.123105  0.141845        NaN  164.0     WB"
      ],
      "text/html": "<div>\n<style scoped>\n    .dataframe tbody tr th:only-of-type {\n        vertical-align: middle;\n    }\n\n    .dataframe tbody tr th {\n        vertical-align: top;\n    }\n\n    .dataframe thead th {\n        text-align: right;\n    }\n</style>\n<table border=\"1\" class=\"dataframe\">\n  <thead>\n    <tr style=\"text-align: right;\">\n      <th></th>\n      <th>State</th>\n      <th>district</th>\n      <th>volume_def</th>\n      <th>val_def</th>\n      <th>Unnamed: 0</th>\n      <th>index</th>\n      <th>Border</th>\n    </tr>\n  </thead>\n  <tbody>\n    <tr>\n      <th>0</th>\n      <td>DL</td>\n      <td>CENTRAL</td>\n      <td>0.194470</td>\n      <td>0.197286</td>\n      <td>NaN</td>\n      <td>49.0</td>\n      <td>DL</td>\n    </tr>\n    <tr>\n      <th>1</th>\n      <td>HR</td>\n      <td>JHAJJAR</td>\n      <td>0.188719</td>\n      <td>0.204285</td>\n      <td>NaN</td>\n      <td>135.0</td>\n      <td>DL</td>\n    </tr>\n    <tr>\n      <th>0</th>\n      <td>CG</td>\n      <td>BASTAR</td>\n      <td>0.120168</td>\n      <td>0.139117</td>\n      <td>NaN</td>\n      <td>29.0</td>\n      <td>OR</td>\n    </tr>\n    <tr>\n      <th>1</th>\n      <td>CG</td>\n      <td>DHAMTARI</td>\n      <td>0.115222</td>\n      <td>0.134912</td>\n      <td>NaN</td>\n      <td>74.0</td>\n      <td>OR</td>\n    </tr>\n    <tr>\n      <th>2</th>\n      <td>OR</td>\n      <td>KALAHANDI</td>\n      <td>0.119946</td>\n      <td>0.138179</td>\n      <td>NaN</td>\n      <td>146.0</td>\n      <td>OR</td>\n    </tr>\n    <tr>\n      <th>3</th>\n      <td>OR</td>\n      <td>MALKANGIRI</td>\n      <td>0.128142</td>\n      <td>0.138955</td>\n      <td>NaN</td>\n      <td>193.0</td>\n      <td>OR</td>\n    </tr>\n    <tr>\n      <th>4</th>\n      <td>OR</td>\n      <td>NUAPADA</td>\n      <td>0.123875</td>\n      <td>0.142890</td>\n      <td>NaN</td>\n      <td>226.0</td>\n      <td>OR</td>\n    </tr>\n    <tr>\n      <th>0</th>\n      <td>WB</td>\n      <td>BIRBHUM</td>\n      <td>0.121526</td>\n      <td>0.139047</td>\n      <td>NaN</td>\n      <td>43.0</td>\n      <td>WB</td>\n    </tr>\n    <tr>\n      <th>1</th>\n      <td>JH</td>\n      <td>BOKARO</td>\n      <td>0.122482</td>\n      <td>0.139371</td>\n      <td>NaN</td>\n      <td>44.0</td>\n      <td>WB</td>\n    </tr>\n    <tr>\n      <th>2</th>\n      <td>SK</td>\n      <td>EAST DISTRICT</td>\n      <td>0.103040</td>\n      <td>0.142552</td>\n      <td>NaN</td>\n      <td>91.0</td>\n      <td>WB</td>\n    </tr>\n    <tr>\n      <th>3</th>\n      <td>BR</td>\n      <td>KATIHAR</td>\n      <td>0.125947</td>\n      <td>0.140618</td>\n      <td>NaN</td>\n      <td>159.0</td>\n      <td>WB</td>\n    </tr>\n    <tr>\n      <th>4</th>\n      <td>BR</td>\n      <td>KISHANGANJ</td>\n      <td>0.123105</td>\n      <td>0.141845</td>\n      <td>NaN</td>\n      <td>164.0</td>\n      <td>WB</td>\n    </tr>\n  </tbody>\n</table>\n</div>"
     },
     "metadata": {},
     "execution_count": 96
    }
   ],
   "source": [
    "df_final=df1.append([df2,df3])\n",
    "df_final"
   ]
  },
  {
   "cell_type": "code",
   "execution_count": 97,
   "metadata": {},
   "outputs": [],
   "source": [
    "df_final.drop(['Unnamed: 0','index'],axis=1,inplace=True)"
   ]
  },
  {
   "cell_type": "code",
   "execution_count": 98,
   "metadata": {},
   "outputs": [],
   "source": [
    "df_final.to_csv('sim_val_def_mfi_1_percent_new.csv')"
   ]
  },
  {
   "cell_type": "code",
   "execution_count": 53,
   "metadata": {},
   "outputs": [],
   "source": [
    "df_final=pd.read_csv('sim_volume_def_mfi_1_percent.csv')"
   ]
  },
  {
   "cell_type": "code",
   "execution_count": 59,
   "metadata": {},
   "outputs": [
    {
     "output_type": "execute_result",
     "data": {
      "text/plain": [
       "   State       district  volume_def   val_def Border\n",
       "0     DL           EAST    0.227161  0.261910  DL&UP\n",
       "1     UP        BAGHPAT    0.236995  0.271665  DL&UP\n",
       "2     DL          NORTH    0.278122  0.320443  DL&HR\n",
       "3     DL     NORTH WEST    0.272247  0.314534  DL&HR\n",
       "4     OR      KALAHANDI    0.119946  0.138179  OR&CG\n",
       "5     OR   NABARANGAPUR    0.120977  0.127021  OR&CG\n",
       "6     OR        NUAPADA    0.123875  0.142890  OR&CG\n",
       "7     OR     SUNDARGARH    0.118238  0.128192  OR&CG\n",
       "8     CG         BASTAR    0.120168  0.139117  OR&CG\n",
       "9     CG       DHAMTARI    0.115222  0.134912  OR&CG\n",
       "10    OR      BALESHWAR    0.144227  0.166828  OR&WB\n",
       "11    OR     MAYURBHANJ    0.140736  0.153730  OR&WB\n",
       "12    OR     SUNDARGARH    0.118238  0.128192  OR&JH\n",
       "13    JH        SIMDEGA    0.109092  0.129203  OR&JH\n",
       "14    OR      BALESHWAR    0.144227  0.166828  WB&OR\n",
       "15    OR     MAYURBHANJ    0.140736  0.153730  WB&OR\n",
       "16    WB         MALDAH    0.152263  0.159652  WB&JH\n",
       "17    WB       PURULIYA    0.156406  0.175706  WB&JH\n",
       "18    JH          DUMKA    0.159371  0.176092  WB&JH\n",
       "19    JH        JAMTARA    0.155928  0.171874  WB&JH\n",
       "20    JH         RANCHI    0.160846  0.180407  WB&JH\n",
       "21    WB      DARJILING    0.129976  0.149474  WB&SK\n",
       "22    SK  WEST DISTRICT    0.120540  0.118491  WB&SK\n",
       "23    BR        KATIHAR    0.125947  0.140618  WB&BR\n",
       "24    BR     KISHANGANJ    0.123105  0.141845  WB&BR"
      ],
      "text/html": "<div>\n<style scoped>\n    .dataframe tbody tr th:only-of-type {\n        vertical-align: middle;\n    }\n\n    .dataframe tbody tr th {\n        vertical-align: top;\n    }\n\n    .dataframe thead th {\n        text-align: right;\n    }\n</style>\n<table border=\"1\" class=\"dataframe\">\n  <thead>\n    <tr style=\"text-align: right;\">\n      <th></th>\n      <th>State</th>\n      <th>district</th>\n      <th>volume_def</th>\n      <th>val_def</th>\n      <th>Border</th>\n    </tr>\n  </thead>\n  <tbody>\n    <tr>\n      <th>0</th>\n      <td>DL</td>\n      <td>EAST</td>\n      <td>0.227161</td>\n      <td>0.261910</td>\n      <td>DL&amp;UP</td>\n    </tr>\n    <tr>\n      <th>1</th>\n      <td>UP</td>\n      <td>BAGHPAT</td>\n      <td>0.236995</td>\n      <td>0.271665</td>\n      <td>DL&amp;UP</td>\n    </tr>\n    <tr>\n      <th>2</th>\n      <td>DL</td>\n      <td>NORTH</td>\n      <td>0.278122</td>\n      <td>0.320443</td>\n      <td>DL&amp;HR</td>\n    </tr>\n    <tr>\n      <th>3</th>\n      <td>DL</td>\n      <td>NORTH WEST</td>\n      <td>0.272247</td>\n      <td>0.314534</td>\n      <td>DL&amp;HR</td>\n    </tr>\n    <tr>\n      <th>4</th>\n      <td>OR</td>\n      <td>KALAHANDI</td>\n      <td>0.119946</td>\n      <td>0.138179</td>\n      <td>OR&amp;CG</td>\n    </tr>\n    <tr>\n      <th>5</th>\n      <td>OR</td>\n      <td>NABARANGAPUR</td>\n      <td>0.120977</td>\n      <td>0.127021</td>\n      <td>OR&amp;CG</td>\n    </tr>\n    <tr>\n      <th>6</th>\n      <td>OR</td>\n      <td>NUAPADA</td>\n      <td>0.123875</td>\n      <td>0.142890</td>\n      <td>OR&amp;CG</td>\n    </tr>\n    <tr>\n      <th>7</th>\n      <td>OR</td>\n      <td>SUNDARGARH</td>\n      <td>0.118238</td>\n      <td>0.128192</td>\n      <td>OR&amp;CG</td>\n    </tr>\n    <tr>\n      <th>8</th>\n      <td>CG</td>\n      <td>BASTAR</td>\n      <td>0.120168</td>\n      <td>0.139117</td>\n      <td>OR&amp;CG</td>\n    </tr>\n    <tr>\n      <th>9</th>\n      <td>CG</td>\n      <td>DHAMTARI</td>\n      <td>0.115222</td>\n      <td>0.134912</td>\n      <td>OR&amp;CG</td>\n    </tr>\n    <tr>\n      <th>10</th>\n      <td>OR</td>\n      <td>BALESHWAR</td>\n      <td>0.144227</td>\n      <td>0.166828</td>\n      <td>OR&amp;WB</td>\n    </tr>\n    <tr>\n      <th>11</th>\n      <td>OR</td>\n      <td>MAYURBHANJ</td>\n      <td>0.140736</td>\n      <td>0.153730</td>\n      <td>OR&amp;WB</td>\n    </tr>\n    <tr>\n      <th>12</th>\n      <td>OR</td>\n      <td>SUNDARGARH</td>\n      <td>0.118238</td>\n      <td>0.128192</td>\n      <td>OR&amp;JH</td>\n    </tr>\n    <tr>\n      <th>13</th>\n      <td>JH</td>\n      <td>SIMDEGA</td>\n      <td>0.109092</td>\n      <td>0.129203</td>\n      <td>OR&amp;JH</td>\n    </tr>\n    <tr>\n      <th>14</th>\n      <td>OR</td>\n      <td>BALESHWAR</td>\n      <td>0.144227</td>\n      <td>0.166828</td>\n      <td>WB&amp;OR</td>\n    </tr>\n    <tr>\n      <th>15</th>\n      <td>OR</td>\n      <td>MAYURBHANJ</td>\n      <td>0.140736</td>\n      <td>0.153730</td>\n      <td>WB&amp;OR</td>\n    </tr>\n    <tr>\n      <th>16</th>\n      <td>WB</td>\n      <td>MALDAH</td>\n      <td>0.152263</td>\n      <td>0.159652</td>\n      <td>WB&amp;JH</td>\n    </tr>\n    <tr>\n      <th>17</th>\n      <td>WB</td>\n      <td>PURULIYA</td>\n      <td>0.156406</td>\n      <td>0.175706</td>\n      <td>WB&amp;JH</td>\n    </tr>\n    <tr>\n      <th>18</th>\n      <td>JH</td>\n      <td>DUMKA</td>\n      <td>0.159371</td>\n      <td>0.176092</td>\n      <td>WB&amp;JH</td>\n    </tr>\n    <tr>\n      <th>19</th>\n      <td>JH</td>\n      <td>JAMTARA</td>\n      <td>0.155928</td>\n      <td>0.171874</td>\n      <td>WB&amp;JH</td>\n    </tr>\n    <tr>\n      <th>20</th>\n      <td>JH</td>\n      <td>RANCHI</td>\n      <td>0.160846</td>\n      <td>0.180407</td>\n      <td>WB&amp;JH</td>\n    </tr>\n    <tr>\n      <th>21</th>\n      <td>WB</td>\n      <td>DARJILING</td>\n      <td>0.129976</td>\n      <td>0.149474</td>\n      <td>WB&amp;SK</td>\n    </tr>\n    <tr>\n      <th>22</th>\n      <td>SK</td>\n      <td>WEST DISTRICT</td>\n      <td>0.120540</td>\n      <td>0.118491</td>\n      <td>WB&amp;SK</td>\n    </tr>\n    <tr>\n      <th>23</th>\n      <td>BR</td>\n      <td>KATIHAR</td>\n      <td>0.125947</td>\n      <td>0.140618</td>\n      <td>WB&amp;BR</td>\n    </tr>\n    <tr>\n      <th>24</th>\n      <td>BR</td>\n      <td>KISHANGANJ</td>\n      <td>0.123105</td>\n      <td>0.141845</td>\n      <td>WB&amp;BR</td>\n    </tr>\n  </tbody>\n</table>\n</div>"
     },
     "metadata": {},
     "execution_count": 59
    }
   ],
   "source": [
    "df_final"
   ]
  },
  {
   "cell_type": "code",
   "execution_count": 86,
   "metadata": {},
   "outputs": [
    {
     "output_type": "execute_result",
     "data": {
      "text/plain": [
       "    State     district  volume_def   val_def  Unnamed: 0 states  border  AN  \\\n",
       "0      UP         AGRA    0.266937  0.292726         568     UP       1   0   \n",
       "1      MZ       AIZAWL    0.072608  0.083585         397     MZ       1   0   \n",
       "2      UP      ALIGARH    0.241462  0.263072         569     UP       1   0   \n",
       "3      MP    ALIRAJPUR    0.074593  0.087188         347     MP       1   0   \n",
       "4      RJ        ALWAR    0.169543  0.193443         473     RJ       1   0   \n",
       "..    ...          ...         ...       ...         ...    ...     ...  ..   \n",
       "332    NL        WOKHA    0.035189  0.035884         414     NL       1   0   \n",
       "333    KA       YADGIR    0.060910  0.070782         279     KA       1   0   \n",
       "334    HR  YAMUNANAGAR    0.105533  0.116101         204     HR       1   0   \n",
       "335    PY        YANAM    0.695652  0.695652         471     PY       1   0   \n",
       "336    MH     YAVATMAL    0.256502  0.291536         327     MH       1   0   \n",
       "\n",
       "     AP  AR  ...  PB  PY  RJ  SK  TN  TR  TS  UK  UP  WB  \n",
       "0     0   0  ...   0   0   1   0   0   0   0   0   1   0  \n",
       "1     0   0  ...   0   0   0   0   0   0   0   0   0   0  \n",
       "2     0   0  ...   0   0   0   0   0   0   0   0   1   0  \n",
       "3     0   0  ...   0   0   0   0   0   0   0   0   0   0  \n",
       "4     0   0  ...   0   0   1   0   0   0   0   0   0   0  \n",
       "..   ..  ..  ...  ..  ..  ..  ..  ..  ..  ..  ..  ..  ..  \n",
       "332   0   0  ...   0   0   0   0   0   0   0   0   0   0  \n",
       "333   0   0  ...   0   0   0   0   0   0   1   0   0   0  \n",
       "334   0   0  ...   0   0   0   0   0   0   0   0   1   0  \n",
       "335   1   0  ...   0   1   0   0   0   0   0   0   0   0  \n",
       "336   0   0  ...   0   0   0   0   0   0   1   0   0   0  \n",
       "\n",
       "[337 rows x 43 columns]"
      ],
      "text/html": "<div>\n<style scoped>\n    .dataframe tbody tr th:only-of-type {\n        vertical-align: middle;\n    }\n\n    .dataframe tbody tr th {\n        vertical-align: top;\n    }\n\n    .dataframe thead th {\n        text-align: right;\n    }\n</style>\n<table border=\"1\" class=\"dataframe\">\n  <thead>\n    <tr style=\"text-align: right;\">\n      <th></th>\n      <th>State</th>\n      <th>district</th>\n      <th>volume_def</th>\n      <th>val_def</th>\n      <th>Unnamed: 0</th>\n      <th>states</th>\n      <th>border</th>\n      <th>AN</th>\n      <th>AP</th>\n      <th>AR</th>\n      <th>...</th>\n      <th>PB</th>\n      <th>PY</th>\n      <th>RJ</th>\n      <th>SK</th>\n      <th>TN</th>\n      <th>TR</th>\n      <th>TS</th>\n      <th>UK</th>\n      <th>UP</th>\n      <th>WB</th>\n    </tr>\n  </thead>\n  <tbody>\n    <tr>\n      <th>0</th>\n      <td>UP</td>\n      <td>AGRA</td>\n      <td>0.266937</td>\n      <td>0.292726</td>\n      <td>568</td>\n      <td>UP</td>\n      <td>1</td>\n      <td>0</td>\n      <td>0</td>\n      <td>0</td>\n      <td>...</td>\n      <td>0</td>\n      <td>0</td>\n      <td>1</td>\n      <td>0</td>\n      <td>0</td>\n      <td>0</td>\n      <td>0</td>\n      <td>0</td>\n      <td>1</td>\n      <td>0</td>\n    </tr>\n    <tr>\n      <th>1</th>\n      <td>MZ</td>\n      <td>AIZAWL</td>\n      <td>0.072608</td>\n      <td>0.083585</td>\n      <td>397</td>\n      <td>MZ</td>\n      <td>1</td>\n      <td>0</td>\n      <td>0</td>\n      <td>0</td>\n      <td>...</td>\n      <td>0</td>\n      <td>0</td>\n      <td>0</td>\n      <td>0</td>\n      <td>0</td>\n      <td>0</td>\n      <td>0</td>\n      <td>0</td>\n      <td>0</td>\n      <td>0</td>\n    </tr>\n    <tr>\n      <th>2</th>\n      <td>UP</td>\n      <td>ALIGARH</td>\n      <td>0.241462</td>\n      <td>0.263072</td>\n      <td>569</td>\n      <td>UP</td>\n      <td>1</td>\n      <td>0</td>\n      <td>0</td>\n      <td>0</td>\n      <td>...</td>\n      <td>0</td>\n      <td>0</td>\n      <td>0</td>\n      <td>0</td>\n      <td>0</td>\n      <td>0</td>\n      <td>0</td>\n      <td>0</td>\n      <td>1</td>\n      <td>0</td>\n    </tr>\n    <tr>\n      <th>3</th>\n      <td>MP</td>\n      <td>ALIRAJPUR</td>\n      <td>0.074593</td>\n      <td>0.087188</td>\n      <td>347</td>\n      <td>MP</td>\n      <td>1</td>\n      <td>0</td>\n      <td>0</td>\n      <td>0</td>\n      <td>...</td>\n      <td>0</td>\n      <td>0</td>\n      <td>0</td>\n      <td>0</td>\n      <td>0</td>\n      <td>0</td>\n      <td>0</td>\n      <td>0</td>\n      <td>0</td>\n      <td>0</td>\n    </tr>\n    <tr>\n      <th>4</th>\n      <td>RJ</td>\n      <td>ALWAR</td>\n      <td>0.169543</td>\n      <td>0.193443</td>\n      <td>473</td>\n      <td>RJ</td>\n      <td>1</td>\n      <td>0</td>\n      <td>0</td>\n      <td>0</td>\n      <td>...</td>\n      <td>0</td>\n      <td>0</td>\n      <td>1</td>\n      <td>0</td>\n      <td>0</td>\n      <td>0</td>\n      <td>0</td>\n      <td>0</td>\n      <td>0</td>\n      <td>0</td>\n    </tr>\n    <tr>\n      <th>...</th>\n      <td>...</td>\n      <td>...</td>\n      <td>...</td>\n      <td>...</td>\n      <td>...</td>\n      <td>...</td>\n      <td>...</td>\n      <td>...</td>\n      <td>...</td>\n      <td>...</td>\n      <td>...</td>\n      <td>...</td>\n      <td>...</td>\n      <td>...</td>\n      <td>...</td>\n      <td>...</td>\n      <td>...</td>\n      <td>...</td>\n      <td>...</td>\n      <td>...</td>\n      <td>...</td>\n    </tr>\n    <tr>\n      <th>332</th>\n      <td>NL</td>\n      <td>WOKHA</td>\n      <td>0.035189</td>\n      <td>0.035884</td>\n      <td>414</td>\n      <td>NL</td>\n      <td>1</td>\n      <td>0</td>\n      <td>0</td>\n      <td>0</td>\n      <td>...</td>\n      <td>0</td>\n      <td>0</td>\n      <td>0</td>\n      <td>0</td>\n      <td>0</td>\n      <td>0</td>\n      <td>0</td>\n      <td>0</td>\n      <td>0</td>\n      <td>0</td>\n    </tr>\n    <tr>\n      <th>333</th>\n      <td>KA</td>\n      <td>YADGIR</td>\n      <td>0.060910</td>\n      <td>0.070782</td>\n      <td>279</td>\n      <td>KA</td>\n      <td>1</td>\n      <td>0</td>\n      <td>0</td>\n      <td>0</td>\n      <td>...</td>\n      <td>0</td>\n      <td>0</td>\n      <td>0</td>\n      <td>0</td>\n      <td>0</td>\n      <td>0</td>\n      <td>1</td>\n      <td>0</td>\n      <td>0</td>\n      <td>0</td>\n    </tr>\n    <tr>\n      <th>334</th>\n      <td>HR</td>\n      <td>YAMUNANAGAR</td>\n      <td>0.105533</td>\n      <td>0.116101</td>\n      <td>204</td>\n      <td>HR</td>\n      <td>1</td>\n      <td>0</td>\n      <td>0</td>\n      <td>0</td>\n      <td>...</td>\n      <td>0</td>\n      <td>0</td>\n      <td>0</td>\n      <td>0</td>\n      <td>0</td>\n      <td>0</td>\n      <td>0</td>\n      <td>0</td>\n      <td>1</td>\n      <td>0</td>\n    </tr>\n    <tr>\n      <th>335</th>\n      <td>PY</td>\n      <td>YANAM</td>\n      <td>0.695652</td>\n      <td>0.695652</td>\n      <td>471</td>\n      <td>PY</td>\n      <td>1</td>\n      <td>0</td>\n      <td>1</td>\n      <td>0</td>\n      <td>...</td>\n      <td>0</td>\n      <td>1</td>\n      <td>0</td>\n      <td>0</td>\n      <td>0</td>\n      <td>0</td>\n      <td>0</td>\n      <td>0</td>\n      <td>0</td>\n      <td>0</td>\n    </tr>\n    <tr>\n      <th>336</th>\n      <td>MH</td>\n      <td>YAVATMAL</td>\n      <td>0.256502</td>\n      <td>0.291536</td>\n      <td>327</td>\n      <td>MH</td>\n      <td>1</td>\n      <td>0</td>\n      <td>0</td>\n      <td>0</td>\n      <td>...</td>\n      <td>0</td>\n      <td>0</td>\n      <td>0</td>\n      <td>0</td>\n      <td>0</td>\n      <td>0</td>\n      <td>1</td>\n      <td>0</td>\n      <td>0</td>\n      <td>0</td>\n    </tr>\n  </tbody>\n</table>\n<p>337 rows × 43 columns</p>\n</div>"
     },
     "metadata": {},
     "execution_count": 86
    }
   ],
   "source": [
    "df_new"
   ]
  },
  {
   "cell_type": "code",
   "execution_count": null,
   "metadata": {},
   "outputs": [],
   "source": []
  }
 ]
}