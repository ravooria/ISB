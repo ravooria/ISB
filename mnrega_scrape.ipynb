{
 "metadata": {
  "language_info": {
   "codemirror_mode": {
    "name": "ipython",
    "version": 3
   },
   "file_extension": ".py",
   "mimetype": "text/x-python",
   "name": "python",
   "nbconvert_exporter": "python",
   "pygments_lexer": "ipython3",
   "version": "3.8.10"
  },
  "orig_nbformat": 2,
  "kernelspec": {
   "name": "python3810jvsc74a57bd0e6160e7fcfc2d302f7fa9c129797e33c786afb51ec1e4a07bed8ee4a4c20492c",
   "display_name": "Python 3.8.10 64-bit (windows store)"
  },
  "metadata": {
   "interpreter": {
    "hash": "e6160e7fcfc2d302f7fa9c129797e33c786afb51ec1e4a07bed8ee4a4c20492c"
   }
  }
 },
 "nbformat": 4,
 "nbformat_minor": 2,
 "cells": [
  {
   "cell_type": "code",
   "execution_count": 3,
   "metadata": {},
   "outputs": [],
   "source": [
    "from selenium import webdriver\n",
    "from selenium.common.exceptions import NoSuchElementException, ElementClickInterceptedException,ElementNotInteractableException\n",
    "import pandas as pd\n"
   ]
  },
  {
   "cell_type": "code",
   "execution_count": 4,
   "metadata": {},
   "outputs": [],
   "source": [
    "years=['2013-2014','2014-2015','2015-2016','2016-2017','2017-2018','2018-2019','2019-2020','2020-2021']\n",
    "codes=['01','02','03','04','05','06','07','08','09']\n",
    "for i in range(10,37):\n",
    "    codes.append(str(i))"
   ]
  },
  {
   "cell_type": "code",
   "execution_count": 7,
   "metadata": {},
   "outputs": [],
   "source": [
    "driver.get('https://mnregaweb4.nic.in/netnrega/demand_emp_demand.aspx?file1=dmd&page1=s&lflag=eng&state_name=THE+DADRA+AND+NAGAR+HAVELI+AND+DAMAN+AND+DIU&state_code='+'07'+'&fin_year='+'2020-2021'+'&source=national&rbl=0&rblhpb=Persons&Digest=XLZYLM10qSfNxbVc8K5hQQ')"
   ]
  },
  {
   "cell_type": "code",
   "execution_count": 6,
   "metadata": {},
   "outputs": [],
   "source": [
    "\n",
    "import os\n",
    "\n",
    "par_dir='C:\\\\Users\\\\akhil\\\\Downloads'\n",
    "state_dir='nrega_state_2016-2017'\n",
    "new=os.path.join(par_dir,state_dir)\n",
    "os.mkdir(new)\n",
    "#code='01'\n",
    "#year='2020-2021'\n",
    "#new_state=os.path.join(new,code)\n",
    "#os.mkdir(new_state)\n",
    "#os.rename('C:\\\\Users\\\\akhil\\\\Downloads\\\\demand_emp_demand.xls','C:\\\\Users\\\\akhil\\\\Downloads\\\\nrega_state\\\\'+code+'\\\\'+code+'-'+year+'.xls')\n"
   ]
  },
  {
   "cell_type": "code",
   "execution_count": 7,
   "metadata": {},
   "outputs": [],
   "source": [
    "for code in codes:\n",
    "    new_state=os.path.join(new,code)\n",
    "    os.mkdir(new_state)"
   ]
  },
  {
   "cell_type": "code",
   "execution_count": 5,
   "metadata": {},
   "outputs": [],
   "source": [
    "def change_file_location(code,year):\n",
    "    os.rename('C:\\\\Users\\\\akhil\\\\Downloads\\\\demand_emp_demand.xls','C:\\\\Users\\\\akhil\\\\Downloads\\\\nrega_state_2016-2017\\\\'+code+'\\\\'+code+'-'+year+'.xls')"
   ]
  },
  {
   "cell_type": "code",
   "execution_count": 6,
   "metadata": {},
   "outputs": [],
   "source": [
    "driver=webdriver.Firefox()"
   ]
  },
  {
   "cell_type": "code",
   "execution_count": 90,
   "metadata": {},
   "outputs": [],
   "source": [
    "#driver=webdriver.Firefox()\n",
    "for code in codes:\n",
    "    for year in years:\n",
    "        try:\n",
    "            driver.get('https://mnregaweb4.nic.in/netnrega/demand_emp_demand.aspx?file1=dmd&page1=s&lflag=eng&state_name=THE+DADRA+AND+NAGAR+HAVELI+AND+DAMAN+AND+DIU&state_code='+code+'&fin_year='+year+'&source=national&rbl=0&rblhpb=Persons&Digest=XLZYLM10qSfNxbVc8K5hQQ')\n",
    "            excel_button=driver.find_element_by_link_text('Excel View')\n",
    "            excel_button.click()\n",
    "            change_file_location(code,year)\n",
    "        except:\n",
    "            continue\n"
   ]
  },
  {
   "cell_type": "code",
   "execution_count": null,
   "metadata": {},
   "outputs": [],
   "source": [
    "states=['AN','AP','AR','AS','BR','CG','DD','DL','GA','GJ','HR','HP','JK','JH','KA','KL','MP','MH','MN','MG','MZ','NL','OR','PY','PB','RJ','SK','TN','TS','TR','UP','UK','WB']"
   ]
  },
  {
   "cell_type": "code",
   "execution_count": 71,
   "metadata": {},
   "outputs": [],
   "source": [
    "import os\n",
    "import pandas as pd\n",
    "os.chdir('C:\\\\Users\\\\akhil\\\\Downloads')\n",
    "files=os.listdir()\n",
    "#files"
   ]
  },
  {
   "cell_type": "code",
   "execution_count": 68,
   "metadata": {},
   "outputs": [],
   "source": [
    "#df=pd.read_excel('01-2013-2014.xlsx')\n",
    "def process(df,file_name,folder):\n",
    "    df['S.No'].apply(str).iat[0]='S.No'\n",
    "    df['District'].iat[0]='District'\n",
    "    df.columns = df.iloc[0]\n",
    "    df.drop([0,1,2],inplace=True)\n",
    "    df['Year']=file_name[3:12]\n",
    "    df=df[df['District']!='Total']\n",
    "    df=df[list(df.columns[1:])]\n",
    "    df=pd.melt(df,id_vars=['District','Year'],value_vars=df.columns[1:len(df.columns)-1],var_name='Month',value_name='Persons')\n",
    "    directory=os.getcwd()\n",
    "    df['State']=folder\n",
    "    return df\n",
    "#df=process(df,'01-2013-2014.xlsx')\n",
    "#df.to_excel('01-2013-2014.xlsx')"
   ]
  },
  {
   "cell_type": "code",
   "execution_count": 117,
   "metadata": {},
   "outputs": [
    {
     "output_type": "stream",
     "name": "stdout",
     "text": [
      "C:\\Users\\akhil\\Downloads\\nrega_state_first_back_up\\AN\n",
      "01-2013-2014.xlsx\n",
      "01-2014-2015.xlsx\n",
      "01-2015-2016.xlsx\n",
      "01-2017-2018.xlsx\n",
      "01-2018-2019.xlsx\n",
      "01-2019-2020.xlsx\n",
      "01-2020-2021.xlsx\n",
      "C:\\Users\\akhil\\Downloads\\nrega_state_first_back_up\\AP\n",
      "02-2013-2014.xlsx\n",
      "02-2014-2015.xlsx\n",
      "02-2015-2016.xlsx\n",
      "02-2017-2018.xlsx\n",
      "02-2018-2019.xlsx\n",
      "02-2019-2020.xlsx\n",
      "02-2020-2021.xlsx\n",
      "C:\\Users\\akhil\\Downloads\\nrega_state_first_back_up\\AR\n",
      "03-2013-2014.xlsx\n",
      "03-2014-2015.xlsx\n",
      "03-2015-2016.xlsx\n",
      "03-2017-2018.xlsx\n",
      "03-2018-2019.xlsx\n",
      "03-2019-2020.xlsx\n",
      "03-2020-2021.xlsx\n",
      "C:\\Users\\akhil\\Downloads\\nrega_state_first_back_up\\AS\n",
      "04-2013-2014.xlsx\n",
      "04-2014-2015.xlsx\n",
      "04-2015-2016.xlsx\n",
      "04-2017-2018.xlsx\n",
      "04-2018-2019.xlsx\n",
      "04-2019-2020.xlsx\n",
      "04-2020-2021.xlsx\n",
      "C:\\Users\\akhil\\Downloads\\nrega_state_first_back_up\\BR\n",
      "05-2013-2014.xlsx\n",
      "05-2014-2015.xlsx\n",
      "05-2015-2016.xlsx\n",
      "05-2017-2018.xlsx\n",
      "05-2018-2019.xlsx\n",
      "05-2019-2020.xlsx\n",
      "05-2020-2021.xlsx\n",
      "C:\\Users\\akhil\\Downloads\\nrega_state_first_back_up\\CG\n",
      "33-2013-2014.xlsx\n",
      "33-2014-2015.xlsx\n",
      "33-2015-2016.xlsx\n",
      "33-2017-2018.xlsx\n",
      "33-2018-2019.xlsx\n",
      "33-2019-2020.xlsx\n",
      "33-2020-2021.xlsx\n",
      "C:\\Users\\akhil\\Downloads\\nrega_state_first_back_up\\DD\n",
      "08-2013-2014.xlsx\n",
      "08-2014-2015.xlsx\n",
      "08-2015-2016.xlsx\n",
      "08-2017-2018.xlsx\n",
      "08-2018-2019.xlsx\n",
      "08-2019-2020.xlsx\n",
      "08-2020-2021.xlsx\n",
      "C:\\Users\\akhil\\Downloads\\nrega_state_first_back_up\\DH\n",
      "07-2013-2014.xlsx\n",
      "07-2014-2015.xlsx\n",
      "07-2015-2016.xlsx\n",
      "07-2017-2018.xlsx\n",
      "07-2018-2019.xlsx\n",
      "07-2019-2020.xlsx\n",
      "07-2020-2021.xlsx\n",
      "C:\\Users\\akhil\\Downloads\\nrega_state_first_back_up\\GA\n",
      "10-2013-2014.xlsx\n",
      "10-2014-2015.xlsx\n",
      "10-2015-2016.xlsx\n",
      "10-2017-2018.xlsx\n",
      "10-2018-2019.xlsx\n",
      "10-2019-2020.xlsx\n",
      "10-2020-2021.xlsx\n",
      "C:\\Users\\akhil\\Downloads\\nrega_state_first_back_up\\GJ\n",
      "11-2014-2015.xlsx\n",
      "11-2017-2018.xlsx\n",
      "11-2018-2019.xlsx\n",
      "11-2019-2020.xlsx\n",
      "11-2020-2021.xlsx\n",
      "C:\\Users\\akhil\\Downloads\\nrega_state_first_back_up\\HP\n",
      "13-2013-2014.xlsx\n",
      "13-2014-2015.xlsx\n",
      "13-2015-2016.xlsx\n",
      "13-2017-2018.xlsx\n",
      "13-2018-2019.xlsx\n",
      "13-2019-2020.xlsx\n",
      "13-2020-2021.xlsx\n",
      "C:\\Users\\akhil\\Downloads\\nrega_state_first_back_up\\HR\n",
      "12-2013-2014.xlsx\n",
      "12-2014-2015.xlsx\n",
      "12-2015-2016.xlsx\n",
      "12-2017-2018.xlsx\n",
      "12-2018-2019.xlsx\n",
      "12-2019-2020.xlsx\n",
      "12-2020-2021.xlsx\n",
      "C:\\Users\\akhil\\Downloads\\nrega_state_first_back_up\\JH\n",
      "34-2013-2014.xlsx\n",
      "34-2014-2015.xlsx\n",
      "34-2015-2016.xlsx\n",
      "34-2017-2018.xlsx\n",
      "34-2018-2019.xlsx\n",
      "34-2019-2020.xlsx\n",
      "34-2020-2021.xlsx\n",
      "C:\\Users\\akhil\\Downloads\\nrega_state_first_back_up\\JK\n",
      "14-2013-2014.xlsx\n",
      "14-2014-2015.xlsx\n",
      "14-2015-2016.xlsx\n",
      "14-2017-2018.xlsx\n",
      "14-2018-2019.xlsx\n",
      "14-2019-2020.xlsx\n",
      "14-2020-2021.xlsx\n",
      "C:\\Users\\akhil\\Downloads\\nrega_state_first_back_up\\KA\n",
      "15-2013-2014.xlsx\n",
      "15-2014-2015.xlsx\n",
      "15-2015-2016.xlsx\n",
      "15-2017-2018.xlsx\n",
      "15-2018-2019.xlsx\n",
      "15-2019-2020.xlsx\n",
      "15-2020-2021.xlsx\n",
      "C:\\Users\\akhil\\Downloads\\nrega_state_first_back_up\\KL\n",
      "16-2013-2014.xlsx\n",
      "16-2014-2015.xlsx\n",
      "16-2015-2016.xlsx\n",
      "16-2017-2018.xlsx\n",
      "16-2018-2019.xlsx\n",
      "16-2019-2020.xlsx\n",
      "16-2020-2021.xlsx\n",
      "C:\\Users\\akhil\\Downloads\\nrega_state_first_back_up\\LD\n"
     ]
    },
    {
     "output_type": "execute_result",
     "data": {
      "text/plain": [
       "                     District       Year  Month Persons State\n",
       "0                    NICOBARS  2013-2014  April     556    AN\n",
       "1    NORTH AND MIDDLE ANDAMAN  2013-2014  April    4398    AN\n",
       "2               SOUTH ANDAMAN  2013-2014  April     579    AN\n",
       "3                    NICOBARS  2013-2014    May     449    AN\n",
       "4    NORTH AND MIDDLE ANDAMAN  2013-2014    May    2443    AN\n",
       "..                        ...        ...    ...     ...   ...\n",
       "163                  PALAKKAD  2020-2021  March  106895    KL\n",
       "164            PATHANAMTHITTA  2020-2021  March   37106    KL\n",
       "165        THIRUVANANTHAPURAM  2020-2021  March  139066    KL\n",
       "166                  THRISSUR  2020-2021  March   51050    KL\n",
       "167                   WAYANAD  2020-2021  March   33759    KL\n",
       "\n",
       "[23928 rows x 5 columns]"
      ],
      "text/html": "<div>\n<style scoped>\n    .dataframe tbody tr th:only-of-type {\n        vertical-align: middle;\n    }\n\n    .dataframe tbody tr th {\n        vertical-align: top;\n    }\n\n    .dataframe thead th {\n        text-align: right;\n    }\n</style>\n<table border=\"1\" class=\"dataframe\">\n  <thead>\n    <tr style=\"text-align: right;\">\n      <th></th>\n      <th>District</th>\n      <th>Year</th>\n      <th>Month</th>\n      <th>Persons</th>\n      <th>State</th>\n    </tr>\n  </thead>\n  <tbody>\n    <tr>\n      <th>0</th>\n      <td>NICOBARS</td>\n      <td>2013-2014</td>\n      <td>April</td>\n      <td>556</td>\n      <td>AN</td>\n    </tr>\n    <tr>\n      <th>1</th>\n      <td>NORTH AND MIDDLE ANDAMAN</td>\n      <td>2013-2014</td>\n      <td>April</td>\n      <td>4398</td>\n      <td>AN</td>\n    </tr>\n    <tr>\n      <th>2</th>\n      <td>SOUTH ANDAMAN</td>\n      <td>2013-2014</td>\n      <td>April</td>\n      <td>579</td>\n      <td>AN</td>\n    </tr>\n    <tr>\n      <th>3</th>\n      <td>NICOBARS</td>\n      <td>2013-2014</td>\n      <td>May</td>\n      <td>449</td>\n      <td>AN</td>\n    </tr>\n    <tr>\n      <th>4</th>\n      <td>NORTH AND MIDDLE ANDAMAN</td>\n      <td>2013-2014</td>\n      <td>May</td>\n      <td>2443</td>\n      <td>AN</td>\n    </tr>\n    <tr>\n      <th>...</th>\n      <td>...</td>\n      <td>...</td>\n      <td>...</td>\n      <td>...</td>\n      <td>...</td>\n    </tr>\n    <tr>\n      <th>163</th>\n      <td>PALAKKAD</td>\n      <td>2020-2021</td>\n      <td>March</td>\n      <td>106895</td>\n      <td>KL</td>\n    </tr>\n    <tr>\n      <th>164</th>\n      <td>PATHANAMTHITTA</td>\n      <td>2020-2021</td>\n      <td>March</td>\n      <td>37106</td>\n      <td>KL</td>\n    </tr>\n    <tr>\n      <th>165</th>\n      <td>THIRUVANANTHAPURAM</td>\n      <td>2020-2021</td>\n      <td>March</td>\n      <td>139066</td>\n      <td>KL</td>\n    </tr>\n    <tr>\n      <th>166</th>\n      <td>THRISSUR</td>\n      <td>2020-2021</td>\n      <td>March</td>\n      <td>51050</td>\n      <td>KL</td>\n    </tr>\n    <tr>\n      <th>167</th>\n      <td>WAYANAD</td>\n      <td>2020-2021</td>\n      <td>March</td>\n      <td>33759</td>\n      <td>KL</td>\n    </tr>\n  </tbody>\n</table>\n<p>23928 rows × 5 columns</p>\n</div>"
     },
     "metadata": {},
     "execution_count": 117
    }
   ],
   "source": [
    "main_dir='C:\\\\Users\\\\akhil\\\\Downloads\\\\nrega_state_first_back_up'\n",
    "os.chdir(main_dir)\n",
    "folders_in_nrega=os.listdir()\n",
    "final_data=pd.DataFrame()\n",
    "for folder in folders_in_nrega:\n",
    "    os.chdir(main_dir)\n",
    "    state_dir=os.path.join(main_dir,folder)\n",
    "    print(state_dir)\n",
    "    os.chdir(state_dir)\n",
    "    files=os.listdir()\n",
    "    for f in files:\n",
    "        try:\n",
    "            df=pd.read_excel(f)  \n",
    "            df=process(df,f,folder)\n",
    "            final_data=final_data.append(df,sort=False)\n",
    "            print(f)\n",
    "        except:\n",
    "            continue\n",
    "        \n",
    "final_data\n"
   ]
  },
  {
   "cell_type": "code",
   "execution_count": 114,
   "metadata": {},
   "outputs": [
    {
     "output_type": "execute_result",
     "data": {
      "text/plain": [
       "                District       Year      Month Persons State\n",
       "0   LAKSHADWEEP DISTRICT  2013-2014      April     410    LD\n",
       "1   LAKSHADWEEP DISTRICT  2013-2014        May     104    LD\n",
       "2   LAKSHADWEEP DISTRICT  2013-2014       June     192    LD\n",
       "3   LAKSHADWEEP DISTRICT  2013-2014       July      38    LD\n",
       "4   LAKSHADWEEP DISTRICT  2013-2014     August      52    LD\n",
       "5   LAKSHADWEEP DISTRICT  2013-2014  September     104    LD\n",
       "6   LAKSHADWEEP DISTRICT  2013-2014    October      47    LD\n",
       "7   LAKSHADWEEP DISTRICT  2013-2014   November     141    LD\n",
       "8   LAKSHADWEEP DISTRICT  2013-2014   December      51    LD\n",
       "9   LAKSHADWEEP DISTRICT  2013-2014    January      15    LD\n",
       "10  LAKSHADWEEP DISTRICT  2013-2014   February      81    LD\n",
       "11  LAKSHADWEEP DISTRICT  2013-2014      March     168    LD"
      ],
      "text/html": "<div>\n<style scoped>\n    .dataframe tbody tr th:only-of-type {\n        vertical-align: middle;\n    }\n\n    .dataframe tbody tr th {\n        vertical-align: top;\n    }\n\n    .dataframe thead th {\n        text-align: right;\n    }\n</style>\n<table border=\"1\" class=\"dataframe\">\n  <thead>\n    <tr style=\"text-align: right;\">\n      <th></th>\n      <th>District</th>\n      <th>Year</th>\n      <th>Month</th>\n      <th>Persons</th>\n      <th>State</th>\n    </tr>\n  </thead>\n  <tbody>\n    <tr>\n      <th>0</th>\n      <td>LAKSHADWEEP DISTRICT</td>\n      <td>2013-2014</td>\n      <td>April</td>\n      <td>410</td>\n      <td>LD</td>\n    </tr>\n    <tr>\n      <th>1</th>\n      <td>LAKSHADWEEP DISTRICT</td>\n      <td>2013-2014</td>\n      <td>May</td>\n      <td>104</td>\n      <td>LD</td>\n    </tr>\n    <tr>\n      <th>2</th>\n      <td>LAKSHADWEEP DISTRICT</td>\n      <td>2013-2014</td>\n      <td>June</td>\n      <td>192</td>\n      <td>LD</td>\n    </tr>\n    <tr>\n      <th>3</th>\n      <td>LAKSHADWEEP DISTRICT</td>\n      <td>2013-2014</td>\n      <td>July</td>\n      <td>38</td>\n      <td>LD</td>\n    </tr>\n    <tr>\n      <th>4</th>\n      <td>LAKSHADWEEP DISTRICT</td>\n      <td>2013-2014</td>\n      <td>August</td>\n      <td>52</td>\n      <td>LD</td>\n    </tr>\n    <tr>\n      <th>5</th>\n      <td>LAKSHADWEEP DISTRICT</td>\n      <td>2013-2014</td>\n      <td>September</td>\n      <td>104</td>\n      <td>LD</td>\n    </tr>\n    <tr>\n      <th>6</th>\n      <td>LAKSHADWEEP DISTRICT</td>\n      <td>2013-2014</td>\n      <td>October</td>\n      <td>47</td>\n      <td>LD</td>\n    </tr>\n    <tr>\n      <th>7</th>\n      <td>LAKSHADWEEP DISTRICT</td>\n      <td>2013-2014</td>\n      <td>November</td>\n      <td>141</td>\n      <td>LD</td>\n    </tr>\n    <tr>\n      <th>8</th>\n      <td>LAKSHADWEEP DISTRICT</td>\n      <td>2013-2014</td>\n      <td>December</td>\n      <td>51</td>\n      <td>LD</td>\n    </tr>\n    <tr>\n      <th>9</th>\n      <td>LAKSHADWEEP DISTRICT</td>\n      <td>2013-2014</td>\n      <td>January</td>\n      <td>15</td>\n      <td>LD</td>\n    </tr>\n    <tr>\n      <th>10</th>\n      <td>LAKSHADWEEP DISTRICT</td>\n      <td>2013-2014</td>\n      <td>February</td>\n      <td>81</td>\n      <td>LD</td>\n    </tr>\n    <tr>\n      <th>11</th>\n      <td>LAKSHADWEEP DISTRICT</td>\n      <td>2013-2014</td>\n      <td>March</td>\n      <td>168</td>\n      <td>LD</td>\n    </tr>\n  </tbody>\n</table>\n</div>"
     },
     "metadata": {},
     "execution_count": 114
    }
   ],
   "source": [
    "#os.chdir('C:\\\\Users\\\\akhil\\\\Downloads')\n",
    "#f='19-2013-2014.xlsx'\n",
    "#df=pd.read_excel(f)\n",
    "def process_2(df,file_name,folder):\n",
    "    df.columns = df.iloc[1]\n",
    "    df.drop([0,1,2,3],inplace=True)\n",
    "    df=df[df['District']!='Total']\n",
    "    df=df[list(df.columns[2:])]\n",
    "    df['Year']=f[3:12]\n",
    "    df=pd.melt(df,id_vars=['District','Year'],value_vars=df.columns[1:len(df.columns)-1],var_name='Month',value_name='Persons')\n",
    "    df['State']=folder\n",
    "    return df\n",
    "#process_2(df,f,'LD')"
   ]
  },
  {
   "cell_type": "code",
   "execution_count": 115,
   "metadata": {},
   "outputs": [
    {
     "output_type": "stream",
     "name": "stdout",
     "text": [
      "C:\\Users\\akhil\\Downloads\\second_half_K\\LD\n",
      "19-2013-2014.xlsx\n",
      "19-2014-2015.xlsx\n",
      "19-2015-2016.xlsx\n",
      "19-2017-2018.xlsx\n",
      "19-2018-2019.xlsx\n",
      "19-2019-2020.xlsx\n",
      "C:\\Users\\akhil\\Downloads\\second_half_K\\MG\n",
      "21-2013-2014.xlsx\n",
      "21-2014-2015.xlsx\n",
      "21-2015-2016.xlsx\n",
      "21-2017-2018.xlsx\n",
      "21-2018-2019.xlsx\n",
      "21-2019-2020.xlsx\n",
      "21-2020-2021.xlsx\n",
      "C:\\Users\\akhil\\Downloads\\second_half_K\\MH\n",
      "18-2013-2014.xlsx\n",
      "18-2014-2015.xlsx\n",
      "18-2015-2016.xlsx\n",
      "18-2017-2018.xlsx\n",
      "18-2018-2019.xlsx\n",
      "18-2019-2020.xlsx\n",
      "18-2020-2021.xlsx\n",
      "C:\\Users\\akhil\\Downloads\\second_half_K\\MN\n",
      "20-2013-2014.xlsx\n",
      "20-2014-2015.xlsx\n",
      "20-2015-2016.xlsx\n",
      "20-2017-2018.xlsx\n",
      "20-2018-2019.xlsx\n",
      "20-2019-2020.xlsx\n",
      "20-2020-2021.xlsx\n",
      "C:\\Users\\akhil\\Downloads\\second_half_K\\MP\n",
      "17-2013-2014.xlsx\n",
      "17-2014-2015.xlsx\n",
      "17-2015-2016.xlsx\n",
      "17-2017-2018.xlsx\n",
      "17-2018-2019.xlsx\n",
      "17-2019-2020.xlsx\n",
      "17-2020-2021.xlsx\n",
      "C:\\Users\\akhil\\Downloads\\second_half_K\\MZ\n",
      "22-2013-2014.xlsx\n",
      "22-2014-2015.xlsx\n",
      "22-2017-2018.xlsx\n",
      "22-2018-2019.xlsx\n",
      "22-2019-2020.xlsx\n",
      "22-2020-2021.xlsx\n",
      "C:\\Users\\akhil\\Downloads\\second_half_K\\NL\n",
      "23-2013-2014.xlsx\n",
      "23-2014-2015.xlsx\n",
      "23-2015-2016.xlsx\n",
      "23-2017-2018.xlsx\n",
      "23-2018-2019.xlsx\n",
      "23-2019-2020.xlsx\n",
      "23-2020-2021.xlsx\n",
      "C:\\Users\\akhil\\Downloads\\second_half_K\\OR\n",
      "24-2013-2014.xlsx\n",
      "24-2014-2015.xlsx\n",
      "24-2015-2016.xlsx\n",
      "24-2017-2018.xlsx\n",
      "24-2018-2019.xlsx\n",
      "24-2019-2020.xlsx\n",
      "24-2020-2021.xlsx\n",
      "C:\\Users\\akhil\\Downloads\\second_half_K\\PB\n",
      "26-2013-2014.xlsx\n",
      "26-2014-2015.xlsx\n",
      "26-2015-2016.xlsx\n",
      "26-2017-2018.xlsx\n",
      "26-2018-2019.xlsx\n",
      "26-2019-2020.xlsx\n",
      "26-2020-2021.xlsx\n",
      "C:\\Users\\akhil\\Downloads\\second_half_K\\PY\n",
      "25-2013-2014.xlsx\n",
      "25-2014-2015.xlsx\n",
      "25-2015-2016.xlsx\n",
      "25-2017-2018.xlsx\n",
      "25-2018-2019.xlsx\n",
      "25-2019-2020.xlsx\n",
      "25-2020-2021.xlsx\n",
      "C:\\Users\\akhil\\Downloads\\second_half_K\\RJ\n",
      "27-2013-2014.xlsx\n",
      "27-2014-2015.xlsx\n",
      "27-2015-2016.xlsx\n",
      "27-2017-2018.xlsx\n",
      "27-2018-2019.xlsx\n",
      "27-2019-2020.xlsx\n",
      "27-2020-2021.xlsx\n",
      "C:\\Users\\akhil\\Downloads\\second_half_K\\SK\n",
      "28-2013-2014.xlsx\n",
      "28-2014-2015.xlsx\n",
      "28-2015-2016.xlsx\n",
      "28-2017-2018.xlsx\n",
      "28-2018-2019.xlsx\n",
      "28-2019-2020.xlsx\n",
      "28-2020-2021.xlsx\n",
      "C:\\Users\\akhil\\Downloads\\second_half_K\\TN\n",
      "29-2013-2014.xlsx\n",
      "29-2014-2015.xlsx\n",
      "29-2015-2016.xlsx\n",
      "29-2017-2018.xlsx\n",
      "29-2018-2019.xlsx\n",
      "29-2019-2020.xlsx\n",
      "29-2020-2021.xlsx\n",
      "C:\\Users\\akhil\\Downloads\\second_half_K\\TR\n",
      "30-2013-2014.xlsx\n",
      "30-2014-2015.xlsx\n",
      "30-2015-2016.xlsx\n",
      "30-2017-2018.xlsx\n",
      "30-2018-2019.xlsx\n",
      "30-2019-2020.xlsx\n",
      "30-2020-2021.xlsx\n",
      "C:\\Users\\akhil\\Downloads\\second_half_K\\TS\n",
      "36-2013-2014.xlsx\n",
      "36-2014-2015.xlsx\n",
      "36-2015-2016.xlsx\n",
      "36-2017-2018.xlsx\n",
      "36-2018-2019.xlsx\n",
      "36-2019-2020.xlsx\n",
      "36-2020-2021.xlsx\n",
      "C:\\Users\\akhil\\Downloads\\second_half_K\\UK\n",
      "35-2013-2014.xlsx\n",
      "35-2014-2015.xlsx\n",
      "35-2015-2016.xlsx\n",
      "35-2017-2018.xlsx\n",
      "35-2018-2019.xlsx\n",
      "35-2019-2020.xlsx\n",
      "C:\\Users\\akhil\\Downloads\\second_half_K\\UP\n",
      "31-2013-2014.xlsx\n",
      "31-2014-2015.xlsx\n",
      "31-2017-2018.xlsx\n",
      "31-2018-2019.xlsx\n",
      "31-2019-2020.xlsx\n",
      "31-2020-2021.xlsx\n",
      "C:\\Users\\akhil\\Downloads\\second_half_K\\WB\n",
      "32-2013-2014.xlsx\n",
      "32-2014-2015.xlsx\n",
      "32-2015-2016.xlsx\n",
      "32-2017-2018.xlsx\n",
      "32-2019-2020.xlsx\n",
      "32-2020-2021.xlsx\n"
     ]
    },
    {
     "output_type": "execute_result",
     "data": {
      "text/plain": [
       "                      District       Year   Month Persons State\n",
       "0         LAKSHADWEEP DISTRICT  2013-2014   April     410    LD\n",
       "1         LAKSHADWEEP DISTRICT  2013-2014     May     104    LD\n",
       "2         LAKSHADWEEP DISTRICT  2013-2014    June     192    LD\n",
       "3         LAKSHADWEEP DISTRICT  2013-2014    July      38    LD\n",
       "4         LAKSHADWEEP DISTRICT  2013-2014  August      52    LD\n",
       "..                         ...        ...     ...     ...   ...\n",
       "271          PASCHIM MEDINIPUR  2020-2021   March   49236    WB\n",
       "272            PURBA BARDHAMAN  2020-2021   March   51281    WB\n",
       "273            PURBA MEDINIPUR  2020-2021   March   49851    WB\n",
       "274                    PURULIA  2020-2021   March   27320    WB\n",
       "275  SILIGURI MAHAKUMA PARISAD  2020-2021   March    7693    WB\n",
       "\n",
       "[31344 rows x 5 columns]"
      ],
      "text/html": "<div>\n<style scoped>\n    .dataframe tbody tr th:only-of-type {\n        vertical-align: middle;\n    }\n\n    .dataframe tbody tr th {\n        vertical-align: top;\n    }\n\n    .dataframe thead th {\n        text-align: right;\n    }\n</style>\n<table border=\"1\" class=\"dataframe\">\n  <thead>\n    <tr style=\"text-align: right;\">\n      <th></th>\n      <th>District</th>\n      <th>Year</th>\n      <th>Month</th>\n      <th>Persons</th>\n      <th>State</th>\n    </tr>\n  </thead>\n  <tbody>\n    <tr>\n      <th>0</th>\n      <td>LAKSHADWEEP DISTRICT</td>\n      <td>2013-2014</td>\n      <td>April</td>\n      <td>410</td>\n      <td>LD</td>\n    </tr>\n    <tr>\n      <th>1</th>\n      <td>LAKSHADWEEP DISTRICT</td>\n      <td>2013-2014</td>\n      <td>May</td>\n      <td>104</td>\n      <td>LD</td>\n    </tr>\n    <tr>\n      <th>2</th>\n      <td>LAKSHADWEEP DISTRICT</td>\n      <td>2013-2014</td>\n      <td>June</td>\n      <td>192</td>\n      <td>LD</td>\n    </tr>\n    <tr>\n      <th>3</th>\n      <td>LAKSHADWEEP DISTRICT</td>\n      <td>2013-2014</td>\n      <td>July</td>\n      <td>38</td>\n      <td>LD</td>\n    </tr>\n    <tr>\n      <th>4</th>\n      <td>LAKSHADWEEP DISTRICT</td>\n      <td>2013-2014</td>\n      <td>August</td>\n      <td>52</td>\n      <td>LD</td>\n    </tr>\n    <tr>\n      <th>...</th>\n      <td>...</td>\n      <td>...</td>\n      <td>...</td>\n      <td>...</td>\n      <td>...</td>\n    </tr>\n    <tr>\n      <th>271</th>\n      <td>PASCHIM MEDINIPUR</td>\n      <td>2020-2021</td>\n      <td>March</td>\n      <td>49236</td>\n      <td>WB</td>\n    </tr>\n    <tr>\n      <th>272</th>\n      <td>PURBA BARDHAMAN</td>\n      <td>2020-2021</td>\n      <td>March</td>\n      <td>51281</td>\n      <td>WB</td>\n    </tr>\n    <tr>\n      <th>273</th>\n      <td>PURBA MEDINIPUR</td>\n      <td>2020-2021</td>\n      <td>March</td>\n      <td>49851</td>\n      <td>WB</td>\n    </tr>\n    <tr>\n      <th>274</th>\n      <td>PURULIA</td>\n      <td>2020-2021</td>\n      <td>March</td>\n      <td>27320</td>\n      <td>WB</td>\n    </tr>\n    <tr>\n      <th>275</th>\n      <td>SILIGURI MAHAKUMA PARISAD</td>\n      <td>2020-2021</td>\n      <td>March</td>\n      <td>7693</td>\n      <td>WB</td>\n    </tr>\n  </tbody>\n</table>\n<p>31344 rows × 5 columns</p>\n</div>"
     },
     "metadata": {},
     "execution_count": 115
    }
   ],
   "source": [
    "main_dir='C:\\\\Users\\\\akhil\\\\Downloads\\\\second_half_K'\n",
    "os.chdir(main_dir)\n",
    "folders_in_nrega=os.listdir()\n",
    "final_data_second=pd.DataFrame()\n",
    "for folder in folders_in_nrega:\n",
    "    os.chdir(main_dir)\n",
    "    state_dir=os.path.join(main_dir,folder)\n",
    "    print(state_dir)\n",
    "    os.chdir(state_dir)\n",
    "    files=os.listdir()\n",
    "    for f in files:\n",
    "        try:\n",
    "            df=pd.read_excel(f)  \n",
    "            df=process_2(df,f,folder)\n",
    "            final_data_second=final_data_second.append(df,sort=False)\n",
    "            print(f)\n",
    "        except:\n",
    "            continue\n",
    "final_data_second"
   ]
  },
  {
   "cell_type": "code",
   "execution_count": 116,
   "metadata": {},
   "outputs": [
    {
     "output_type": "stream",
     "name": "stdout",
     "text": [
      "C:\\Users\\akhil\\Downloads\\nrega_state_16-17-final\\AN\n",
      "01-2016-2017.xlsx\n",
      "C:\\Users\\akhil\\Downloads\\nrega_state_16-17-final\\AP\n",
      "02-2016-2017.xlsx\n",
      "C:\\Users\\akhil\\Downloads\\nrega_state_16-17-final\\AR\n",
      "03-2016-2017.xlsx\n",
      "C:\\Users\\akhil\\Downloads\\nrega_state_16-17-final\\AS\n",
      "04-2016-2017.xlsx\n",
      "C:\\Users\\akhil\\Downloads\\nrega_state_16-17-final\\BR\n",
      "05-2016-2017.xlsx\n",
      "C:\\Users\\akhil\\Downloads\\nrega_state_16-17-final\\CG\n",
      "33-2016-2017.xlsx\n",
      "C:\\Users\\akhil\\Downloads\\nrega_state_16-17-final\\DD\n",
      "08-2016-2017.xlsx\n",
      "C:\\Users\\akhil\\Downloads\\nrega_state_16-17-final\\DH\n",
      "07-2016-2017.xlsx\n",
      "C:\\Users\\akhil\\Downloads\\nrega_state_16-17-final\\GA\n",
      "10-2016-2017.xlsx\n",
      "C:\\Users\\akhil\\Downloads\\nrega_state_16-17-final\\GJ\n",
      "11-2016-2017.xlsx\n",
      "C:\\Users\\akhil\\Downloads\\nrega_state_16-17-final\\HP\n",
      "13-2016-2017.xlsx\n",
      "C:\\Users\\akhil\\Downloads\\nrega_state_16-17-final\\HR\n",
      "12-2016-2017.xlsx\n",
      "C:\\Users\\akhil\\Downloads\\nrega_state_16-17-final\\JH\n",
      "34-2016-2017.xlsx\n",
      "C:\\Users\\akhil\\Downloads\\nrega_state_16-17-final\\JK\n",
      "14-2016-2017.xlsx\n",
      "C:\\Users\\akhil\\Downloads\\nrega_state_16-17-final\\KA\n",
      "15-2016-2017.xlsx\n",
      "C:\\Users\\akhil\\Downloads\\nrega_state_16-17-final\\KL\n",
      "16-2016-2017.xlsx\n",
      "C:\\Users\\akhil\\Downloads\\nrega_state_16-17-final\\LD\n",
      "19-2016-2017.xlsx\n",
      "C:\\Users\\akhil\\Downloads\\nrega_state_16-17-final\\MG\n",
      "21-2016-2017.xlsx\n",
      "C:\\Users\\akhil\\Downloads\\nrega_state_16-17-final\\MH\n",
      "18-2016-2017.xlsx\n",
      "C:\\Users\\akhil\\Downloads\\nrega_state_16-17-final\\MN\n",
      "20-2016-2017.xlsx\n",
      "C:\\Users\\akhil\\Downloads\\nrega_state_16-17-final\\MP\n",
      "17-2016-2017.xlsx\n",
      "C:\\Users\\akhil\\Downloads\\nrega_state_16-17-final\\MZ\n",
      "22-2016-2017.xlsx\n",
      "C:\\Users\\akhil\\Downloads\\nrega_state_16-17-final\\NL\n",
      "23-2016-2017.xlsx\n",
      "C:\\Users\\akhil\\Downloads\\nrega_state_16-17-final\\OR\n",
      "24-2016-2017.xlsx\n",
      "C:\\Users\\akhil\\Downloads\\nrega_state_16-17-final\\PB\n",
      "26-2016-2017.xlsx\n",
      "C:\\Users\\akhil\\Downloads\\nrega_state_16-17-final\\PY\n",
      "25-2016-2017.xlsx\n",
      "C:\\Users\\akhil\\Downloads\\nrega_state_16-17-final\\RJ\n",
      "27-2016-2017.xlsx\n",
      "C:\\Users\\akhil\\Downloads\\nrega_state_16-17-final\\SK\n",
      "28-2016-2017.xlsx\n",
      "C:\\Users\\akhil\\Downloads\\nrega_state_16-17-final\\TN\n",
      "29-2016-2017.xlsx\n",
      "C:\\Users\\akhil\\Downloads\\nrega_state_16-17-final\\TR\n",
      "30-2016-2017.xlsx\n",
      "C:\\Users\\akhil\\Downloads\\nrega_state_16-17-final\\TS\n",
      "36-2016-2017.xlsx\n",
      "C:\\Users\\akhil\\Downloads\\nrega_state_16-17-final\\UK\n",
      "35-2016-2017.xlsx\n",
      "C:\\Users\\akhil\\Downloads\\nrega_state_16-17-final\\UP\n",
      "31-2016-2017.xlsx\n",
      "C:\\Users\\akhil\\Downloads\\nrega_state_16-17-final\\WB\n",
      "32-2016-2017.xlsx\n"
     ]
    },
    {
     "output_type": "execute_result",
     "data": {
      "text/plain": [
       "                      District       Year   Month Persons State\n",
       "0         LAKSHADWEEP DISTRICT  2013-2014   April     410    LD\n",
       "1         LAKSHADWEEP DISTRICT  2013-2014     May     104    LD\n",
       "2         LAKSHADWEEP DISTRICT  2013-2014    June     192    LD\n",
       "3         LAKSHADWEEP DISTRICT  2013-2014    July      38    LD\n",
       "4         LAKSHADWEEP DISTRICT  2013-2014  August      52    LD\n",
       "..                         ...        ...     ...     ...   ...\n",
       "235          PASCHIM BARDHAMAN  2016-2017   March  467093    WB\n",
       "236          PASCHIM MEDINIPUR  2016-2017   March  361381    WB\n",
       "237            PURBA MEDINIPUR  2016-2017   March  238425    WB\n",
       "238                    PURULIA  2016-2017   March   64213    WB\n",
       "239  SILIGURI MAHAKUMA PARISAD  2016-2017   March   10310    WB\n",
       "\n",
       "[39588 rows x 5 columns]"
      ],
      "text/html": "<div>\n<style scoped>\n    .dataframe tbody tr th:only-of-type {\n        vertical-align: middle;\n    }\n\n    .dataframe tbody tr th {\n        vertical-align: top;\n    }\n\n    .dataframe thead th {\n        text-align: right;\n    }\n</style>\n<table border=\"1\" class=\"dataframe\">\n  <thead>\n    <tr style=\"text-align: right;\">\n      <th></th>\n      <th>District</th>\n      <th>Year</th>\n      <th>Month</th>\n      <th>Persons</th>\n      <th>State</th>\n    </tr>\n  </thead>\n  <tbody>\n    <tr>\n      <th>0</th>\n      <td>LAKSHADWEEP DISTRICT</td>\n      <td>2013-2014</td>\n      <td>April</td>\n      <td>410</td>\n      <td>LD</td>\n    </tr>\n    <tr>\n      <th>1</th>\n      <td>LAKSHADWEEP DISTRICT</td>\n      <td>2013-2014</td>\n      <td>May</td>\n      <td>104</td>\n      <td>LD</td>\n    </tr>\n    <tr>\n      <th>2</th>\n      <td>LAKSHADWEEP DISTRICT</td>\n      <td>2013-2014</td>\n      <td>June</td>\n      <td>192</td>\n      <td>LD</td>\n    </tr>\n    <tr>\n      <th>3</th>\n      <td>LAKSHADWEEP DISTRICT</td>\n      <td>2013-2014</td>\n      <td>July</td>\n      <td>38</td>\n      <td>LD</td>\n    </tr>\n    <tr>\n      <th>4</th>\n      <td>LAKSHADWEEP DISTRICT</td>\n      <td>2013-2014</td>\n      <td>August</td>\n      <td>52</td>\n      <td>LD</td>\n    </tr>\n    <tr>\n      <th>...</th>\n      <td>...</td>\n      <td>...</td>\n      <td>...</td>\n      <td>...</td>\n      <td>...</td>\n    </tr>\n    <tr>\n      <th>235</th>\n      <td>PASCHIM BARDHAMAN</td>\n      <td>2016-2017</td>\n      <td>March</td>\n      <td>467093</td>\n      <td>WB</td>\n    </tr>\n    <tr>\n      <th>236</th>\n      <td>PASCHIM MEDINIPUR</td>\n      <td>2016-2017</td>\n      <td>March</td>\n      <td>361381</td>\n      <td>WB</td>\n    </tr>\n    <tr>\n      <th>237</th>\n      <td>PURBA MEDINIPUR</td>\n      <td>2016-2017</td>\n      <td>March</td>\n      <td>238425</td>\n      <td>WB</td>\n    </tr>\n    <tr>\n      <th>238</th>\n      <td>PURULIA</td>\n      <td>2016-2017</td>\n      <td>March</td>\n      <td>64213</td>\n      <td>WB</td>\n    </tr>\n    <tr>\n      <th>239</th>\n      <td>SILIGURI MAHAKUMA PARISAD</td>\n      <td>2016-2017</td>\n      <td>March</td>\n      <td>10310</td>\n      <td>WB</td>\n    </tr>\n  </tbody>\n</table>\n<p>39588 rows × 5 columns</p>\n</div>"
     },
     "metadata": {},
     "execution_count": 116
    }
   ],
   "source": [
    "main_dir='C:\\\\Users\\\\akhil\\\\Downloads\\\\nrega_state_16-17-final'\n",
    "os.chdir(main_dir)\n",
    "folders_in_nrega=os.listdir()\n",
    "for folder in folders_in_nrega:\n",
    "    os.chdir(main_dir)\n",
    "    state_dir=os.path.join(main_dir,folder)\n",
    "    print(state_dir)\n",
    "    os.chdir(state_dir)\n",
    "    files=os.listdir()\n",
    "    for f in files:\n",
    "        try:\n",
    "            df=pd.read_excel(f)  \n",
    "            df=process_2(df,f,folder)\n",
    "            final_data_second=final_data_second.append(df,sort=False)\n",
    "            print(f)\n",
    "        except:\n",
    "            continue\n",
    "final_data_second"
   ]
  },
  {
   "cell_type": "code",
   "execution_count": 118,
   "metadata": {},
   "outputs": [
    {
     "output_type": "execute_result",
     "data": {
      "text/plain": [
       "                      District       Year  Month Persons State\n",
       "0                     NICOBARS  2013-2014  April     556    AN\n",
       "1     NORTH AND MIDDLE ANDAMAN  2013-2014  April    4398    AN\n",
       "2                SOUTH ANDAMAN  2013-2014  April     579    AN\n",
       "3                     NICOBARS  2013-2014    May     449    AN\n",
       "4     NORTH AND MIDDLE ANDAMAN  2013-2014    May    2443    AN\n",
       "..                         ...        ...    ...     ...   ...\n",
       "235          PASCHIM BARDHAMAN  2016-2017  March  467093    WB\n",
       "236          PASCHIM MEDINIPUR  2016-2017  March  361381    WB\n",
       "237            PURBA MEDINIPUR  2016-2017  March  238425    WB\n",
       "238                    PURULIA  2016-2017  March   64213    WB\n",
       "239  SILIGURI MAHAKUMA PARISAD  2016-2017  March   10310    WB\n",
       "\n",
       "[63516 rows x 5 columns]"
      ],
      "text/html": "<div>\n<style scoped>\n    .dataframe tbody tr th:only-of-type {\n        vertical-align: middle;\n    }\n\n    .dataframe tbody tr th {\n        vertical-align: top;\n    }\n\n    .dataframe thead th {\n        text-align: right;\n    }\n</style>\n<table border=\"1\" class=\"dataframe\">\n  <thead>\n    <tr style=\"text-align: right;\">\n      <th></th>\n      <th>District</th>\n      <th>Year</th>\n      <th>Month</th>\n      <th>Persons</th>\n      <th>State</th>\n    </tr>\n  </thead>\n  <tbody>\n    <tr>\n      <th>0</th>\n      <td>NICOBARS</td>\n      <td>2013-2014</td>\n      <td>April</td>\n      <td>556</td>\n      <td>AN</td>\n    </tr>\n    <tr>\n      <th>1</th>\n      <td>NORTH AND MIDDLE ANDAMAN</td>\n      <td>2013-2014</td>\n      <td>April</td>\n      <td>4398</td>\n      <td>AN</td>\n    </tr>\n    <tr>\n      <th>2</th>\n      <td>SOUTH ANDAMAN</td>\n      <td>2013-2014</td>\n      <td>April</td>\n      <td>579</td>\n      <td>AN</td>\n    </tr>\n    <tr>\n      <th>3</th>\n      <td>NICOBARS</td>\n      <td>2013-2014</td>\n      <td>May</td>\n      <td>449</td>\n      <td>AN</td>\n    </tr>\n    <tr>\n      <th>4</th>\n      <td>NORTH AND MIDDLE ANDAMAN</td>\n      <td>2013-2014</td>\n      <td>May</td>\n      <td>2443</td>\n      <td>AN</td>\n    </tr>\n    <tr>\n      <th>...</th>\n      <td>...</td>\n      <td>...</td>\n      <td>...</td>\n      <td>...</td>\n      <td>...</td>\n    </tr>\n    <tr>\n      <th>235</th>\n      <td>PASCHIM BARDHAMAN</td>\n      <td>2016-2017</td>\n      <td>March</td>\n      <td>467093</td>\n      <td>WB</td>\n    </tr>\n    <tr>\n      <th>236</th>\n      <td>PASCHIM MEDINIPUR</td>\n      <td>2016-2017</td>\n      <td>March</td>\n      <td>361381</td>\n      <td>WB</td>\n    </tr>\n    <tr>\n      <th>237</th>\n      <td>PURBA MEDINIPUR</td>\n      <td>2016-2017</td>\n      <td>March</td>\n      <td>238425</td>\n      <td>WB</td>\n    </tr>\n    <tr>\n      <th>238</th>\n      <td>PURULIA</td>\n      <td>2016-2017</td>\n      <td>March</td>\n      <td>64213</td>\n      <td>WB</td>\n    </tr>\n    <tr>\n      <th>239</th>\n      <td>SILIGURI MAHAKUMA PARISAD</td>\n      <td>2016-2017</td>\n      <td>March</td>\n      <td>10310</td>\n      <td>WB</td>\n    </tr>\n  </tbody>\n</table>\n<p>63516 rows × 5 columns</p>\n</div>"
     },
     "metadata": {},
     "execution_count": 118
    }
   ],
   "source": [
    "final_data1=final_data.append(final_data_second,sort=False)\n",
    "final_data1"
   ]
  },
  {
   "cell_type": "code",
   "execution_count": 122,
   "metadata": {},
   "outputs": [],
   "source": [
    "final_data1=final_data1.sort_values(by=['State','District'])"
   ]
  },
  {
   "cell_type": "code",
   "execution_count": 123,
   "metadata": {},
   "outputs": [],
   "source": [
    "final_data1.to_excel('MNREGA_Panel_data.xlsx')"
   ]
  },
  {
   "cell_type": "code",
   "execution_count": 144,
   "metadata": {},
   "outputs": [
    {
     "output_type": "stream",
     "name": "stdout",
     "text": [
      "Not Needed\n"
     ]
    }
   ],
   "source": [
    "\n",
    "\"\"\"\n",
    "df_new=pd.DataFrame()\n",
    "os.chdir(main_dir)\n",
    "for folder in ['KL']:\n",
    "    state_dir=os.path.join(main_dir,folder)\n",
    "    print(state_dir)\n",
    "    os.chdir(state_dir)\n",
    "    files=os.listdir()\n",
    "    for f in files:\n",
    "        try:\n",
    "            df=pd.read_excel(f)  \n",
    "            df=process(df,f,folder)\n",
    "            df_new=df_new.append(df,sort=False)\n",
    "            print(f) \n",
    "        except:\n",
    "            continue  \n",
    "\"\"\"\n",
    "print('Not Needed')"
   ]
  },
  {
   "cell_type": "code",
   "execution_count": 124,
   "metadata": {},
   "outputs": [
    {
     "output_type": "execute_result",
     "data": {
      "text/plain": [
       "'C:\\\\Users\\\\akhil\\\\Downloads\\\\nrega_state_first_back_up\\\\LD'"
      ]
     },
     "metadata": {},
     "execution_count": 124
    }
   ],
   "source": [
    "os.getcwd()"
   ]
  },
  {
   "cell_type": "code",
   "execution_count": 6,
   "metadata": {},
   "outputs": [],
   "source": [
    "main_dir='C:\\\\Users\\\\akhil\\\\Downloads'\n",
    "os.chdir(main_dir)\n",
    "df=pd.read_excel('MNREGA_Panel_data.xlsx')\n",
    "df.Persons=df.Persons.apply(int)"
   ]
  },
  {
   "cell_type": "code",
   "execution_count": 128,
   "metadata": {},
   "outputs": [],
   "source": [
    "df.to_excel('MNREGA_Panel_data.xlsx')"
   ]
  },
  {
   "cell_type": "code",
   "execution_count": 145,
   "metadata": {},
   "outputs": [],
   "source": [
    "import pandas as pd"
   ]
  },
  {
   "cell_type": "code",
   "execution_count": 7,
   "metadata": {},
   "outputs": [],
   "source": [
    "districts_df=df[['District','State']].drop_duplicates()"
   ]
  },
  {
   "cell_type": "code",
   "execution_count": 137,
   "metadata": {},
   "outputs": [
    {
     "output_type": "execute_result",
     "data": {
      "text/plain": [
       "                        District State                          uid\n",
       "0                       NICOBARS    AN                   NICOBARSAN\n",
       "96      NORTH AND MIDDLE ANDAMAN    AN   NORTH AND MIDDLE ANDAMANAN\n",
       "192                SOUTH ANDAMAN    AN              SOUTH ANDAMANAN\n",
       "288                     ADILABAD    AP                   ADILABADAP\n",
       "300                    ANANTAPUR    AP                  ANANTAPURAP\n",
       "...                          ...   ...                          ...\n",
       "63144          PASCHIM MEDINIPUR    WB          PASCHIM MEDINIPURWB\n",
       "63228            PURBA BARDHAMAN    WB            PURBA BARDHAMANWB\n",
       "63264            PURBA MEDINIPUR    WB            PURBA MEDINIPURWB\n",
       "63348                    PURULIA    WB                    PURULIAWB\n",
       "63432  SILIGURI MAHAKUMA PARISAD    WB  SILIGURI MAHAKUMA PARISADWB\n",
       "\n",
       "[738 rows x 3 columns]"
      ],
      "text/html": "<div>\n<style scoped>\n    .dataframe tbody tr th:only-of-type {\n        vertical-align: middle;\n    }\n\n    .dataframe tbody tr th {\n        vertical-align: top;\n    }\n\n    .dataframe thead th {\n        text-align: right;\n    }\n</style>\n<table border=\"1\" class=\"dataframe\">\n  <thead>\n    <tr style=\"text-align: right;\">\n      <th></th>\n      <th>District</th>\n      <th>State</th>\n      <th>uid</th>\n    </tr>\n  </thead>\n  <tbody>\n    <tr>\n      <th>0</th>\n      <td>NICOBARS</td>\n      <td>AN</td>\n      <td>NICOBARSAN</td>\n    </tr>\n    <tr>\n      <th>96</th>\n      <td>NORTH AND MIDDLE ANDAMAN</td>\n      <td>AN</td>\n      <td>NORTH AND MIDDLE ANDAMANAN</td>\n    </tr>\n    <tr>\n      <th>192</th>\n      <td>SOUTH ANDAMAN</td>\n      <td>AN</td>\n      <td>SOUTH ANDAMANAN</td>\n    </tr>\n    <tr>\n      <th>288</th>\n      <td>ADILABAD</td>\n      <td>AP</td>\n      <td>ADILABADAP</td>\n    </tr>\n    <tr>\n      <th>300</th>\n      <td>ANANTAPUR</td>\n      <td>AP</td>\n      <td>ANANTAPURAP</td>\n    </tr>\n    <tr>\n      <th>...</th>\n      <td>...</td>\n      <td>...</td>\n      <td>...</td>\n    </tr>\n    <tr>\n      <th>63144</th>\n      <td>PASCHIM MEDINIPUR</td>\n      <td>WB</td>\n      <td>PASCHIM MEDINIPURWB</td>\n    </tr>\n    <tr>\n      <th>63228</th>\n      <td>PURBA BARDHAMAN</td>\n      <td>WB</td>\n      <td>PURBA BARDHAMANWB</td>\n    </tr>\n    <tr>\n      <th>63264</th>\n      <td>PURBA MEDINIPUR</td>\n      <td>WB</td>\n      <td>PURBA MEDINIPURWB</td>\n    </tr>\n    <tr>\n      <th>63348</th>\n      <td>PURULIA</td>\n      <td>WB</td>\n      <td>PURULIAWB</td>\n    </tr>\n    <tr>\n      <th>63432</th>\n      <td>SILIGURI MAHAKUMA PARISAD</td>\n      <td>WB</td>\n      <td>SILIGURI MAHAKUMA PARISADWB</td>\n    </tr>\n  </tbody>\n</table>\n<p>738 rows × 3 columns</p>\n</div>"
     },
     "metadata": {},
     "execution_count": 137
    }
   ],
   "source": [
    "districts_df['uid']=districts_df['District']+districts_df['State']\n",
    "districts_df"
   ]
  },
  {
   "cell_type": "code",
   "execution_count": 138,
   "metadata": {},
   "outputs": [],
   "source": [
    "border_df=pd.read_csv('districts_correct.csv')\n",
    "border_df\n",
    "border_df['uid']=border_df['district']+border_df['states']"
   ]
  },
  {
   "cell_type": "code",
   "execution_count": 150,
   "metadata": {},
   "outputs": [],
   "source": [
    "border_df.merge(districts_df,on='uid',how='outer').dropna(subset=['district']).to_csv('merged_file.csv')"
   ]
  },
  {
   "cell_type": "code",
   "execution_count": 140,
   "metadata": {},
   "outputs": [],
   "source": [
    "districts_df.to_csv('740_list.csv')"
   ]
  },
  {
   "cell_type": "code",
   "execution_count": 147,
   "metadata": {},
   "outputs": [
    {
     "output_type": "execute_result",
     "data": {
      "text/plain": [
       "    states                    district  border  AN  AP  AR  AS  BR  CG  CH  \\\n",
       "0       AN                    NICOBARS       0   0   0   0   0   0   0   0   \n",
       "1       AN      NORTH & MIDDLE ANDAMAN       0   0   0   0   0   0   0   0   \n",
       "2       AN               SOUTH ANDAMAN       0   0   0   0   0   0   0   0   \n",
       "3       AP                   ANANTAPUR       1   0   1   0   0   0   0   0   \n",
       "4       AP                    CHITTOOR       1   0   1   0   0   0   0   0   \n",
       "..     ...                         ...     ...  ..  ..  ..  ..  ..  ..  ..   \n",
       "654     WB           PASCHIM MEDINIPUR       1   0   0   0   0   0   0   0   \n",
       "655     WB             PURBA MEDINIPUR       1   0   0   0   0   0   0   0   \n",
       "656     WB                    PURULIYA       1   0   0   0   0   0   0   0   \n",
       "657     WB  SOUTH TWENTY FOUR PARGANAS       0   0   0   0   0   0   0   0   \n",
       "658     WB              UTTAR DINAJPUR       1   0   0   0   0   1   0   0   \n",
       "\n",
       "     ...  RJ  SK  TN  TR  TS  UK  UP  WB  Unnamed: 39  \\\n",
       "0    ...   0   0   0   0   0   0   0   0            0   \n",
       "1    ...   0   0   0   0   0   0   0   0            1   \n",
       "2    ...   0   0   0   0   0   0   0   0            2   \n",
       "3    ...   0   0   0   0   0   0   0   0            3   \n",
       "4    ...   0   0   1   0   0   0   0   0            4   \n",
       "..   ...  ..  ..  ..  ..  ..  ..  ..  ..          ...   \n",
       "654  ...   0   0   0   0   0   0   0   1          654   \n",
       "655  ...   0   0   0   0   0   0   0   1          655   \n",
       "656  ...   0   0   0   0   0   0   0   1          656   \n",
       "657  ...   0   0   0   0   0   0   0   0          657   \n",
       "658  ...   0   0   0   0   0   0   0   1          658   \n",
       "\n",
       "                              uid  \n",
       "0                      NICOBARSAN  \n",
       "1        NORTH & MIDDLE ANDAMANAN  \n",
       "2                 SOUTH ANDAMANAN  \n",
       "3                     ANANTAPURAP  \n",
       "4                      CHITTOORAP  \n",
       "..                            ...  \n",
       "654           PASCHIM MEDINIPURWB  \n",
       "655             PURBA MEDINIPURWB  \n",
       "656                    PURULIYAWB  \n",
       "657  SOUTH TWENTY FOUR PARGANASWB  \n",
       "658              UTTAR DINAJPURWB  \n",
       "\n",
       "[659 rows x 41 columns]"
      ],
      "text/html": "<div>\n<style scoped>\n    .dataframe tbody tr th:only-of-type {\n        vertical-align: middle;\n    }\n\n    .dataframe tbody tr th {\n        vertical-align: top;\n    }\n\n    .dataframe thead th {\n        text-align: right;\n    }\n</style>\n<table border=\"1\" class=\"dataframe\">\n  <thead>\n    <tr style=\"text-align: right;\">\n      <th></th>\n      <th>states</th>\n      <th>district</th>\n      <th>border</th>\n      <th>AN</th>\n      <th>AP</th>\n      <th>AR</th>\n      <th>AS</th>\n      <th>BR</th>\n      <th>CG</th>\n      <th>CH</th>\n      <th>...</th>\n      <th>RJ</th>\n      <th>SK</th>\n      <th>TN</th>\n      <th>TR</th>\n      <th>TS</th>\n      <th>UK</th>\n      <th>UP</th>\n      <th>WB</th>\n      <th>Unnamed: 39</th>\n      <th>uid</th>\n    </tr>\n  </thead>\n  <tbody>\n    <tr>\n      <th>0</th>\n      <td>AN</td>\n      <td>NICOBARS</td>\n      <td>0</td>\n      <td>0</td>\n      <td>0</td>\n      <td>0</td>\n      <td>0</td>\n      <td>0</td>\n      <td>0</td>\n      <td>0</td>\n      <td>...</td>\n      <td>0</td>\n      <td>0</td>\n      <td>0</td>\n      <td>0</td>\n      <td>0</td>\n      <td>0</td>\n      <td>0</td>\n      <td>0</td>\n      <td>0</td>\n      <td>NICOBARSAN</td>\n    </tr>\n    <tr>\n      <th>1</th>\n      <td>AN</td>\n      <td>NORTH &amp; MIDDLE ANDAMAN</td>\n      <td>0</td>\n      <td>0</td>\n      <td>0</td>\n      <td>0</td>\n      <td>0</td>\n      <td>0</td>\n      <td>0</td>\n      <td>0</td>\n      <td>...</td>\n      <td>0</td>\n      <td>0</td>\n      <td>0</td>\n      <td>0</td>\n      <td>0</td>\n      <td>0</td>\n      <td>0</td>\n      <td>0</td>\n      <td>1</td>\n      <td>NORTH &amp; MIDDLE ANDAMANAN</td>\n    </tr>\n    <tr>\n      <th>2</th>\n      <td>AN</td>\n      <td>SOUTH ANDAMAN</td>\n      <td>0</td>\n      <td>0</td>\n      <td>0</td>\n      <td>0</td>\n      <td>0</td>\n      <td>0</td>\n      <td>0</td>\n      <td>0</td>\n      <td>...</td>\n      <td>0</td>\n      <td>0</td>\n      <td>0</td>\n      <td>0</td>\n      <td>0</td>\n      <td>0</td>\n      <td>0</td>\n      <td>0</td>\n      <td>2</td>\n      <td>SOUTH ANDAMANAN</td>\n    </tr>\n    <tr>\n      <th>3</th>\n      <td>AP</td>\n      <td>ANANTAPUR</td>\n      <td>1</td>\n      <td>0</td>\n      <td>1</td>\n      <td>0</td>\n      <td>0</td>\n      <td>0</td>\n      <td>0</td>\n      <td>0</td>\n      <td>...</td>\n      <td>0</td>\n      <td>0</td>\n      <td>0</td>\n      <td>0</td>\n      <td>0</td>\n      <td>0</td>\n      <td>0</td>\n      <td>0</td>\n      <td>3</td>\n      <td>ANANTAPURAP</td>\n    </tr>\n    <tr>\n      <th>4</th>\n      <td>AP</td>\n      <td>CHITTOOR</td>\n      <td>1</td>\n      <td>0</td>\n      <td>1</td>\n      <td>0</td>\n      <td>0</td>\n      <td>0</td>\n      <td>0</td>\n      <td>0</td>\n      <td>...</td>\n      <td>0</td>\n      <td>0</td>\n      <td>1</td>\n      <td>0</td>\n      <td>0</td>\n      <td>0</td>\n      <td>0</td>\n      <td>0</td>\n      <td>4</td>\n      <td>CHITTOORAP</td>\n    </tr>\n    <tr>\n      <th>...</th>\n      <td>...</td>\n      <td>...</td>\n      <td>...</td>\n      <td>...</td>\n      <td>...</td>\n      <td>...</td>\n      <td>...</td>\n      <td>...</td>\n      <td>...</td>\n      <td>...</td>\n      <td>...</td>\n      <td>...</td>\n      <td>...</td>\n      <td>...</td>\n      <td>...</td>\n      <td>...</td>\n      <td>...</td>\n      <td>...</td>\n      <td>...</td>\n      <td>...</td>\n      <td>...</td>\n    </tr>\n    <tr>\n      <th>654</th>\n      <td>WB</td>\n      <td>PASCHIM MEDINIPUR</td>\n      <td>1</td>\n      <td>0</td>\n      <td>0</td>\n      <td>0</td>\n      <td>0</td>\n      <td>0</td>\n      <td>0</td>\n      <td>0</td>\n      <td>...</td>\n      <td>0</td>\n      <td>0</td>\n      <td>0</td>\n      <td>0</td>\n      <td>0</td>\n      <td>0</td>\n      <td>0</td>\n      <td>1</td>\n      <td>654</td>\n      <td>PASCHIM MEDINIPURWB</td>\n    </tr>\n    <tr>\n      <th>655</th>\n      <td>WB</td>\n      <td>PURBA MEDINIPUR</td>\n      <td>1</td>\n      <td>0</td>\n      <td>0</td>\n      <td>0</td>\n      <td>0</td>\n      <td>0</td>\n      <td>0</td>\n      <td>0</td>\n      <td>...</td>\n      <td>0</td>\n      <td>0</td>\n      <td>0</td>\n      <td>0</td>\n      <td>0</td>\n      <td>0</td>\n      <td>0</td>\n      <td>1</td>\n      <td>655</td>\n      <td>PURBA MEDINIPURWB</td>\n    </tr>\n    <tr>\n      <th>656</th>\n      <td>WB</td>\n      <td>PURULIYA</td>\n      <td>1</td>\n      <td>0</td>\n      <td>0</td>\n      <td>0</td>\n      <td>0</td>\n      <td>0</td>\n      <td>0</td>\n      <td>0</td>\n      <td>...</td>\n      <td>0</td>\n      <td>0</td>\n      <td>0</td>\n      <td>0</td>\n      <td>0</td>\n      <td>0</td>\n      <td>0</td>\n      <td>1</td>\n      <td>656</td>\n      <td>PURULIYAWB</td>\n    </tr>\n    <tr>\n      <th>657</th>\n      <td>WB</td>\n      <td>SOUTH TWENTY FOUR PARGANAS</td>\n      <td>0</td>\n      <td>0</td>\n      <td>0</td>\n      <td>0</td>\n      <td>0</td>\n      <td>0</td>\n      <td>0</td>\n      <td>0</td>\n      <td>...</td>\n      <td>0</td>\n      <td>0</td>\n      <td>0</td>\n      <td>0</td>\n      <td>0</td>\n      <td>0</td>\n      <td>0</td>\n      <td>0</td>\n      <td>657</td>\n      <td>SOUTH TWENTY FOUR PARGANASWB</td>\n    </tr>\n    <tr>\n      <th>658</th>\n      <td>WB</td>\n      <td>UTTAR DINAJPUR</td>\n      <td>1</td>\n      <td>0</td>\n      <td>0</td>\n      <td>0</td>\n      <td>0</td>\n      <td>1</td>\n      <td>0</td>\n      <td>0</td>\n      <td>...</td>\n      <td>0</td>\n      <td>0</td>\n      <td>0</td>\n      <td>0</td>\n      <td>0</td>\n      <td>0</td>\n      <td>0</td>\n      <td>1</td>\n      <td>658</td>\n      <td>UTTAR DINAJPURWB</td>\n    </tr>\n  </tbody>\n</table>\n<p>659 rows × 41 columns</p>\n</div>"
     },
     "metadata": {},
     "execution_count": 147
    }
   ],
   "source": [
    "border_df"
   ]
  },
  {
   "cell_type": "code",
   "execution_count": 9,
   "metadata": {},
   "outputs": [],
   "source": [
    "import pandas as pd\n",
    "import os\n",
    "main_dir='C:\\\\Users\\\\akhil\\\\Downloads'\n",
    "os.chdir(main_dir)\n",
    "df=pd.read_csv('merged_file (1).csv')\n",
    "#df.District.value_counts()"
   ]
  },
  {
   "cell_type": "code",
   "execution_count": 12,
   "metadata": {},
   "outputs": [],
   "source": [
    "df['uid2']=df['District_as_in_mnrega']+df['State_as_in_MNREGA']\n",
    "districts_df['uid2']=districts_df['District']+districts_df['State']"
   ]
  },
  {
   "cell_type": "code",
   "execution_count": 13,
   "metadata": {},
   "outputs": [
    {
     "output_type": "execute_result",
     "data": {
      "text/plain": [
       "     Unnamed: 0 states                    district  border  AN  AP  AR  AS  \\\n",
       "0             0     AN                    NICOBARS       0   0   0   0   0   \n",
       "1             1     AN      NORTH & MIDDLE ANDAMAN       0   0   0   0   0   \n",
       "2             2     AN               SOUTH ANDAMAN       0   0   0   0   0   \n",
       "3             3     AP                   ANANTAPUR       1   0   1   0   0   \n",
       "4             4     AP                    CHITTOOR       1   0   1   0   0   \n",
       "..          ...    ...                         ...     ...  ..  ..  ..  ..   \n",
       "621         654     WB           PASCHIM MEDINIPUR       1   0   0   0   0   \n",
       "622         655     WB             PURBA MEDINIPUR       1   0   0   0   0   \n",
       "623         656     WB                    PURULIYA       1   0   0   0   0   \n",
       "624         657     WB  SOUTH TWENTY FOUR PARGANAS       0   0   0   0   0   \n",
       "625         658     WB              UTTAR DINAJPUR       1   0   0   0   0   \n",
       "\n",
       "     BR  CG  ...  UK  UP  WB  Unnamed: 39                           uid  \\\n",
       "0     0   0  ...   0   0   0            0                    NICOBARSAN   \n",
       "1     0   0  ...   0   0   0            1      NORTH & MIDDLE ANDAMANAN   \n",
       "2     0   0  ...   0   0   0            2               SOUTH ANDAMANAN   \n",
       "3     0   0  ...   0   0   0            3                   ANANTAPURAP   \n",
       "4     0   0  ...   0   0   0            4                    CHITTOORAP   \n",
       "..   ..  ..  ...  ..  ..  ..          ...                           ...   \n",
       "621   0   0  ...   0   0   1          654           PASCHIM MEDINIPURWB   \n",
       "622   0   0  ...   0   0   1          655             PURBA MEDINIPURWB   \n",
       "623   0   0  ...   0   0   1          656                    PURULIYAWB   \n",
       "624   0   0  ...   0   0   0          657  SOUTH TWENTY FOUR PARGANASWB   \n",
       "625   1   0  ...   0   0   1          658              UTTAR DINAJPURWB   \n",
       "\n",
       "        District_as_in_mnrega  State_as_in_MNREGA                        uid2  \\\n",
       "0                    NICOBARS                  AN                  NICOBARSAN   \n",
       "1    NORTH AND MIDDLE ANDAMAN                  AN  NORTH AND MIDDLE ANDAMANAN   \n",
       "2               SOUTH ANDAMAN                  AN             SOUTH ANDAMANAN   \n",
       "3                   ANANTAPUR                  AP                 ANANTAPURAP   \n",
       "4                    CHITTOOR                  AP                  CHITTOORAP   \n",
       "..                        ...                 ...                         ...   \n",
       "621         PASCHIM MEDINIPUR                  WB         PASCHIM MEDINIPURWB   \n",
       "622           PURBA MEDINIPUR                  WB           PURBA MEDINIPURWB   \n",
       "623                   PURULIA                  WB                   PURULIAWB   \n",
       "624         24 PARGANAS SOUTH                  WB         24 PARGANAS SOUTHWB   \n",
       "625            DINAJPUR UTTAR                  WB            DINAJPUR UTTARWB   \n",
       "\n",
       "                     District  State  \n",
       "0                    NICOBARS     AN  \n",
       "1    NORTH AND MIDDLE ANDAMAN     AN  \n",
       "2               SOUTH ANDAMAN     AN  \n",
       "3                   ANANTAPUR     AP  \n",
       "4                    CHITTOOR     AP  \n",
       "..                        ...    ...  \n",
       "621         PASCHIM MEDINIPUR     WB  \n",
       "622           PURBA MEDINIPUR     WB  \n",
       "623                   PURULIA     WB  \n",
       "624         24 PARGANAS SOUTH     WB  \n",
       "625            DINAJPUR UTTAR     WB  \n",
       "\n",
       "[626 rows x 47 columns]"
      ],
      "text/html": "<div>\n<style scoped>\n    .dataframe tbody tr th:only-of-type {\n        vertical-align: middle;\n    }\n\n    .dataframe tbody tr th {\n        vertical-align: top;\n    }\n\n    .dataframe thead th {\n        text-align: right;\n    }\n</style>\n<table border=\"1\" class=\"dataframe\">\n  <thead>\n    <tr style=\"text-align: right;\">\n      <th></th>\n      <th>Unnamed: 0</th>\n      <th>states</th>\n      <th>district</th>\n      <th>border</th>\n      <th>AN</th>\n      <th>AP</th>\n      <th>AR</th>\n      <th>AS</th>\n      <th>BR</th>\n      <th>CG</th>\n      <th>...</th>\n      <th>UK</th>\n      <th>UP</th>\n      <th>WB</th>\n      <th>Unnamed: 39</th>\n      <th>uid</th>\n      <th>District_as_in_mnrega</th>\n      <th>State_as_in_MNREGA</th>\n      <th>uid2</th>\n      <th>District</th>\n      <th>State</th>\n    </tr>\n  </thead>\n  <tbody>\n    <tr>\n      <th>0</th>\n      <td>0</td>\n      <td>AN</td>\n      <td>NICOBARS</td>\n      <td>0</td>\n      <td>0</td>\n      <td>0</td>\n      <td>0</td>\n      <td>0</td>\n      <td>0</td>\n      <td>0</td>\n      <td>...</td>\n      <td>0</td>\n      <td>0</td>\n      <td>0</td>\n      <td>0</td>\n      <td>NICOBARSAN</td>\n      <td>NICOBARS</td>\n      <td>AN</td>\n      <td>NICOBARSAN</td>\n      <td>NICOBARS</td>\n      <td>AN</td>\n    </tr>\n    <tr>\n      <th>1</th>\n      <td>1</td>\n      <td>AN</td>\n      <td>NORTH &amp; MIDDLE ANDAMAN</td>\n      <td>0</td>\n      <td>0</td>\n      <td>0</td>\n      <td>0</td>\n      <td>0</td>\n      <td>0</td>\n      <td>0</td>\n      <td>...</td>\n      <td>0</td>\n      <td>0</td>\n      <td>0</td>\n      <td>1</td>\n      <td>NORTH &amp; MIDDLE ANDAMANAN</td>\n      <td>NORTH AND MIDDLE ANDAMAN</td>\n      <td>AN</td>\n      <td>NORTH AND MIDDLE ANDAMANAN</td>\n      <td>NORTH AND MIDDLE ANDAMAN</td>\n      <td>AN</td>\n    </tr>\n    <tr>\n      <th>2</th>\n      <td>2</td>\n      <td>AN</td>\n      <td>SOUTH ANDAMAN</td>\n      <td>0</td>\n      <td>0</td>\n      <td>0</td>\n      <td>0</td>\n      <td>0</td>\n      <td>0</td>\n      <td>0</td>\n      <td>...</td>\n      <td>0</td>\n      <td>0</td>\n      <td>0</td>\n      <td>2</td>\n      <td>SOUTH ANDAMANAN</td>\n      <td>SOUTH ANDAMAN</td>\n      <td>AN</td>\n      <td>SOUTH ANDAMANAN</td>\n      <td>SOUTH ANDAMAN</td>\n      <td>AN</td>\n    </tr>\n    <tr>\n      <th>3</th>\n      <td>3</td>\n      <td>AP</td>\n      <td>ANANTAPUR</td>\n      <td>1</td>\n      <td>0</td>\n      <td>1</td>\n      <td>0</td>\n      <td>0</td>\n      <td>0</td>\n      <td>0</td>\n      <td>...</td>\n      <td>0</td>\n      <td>0</td>\n      <td>0</td>\n      <td>3</td>\n      <td>ANANTAPURAP</td>\n      <td>ANANTAPUR</td>\n      <td>AP</td>\n      <td>ANANTAPURAP</td>\n      <td>ANANTAPUR</td>\n      <td>AP</td>\n    </tr>\n    <tr>\n      <th>4</th>\n      <td>4</td>\n      <td>AP</td>\n      <td>CHITTOOR</td>\n      <td>1</td>\n      <td>0</td>\n      <td>1</td>\n      <td>0</td>\n      <td>0</td>\n      <td>0</td>\n      <td>0</td>\n      <td>...</td>\n      <td>0</td>\n      <td>0</td>\n      <td>0</td>\n      <td>4</td>\n      <td>CHITTOORAP</td>\n      <td>CHITTOOR</td>\n      <td>AP</td>\n      <td>CHITTOORAP</td>\n      <td>CHITTOOR</td>\n      <td>AP</td>\n    </tr>\n    <tr>\n      <th>...</th>\n      <td>...</td>\n      <td>...</td>\n      <td>...</td>\n      <td>...</td>\n      <td>...</td>\n      <td>...</td>\n      <td>...</td>\n      <td>...</td>\n      <td>...</td>\n      <td>...</td>\n      <td>...</td>\n      <td>...</td>\n      <td>...</td>\n      <td>...</td>\n      <td>...</td>\n      <td>...</td>\n      <td>...</td>\n      <td>...</td>\n      <td>...</td>\n      <td>...</td>\n      <td>...</td>\n    </tr>\n    <tr>\n      <th>621</th>\n      <td>654</td>\n      <td>WB</td>\n      <td>PASCHIM MEDINIPUR</td>\n      <td>1</td>\n      <td>0</td>\n      <td>0</td>\n      <td>0</td>\n      <td>0</td>\n      <td>0</td>\n      <td>0</td>\n      <td>...</td>\n      <td>0</td>\n      <td>0</td>\n      <td>1</td>\n      <td>654</td>\n      <td>PASCHIM MEDINIPURWB</td>\n      <td>PASCHIM MEDINIPUR</td>\n      <td>WB</td>\n      <td>PASCHIM MEDINIPURWB</td>\n      <td>PASCHIM MEDINIPUR</td>\n      <td>WB</td>\n    </tr>\n    <tr>\n      <th>622</th>\n      <td>655</td>\n      <td>WB</td>\n      <td>PURBA MEDINIPUR</td>\n      <td>1</td>\n      <td>0</td>\n      <td>0</td>\n      <td>0</td>\n      <td>0</td>\n      <td>0</td>\n      <td>0</td>\n      <td>...</td>\n      <td>0</td>\n      <td>0</td>\n      <td>1</td>\n      <td>655</td>\n      <td>PURBA MEDINIPURWB</td>\n      <td>PURBA MEDINIPUR</td>\n      <td>WB</td>\n      <td>PURBA MEDINIPURWB</td>\n      <td>PURBA MEDINIPUR</td>\n      <td>WB</td>\n    </tr>\n    <tr>\n      <th>623</th>\n      <td>656</td>\n      <td>WB</td>\n      <td>PURULIYA</td>\n      <td>1</td>\n      <td>0</td>\n      <td>0</td>\n      <td>0</td>\n      <td>0</td>\n      <td>0</td>\n      <td>0</td>\n      <td>...</td>\n      <td>0</td>\n      <td>0</td>\n      <td>1</td>\n      <td>656</td>\n      <td>PURULIYAWB</td>\n      <td>PURULIA</td>\n      <td>WB</td>\n      <td>PURULIAWB</td>\n      <td>PURULIA</td>\n      <td>WB</td>\n    </tr>\n    <tr>\n      <th>624</th>\n      <td>657</td>\n      <td>WB</td>\n      <td>SOUTH TWENTY FOUR PARGANAS</td>\n      <td>0</td>\n      <td>0</td>\n      <td>0</td>\n      <td>0</td>\n      <td>0</td>\n      <td>0</td>\n      <td>0</td>\n      <td>...</td>\n      <td>0</td>\n      <td>0</td>\n      <td>0</td>\n      <td>657</td>\n      <td>SOUTH TWENTY FOUR PARGANASWB</td>\n      <td>24 PARGANAS SOUTH</td>\n      <td>WB</td>\n      <td>24 PARGANAS SOUTHWB</td>\n      <td>24 PARGANAS SOUTH</td>\n      <td>WB</td>\n    </tr>\n    <tr>\n      <th>625</th>\n      <td>658</td>\n      <td>WB</td>\n      <td>UTTAR DINAJPUR</td>\n      <td>1</td>\n      <td>0</td>\n      <td>0</td>\n      <td>0</td>\n      <td>0</td>\n      <td>1</td>\n      <td>0</td>\n      <td>...</td>\n      <td>0</td>\n      <td>0</td>\n      <td>1</td>\n      <td>658</td>\n      <td>UTTAR DINAJPURWB</td>\n      <td>DINAJPUR UTTAR</td>\n      <td>WB</td>\n      <td>DINAJPUR UTTARWB</td>\n      <td>DINAJPUR UTTAR</td>\n      <td>WB</td>\n    </tr>\n  </tbody>\n</table>\n<p>626 rows × 47 columns</p>\n</div>"
     },
     "metadata": {},
     "execution_count": 13
    }
   ],
   "source": []
  },
  {
   "cell_type": "code",
   "execution_count": null,
   "metadata": {},
   "outputs": [],
   "source": []
  }
 ]
}